{
 "cells": [
  {
   "cell_type": "markdown",
   "metadata": {},
   "source": [
    "# Python Lessons learnt"
   ]
  },
  {
   "cell_type": "code",
   "execution_count": 2,
   "metadata": {
    "collapsed": false
   },
   "outputs": [],
   "source": [
    "import datetime"
   ]
  },
  {
   "cell_type": "code",
   "execution_count": 3,
   "metadata": {
    "collapsed": false
   },
   "outputs": [
    {
     "data": {
      "text/plain": [
       "datetime.datetime(2016, 10, 6, 14, 19, 50, 798678)"
      ]
     },
     "execution_count": 3,
     "metadata": {},
     "output_type": "execute_result"
    }
   ],
   "source": [
    "datetime.datetime.now()"
   ]
  },
  {
   "cell_type": "code",
   "execution_count": null,
   "metadata": {
    "collapsed": true
   },
   "outputs": [],
   "source": [
    "df.loc[df['City'] == cty, 'County'] = county_dict[cty][0][0]"
   ]
  },
  {
   "cell_type": "markdown",
   "metadata": {},
   "source": [
    "1. Reference a column which has a certain value, then change the value of the corresponding row in a separate column"
   ]
  },
  {
   "cell_type": "code",
   "execution_count": null,
   "metadata": {
    "collapsed": true
   },
   "outputs": [],
   "source": [
    "df.pivot_table(index = \"Group\", aggfunc = (lambda x: len([i for i in x if i > 100])))"
   ]
  },
  {
   "cell_type": "markdown",
   "metadata": {},
   "source": [
    "2. Having a list comprehension within a lambda"
   ]
  },
  {
   "cell_type": "markdown",
   "metadata": {},
   "source": [
    "3. X input for linear regression in sklearn has to be a dataframe"
   ]
  },
  {
   "cell_type": "markdown",
   "metadata": {},
   "source": [
    "4. Best practice: Actual values on y-axis, predicted values on x-axies"
   ]
  },
  {
   "cell_type": "markdown",
   "metadata": {},
   "source": [
    "5. r2_score in sklearn regression is in the order of (y_true, y_pred)"
   ]
  },
  {
   "cell_type": "markdown",
   "metadata": {},
   "source": [
    "6. Seaborn regplot takes series as x and y inputs"
   ]
  },
  {
   "cell_type": "markdown",
   "metadata": {},
   "source": [
    "7. ax = sns.regplot(x=x, y=y, scatter_kws={\"s\": 200})\n",
    "\n",
    "To adjust size of marker in seaborn regplot, we need to call scatter_kws= {'s' = 200}"
   ]
  },
  {
   "cell_type": "markdown",
   "metadata": {},
   "source": [
    "8. To add to a dictionary, instead of using dict[k] = v, we can also use:\n",
    "\n",
<<<<<<< HEAD
<<<<<<< HEAD
    "dict.update({k : v})\n",
    "dict[k] = v"
=======
    "dict.update({k : v})"
>>>>>>> 4693801356c55c623f4e25600a66d7dd3ac7d988
=======
    "dict.update({k : v})"
>>>>>>> 4693801356c55c623f4e25600a66d7dd3ac7d988
   ]
  },
  {
   "cell_type": "markdown",
   "metadata": {},
   "source": []
  }
 ],
 "metadata": {
  "kernelspec": {
   "display_name": "Python [Root]",
   "language": "python",
   "name": "Python [Root]"
  },
  "language_info": {
   "codemirror_mode": {
    "name": "ipython",
    "version": 2
   },
   "file_extension": ".py",
   "mimetype": "text/x-python",
   "name": "python",
   "nbconvert_exporter": "python",
   "pygments_lexer": "ipython2",
   "version": "2.7.12"
  }
 },
 "nbformat": 4,
 "nbformat_minor": 0
}
