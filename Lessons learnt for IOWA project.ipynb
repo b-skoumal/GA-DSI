{
 "cells": [
  {
   "cell_type": "markdown",
   "metadata": {},
   "source": [
    "# Lessons learnt for IOWA project"
   ]
  },
  {
   "cell_type": "markdown",
   "metadata": {},
   "source": [
    "Think about exogenous factors affecting target first before diving into the data.\n",
    "\n",
    "1. Effects of adding a new store into the area\n",
    "    - Dilution of market share\n",
    "2. Risks and assumptions\n",
    "3. Should interogate data source to understand meaning of each column before EDA\n",
    "    - Turned out that price column was price to retailers, difference is the fixed profit for state\n",
    "4. Pop -up stores, stores which closed within the year\n",
    "5. Investigate consistency of profit (turned out to be 33% across, determined by the state)\n",
    "6. Unique items per store to determine store type (only include liquor stores?)\n",
    "7. Capping the bottles sold per transaction to under 25 (remove distributors)\n",
    "8. Can consider number of competitors, based on unique store numbers within location\n",
    "9. Types of city: college towns, suburbs, urban\n",
    "10. Popularity of liquor type\n",
    "11. Impact of market entry: potential loss of sales, average sales per store after entry\n",
    "12. Locations without liquor stores imply that there were zero competition\n",
    "13. Plot sales into geographical maps to glean possible interactions across boundaries\n",
    "\n",
    "\n",
    "Supplementary types of data\n",
    "1. Demographics\n",
    "2. Weather\n",
    "3. Income, employment\n",
    "4. Number of schools\n",
    "5. Breakdown market size by age, i.e. eligible age to apply for loan, university age (for student loan)\n",
    "6. Number of marriages, link to mortgage loans, renovation loan, baby loan?\n",
    "7. Location of casinos?\n",
    "8. Number of children in the family"
   ]
  },
  {
   "cell_type": "markdown",
   "metadata": {},
   "source": [
    "# Questions"
   ]
  },
  {
   "cell_type": "markdown",
   "metadata": {},
   "source": [
    "1. Prediction using quantity and price?\n",
    "2. Can we use location \"number\" into linear regression?\n",
    "3. Multi-collinearity? Creating new features using existing feature \n",
    "    - (Profit = Price - cost)\n",
    "    - (Sales = Price x Quantity)\n",
    "4. How to take into account exogenous factors which affect all locations across the board?"
   ]
  },
  {
   "cell_type": "code",
   "execution_count": null,
   "metadata": {
    "collapsed": true
   },
   "outputs": [],
   "source": []
  }
 ],
 "metadata": {
  "kernelspec": {
   "display_name": "Python [Root]",
   "language": "python",
   "name": "Python [Root]"
  },
  "language_info": {
   "codemirror_mode": {
    "name": "ipython",
    "version": 2
   },
   "file_extension": ".py",
   "mimetype": "text/x-python",
   "name": "python",
   "nbconvert_exporter": "python",
   "pygments_lexer": "ipython2",
   "version": "2.7.12"
  }
 },
 "nbformat": 4,
 "nbformat_minor": 0
}
