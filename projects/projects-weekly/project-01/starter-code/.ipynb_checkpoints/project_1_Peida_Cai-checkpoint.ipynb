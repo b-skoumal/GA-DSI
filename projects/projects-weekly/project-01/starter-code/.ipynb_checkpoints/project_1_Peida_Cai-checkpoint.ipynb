{
 "cells": [
  {
   "cell_type": "markdown",
   "metadata": {},
   "source": [
    "# Project 1\n",
    "\n",
    "## Step 1: Open the `sat_scores.csv` file. Investigate the data, and answer the questions below.\n"
   ]
  },
  {
   "cell_type": "code",
   "execution_count": 4,
   "metadata": {
    "collapsed": false
   },
   "outputs": [
    {
     "name": "stdout",
     "output_type": "stream",
     "text": [
      "0 ['State', 'Rate', 'Verbal', 'Math']\n",
      "1 ['CT', '82', '509', '510']\n",
      "2 ['NJ', '81', '499', '513']\n",
      "3 ['MA', '79', '511', '515']\n",
      "4 ['NY', '77', '495', '505']\n",
      "5 ['NH', '72', '520', '516']\n",
      "6 ['RI', '71', '501', '499']\n",
      "7 ['PA', '71', '500', '499']\n",
      "8 ['VT', '69', '511', '506']\n",
      "9 ['ME', '69', '506', '500']\n",
      "10 ['VA', '68', '510', '501']\n",
      "11 ['DE', '67', '501', '499']\n",
      "12 ['MD', '65', '508', '510']\n",
      "13 ['NC', '65', '493', '499']\n",
      "14 ['GA', '63', '491', '489']\n",
      "15 ['IN', '60', '499', '501']\n",
      "16 ['SC', '57', '486', '488']\n",
      "17 ['DC', '56', '482', '474']\n",
      "18 ['OR', '55', '526', '526']\n",
      "19 ['FL', '54', '498', '499']\n",
      "20 ['WA', '53', '527', '527']\n",
      "21 ['TX', '53', '493', '499']\n",
      "22 ['HI', '52', '485', '515']\n",
      "23 ['AK', '51', '514', '510']\n",
      "24 ['CA', '51', '498', '517']\n",
      "25 ['AZ', '34', '523', '525']\n",
      "26 ['NV', '33', '509', '515']\n",
      "27 ['CO', '31', '539', '542']\n",
      "28 ['OH', '26', '534', '439']\n",
      "29 ['MT', '23', '539', '539']\n",
      "30 ['WV', '18', '527', '512']\n",
      "31 ['ID', '17', '543', '542']\n",
      "32 ['TN', '13', '562', '553']\n",
      "33 ['NM', '13', '551', '542']\n",
      "34 ['IL', '12', '576', '589']\n",
      "35 ['KY', '12', '550', '550']\n",
      "36 ['WY', '11', '547', '545']\n",
      "37 ['MI', '11', '561', '572']\n",
      "38 ['MN', '9', '580', '589']\n",
      "39 ['KS', '9', '577', '580']\n",
      "40 ['AL', '9', '559', '554']\n",
      "41 ['NE', '8', '562', '568']\n",
      "42 ['OK', '8', '567', '561']\n",
      "43 ['MO', '8', '577', '577']\n",
      "44 ['LA', '7', '564', '562']\n",
      "45 ['WI', '6', '584', '596']\n",
      "46 ['AR', '6', '562', '550']\n",
      "47 ['UT', '5', '575', '570']\n",
      "48 ['IA', '5', '593', '603']\n",
      "49 ['SD', '4', '577', '582']\n",
      "50 ['ND', '4', '592', '599']\n",
      "51 ['MS', '4', '566', '551']\n",
      "52 ['All', '45', '506', '514']\n"
     ]
    }
   ],
   "source": [
    "import csv\n",
    "with open(\"/Users/peidacai/GA-DSI/projects/projects-weekly/project-01/assets/sat_scores.csv\", \"rU\") as f:\n",
    "    reader = csv.reader(f)\n",
    "    for i, row in enumerate(reader):\n",
    "        print i,row"
   ]
  },
  {
   "cell_type": "markdown",
   "metadata": {},
   "source": [
    "##### 1. What does the data describe?"
   ]
  },
  {
   "cell_type": "markdown",
   "metadata": {},
   "source": [
    "$SAT\\ scores\\ for\\ all\\ 50\\ states,\\ plus\\ DC.$"
   ]
  },
  {
   "cell_type": "markdown",
   "metadata": {},
   "source": [
    "##### 2. Does the data look complete? Are there any obvious issues with the observations?"
   ]
  },
  {
   "cell_type": "markdown",
   "metadata": {},
   "source": [
    "$The\\ data\\ does\\ seemed\\ to\\ be\\ complete,\\ however,\\ it\\ could\\ be\\ richer\\ if\\ it\\ included\\ number\\ of\\ samples\\ from\\ each\\ state.$"
   ]
  },
  {
   "cell_type": "markdown",
   "metadata": {},
   "source": [
    "##### 3. Create a data dictionary for the dataset."
   ]
  },
  {
   "cell_type": "code",
   "execution_count": 5,
   "metadata": {
    "collapsed": true
   },
   "outputs": [],
   "source": [
    "# dictionary to store SAT dataset\n",
    "sat_dict = {}"
   ]
  },
  {
   "cell_type": "markdown",
   "metadata": {},
   "source": [
    "## Step 2: Load the data."
   ]
  },
  {
   "cell_type": "markdown",
   "metadata": {},
   "source": [
    "##### 4. Load the data into a list of lists"
   ]
  },
  {
   "cell_type": "code",
   "execution_count": 41,
   "metadata": {
    "collapsed": false
   },
   "outputs": [],
   "source": [
    "sat_list = []\n",
    "with open(\"/Users/peidacai/GA-DSI/projects/projects-weekly/project-01/assets/sat_scores.csv\", \"rU\") as f:\n",
    "    reader = csv.reader(f)\n",
    "    for row in (reader):\n",
    "        sat_list.append(row)"
   ]
  },
  {
   "cell_type": "markdown",
   "metadata": {},
   "source": [
    "##### 5. Print the data"
   ]
  },
  {
   "cell_type": "code",
   "execution_count": 42,
   "metadata": {
    "collapsed": false
   },
   "outputs": [
    {
     "name": "stdout",
     "output_type": "stream",
     "text": [
      "[['State', 'Rate', 'Verbal', 'Math'],\n",
      " ['CT', '82', '509', '510'],\n",
      " ['NJ', '81', '499', '513'],\n",
      " ['MA', '79', '511', '515'],\n",
      " ['NY', '77', '495', '505'],\n",
      " ['NH', '72', '520', '516'],\n",
      " ['RI', '71', '501', '499'],\n",
      " ['PA', '71', '500', '499'],\n",
      " ['VT', '69', '511', '506'],\n",
      " ['ME', '69', '506', '500'],\n",
      " ['VA', '68', '510', '501'],\n",
      " ['DE', '67', '501', '499'],\n",
      " ['MD', '65', '508', '510'],\n",
      " ['NC', '65', '493', '499'],\n",
      " ['GA', '63', '491', '489'],\n",
      " ['IN', '60', '499', '501'],\n",
      " ['SC', '57', '486', '488'],\n",
      " ['DC', '56', '482', '474'],\n",
      " ['OR', '55', '526', '526'],\n",
      " ['FL', '54', '498', '499'],\n",
      " ['WA', '53', '527', '527'],\n",
      " ['TX', '53', '493', '499'],\n",
      " ['HI', '52', '485', '515'],\n",
      " ['AK', '51', '514', '510'],\n",
      " ['CA', '51', '498', '517'],\n",
      " ['AZ', '34', '523', '525'],\n",
      " ['NV', '33', '509', '515'],\n",
      " ['CO', '31', '539', '542'],\n",
      " ['OH', '26', '534', '439'],\n",
      " ['MT', '23', '539', '539'],\n",
      " ['WV', '18', '527', '512'],\n",
      " ['ID', '17', '543', '542'],\n",
      " ['TN', '13', '562', '553'],\n",
      " ['NM', '13', '551', '542'],\n",
      " ['IL', '12', '576', '589'],\n",
      " ['KY', '12', '550', '550'],\n",
      " ['WY', '11', '547', '545'],\n",
      " ['MI', '11', '561', '572'],\n",
      " ['MN', '9', '580', '589'],\n",
      " ['KS', '9', '577', '580'],\n",
      " ['AL', '9', '559', '554'],\n",
      " ['NE', '8', '562', '568'],\n",
      " ['OK', '8', '567', '561'],\n",
      " ['MO', '8', '577', '577'],\n",
      " ['LA', '7', '564', '562'],\n",
      " ['WI', '6', '584', '596'],\n",
      " ['AR', '6', '562', '550'],\n",
      " ['UT', '5', '575', '570'],\n",
      " ['IA', '5', '593', '603'],\n",
      " ['SD', '4', '577', '582'],\n",
      " ['ND', '4', '592', '599'],\n",
      " ['MS', '4', '566', '551'],\n",
      " ['All', '45', '506', '514']]\n"
     ]
    }
   ],
   "source": [
    "import pprint\n",
    "pprint.pprint(sat_list)"
   ]
  },
  {
   "cell_type": "markdown",
   "metadata": {
    "collapsed": true
   },
   "source": [
    "##### 6. Extract a list of the labels from the data, and remove them from the data."
   ]
  },
  {
   "cell_type": "code",
   "execution_count": 43,
   "metadata": {
    "collapsed": false
   },
   "outputs": [
    {
     "name": "stdout",
     "output_type": "stream",
     "text": [
      "['State', 'Rate', 'Verbal', 'Math']\n",
      "[['CT', '82', '509', '510'],\n",
      " ['NJ', '81', '499', '513'],\n",
      " ['MA', '79', '511', '515'],\n",
      " ['NY', '77', '495', '505'],\n",
      " ['NH', '72', '520', '516'],\n",
      " ['RI', '71', '501', '499'],\n",
      " ['PA', '71', '500', '499'],\n",
      " ['VT', '69', '511', '506'],\n",
      " ['ME', '69', '506', '500'],\n",
      " ['VA', '68', '510', '501'],\n",
      " ['DE', '67', '501', '499'],\n",
      " ['MD', '65', '508', '510'],\n",
      " ['NC', '65', '493', '499'],\n",
      " ['GA', '63', '491', '489'],\n",
      " ['IN', '60', '499', '501'],\n",
      " ['SC', '57', '486', '488'],\n",
      " ['DC', '56', '482', '474'],\n",
      " ['OR', '55', '526', '526'],\n",
      " ['FL', '54', '498', '499'],\n",
      " ['WA', '53', '527', '527'],\n",
      " ['TX', '53', '493', '499'],\n",
      " ['HI', '52', '485', '515'],\n",
      " ['AK', '51', '514', '510'],\n",
      " ['CA', '51', '498', '517'],\n",
      " ['AZ', '34', '523', '525'],\n",
      " ['NV', '33', '509', '515'],\n",
      " ['CO', '31', '539', '542'],\n",
      " ['OH', '26', '534', '439'],\n",
      " ['MT', '23', '539', '539'],\n",
      " ['WV', '18', '527', '512'],\n",
      " ['ID', '17', '543', '542'],\n",
      " ['TN', '13', '562', '553'],\n",
      " ['NM', '13', '551', '542'],\n",
      " ['IL', '12', '576', '589'],\n",
      " ['KY', '12', '550', '550'],\n",
      " ['WY', '11', '547', '545'],\n",
      " ['MI', '11', '561', '572'],\n",
      " ['MN', '9', '580', '589'],\n",
      " ['KS', '9', '577', '580'],\n",
      " ['AL', '9', '559', '554'],\n",
      " ['NE', '8', '562', '568'],\n",
      " ['OK', '8', '567', '561'],\n",
      " ['MO', '8', '577', '577'],\n",
      " ['LA', '7', '564', '562'],\n",
      " ['WI', '6', '584', '596'],\n",
      " ['AR', '6', '562', '550'],\n",
      " ['UT', '5', '575', '570'],\n",
      " ['IA', '5', '593', '603'],\n",
      " ['SD', '4', '577', '582'],\n",
      " ['ND', '4', '592', '599'],\n",
      " ['MS', '4', '566', '551'],\n",
      " ['All', '45', '506', '514']]\n"
     ]
    }
   ],
   "source": [
    "labels = sat_list[0]\n",
    "print labels\n",
    "del sat_list[0]\n",
    "pprint.pprint(sat_list)"
   ]
  },
  {
   "cell_type": "markdown",
   "metadata": {},
   "source": [
    "##### 7. Create a list of State names extracted from the data. (Hint: use the list of labels to index on the State column)"
   ]
  },
  {
   "cell_type": "code",
   "execution_count": 44,
   "metadata": {
    "collapsed": false
   },
   "outputs": [
    {
     "name": "stdout",
     "output_type": "stream",
     "text": [
      "['CT',\n",
      " 'NJ',\n",
      " 'MA',\n",
      " 'NY',\n",
      " 'NH',\n",
      " 'RI',\n",
      " 'PA',\n",
      " 'VT',\n",
      " 'ME',\n",
      " 'VA',\n",
      " 'DE',\n",
      " 'MD',\n",
      " 'NC',\n",
      " 'GA',\n",
      " 'IN',\n",
      " 'SC',\n",
      " 'DC',\n",
      " 'OR',\n",
      " 'FL',\n",
      " 'WA',\n",
      " 'TX',\n",
      " 'HI',\n",
      " 'AK',\n",
      " 'CA',\n",
      " 'AZ',\n",
      " 'NV',\n",
      " 'CO',\n",
      " 'OH',\n",
      " 'MT',\n",
      " 'WV',\n",
      " 'ID',\n",
      " 'TN',\n",
      " 'NM',\n",
      " 'IL',\n",
      " 'KY',\n",
      " 'WY',\n",
      " 'MI',\n",
      " 'MN',\n",
      " 'KS',\n",
      " 'AL',\n",
      " 'NE',\n",
      " 'OK',\n",
      " 'MO',\n",
      " 'LA',\n",
      " 'WI',\n",
      " 'AR',\n",
      " 'UT',\n",
      " 'IA',\n",
      " 'SD',\n",
      " 'ND',\n",
      " 'MS',\n",
      " 'All']\n"
     ]
    }
   ],
   "source": [
    "state_names = [row.pop(0) for row in sat_list]\n",
    "pprint.pprint(state_names)"
   ]
  },
  {
   "cell_type": "markdown",
   "metadata": {},
   "source": [
    "##### 8. Print the types of each column"
   ]
  },
  {
   "cell_type": "code",
   "execution_count": 45,
   "metadata": {
    "collapsed": false
   },
   "outputs": [
    {
     "name": "stdout",
     "output_type": "stream",
     "text": [
      "<type 'str'>\n",
      "<type 'str'>\n",
      "<type 'str'>\n"
     ]
    }
   ],
   "source": [
    "for i in sat_list[0]:\n",
    "    print type(i)"
   ]
  },
  {
   "cell_type": "markdown",
   "metadata": {},
   "source": [
    "##### 9. Do any types need to be reassigned? If so, go ahead and do it."
   ]
  },
  {
   "cell_type": "markdown",
   "metadata": {},
   "source": [
    "$All\\ needs\\ to\\ be\\ reassigned\\ as\\ they\\ are\\ all\\ string\\ types.$"
   ]
  },
  {
   "cell_type": "code",
   "execution_count": 46,
   "metadata": {
    "collapsed": true
   },
   "outputs": [],
   "source": [
    "sat_list1 = sat_list"
   ]
  },
  {
   "cell_type": "code",
   "execution_count": 47,
   "metadata": {
    "collapsed": false
   },
   "outputs": [],
   "source": [
    "sat_list = [[float(item) for item in row] for row in sat_list]"
   ]
  },
  {
   "cell_type": "code",
   "execution_count": 48,
   "metadata": {
    "collapsed": false
   },
   "outputs": [
    {
     "data": {
      "text/plain": [
       "[[82.0, 509.0, 510.0],\n",
       " [81.0, 499.0, 513.0],\n",
       " [79.0, 511.0, 515.0],\n",
       " [77.0, 495.0, 505.0],\n",
       " [72.0, 520.0, 516.0],\n",
       " [71.0, 501.0, 499.0],\n",
       " [71.0, 500.0, 499.0],\n",
       " [69.0, 511.0, 506.0],\n",
       " [69.0, 506.0, 500.0],\n",
       " [68.0, 510.0, 501.0],\n",
       " [67.0, 501.0, 499.0],\n",
       " [65.0, 508.0, 510.0],\n",
       " [65.0, 493.0, 499.0],\n",
       " [63.0, 491.0, 489.0],\n",
       " [60.0, 499.0, 501.0],\n",
       " [57.0, 486.0, 488.0],\n",
       " [56.0, 482.0, 474.0],\n",
       " [55.0, 526.0, 526.0],\n",
       " [54.0, 498.0, 499.0],\n",
       " [53.0, 527.0, 527.0],\n",
       " [53.0, 493.0, 499.0],\n",
       " [52.0, 485.0, 515.0],\n",
       " [51.0, 514.0, 510.0],\n",
       " [51.0, 498.0, 517.0],\n",
       " [34.0, 523.0, 525.0],\n",
       " [33.0, 509.0, 515.0],\n",
       " [31.0, 539.0, 542.0],\n",
       " [26.0, 534.0, 439.0],\n",
       " [23.0, 539.0, 539.0],\n",
       " [18.0, 527.0, 512.0],\n",
       " [17.0, 543.0, 542.0],\n",
       " [13.0, 562.0, 553.0],\n",
       " [13.0, 551.0, 542.0],\n",
       " [12.0, 576.0, 589.0],\n",
       " [12.0, 550.0, 550.0],\n",
       " [11.0, 547.0, 545.0],\n",
       " [11.0, 561.0, 572.0],\n",
       " [9.0, 580.0, 589.0],\n",
       " [9.0, 577.0, 580.0],\n",
       " [9.0, 559.0, 554.0],\n",
       " [8.0, 562.0, 568.0],\n",
       " [8.0, 567.0, 561.0],\n",
       " [8.0, 577.0, 577.0],\n",
       " [7.0, 564.0, 562.0],\n",
       " [6.0, 584.0, 596.0],\n",
       " [6.0, 562.0, 550.0],\n",
       " [5.0, 575.0, 570.0],\n",
       " [5.0, 593.0, 603.0],\n",
       " [4.0, 577.0, 582.0],\n",
       " [4.0, 592.0, 599.0],\n",
       " [4.0, 566.0, 551.0],\n",
       " [45.0, 506.0, 514.0]]"
      ]
     },
     "execution_count": 48,
     "metadata": {},
     "output_type": "execute_result"
    }
   ],
   "source": [
    "sat_list"
   ]
  },
  {
   "cell_type": "markdown",
   "metadata": {},
   "source": [
    "##### 10. Create a dictionary for each column mapping the State to its respective value for that column. "
   ]
  },
  {
   "cell_type": "code",
   "execution_count": 84,
   "metadata": {
    "collapsed": false
   },
   "outputs": [
    {
     "data": {
      "text/plain": [
       "{'AK': [51.0, 514.0, 510.0],\n",
       " 'AL': [9.0, 559.0, 554.0],\n",
       " 'AR': [6.0, 562.0, 550.0],\n",
       " 'AZ': [34.0, 523.0, 525.0],\n",
       " 'All': [45.0, 506.0, 514.0],\n",
       " 'CA': [51.0, 498.0, 517.0],\n",
       " 'CO': [31.0, 539.0, 542.0],\n",
       " 'CT': [82.0, 509.0, 510.0],\n",
       " 'DC': [56.0, 482.0, 474.0],\n",
       " 'DE': [67.0, 501.0, 499.0],\n",
       " 'FL': [54.0, 498.0, 499.0],\n",
       " 'GA': [63.0, 491.0, 489.0],\n",
       " 'HI': [52.0, 485.0, 515.0],\n",
       " 'IA': [5.0, 593.0, 603.0],\n",
       " 'ID': [17.0, 543.0, 542.0],\n",
       " 'IL': [12.0, 576.0, 589.0],\n",
       " 'IN': [60.0, 499.0, 501.0],\n",
       " 'KS': [9.0, 577.0, 580.0],\n",
       " 'KY': [12.0, 550.0, 550.0],\n",
       " 'LA': [7.0, 564.0, 562.0],\n",
       " 'MA': [79.0, 511.0, 515.0],\n",
       " 'MD': [65.0, 508.0, 510.0],\n",
       " 'ME': [69.0, 506.0, 500.0],\n",
       " 'MI': [11.0, 561.0, 572.0],\n",
       " 'MN': [9.0, 580.0, 589.0],\n",
       " 'MO': [8.0, 577.0, 577.0],\n",
       " 'MS': [4.0, 566.0, 551.0],\n",
       " 'MT': [23.0, 539.0, 539.0],\n",
       " 'NC': [65.0, 493.0, 499.0],\n",
       " 'ND': [4.0, 592.0, 599.0],\n",
       " 'NE': [8.0, 562.0, 568.0],\n",
       " 'NH': [72.0, 520.0, 516.0],\n",
       " 'NJ': [81.0, 499.0, 513.0],\n",
       " 'NM': [13.0, 551.0, 542.0],\n",
       " 'NV': [33.0, 509.0, 515.0],\n",
       " 'NY': [77.0, 495.0, 505.0],\n",
       " 'OH': [26.0, 534.0, 439.0],\n",
       " 'OK': [8.0, 567.0, 561.0],\n",
       " 'OR': [55.0, 526.0, 526.0],\n",
       " 'PA': [71.0, 500.0, 499.0],\n",
       " 'RI': [71.0, 501.0, 499.0],\n",
       " 'SC': [57.0, 486.0, 488.0],\n",
       " 'SD': [4.0, 577.0, 582.0],\n",
       " 'TN': [13.0, 562.0, 553.0],\n",
       " 'TX': [53.0, 493.0, 499.0],\n",
       " 'UT': [5.0, 575.0, 570.0],\n",
       " 'VA': [68.0, 510.0, 501.0],\n",
       " 'VT': [69.0, 511.0, 506.0],\n",
       " 'WA': [53.0, 527.0, 527.0],\n",
       " 'WI': [6.0, 584.0, 596.0],\n",
       " 'WV': [18.0, 527.0, 512.0],\n",
       " 'WY': [11.0, 547.0, 545.0]}"
      ]
     },
     "execution_count": 84,
     "metadata": {},
     "output_type": "execute_result"
    }
   ],
   "source": [
    "# It makes no sense to create a dictionary for each column mapping states to score for each column.\n",
    "# So I created a dictionary for each row instead since each the scores of each state is stored in a row.\n",
    "\n",
    "sat_dict = {k:v for k, v in zip(state_names, sat_list)}\n",
    "sat_dict"
   ]
  },
  {
   "cell_type": "code",
   "execution_count": 62,
   "metadata": {
    "collapsed": false
   },
   "outputs": [
    {
     "data": {
      "text/plain": [
       "array([[  82.,  509.,  510.],\n",
       "       [  81.,  499.,  513.],\n",
       "       [  79.,  511.,  515.],\n",
       "       [  77.,  495.,  505.],\n",
       "       [  72.,  520.,  516.],\n",
       "       [  71.,  501.,  499.],\n",
       "       [  71.,  500.,  499.],\n",
       "       [  69.,  511.,  506.],\n",
       "       [  69.,  506.,  500.],\n",
       "       [  68.,  510.,  501.],\n",
       "       [  67.,  501.,  499.],\n",
       "       [  65.,  508.,  510.],\n",
       "       [  65.,  493.,  499.],\n",
       "       [  63.,  491.,  489.],\n",
       "       [  60.,  499.,  501.],\n",
       "       [  57.,  486.,  488.],\n",
       "       [  56.,  482.,  474.],\n",
       "       [  55.,  526.,  526.],\n",
       "       [  54.,  498.,  499.],\n",
       "       [  53.,  527.,  527.],\n",
       "       [  53.,  493.,  499.],\n",
       "       [  52.,  485.,  515.],\n",
       "       [  51.,  514.,  510.],\n",
       "       [  51.,  498.,  517.],\n",
       "       [  34.,  523.,  525.],\n",
       "       [  33.,  509.,  515.],\n",
       "       [  31.,  539.,  542.],\n",
       "       [  26.,  534.,  439.],\n",
       "       [  23.,  539.,  539.],\n",
       "       [  18.,  527.,  512.],\n",
       "       [  17.,  543.,  542.],\n",
       "       [  13.,  562.,  553.],\n",
       "       [  13.,  551.,  542.],\n",
       "       [  12.,  576.,  589.],\n",
       "       [  12.,  550.,  550.],\n",
       "       [  11.,  547.,  545.],\n",
       "       [  11.,  561.,  572.],\n",
       "       [   9.,  580.,  589.],\n",
       "       [   9.,  577.,  580.],\n",
       "       [   9.,  559.,  554.],\n",
       "       [   8.,  562.,  568.],\n",
       "       [   8.,  567.,  561.],\n",
       "       [   8.,  577.,  577.],\n",
       "       [   7.,  564.,  562.],\n",
       "       [   6.,  584.,  596.],\n",
       "       [   6.,  562.,  550.],\n",
       "       [   5.,  575.,  570.],\n",
       "       [   5.,  593.,  603.],\n",
       "       [   4.,  577.,  582.],\n",
       "       [   4.,  592.,  599.],\n",
       "       [   4.,  566.,  551.],\n",
       "       [  45.,  506.,  514.]])"
      ]
     },
     "execution_count": 62,
     "metadata": {},
     "output_type": "execute_result"
    }
   ],
   "source": [
    "import numpy as np\n",
    "sat_array = np.array(sat_list)\n",
    "sat_array"
   ]
  },
  {
   "cell_type": "code",
   "execution_count": 82,
   "metadata": {
    "collapsed": false
   },
   "outputs": [
    {
     "data": {
      "text/plain": [
       "array([  82.,  509.,  510.])"
      ]
     },
     "execution_count": 82,
     "metadata": {},
     "output_type": "execute_result"
    }
   ],
   "source": [
    "sat_array1 = sat_array[0]"
   ]
  },
  {
   "cell_type": "code",
   "execution_count": 77,
   "metadata": {
    "collapsed": false
   },
   "outputs": [
    {
     "name": "stdout",
     "output_type": "stream",
     "text": [
      "0\n",
      "1\n",
      "2\n",
      "3\n",
      "4\n",
      "5\n",
      "6\n",
      "7\n",
      "8\n",
      "9\n",
      "10\n",
      "11\n",
      "12\n",
      "13\n",
      "14\n",
      "15\n",
      "16\n",
      "17\n",
      "18\n",
      "19\n",
      "20\n",
      "21\n",
      "22\n",
      "23\n",
      "24\n",
      "25\n",
      "26\n",
      "27\n",
      "28\n",
      "29\n",
      "30\n",
      "31\n",
      "32\n",
      "33\n",
      "34\n",
      "35\n",
      "36\n",
      "37\n",
      "38\n",
      "39\n",
      "40\n",
      "41\n",
      "42\n",
      "43\n",
      "44\n",
      "45\n",
      "46\n",
      "47\n",
      "48\n",
      "49\n",
      "50\n",
      "51\n"
     ]
    }
   ],
   "source": [
    "sat_dict = {}\n",
    "\n",
    "for i in range(len(state_names)):\n",
    "    sat_dict[state_names[i]] = sat_array[i]\n"
   ]
  },
  {
   "cell_type": "code",
   "execution_count": 75,
   "metadata": {
    "collapsed": false
   },
   "outputs": [
    {
     "data": {
      "text/plain": [
       "{'CT': 82.0}"
      ]
     },
     "execution_count": 75,
     "metadata": {},
     "output_type": "execute_result"
    }
   ],
   "source": [
    "sat_dict = {}\n",
    "\n",
    "sat_dict[state_names[0]] = sat_array[0,0]\n",
    "sat_dict"
   ]
  },
  {
   "cell_type": "code",
   "execution_count": 71,
   "metadata": {
    "collapsed": false
   },
   "outputs": [
    {
     "ename": "TypeError",
     "evalue": "unhashable type: 'numpy.ndarray'",
     "output_type": "error",
     "traceback": [
      "\u001b[0;31m---------------------------------------------------------------------------\u001b[0m",
      "\u001b[0;31mTypeError\u001b[0m                                 Traceback (most recent call last)",
      "\u001b[0;32m<ipython-input-71-de6aa668cacc>\u001b[0m in \u001b[0;36m<module>\u001b[0;34m()\u001b[0m\n\u001b[0;32m----> 1\u001b[0;31m \u001b[0msat_dict\u001b[0m \u001b[0;34m=\u001b[0m \u001b[0;34m[\u001b[0m\u001b[0;34m{\u001b[0m\u001b[0mk\u001b[0m\u001b[0;34m:\u001b[0m\u001b[0mv\u001b[0m \u001b[0;32mfor\u001b[0m \u001b[0mk\u001b[0m\u001b[0;34m,\u001b[0m\u001b[0mv\u001b[0m \u001b[0;32min\u001b[0m \u001b[0mzip\u001b[0m\u001b[0;34m(\u001b[0m\u001b[0msat_array\u001b[0m\u001b[0;34m,\u001b[0m \u001b[0mstate_names\u001b[0m\u001b[0;34m)\u001b[0m\u001b[0;34m}\u001b[0m\u001b[0;34m]\u001b[0m\u001b[0;34m\u001b[0m\u001b[0m\n\u001b[0m\u001b[1;32m      2\u001b[0m \u001b[0msat_dict\u001b[0m\u001b[0;34m\u001b[0m\u001b[0m\n",
      "\u001b[0;32m<ipython-input-71-de6aa668cacc>\u001b[0m in \u001b[0;36m<dictcomp>\u001b[0;34m((k, v))\u001b[0m\n\u001b[0;32m----> 1\u001b[0;31m \u001b[0msat_dict\u001b[0m \u001b[0;34m=\u001b[0m \u001b[0;34m[\u001b[0m\u001b[0;34m{\u001b[0m\u001b[0mk\u001b[0m\u001b[0;34m:\u001b[0m\u001b[0mv\u001b[0m \u001b[0;32mfor\u001b[0m \u001b[0mk\u001b[0m\u001b[0;34m,\u001b[0m\u001b[0mv\u001b[0m \u001b[0;32min\u001b[0m \u001b[0mzip\u001b[0m\u001b[0;34m(\u001b[0m\u001b[0msat_array\u001b[0m\u001b[0;34m,\u001b[0m \u001b[0mstate_names\u001b[0m\u001b[0;34m)\u001b[0m\u001b[0;34m}\u001b[0m\u001b[0;34m]\u001b[0m\u001b[0;34m\u001b[0m\u001b[0m\n\u001b[0m\u001b[1;32m      2\u001b[0m \u001b[0msat_dict\u001b[0m\u001b[0;34m\u001b[0m\u001b[0m\n",
      "\u001b[0;31mTypeError\u001b[0m: unhashable type: 'numpy.ndarray'"
     ]
    }
   ],
   "source": [
    "sat_dict = [{k:v for k,v in zip(state_names, sat_array)}]\n",
    "sat_dict"
   ]
  },
  {
   "cell_type": "markdown",
   "metadata": {},
   "source": [
    "##### 11. Create a dictionary with the values for each of the numeric columns"
   ]
  },
  {
   "cell_type": "code",
   "execution_count": null,
   "metadata": {
    "collapsed": false
   },
   "outputs": [],
   "source": []
  },
  {
   "cell_type": "markdown",
   "metadata": {},
   "source": [
    "## Step 3: Describe the data"
   ]
  },
  {
   "cell_type": "markdown",
   "metadata": {},
   "source": [
    "##### 12. Print the min and max of each column"
   ]
  },
  {
   "cell_type": "code",
   "execution_count": null,
   "metadata": {
    "collapsed": false
   },
   "outputs": [],
   "source": []
  },
  {
   "cell_type": "markdown",
   "metadata": {},
   "source": [
    "##### 13. Write a function using only list comprehensions, no loops, to compute Standard Deviation. Print the Standard Deviation of each numeric column."
   ]
  },
  {
   "cell_type": "code",
   "execution_count": null,
   "metadata": {
    "collapsed": false
   },
   "outputs": [],
   "source": []
  },
  {
   "cell_type": "markdown",
   "metadata": {},
   "source": [
    "## Step 4: Visualize the data"
   ]
  },
  {
   "cell_type": "markdown",
   "metadata": {
    "collapsed": true
   },
   "source": [
    "##### 14. Using MatPlotLib and PyPlot, plot the distribution of the Rate using histograms."
   ]
  },
  {
   "cell_type": "code",
   "execution_count": null,
   "metadata": {
    "collapsed": false
   },
   "outputs": [],
   "source": []
  },
  {
   "cell_type": "markdown",
   "metadata": {},
   "source": [
    "##### 15. Plot the Math distribution"
   ]
  },
  {
   "cell_type": "code",
   "execution_count": null,
   "metadata": {
    "collapsed": false
   },
   "outputs": [],
   "source": []
  },
  {
   "cell_type": "markdown",
   "metadata": {},
   "source": [
    "##### 16. Plot the Verbal distribution"
   ]
  },
  {
   "cell_type": "code",
   "execution_count": null,
   "metadata": {
    "collapsed": false
   },
   "outputs": [],
   "source": []
  },
  {
   "cell_type": "markdown",
   "metadata": {},
   "source": [
    "##### 17. What is the typical assumption for data distribution?"
   ]
  },
  {
   "cell_type": "code",
   "execution_count": null,
   "metadata": {
    "collapsed": false
   },
   "outputs": [],
   "source": []
  },
  {
   "cell_type": "markdown",
   "metadata": {},
   "source": [
    "##### 18. Does that distribution hold true for our data?"
   ]
  },
  {
   "cell_type": "code",
   "execution_count": null,
   "metadata": {
    "collapsed": false
   },
   "outputs": [],
   "source": []
  },
  {
   "cell_type": "markdown",
   "metadata": {},
   "source": [
    "##### 19. Plot some scatterplots. **BONUS**: Use a PyPlot `figure` to present multiple plots at once."
   ]
  },
  {
   "cell_type": "code",
   "execution_count": null,
   "metadata": {
    "collapsed": false
   },
   "outputs": [],
   "source": []
  },
  {
   "cell_type": "markdown",
   "metadata": {},
   "source": [
    "##### 20. Are there any interesting relationships to note?"
   ]
  },
  {
   "cell_type": "code",
   "execution_count": null,
   "metadata": {
    "collapsed": false
   },
   "outputs": [],
   "source": []
  },
  {
   "cell_type": "markdown",
   "metadata": {},
   "source": [
    "##### 21. Create box plots for each variable. "
   ]
  },
  {
   "cell_type": "code",
   "execution_count": null,
   "metadata": {
    "collapsed": false
   },
   "outputs": [],
   "source": []
  },
  {
   "cell_type": "markdown",
   "metadata": {},
   "source": [
    "##### BONUS: Using Tableau, create a heat map for each variable using a map of the US. "
   ]
  },
  {
   "cell_type": "code",
   "execution_count": null,
   "metadata": {
    "collapsed": true
   },
   "outputs": [],
   "source": []
  }
 ],
 "metadata": {
  "anaconda-cloud": {},
  "kernelspec": {
   "display_name": "Python [Root]",
   "language": "python",
   "name": "Python [Root]"
  },
  "language_info": {
   "codemirror_mode": {
    "name": "ipython",
    "version": 2
   },
   "file_extension": ".py",
   "mimetype": "text/x-python",
   "name": "python",
   "nbconvert_exporter": "python",
   "pygments_lexer": "ipython2",
   "version": "2.7.12"
  }
 },
 "nbformat": 4,
 "nbformat_minor": 0
}
