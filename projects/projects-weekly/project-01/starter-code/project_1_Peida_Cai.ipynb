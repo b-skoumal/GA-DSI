{
 "cells": [
  {
   "cell_type": "markdown",
   "metadata": {},
   "source": [
    "# Project 1\n",
    "\n",
    "## Step 1: Open the `sat_scores.csv` file. Investigate the data, and answer the questions below.\n"
   ]
  },
  {
   "cell_type": "code",
   "execution_count": 43,
   "metadata": {
    "collapsed": true
   },
   "outputs": [],
   "source": [
    "# In this project, we examine SAT math and verbal scores and participation rates of 50 states plus DC in 2001\n",
    "# Broadly, the steps are:\n",
    "### - Extract the data from a csv file into a list of list\n",
    "### - Separate header and indexes from pure data, using dictionaries\n",
    "### - Provide first order descriptive statistics summary of the data\n",
    "### - Plot visualizations of each feature\n",
    "### - Created heatmap across the map of USA for each feature"
   ]
  },
  {
   "cell_type": "code",
   "execution_count": 44,
   "metadata": {
    "collapsed": false
   },
   "outputs": [
    {
     "name": "stdout",
     "output_type": "stream",
     "text": [
      "0 ['State', 'Rate', 'Verbal', 'Math']\n",
      "1 ['CT', '82', '509', '510']\n",
      "2 ['NJ', '81', '499', '513']\n",
      "3 ['MA', '79', '511', '515']\n",
      "4 ['NY', '77', '495', '505']\n",
      "5 ['NH', '72', '520', '516']\n",
      "6 ['RI', '71', '501', '499']\n",
      "7 ['PA', '71', '500', '499']\n",
      "8 ['VT', '69', '511', '506']\n",
      "9 ['ME', '69', '506', '500']\n",
      "10 ['VA', '68', '510', '501']\n",
      "11 ['DE', '67', '501', '499']\n",
      "12 ['MD', '65', '508', '510']\n",
      "13 ['NC', '65', '493', '499']\n",
      "14 ['GA', '63', '491', '489']\n",
      "15 ['IN', '60', '499', '501']\n",
      "16 ['SC', '57', '486', '488']\n",
      "17 ['DC', '56', '482', '474']\n",
      "18 ['OR', '55', '526', '526']\n",
      "19 ['FL', '54', '498', '499']\n",
      "20 ['WA', '53', '527', '527']\n",
      "21 ['TX', '53', '493', '499']\n",
      "22 ['HI', '52', '485', '515']\n",
      "23 ['AK', '51', '514', '510']\n",
      "24 ['CA', '51', '498', '517']\n",
      "25 ['AZ', '34', '523', '525']\n",
      "26 ['NV', '33', '509', '515']\n",
      "27 ['CO', '31', '539', '542']\n",
      "28 ['OH', '26', '534', '439']\n",
      "29 ['MT', '23', '539', '539']\n",
      "30 ['WV', '18', '527', '512']\n",
      "31 ['ID', '17', '543', '542']\n",
      "32 ['TN', '13', '562', '553']\n",
      "33 ['NM', '13', '551', '542']\n",
      "34 ['IL', '12', '576', '589']\n",
      "35 ['KY', '12', '550', '550']\n",
      "36 ['WY', '11', '547', '545']\n",
      "37 ['MI', '11', '561', '572']\n",
      "38 ['MN', '9', '580', '589']\n",
      "39 ['KS', '9', '577', '580']\n",
      "40 ['AL', '9', '559', '554']\n",
      "41 ['NE', '8', '562', '568']\n",
      "42 ['OK', '8', '567', '561']\n",
      "43 ['MO', '8', '577', '577']\n",
      "44 ['LA', '7', '564', '562']\n",
      "45 ['WI', '6', '584', '596']\n",
      "46 ['AR', '6', '562', '550']\n",
      "47 ['UT', '5', '575', '570']\n",
      "48 ['IA', '5', '593', '603']\n",
      "49 ['SD', '4', '577', '582']\n",
      "50 ['ND', '4', '592', '599']\n",
      "51 ['MS', '4', '566', '551']\n",
      "52 ['All', '45', '506', '514']\n"
     ]
    }
   ],
   "source": [
    "# Importing csv file and printing the file for an initial look of the data\n",
    "\n",
    "import csv\n",
    "with open(\"/Users/peidacai/GA-DSI/projects/projects-weekly/project-01/assets/sat_scores.csv\", \"rU\") as f:\n",
    "    \n",
    "    reader = csv.reader(f)\n",
    "    \n",
    "    # Enumerate was used here to provide numbered indexes for the data\n",
    "    # Double checking all 52 rows were properly imported\n",
    "    \n",
    "    for i, row in enumerate(reader):\n",
    "        print i,row"
   ]
  },
  {
   "cell_type": "markdown",
   "metadata": {},
   "source": [
    "##### 1. What does the data describe?"
   ]
  },
  {
   "cell_type": "markdown",
   "metadata": {},
   "source": [
    "$SAT\\ scores\\ for\\ all\\ 50\\ states,\\ plus\\ DC\\ and\\ a\\ last\\ row\\ for\\ total.$"
   ]
  },
  {
   "cell_type": "markdown",
   "metadata": {},
   "source": [
    "##### 2. Does the data look complete? Are there any obvious issues with the observations?"
   ]
  },
  {
   "cell_type": "markdown",
   "metadata": {},
   "source": [
    "$The\\ data\\ does\\ seemed\\ to\\ be\\ complete,\\ however,\\ it\\ could\\ be\\ richer\\ if\\ it\\ included\\ number\\ of\\ samples\\ from\\ each\\ state.$"
   ]
  },
  {
   "cell_type": "markdown",
   "metadata": {},
   "source": [
    "##### 3. Create a data dictionary for the dataset."
   ]
  },
  {
   "cell_type": "code",
   "execution_count": 45,
   "metadata": {
    "collapsed": true
   },
   "outputs": [],
   "source": [
    "# dictionary to store SAT dataset\n",
    "sat_dict = {}"
   ]
  },
  {
   "cell_type": "markdown",
   "metadata": {},
   "source": [
    "## Step 2: Load the data."
   ]
  },
  {
   "cell_type": "markdown",
   "metadata": {},
   "source": [
    "##### 4. Load the data into a list of lists"
   ]
  },
  {
   "cell_type": "code",
   "execution_count": 46,
   "metadata": {
    "collapsed": false
   },
   "outputs": [],
   "source": [
    "# Creating an empty list\n",
    "sat_list = []\n",
    "\n",
    "# Open using absolute path destination the csv file and append each row as a list into the sat_list\n",
    "with open(\"/Users/peidacai/GA-DSI/projects/projects-weekly/project-01/assets/sat_scores.csv\", \"rU\") as f:\n",
    "    reader = csv.reader(f)\n",
    "    for row in (reader):\n",
    "        sat_list.append(row)"
   ]
  },
  {
   "cell_type": "markdown",
   "metadata": {},
   "source": [
    "##### 5. Print the data"
   ]
  },
  {
   "cell_type": "code",
   "execution_count": 47,
   "metadata": {
    "collapsed": false
   },
   "outputs": [
    {
     "name": "stdout",
     "output_type": "stream",
     "text": [
      "[['State', 'Rate', 'Verbal', 'Math'],\n",
      " ['CT', '82', '509', '510'],\n",
      " ['NJ', '81', '499', '513'],\n",
      " ['MA', '79', '511', '515'],\n",
      " ['NY', '77', '495', '505'],\n",
      " ['NH', '72', '520', '516'],\n",
      " ['RI', '71', '501', '499'],\n",
      " ['PA', '71', '500', '499'],\n",
      " ['VT', '69', '511', '506'],\n",
      " ['ME', '69', '506', '500'],\n",
      " ['VA', '68', '510', '501'],\n",
      " ['DE', '67', '501', '499'],\n",
      " ['MD', '65', '508', '510'],\n",
      " ['NC', '65', '493', '499'],\n",
      " ['GA', '63', '491', '489'],\n",
      " ['IN', '60', '499', '501'],\n",
      " ['SC', '57', '486', '488'],\n",
      " ['DC', '56', '482', '474'],\n",
      " ['OR', '55', '526', '526'],\n",
      " ['FL', '54', '498', '499'],\n",
      " ['WA', '53', '527', '527'],\n",
      " ['TX', '53', '493', '499'],\n",
      " ['HI', '52', '485', '515'],\n",
      " ['AK', '51', '514', '510'],\n",
      " ['CA', '51', '498', '517'],\n",
      " ['AZ', '34', '523', '525'],\n",
      " ['NV', '33', '509', '515'],\n",
      " ['CO', '31', '539', '542'],\n",
      " ['OH', '26', '534', '439'],\n",
      " ['MT', '23', '539', '539'],\n",
      " ['WV', '18', '527', '512'],\n",
      " ['ID', '17', '543', '542'],\n",
      " ['TN', '13', '562', '553'],\n",
      " ['NM', '13', '551', '542'],\n",
      " ['IL', '12', '576', '589'],\n",
      " ['KY', '12', '550', '550'],\n",
      " ['WY', '11', '547', '545'],\n",
      " ['MI', '11', '561', '572'],\n",
      " ['MN', '9', '580', '589'],\n",
      " ['KS', '9', '577', '580'],\n",
      " ['AL', '9', '559', '554'],\n",
      " ['NE', '8', '562', '568'],\n",
      " ['OK', '8', '567', '561'],\n",
      " ['MO', '8', '577', '577'],\n",
      " ['LA', '7', '564', '562'],\n",
      " ['WI', '6', '584', '596'],\n",
      " ['AR', '6', '562', '550'],\n",
      " ['UT', '5', '575', '570'],\n",
      " ['IA', '5', '593', '603'],\n",
      " ['SD', '4', '577', '582'],\n",
      " ['ND', '4', '592', '599'],\n",
      " ['MS', '4', '566', '551'],\n",
      " ['All', '45', '506', '514']]\n"
     ]
    }
   ],
   "source": [
    "# Importing the pretty print module to print list of list nicely\n",
    "import pprint\n",
    "pprint.pprint(sat_list)"
   ]
  },
  {
   "cell_type": "markdown",
   "metadata": {
    "collapsed": true
   },
   "source": [
    "##### 6. Extract a list of the labels from the data, and remove them from the data."
   ]
  },
  {
   "cell_type": "code",
   "execution_count": 48,
   "metadata": {
    "collapsed": false
   },
   "outputs": [
    {
     "name": "stdout",
     "output_type": "stream",
     "text": [
      "['State', 'Rate', 'Verbal', 'Math']\n",
      "[['CT', '82', '509', '510'],\n",
      " ['NJ', '81', '499', '513'],\n",
      " ['MA', '79', '511', '515'],\n",
      " ['NY', '77', '495', '505'],\n",
      " ['NH', '72', '520', '516'],\n",
      " ['RI', '71', '501', '499'],\n",
      " ['PA', '71', '500', '499'],\n",
      " ['VT', '69', '511', '506'],\n",
      " ['ME', '69', '506', '500'],\n",
      " ['VA', '68', '510', '501'],\n",
      " ['DE', '67', '501', '499'],\n",
      " ['MD', '65', '508', '510'],\n",
      " ['NC', '65', '493', '499'],\n",
      " ['GA', '63', '491', '489'],\n",
      " ['IN', '60', '499', '501'],\n",
      " ['SC', '57', '486', '488'],\n",
      " ['DC', '56', '482', '474'],\n",
      " ['OR', '55', '526', '526'],\n",
      " ['FL', '54', '498', '499'],\n",
      " ['WA', '53', '527', '527'],\n",
      " ['TX', '53', '493', '499'],\n",
      " ['HI', '52', '485', '515'],\n",
      " ['AK', '51', '514', '510'],\n",
      " ['CA', '51', '498', '517'],\n",
      " ['AZ', '34', '523', '525'],\n",
      " ['NV', '33', '509', '515'],\n",
      " ['CO', '31', '539', '542'],\n",
      " ['OH', '26', '534', '439'],\n",
      " ['MT', '23', '539', '539'],\n",
      " ['WV', '18', '527', '512'],\n",
      " ['ID', '17', '543', '542'],\n",
      " ['TN', '13', '562', '553'],\n",
      " ['NM', '13', '551', '542'],\n",
      " ['IL', '12', '576', '589'],\n",
      " ['KY', '12', '550', '550'],\n",
      " ['WY', '11', '547', '545'],\n",
      " ['MI', '11', '561', '572'],\n",
      " ['MN', '9', '580', '589'],\n",
      " ['KS', '9', '577', '580'],\n",
      " ['AL', '9', '559', '554'],\n",
      " ['NE', '8', '562', '568'],\n",
      " ['OK', '8', '567', '561'],\n",
      " ['MO', '8', '577', '577'],\n",
      " ['LA', '7', '564', '562'],\n",
      " ['WI', '6', '584', '596'],\n",
      " ['AR', '6', '562', '550'],\n",
      " ['UT', '5', '575', '570'],\n",
      " ['IA', '5', '593', '603'],\n",
      " ['SD', '4', '577', '582'],\n",
      " ['ND', '4', '592', '599'],\n",
      " ['MS', '4', '566', '551'],\n",
      " ['All', '45', '506', '514']]\n"
     ]
    }
   ],
   "source": [
    "# Assigning the first item in sat_list, which is the list of labels as variable \"labels\"\n",
    "labels = sat_list[0]\n",
    "print labels\n",
    "\n",
    "# Removing first item (list of labels) from the remaining data to separate column labels and data\n",
    "del sat_list[0]\n",
    "pprint.pprint(sat_list)"
   ]
  },
  {
   "cell_type": "markdown",
   "metadata": {},
   "source": [
    "##### 7. Create a list of State names extracted from the data. (Hint: use the list of labels to index on the State column)"
   ]
  },
  {
   "cell_type": "code",
   "execution_count": 49,
   "metadata": {
    "collapsed": false
   },
   "outputs": [
    {
     "name": "stdout",
     "output_type": "stream",
     "text": [
      "['CT',\n",
      " 'NJ',\n",
      " 'MA',\n",
      " 'NY',\n",
      " 'NH',\n",
      " 'RI',\n",
      " 'PA',\n",
      " 'VT',\n",
      " 'ME',\n",
      " 'VA',\n",
      " 'DE',\n",
      " 'MD',\n",
      " 'NC',\n",
      " 'GA',\n",
      " 'IN',\n",
      " 'SC',\n",
      " 'DC',\n",
      " 'OR',\n",
      " 'FL',\n",
      " 'WA',\n",
      " 'TX',\n",
      " 'HI',\n",
      " 'AK',\n",
      " 'CA',\n",
      " 'AZ',\n",
      " 'NV',\n",
      " 'CO',\n",
      " 'OH',\n",
      " 'MT',\n",
      " 'WV',\n",
      " 'ID',\n",
      " 'TN',\n",
      " 'NM',\n",
      " 'IL',\n",
      " 'KY',\n",
      " 'WY',\n",
      " 'MI',\n",
      " 'MN',\n",
      " 'KS',\n",
      " 'AL',\n",
      " 'NE',\n",
      " 'OK',\n",
      " 'MO',\n",
      " 'LA',\n",
      " 'WI',\n",
      " 'AR',\n",
      " 'UT',\n",
      " 'IA',\n",
      " 'SD',\n",
      " 'ND',\n",
      " 'MS',\n",
      " 'All']\n"
     ]
    }
   ],
   "source": [
    "# Using list comprehension, we popped the first item of each sublist directly into another list, \"state_names\"\n",
    "# In effect, we are removing the first column to make a list of state 2-letter acronyms\n",
    "\n",
    "state_names = [row.pop(0) for row in sat_list]\n",
    "pprint.pprint(state_names)"
   ]
  },
  {
   "cell_type": "markdown",
   "metadata": {},
   "source": [
    "##### 8. Print the types of each column"
   ]
  },
  {
   "cell_type": "code",
   "execution_count": 64,
   "metadata": {
    "collapsed": false
   },
   "outputs": [
    {
     "name": "stdout",
     "output_type": "stream",
     "text": [
      "All data is of the same type - <type 'str'>\n"
     ]
    }
   ],
   "source": [
    "# Since sat_list now consists only of pure data (without headers and indexes), we compared the first item of\n",
    "# each row with the first item of the first row, second item of each row with the second item of the first row \n",
    "# and so on.\n",
    "# Turned out that all the data is of the same type: strings\n",
    "\n",
    "flag = 0\n",
    "for j in range(1,len(sat_list)):\n",
    "    for k in range(len(sat_list[j])):\n",
    "        if (type(sat_list[j][k])) != type(sat_list[0][k]):\n",
    "            flag = 1\n",
    "            print \"Data contains dissimilar types!\"\n",
    "\n",
    "if flag == 0:\n",
    "    print \"All data is of the same type -\", type(sat_list[0][0])"
   ]
  },
  {
   "cell_type": "markdown",
   "metadata": {},
   "source": [
    "##### 9. Do any types need to be reassigned? If so, go ahead and do it."
   ]
  },
  {
   "cell_type": "markdown",
   "metadata": {},
   "source": [
    "$All\\ needs\\ to\\ be\\ reassigned\\ as\\ they\\ are\\ all\\ string\\ types.$"
   ]
  },
  {
   "cell_type": "code",
   "execution_count": 9,
   "metadata": {
    "collapsed": false
   },
   "outputs": [],
   "source": [
    "# Converting each item of each sublist to float, in place\n",
    "sat_list = [[float(item) for item in row] for row in sat_list]"
   ]
  },
  {
   "cell_type": "code",
   "execution_count": 10,
   "metadata": {
    "collapsed": false
   },
   "outputs": [
    {
     "data": {
      "text/plain": [
       "[[82.0, 509.0, 510.0],\n",
       " [81.0, 499.0, 513.0],\n",
       " [79.0, 511.0, 515.0],\n",
       " [77.0, 495.0, 505.0],\n",
       " [72.0, 520.0, 516.0],\n",
       " [71.0, 501.0, 499.0],\n",
       " [71.0, 500.0, 499.0],\n",
       " [69.0, 511.0, 506.0],\n",
       " [69.0, 506.0, 500.0],\n",
       " [68.0, 510.0, 501.0],\n",
       " [67.0, 501.0, 499.0],\n",
       " [65.0, 508.0, 510.0],\n",
       " [65.0, 493.0, 499.0],\n",
       " [63.0, 491.0, 489.0],\n",
       " [60.0, 499.0, 501.0],\n",
       " [57.0, 486.0, 488.0],\n",
       " [56.0, 482.0, 474.0],\n",
       " [55.0, 526.0, 526.0],\n",
       " [54.0, 498.0, 499.0],\n",
       " [53.0, 527.0, 527.0],\n",
       " [53.0, 493.0, 499.0],\n",
       " [52.0, 485.0, 515.0],\n",
       " [51.0, 514.0, 510.0],\n",
       " [51.0, 498.0, 517.0],\n",
       " [34.0, 523.0, 525.0],\n",
       " [33.0, 509.0, 515.0],\n",
       " [31.0, 539.0, 542.0],\n",
       " [26.0, 534.0, 439.0],\n",
       " [23.0, 539.0, 539.0],\n",
       " [18.0, 527.0, 512.0],\n",
       " [17.0, 543.0, 542.0],\n",
       " [13.0, 562.0, 553.0],\n",
       " [13.0, 551.0, 542.0],\n",
       " [12.0, 576.0, 589.0],\n",
       " [12.0, 550.0, 550.0],\n",
       " [11.0, 547.0, 545.0],\n",
       " [11.0, 561.0, 572.0],\n",
       " [9.0, 580.0, 589.0],\n",
       " [9.0, 577.0, 580.0],\n",
       " [9.0, 559.0, 554.0],\n",
       " [8.0, 562.0, 568.0],\n",
       " [8.0, 567.0, 561.0],\n",
       " [8.0, 577.0, 577.0],\n",
       " [7.0, 564.0, 562.0],\n",
       " [6.0, 584.0, 596.0],\n",
       " [6.0, 562.0, 550.0],\n",
       " [5.0, 575.0, 570.0],\n",
       " [5.0, 593.0, 603.0],\n",
       " [4.0, 577.0, 582.0],\n",
       " [4.0, 592.0, 599.0],\n",
       " [4.0, 566.0, 551.0],\n",
       " [45.0, 506.0, 514.0]]"
      ]
     },
     "execution_count": 10,
     "metadata": {},
     "output_type": "execute_result"
    }
   ],
   "source": [
    "# Printing out the updated sat_list for confirmation of the conversion to float\n",
    "sat_list"
   ]
  },
  {
   "cell_type": "markdown",
   "metadata": {},
   "source": [
    "##### 10. Create a dictionary for each column mapping the State to its respective value for that column. "
   ]
  },
  {
   "cell_type": "code",
   "execution_count": 11,
   "metadata": {
    "collapsed": false
   },
   "outputs": [
    {
     "data": {
      "text/plain": [
       "{'AK': 51.0,\n",
       " 'AL': 9.0,\n",
       " 'AR': 6.0,\n",
       " 'AZ': 34.0,\n",
       " 'All': 45.0,\n",
       " 'CA': 51.0,\n",
       " 'CO': 31.0,\n",
       " 'CT': 82.0,\n",
       " 'DC': 56.0,\n",
       " 'DE': 67.0,\n",
       " 'FL': 54.0,\n",
       " 'GA': 63.0,\n",
       " 'HI': 52.0,\n",
       " 'IA': 5.0,\n",
       " 'ID': 17.0,\n",
       " 'IL': 12.0,\n",
       " 'IN': 60.0,\n",
       " 'KS': 9.0,\n",
       " 'KY': 12.0,\n",
       " 'LA': 7.0,\n",
       " 'MA': 79.0,\n",
       " 'MD': 65.0,\n",
       " 'ME': 69.0,\n",
       " 'MI': 11.0,\n",
       " 'MN': 9.0,\n",
       " 'MO': 8.0,\n",
       " 'MS': 4.0,\n",
       " 'MT': 23.0,\n",
       " 'NC': 65.0,\n",
       " 'ND': 4.0,\n",
       " 'NE': 8.0,\n",
       " 'NH': 72.0,\n",
       " 'NJ': 81.0,\n",
       " 'NM': 13.0,\n",
       " 'NV': 33.0,\n",
       " 'NY': 77.0,\n",
       " 'OH': 26.0,\n",
       " 'OK': 8.0,\n",
       " 'OR': 55.0,\n",
       " 'PA': 71.0,\n",
       " 'RI': 71.0,\n",
       " 'SC': 57.0,\n",
       " 'SD': 4.0,\n",
       " 'TN': 13.0,\n",
       " 'TX': 53.0,\n",
       " 'UT': 5.0,\n",
       " 'VA': 68.0,\n",
       " 'VT': 69.0,\n",
       " 'WA': 53.0,\n",
       " 'WI': 6.0,\n",
       " 'WV': 18.0,\n",
       " 'WY': 11.0}"
      ]
     },
     "execution_count": 11,
     "metadata": {},
     "output_type": "execute_result"
    }
   ],
   "source": [
    "# 3 different dictionaries were created; one for each feature: rate, math and verbal.\n",
    "# In each dictionary, state_name is the key while the respective feature score is the value\n",
    "\n",
    "state_rate_dict = {k:v[0] for k, v in zip(state_names, sat_list)}\n",
    "state_rate_dict"
   ]
  },
  {
   "cell_type": "code",
   "execution_count": 12,
   "metadata": {
    "collapsed": false
   },
   "outputs": [
    {
     "data": {
      "text/plain": [
       "{'AK': 514.0,\n",
       " 'AL': 559.0,\n",
       " 'AR': 562.0,\n",
       " 'AZ': 523.0,\n",
       " 'All': 506.0,\n",
       " 'CA': 498.0,\n",
       " 'CO': 539.0,\n",
       " 'CT': 509.0,\n",
       " 'DC': 482.0,\n",
       " 'DE': 501.0,\n",
       " 'FL': 498.0,\n",
       " 'GA': 491.0,\n",
       " 'HI': 485.0,\n",
       " 'IA': 593.0,\n",
       " 'ID': 543.0,\n",
       " 'IL': 576.0,\n",
       " 'IN': 499.0,\n",
       " 'KS': 577.0,\n",
       " 'KY': 550.0,\n",
       " 'LA': 564.0,\n",
       " 'MA': 511.0,\n",
       " 'MD': 508.0,\n",
       " 'ME': 506.0,\n",
       " 'MI': 561.0,\n",
       " 'MN': 580.0,\n",
       " 'MO': 577.0,\n",
       " 'MS': 566.0,\n",
       " 'MT': 539.0,\n",
       " 'NC': 493.0,\n",
       " 'ND': 592.0,\n",
       " 'NE': 562.0,\n",
       " 'NH': 520.0,\n",
       " 'NJ': 499.0,\n",
       " 'NM': 551.0,\n",
       " 'NV': 509.0,\n",
       " 'NY': 495.0,\n",
       " 'OH': 534.0,\n",
       " 'OK': 567.0,\n",
       " 'OR': 526.0,\n",
       " 'PA': 500.0,\n",
       " 'RI': 501.0,\n",
       " 'SC': 486.0,\n",
       " 'SD': 577.0,\n",
       " 'TN': 562.0,\n",
       " 'TX': 493.0,\n",
       " 'UT': 575.0,\n",
       " 'VA': 510.0,\n",
       " 'VT': 511.0,\n",
       " 'WA': 527.0,\n",
       " 'WI': 584.0,\n",
       " 'WV': 527.0,\n",
       " 'WY': 547.0}"
      ]
     },
     "execution_count": 12,
     "metadata": {},
     "output_type": "execute_result"
    }
   ],
   "source": [
    "state_verb_dict = {k:v[1] for k, v in zip(state_names, sat_list)}\n",
    "state_verb_dict"
   ]
  },
  {
   "cell_type": "code",
   "execution_count": 13,
   "metadata": {
    "collapsed": false
   },
   "outputs": [
    {
     "data": {
      "text/plain": [
       "{'AK': 510.0,\n",
       " 'AL': 554.0,\n",
       " 'AR': 550.0,\n",
       " 'AZ': 525.0,\n",
       " 'All': 514.0,\n",
       " 'CA': 517.0,\n",
       " 'CO': 542.0,\n",
       " 'CT': 510.0,\n",
       " 'DC': 474.0,\n",
       " 'DE': 499.0,\n",
       " 'FL': 499.0,\n",
       " 'GA': 489.0,\n",
       " 'HI': 515.0,\n",
       " 'IA': 603.0,\n",
       " 'ID': 542.0,\n",
       " 'IL': 589.0,\n",
       " 'IN': 501.0,\n",
       " 'KS': 580.0,\n",
       " 'KY': 550.0,\n",
       " 'LA': 562.0,\n",
       " 'MA': 515.0,\n",
       " 'MD': 510.0,\n",
       " 'ME': 500.0,\n",
       " 'MI': 572.0,\n",
       " 'MN': 589.0,\n",
       " 'MO': 577.0,\n",
       " 'MS': 551.0,\n",
       " 'MT': 539.0,\n",
       " 'NC': 499.0,\n",
       " 'ND': 599.0,\n",
       " 'NE': 568.0,\n",
       " 'NH': 516.0,\n",
       " 'NJ': 513.0,\n",
       " 'NM': 542.0,\n",
       " 'NV': 515.0,\n",
       " 'NY': 505.0,\n",
       " 'OH': 439.0,\n",
       " 'OK': 561.0,\n",
       " 'OR': 526.0,\n",
       " 'PA': 499.0,\n",
       " 'RI': 499.0,\n",
       " 'SC': 488.0,\n",
       " 'SD': 582.0,\n",
       " 'TN': 553.0,\n",
       " 'TX': 499.0,\n",
       " 'UT': 570.0,\n",
       " 'VA': 501.0,\n",
       " 'VT': 506.0,\n",
       " 'WA': 527.0,\n",
       " 'WI': 596.0,\n",
       " 'WV': 512.0,\n",
       " 'WY': 545.0}"
      ]
     },
     "execution_count": 13,
     "metadata": {},
     "output_type": "execute_result"
    }
   ],
   "source": [
    "state_math_dict = {k:v[2] for k, v in zip(state_names, sat_list)}\n",
    "state_math_dict"
   ]
  },
  {
   "cell_type": "markdown",
   "metadata": {},
   "source": [
    "##### 11. Create a dictionary with the values for each of the numeric columns"
   ]
  },
  {
   "cell_type": "code",
   "execution_count": 14,
   "metadata": {
    "collapsed": false
   },
   "outputs": [
    {
     "data": {
      "text/plain": [
       "['State', 'Rate', 'Verbal', 'Math']"
      ]
     },
     "execution_count": 14,
     "metadata": {},
     "output_type": "execute_result"
    }
   ],
   "source": [
    "labels"
   ]
  },
  {
   "cell_type": "code",
   "execution_count": 15,
   "metadata": {
    "collapsed": false
   },
   "outputs": [
    {
     "data": {
      "text/plain": [
       "{'Rate': [82.0,\n",
       "  81.0,\n",
       "  79.0,\n",
       "  77.0,\n",
       "  72.0,\n",
       "  71.0,\n",
       "  71.0,\n",
       "  69.0,\n",
       "  69.0,\n",
       "  68.0,\n",
       "  67.0,\n",
       "  65.0,\n",
       "  65.0,\n",
       "  63.0,\n",
       "  60.0,\n",
       "  57.0,\n",
       "  56.0,\n",
       "  55.0,\n",
       "  54.0,\n",
       "  53.0,\n",
       "  53.0,\n",
       "  52.0,\n",
       "  51.0,\n",
       "  51.0,\n",
       "  34.0,\n",
       "  33.0,\n",
       "  31.0,\n",
       "  26.0,\n",
       "  23.0,\n",
       "  18.0,\n",
       "  17.0,\n",
       "  13.0,\n",
       "  13.0,\n",
       "  12.0,\n",
       "  12.0,\n",
       "  11.0,\n",
       "  11.0,\n",
       "  9.0,\n",
       "  9.0,\n",
       "  9.0,\n",
       "  8.0,\n",
       "  8.0,\n",
       "  8.0,\n",
       "  7.0,\n",
       "  6.0,\n",
       "  6.0,\n",
       "  5.0,\n",
       "  5.0,\n",
       "  4.0,\n",
       "  4.0,\n",
       "  4.0,\n",
       "  45.0]}"
      ]
     },
     "execution_count": 15,
     "metadata": {},
     "output_type": "execute_result"
    }
   ],
   "source": [
    "# Again 3 different dictionaries were created; one for each feature\n",
    "# This time, key of each dictionary is the feature name (rate, math or verbal), while the values are the corresponding\n",
    "# list of scores for the respective feature\n",
    "\n",
    "rate_dict = {labels[1]:[r[0] for r in sat_list]}\n",
    "rate_dict"
   ]
  },
  {
   "cell_type": "code",
   "execution_count": 16,
   "metadata": {
    "collapsed": false
   },
   "outputs": [
    {
     "data": {
      "text/plain": [
       "{'Verbal': [509.0,\n",
       "  499.0,\n",
       "  511.0,\n",
       "  495.0,\n",
       "  520.0,\n",
       "  501.0,\n",
       "  500.0,\n",
       "  511.0,\n",
       "  506.0,\n",
       "  510.0,\n",
       "  501.0,\n",
       "  508.0,\n",
       "  493.0,\n",
       "  491.0,\n",
       "  499.0,\n",
       "  486.0,\n",
       "  482.0,\n",
       "  526.0,\n",
       "  498.0,\n",
       "  527.0,\n",
       "  493.0,\n",
       "  485.0,\n",
       "  514.0,\n",
       "  498.0,\n",
       "  523.0,\n",
       "  509.0,\n",
       "  539.0,\n",
       "  534.0,\n",
       "  539.0,\n",
       "  527.0,\n",
       "  543.0,\n",
       "  562.0,\n",
       "  551.0,\n",
       "  576.0,\n",
       "  550.0,\n",
       "  547.0,\n",
       "  561.0,\n",
       "  580.0,\n",
       "  577.0,\n",
       "  559.0,\n",
       "  562.0,\n",
       "  567.0,\n",
       "  577.0,\n",
       "  564.0,\n",
       "  584.0,\n",
       "  562.0,\n",
       "  575.0,\n",
       "  593.0,\n",
       "  577.0,\n",
       "  592.0,\n",
       "  566.0,\n",
       "  506.0]}"
      ]
     },
     "execution_count": 16,
     "metadata": {},
     "output_type": "execute_result"
    }
   ],
   "source": [
    "verb_dict = {labels[2]:[r[1] for r in sat_list]}\n",
    "verb_dict"
   ]
  },
  {
   "cell_type": "code",
   "execution_count": 17,
   "metadata": {
    "collapsed": false
   },
   "outputs": [
    {
     "data": {
      "text/plain": [
       "{'Math': [510.0,\n",
       "  513.0,\n",
       "  515.0,\n",
       "  505.0,\n",
       "  516.0,\n",
       "  499.0,\n",
       "  499.0,\n",
       "  506.0,\n",
       "  500.0,\n",
       "  501.0,\n",
       "  499.0,\n",
       "  510.0,\n",
       "  499.0,\n",
       "  489.0,\n",
       "  501.0,\n",
       "  488.0,\n",
       "  474.0,\n",
       "  526.0,\n",
       "  499.0,\n",
       "  527.0,\n",
       "  499.0,\n",
       "  515.0,\n",
       "  510.0,\n",
       "  517.0,\n",
       "  525.0,\n",
       "  515.0,\n",
       "  542.0,\n",
       "  439.0,\n",
       "  539.0,\n",
       "  512.0,\n",
       "  542.0,\n",
       "  553.0,\n",
       "  542.0,\n",
       "  589.0,\n",
       "  550.0,\n",
       "  545.0,\n",
       "  572.0,\n",
       "  589.0,\n",
       "  580.0,\n",
       "  554.0,\n",
       "  568.0,\n",
       "  561.0,\n",
       "  577.0,\n",
       "  562.0,\n",
       "  596.0,\n",
       "  550.0,\n",
       "  570.0,\n",
       "  603.0,\n",
       "  582.0,\n",
       "  599.0,\n",
       "  551.0,\n",
       "  514.0]}"
      ]
     },
     "execution_count": 17,
     "metadata": {},
     "output_type": "execute_result"
    }
   ],
   "source": [
    "math_dict = {labels[3]:[r[2] for r in sat_list]}\n",
    "math_dict"
   ]
  },
  {
   "cell_type": "code",
   "execution_count": null,
   "metadata": {
    "collapsed": true
   },
   "outputs": [],
   "source": [
    "# While this seems to be very similar, repetitive work, the 2 different types of dictionaries are useful for \n",
    "# different purposes. As is evident in answering the following questions.\n",
    "# Max and min functions cannot be called directly on the first type of dictionaries, where state_name maps to score."
   ]
  },
  {
   "cell_type": "markdown",
   "metadata": {},
   "source": [
    "## Step 3: Describe the data"
   ]
  },
  {
   "cell_type": "markdown",
   "metadata": {},
   "source": [
    "##### 12. Print the min and max of each column"
   ]
  },
  {
   "cell_type": "code",
   "execution_count": 18,
   "metadata": {
    "collapsed": false
   },
   "outputs": [
    {
     "name": "stdout",
     "output_type": "stream",
     "text": [
      "Max rate is 82.0\n",
      "Min rate is 4.0\n"
     ]
    }
   ],
   "source": [
    "# Max, min ranges for rate\n",
    "\n",
    "max_rate = max(rate_dict.values()[0])\n",
    "min_rate = min(rate_dict.values()[0])\n",
    "\n",
    "print \"Max rate is\", max_rate\n",
    "print \"Min rate is\", min_rate"
   ]
  },
  {
   "cell_type": "code",
   "execution_count": 19,
   "metadata": {
    "collapsed": false
   },
   "outputs": [
    {
     "name": "stdout",
     "output_type": "stream",
     "text": [
      "Max verbal score is 593.0\n",
      "Min verbal score is 482.0\n"
     ]
    }
   ],
   "source": [
    "# Max, min ranges for verbal\n",
    "\n",
    "max_verb = max(verb_dict.values()[0])\n",
    "min_verb = min(verb_dict.values()[0])\n",
    "\n",
    "print \"Max verbal score is\", max_verb\n",
    "print \"Min verbal score is\", min_verb"
   ]
  },
  {
   "cell_type": "code",
   "execution_count": 20,
   "metadata": {
    "collapsed": false
   },
   "outputs": [
    {
     "name": "stdout",
     "output_type": "stream",
     "text": [
      "Max math score is 603.0\n",
      "Min math score is 439.0\n"
     ]
    }
   ],
   "source": [
    "# Max, min ranges for math\n",
    "\n",
    "max_math = max(math_dict.values()[0])\n",
    "min_math = min(math_dict.values()[0])\n",
    "\n",
    "print \"Max math score is\", max_math\n",
    "print \"Min math score is\", min_math"
   ]
  },
  {
   "cell_type": "markdown",
   "metadata": {},
   "source": [
    "##### 13. Write a function using only list comprehensions, no loops, to compute Standard Deviation. Print the Standard Deviation of each numeric column."
   ]
  },
  {
   "cell_type": "code",
   "execution_count": 82,
   "metadata": {
    "collapsed": false
   },
   "outputs": [],
   "source": [
    "# Defining standard deviation function for list of values using list comprehension only\n",
    "\n",
    "def lc_std(col):\n",
    "    mean_col = sum(col)/len(col)\n",
    "    std_dev = (sum([((i - mean_col)**2) for i in col]) / len(col))**(0.5)\n",
    "    return std_dev"
   ]
  },
  {
   "cell_type": "code",
   "execution_count": 79,
   "metadata": {
    "collapsed": false
   },
   "outputs": [
    {
     "name": "stdout",
     "output_type": "stream",
     "text": [
      "Standard deviation for rate is: 27.038\n"
     ]
    }
   ],
   "source": [
    "print \"Standard deviation for rate is:\", round(lc_std(rate_dict.values()[0]), 3)"
   ]
  },
  {
   "cell_type": "code",
   "execution_count": 80,
   "metadata": {
    "collapsed": false
   },
   "outputs": [
    {
     "name": "stdout",
     "output_type": "stream",
     "text": [
      "Standard deviation for verb is: 32.915\n"
     ]
    }
   ],
   "source": [
    "print \"Standard deviation for verb is:\", round(lc_std(verb_dict.values()[0]), 3)"
   ]
  },
  {
   "cell_type": "code",
   "execution_count": 81,
   "metadata": {
    "collapsed": false
   },
   "outputs": [
    {
     "name": "stdout",
     "output_type": "stream",
     "text": [
      "Standard deviation for math is: 35.667\n"
     ]
    }
   ],
   "source": [
    "print \"Standard deviation for math is:\", round(lc_std(math_dict.values()[0]), 3)"
   ]
  },
  {
   "cell_type": "markdown",
   "metadata": {},
   "source": [
    "## Step 4: Visualize the data"
   ]
  },
  {
   "cell_type": "markdown",
   "metadata": {
    "collapsed": true
   },
   "source": [
    "##### 14. Using MatPlotLib and PyPlot, plot the distribution of the Rate using histograms."
   ]
  },
  {
   "cell_type": "code",
   "execution_count": 86,
   "metadata": {
    "collapsed": false
   },
   "outputs": [
    {
     "data": {
      "image/png": "[encoded data removed]",
      "text/plain": [
       "<matplotlib.figure.Figure at 0x118eea9d0>"
      ]
     },
     "metadata": {},
     "output_type": "display_data"
    }
   ],
   "source": [
    "%matplotlib inline\n",
    "\n",
    "# Histogram of rates\n",
    "import seaborn as sns\n",
    "import matplotlib.pyplot as plt\n",
    "\n",
    "# the histogram of the data\n",
    "n, bins, patches = plt.hist(rate_dict.values()[0], 25, facecolor='green', alpha=0.75)\n",
    "\n",
    "plt.xlabel('Participation rate (%)')\n",
    "plt.ylabel('Count')\n",
    "plt.title('Histogram of SAT participation rates')\n",
    "plt.axis([0, round(max_rate + (0.05*max_rate),0), 0, 10])\n",
    "plt.grid(True)\n",
    "\n",
    "plt.show()"
   ]
  },
  {
   "cell_type": "markdown",
   "metadata": {},
   "source": [
    "##### 15. Plot the Math distribution"
   ]
  },
  {
   "cell_type": "code",
   "execution_count": 93,
   "metadata": {
    "collapsed": false
   },
   "outputs": [
    {
     "data": {
      "image/png": "[encoded data removed]",
      "text/plain": [
       "<matplotlib.figure.Figure at 0x117bc7fd0>"
      ]
     },
     "metadata": {},
     "output_type": "display_data"
    }
   ],
   "source": [
    "# Histogram of math scores\n",
    "\n",
    "# the histogram of the data\n",
    "n, bins, patches = plt.hist(math_dict.values()[0], 30, facecolor='red', alpha=0.5)\n",
    "\n",
    "plt.xlabel('SAT Math Scores')\n",
    "plt.ylabel('Count')\n",
    "plt.title('Histogram of SAT Math scores')\n",
    "plt.axis([round(min_math -(0.02*min_math),0), round(max_math + (0.02*max_math),0), 0, 7])\n",
    "plt.grid(True)\n",
    "\n",
    "plt.show()"
   ]
  },
  {
   "cell_type": "markdown",
   "metadata": {},
   "source": [
    "##### 16. Plot the Verbal distribution"
   ]
  },
  {
   "cell_type": "code",
   "execution_count": 95,
   "metadata": {
    "collapsed": false
   },
   "outputs": [
    {
     "data": {
      "image/png": "[encoded data removed]",
      "text/plain": [
       "<matplotlib.figure.Figure at 0x119c3c810>"
      ]
     },
     "metadata": {},
     "output_type": "display_data"
    }
   ],
   "source": [
    "# Histogram of verbal scores\n",
    "\n",
    "# the histogram of the data\n",
    "n, bins, patches = plt.hist(verb_dict.values()[0], 25, facecolor='blue', alpha=0.5)\n",
    "\n",
    "plt.xlabel('SAT Verbal Scores')\n",
    "plt.ylabel('Count')\n",
    "plt.title('Histogram of SAT verbal scores')\n",
    "plt.axis([round(min_verb -(0.02*min_verb),0), round(max_verb + (0.02*max_verb),0), 0, 6])\n",
    "plt.grid(True)\n",
    "\n",
    "plt.show()"
   ]
  },
  {
   "cell_type": "markdown",
   "metadata": {},
   "source": [
    "##### 17. What is the typical assumption for data distribution?"
   ]
  },
  {
   "cell_type": "markdown",
   "metadata": {
    "collapsed": false
   },
   "source": [
    "Typical assumption is that the distribution with large sample sizes should be approximately normally distributed."
   ]
  },
  {
   "cell_type": "markdown",
   "metadata": {},
   "source": [
    "##### 18. Does that distribution hold true for our data?"
   ]
  },
  {
   "cell_type": "markdown",
   "metadata": {
    "collapsed": false
   },
   "source": [
    "Not really. A little for math scores, but even so, math is still rather skewed. For participation rate and verbal scores, we see distributions that are completely not normal, with higher frequencies at both the tails and a trough in the middle."
   ]
  },
  {
   "cell_type": "markdown",
   "metadata": {},
   "source": [
    "##### 19. Plot some scatterplots. **BONUS**: Use a PyPlot `figure` to present multiple plots at once."
   ]
  },
  {
   "cell_type": "code",
   "execution_count": 119,
   "metadata": {
    "collapsed": false
   },
   "outputs": [
    {
     "data": {
      "image/png": "[encoded data removed]",
      "text/plain": [
       "<matplotlib.figure.Figure at 0x1180d3490>"
      ]
     },
     "metadata": {},
     "output_type": "display_data"
    },
    {
     "data": {
      "text/plain": [
       "<matplotlib.figure.Figure at 0x117cafb50>"
      ]
     },
     "metadata": {},
     "output_type": "display_data"
    }
   ],
   "source": [
    "# Scatterplot of:\n",
    "\n",
    "# Y vs X\n",
    "\n",
    "# Create a figure instance\n",
    "fig = plt.figure(1, figsize=(10, 8))\n",
    "\n",
    "# Create an axes instance\n",
    "ax = fig.add_subplot(111)\n",
    "\n",
    "# Rate vs Math\n",
    "x_rm = math_dict.values()[0]\n",
    "y_rm = rate_dict.values()[0]\n",
    "\n",
    "# Rate vs Verbal\n",
    "x_rv = verb_dict.values()[0]\n",
    "y_rv = rate_dict.values()[0]\n",
    "\n",
    "rm = ax.scatter(x_rm, y_rm, color='b', s=80, marker='^', alpha=.4)\n",
    "rv = ax.scatter(x_rv, y_rv, color='r', s=80, alpha=.4)\n",
    "#ax.legend()\n",
    "\n",
    "plt.xlabel('SAT Math/Verbal Scores')\n",
    "plt.ylabel('Participation rates (%)')\n",
    "plt.title('Scatterplot of Participation rates vs SAT Math/Verbal scores')\n",
    "plt.figure(figsize=(20,10))\n",
    "\n",
    "ax.legend((rm,rv),\n",
    "           ('Math', 'Verbal'),\n",
    "           scatterpoints=1,\n",
    "           loc='upper right',\n",
    "           fontsize=12,\n",
    "         fancybox = True,\n",
    "         shadow=True)\n",
    "\n",
    "fig.savefig('GA-DSI_Proj01_Scatterplot_math-verb-rate.png', dpi=fig.dpi)"
   ]
  },
  {
   "cell_type": "markdown",
   "metadata": {
    "collapsed": false
   },
   "source": [
    "SAT scores (both verbal and math) are generally negatively correlated with participation rates. This is rather counter-intuitive initially since naively, we would expect states which push hard for higher participation in SATs to have higher scores. Since the natural tendency is to associate the degree of emphasis on participation with the quality of education, it was expected for states with high participation rates to have the corresponding necessary ecosystem to support getting good SAT scores as well."
   ]
  },
  {
   "cell_type": "markdown",
   "metadata": {},
   "source": [
    "##### Identification of the math outlier"
   ]
  },
  {
   "cell_type": "code",
   "execution_count": 125,
   "metadata": {
    "collapsed": false
   },
   "outputs": [
    {
     "name": "stdout",
     "output_type": "stream",
     "text": [
      "Outlier for math score: OH 439.0\n"
     ]
    }
   ],
   "source": [
    "for k in state_math_dict.keys():\n",
    "    if state_math_dict[k] < 450:\n",
    "        print \"Outlier for math score:\", k, state_math_dict[k]"
   ]
  },
  {
   "cell_type": "code",
   "execution_count": 121,
   "metadata": {
    "collapsed": false
   },
   "outputs": [
    {
     "data": {
      "image/png": "[encoded data removed]",
      "text/plain": [
       "<matplotlib.figure.Figure at 0x119bee310>"
      ]
     },
     "metadata": {},
     "output_type": "display_data"
    }
   ],
   "source": [
    "# Scatterplot of:\n",
    "\n",
    "# Y vs X\n",
    "\n",
    "# Create a figure instance\n",
    "fig = plt.figure(1, figsize=(10, 8))\n",
    "\n",
    "# Create an axes instance\n",
    "ax = fig.add_subplot(111)\n",
    "\n",
    "# Math vs Verbal\n",
    "x_mv = math_dict.values()[0]\n",
    "y_mv = verb_dict.values()[0]\n",
    "\n",
    "ax.scatter(x_mv, y_mv, color='g', s=200, marker='s', alpha=.4)\n",
    "\n",
    "plt.xlabel('SAT Math Scores')\n",
    "plt.ylabel('SAT Verbal Scores')\n",
    "plt.title('Scatterplot of SAT Verbal vs SAT Math scores')\n",
    "\n",
    "#plt.legend(loc=4)\n",
    "\n",
    "plt.show()\n",
    "fig.savefig('GA-DSI_Proj01_Scatterplot_math-verb.png', dpi=fig.dpi)"
   ]
  },
  {
   "cell_type": "code",
   "execution_count": 128,
   "metadata": {
    "collapsed": false
   },
   "outputs": [
    {
     "data": {
      "image/png": "[encoded data removed]",
      "text/plain": [
       "<matplotlib.figure.Figure at 0x10d276fd0>"
      ]
     },
     "metadata": {},
     "output_type": "display_data"
    }
   ],
   "source": [
    "# Scatterplot of Math and verbal scores with size of points as participation rates.\n",
    "\n",
    "# Create a figure instance\n",
    "fig = plt.figure(1, figsize=(10, 8))\n",
    "\n",
    "# Create an axes instance\n",
    "ax = fig.add_subplot(111)\n",
    "\n",
    "# Math vs Verbal\n",
    "x_mv = math_dict.values()[0]\n",
    "y_mv = verb_dict.values()[0]\n",
    "\n",
    "# Multiplying each circle with a factor to increase visibility\n",
    "size_factor = 60\n",
    "\n",
    "rate = [(i * size_factor) for i in rate_dict.values()[0]]\n",
    "\n",
    "# Adjusting the size of points and multiplying by a factor for better visualization.\n",
    "ax.scatter(x_mv, y_mv, color='teal', s=rate, marker='o', alpha=.2)\n",
    "\n",
    "plt.xlabel('SAT Math Scores')\n",
    "plt.ylabel('SAT Verbal Scores')\n",
    "plt.title('Scatterplot of SAT Verbal vs SAT Math scores')\n",
    "\n",
    "plt.show()\n",
    "fig.savefig('GA-DSI_Proj01_Scatterplot_rate_math-verb.png', dpi=fig.dpi)"
   ]
  },
  {
   "cell_type": "markdown",
   "metadata": {},
   "source": [
    "##### 20. Are there any interesting relationships to note?"
   ]
  },
  {
   "cell_type": "markdown",
   "metadata": {},
   "source": [
    "##### Majority of states had SAT scores near the national average\n",
    "Darkest portion of the plots hovered around near 500 Math and 500 verbal. This correlated with the national average SAT scores in 2001, based on a quick google search [Studypoint website](http://www.studypoint.com/ed/average-sat-scores/).\n",
    "\n",
    "##### Higher participation rates correlate with lower SAT scores and vice versa\n",
    "The relative positions of the smaller circle, which clustered to the upper right quadrant, compared with the larger circles (higher participation rates) which clustered to the lower left quadrant.\n",
    "\n",
    "##### Correlation != Causation\n",
    "However, correlation doesn't indicate causation, so without more focused experiments, we cannot conclude that lower participation rates will result in better scores."
   ]
  },
  {
   "cell_type": "markdown",
   "metadata": {},
   "source": [
    "##### 21. Create box plots for each variable. "
   ]
  },
  {
   "cell_type": "code",
   "execution_count": 40,
   "metadata": {
    "collapsed": false
   },
   "outputs": [
    {
     "data": {
      "image/png": "[encoded data removed]",
      "text/plain": [
       "<matplotlib.figure.Figure at 0x10d7d44d0>"
      ]
     },
     "metadata": {},
     "output_type": "display_data"
    }
   ],
   "source": [
    "# Box plots with custom fill colors\n",
    "\n",
    "#Putting all the data to plot into a list as input for the boxplot\n",
    "all_data = [rate_dict.values()[0], math_dict.values()[0], verb_dict.values()[0]]\n",
    "\n",
    "# Create a figure instance\n",
    "fig = plt.figure(1, figsize=(9, 6))\n",
    "\n",
    "# Create an axes instance\n",
    "ax = fig.add_subplot(111)\n",
    "\n",
    "## add patch_artist=True option to ax.boxplot() \n",
    "## to get fill color\n",
    "bp = ax.boxplot(all_data, patch_artist=True)\n",
    "\n",
    "## change outline color, fill color and linewidth of the boxes\n",
    "for box in bp['boxes']:\n",
    "    # change outline color\n",
    "    box.set( color='#7570b3', linewidth=2)\n",
    "    # change fill color\n",
    "    box.set( facecolor = '#1b9e77' )\n",
    "\n",
    "## change color and linewidth of the whiskers\n",
    "for whisker in bp['whiskers']:\n",
    "    whisker.set(color='#7570b3', linewidth=2)\n",
    "\n",
    "## change color and linewidth of the caps\n",
    "for cap in bp['caps']:\n",
    "    cap.set(color='#7570b3', linewidth=2)\n",
    "\n",
    "## change color and linewidth of the medians\n",
    "for median in bp['medians']:\n",
    "    median.set(color='#b2df8a', linewidth=2)\n",
    "\n",
    "## change the style of fliers and their fill\n",
    "for flier in bp['fliers']:\n",
    "    flier.set(marker='o', color='#e7298a', alpha=0.5)\n",
    "    \n",
    "## Custom x-axis labels\n",
    "ax.set_xticklabels(['Participation Rate', 'Math Scores', 'Verbal Scores'])\n",
    "\n",
    "## Remove top axes and right axes ticks\n",
    "ax.get_xaxis().tick_bottom()\n",
    "ax.get_yaxis().tick_left()\n",
    "\n",
    "# Save the figure\n",
    "fig.savefig('GA-DSI_Proj01_Boxplot_rate-math-verb.png', dpi=fig.dpi)\n",
    "\n",
    "plt.show()"
   ]
  },
  {
   "cell_type": "markdown",
   "metadata": {},
   "source": [
    "This is probably not an ideal visualization since the ranges of \"SAT scores\" and \"participation rates\" are quite different (order of 5). Hence, I proceeded to plot them separately."
   ]
  },
  {
   "cell_type": "code",
   "execution_count": 41,
   "metadata": {
    "collapsed": false
   },
   "outputs": [
    {
     "data": {
      "image/png": "[encoded data removed]",
      "text/plain": [
       "<matplotlib.figure.Figure at 0x10d025c10>"
      ]
     },
     "metadata": {},
     "output_type": "display_data"
    }
   ],
   "source": [
    "# Box plot for participation rates only\n",
    "\n",
    "all_data = [rate_dict.values()[0]]\n",
    "\n",
    "# Create a figure instance\n",
    "fig = plt.figure(1, figsize=(9, 6))\n",
    "\n",
    "# Create an axes instance\n",
    "ax = fig.add_subplot(111)\n",
    "\n",
    "## add patch_artist=True option to ax.boxplot() \n",
    "## to get fill color\n",
    "bp = ax.boxplot(all_data, patch_artist=True)\n",
    "\n",
    "## change outline color, fill color and linewidth of the boxes\n",
    "for box in bp['boxes']:\n",
    "    # change outline color\n",
    "    box.set( color='#7570b3', linewidth=2)\n",
    "    # change fill color\n",
    "    box.set( facecolor = '#1b9e77' )\n",
    "\n",
    "## change color and linewidth of the whiskers\n",
    "for whisker in bp['whiskers']:\n",
    "    whisker.set(color='#7570b3', linewidth=2)\n",
    "\n",
    "## change color and linewidth of the caps\n",
    "for cap in bp['caps']:\n",
    "    cap.set(color='#7570b3', linewidth=2)\n",
    "\n",
    "## change color and linewidth of the medians\n",
    "for median in bp['medians']:\n",
    "    median.set(color='#b2df8a', linewidth=2)\n",
    "\n",
    "## change the style of fliers and their fill\n",
    "for flier in bp['fliers']:\n",
    "    flier.set(marker='o', color='#e7298a', alpha=0.5)\n",
    "    \n",
    "## Custom x-axis labels\n",
    "ax.set_xticklabels(['Participation Rate', 'Math Scores', 'Verbal Scores'])\n",
    "\n",
    "## Remove top axes and right axes ticks\n",
    "ax.get_xaxis().tick_bottom()\n",
    "ax.get_yaxis().tick_left()\n",
    "\n",
    "# Adding labels\n",
    "plt.title('Boxplot of SAT participation rates')\n",
    "plt.ylabel('Participation rates (%)')\n",
    "\n",
    "# Save the figure\n",
    "fig.savefig('GA-DSI_Proj01_Boxplot_rate-only.png', dpi=fig.dpi)\n",
    "\n",
    "plt.show()"
   ]
  },
  {
   "cell_type": "code",
   "execution_count": 126,
   "metadata": {
    "collapsed": false
   },
   "outputs": [
    {
     "data": {
      "image/png": "[encoded data removed]",
      "text/plain": [
       "<matplotlib.figure.Figure at 0x117f4d690>"
      ]
     },
     "metadata": {},
     "output_type": "display_data"
    }
   ],
   "source": [
    "# Box plots with custom fill colors\n",
    "\n",
    "#Putting all the data to plot into a list as input for the boxplot\n",
    "all_data = [math_dict.values()[0], verb_dict.values()[0]]\n",
    "\n",
    "# Create a figure instance\n",
    "fig = plt.figure(1, figsize=(9, 6))\n",
    "\n",
    "# Create an axes instance\n",
    "ax = fig.add_subplot(111)\n",
    "\n",
    "## add patch_artist=True option to ax.boxplot() \n",
    "## to get fill color\n",
    "bp = ax.boxplot(all_data, patch_artist=True)\n",
    "\n",
    "## change outline color, fill color and linewidth of the boxes\n",
    "for box in bp['boxes']:\n",
    "    # change outline color\n",
    "    box.set( color='#7570b3', linewidth=2)\n",
    "    # change fill color\n",
    "    box.set( facecolor = '#1b9e77' )\n",
    "\n",
    "## change color and linewidth of the whiskers\n",
    "for whisker in bp['whiskers']:\n",
    "    whisker.set(color='#7570b3', linewidth=2)\n",
    "\n",
    "## change color and linewidth of the caps\n",
    "for cap in bp['caps']:\n",
    "    cap.set(color='#7570b3', linewidth=2)\n",
    "\n",
    "## change color and linewidth of the medians\n",
    "for median in bp['medians']:\n",
    "    median.set(color='#b2df8a', linewidth=2)\n",
    "\n",
    "## change the style of fliers and their fill\n",
    "for flier in bp['fliers']:\n",
    "    flier.set(marker='o', color='#e7298a', alpha=0.5)\n",
    "    \n",
    "## Custom x-axis labels\n",
    "ax.set_xticklabels(['Math Scores', 'Verbal Scores'])\n",
    "\n",
    "## Remove top axes and right axes ticks\n",
    "ax.get_xaxis().tick_bottom()\n",
    "ax.get_yaxis().tick_left()\n",
    "\n",
    "# Adding labels\n",
    "plt.title('Boxplots of SAT Scores')\n",
    "plt.ylabel('SAT Scores')\n",
    "\n",
    "# Save the figure\n",
    "fig.savefig('GA-DSI_Proj01_Boxplot_math-verb.png', dpi=fig.dpi)\n",
    "\n",
    "plt.show()"
   ]
  },
  {
   "cell_type": "markdown",
   "metadata": {},
   "source": [
    "#### Comments:\n",
    "\n",
    "From the boxplots, it is clearer (as compared to the scatterplots) that the range for math scores is larger that that of the verbal scores. However, the core (25th to 75th percentile) of math scores is more compact compared to verbal. Verbal also has a higher median score compared to math."
   ]
  },
  {
   "cell_type": "markdown",
   "metadata": {},
   "source": [
    "##### BONUS: Using Tableau, create a heat map for each variable using a map of the US. "
   ]
  },
  {
   "cell_type": "markdown",
   "metadata": {
    "collapsed": true
   },
   "source": [
    "![SAT_verbal_score_heatmap](SAT_verbal_score_heatmap.png)"
   ]
  },
  {
   "cell_type": "markdown",
   "metadata": {},
   "source": [
    "![SAT_math_score_heatmap](SAT_math_score_heatmap.png)"
   ]
  },
  {
   "cell_type": "markdown",
   "metadata": {},
   "source": [
    "![SAT_participation_heatmap](SAT_participation_rate_heatmap.png)\n"
   ]
  },
  {
   "cell_type": "markdown",
   "metadata": {},
   "source": [
    "### Project blog post\n",
    "\n",
    "https://peidacai.github.io/articles/General-Assembly-Project01_post"
   ]
  },
  {
   "cell_type": "code",
   "execution_count": null,
   "metadata": {
    "collapsed": true
   },
   "outputs": [],
   "source": []
  }
 ],
 "metadata": {
  "anaconda-cloud": {},
  "kernelspec": {
   "display_name": "Python [Root]",
   "language": "python",
   "name": "Python [Root]"
  },
  "language_info": {
   "codemirror_mode": {
    "name": "ipython",
    "version": 2
   },
   "file_extension": ".py",
   "mimetype": "text/x-python",
   "name": "python",
   "nbconvert_exporter": "python",
   "pygments_lexer": "ipython2",
   "version": "2.7.12"
  }
 },
 "nbformat": 4,
 "nbformat_minor": 0
}
