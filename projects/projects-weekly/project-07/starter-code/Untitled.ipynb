{
 "cells": [
  {
   "cell_type": "code",
   "execution_count": 69,
   "metadata": {
    "ExecuteTime": {
     "end_time": "2016-11-07T21:26:10.736913",
     "start_time": "2016-11-07T21:26:10.722920"
    },
    "collapsed": false
   },
   "outputs": [],
   "source": [
    "def check_num(test):\n",
    "    array_n = test[0]\n",
    "    inte = test[1]\n",
    "    \n",
    "    diff_array = []\n",
    "    for i in array_n:\n",
    "        diff_array.append(inte-i) \n",
    "    a = 'False'\n",
    "    b = []\n",
    "    for i in diff_array:\n",
    "        \n",
    "        if i in array_n:\n",
    "            a = \"True\"\n",
    "            b.append(i)\n",
    "            b.append(inte - i)\n",
    "            \n",
    "    \n",
    "    \n",
    "    return a\n",
    "            \n",
    "    "
   ]
  },
  {
   "cell_type": "code",
   "execution_count": 70,
   "metadata": {
    "ExecuteTime": {
     "end_time": "2016-11-07T21:26:11.503186",
     "start_time": "2016-11-07T21:26:11.496388"
    },
    "collapsed": true
   },
   "outputs": [],
   "source": [
    "test_1 = ([3, 7, 88, 24, 9, 0], 9)\n",
    "test_2 = ([4, 93, 2000, 36, 55], 41)\n",
    "test_3 = ([4, 44, 4444, 1616, 8, 16], 48)\n",
    "test_4 =([2, -3, 72, -6, 1], 1)"
   ]
  },
  {
   "cell_type": "code",
   "execution_count": 71,
   "metadata": {
    "ExecuteTime": {
     "end_time": "2016-11-07T21:26:12.931946",
     "start_time": "2016-11-07T21:26:12.924851"
    },
    "collapsed": false
   },
   "outputs": [
    {
     "name": "stdout",
     "output_type": "stream",
     "text": [
      "a\n"
     ]
    }
   ],
   "source": [
    "if 0 in test_1[0]:\n",
    "    print 'a'"
   ]
  },
  {
   "cell_type": "code",
   "execution_count": 72,
   "metadata": {
    "ExecuteTime": {
     "end_time": "2016-11-07T21:26:13.852075",
     "start_time": "2016-11-07T21:26:13.844097"
    },
    "collapsed": false
   },
   "outputs": [
    {
     "name": "stdout",
     "output_type": "stream",
     "text": [
      "0 9\n",
      "9 0\n",
      "True\n",
      "False\n",
      "44 4\n",
      "4 44\n",
      "True\n",
      "False\n"
     ]
    }
   ],
   "source": [
    "print check_num(test_1)\n",
    "print check_num(test_2)\n",
    "print check_num(test_3)\n",
    "print check_num(test_4)"
   ]
  },
  {
   "cell_type": "code",
   "execution_count": null,
   "metadata": {
    "collapsed": true
   },
   "outputs": [],
   "source": []
  },
  {
   "cell_type": "code",
   "execution_count": null,
   "metadata": {
    "collapsed": true
   },
   "outputs": [],
   "source": []
  }
 ],
 "metadata": {
  "anaconda-cloud": {},
  "kernelspec": {
   "display_name": "Python [Root]",
   "language": "python",
   "name": "Python [Root]"
  },
  "language_info": {
   "codemirror_mode": {
    "name": "ipython",
    "version": 2
   },
   "file_extension": ".py",
   "mimetype": "text/x-python",
   "name": "python",
   "nbconvert_exporter": "python",
   "pygments_lexer": "ipython2",
   "version": "2.7.12"
  },
  "toc": {
   "nav_menu": {
    "height": "12px",
    "width": "252px"
   },
   "navigate_menu": true,
   "number_sections": true,
   "sideBar": true,
   "threshold": 4,
   "toc_cell": false,
   "toc_section_display": "block",
   "toc_window_display": false
  }
 },
 "nbformat": 4,
 "nbformat_minor": 0
}
