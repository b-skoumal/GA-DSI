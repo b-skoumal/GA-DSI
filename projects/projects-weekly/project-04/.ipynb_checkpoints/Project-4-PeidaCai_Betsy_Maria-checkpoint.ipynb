{
 "cells": [
  {
   "cell_type": "markdown",
   "metadata": {
    "focus": false,
    "id": "a948d79c-5527-4c0d-ab23-f5d43ce72056"
   },
   "source": [
    "# Project 4: Scraping job listings from Indeed.com and predicting salary of data scientist"
   ]
  },
  {
   "cell_type": "markdown",
   "metadata": {},
   "source": [
    "## Function to scrape location"
   ]
  },
  {
   "cell_type": "code",
   "execution_count": 5,
   "metadata": {
    "collapsed": false
   },
   "outputs": [
    {
     "name": "stderr",
     "output_type": "stream",
     "text": [
      "//anaconda/lib/python2.7/site-packages/sklearn/cross_validation.py:44: DeprecationWarning: This module was deprecated in version 0.18 in favor of the model_selection module into which all the refactored classes and functions are moved. Also note that the interface of the new CV iterators are different from that of this module. This module will be removed in 0.20.\n",
      "  \"This module will be removed in 0.20.\", DeprecationWarning)\n",
      "//anaconda/lib/python2.7/site-packages/sklearn/grid_search.py:43: DeprecationWarning: This module was deprecated in version 0.18 in favor of the model_selection module into which all the refactored classes and functions are moved. This module will be removed in 0.20.\n",
      "  DeprecationWarning)\n"
     ]
    }
   ],
   "source": [
    "% matplotlib inline\n",
    "\n",
    "import numpy as np\n",
    "import seaborn as sns\n",
    "import matplotlib.pyplot as plt\n",
    "import pandas as pd\n",
    "import re\n",
    "import requests\n",
    "from bs4 import BeautifulSoup\n",
    "import patsy\n",
    "from sklearn.grid_search import GridSearchCV\n",
    "\n",
    "\n",
    "from sklearn.preprocessing import MinMaxScaler\n",
    "from sklearn.feature_extraction.text import CountVectorizer\n",
    "from sklearn.linear_model import LogisticRegression\n",
    "from sklearn.cross_validation import train_test_split\n",
    "\n",
    "from sklearn.metrics import classification_report\n",
    "from sklearn.metrics import roc_auc_score\n",
    "from sklearn.metrics import roc_curve\n",
    "from sklearn.metrics import auc\n",
    "from sklearn.metrics import confusion_matrix"
   ]
  },
  {
   "cell_type": "code",
   "execution_count": 15,
   "metadata": {
    "collapsed": true,
    "focus": false,
    "id": "a1af53c9-9090-494f-b82e-cadb60a54909"
   },
   "outputs": [],
   "source": [
    "def get_location(result):\n",
    "    \n",
    "    loc = []\n",
    "    \n",
    "    # Indeed.com separates search results to top 9 and last row\n",
    "    # So for each variable, we need to search within 2 different classes separately\n",
    "    \n",
    "    for d in result.findAll('div', class_ = \"  row  result\"):\n",
    "\n",
    "        try:\n",
    "            a = d.find('span', class_ = 'location')\n",
    "            loc.append(a.text.strip())\n",
    "        except:\n",
    "            loc.append(\"None\")\n",
    "\n",
    "    for d in soup.findAll('div', class_ = \"lastRow  row  result\"):\n",
    "\n",
    "        try:\n",
    "            a = d.find('span', class_ = 'location')\n",
    "            loc.append(a.text.strip())\n",
    "        except:\n",
    "            loc.append(\"None\")\n",
    "    \n",
    "    return pd.Series(loc)"
   ]
  },
  {
   "cell_type": "markdown",
   "metadata": {},
   "source": [
    "## Function to scrape company name"
   ]
  },
  {
   "cell_type": "code",
   "execution_count": 16,
   "metadata": {
    "collapsed": true
   },
   "outputs": [],
   "source": [
    "def get_company(result):\n",
    "    \n",
    "    company = []\n",
    "    \n",
    "    for d in result.findAll('div', class_ = \"  row  result\"):\n",
    "\n",
    "        try:\n",
    "            a = d.find('span', class_ = 'company')\n",
    "            company.append(str(a.text).strip())\n",
    "        except:\n",
    "            company.append(\"None\")\n",
    "\n",
    "    for d in soup.findAll('div', class_ = \"lastRow  row  result\"):\n",
    "\n",
    "        try:\n",
    "            a = d.find('span', class_ = 'company')\n",
    "            company.append(str(a.text).strip())\n",
    "        except:\n",
    "            company.append(\"None\")\n",
    "\n",
    "    return pd.Series(company)"
   ]
  },
  {
   "cell_type": "markdown",
   "metadata": {},
   "source": [
    "## Function to scrape job title"
   ]
  },
  {
   "cell_type": "code",
   "execution_count": 17,
   "metadata": {
    "collapsed": false
   },
   "outputs": [],
   "source": [
    "def get_job(result):\n",
    "    \n",
    "    job = []\n",
    "    \n",
    "    for d in result.findAll('div', class_ = \"  row  result\"):\n",
    "\n",
    "        try:\n",
    "            a = d.find(class_ = 'jobtitle')\n",
    "            job.append(str(a.find('a').text).strip())\n",
    "        except:\n",
    "            job.append(\"None\")\n",
    "\n",
    "    for d in soup.findAll('div', class_ = \"lastRow  row  result\"):\n",
    "\n",
    "        try:\n",
    "            a = d.find(class_ = 'jobtitle')\n",
    "            job.append(str(a.find('a').text).strip())\n",
    "        except:\n",
    "            job.append(\"None\")\n",
    "        \n",
    "    return pd.Series(job)\n",
    "\n"
   ]
  },
  {
   "cell_type": "markdown",
   "metadata": {},
   "source": [
    "## Function to scrape salary"
   ]
  },
  {
   "cell_type": "code",
   "execution_count": 18,
   "metadata": {
    "collapsed": true
   },
   "outputs": [],
   "source": [
    "def get_salary(result):\n",
    "    sal = []\n",
    "    \n",
    "    for d in result.findAll('div', class_ = \"  row  result\"):\n",
    "\n",
    "        try:\n",
    "            a = d.findAll('td', class_ = 'snip')\n",
    "            sal.append((str(d.nobr)).strip())\n",
    "        except:\n",
    "            sal.append(\"None\")\n",
    "\n",
    "    for d in soup.findAll('div', class_ = \"lastRow  row  result\"):\n",
    "\n",
    "        try:\n",
    "            a = d.findAll('td', class_ = 'snip')\n",
    "            sal.append((str(d.nobr)).strip())\n",
    "        except:\n",
    "            sal.append(\"None\")\n",
    "    \n",
    "    return pd.Series(sal)"
   ]
  },
  {
   "cell_type": "markdown",
   "metadata": {},
   "source": [
    "## Function to scrape number of reviews"
   ]
  },
  {
   "cell_type": "code",
   "execution_count": 19,
   "metadata": {
    "collapsed": true
   },
   "outputs": [],
   "source": [
    "def get_review(result):\n",
    "    rev = []\n",
    "    \n",
    "    for d in result.findAll('div', class_ = \"  row  result\"):\n",
    "\n",
    "        try:\n",
    "            a = d.find('span', class_ = 'slNoUnderline').text\n",
    "            rev.append(str(a).strip())\n",
    "        except:\n",
    "            rev.append(\"None\")\n",
    "\n",
    "    for d in soup.findAll('div', class_ = \"lastRow  row  result\"):\n",
    "\n",
    "        try:\n",
    "            a = d.find('span', class_ = 'slNoUnderline').text\n",
    "            rev.append(str(a).strip())\n",
    "\n",
    "        except:\n",
    "            rev.append(\"None\")\n",
    "\n",
    "    return pd.Series(rev)\n",
    "    \n",
    "    "
   ]
  },
  {
   "cell_type": "markdown",
   "metadata": {},
   "source": [
    "## Function to scrape company ratings"
   ]
  },
  {
   "cell_type": "code",
   "execution_count": 29,
   "metadata": {
    "collapsed": true
   },
   "outputs": [],
   "source": [
    "# Extract ratings from string\n",
    "\n",
    "def reg_rate(x):\n",
    "    matchObj = re.findall( r'(\\d+\\.\\d)', x, re.I)\n",
    "    if matchObj:\n",
    "        return float(matchObj[0])\n",
    "    else:\n",
    "        return 0."
   ]
  },
  {
   "cell_type": "code",
   "execution_count": 30,
   "metadata": {
    "collapsed": true
   },
   "outputs": [],
   "source": [
    "def get_rating(result):\n",
    "    \n",
    "    rate = []\n",
    "    \n",
    "    for d in result.findAll('div', class_ = \"  row  result\"):\n",
    "\n",
    "        try:\n",
    "            a = d.find('span', class_ = 'rating')['style']\n",
    "            rate.append(reg_rate(str(a).strip()))\n",
    "        except:\n",
    "            rate.append(\"None\")\n",
    "\n",
    "    for d in soup.findAll('div', class_ = \"lastRow  row  result\"):\n",
    "\n",
    "        try:\n",
    "            a = d.find('span', class_ = 'rating')['style']\n",
    "            rate.append(reg_rate(str(a).strip()))\n",
    "\n",
    "        except:\n",
    "            rate.append(\"None\")\n",
    "\n",
    "    return pd.Series(rate)\n",
    "    \n",
    "    "
   ]
  },
  {
   "cell_type": "markdown",
   "metadata": {},
   "source": [
    "## Function to scrape job summary"
   ]
  },
  {
   "cell_type": "code",
   "execution_count": 22,
   "metadata": {
    "collapsed": true
   },
   "outputs": [],
   "source": [
    "def reg_sum(x):\n",
    "    \n",
    "    y = x[45:(len(x) - 7)]\n",
    "    y = y.replace('<b>', '')\n",
    "    y = y.replace('</b>', '')\n",
    "    \n",
    "    return y.strip()"
   ]
  },
  {
   "cell_type": "code",
   "execution_count": 23,
   "metadata": {
    "collapsed": true
   },
   "outputs": [],
   "source": [
    "def get_summary(result):\n",
    "    \n",
    "    summ = []\n",
    "    \n",
    "    for d in result.findAll('div', class_ = \"  row  result\"):\n",
    "\n",
    "        try:\n",
    "            a = d.find('span', class_ = 'summary')\n",
    "            summ.append(reg_sum(str(a)))\n",
    "        except:\n",
    "            summ.append(\"None\")\n",
    "\n",
    "    for d in soup.findAll('div', class_ = \"lastRow  row  result\"):\n",
    "\n",
    "        try:\n",
    "            a = d.find('span', class_ = 'summary')\n",
    "            summ.append(reg_sum(str(a)))\n",
    "        except:\n",
    "            summ.append(\"None\")\n",
    "\n",
    "    return pd.Series(summ)\n",
    "    \n",
    "    "
   ]
  },
  {
   "cell_type": "markdown",
   "metadata": {},
   "source": [
    "## Importing a list of top cities for data science jobs (246 cities in USA)"
   ]
  },
  {
   "cell_type": "markdown",
   "metadata": {},
   "source": [
    "Source\n",
    "[Best_cities_for_data_scientists]('https://infogr.am/30f00c18-997e-4a9d-b903-191899a53890')"
   ]
  },
  {
   "cell_type": "code",
   "execution_count": 24,
   "metadata": {
    "collapsed": false
   },
   "outputs": [
    {
     "data": {
      "text/html": [
       "<div>\n",
       "<table border=\"1\" class=\"dataframe\">\n",
       "  <thead>\n",
       "    <tr style=\"text-align: right;\">\n",
       "      <th></th>\n",
       "      <th>City</th>\n",
       "      <th>State</th>\n",
       "    </tr>\n",
       "  </thead>\n",
       "  <tbody>\n",
       "    <tr>\n",
       "      <th>0</th>\n",
       "      <td>Morrisville</td>\n",
       "      <td>NC</td>\n",
       "    </tr>\n",
       "    <tr>\n",
       "      <th>1</th>\n",
       "      <td>Palo Alto</td>\n",
       "      <td>CA</td>\n",
       "    </tr>\n",
       "    <tr>\n",
       "      <th>2</th>\n",
       "      <td>Redmond</td>\n",
       "      <td>WA</td>\n",
       "    </tr>\n",
       "    <tr>\n",
       "      <th>3</th>\n",
       "      <td>Mountain View</td>\n",
       "      <td>CA</td>\n",
       "    </tr>\n",
       "    <tr>\n",
       "      <th>4</th>\n",
       "      <td>El Segundo</td>\n",
       "      <td>CA</td>\n",
       "    </tr>\n",
       "  </tbody>\n",
       "</table>\n",
       "</div>"
      ],
      "text/plain": [
       "            City State\n",
       "0    Morrisville    NC\n",
       "1      Palo Alto    CA\n",
       "2        Redmond    WA\n",
       "3  Mountain View    CA\n",
       "4     El Segundo    CA"
      ]
     },
     "execution_count": 24,
     "metadata": {},
     "output_type": "execute_result"
    }
   ],
   "source": [
    "# Importing a df of cities best for data science\n",
    "\n",
    "df_cities = pd.read_csv('ds_cities.csv')\n",
    "df_cities.head()"
   ]
  },
  {
   "cell_type": "markdown",
   "metadata": {},
   "source": [
    "## Create a list of city, state, in the form of indeed's web address"
   ]
  },
  {
   "cell_type": "code",
   "execution_count": 25,
   "metadata": {
    "collapsed": false
   },
   "outputs": [],
   "source": [
    "# Indeed.com's url format of city, state is like this 'Tucson%2C+AZ'\n",
    "\n",
    "cities_list = []\n",
    "\n",
    "for i in range(len(df_cities)):\n",
    "    x = df_cities.iloc[i, 0] + \"%2C+\" + df_cities.iloc[i, 1]\n",
    "    cities_list.append(x)"
   ]
  },
  {
   "cell_type": "markdown",
   "metadata": {},
   "source": [
    "## Scrap indeed for data scientist jobs in city list (Single page test)"
   ]
  },
  {
   "cell_type": "code",
   "execution_count": 31,
   "metadata": {
    "collapsed": true
   },
   "outputs": [],
   "source": [
    "url = 'http://www.indeed.com/jobs?q=data+scientist&l=Palo+Alto%2C+CA'\n",
    "\n",
    "results = []\n",
    "\n",
    "r = requests.get(url)\n",
    "\n",
    "page = r.content\n",
    "soup = BeautifulSoup(page, 'lxml')\n",
    "\n",
    "results.append(get_job(soup))\n",
    "results.append(get_location(soup))\n",
    "results.append(get_company(soup))\n",
    "results.append(get_salary(soup))\n",
    "results.append(get_review(soup))\n",
    "results.append(get_rating(soup))\n",
    "results.append(get_summary(soup))"
   ]
  },
  {
   "cell_type": "code",
   "execution_count": 32,
   "metadata": {
    "collapsed": false
   },
   "outputs": [
    {
     "data": {
      "text/plain": [
       "[0    Pivotus Ventures - Data Scientist - Palo Alto\n",
       " 1                                   Data Scientist\n",
       " 2                Data Scientist, Core Data Science\n",
       " 3                        Machine Learning Engineer\n",
       " 4                           Research Scientist Job\n",
       " 5                   Data Scientist, Autopilot Maps\n",
       " 6                                   Data scientist\n",
       " 7                                   Data Scientist\n",
       " 8                                   Data Scientist\n",
       " 9                                   Data Scientist\n",
       " dtype: object, 0              Palo Alto, CA\n",
       " 1              Palo Alto, CA\n",
       " 2             Menlo Park, CA\n",
       " 3              Palo Alto, CA\n",
       " 4              Palo Alto, CA\n",
       " 5              Palo Alto, CA\n",
       " 6          Mountain View, CA\n",
       " 7              Sunnyvale, CA\n",
       " 8              Sunnyvale, CA\n",
       " 9    Mountain View, CA 94039\n",
       " dtype: object, 0       Umpqua Bank\n",
       " 1            HP Inc\n",
       " 2          Facebook\n",
       " 3           Diffbot\n",
       " 4              Visa\n",
       " 5      Tesla Motors\n",
       " 6           ZingBox\n",
       " 7     FocusKPI Inc.\n",
       " 8    Redolent, Inc.\n",
       " 9            Intuit\n",
       " dtype: object, 0    <nobr>$100,000 - $160,000 a year</nobr>\n",
       " 1                                       None\n",
       " 2                                       None\n",
       " 3                                       None\n",
       " 4                                       None\n",
       " 5                                       None\n",
       " 6                                       None\n",
       " 7                                       None\n",
       " 8                                       None\n",
       " 9                                       None\n",
       " dtype: object, 0     88 reviews\n",
       " 1           None\n",
       " 2    114 reviews\n",
       " 3           None\n",
       " 4    294 reviews\n",
       " 5    298 reviews\n",
       " 6           None\n",
       " 7           None\n",
       " 8           None\n",
       " 9    467 reviews\n",
       " dtype: object, 0    43.8\n",
       " 1    None\n",
       " 2      51\n",
       " 3    None\n",
       " 4      51\n",
       " 5    42.6\n",
       " 6    None\n",
       " 7    None\n",
       " 8    None\n",
       " 9    52.1\n",
       " dtype: object, 0    You will be eager to think about how machine l...\n",
       " 1    The Customer and Marketing Analytics group in ...\n",
       " 2    Scientists should be proficient in R. Responsi...\n",
       " 3    We’re looking for talented and driven machine ...\n",
       " 4    Reporting to the head of Data Analytics, the R...\n",
       " 5    We are building the world's best Autopilot exp...\n",
       " 6    Apply machine learning/anomaly detection techn...\n",
       " 7    You will use cutting edge machine learning, da...\n",
       " 8    You will use cutting edge machine learning, da...\n",
       " 9    Deep mastery of machine learning - Candidate m...\n",
       " dtype: object]"
      ]
     },
     "execution_count": 32,
     "metadata": {},
     "output_type": "execute_result"
    }
   ],
   "source": [
    "results"
   ]
  },
  {
   "cell_type": "markdown",
   "metadata": {},
   "source": [
    "## Full 246 cities, 300 results per city scrapping"
   ]
  },
  {
   "cell_type": "code",
   "execution_count": 33,
   "metadata": {
    "collapsed": false,
    "focus": false,
    "id": "04b0f9af-540e-402f-8292-81748707c676"
   },
   "outputs": [],
   "source": [
    "url_template = \"http://www.indeed.com/jobs?q=data+scientist+%2420%2C000&l={&start={\"\n",
    "url_list = url_template.split('{')\n",
    "max_results_per_city = 300\n",
    "\n",
    "results = []\n",
    "\n",
    "for city in set(cities_list):\n",
    "    \n",
    "    for start in range(0, max_results_per_city, 10):\n",
    "        \n",
    "        url = url_list[0] + city + url_list[1] + str(start)\n",
    "        \n",
    "        r = requests.get(url)\n",
    "        if str(r) == \"<Response [200]>\":\n",
    "            \n",
    "            page = r.content\n",
    "            soup = BeautifulSoup(page, 'lxml')\n",
    "            \n",
    "            results.append(get_job(soup))\n",
    "            results.append(get_location(soup))\n",
    "            results.append(get_company(soup))\n",
    "            results.append(get_salary(soup))\n",
    "            results.append(get_review(soup))\n",
    "            results.append(get_rating(soup))\n",
    "            results.append(get_summary(soup))\n",
    "            \n",
    "        else:\n",
    "            print \"This url is not responding favorably.\"\n",
    "            print \"url =\", url\n",
    "            print \"response =\", r\n",
    "            \n",
    "        # Grab the results from the request (as above)\n",
    "        # Append to the full set of results"
   ]
  },
  {
   "cell_type": "markdown",
   "metadata": {},
   "source": [
    "## Put scrapped materials into dataframe"
   ]
  },
  {
   "cell_type": "code",
   "execution_count": 34,
   "metadata": {
    "collapsed": false
   },
   "outputs": [
    {
     "name": "stdout",
     "output_type": "stream",
     "text": [
      "10\n"
     ]
    },
    {
     "data": {
      "text/html": [
       "<div>\n",
       "<table border=\"1\" class=\"dataframe\">\n",
       "  <thead>\n",
       "    <tr style=\"text-align: right;\">\n",
       "      <th></th>\n",
       "      <th>0</th>\n",
       "      <th>1</th>\n",
       "      <th>2</th>\n",
       "      <th>3</th>\n",
       "      <th>4</th>\n",
       "      <th>5</th>\n",
       "      <th>6</th>\n",
       "    </tr>\n",
       "  </thead>\n",
       "  <tbody>\n",
       "    <tr>\n",
       "      <th>0</th>\n",
       "      <td>Computer Data Scientist Job</td>\n",
       "      <td>Newport News, VA</td>\n",
       "      <td>SAIC</td>\n",
       "      <td>None</td>\n",
       "      <td>1,270 reviews</td>\n",
       "      <td>51.6</td>\n",
       "      <td>Computer Data Scientist (Job Number:. The data...</td>\n",
       "    </tr>\n",
       "    <tr>\n",
       "      <th>1</th>\n",
       "      <td>Operations Research Analyst</td>\n",
       "      <td>Hampton, VA</td>\n",
       "      <td>AECOM</td>\n",
       "      <td>None</td>\n",
       "      <td>1,810 reviews</td>\n",
       "      <td>43.2</td>\n",
       "      <td>Support data gathering and presentation of DCG...</td>\n",
       "    </tr>\n",
       "    <tr>\n",
       "      <th>2</th>\n",
       "      <td>Market Research Analyst II</td>\n",
       "      <td>Newport News, VA 23606</td>\n",
       "      <td>Canon</td>\n",
       "      <td>None</td>\n",
       "      <td>433 reviews</td>\n",
       "      <td>43.2</td>\n",
       "      <td>Provides support for business planning and mar...</td>\n",
       "    </tr>\n",
       "    <tr>\n",
       "      <th>3</th>\n",
       "      <td>Research Analyst</td>\n",
       "      <td>Hampton, VA</td>\n",
       "      <td>Thomas Nelson Comm College</td>\n",
       "      <td>&lt;nobr&gt;$55,000 - $64,260 a year&lt;/nobr&gt;</td>\n",
       "      <td>2 reviews</td>\n",
       "      <td>54</td>\n",
       "      <td>Primary responsibilities include meeting with ...</td>\n",
       "    </tr>\n",
       "    <tr>\n",
       "      <th>4</th>\n",
       "      <td>Intelligence Analyst</td>\n",
       "      <td>Suffolk, VA 23435</td>\n",
       "      <td>Scientific Research Corporation</td>\n",
       "      <td>None</td>\n",
       "      <td>53 reviews</td>\n",
       "      <td>43.8</td>\n",
       "      <td>Analyze data collected, extract evidence and d...</td>\n",
       "    </tr>\n",
       "  </tbody>\n",
       "</table>\n",
       "</div>"
      ],
      "text/plain": [
       "                             0                       1  \\\n",
       "0  Computer Data Scientist Job        Newport News, VA   \n",
       "1  Operations Research Analyst             Hampton, VA   \n",
       "2   Market Research Analyst II  Newport News, VA 23606   \n",
       "3             Research Analyst             Hampton, VA   \n",
       "4         Intelligence Analyst       Suffolk, VA 23435   \n",
       "\n",
       "                                 2                                      3  \\\n",
       "0                             SAIC                                   None   \n",
       "1                            AECOM                                   None   \n",
       "2                            Canon                                   None   \n",
       "3       Thomas Nelson Comm College  <nobr>$55,000 - $64,260 a year</nobr>   \n",
       "4  Scientific Research Corporation                                   None   \n",
       "\n",
       "               4     5                                                  6  \n",
       "0  1,270 reviews  51.6  Computer Data Scientist (Job Number:. The data...  \n",
       "1  1,810 reviews  43.2  Support data gathering and presentation of DCG...  \n",
       "2    433 reviews  43.2  Provides support for business planning and mar...  \n",
       "3      2 reviews    54  Primary responsibilities include meeting with ...  \n",
       "4     53 reviews  43.8  Analyze data collected, extract evidence and d...  "
      ]
     },
     "execution_count": 34,
     "metadata": {},
     "output_type": "execute_result"
    }
   ],
   "source": [
    "# Initializing the dataframe\n",
    "\n",
    "df = pd.DataFrame(results[0:7]).T\n",
    "print len(df)\n",
    "df.head()\n"
   ]
  },
  {
   "cell_type": "code",
   "execution_count": 35,
   "metadata": {
    "collapsed": false
   },
   "outputs": [
    {
     "name": "stdout",
     "output_type": "stream",
     "text": [
      "60294\n"
     ]
    },
    {
     "data": {
      "text/html": [
       "<div>\n",
       "<table border=\"1\" class=\"dataframe\">\n",
       "  <thead>\n",
       "    <tr style=\"text-align: right;\">\n",
       "      <th></th>\n",
       "      <th>Job Title</th>\n",
       "      <th>Location</th>\n",
       "      <th>Company</th>\n",
       "      <th>Salary</th>\n",
       "      <th>No. of Reviews</th>\n",
       "      <th>Company Ratings</th>\n",
       "      <th>Job Summary</th>\n",
       "    </tr>\n",
       "  </thead>\n",
       "  <tbody>\n",
       "    <tr>\n",
       "      <th>0</th>\n",
       "      <td>Computer Data Scientist Job</td>\n",
       "      <td>Newport News, VA</td>\n",
       "      <td>SAIC</td>\n",
       "      <td>None</td>\n",
       "      <td>1,270 reviews</td>\n",
       "      <td>51.6</td>\n",
       "      <td>Computer Data Scientist (Job Number:. The data...</td>\n",
       "    </tr>\n",
       "    <tr>\n",
       "      <th>1</th>\n",
       "      <td>Operations Research Analyst</td>\n",
       "      <td>Hampton, VA</td>\n",
       "      <td>AECOM</td>\n",
       "      <td>None</td>\n",
       "      <td>1,810 reviews</td>\n",
       "      <td>43.2</td>\n",
       "      <td>Support data gathering and presentation of DCG...</td>\n",
       "    </tr>\n",
       "    <tr>\n",
       "      <th>2</th>\n",
       "      <td>Market Research Analyst II</td>\n",
       "      <td>Newport News, VA 23606</td>\n",
       "      <td>Canon</td>\n",
       "      <td>None</td>\n",
       "      <td>433 reviews</td>\n",
       "      <td>43.2</td>\n",
       "      <td>Provides support for business planning and mar...</td>\n",
       "    </tr>\n",
       "    <tr>\n",
       "      <th>3</th>\n",
       "      <td>Research Analyst</td>\n",
       "      <td>Hampton, VA</td>\n",
       "      <td>Thomas Nelson Comm College</td>\n",
       "      <td>&lt;nobr&gt;$55,000 - $64,260 a year&lt;/nobr&gt;</td>\n",
       "      <td>2 reviews</td>\n",
       "      <td>54</td>\n",
       "      <td>Primary responsibilities include meeting with ...</td>\n",
       "    </tr>\n",
       "    <tr>\n",
       "      <th>4</th>\n",
       "      <td>Intelligence Analyst</td>\n",
       "      <td>Suffolk, VA 23435</td>\n",
       "      <td>Scientific Research Corporation</td>\n",
       "      <td>None</td>\n",
       "      <td>53 reviews</td>\n",
       "      <td>43.8</td>\n",
       "      <td>Analyze data collected, extract evidence and d...</td>\n",
       "    </tr>\n",
       "  </tbody>\n",
       "</table>\n",
       "</div>"
      ],
      "text/plain": [
       "                     Job Title                Location  \\\n",
       "0  Computer Data Scientist Job        Newport News, VA   \n",
       "1  Operations Research Analyst             Hampton, VA   \n",
       "2   Market Research Analyst II  Newport News, VA 23606   \n",
       "3             Research Analyst             Hampton, VA   \n",
       "4         Intelligence Analyst       Suffolk, VA 23435   \n",
       "\n",
       "                           Company                                 Salary  \\\n",
       "0                             SAIC                                   None   \n",
       "1                            AECOM                                   None   \n",
       "2                            Canon                                   None   \n",
       "3       Thomas Nelson Comm College  <nobr>$55,000 - $64,260 a year</nobr>   \n",
       "4  Scientific Research Corporation                                   None   \n",
       "\n",
       "  No. of Reviews Company Ratings  \\\n",
       "0  1,270 reviews            51.6   \n",
       "1  1,810 reviews            43.2   \n",
       "2    433 reviews            43.2   \n",
       "3      2 reviews              54   \n",
       "4     53 reviews            43.8   \n",
       "\n",
       "                                         Job Summary  \n",
       "0  Computer Data Scientist (Job Number:. The data...  \n",
       "1  Support data gathering and presentation of DCG...  \n",
       "2  Provides support for business planning and mar...  \n",
       "3  Primary responsibilities include meeting with ...  \n",
       "4  Analyze data collected, extract evidence and d...  "
      ]
     },
     "execution_count": 35,
     "metadata": {},
     "output_type": "execute_result"
    }
   ],
   "source": [
    "# Number of columns scrapped\n",
    "m = 7\n",
    "\n",
    "for n in range(m, (len(results) - m), m):\n",
    "    \n",
    "    # Creates an interim df for each page scrapped\n",
    "    df1 = pd.DataFrame(results[n:(n+m)]).T\n",
    "    \n",
    "    # Concatenate column-wise with df\n",
    "    df = pd.concat([df,df1])\n",
    "\n",
    "# Labelling each coloumn\n",
    "df.columns = ['Job Title', 'Location', 'Company', 'Salary', 'No. of Reviews', 'Company Ratings', 'Job Summary']\n",
    "\n",
    "# Checking df\n",
    "print len(df)\n",
    "df.head()"
   ]
  },
  {
   "cell_type": "code",
   "execution_count": 36,
   "metadata": {
    "collapsed": false
   },
   "outputs": [
    {
     "data": {
      "text/plain": [
       "11311"
      ]
     },
     "execution_count": 36,
     "metadata": {},
     "output_type": "execute_result"
    }
   ],
   "source": [
    "# Dropping duplicates\n",
    "\n",
    "df.drop_duplicates(inplace = True)\n",
    "len(df)"
   ]
  },
  {
   "cell_type": "code",
   "execution_count": 37,
   "metadata": {
    "collapsed": true
   },
   "outputs": [],
   "source": [
    "df.reset_index(inplace = True, drop = True)"
   ]
  },
  {
   "cell_type": "code",
   "execution_count": 38,
   "metadata": {
    "collapsed": false
   },
   "outputs": [],
   "source": [
    "df.to_csv('clean_dropped_dup.csv', encoding='utf-8')"
   ]
  },
  {
   "cell_type": "markdown",
   "metadata": {},
   "source": [
    "## Data cleaning"
   ]
  },
  {
   "cell_type": "code",
   "execution_count": 41,
   "metadata": {
    "collapsed": true
   },
   "outputs": [],
   "source": [
    "# Convert money in string form of $100,000 or $20 into float values\n",
    "\n",
    "def conv_money(x):\n",
    "    \n",
    "    if ',' in x:\n",
    "        x = x[1:].split(',')\n",
    "        y = float(x[0] + x[1])\n",
    "    else:\n",
    "        y = float(x[1:])\n",
    "    \n",
    "    return y"
   ]
  },
  {
   "cell_type": "code",
   "execution_count": 42,
   "metadata": {
    "collapsed": false
   },
   "outputs": [],
   "source": [
    "# Find salary values - lower\n",
    "\n",
    "def reg_sal_low(x):\n",
    "    matchObj = re.findall( r'(\\$\\d+\\W?\\d*\\s)', x, re.I)\n",
    "    if matchObj:\n",
    "        return conv_money(matchObj[0])\n",
    "    else:\n",
    "        return 0."
   ]
  },
  {
   "cell_type": "code",
   "execution_count": 43,
   "metadata": {
    "collapsed": true
   },
   "outputs": [],
   "source": [
    "# Find salary values - higher\n",
    "\n",
    "def reg_sal_high(x):\n",
    "    matchObj = re.findall( r'(\\$\\d+\\W?\\d*\\s)', x, re.I)\n",
    "    if matchObj:\n",
    "        try:\n",
    "            return conv_money(matchObj[1])\n",
    "        except:\n",
    "            return conv_money(matchObj[0])\n",
    "    else:\n",
    "        return 0.\n"
   ]
  },
  {
   "cell_type": "code",
   "execution_count": 44,
   "metadata": {
    "collapsed": false
   },
   "outputs": [],
   "source": [
    "# Get frequency of salary\n",
    "\n",
    "def reg_sal_freq(x):\n",
    "    \n",
    "    matchObj = re.findall( r'(year|month|hour|day)', x, re.I)\n",
    "    if matchObj:\n",
    "        return matchObj[0]\n",
    "    else:\n",
    "        return 'None'"
   ]
  },
  {
   "cell_type": "code",
   "execution_count": 45,
   "metadata": {
    "collapsed": false
   },
   "outputs": [],
   "source": [
    "df['Salary Lower'] = df['Salary'].apply(reg_sal_low)"
   ]
  },
  {
   "cell_type": "code",
   "execution_count": 46,
   "metadata": {
    "collapsed": false
   },
   "outputs": [],
   "source": [
    "df['Salary Higher'] = df['Salary'].apply(reg_sal_high)"
   ]
  },
  {
   "cell_type": "code",
   "execution_count": 47,
   "metadata": {
    "collapsed": true
   },
   "outputs": [],
   "source": [
    "df['Salary Frequency'] = df['Salary'].apply(reg_sal_freq)"
   ]
  },
  {
   "cell_type": "code",
   "execution_count": 48,
   "metadata": {
    "collapsed": false
   },
   "outputs": [
    {
     "data": {
      "text/html": [
       "<div>\n",
       "<table border=\"1\" class=\"dataframe\">\n",
       "  <thead>\n",
       "    <tr style=\"text-align: right;\">\n",
       "      <th></th>\n",
       "      <th>Job Title</th>\n",
       "      <th>Location</th>\n",
       "      <th>Company</th>\n",
       "      <th>Salary</th>\n",
       "      <th>No. of Reviews</th>\n",
       "      <th>Company Ratings</th>\n",
       "      <th>Job Summary</th>\n",
       "      <th>Salary Lower</th>\n",
       "      <th>Salary Higher</th>\n",
       "      <th>Salary Frequency</th>\n",
       "    </tr>\n",
       "  </thead>\n",
       "  <tbody>\n",
       "    <tr>\n",
       "      <th>0</th>\n",
       "      <td>Computer Data Scientist Job</td>\n",
       "      <td>Newport News, VA</td>\n",
       "      <td>SAIC</td>\n",
       "      <td>None</td>\n",
       "      <td>1,270 reviews</td>\n",
       "      <td>51.6</td>\n",
       "      <td>Computer Data Scientist (Job Number:. The data...</td>\n",
       "      <td>0.0</td>\n",
       "      <td>0.0</td>\n",
       "      <td>None</td>\n",
       "    </tr>\n",
       "    <tr>\n",
       "      <th>1</th>\n",
       "      <td>Operations Research Analyst</td>\n",
       "      <td>Hampton, VA</td>\n",
       "      <td>AECOM</td>\n",
       "      <td>None</td>\n",
       "      <td>1,810 reviews</td>\n",
       "      <td>43.2</td>\n",
       "      <td>Support data gathering and presentation of DCG...</td>\n",
       "      <td>0.0</td>\n",
       "      <td>0.0</td>\n",
       "      <td>None</td>\n",
       "    </tr>\n",
       "  </tbody>\n",
       "</table>\n",
       "</div>"
      ],
      "text/plain": [
       "                     Job Title          Location Company Salary  \\\n",
       "0  Computer Data Scientist Job  Newport News, VA    SAIC   None   \n",
       "1  Operations Research Analyst       Hampton, VA   AECOM   None   \n",
       "\n",
       "  No. of Reviews Company Ratings  \\\n",
       "0  1,270 reviews            51.6   \n",
       "1  1,810 reviews            43.2   \n",
       "\n",
       "                                         Job Summary  Salary Lower  \\\n",
       "0  Computer Data Scientist (Job Number:. The data...           0.0   \n",
       "1  Support data gathering and presentation of DCG...           0.0   \n",
       "\n",
       "   Salary Higher Salary Frequency  \n",
       "0            0.0             None  \n",
       "1            0.0             None  "
      ]
     },
     "execution_count": 48,
     "metadata": {},
     "output_type": "execute_result"
    }
   ],
   "source": [
    "df.head(2)"
   ]
  },
  {
   "cell_type": "markdown",
   "metadata": {},
   "source": [
    "## Extracting rows with salary inputs"
   ]
  },
  {
   "cell_type": "code",
   "execution_count": 49,
   "metadata": {
    "collapsed": false
   },
   "outputs": [
    {
     "data": {
      "text/plain": [
       "718"
      ]
     },
     "execution_count": 49,
     "metadata": {},
     "output_type": "execute_result"
    }
   ],
   "source": [
    "len(df[df['Salary'] != 'None'])"
   ]
  },
  {
   "cell_type": "code",
   "execution_count": 50,
   "metadata": {
    "collapsed": false
   },
   "outputs": [
    {
     "data": {
      "text/html": [
       "<div>\n",
       "<table border=\"1\" class=\"dataframe\">\n",
       "  <thead>\n",
       "    <tr style=\"text-align: right;\">\n",
       "      <th></th>\n",
       "      <th>Job Title</th>\n",
       "      <th>Location</th>\n",
       "      <th>Company</th>\n",
       "      <th>Salary</th>\n",
       "      <th>No. of Reviews</th>\n",
       "      <th>Company Ratings</th>\n",
       "      <th>Job Summary</th>\n",
       "      <th>Salary Lower</th>\n",
       "      <th>Salary Higher</th>\n",
       "      <th>Salary Frequency</th>\n",
       "    </tr>\n",
       "  </thead>\n",
       "  <tbody>\n",
       "    <tr>\n",
       "      <th>3</th>\n",
       "      <td>Research Analyst</td>\n",
       "      <td>Hampton, VA</td>\n",
       "      <td>Thomas Nelson Comm College</td>\n",
       "      <td>&lt;nobr&gt;$55,000 - $64,260 a year&lt;/nobr&gt;</td>\n",
       "      <td>2 reviews</td>\n",
       "      <td>54</td>\n",
       "      <td>Primary responsibilities include meeting with ...</td>\n",
       "      <td>55000.0</td>\n",
       "      <td>64260.0</td>\n",
       "      <td>year</td>\n",
       "    </tr>\n",
       "    <tr>\n",
       "      <th>12</th>\n",
       "      <td>Research Analyst</td>\n",
       "      <td>Norfolk, VA</td>\n",
       "      <td>City of Norfolk, VA</td>\n",
       "      <td>&lt;nobr&gt;$33,770 - $55,060 a year&lt;/nobr&gt;</td>\n",
       "      <td>None</td>\n",
       "      <td>None</td>\n",
       "      <td>Gathers and analyzes data, develops spreadshee...</td>\n",
       "      <td>33770.0</td>\n",
       "      <td>55060.0</td>\n",
       "      <td>year</td>\n",
       "    </tr>\n",
       "    <tr>\n",
       "      <th>13</th>\n",
       "      <td>Sr. Socio-behavioral Scientist</td>\n",
       "      <td>Norfolk, VA</td>\n",
       "      <td>Eastern Virginia Medical School</td>\n",
       "      <td>&lt;nobr&gt;$94,963 a year&lt;/nobr&gt;</td>\n",
       "      <td>35 reviews</td>\n",
       "      <td>42</td>\n",
       "      <td>Duties include managing and supporting proposa...</td>\n",
       "      <td>94963.0</td>\n",
       "      <td>94963.0</td>\n",
       "      <td>year</td>\n",
       "    </tr>\n",
       "    <tr>\n",
       "      <th>37</th>\n",
       "      <td>ASSOCIATE SCIENTIST</td>\n",
       "      <td>Madison, WI</td>\n",
       "      <td>University of Wisconsin-Madison</td>\n",
       "      <td>&lt;nobr&gt;$40,861 a year&lt;/nobr&gt;</td>\n",
       "      <td>49 reviews</td>\n",
       "      <td>53.4</td>\n",
       "      <td>Scientist - Radiological Engineering and Desig...</td>\n",
       "      <td>40861.0</td>\n",
       "      <td>40861.0</td>\n",
       "      <td>year</td>\n",
       "    </tr>\n",
       "    <tr>\n",
       "      <th>41</th>\n",
       "      <td>Data Scientist</td>\n",
       "      <td>Madison, WI</td>\n",
       "      <td>Analytic Recruiting</td>\n",
       "      <td>&lt;nobr&gt;$100,000 - $171,000 a year&lt;/nobr&gt;</td>\n",
       "      <td>2 reviews</td>\n",
       "      <td>51</td>\n",
       "      <td>Insurance Company in Wisconsin seeks a full ti...</td>\n",
       "      <td>100000.0</td>\n",
       "      <td>171000.0</td>\n",
       "      <td>year</td>\n",
       "    </tr>\n",
       "  </tbody>\n",
       "</table>\n",
       "</div>"
      ],
      "text/plain": [
       "                         Job Title     Location  \\\n",
       "3                 Research Analyst  Hampton, VA   \n",
       "12                Research Analyst  Norfolk, VA   \n",
       "13  Sr. Socio-behavioral Scientist  Norfolk, VA   \n",
       "37             ASSOCIATE SCIENTIST  Madison, WI   \n",
       "41                  Data Scientist  Madison, WI   \n",
       "\n",
       "                            Company                                   Salary  \\\n",
       "3        Thomas Nelson Comm College    <nobr>$55,000 - $64,260 a year</nobr>   \n",
       "12              City of Norfolk, VA    <nobr>$33,770 - $55,060 a year</nobr>   \n",
       "13  Eastern Virginia Medical School              <nobr>$94,963 a year</nobr>   \n",
       "37  University of Wisconsin-Madison              <nobr>$40,861 a year</nobr>   \n",
       "41              Analytic Recruiting  <nobr>$100,000 - $171,000 a year</nobr>   \n",
       "\n",
       "   No. of Reviews Company Ratings  \\\n",
       "3       2 reviews              54   \n",
       "12           None            None   \n",
       "13     35 reviews              42   \n",
       "37     49 reviews            53.4   \n",
       "41      2 reviews              51   \n",
       "\n",
       "                                          Job Summary  Salary Lower  \\\n",
       "3   Primary responsibilities include meeting with ...       55000.0   \n",
       "12  Gathers and analyzes data, develops spreadshee...       33770.0   \n",
       "13  Duties include managing and supporting proposa...       94963.0   \n",
       "37  Scientist - Radiological Engineering and Desig...       40861.0   \n",
       "41  Insurance Company in Wisconsin seeks a full ti...      100000.0   \n",
       "\n",
       "    Salary Higher Salary Frequency  \n",
       "3         64260.0             year  \n",
       "12        55060.0             year  \n",
       "13        94963.0             year  \n",
       "37        40861.0             year  \n",
       "41       171000.0             year  "
      ]
     },
     "execution_count": 50,
     "metadata": {},
     "output_type": "execute_result"
    }
   ],
   "source": [
    "df_sal = df[df['Salary'] != 'None']\n",
    "df_sal.head()"
   ]
  },
  {
   "cell_type": "code",
   "execution_count": 51,
   "metadata": {
    "collapsed": false
   },
   "outputs": [
    {
     "name": "stderr",
     "output_type": "stream",
     "text": [
      "//anaconda/lib/python2.7/site-packages/pandas/core/indexing.py:465: SettingWithCopyWarning: \n",
      "A value is trying to be set on a copy of a slice from a DataFrame.\n",
      "Try using .loc[row_indexer,col_indexer] = value instead\n",
      "\n",
      "See the caveats in the documentation: http://pandas.pydata.org/pandas-docs/stable/indexing.html#indexing-view-versus-copy\n",
      "  self.obj[item] = s\n"
     ]
    },
    {
     "data": {
      "text/html": [
       "<div>\n",
       "<table border=\"1\" class=\"dataframe\">\n",
       "  <thead>\n",
       "    <tr style=\"text-align: right;\">\n",
       "      <th></th>\n",
       "      <th>Job Title</th>\n",
       "      <th>Location</th>\n",
       "      <th>Company</th>\n",
       "      <th>Salary</th>\n",
       "      <th>No. of Reviews</th>\n",
       "      <th>Company Ratings</th>\n",
       "      <th>Job Summary</th>\n",
       "      <th>Salary Lower</th>\n",
       "      <th>Salary Higher</th>\n",
       "      <th>Salary Frequency</th>\n",
       "    </tr>\n",
       "  </thead>\n",
       "  <tbody>\n",
       "    <tr>\n",
       "      <th>3</th>\n",
       "      <td>Research Analyst</td>\n",
       "      <td>Hampton, VA</td>\n",
       "      <td>Thomas Nelson Comm College</td>\n",
       "      <td>$55,000 - $64,260 a year</td>\n",
       "      <td>2 reviews</td>\n",
       "      <td>54</td>\n",
       "      <td>Primary responsibilities include meeting with ...</td>\n",
       "      <td>55000.0</td>\n",
       "      <td>64260.0</td>\n",
       "      <td>year</td>\n",
       "    </tr>\n",
       "    <tr>\n",
       "      <th>12</th>\n",
       "      <td>Research Analyst</td>\n",
       "      <td>Norfolk, VA</td>\n",
       "      <td>City of Norfolk, VA</td>\n",
       "      <td>$33,770 - $55,060 a year</td>\n",
       "      <td>None</td>\n",
       "      <td>None</td>\n",
       "      <td>Gathers and analyzes data, develops spreadshee...</td>\n",
       "      <td>33770.0</td>\n",
       "      <td>55060.0</td>\n",
       "      <td>year</td>\n",
       "    </tr>\n",
       "    <tr>\n",
       "      <th>13</th>\n",
       "      <td>Sr. Socio-behavioral Scientist</td>\n",
       "      <td>Norfolk, VA</td>\n",
       "      <td>Eastern Virginia Medical School</td>\n",
       "      <td>$94,963 a year</td>\n",
       "      <td>35 reviews</td>\n",
       "      <td>42</td>\n",
       "      <td>Duties include managing and supporting proposa...</td>\n",
       "      <td>94963.0</td>\n",
       "      <td>94963.0</td>\n",
       "      <td>year</td>\n",
       "    </tr>\n",
       "    <tr>\n",
       "      <th>37</th>\n",
       "      <td>ASSOCIATE SCIENTIST</td>\n",
       "      <td>Madison, WI</td>\n",
       "      <td>University of Wisconsin-Madison</td>\n",
       "      <td>$40,861 a year</td>\n",
       "      <td>49 reviews</td>\n",
       "      <td>53.4</td>\n",
       "      <td>Scientist - Radiological Engineering and Desig...</td>\n",
       "      <td>40861.0</td>\n",
       "      <td>40861.0</td>\n",
       "      <td>year</td>\n",
       "    </tr>\n",
       "    <tr>\n",
       "      <th>41</th>\n",
       "      <td>Data Scientist</td>\n",
       "      <td>Madison, WI</td>\n",
       "      <td>Analytic Recruiting</td>\n",
       "      <td>$100,000 - $171,000 a year</td>\n",
       "      <td>2 reviews</td>\n",
       "      <td>51</td>\n",
       "      <td>Insurance Company in Wisconsin seeks a full ti...</td>\n",
       "      <td>100000.0</td>\n",
       "      <td>171000.0</td>\n",
       "      <td>year</td>\n",
       "    </tr>\n",
       "  </tbody>\n",
       "</table>\n",
       "</div>"
      ],
      "text/plain": [
       "                         Job Title     Location  \\\n",
       "3                 Research Analyst  Hampton, VA   \n",
       "12                Research Analyst  Norfolk, VA   \n",
       "13  Sr. Socio-behavioral Scientist  Norfolk, VA   \n",
       "37             ASSOCIATE SCIENTIST  Madison, WI   \n",
       "41                  Data Scientist  Madison, WI   \n",
       "\n",
       "                            Company                      Salary  \\\n",
       "3        Thomas Nelson Comm College    $55,000 - $64,260 a year   \n",
       "12              City of Norfolk, VA    $33,770 - $55,060 a year   \n",
       "13  Eastern Virginia Medical School              $94,963 a year   \n",
       "37  University of Wisconsin-Madison              $40,861 a year   \n",
       "41              Analytic Recruiting  $100,000 - $171,000 a year   \n",
       "\n",
       "   No. of Reviews Company Ratings  \\\n",
       "3       2 reviews              54   \n",
       "12           None            None   \n",
       "13     35 reviews              42   \n",
       "37     49 reviews            53.4   \n",
       "41      2 reviews              51   \n",
       "\n",
       "                                          Job Summary  Salary Lower  \\\n",
       "3   Primary responsibilities include meeting with ...       55000.0   \n",
       "12  Gathers and analyzes data, develops spreadshee...       33770.0   \n",
       "13  Duties include managing and supporting proposa...       94963.0   \n",
       "37  Scientist - Radiological Engineering and Desig...       40861.0   \n",
       "41  Insurance Company in Wisconsin seeks a full ti...      100000.0   \n",
       "\n",
       "    Salary Higher Salary Frequency  \n",
       "3         64260.0             year  \n",
       "12        55060.0             year  \n",
       "13        94963.0             year  \n",
       "37        40861.0             year  \n",
       "41       171000.0             year  "
      ]
     },
     "execution_count": 51,
     "metadata": {},
     "output_type": "execute_result"
    }
   ],
   "source": [
    "df_sal.loc[:,'Salary'] = df_sal['Salary'].apply(lambda x: x[6:(len(x) - 7)])\n",
    "df_sal.head()"
   ]
  },
  {
   "cell_type": "code",
   "execution_count": 52,
   "metadata": {
    "collapsed": false,
    "focus": false,
    "id": "58533e57-f86b-494a-b841-e7b59c6229c6"
   },
   "outputs": [
    {
     "data": {
      "text/plain": [
       "145"
      ]
     },
     "execution_count": 52,
     "metadata": {},
     "output_type": "execute_result"
    }
   ],
   "source": [
    "## YOUR CODE HERE\n",
    "\n",
    "df_sal_hr = df_sal[df_sal['Salary Frequency'] == 'hour']\n",
    "len(df_sal_hr)"
   ]
  },
  {
   "cell_type": "markdown",
   "metadata": {},
   "source": [
    "## Extracting yearly and monthly salaries only"
   ]
  },
  {
   "cell_type": "code",
   "execution_count": 53,
   "metadata": {
    "collapsed": false
   },
   "outputs": [
    {
     "data": {
      "text/plain": [
       "571"
      ]
     },
     "execution_count": 53,
     "metadata": {},
     "output_type": "execute_result"
    }
   ],
   "source": [
    "df_sal_year = df_sal[(df_sal['Salary Frequency'] != 'hour') & (df_sal['Salary Frequency'] != 'day')]\n",
    "len(df_sal_year)"
   ]
  },
  {
   "cell_type": "markdown",
   "metadata": {},
   "source": [
    "### Converting monthly salaries to yearly (x 12)"
   ]
  },
  {
   "cell_type": "code",
   "execution_count": 54,
   "metadata": {
    "collapsed": false
   },
   "outputs": [],
   "source": [
    "df_sal_year.loc[df_sal_year['Salary Frequency'] == 'month', ['Salary Lower', 'Salary Higher']] = \\\n",
    "df_sal_year.loc[df_sal_year['Salary Frequency'] == 'month', ['Salary Lower', 'Salary Higher']].applymap(lambda x: x*12)"
   ]
  },
  {
   "cell_type": "markdown",
   "metadata": {},
   "source": [
    "### Getting averages of salary ranges"
   ]
  },
  {
   "cell_type": "code",
   "execution_count": 55,
   "metadata": {
    "collapsed": false
   },
   "outputs": [],
   "source": [
    "df_sal_year.loc[:, \"Salary\"] = (df_sal_year['Salary Lower'] + df_sal_year['Salary Higher']) / 2.0"
   ]
  },
  {
   "cell_type": "markdown",
   "metadata": {},
   "source": [
    "### Cleaning location - extracting state"
   ]
  },
  {
   "cell_type": "code",
   "execution_count": 57,
   "metadata": {
    "collapsed": true
   },
   "outputs": [],
   "source": [
    "def get_state(x):\n",
    "    matchObj = re.search( r'([A-Z][A-Z]$)|([A-Z][A-Z]\\s)', x)\n",
    "    if matchObj:\n",
    "        return str(matchObj.group()).strip()\n",
    "    else:\n",
    "        return 'None'\n"
   ]
  },
  {
   "cell_type": "code",
   "execution_count": 58,
   "metadata": {
    "collapsed": false
   },
   "outputs": [
    {
     "data": {
      "text/plain": [
       "array([u'Newport News, VA', u'Hampton, VA', u'Newport News, VA 23606', ...,\n",
       "       u'Tucson, AZ 85718', u'Tucson, AZ 85756', u'Mundelein, IL'], dtype=object)"
      ]
     },
     "execution_count": 58,
     "metadata": {},
     "output_type": "execute_result"
    }
   ],
   "source": [
    "df['Location'].unique()"
   ]
  },
  {
   "cell_type": "code",
   "execution_count": 59,
   "metadata": {
    "collapsed": false
   },
   "outputs": [
    {
     "name": "stderr",
     "output_type": "stream",
     "text": [
      "//anaconda/lib/python2.7/site-packages/pandas/core/indexing.py:288: SettingWithCopyWarning: \n",
      "A value is trying to be set on a copy of a slice from a DataFrame.\n",
      "Try using .loc[row_indexer,col_indexer] = value instead\n",
      "\n",
      "See the caveats in the documentation: http://pandas.pydata.org/pandas-docs/stable/indexing.html#indexing-view-versus-copy\n",
      "  self.obj[key] = _infer_fill_value(value)\n"
     ]
    },
    {
     "data": {
      "text/plain": [
       "0"
      ]
     },
     "execution_count": 59,
     "metadata": {},
     "output_type": "execute_result"
    }
   ],
   "source": [
    "df_sal_year.loc[:,'State'] = df_sal_year[\"Location\"].apply(get_state)\n",
    "len(df_sal_year[df_sal_year['State'] == 'None'])"
   ]
  },
  {
   "cell_type": "code",
   "execution_count": 60,
   "metadata": {
    "collapsed": true
   },
   "outputs": [],
   "source": [
    "# Import full list of states to check extraction of states\n",
    "\n",
    "states = pd.read_csv('states.csv')"
   ]
  },
  {
   "cell_type": "code",
   "execution_count": 61,
   "metadata": {
    "collapsed": false
   },
   "outputs": [],
   "source": [
    "st = df_sal_year['State'].unique()"
   ]
  },
  {
   "cell_type": "code",
   "execution_count": 62,
   "metadata": {
    "collapsed": false
   },
   "outputs": [],
   "source": [
    "# Checking to see if any non-state two-letter abbreviation was extracted\n",
    "\n",
    "for i in st:\n",
    "    if i not in list(states['State']):\n",
    "        print \"These are not actual states:\", i"
   ]
  },
  {
   "cell_type": "markdown",
   "metadata": {},
   "source": [
    "### Cleaning location - extracting city"
   ]
  },
  {
   "cell_type": "code",
   "execution_count": 63,
   "metadata": {
    "collapsed": false
   },
   "outputs": [],
   "source": [
    "# Extract cities from location\n",
    "\n",
    "def get_city(x):\n",
    "    matchObj = re.search( r'(([A-Z].+\\W)|([A-Z].+\\s\\[A-Z].+\\W))', x)\n",
    "    if matchObj:\n",
    "        return str(matchObj.group()).strip()[:-1]\n",
    "    else:\n",
    "        return 'None'"
   ]
  },
  {
   "cell_type": "code",
   "execution_count": 64,
   "metadata": {
    "collapsed": false
   },
   "outputs": [
    {
     "name": "stderr",
     "output_type": "stream",
     "text": [
      "/anaconda/lib/python2.7/site-packages/ipykernel/__main__.py:1: SettingWithCopyWarning: \n",
      "A value is trying to be set on a copy of a slice from a DataFrame.\n",
      "Try using .loc[row_indexer,col_indexer] = value instead\n",
      "\n",
      "See the caveats in the documentation: http://pandas.pydata.org/pandas-docs/stable/indexing.html#indexing-view-versus-copy\n",
      "  if __name__ == '__main__':\n"
     ]
    }
   ],
   "source": [
    "df_sal_year['City'] = df_sal_year[\"Location\"].apply(get_city)"
   ]
  },
  {
   "cell_type": "markdown",
   "metadata": {},
   "source": [
    "### Cleaning company reviews"
   ]
  },
  {
   "cell_type": "code",
   "execution_count": 65,
   "metadata": {
    "collapsed": true
   },
   "outputs": [],
   "source": [
    "# Clean review column\n",
    "\n",
    "def clean_review(x):\n",
    "    matchObj = re.search( r'(\\d+)', x)\n",
    "    if matchObj:\n",
    "        return float(matchObj.group())\n",
    "    else:\n",
    "        return 'None'\n"
   ]
  },
  {
   "cell_type": "code",
   "execution_count": 66,
   "metadata": {
    "collapsed": false
   },
   "outputs": [],
   "source": [
    "df_sal_year.loc[:,'No. of Reviews'] = df_sal_year[\"No. of Reviews\"].apply(clean_review)"
   ]
  },
  {
   "cell_type": "code",
   "execution_count": 230,
   "metadata": {
    "collapsed": false
   },
   "outputs": [
    {
     "data": {
      "text/html": [
       "<div>\n",
       "<table border=\"1\" class=\"dataframe\">\n",
       "  <thead>\n",
       "    <tr style=\"text-align: right;\">\n",
       "      <th></th>\n",
       "      <th>Job_Title</th>\n",
       "      <th>Location</th>\n",
       "      <th>Company</th>\n",
       "      <th>Salary</th>\n",
       "      <th>No_of_Reviews</th>\n",
       "      <th>Company_Ratings</th>\n",
       "      <th>Job_Summary</th>\n",
       "      <th>Salary_Lower</th>\n",
       "      <th>Salary_Higher</th>\n",
       "      <th>State</th>\n",
       "      <th>City</th>\n",
       "    </tr>\n",
       "  </thead>\n",
       "  <tbody>\n",
       "    <tr>\n",
       "      <th>0</th>\n",
       "      <td>Research Analyst</td>\n",
       "      <td>Hampton, VA</td>\n",
       "      <td>Thomas Nelson Comm College</td>\n",
       "      <td>59630.0</td>\n",
       "      <td>2</td>\n",
       "      <td>54</td>\n",
       "      <td>Primary responsibilities include meeting with ...</td>\n",
       "      <td>55000.0</td>\n",
       "      <td>64260.0</td>\n",
       "      <td>VA</td>\n",
       "      <td>Hampton</td>\n",
       "    </tr>\n",
       "    <tr>\n",
       "      <th>1</th>\n",
       "      <td>Research Analyst</td>\n",
       "      <td>Norfolk, VA</td>\n",
       "      <td>City of Norfolk, VA</td>\n",
       "      <td>44415.0</td>\n",
       "      <td>None</td>\n",
       "      <td>None</td>\n",
       "      <td>Gathers and analyzes data, develops spreadshee...</td>\n",
       "      <td>33770.0</td>\n",
       "      <td>55060.0</td>\n",
       "      <td>VA</td>\n",
       "      <td>Norfolk</td>\n",
       "    </tr>\n",
       "    <tr>\n",
       "      <th>2</th>\n",
       "      <td>Sr. Socio-behavioral Scientist</td>\n",
       "      <td>Norfolk, VA</td>\n",
       "      <td>Eastern Virginia Medical School</td>\n",
       "      <td>94963.0</td>\n",
       "      <td>35</td>\n",
       "      <td>42</td>\n",
       "      <td>Duties include managing and supporting proposa...</td>\n",
       "      <td>94963.0</td>\n",
       "      <td>94963.0</td>\n",
       "      <td>VA</td>\n",
       "      <td>Norfolk</td>\n",
       "    </tr>\n",
       "    <tr>\n",
       "      <th>3</th>\n",
       "      <td>ASSOCIATE SCIENTIST</td>\n",
       "      <td>Madison, WI</td>\n",
       "      <td>University of Wisconsin-Madison</td>\n",
       "      <td>40861.0</td>\n",
       "      <td>49</td>\n",
       "      <td>53.4</td>\n",
       "      <td>Scientist - Radiological Engineering and Desig...</td>\n",
       "      <td>40861.0</td>\n",
       "      <td>40861.0</td>\n",
       "      <td>WI</td>\n",
       "      <td>Madison</td>\n",
       "    </tr>\n",
       "    <tr>\n",
       "      <th>4</th>\n",
       "      <td>Data Scientist</td>\n",
       "      <td>Madison, WI</td>\n",
       "      <td>Analytic Recruiting</td>\n",
       "      <td>135500.0</td>\n",
       "      <td>2</td>\n",
       "      <td>51</td>\n",
       "      <td>Insurance Company in Wisconsin seeks a full ti...</td>\n",
       "      <td>100000.0</td>\n",
       "      <td>171000.0</td>\n",
       "      <td>WI</td>\n",
       "      <td>Madison</td>\n",
       "    </tr>\n",
       "  </tbody>\n",
       "</table>\n",
       "</div>"
      ],
      "text/plain": [
       "                        Job_Title     Location  \\\n",
       "0                Research Analyst  Hampton, VA   \n",
       "1                Research Analyst  Norfolk, VA   \n",
       "2  Sr. Socio-behavioral Scientist  Norfolk, VA   \n",
       "3             ASSOCIATE SCIENTIST  Madison, WI   \n",
       "4                  Data Scientist  Madison, WI   \n",
       "\n",
       "                           Company    Salary No_of_Reviews Company_Ratings  \\\n",
       "0       Thomas Nelson Comm College   59630.0             2              54   \n",
       "1              City of Norfolk, VA   44415.0          None            None   \n",
       "2  Eastern Virginia Medical School   94963.0            35              42   \n",
       "3  University of Wisconsin-Madison   40861.0            49            53.4   \n",
       "4              Analytic Recruiting  135500.0             2              51   \n",
       "\n",
       "                                         Job_Summary  Salary_Lower  \\\n",
       "0  Primary responsibilities include meeting with ...       55000.0   \n",
       "1  Gathers and analyzes data, develops spreadshee...       33770.0   \n",
       "2  Duties include managing and supporting proposa...       94963.0   \n",
       "3  Scientist - Radiological Engineering and Desig...       40861.0   \n",
       "4  Insurance Company in Wisconsin seeks a full ti...      100000.0   \n",
       "\n",
       "   Salary_Higher State     City  \n",
       "0        64260.0    VA  Hampton  \n",
       "1        55060.0    VA  Norfolk  \n",
       "2        94963.0    VA  Norfolk  \n",
       "3        40861.0    WI  Madison  \n",
       "4       171000.0    WI  Madison  "
      ]
     },
     "execution_count": 230,
     "metadata": {},
     "output_type": "execute_result"
    }
   ],
   "source": [
    "df_sal_year.head()"
   ]
  },
  {
   "cell_type": "code",
   "execution_count": 232,
   "metadata": {
    "collapsed": false
   },
   "outputs": [],
   "source": [
    "# Saving cleaned df to csv\n",
    "\n",
    "df_sal_year.to_csv('cleaned_salary_year.csv', encoding='utf-8')"
   ]
  },
  {
   "cell_type": "code",
   "execution_count": 21,
   "metadata": {
    "collapsed": true
   },
   "outputs": [],
   "source": [
    "df_sal_year = pd.read_csv('cleaned_salary_year.csv')"
   ]
  },
  {
   "cell_type": "code",
   "execution_count": 23,
   "metadata": {
    "collapsed": false
   },
   "outputs": [
    {
     "data": {
      "text/html": [
       "<div>\n",
       "<table border=\"1\" class=\"dataframe\">\n",
       "  <thead>\n",
       "    <tr style=\"text-align: right;\">\n",
       "      <th></th>\n",
       "      <th>Job_Title</th>\n",
       "      <th>Location</th>\n",
       "      <th>Company</th>\n",
       "      <th>Salary</th>\n",
       "      <th>No_of_Reviews</th>\n",
       "      <th>Company_Ratings</th>\n",
       "      <th>Job_Summary</th>\n",
       "      <th>Salary_Lower</th>\n",
       "      <th>Salary_Higher</th>\n",
       "      <th>State</th>\n",
       "      <th>City</th>\n",
       "    </tr>\n",
       "  </thead>\n",
       "  <tbody>\n",
       "    <tr>\n",
       "      <th>0</th>\n",
       "      <td>Research Analyst</td>\n",
       "      <td>Hampton, VA</td>\n",
       "      <td>Thomas Nelson Comm College</td>\n",
       "      <td>59630.0</td>\n",
       "      <td>2.0</td>\n",
       "      <td>54.0</td>\n",
       "      <td>Primary responsibilities include meeting with ...</td>\n",
       "      <td>55000.0</td>\n",
       "      <td>64260.0</td>\n",
       "      <td>VA</td>\n",
       "      <td>Hampton</td>\n",
       "    </tr>\n",
       "    <tr>\n",
       "      <th>1</th>\n",
       "      <td>Research Analyst</td>\n",
       "      <td>Norfolk, VA</td>\n",
       "      <td>City of Norfolk, VA</td>\n",
       "      <td>44415.0</td>\n",
       "      <td>None</td>\n",
       "      <td>None</td>\n",
       "      <td>Gathers and analyzes data, develops spreadshee...</td>\n",
       "      <td>33770.0</td>\n",
       "      <td>55060.0</td>\n",
       "      <td>VA</td>\n",
       "      <td>Norfolk</td>\n",
       "    </tr>\n",
       "    <tr>\n",
       "      <th>2</th>\n",
       "      <td>Sr. Socio-behavioral Scientist</td>\n",
       "      <td>Norfolk, VA</td>\n",
       "      <td>Eastern Virginia Medical School</td>\n",
       "      <td>94963.0</td>\n",
       "      <td>35.0</td>\n",
       "      <td>42.0</td>\n",
       "      <td>Duties include managing and supporting proposa...</td>\n",
       "      <td>94963.0</td>\n",
       "      <td>94963.0</td>\n",
       "      <td>VA</td>\n",
       "      <td>Norfolk</td>\n",
       "    </tr>\n",
       "    <tr>\n",
       "      <th>3</th>\n",
       "      <td>ASSOCIATE SCIENTIST</td>\n",
       "      <td>Madison, WI</td>\n",
       "      <td>University of Wisconsin-Madison</td>\n",
       "      <td>40861.0</td>\n",
       "      <td>49.0</td>\n",
       "      <td>53.4</td>\n",
       "      <td>Scientist - Radiological Engineering and Desig...</td>\n",
       "      <td>40861.0</td>\n",
       "      <td>40861.0</td>\n",
       "      <td>WI</td>\n",
       "      <td>Madison</td>\n",
       "    </tr>\n",
       "    <tr>\n",
       "      <th>4</th>\n",
       "      <td>Data Scientist</td>\n",
       "      <td>Madison, WI</td>\n",
       "      <td>Analytic Recruiting</td>\n",
       "      <td>135500.0</td>\n",
       "      <td>2.0</td>\n",
       "      <td>51.0</td>\n",
       "      <td>Insurance Company in Wisconsin seeks a full ti...</td>\n",
       "      <td>100000.0</td>\n",
       "      <td>171000.0</td>\n",
       "      <td>WI</td>\n",
       "      <td>Madison</td>\n",
       "    </tr>\n",
       "  </tbody>\n",
       "</table>\n",
       "</div>"
      ],
      "text/plain": [
       "                        Job_Title     Location  \\\n",
       "0                Research Analyst  Hampton, VA   \n",
       "1                Research Analyst  Norfolk, VA   \n",
       "2  Sr. Socio-behavioral Scientist  Norfolk, VA   \n",
       "3             ASSOCIATE SCIENTIST  Madison, WI   \n",
       "4                  Data Scientist  Madison, WI   \n",
       "\n",
       "                           Company    Salary No_of_Reviews Company_Ratings  \\\n",
       "0       Thomas Nelson Comm College   59630.0           2.0            54.0   \n",
       "1              City of Norfolk, VA   44415.0          None            None   \n",
       "2  Eastern Virginia Medical School   94963.0          35.0            42.0   \n",
       "3  University of Wisconsin-Madison   40861.0          49.0            53.4   \n",
       "4              Analytic Recruiting  135500.0           2.0            51.0   \n",
       "\n",
       "                                         Job_Summary  Salary_Lower  \\\n",
       "0  Primary responsibilities include meeting with ...       55000.0   \n",
       "1  Gathers and analyzes data, develops spreadshee...       33770.0   \n",
       "2  Duties include managing and supporting proposa...       94963.0   \n",
       "3  Scientist - Radiological Engineering and Desig...       40861.0   \n",
       "4  Insurance Company in Wisconsin seeks a full ti...      100000.0   \n",
       "\n",
       "   Salary_Higher State     City  \n",
       "0        64260.0    VA  Hampton  \n",
       "1        55060.0    VA  Norfolk  \n",
       "2        94963.0    VA  Norfolk  \n",
       "3        40861.0    WI  Madison  \n",
       "4       171000.0    WI  Madison  "
      ]
     },
     "execution_count": 23,
     "metadata": {},
     "output_type": "execute_result"
    }
   ],
   "source": [
    "del df_sal_year['Unnamed: 0']\n",
    "df_sal_year.head()"
   ]
  },
  {
   "cell_type": "markdown",
   "metadata": {},
   "source": [
    "## Removing outliers below 40k"
   ]
  },
  {
   "cell_type": "code",
   "execution_count": 24,
   "metadata": {
    "collapsed": false
   },
   "outputs": [
    {
     "name": "stdout",
     "output_type": "stream",
     "text": [
      "250000.0\n"
     ]
    }
   ],
   "source": [
    "max_salary = df_sal_year['Salary'].max()\n",
    "print max_salary"
   ]
  },
  {
   "cell_type": "code",
   "execution_count": 25,
   "metadata": {
    "collapsed": false
   },
   "outputs": [
    {
     "name": "stdout",
     "output_type": "stream",
     "text": [
      "40000.0\n"
     ]
    }
   ],
   "source": [
    "min_salary = df_sal_year['Salary'].min()\n",
    "print min_salary"
   ]
  },
  {
   "cell_type": "code",
   "execution_count": 26,
   "metadata": {
    "collapsed": false
   },
   "outputs": [
    {
     "data": {
      "text/plain": [
       "<matplotlib.axes._subplots.AxesSubplot at 0x119ba9350>"
      ]
     },
     "execution_count": 26,
     "metadata": {},
     "output_type": "execute_result"
    },
    {
     "data": {
      "image/png": "[encoded data removed]",
      "text/plain": [
       "<matplotlib.figure.Figure at 0x118daba50>"
      ]
     },
     "metadata": {},
     "output_type": "display_data"
    }
   ],
   "source": [
    "\n",
    "df_sal_year['Salary'].hist()"
   ]
  },
  {
   "cell_type": "code",
   "execution_count": 27,
   "metadata": {
    "collapsed": false
   },
   "outputs": [
    {
     "data": {
      "text/plain": [
       "0"
      ]
     },
     "execution_count": 27,
     "metadata": {},
     "output_type": "execute_result"
    }
   ],
   "source": [
    "len(df_sal_year[df_sal_year['Salary'] < 40000])"
   ]
  },
  {
   "cell_type": "markdown",
   "metadata": {},
   "source": [
    "### Dropping rows with salaries less than 40k, ~ 5% of the data (outliers)"
   ]
  },
  {
   "cell_type": "code",
   "execution_count": 28,
   "metadata": {
    "collapsed": false
   },
   "outputs": [
    {
     "data": {
      "text/plain": [
       "545"
      ]
     },
     "execution_count": 28,
     "metadata": {},
     "output_type": "execute_result"
    }
   ],
   "source": [
    "df_sal_year= df_sal_year[df_sal_year['Salary'] >= 40000]\n",
    "len(df_sal_year)"
   ]
  },
  {
   "cell_type": "code",
   "execution_count": 29,
   "metadata": {
    "collapsed": false
   },
   "outputs": [
    {
     "name": "stdout",
     "output_type": "stream",
     "text": [
      "40000.0\n"
     ]
    }
   ],
   "source": [
    "min_salary = df_sal_year['Salary'].min()\n",
    "print min_salary"
   ]
  },
  {
   "cell_type": "code",
   "execution_count": 30,
   "metadata": {
    "collapsed": false
   },
   "outputs": [
    {
     "name": "stdout",
     "output_type": "stream",
     "text": [
      "Mean Salary = 95061.7440367\n",
      "Median Salary = 85000.0\n"
     ]
    }
   ],
   "source": [
    "# Mean and Median of salary\n",
    "\n",
    "mean_ = df_sal_year['Salary'].mean()\n",
    "median_ = df_sal_year['Salary'].median()\n",
    "\n",
    "print \"Mean Salary =\", mean_\n",
    "print \"Median Salary =\", median_"
   ]
  },
  {
   "cell_type": "markdown",
   "metadata": {},
   "source": [
    "## Plotting states with highest average salaries"
   ]
  },
  {
   "cell_type": "code",
   "execution_count": 31,
   "metadata": {
    "collapsed": false
   },
   "outputs": [
    {
     "data": {
      "text/html": [
       "<div>\n",
       "<table border=\"1\" class=\"dataframe\">\n",
       "  <thead>\n",
       "    <tr>\n",
       "      <th></th>\n",
       "      <th>State</th>\n",
       "      <th>nunique</th>\n",
       "      <th>median</th>\n",
       "      <th>max</th>\n",
       "    </tr>\n",
       "    <tr>\n",
       "      <th></th>\n",
       "      <th></th>\n",
       "      <th>Salary</th>\n",
       "      <th>Salary</th>\n",
       "      <th>Salary</th>\n",
       "    </tr>\n",
       "  </thead>\n",
       "  <tbody>\n",
       "    <tr>\n",
       "      <th>0</th>\n",
       "      <td>NY</td>\n",
       "      <td>32.0</td>\n",
       "      <td>120000.0</td>\n",
       "      <td>225000.0</td>\n",
       "    </tr>\n",
       "    <tr>\n",
       "      <th>1</th>\n",
       "      <td>MN</td>\n",
       "      <td>3.0</td>\n",
       "      <td>112500.0</td>\n",
       "      <td>200000.0</td>\n",
       "    </tr>\n",
       "    <tr>\n",
       "      <th>2</th>\n",
       "      <td>IL</td>\n",
       "      <td>27.0</td>\n",
       "      <td>112500.0</td>\n",
       "      <td>200000.0</td>\n",
       "    </tr>\n",
       "    <tr>\n",
       "      <th>3</th>\n",
       "      <td>MA</td>\n",
       "      <td>17.0</td>\n",
       "      <td>110000.0</td>\n",
       "      <td>160000.0</td>\n",
       "    </tr>\n",
       "    <tr>\n",
       "      <th>4</th>\n",
       "      <td>NJ</td>\n",
       "      <td>7.0</td>\n",
       "      <td>107500.0</td>\n",
       "      <td>157500.0</td>\n",
       "    </tr>\n",
       "    <tr>\n",
       "      <th>5</th>\n",
       "      <td>NH</td>\n",
       "      <td>1.0</td>\n",
       "      <td>103300.0</td>\n",
       "      <td>103300.0</td>\n",
       "    </tr>\n",
       "    <tr>\n",
       "      <th>6</th>\n",
       "      <td>GA</td>\n",
       "      <td>15.0</td>\n",
       "      <td>101553.5</td>\n",
       "      <td>177500.0</td>\n",
       "    </tr>\n",
       "    <tr>\n",
       "      <th>7</th>\n",
       "      <td>PA</td>\n",
       "      <td>13.0</td>\n",
       "      <td>100000.0</td>\n",
       "      <td>250000.0</td>\n",
       "    </tr>\n",
       "    <tr>\n",
       "      <th>8</th>\n",
       "      <td>IN</td>\n",
       "      <td>4.0</td>\n",
       "      <td>100000.0</td>\n",
       "      <td>130000.0</td>\n",
       "    </tr>\n",
       "    <tr>\n",
       "      <th>9</th>\n",
       "      <td>CA</td>\n",
       "      <td>60.0</td>\n",
       "      <td>100000.0</td>\n",
       "      <td>200000.0</td>\n",
       "    </tr>\n",
       "  </tbody>\n",
       "</table>\n",
       "</div>"
      ],
      "text/plain": [
       "  State nunique    median       max\n",
       "         Salary    Salary    Salary\n",
       "0    NY    32.0  120000.0  225000.0\n",
       "1    MN     3.0  112500.0  200000.0\n",
       "2    IL    27.0  112500.0  200000.0\n",
       "3    MA    17.0  110000.0  160000.0\n",
       "4    NJ     7.0  107500.0  157500.0\n",
       "5    NH     1.0  103300.0  103300.0\n",
       "6    GA    15.0  101553.5  177500.0\n",
       "7    PA    13.0  100000.0  250000.0\n",
       "8    IN     4.0  100000.0  130000.0\n",
       "9    CA    60.0  100000.0  200000.0"
      ]
     },
     "execution_count": 31,
     "metadata": {},
     "output_type": "execute_result"
    }
   ],
   "source": [
    "# Top 10 states with highest median salaries\n",
    "\n",
    "sal_pivot = pd.pivot_table(df_sal_year, index = ['State'], values = ['Salary'], aggfunc = [pd.Series.nunique, \\\n",
    "                                                                                           np.median, \\\n",
    "                                                                                           max])\n",
    "sal_pivot = sal_pivot.sort_values([('median', 'Salary')], ascending = False).head(10)\n",
    "sal_pivot.reset_index(inplace = True)\n",
    "state_list = list(sal_pivot['State'])\n",
    "sal_pivot"
   ]
  },
  {
   "cell_type": "code",
   "execution_count": 32,
   "metadata": {
    "collapsed": false
   },
   "outputs": [
    {
     "name": "stderr",
     "output_type": "stream",
     "text": [
      "/anaconda/lib/python2.7/site-packages/ipykernel/__main__.py:2: SettingWithCopyWarning: \n",
      "A value is trying to be set on a copy of a slice from a DataFrame\n",
      "\n",
      "See the caveats in the documentation: http://pandas.pydata.org/pandas-docs/stable/indexing.html#indexing-view-versus-copy\n",
      "  from ipykernel import kernelapp as app\n"
     ]
    }
   ],
   "source": [
    "df_s = df_sal_year[df_sal_year['State'].isin(state_list)]\n",
    "df_s.sort_values('Salary', ascending = False, inplace = True)"
   ]
  },
  {
   "cell_type": "code",
   "execution_count": 33,
   "metadata": {
    "collapsed": false
   },
   "outputs": [
    {
     "data": {
      "image/png": "[encoded data removed]",
      "text/plain": [
       "<matplotlib.figure.Figure at 0x11a062490>"
      ]
     },
     "metadata": {},
     "output_type": "display_data"
    }
   ],
   "source": [
    "# Plotting horizontal boxplots\n",
    "\n",
    "plt.figure(figsize=(15,8))\n",
    "ax = sns.boxplot(x='Salary', y=\"State\", data=df_s,\n",
    "                 whis=np.inf, color=\"orange\")\n",
    "plt.tick_params(axis='both', which='major', labelsize=14)\n",
    "ax.set_title('Boxplots of salary ranges in Top 10 states', fontsize = 18, y = 1.01)\n",
    "ax.set_xticklabels(['$0', '$50,000', '$100,000', '$150,000', '$200,000', '$250,000'])\n",
    "ax.set_xlabel('Salaries of Data Scientist', fontsize = 16)\n",
    "ax.set_ylabel('States', fontsize = 16)\n",
    "plt.savefig('boxplot_salary.png')"
   ]
  },
  {
   "cell_type": "markdown",
   "metadata": {},
   "source": [
    "## Extracting top 20 common words in \"Job Title\" and \"Job Summary\" into dummy variables"
   ]
  },
  {
   "cell_type": "markdown",
   "metadata": {},
   "source": [
    "### Top 20 words in Job Titles"
   ]
  },
  {
   "cell_type": "code",
   "execution_count": 36,
   "metadata": {
    "collapsed": false
   },
   "outputs": [
    {
     "data": {
      "text/html": [
       "<div>\n",
       "<table border=\"1\" class=\"dataframe\">\n",
       "  <thead>\n",
       "    <tr style=\"text-align: right;\">\n",
       "      <th></th>\n",
       "      <th>Job_Title</th>\n",
       "      <th>Location</th>\n",
       "      <th>Company</th>\n",
       "      <th>Salary</th>\n",
       "      <th>No_of_Reviews</th>\n",
       "      <th>Company_Ratings</th>\n",
       "      <th>Job_Summary</th>\n",
       "      <th>Salary_Lower</th>\n",
       "      <th>Salary_Higher</th>\n",
       "      <th>State</th>\n",
       "      <th>City</th>\n",
       "    </tr>\n",
       "  </thead>\n",
       "  <tbody>\n",
       "    <tr>\n",
       "      <th>0</th>\n",
       "      <td>Research Analyst</td>\n",
       "      <td>Hampton, VA</td>\n",
       "      <td>Thomas Nelson Comm College</td>\n",
       "      <td>59630.0</td>\n",
       "      <td>2.0</td>\n",
       "      <td>54.0</td>\n",
       "      <td>Primary responsibilities include meeting with ...</td>\n",
       "      <td>55000.0</td>\n",
       "      <td>64260.0</td>\n",
       "      <td>VA</td>\n",
       "      <td>Hampton</td>\n",
       "    </tr>\n",
       "  </tbody>\n",
       "</table>\n",
       "</div>"
      ],
      "text/plain": [
       "          Job_Title     Location                     Company   Salary  \\\n",
       "0  Research Analyst  Hampton, VA  Thomas Nelson Comm College  59630.0   \n",
       "\n",
       "  No_of_Reviews Company_Ratings  \\\n",
       "0           2.0            54.0   \n",
       "\n",
       "                                         Job_Summary  Salary_Lower  \\\n",
       "0  Primary responsibilities include meeting with ...       55000.0   \n",
       "\n",
       "   Salary_Higher State     City  \n",
       "0        64260.0    VA  Hampton  "
      ]
     },
     "execution_count": 36,
     "metadata": {},
     "output_type": "execute_result"
    }
   ],
   "source": [
    "df_sal_year.head(1)"
   ]
  },
  {
   "cell_type": "code",
   "execution_count": 37,
   "metadata": {
    "collapsed": false
   },
   "outputs": [],
   "source": [
    "# Renaming columns to strings without space\n",
    "\n",
    "df_sal_year.columns = ['Job_Title', \\\n",
    "                       'Location', \\\n",
    "                       'Company', \\\n",
    "                       'Salary', \\\n",
    "                       'No_of_Reviews', \\\n",
    "                       'Company_Ratings', \\\n",
    "                       'Job_Summary', \\\n",
    "                       'Salary_Lower', \\\n",
    "                       'Salary_Higher',\\\n",
    "                       'State',\\\n",
    "                       'City']"
   ]
  },
  {
   "cell_type": "code",
   "execution_count": 63,
   "metadata": {
    "collapsed": false
   },
   "outputs": [
    {
     "data": {
      "text/html": [
       "<div>\n",
       "<table border=\"1\" class=\"dataframe\">\n",
       "  <thead>\n",
       "    <tr style=\"text-align: right;\">\n",
       "      <th></th>\n",
       "      <th>jt_analyst</th>\n",
       "      <th>jt_associate</th>\n",
       "      <th>jt_clinical</th>\n",
       "      <th>jt_data</th>\n",
       "      <th>jt_engineer</th>\n",
       "      <th>jt_engineering</th>\n",
       "      <th>jt_laboratory</th>\n",
       "      <th>jt_lead</th>\n",
       "      <th>jt_learning</th>\n",
       "      <th>jt_machine</th>\n",
       "      <th>jt_manager</th>\n",
       "      <th>jt_quantitative</th>\n",
       "      <th>jt_research</th>\n",
       "      <th>jt_scientist</th>\n",
       "      <th>jt_senior</th>\n",
       "      <th>jt_software</th>\n",
       "      <th>jt_specialist</th>\n",
       "      <th>jt_sr</th>\n",
       "      <th>jt_statistical</th>\n",
       "      <th>jt_statistician</th>\n",
       "    </tr>\n",
       "  </thead>\n",
       "  <tbody>\n",
       "    <tr>\n",
       "      <th>0</th>\n",
       "      <td>1</td>\n",
       "      <td>0</td>\n",
       "      <td>0</td>\n",
       "      <td>0</td>\n",
       "      <td>0</td>\n",
       "      <td>0</td>\n",
       "      <td>0</td>\n",
       "      <td>0</td>\n",
       "      <td>0</td>\n",
       "      <td>0</td>\n",
       "      <td>0</td>\n",
       "      <td>0</td>\n",
       "      <td>1</td>\n",
       "      <td>0</td>\n",
       "      <td>0</td>\n",
       "      <td>0</td>\n",
       "      <td>0</td>\n",
       "      <td>0</td>\n",
       "      <td>0</td>\n",
       "      <td>0</td>\n",
       "    </tr>\n",
       "    <tr>\n",
       "      <th>1</th>\n",
       "      <td>1</td>\n",
       "      <td>0</td>\n",
       "      <td>0</td>\n",
       "      <td>0</td>\n",
       "      <td>0</td>\n",
       "      <td>0</td>\n",
       "      <td>0</td>\n",
       "      <td>0</td>\n",
       "      <td>0</td>\n",
       "      <td>0</td>\n",
       "      <td>0</td>\n",
       "      <td>0</td>\n",
       "      <td>1</td>\n",
       "      <td>0</td>\n",
       "      <td>0</td>\n",
       "      <td>0</td>\n",
       "      <td>0</td>\n",
       "      <td>0</td>\n",
       "      <td>0</td>\n",
       "      <td>0</td>\n",
       "    </tr>\n",
       "    <tr>\n",
       "      <th>2</th>\n",
       "      <td>0</td>\n",
       "      <td>0</td>\n",
       "      <td>0</td>\n",
       "      <td>0</td>\n",
       "      <td>0</td>\n",
       "      <td>0</td>\n",
       "      <td>0</td>\n",
       "      <td>0</td>\n",
       "      <td>0</td>\n",
       "      <td>0</td>\n",
       "      <td>0</td>\n",
       "      <td>0</td>\n",
       "      <td>0</td>\n",
       "      <td>1</td>\n",
       "      <td>0</td>\n",
       "      <td>0</td>\n",
       "      <td>0</td>\n",
       "      <td>1</td>\n",
       "      <td>0</td>\n",
       "      <td>0</td>\n",
       "    </tr>\n",
       "    <tr>\n",
       "      <th>3</th>\n",
       "      <td>0</td>\n",
       "      <td>1</td>\n",
       "      <td>0</td>\n",
       "      <td>0</td>\n",
       "      <td>0</td>\n",
       "      <td>0</td>\n",
       "      <td>0</td>\n",
       "      <td>0</td>\n",
       "      <td>0</td>\n",
       "      <td>0</td>\n",
       "      <td>0</td>\n",
       "      <td>0</td>\n",
       "      <td>0</td>\n",
       "      <td>1</td>\n",
       "      <td>0</td>\n",
       "      <td>0</td>\n",
       "      <td>0</td>\n",
       "      <td>0</td>\n",
       "      <td>0</td>\n",
       "      <td>0</td>\n",
       "    </tr>\n",
       "    <tr>\n",
       "      <th>4</th>\n",
       "      <td>0</td>\n",
       "      <td>0</td>\n",
       "      <td>0</td>\n",
       "      <td>1</td>\n",
       "      <td>0</td>\n",
       "      <td>0</td>\n",
       "      <td>0</td>\n",
       "      <td>0</td>\n",
       "      <td>0</td>\n",
       "      <td>0</td>\n",
       "      <td>0</td>\n",
       "      <td>0</td>\n",
       "      <td>0</td>\n",
       "      <td>1</td>\n",
       "      <td>0</td>\n",
       "      <td>0</td>\n",
       "      <td>0</td>\n",
       "      <td>0</td>\n",
       "      <td>0</td>\n",
       "      <td>0</td>\n",
       "    </tr>\n",
       "  </tbody>\n",
       "</table>\n",
       "</div>"
      ],
      "text/plain": [
       "   jt_analyst  jt_associate  jt_clinical  jt_data  jt_engineer  \\\n",
       "0           1             0            0        0            0   \n",
       "1           1             0            0        0            0   \n",
       "2           0             0            0        0            0   \n",
       "3           0             1            0        0            0   \n",
       "4           0             0            0        1            0   \n",
       "\n",
       "   jt_engineering  jt_laboratory  jt_lead  jt_learning  jt_machine  \\\n",
       "0               0              0        0            0           0   \n",
       "1               0              0        0            0           0   \n",
       "2               0              0        0            0           0   \n",
       "3               0              0        0            0           0   \n",
       "4               0              0        0            0           0   \n",
       "\n",
       "   jt_manager  jt_quantitative  jt_research  jt_scientist  jt_senior  \\\n",
       "0           0                0            1             0          0   \n",
       "1           0                0            1             0          0   \n",
       "2           0                0            0             1          0   \n",
       "3           0                0            0             1          0   \n",
       "4           0                0            0             1          0   \n",
       "\n",
       "   jt_software  jt_specialist  jt_sr  jt_statistical  jt_statistician  \n",
       "0            0              0      0               0                0  \n",
       "1            0              0      0               0                0  \n",
       "2            0              0      1               0                0  \n",
       "3            0              0      0               0                0  \n",
       "4            0              0      0               0                0  "
      ]
     },
     "execution_count": 63,
     "metadata": {},
     "output_type": "execute_result"
    }
   ],
   "source": [
    "\n",
    "v = CountVectorizer(\n",
    "    binary=True,  # Create binary features\n",
    "    stop_words='english', # Ignore common words such as 'the', 'and'\n",
    "    max_features=20, # Only use the top 20 most common words\n",
    ")\n",
    "\n",
    "\n",
    "# This builds a matrix with a row per website (or data point) and column per word (using all words in the dataset)\n",
    "jobt = v.fit_transform(df_sal_year.Job_Title).todense()\n",
    "\n",
    "col = v.get_feature_names()\n",
    "\n",
    "# To differentiate words in job title (jt) and job summary (js)\n",
    "col_n = []\n",
    "\n",
    "for i in col:\n",
    "    j = \"jt_\"+ i    \n",
    "    col_n.append(j)\n",
    "\n",
    "jobt = pd.DataFrame(jobt, columns= col_n)\n",
    "jobt.head()"
   ]
  },
  {
   "cell_type": "code",
   "execution_count": 64,
   "metadata": {
    "collapsed": false
   },
   "outputs": [
    {
     "data": {
      "text/html": [
       "<div>\n",
       "<table border=\"1\" class=\"dataframe\">\n",
       "  <thead>\n",
       "    <tr style=\"text-align: right;\">\n",
       "      <th></th>\n",
       "      <th>Count</th>\n",
       "    </tr>\n",
       "  </thead>\n",
       "  <tbody>\n",
       "    <tr>\n",
       "      <th>jt_specialist</th>\n",
       "      <td>14</td>\n",
       "    </tr>\n",
       "    <tr>\n",
       "      <th>jt_laboratory</th>\n",
       "      <td>15</td>\n",
       "    </tr>\n",
       "    <tr>\n",
       "      <th>jt_clinical</th>\n",
       "      <td>16</td>\n",
       "    </tr>\n",
       "    <tr>\n",
       "      <th>jt_software</th>\n",
       "      <td>18</td>\n",
       "    </tr>\n",
       "    <tr>\n",
       "      <th>jt_engineering</th>\n",
       "      <td>18</td>\n",
       "    </tr>\n",
       "  </tbody>\n",
       "</table>\n",
       "</div>"
      ],
      "text/plain": [
       "                Count\n",
       "jt_specialist      14\n",
       "jt_laboratory      15\n",
       "jt_clinical        16\n",
       "jt_software        18\n",
       "jt_engineering     18"
      ]
     },
     "execution_count": 64,
     "metadata": {},
     "output_type": "execute_result"
    }
   ],
   "source": [
    "job_word_df = pd.DataFrame(jobt.sum())\n",
    "job_word_df.columns = ['Count']\n",
    "job_word_df.sort_values(['Count'],inplace = True)\n",
    "job_word_df.head()"
   ]
  },
  {
   "cell_type": "code",
   "execution_count": 65,
   "metadata": {
    "collapsed": false
   },
   "outputs": [
    {
     "data": {
      "image/png": "[encoded data removed]",
      "text/plain": [
       "<matplotlib.figure.Figure at 0x11ae91050>"
      ]
     },
     "metadata": {},
     "output_type": "display_data"
    }
   ],
   "source": [
    "\n",
    "ax = job_word_df.plot(kind = 'barh', figsize = (15,8))\n",
    "ax.set_title('Top 20 most common words in Data Scientist Job Title', fontsize = 18, y = 1.02)\n",
    "plt.tick_params(axis='both', which='major', labelsize=14)\n",
    "plt.savefig('20_words_ds_job_title.png')"
   ]
  },
  {
   "cell_type": "markdown",
   "metadata": {},
   "source": [
    "### Top 20 words in job summarys"
   ]
  },
  {
   "cell_type": "code",
   "execution_count": 66,
   "metadata": {
    "collapsed": false
   },
   "outputs": [
    {
     "data": {
      "text/html": [
       "<div>\n",
       "<table border=\"1\" class=\"dataframe\">\n",
       "  <thead>\n",
       "    <tr style=\"text-align: right;\">\n",
       "      <th></th>\n",
       "      <th>js_analysis</th>\n",
       "      <th>js_analyst</th>\n",
       "      <th>js_analytics</th>\n",
       "      <th>js_analyze</th>\n",
       "      <th>js_collection</th>\n",
       "      <th>js_company</th>\n",
       "      <th>js_data</th>\n",
       "      <th>js_development</th>\n",
       "      <th>js_experience</th>\n",
       "      <th>js_looking</th>\n",
       "      <th>js_management</th>\n",
       "      <th>js_research</th>\n",
       "      <th>js_science</th>\n",
       "      <th>js_scientist</th>\n",
       "      <th>js_scientists</th>\n",
       "      <th>js_senior</th>\n",
       "      <th>js_statistical</th>\n",
       "      <th>js_team</th>\n",
       "      <th>js_work</th>\n",
       "      <th>js_working</th>\n",
       "    </tr>\n",
       "  </thead>\n",
       "  <tbody>\n",
       "    <tr>\n",
       "      <th>0</th>\n",
       "      <td>0</td>\n",
       "      <td>0</td>\n",
       "      <td>0</td>\n",
       "      <td>0</td>\n",
       "      <td>0</td>\n",
       "      <td>0</td>\n",
       "      <td>1</td>\n",
       "      <td>0</td>\n",
       "      <td>0</td>\n",
       "      <td>0</td>\n",
       "      <td>0</td>\n",
       "      <td>0</td>\n",
       "      <td>0</td>\n",
       "      <td>0</td>\n",
       "      <td>0</td>\n",
       "      <td>0</td>\n",
       "      <td>0</td>\n",
       "      <td>0</td>\n",
       "      <td>0</td>\n",
       "      <td>0</td>\n",
       "    </tr>\n",
       "    <tr>\n",
       "      <th>1</th>\n",
       "      <td>0</td>\n",
       "      <td>0</td>\n",
       "      <td>0</td>\n",
       "      <td>0</td>\n",
       "      <td>0</td>\n",
       "      <td>0</td>\n",
       "      <td>1</td>\n",
       "      <td>0</td>\n",
       "      <td>0</td>\n",
       "      <td>0</td>\n",
       "      <td>0</td>\n",
       "      <td>1</td>\n",
       "      <td>0</td>\n",
       "      <td>0</td>\n",
       "      <td>0</td>\n",
       "      <td>0</td>\n",
       "      <td>0</td>\n",
       "      <td>0</td>\n",
       "      <td>0</td>\n",
       "      <td>0</td>\n",
       "    </tr>\n",
       "    <tr>\n",
       "      <th>2</th>\n",
       "      <td>1</td>\n",
       "      <td>0</td>\n",
       "      <td>0</td>\n",
       "      <td>0</td>\n",
       "      <td>1</td>\n",
       "      <td>0</td>\n",
       "      <td>1</td>\n",
       "      <td>0</td>\n",
       "      <td>0</td>\n",
       "      <td>0</td>\n",
       "      <td>0</td>\n",
       "      <td>0</td>\n",
       "      <td>0</td>\n",
       "      <td>0</td>\n",
       "      <td>0</td>\n",
       "      <td>0</td>\n",
       "      <td>0</td>\n",
       "      <td>0</td>\n",
       "      <td>0</td>\n",
       "      <td>0</td>\n",
       "    </tr>\n",
       "    <tr>\n",
       "      <th>3</th>\n",
       "      <td>0</td>\n",
       "      <td>0</td>\n",
       "      <td>0</td>\n",
       "      <td>0</td>\n",
       "      <td>0</td>\n",
       "      <td>0</td>\n",
       "      <td>0</td>\n",
       "      <td>0</td>\n",
       "      <td>0</td>\n",
       "      <td>0</td>\n",
       "      <td>0</td>\n",
       "      <td>1</td>\n",
       "      <td>0</td>\n",
       "      <td>1</td>\n",
       "      <td>0</td>\n",
       "      <td>0</td>\n",
       "      <td>0</td>\n",
       "      <td>0</td>\n",
       "      <td>0</td>\n",
       "      <td>1</td>\n",
       "    </tr>\n",
       "    <tr>\n",
       "      <th>4</th>\n",
       "      <td>0</td>\n",
       "      <td>0</td>\n",
       "      <td>1</td>\n",
       "      <td>0</td>\n",
       "      <td>0</td>\n",
       "      <td>1</td>\n",
       "      <td>1</td>\n",
       "      <td>0</td>\n",
       "      <td>0</td>\n",
       "      <td>0</td>\n",
       "      <td>0</td>\n",
       "      <td>0</td>\n",
       "      <td>0</td>\n",
       "      <td>1</td>\n",
       "      <td>0</td>\n",
       "      <td>0</td>\n",
       "      <td>0</td>\n",
       "      <td>0</td>\n",
       "      <td>0</td>\n",
       "      <td>0</td>\n",
       "    </tr>\n",
       "  </tbody>\n",
       "</table>\n",
       "</div>"
      ],
      "text/plain": [
       "   js_analysis  js_analyst  js_analytics  js_analyze  js_collection  \\\n",
       "0            0           0             0           0              0   \n",
       "1            0           0             0           0              0   \n",
       "2            1           0             0           0              1   \n",
       "3            0           0             0           0              0   \n",
       "4            0           0             1           0              0   \n",
       "\n",
       "   js_company  js_data  js_development  js_experience  js_looking  \\\n",
       "0           0        1               0              0           0   \n",
       "1           0        1               0              0           0   \n",
       "2           0        1               0              0           0   \n",
       "3           0        0               0              0           0   \n",
       "4           1        1               0              0           0   \n",
       "\n",
       "   js_management  js_research  js_science  js_scientist  js_scientists  \\\n",
       "0              0            0           0             0              0   \n",
       "1              0            1           0             0              0   \n",
       "2              0            0           0             0              0   \n",
       "3              0            1           0             1              0   \n",
       "4              0            0           0             1              0   \n",
       "\n",
       "   js_senior  js_statistical  js_team  js_work  js_working  \n",
       "0          0               0        0        0           0  \n",
       "1          0               0        0        0           0  \n",
       "2          0               0        0        0           0  \n",
       "3          0               0        0        0           1  \n",
       "4          0               0        0        0           0  "
      ]
     },
     "execution_count": 66,
     "metadata": {},
     "output_type": "execute_result"
    }
   ],
   "source": [
    "jobS = v.fit_transform(df_sal_year.Job_Summary).todense()\n",
    "\n",
    "col = v.get_feature_names()\n",
    "\n",
    "col_n = []\n",
    "for i in col:\n",
    "    j = \"js_\" + i\n",
    "    col_n.append(j)\n",
    "\n",
    "jobS = pd.DataFrame(jobS, columns = col_n)\n",
    "jobS.head()"
   ]
  },
  {
   "cell_type": "code",
   "execution_count": 67,
   "metadata": {
    "collapsed": false
   },
   "outputs": [
    {
     "data": {
      "image/png": "[encoded data removed]",
      "text/plain": [
       "<matplotlib.figure.Figure at 0x11a543d50>"
      ]
     },
     "metadata": {},
     "output_type": "display_data"
    }
   ],
   "source": [
    "jobS_word_df = pd.DataFrame(jobS.sum())\n",
    "jobS_word_df.columns = ['Count']\n",
    "jobS_word_df.sort_values(['Count'],inplace = True)\n",
    "\n",
    "ax = jobS_word_df.plot(kind = 'barh', figsize = (15,8), color = 'g')\n",
    "ax.set_title('Top 20 most common words in Data Scientist Job Summary', fontsize = 18, y = 1.02)\n",
    "plt.tick_params(axis='both', which='major', labelsize=14)\n",
    "plt.savefig('20_words_ds_job_summary.png')"
   ]
  },
  {
   "cell_type": "code",
   "execution_count": 43,
   "metadata": {
    "collapsed": false
   },
   "outputs": [
    {
     "ename": "KeyError",
     "evalue": "'Salary_Frequency'",
     "output_type": "error",
     "traceback": [
      "\u001b[0;31m---------------------------------------------------------------------------\u001b[0m",
      "\u001b[0;31mKeyError\u001b[0m                                  Traceback (most recent call last)",
      "\u001b[0;32m<ipython-input-43-ee2cf3eecca8>\u001b[0m in \u001b[0;36m<module>\u001b[0;34m()\u001b[0m\n\u001b[0;32m----> 1\u001b[0;31m \u001b[0;32mdel\u001b[0m \u001b[0mdf_sal_year\u001b[0m\u001b[0;34m[\u001b[0m\u001b[0;34m'Salary_Frequency'\u001b[0m\u001b[0;34m]\u001b[0m\u001b[0;34m\u001b[0m\u001b[0m\n\u001b[0m",
      "\u001b[0;32m//anaconda/lib/python2.7/site-packages/pandas/core/generic.pyc\u001b[0m in \u001b[0;36m__delitem__\u001b[0;34m(self, key)\u001b[0m\n\u001b[1;32m   1604\u001b[0m             \u001b[0;31m# there was no match, this call should raise the appropriate\u001b[0m\u001b[0;34m\u001b[0m\u001b[0;34m\u001b[0m\u001b[0m\n\u001b[1;32m   1605\u001b[0m             \u001b[0;31m# exception:\u001b[0m\u001b[0;34m\u001b[0m\u001b[0;34m\u001b[0m\u001b[0m\n\u001b[0;32m-> 1606\u001b[0;31m             \u001b[0mself\u001b[0m\u001b[0;34m.\u001b[0m\u001b[0m_data\u001b[0m\u001b[0;34m.\u001b[0m\u001b[0mdelete\u001b[0m\u001b[0;34m(\u001b[0m\u001b[0mkey\u001b[0m\u001b[0;34m)\u001b[0m\u001b[0;34m\u001b[0m\u001b[0m\n\u001b[0m\u001b[1;32m   1607\u001b[0m \u001b[0;34m\u001b[0m\u001b[0m\n\u001b[1;32m   1608\u001b[0m         \u001b[0;31m# delete from the caches\u001b[0m\u001b[0;34m\u001b[0m\u001b[0;34m\u001b[0m\u001b[0m\n",
      "\u001b[0;32m//anaconda/lib/python2.7/site-packages/pandas/core/internals.pyc\u001b[0m in \u001b[0;36mdelete\u001b[0;34m(self, item)\u001b[0m\n\u001b[1;32m   3347\u001b[0m         \u001b[0mDelete\u001b[0m \u001b[0mselected\u001b[0m \u001b[0mitem\u001b[0m \u001b[0;34m(\u001b[0m\u001b[0mitems\u001b[0m \u001b[0;32mif\u001b[0m \u001b[0mnon\u001b[0m\u001b[0;34m-\u001b[0m\u001b[0munique\u001b[0m\u001b[0;34m)\u001b[0m \u001b[0;32min\u001b[0m\u001b[0;34m-\u001b[0m\u001b[0mplace\u001b[0m\u001b[0;34m.\u001b[0m\u001b[0;34m\u001b[0m\u001b[0m\n\u001b[1;32m   3348\u001b[0m         \"\"\"\n\u001b[0;32m-> 3349\u001b[0;31m         \u001b[0mindexer\u001b[0m \u001b[0;34m=\u001b[0m \u001b[0mself\u001b[0m\u001b[0;34m.\u001b[0m\u001b[0mitems\u001b[0m\u001b[0;34m.\u001b[0m\u001b[0mget_loc\u001b[0m\u001b[0;34m(\u001b[0m\u001b[0mitem\u001b[0m\u001b[0;34m)\u001b[0m\u001b[0;34m\u001b[0m\u001b[0m\n\u001b[0m\u001b[1;32m   3350\u001b[0m \u001b[0;34m\u001b[0m\u001b[0m\n\u001b[1;32m   3351\u001b[0m         \u001b[0mis_deleted\u001b[0m \u001b[0;34m=\u001b[0m \u001b[0mnp\u001b[0m\u001b[0;34m.\u001b[0m\u001b[0mzeros\u001b[0m\u001b[0;34m(\u001b[0m\u001b[0mself\u001b[0m\u001b[0;34m.\u001b[0m\u001b[0mshape\u001b[0m\u001b[0;34m[\u001b[0m\u001b[0;36m0\u001b[0m\u001b[0;34m]\u001b[0m\u001b[0;34m,\u001b[0m \u001b[0mdtype\u001b[0m\u001b[0;34m=\u001b[0m\u001b[0mnp\u001b[0m\u001b[0;34m.\u001b[0m\u001b[0mbool_\u001b[0m\u001b[0;34m)\u001b[0m\u001b[0;34m\u001b[0m\u001b[0m\n",
      "\u001b[0;32m//anaconda/lib/python2.7/site-packages/pandas/indexes/base.pyc\u001b[0m in \u001b[0;36mget_loc\u001b[0;34m(self, key, method, tolerance)\u001b[0m\n\u001b[1;32m   1945\u001b[0m                 \u001b[0;32mreturn\u001b[0m \u001b[0mself\u001b[0m\u001b[0;34m.\u001b[0m\u001b[0m_engine\u001b[0m\u001b[0;34m.\u001b[0m\u001b[0mget_loc\u001b[0m\u001b[0;34m(\u001b[0m\u001b[0mkey\u001b[0m\u001b[0;34m)\u001b[0m\u001b[0;34m\u001b[0m\u001b[0m\n\u001b[1;32m   1946\u001b[0m             \u001b[0;32mexcept\u001b[0m \u001b[0mKeyError\u001b[0m\u001b[0;34m:\u001b[0m\u001b[0;34m\u001b[0m\u001b[0m\n\u001b[0;32m-> 1947\u001b[0;31m                 \u001b[0;32mreturn\u001b[0m \u001b[0mself\u001b[0m\u001b[0;34m.\u001b[0m\u001b[0m_engine\u001b[0m\u001b[0;34m.\u001b[0m\u001b[0mget_loc\u001b[0m\u001b[0;34m(\u001b[0m\u001b[0mself\u001b[0m\u001b[0;34m.\u001b[0m\u001b[0m_maybe_cast_indexer\u001b[0m\u001b[0;34m(\u001b[0m\u001b[0mkey\u001b[0m\u001b[0;34m)\u001b[0m\u001b[0;34m)\u001b[0m\u001b[0;34m\u001b[0m\u001b[0m\n\u001b[0m\u001b[1;32m   1948\u001b[0m \u001b[0;34m\u001b[0m\u001b[0m\n\u001b[1;32m   1949\u001b[0m         \u001b[0mindexer\u001b[0m \u001b[0;34m=\u001b[0m \u001b[0mself\u001b[0m\u001b[0;34m.\u001b[0m\u001b[0mget_indexer\u001b[0m\u001b[0;34m(\u001b[0m\u001b[0;34m[\u001b[0m\u001b[0mkey\u001b[0m\u001b[0;34m]\u001b[0m\u001b[0;34m,\u001b[0m \u001b[0mmethod\u001b[0m\u001b[0;34m=\u001b[0m\u001b[0mmethod\u001b[0m\u001b[0;34m,\u001b[0m \u001b[0mtolerance\u001b[0m\u001b[0;34m=\u001b[0m\u001b[0mtolerance\u001b[0m\u001b[0;34m)\u001b[0m\u001b[0;34m\u001b[0m\u001b[0m\n",
      "\u001b[0;32mpandas/index.pyx\u001b[0m in \u001b[0;36mpandas.index.IndexEngine.get_loc (pandas/index.c:4154)\u001b[0;34m()\u001b[0m\n",
      "\u001b[0;32mpandas/index.pyx\u001b[0m in \u001b[0;36mpandas.index.IndexEngine.get_loc (pandas/index.c:4018)\u001b[0;34m()\u001b[0m\n",
      "\u001b[0;32mpandas/hashtable.pyx\u001b[0m in \u001b[0;36mpandas.hashtable.PyObjectHashTable.get_item (pandas/hashtable.c:12368)\u001b[0;34m()\u001b[0m\n",
      "\u001b[0;32mpandas/hashtable.pyx\u001b[0m in \u001b[0;36mpandas.hashtable.PyObjectHashTable.get_item (pandas/hashtable.c:12322)\u001b[0;34m()\u001b[0m\n",
      "\u001b[0;31mKeyError\u001b[0m: 'Salary_Frequency'"
     ]
    }
   ],
   "source": [
    "del df_sal_year['Salary_Frequency']"
   ]
  },
  {
   "cell_type": "code",
   "execution_count": 133,
   "metadata": {
    "collapsed": false
   },
   "outputs": [
    {
     "data": {
      "text/html": [
       "<div>\n",
       "<table border=\"1\" class=\"dataframe\">\n",
       "  <thead>\n",
       "    <tr style=\"text-align: right;\">\n",
       "      <th></th>\n",
       "      <th>Job_Title</th>\n",
       "      <th>Location</th>\n",
       "      <th>Company</th>\n",
       "      <th>Salary</th>\n",
       "      <th>No_of_Reviews</th>\n",
       "      <th>Company_Ratings</th>\n",
       "      <th>Job_Summary</th>\n",
       "      <th>Salary_Lower</th>\n",
       "      <th>Salary_Higher</th>\n",
       "      <th>State</th>\n",
       "      <th>City</th>\n",
       "    </tr>\n",
       "  </thead>\n",
       "  <tbody>\n",
       "    <tr>\n",
       "      <th>3</th>\n",
       "      <td>Research Analyst</td>\n",
       "      <td>Hampton, VA</td>\n",
       "      <td>Thomas Nelson Comm College</td>\n",
       "      <td>59630.0</td>\n",
       "      <td>2</td>\n",
       "      <td>54</td>\n",
       "      <td>Primary responsibilities include meeting with ...</td>\n",
       "      <td>55000.0</td>\n",
       "      <td>64260.0</td>\n",
       "      <td>VA</td>\n",
       "      <td>Hampton</td>\n",
       "    </tr>\n",
       "  </tbody>\n",
       "</table>\n",
       "</div>"
      ],
      "text/plain": [
       "          Job_Title     Location                     Company   Salary  \\\n",
       "3  Research Analyst  Hampton, VA  Thomas Nelson Comm College  59630.0   \n",
       "\n",
       "  No_of_Reviews Company_Ratings  \\\n",
       "3             2              54   \n",
       "\n",
       "                                         Job_Summary  Salary_Lower  \\\n",
       "3  Primary responsibilities include meeting with ...       55000.0   \n",
       "\n",
       "   Salary_Higher State     City  \n",
       "3        64260.0    VA  Hampton  "
      ]
     },
     "execution_count": 133,
     "metadata": {},
     "output_type": "execute_result"
    }
   ],
   "source": [
    "df_sal_year.head(1)"
   ]
  },
  {
   "cell_type": "code",
   "execution_count": 44,
   "metadata": {
    "collapsed": true
   },
   "outputs": [],
   "source": [
    "df_sal_year.reset_index(inplace = True, drop = True)"
   ]
  },
  {
   "cell_type": "markdown",
   "metadata": {},
   "source": [
    "## Creating dummy variables for categorical columns"
   ]
  },
  {
   "cell_type": "code",
   "execution_count": 45,
   "metadata": {
    "collapsed": true
   },
   "outputs": [],
   "source": [
    "# Function to return dummy variables for certain columns\n",
    "\n",
    "# Company name was not included\n",
    "\n",
    "def get_features(dataframe):\n",
    "    \n",
    "   features = patsy.dmatrix('~ C(State) + C(City)', dataframe)\n",
    "   X_df = pd.DataFrame(features, columns=features.design_info.column_names)\n",
    "   X_df.drop('Intercept', axis=1, inplace=True)\n",
    "   return X_df"
   ]
  },
  {
   "cell_type": "code",
   "execution_count": 46,
   "metadata": {
    "collapsed": false,
    "focus": false,
    "id": "a0f701e0-80bd-40ba-9101-4535860c0968"
   },
   "outputs": [
    {
     "data": {
      "text/html": [
       "<div>\n",
       "<table border=\"1\" class=\"dataframe\">\n",
       "  <thead>\n",
       "    <tr style=\"text-align: right;\">\n",
       "      <th></th>\n",
       "      <th>C(State)[T.AZ]</th>\n",
       "      <th>C(State)[T.CA]</th>\n",
       "      <th>C(State)[T.CO]</th>\n",
       "      <th>C(State)[T.CT]</th>\n",
       "      <th>C(State)[T.DC]</th>\n",
       "      <th>C(State)[T.DE]</th>\n",
       "      <th>C(State)[T.FL]</th>\n",
       "      <th>C(State)[T.GA]</th>\n",
       "      <th>C(State)[T.HI]</th>\n",
       "      <th>C(State)[T.IL]</th>\n",
       "      <th>...</th>\n",
       "      <th>C(City)[T.Union]</th>\n",
       "      <th>C(City)[T.Ventura, C]</th>\n",
       "      <th>C(City)[T.Walnut Creek]</th>\n",
       "      <th>C(City)[T.Waltham]</th>\n",
       "      <th>C(City)[T.Washington]</th>\n",
       "      <th>C(City)[T.Waukegan]</th>\n",
       "      <th>C(City)[T.West Valley City]</th>\n",
       "      <th>C(City)[T.Westlake Village]</th>\n",
       "      <th>C(City)[T.Wilmington]</th>\n",
       "      <th>C(City)[T.Wright-Patterson AFB]</th>\n",
       "    </tr>\n",
       "  </thead>\n",
       "  <tbody>\n",
       "    <tr>\n",
       "      <th>0</th>\n",
       "      <td>0.0</td>\n",
       "      <td>0.0</td>\n",
       "      <td>0.0</td>\n",
       "      <td>0.0</td>\n",
       "      <td>0.0</td>\n",
       "      <td>0.0</td>\n",
       "      <td>0.0</td>\n",
       "      <td>0.0</td>\n",
       "      <td>0.0</td>\n",
       "      <td>0.0</td>\n",
       "      <td>...</td>\n",
       "      <td>0.0</td>\n",
       "      <td>0.0</td>\n",
       "      <td>0.0</td>\n",
       "      <td>0.0</td>\n",
       "      <td>0.0</td>\n",
       "      <td>0.0</td>\n",
       "      <td>0.0</td>\n",
       "      <td>0.0</td>\n",
       "      <td>0.0</td>\n",
       "      <td>0.0</td>\n",
       "    </tr>\n",
       "    <tr>\n",
       "      <th>1</th>\n",
       "      <td>0.0</td>\n",
       "      <td>0.0</td>\n",
       "      <td>0.0</td>\n",
       "      <td>0.0</td>\n",
       "      <td>0.0</td>\n",
       "      <td>0.0</td>\n",
       "      <td>0.0</td>\n",
       "      <td>0.0</td>\n",
       "      <td>0.0</td>\n",
       "      <td>0.0</td>\n",
       "      <td>...</td>\n",
       "      <td>0.0</td>\n",
       "      <td>0.0</td>\n",
       "      <td>0.0</td>\n",
       "      <td>0.0</td>\n",
       "      <td>0.0</td>\n",
       "      <td>0.0</td>\n",
       "      <td>0.0</td>\n",
       "      <td>0.0</td>\n",
       "      <td>0.0</td>\n",
       "      <td>0.0</td>\n",
       "    </tr>\n",
       "    <tr>\n",
       "      <th>2</th>\n",
       "      <td>0.0</td>\n",
       "      <td>0.0</td>\n",
       "      <td>0.0</td>\n",
       "      <td>0.0</td>\n",
       "      <td>0.0</td>\n",
       "      <td>0.0</td>\n",
       "      <td>0.0</td>\n",
       "      <td>0.0</td>\n",
       "      <td>0.0</td>\n",
       "      <td>0.0</td>\n",
       "      <td>...</td>\n",
       "      <td>0.0</td>\n",
       "      <td>0.0</td>\n",
       "      <td>0.0</td>\n",
       "      <td>0.0</td>\n",
       "      <td>0.0</td>\n",
       "      <td>0.0</td>\n",
       "      <td>0.0</td>\n",
       "      <td>0.0</td>\n",
       "      <td>0.0</td>\n",
       "      <td>0.0</td>\n",
       "    </tr>\n",
       "    <tr>\n",
       "      <th>3</th>\n",
       "      <td>0.0</td>\n",
       "      <td>0.0</td>\n",
       "      <td>0.0</td>\n",
       "      <td>0.0</td>\n",
       "      <td>0.0</td>\n",
       "      <td>0.0</td>\n",
       "      <td>0.0</td>\n",
       "      <td>0.0</td>\n",
       "      <td>0.0</td>\n",
       "      <td>0.0</td>\n",
       "      <td>...</td>\n",
       "      <td>0.0</td>\n",
       "      <td>0.0</td>\n",
       "      <td>0.0</td>\n",
       "      <td>0.0</td>\n",
       "      <td>0.0</td>\n",
       "      <td>0.0</td>\n",
       "      <td>0.0</td>\n",
       "      <td>0.0</td>\n",
       "      <td>0.0</td>\n",
       "      <td>0.0</td>\n",
       "    </tr>\n",
       "    <tr>\n",
       "      <th>4</th>\n",
       "      <td>0.0</td>\n",
       "      <td>0.0</td>\n",
       "      <td>0.0</td>\n",
       "      <td>0.0</td>\n",
       "      <td>0.0</td>\n",
       "      <td>0.0</td>\n",
       "      <td>0.0</td>\n",
       "      <td>0.0</td>\n",
       "      <td>0.0</td>\n",
       "      <td>0.0</td>\n",
       "      <td>...</td>\n",
       "      <td>0.0</td>\n",
       "      <td>0.0</td>\n",
       "      <td>0.0</td>\n",
       "      <td>0.0</td>\n",
       "      <td>0.0</td>\n",
       "      <td>0.0</td>\n",
       "      <td>0.0</td>\n",
       "      <td>0.0</td>\n",
       "      <td>0.0</td>\n",
       "      <td>0.0</td>\n",
       "    </tr>\n",
       "  </tbody>\n",
       "</table>\n",
       "<p>5 rows × 253 columns</p>\n",
       "</div>"
      ],
      "text/plain": [
       "   C(State)[T.AZ]  C(State)[T.CA]  C(State)[T.CO]  C(State)[T.CT]  \\\n",
       "0             0.0             0.0             0.0             0.0   \n",
       "1             0.0             0.0             0.0             0.0   \n",
       "2             0.0             0.0             0.0             0.0   \n",
       "3             0.0             0.0             0.0             0.0   \n",
       "4             0.0             0.0             0.0             0.0   \n",
       "\n",
       "   C(State)[T.DC]  C(State)[T.DE]  C(State)[T.FL]  C(State)[T.GA]  \\\n",
       "0             0.0             0.0             0.0             0.0   \n",
       "1             0.0             0.0             0.0             0.0   \n",
       "2             0.0             0.0             0.0             0.0   \n",
       "3             0.0             0.0             0.0             0.0   \n",
       "4             0.0             0.0             0.0             0.0   \n",
       "\n",
       "   C(State)[T.HI]  C(State)[T.IL]               ...                 \\\n",
       "0             0.0             0.0               ...                  \n",
       "1             0.0             0.0               ...                  \n",
       "2             0.0             0.0               ...                  \n",
       "3             0.0             0.0               ...                  \n",
       "4             0.0             0.0               ...                  \n",
       "\n",
       "   C(City)[T.Union]  C(City)[T.Ventura, C]  C(City)[T.Walnut Creek]  \\\n",
       "0               0.0                    0.0                      0.0   \n",
       "1               0.0                    0.0                      0.0   \n",
       "2               0.0                    0.0                      0.0   \n",
       "3               0.0                    0.0                      0.0   \n",
       "4               0.0                    0.0                      0.0   \n",
       "\n",
       "   C(City)[T.Waltham]  C(City)[T.Washington]  C(City)[T.Waukegan]  \\\n",
       "0                 0.0                    0.0                  0.0   \n",
       "1                 0.0                    0.0                  0.0   \n",
       "2                 0.0                    0.0                  0.0   \n",
       "3                 0.0                    0.0                  0.0   \n",
       "4                 0.0                    0.0                  0.0   \n",
       "\n",
       "   C(City)[T.West Valley City]  C(City)[T.Westlake Village]  \\\n",
       "0                          0.0                          0.0   \n",
       "1                          0.0                          0.0   \n",
       "2                          0.0                          0.0   \n",
       "3                          0.0                          0.0   \n",
       "4                          0.0                          0.0   \n",
       "\n",
       "   C(City)[T.Wilmington]  C(City)[T.Wright-Patterson AFB]  \n",
       "0                    0.0                              0.0  \n",
       "1                    0.0                              0.0  \n",
       "2                    0.0                              0.0  \n",
       "3                    0.0                              0.0  \n",
       "4                    0.0                              0.0  \n",
       "\n",
       "[5 rows x 253 columns]"
      ]
     },
     "execution_count": 46,
     "metadata": {},
     "output_type": "execute_result"
    }
   ],
   "source": [
    "# Creating dummy variables for States and Cities\n",
    "dff = get_features(df_sal_year)\n",
    "dff.head()"
   ]
  },
  {
   "cell_type": "markdown",
   "metadata": {},
   "source": [
    "## Concatenating all dummy variables and original dataframe"
   ]
  },
  {
   "cell_type": "code",
   "execution_count": 68,
   "metadata": {
    "collapsed": false
   },
   "outputs": [
    {
     "data": {
      "text/html": [
       "<div>\n",
       "<table border=\"1\" class=\"dataframe\">\n",
       "  <thead>\n",
       "    <tr style=\"text-align: right;\">\n",
       "      <th></th>\n",
       "      <th>Job_Title</th>\n",
       "      <th>Location</th>\n",
       "      <th>Company</th>\n",
       "      <th>Salary</th>\n",
       "      <th>No_of_Reviews</th>\n",
       "      <th>Company_Ratings</th>\n",
       "      <th>Job_Summary</th>\n",
       "      <th>Salary_Lower</th>\n",
       "      <th>Salary_Higher</th>\n",
       "      <th>State</th>\n",
       "      <th>...</th>\n",
       "      <th>C(City)[T.Union]</th>\n",
       "      <th>C(City)[T.Ventura, C]</th>\n",
       "      <th>C(City)[T.Walnut Creek]</th>\n",
       "      <th>C(City)[T.Waltham]</th>\n",
       "      <th>C(City)[T.Washington]</th>\n",
       "      <th>C(City)[T.Waukegan]</th>\n",
       "      <th>C(City)[T.West Valley City]</th>\n",
       "      <th>C(City)[T.Westlake Village]</th>\n",
       "      <th>C(City)[T.Wilmington]</th>\n",
       "      <th>C(City)[T.Wright-Patterson AFB]</th>\n",
       "    </tr>\n",
       "  </thead>\n",
       "  <tbody>\n",
       "    <tr>\n",
       "      <th>0</th>\n",
       "      <td>Research Analyst</td>\n",
       "      <td>Hampton, VA</td>\n",
       "      <td>Thomas Nelson Comm College</td>\n",
       "      <td>59630.0</td>\n",
       "      <td>2.0</td>\n",
       "      <td>54.0</td>\n",
       "      <td>Primary responsibilities include meeting with ...</td>\n",
       "      <td>55000.0</td>\n",
       "      <td>64260.0</td>\n",
       "      <td>VA</td>\n",
       "      <td>...</td>\n",
       "      <td>0.0</td>\n",
       "      <td>0.0</td>\n",
       "      <td>0.0</td>\n",
       "      <td>0.0</td>\n",
       "      <td>0.0</td>\n",
       "      <td>0.0</td>\n",
       "      <td>0.0</td>\n",
       "      <td>0.0</td>\n",
       "      <td>0.0</td>\n",
       "      <td>0.0</td>\n",
       "    </tr>\n",
       "    <tr>\n",
       "      <th>1</th>\n",
       "      <td>Research Analyst</td>\n",
       "      <td>Norfolk, VA</td>\n",
       "      <td>City of Norfolk, VA</td>\n",
       "      <td>44415.0</td>\n",
       "      <td>None</td>\n",
       "      <td>None</td>\n",
       "      <td>Gathers and analyzes data, develops spreadshee...</td>\n",
       "      <td>33770.0</td>\n",
       "      <td>55060.0</td>\n",
       "      <td>VA</td>\n",
       "      <td>...</td>\n",
       "      <td>0.0</td>\n",
       "      <td>0.0</td>\n",
       "      <td>0.0</td>\n",
       "      <td>0.0</td>\n",
       "      <td>0.0</td>\n",
       "      <td>0.0</td>\n",
       "      <td>0.0</td>\n",
       "      <td>0.0</td>\n",
       "      <td>0.0</td>\n",
       "      <td>0.0</td>\n",
       "    </tr>\n",
       "    <tr>\n",
       "      <th>2</th>\n",
       "      <td>Sr. Socio-behavioral Scientist</td>\n",
       "      <td>Norfolk, VA</td>\n",
       "      <td>Eastern Virginia Medical School</td>\n",
       "      <td>94963.0</td>\n",
       "      <td>35.0</td>\n",
       "      <td>42.0</td>\n",
       "      <td>Duties include managing and supporting proposa...</td>\n",
       "      <td>94963.0</td>\n",
       "      <td>94963.0</td>\n",
       "      <td>VA</td>\n",
       "      <td>...</td>\n",
       "      <td>0.0</td>\n",
       "      <td>0.0</td>\n",
       "      <td>0.0</td>\n",
       "      <td>0.0</td>\n",
       "      <td>0.0</td>\n",
       "      <td>0.0</td>\n",
       "      <td>0.0</td>\n",
       "      <td>0.0</td>\n",
       "      <td>0.0</td>\n",
       "      <td>0.0</td>\n",
       "    </tr>\n",
       "    <tr>\n",
       "      <th>3</th>\n",
       "      <td>ASSOCIATE SCIENTIST</td>\n",
       "      <td>Madison, WI</td>\n",
       "      <td>University of Wisconsin-Madison</td>\n",
       "      <td>40861.0</td>\n",
       "      <td>49.0</td>\n",
       "      <td>53.4</td>\n",
       "      <td>Scientist - Radiological Engineering and Desig...</td>\n",
       "      <td>40861.0</td>\n",
       "      <td>40861.0</td>\n",
       "      <td>WI</td>\n",
       "      <td>...</td>\n",
       "      <td>0.0</td>\n",
       "      <td>0.0</td>\n",
       "      <td>0.0</td>\n",
       "      <td>0.0</td>\n",
       "      <td>0.0</td>\n",
       "      <td>0.0</td>\n",
       "      <td>0.0</td>\n",
       "      <td>0.0</td>\n",
       "      <td>0.0</td>\n",
       "      <td>0.0</td>\n",
       "    </tr>\n",
       "    <tr>\n",
       "      <th>4</th>\n",
       "      <td>Data Scientist</td>\n",
       "      <td>Madison, WI</td>\n",
       "      <td>Analytic Recruiting</td>\n",
       "      <td>135500.0</td>\n",
       "      <td>2.0</td>\n",
       "      <td>51.0</td>\n",
       "      <td>Insurance Company in Wisconsin seeks a full ti...</td>\n",
       "      <td>100000.0</td>\n",
       "      <td>171000.0</td>\n",
       "      <td>WI</td>\n",
       "      <td>...</td>\n",
       "      <td>0.0</td>\n",
       "      <td>0.0</td>\n",
       "      <td>0.0</td>\n",
       "      <td>0.0</td>\n",
       "      <td>0.0</td>\n",
       "      <td>0.0</td>\n",
       "      <td>0.0</td>\n",
       "      <td>0.0</td>\n",
       "      <td>0.0</td>\n",
       "      <td>0.0</td>\n",
       "    </tr>\n",
       "  </tbody>\n",
       "</table>\n",
       "<p>5 rows × 304 columns</p>\n",
       "</div>"
      ],
      "text/plain": [
       "                        Job_Title     Location  \\\n",
       "0                Research Analyst  Hampton, VA   \n",
       "1                Research Analyst  Norfolk, VA   \n",
       "2  Sr. Socio-behavioral Scientist  Norfolk, VA   \n",
       "3             ASSOCIATE SCIENTIST  Madison, WI   \n",
       "4                  Data Scientist  Madison, WI   \n",
       "\n",
       "                           Company    Salary No_of_Reviews Company_Ratings  \\\n",
       "0       Thomas Nelson Comm College   59630.0           2.0            54.0   \n",
       "1              City of Norfolk, VA   44415.0          None            None   \n",
       "2  Eastern Virginia Medical School   94963.0          35.0            42.0   \n",
       "3  University of Wisconsin-Madison   40861.0          49.0            53.4   \n",
       "4              Analytic Recruiting  135500.0           2.0            51.0   \n",
       "\n",
       "                                         Job_Summary  Salary_Lower  \\\n",
       "0  Primary responsibilities include meeting with ...       55000.0   \n",
       "1  Gathers and analyzes data, develops spreadshee...       33770.0   \n",
       "2  Duties include managing and supporting proposa...       94963.0   \n",
       "3  Scientist - Radiological Engineering and Desig...       40861.0   \n",
       "4  Insurance Company in Wisconsin seeks a full ti...      100000.0   \n",
       "\n",
       "   Salary_Higher State               ...                C(City)[T.Union]  \\\n",
       "0        64260.0    VA               ...                             0.0   \n",
       "1        55060.0    VA               ...                             0.0   \n",
       "2        94963.0    VA               ...                             0.0   \n",
       "3        40861.0    WI               ...                             0.0   \n",
       "4       171000.0    WI               ...                             0.0   \n",
       "\n",
       "   C(City)[T.Ventura, C]  C(City)[T.Walnut Creek]  C(City)[T.Waltham]  \\\n",
       "0                    0.0                      0.0                 0.0   \n",
       "1                    0.0                      0.0                 0.0   \n",
       "2                    0.0                      0.0                 0.0   \n",
       "3                    0.0                      0.0                 0.0   \n",
       "4                    0.0                      0.0                 0.0   \n",
       "\n",
       "   C(City)[T.Washington]  C(City)[T.Waukegan]  C(City)[T.West Valley City]  \\\n",
       "0                    0.0                  0.0                          0.0   \n",
       "1                    0.0                  0.0                          0.0   \n",
       "2                    0.0                  0.0                          0.0   \n",
       "3                    0.0                  0.0                          0.0   \n",
       "4                    0.0                  0.0                          0.0   \n",
       "\n",
       "   C(City)[T.Westlake Village]  C(City)[T.Wilmington]  \\\n",
       "0                          0.0                    0.0   \n",
       "1                          0.0                    0.0   \n",
       "2                          0.0                    0.0   \n",
       "3                          0.0                    0.0   \n",
       "4                          0.0                    0.0   \n",
       "\n",
       "   C(City)[T.Wright-Patterson AFB]  \n",
       "0                              0.0  \n",
       "1                              0.0  \n",
       "2                              0.0  \n",
       "3                              0.0  \n",
       "4                              0.0  \n",
       "\n",
       "[5 rows x 304 columns]"
      ]
     },
     "execution_count": 68,
     "metadata": {},
     "output_type": "execute_result"
    }
   ],
   "source": [
    "dft = pd.concat([df_sal_year, jobt, jobS, dff], axis = 1)\n",
    "dft.head()"
   ]
  },
  {
   "cell_type": "markdown",
   "metadata": {},
   "source": [
    "## Splitting data to train_test set"
   ]
  },
  {
   "cell_type": "code",
   "execution_count": 69,
   "metadata": {
    "collapsed": false
   },
   "outputs": [
    {
     "name": "stdout",
     "output_type": "stream",
     "text": [
      "Median salary = 85000.0\n"
     ]
    }
   ],
   "source": [
    "# Threshold of over median as 1\n",
    "\n",
    "threshold = median_\n",
    "print \"Median salary =\", median_\n",
    "\n",
    "y = dft['Salary'].apply(lambda x: 1 if x > threshold else 0)\n",
    "X = dft.copy()"
   ]
  },
  {
   "cell_type": "code",
   "execution_count": 70,
   "metadata": {
    "collapsed": false
   },
   "outputs": [
    {
     "data": {
      "text/html": [
       "<div>\n",
       "<table border=\"1\" class=\"dataframe\">\n",
       "  <thead>\n",
       "    <tr style=\"text-align: right;\">\n",
       "      <th></th>\n",
       "      <th>Job_Title</th>\n",
       "      <th>Location</th>\n",
       "      <th>Company</th>\n",
       "      <th>Salary</th>\n",
       "      <th>No_of_Reviews</th>\n",
       "      <th>Company_Ratings</th>\n",
       "      <th>Job_Summary</th>\n",
       "      <th>Salary_Lower</th>\n",
       "      <th>Salary_Higher</th>\n",
       "      <th>State</th>\n",
       "      <th>...</th>\n",
       "      <th>C(City)[T.Union]</th>\n",
       "      <th>C(City)[T.Ventura, C]</th>\n",
       "      <th>C(City)[T.Walnut Creek]</th>\n",
       "      <th>C(City)[T.Waltham]</th>\n",
       "      <th>C(City)[T.Washington]</th>\n",
       "      <th>C(City)[T.Waukegan]</th>\n",
       "      <th>C(City)[T.West Valley City]</th>\n",
       "      <th>C(City)[T.Westlake Village]</th>\n",
       "      <th>C(City)[T.Wilmington]</th>\n",
       "      <th>C(City)[T.Wright-Patterson AFB]</th>\n",
       "    </tr>\n",
       "  </thead>\n",
       "  <tbody>\n",
       "    <tr>\n",
       "      <th>0</th>\n",
       "      <td>Research Analyst</td>\n",
       "      <td>Hampton, VA</td>\n",
       "      <td>Thomas Nelson Comm College</td>\n",
       "      <td>59630.0</td>\n",
       "      <td>2.0</td>\n",
       "      <td>54.0</td>\n",
       "      <td>Primary responsibilities include meeting with ...</td>\n",
       "      <td>55000.0</td>\n",
       "      <td>64260.0</td>\n",
       "      <td>VA</td>\n",
       "      <td>...</td>\n",
       "      <td>0.0</td>\n",
       "      <td>0.0</td>\n",
       "      <td>0.0</td>\n",
       "      <td>0.0</td>\n",
       "      <td>0.0</td>\n",
       "      <td>0.0</td>\n",
       "      <td>0.0</td>\n",
       "      <td>0.0</td>\n",
       "      <td>0.0</td>\n",
       "      <td>0.0</td>\n",
       "    </tr>\n",
       "  </tbody>\n",
       "</table>\n",
       "<p>1 rows × 304 columns</p>\n",
       "</div>"
      ],
      "text/plain": [
       "          Job_Title     Location                     Company   Salary  \\\n",
       "0  Research Analyst  Hampton, VA  Thomas Nelson Comm College  59630.0   \n",
       "\n",
       "  No_of_Reviews Company_Ratings  \\\n",
       "0           2.0            54.0   \n",
       "\n",
       "                                         Job_Summary  Salary_Lower  \\\n",
       "0  Primary responsibilities include meeting with ...       55000.0   \n",
       "\n",
       "   Salary_Higher State               ...                C(City)[T.Union]  \\\n",
       "0        64260.0    VA               ...                             0.0   \n",
       "\n",
       "   C(City)[T.Ventura, C]  C(City)[T.Walnut Creek]  C(City)[T.Waltham]  \\\n",
       "0                    0.0                      0.0                 0.0   \n",
       "\n",
       "   C(City)[T.Washington]  C(City)[T.Waukegan]  C(City)[T.West Valley City]  \\\n",
       "0                    0.0                  0.0                          0.0   \n",
       "\n",
       "   C(City)[T.Westlake Village]  C(City)[T.Wilmington]  \\\n",
       "0                          0.0                    0.0   \n",
       "\n",
       "   C(City)[T.Wright-Patterson AFB]  \n",
       "0                              0.0  \n",
       "\n",
       "[1 rows x 304 columns]"
      ]
     },
     "execution_count": 70,
     "metadata": {},
     "output_type": "execute_result"
    }
   ],
   "source": [
    "X.head(1)"
   ]
  },
  {
   "cell_type": "code",
   "execution_count": 71,
   "metadata": {
    "collapsed": false
   },
   "outputs": [
    {
     "data": {
      "text/html": [
       "<div>\n",
       "<table border=\"1\" class=\"dataframe\">\n",
       "  <thead>\n",
       "    <tr style=\"text-align: right;\">\n",
       "      <th></th>\n",
       "      <th>No_of_Reviews</th>\n",
       "      <th>Company_Ratings</th>\n",
       "      <th>jt_analyst</th>\n",
       "      <th>jt_associate</th>\n",
       "      <th>jt_clinical</th>\n",
       "      <th>jt_data</th>\n",
       "      <th>jt_engineer</th>\n",
       "      <th>jt_engineering</th>\n",
       "      <th>jt_laboratory</th>\n",
       "      <th>jt_lead</th>\n",
       "      <th>...</th>\n",
       "      <th>C(City)[T.Union]</th>\n",
       "      <th>C(City)[T.Ventura, C]</th>\n",
       "      <th>C(City)[T.Walnut Creek]</th>\n",
       "      <th>C(City)[T.Waltham]</th>\n",
       "      <th>C(City)[T.Washington]</th>\n",
       "      <th>C(City)[T.Waukegan]</th>\n",
       "      <th>C(City)[T.West Valley City]</th>\n",
       "      <th>C(City)[T.Westlake Village]</th>\n",
       "      <th>C(City)[T.Wilmington]</th>\n",
       "      <th>C(City)[T.Wright-Patterson AFB]</th>\n",
       "    </tr>\n",
       "  </thead>\n",
       "  <tbody>\n",
       "    <tr>\n",
       "      <th>0</th>\n",
       "      <td>2.0</td>\n",
       "      <td>54.0</td>\n",
       "      <td>1</td>\n",
       "      <td>0</td>\n",
       "      <td>0</td>\n",
       "      <td>0</td>\n",
       "      <td>0</td>\n",
       "      <td>0</td>\n",
       "      <td>0</td>\n",
       "      <td>0</td>\n",
       "      <td>...</td>\n",
       "      <td>0.0</td>\n",
       "      <td>0.0</td>\n",
       "      <td>0.0</td>\n",
       "      <td>0.0</td>\n",
       "      <td>0.0</td>\n",
       "      <td>0.0</td>\n",
       "      <td>0.0</td>\n",
       "      <td>0.0</td>\n",
       "      <td>0.0</td>\n",
       "      <td>0.0</td>\n",
       "    </tr>\n",
       "    <tr>\n",
       "      <th>1</th>\n",
       "      <td>None</td>\n",
       "      <td>None</td>\n",
       "      <td>1</td>\n",
       "      <td>0</td>\n",
       "      <td>0</td>\n",
       "      <td>0</td>\n",
       "      <td>0</td>\n",
       "      <td>0</td>\n",
       "      <td>0</td>\n",
       "      <td>0</td>\n",
       "      <td>...</td>\n",
       "      <td>0.0</td>\n",
       "      <td>0.0</td>\n",
       "      <td>0.0</td>\n",
       "      <td>0.0</td>\n",
       "      <td>0.0</td>\n",
       "      <td>0.0</td>\n",
       "      <td>0.0</td>\n",
       "      <td>0.0</td>\n",
       "      <td>0.0</td>\n",
       "      <td>0.0</td>\n",
       "    </tr>\n",
       "    <tr>\n",
       "      <th>2</th>\n",
       "      <td>35.0</td>\n",
       "      <td>42.0</td>\n",
       "      <td>0</td>\n",
       "      <td>0</td>\n",
       "      <td>0</td>\n",
       "      <td>0</td>\n",
       "      <td>0</td>\n",
       "      <td>0</td>\n",
       "      <td>0</td>\n",
       "      <td>0</td>\n",
       "      <td>...</td>\n",
       "      <td>0.0</td>\n",
       "      <td>0.0</td>\n",
       "      <td>0.0</td>\n",
       "      <td>0.0</td>\n",
       "      <td>0.0</td>\n",
       "      <td>0.0</td>\n",
       "      <td>0.0</td>\n",
       "      <td>0.0</td>\n",
       "      <td>0.0</td>\n",
       "      <td>0.0</td>\n",
       "    </tr>\n",
       "    <tr>\n",
       "      <th>3</th>\n",
       "      <td>49.0</td>\n",
       "      <td>53.4</td>\n",
       "      <td>0</td>\n",
       "      <td>1</td>\n",
       "      <td>0</td>\n",
       "      <td>0</td>\n",
       "      <td>0</td>\n",
       "      <td>0</td>\n",
       "      <td>0</td>\n",
       "      <td>0</td>\n",
       "      <td>...</td>\n",
       "      <td>0.0</td>\n",
       "      <td>0.0</td>\n",
       "      <td>0.0</td>\n",
       "      <td>0.0</td>\n",
       "      <td>0.0</td>\n",
       "      <td>0.0</td>\n",
       "      <td>0.0</td>\n",
       "      <td>0.0</td>\n",
       "      <td>0.0</td>\n",
       "      <td>0.0</td>\n",
       "    </tr>\n",
       "    <tr>\n",
       "      <th>4</th>\n",
       "      <td>2.0</td>\n",
       "      <td>51.0</td>\n",
       "      <td>0</td>\n",
       "      <td>0</td>\n",
       "      <td>0</td>\n",
       "      <td>1</td>\n",
       "      <td>0</td>\n",
       "      <td>0</td>\n",
       "      <td>0</td>\n",
       "      <td>0</td>\n",
       "      <td>...</td>\n",
       "      <td>0.0</td>\n",
       "      <td>0.0</td>\n",
       "      <td>0.0</td>\n",
       "      <td>0.0</td>\n",
       "      <td>0.0</td>\n",
       "      <td>0.0</td>\n",
       "      <td>0.0</td>\n",
       "      <td>0.0</td>\n",
       "      <td>0.0</td>\n",
       "      <td>0.0</td>\n",
       "    </tr>\n",
       "  </tbody>\n",
       "</table>\n",
       "<p>5 rows × 295 columns</p>\n",
       "</div>"
      ],
      "text/plain": [
       "  No_of_Reviews Company_Ratings  jt_analyst  jt_associate  jt_clinical  \\\n",
       "0           2.0            54.0           1             0            0   \n",
       "1          None            None           1             0            0   \n",
       "2          35.0            42.0           0             0            0   \n",
       "3          49.0            53.4           0             1            0   \n",
       "4           2.0            51.0           0             0            0   \n",
       "\n",
       "   jt_data  jt_engineer  jt_engineering  jt_laboratory  jt_lead  \\\n",
       "0        0            0               0              0        0   \n",
       "1        0            0               0              0        0   \n",
       "2        0            0               0              0        0   \n",
       "3        0            0               0              0        0   \n",
       "4        1            0               0              0        0   \n",
       "\n",
       "                ...                 C(City)[T.Union]  C(City)[T.Ventura, C]  \\\n",
       "0               ...                              0.0                    0.0   \n",
       "1               ...                              0.0                    0.0   \n",
       "2               ...                              0.0                    0.0   \n",
       "3               ...                              0.0                    0.0   \n",
       "4               ...                              0.0                    0.0   \n",
       "\n",
       "   C(City)[T.Walnut Creek]  C(City)[T.Waltham]  C(City)[T.Washington]  \\\n",
       "0                      0.0                 0.0                    0.0   \n",
       "1                      0.0                 0.0                    0.0   \n",
       "2                      0.0                 0.0                    0.0   \n",
       "3                      0.0                 0.0                    0.0   \n",
       "4                      0.0                 0.0                    0.0   \n",
       "\n",
       "   C(City)[T.Waukegan]  C(City)[T.West Valley City]  \\\n",
       "0                  0.0                          0.0   \n",
       "1                  0.0                          0.0   \n",
       "2                  0.0                          0.0   \n",
       "3                  0.0                          0.0   \n",
       "4                  0.0                          0.0   \n",
       "\n",
       "   C(City)[T.Westlake Village]  C(City)[T.Wilmington]  \\\n",
       "0                          0.0                    0.0   \n",
       "1                          0.0                    0.0   \n",
       "2                          0.0                    0.0   \n",
       "3                          0.0                    0.0   \n",
       "4                          0.0                    0.0   \n",
       "\n",
       "   C(City)[T.Wright-Patterson AFB]  \n",
       "0                              0.0  \n",
       "1                              0.0  \n",
       "2                              0.0  \n",
       "3                              0.0  \n",
       "4                              0.0  \n",
       "\n",
       "[5 rows x 295 columns]"
      ]
     },
     "execution_count": 71,
     "metadata": {},
     "output_type": "execute_result"
    }
   ],
   "source": [
    "del X['Job_Title']\n",
    "del X['Job_Summary']\n",
    "del X['Company']\n",
    "del X['Salary_Lower']\n",
    "del X['Salary_Higher']\n",
    "del X['State']\n",
    "del X['City']\n",
    "del X['Location']\n",
    "del X['Salary']\n",
    "\n",
    "X.head()"
   ]
  },
  {
   "cell_type": "code",
   "execution_count": 72,
   "metadata": {
    "collapsed": false
   },
   "outputs": [
    {
     "data": {
      "text/plain": [
       "0    0\n",
       "1    0\n",
       "2    1\n",
       "3    0\n",
       "4    1\n",
       "Name: Salary, dtype: int64"
      ]
     },
     "execution_count": 72,
     "metadata": {},
     "output_type": "execute_result"
    }
   ],
   "source": [
    "y.head()"
   ]
  },
  {
   "cell_type": "code",
   "execution_count": 73,
   "metadata": {
    "collapsed": true
   },
   "outputs": [],
   "source": [
    "X_train, X_test, y_train, y_test = train_test_split(X, y, test_size=0.33, random_state=77)"
   ]
  },
  {
   "cell_type": "markdown",
   "metadata": {},
   "source": [
    "## Filling reviews and ratings with mean"
   ]
  },
  {
   "cell_type": "code",
   "execution_count": 75,
   "metadata": {
    "collapsed": true
   },
   "outputs": [],
   "source": [
    "X.loc[:, 'Company_Ratings'] = X['Company_Ratings'].apply(lambda x: x if x == 'None' else float(x))"
   ]
  },
  {
   "cell_type": "code",
   "execution_count": 76,
   "metadata": {
    "collapsed": true
   },
   "outputs": [],
   "source": [
    "X.loc[:, 'No_of_Reviews'] = X['No_of_Reviews'].apply(lambda x: x if x == 'None' else float(x))"
   ]
  },
  {
   "cell_type": "code",
   "execution_count": 74,
   "metadata": {
    "collapsed": false
   },
   "outputs": [
    {
     "data": {
      "text/plain": [
       "str"
      ]
     },
     "execution_count": 74,
     "metadata": {},
     "output_type": "execute_result"
    }
   ],
   "source": [
    "type(list(X_train[X_train['No_of_Reviews'] != 'None']['No_of_Reviews'])[0])"
   ]
  },
  {
   "cell_type": "code",
   "execution_count": 53,
   "metadata": {
    "collapsed": false
   },
   "outputs": [
    {
     "ename": "TypeError",
     "evalue": "Could not convert 130.064.0141.0236.0403.025.012.0403.09.012.0275.025.0348.025.064.078.03.0275.0348.012.0419.0220.025.012.0134.02.0348.0220.07.0236.012.0348.012.012.012.0348.02.0403.0264.0145.078.022.0280.012.02.02.03.0331.0109.098.086.078.025.018.0236.088.0449.03.025.0403.0134.022.065.0233.0255.08.0104.025.025.0348.01.0244.0409.028.0403.042.034.0275.028.0251.0275.0280.098.0403.06.049.012.03.08.010.010.0141.0403.035.0251.078.08.0220.078.013.0348.0233.0134.0709.0236.020.064.022.012.0236.0220.0331.0109.03.012.0331.0233.0264.060.0233.021.07.025.03.0331.0176.0348.0348.016.0449.025.012.0233.0175.0141.0220.025.0255.0348.0275.01.010.0220.012.0220.012.04.06.012.0220.02.06.0275.0244.078.042.064.0138.018.0331.0233.076.022.02.02.0236.0194.078.061.0157.0175.0244.017.012.012.025.0175.0111.025.05.013.016.03.0403.049.011.0244.060.098.0403.025.012.0220.025.012.012.0404.012.0 to numeric",
     "output_type": "error",
     "traceback": [
      "\u001b[0;31m---------------------------------------------------------------------------\u001b[0m",
      "\u001b[0;31mTypeError\u001b[0m                                 Traceback (most recent call last)",
      "\u001b[0;32m<ipython-input-53-9cfc561e0049>\u001b[0m in \u001b[0;36m<module>\u001b[0;34m()\u001b[0m\n\u001b[0;32m----> 1\u001b[0;31m \u001b[0mreview_mean\u001b[0m \u001b[0;34m=\u001b[0m \u001b[0mX_train\u001b[0m\u001b[0;34m[\u001b[0m\u001b[0mX_train\u001b[0m\u001b[0;34m[\u001b[0m\u001b[0;34m'No_of_Reviews'\u001b[0m\u001b[0;34m]\u001b[0m \u001b[0;34m!=\u001b[0m \u001b[0;34m'None'\u001b[0m\u001b[0;34m]\u001b[0m\u001b[0;34m[\u001b[0m\u001b[0;34m'No_of_Reviews'\u001b[0m\u001b[0;34m]\u001b[0m\u001b[0;34m.\u001b[0m\u001b[0mmean\u001b[0m\u001b[0;34m(\u001b[0m\u001b[0;34m)\u001b[0m\u001b[0;34m\u001b[0m\u001b[0m\n\u001b[0m\u001b[1;32m      2\u001b[0m \u001b[0;32mprint\u001b[0m \u001b[0mreview_mean\u001b[0m\u001b[0;34m\u001b[0m\u001b[0m\n",
      "\u001b[0;32m//anaconda/lib/python2.7/site-packages/pandas/core/generic.pyc\u001b[0m in \u001b[0;36mstat_func\u001b[0;34m(self, axis, skipna, level, numeric_only, **kwargs)\u001b[0m\n\u001b[1;32m   5308\u001b[0m                                       skipna=skipna)\n\u001b[1;32m   5309\u001b[0m         return self._reduce(f, name, axis=axis, skipna=skipna,\n\u001b[0;32m-> 5310\u001b[0;31m                             numeric_only=numeric_only)\n\u001b[0m\u001b[1;32m   5311\u001b[0m \u001b[0;34m\u001b[0m\u001b[0m\n\u001b[1;32m   5312\u001b[0m     \u001b[0;32mreturn\u001b[0m \u001b[0mset_function_name\u001b[0m\u001b[0;34m(\u001b[0m\u001b[0mstat_func\u001b[0m\u001b[0;34m,\u001b[0m \u001b[0mname\u001b[0m\u001b[0;34m,\u001b[0m \u001b[0mcls\u001b[0m\u001b[0;34m)\u001b[0m\u001b[0;34m\u001b[0m\u001b[0m\n",
      "\u001b[0;32m//anaconda/lib/python2.7/site-packages/pandas/core/series.pyc\u001b[0m in \u001b[0;36m_reduce\u001b[0;34m(self, op, name, axis, skipna, numeric_only, filter_type, **kwds)\u001b[0m\n\u001b[1;32m   2243\u001b[0m                 raise NotImplementedError('Series.{0} does not implement '\n\u001b[1;32m   2244\u001b[0m                                           'numeric_only.'.format(name))\n\u001b[0;32m-> 2245\u001b[0;31m             \u001b[0;32mreturn\u001b[0m \u001b[0mop\u001b[0m\u001b[0;34m(\u001b[0m\u001b[0mdelegate\u001b[0m\u001b[0;34m,\u001b[0m \u001b[0mskipna\u001b[0m\u001b[0;34m=\u001b[0m\u001b[0mskipna\u001b[0m\u001b[0;34m,\u001b[0m \u001b[0;34m**\u001b[0m\u001b[0mkwds\u001b[0m\u001b[0;34m)\u001b[0m\u001b[0;34m\u001b[0m\u001b[0m\n\u001b[0m\u001b[1;32m   2246\u001b[0m \u001b[0;34m\u001b[0m\u001b[0m\n\u001b[1;32m   2247\u001b[0m         return delegate._reduce(op=op, name=name, axis=axis, skipna=skipna,\n",
      "\u001b[0;32m//anaconda/lib/python2.7/site-packages/pandas/core/nanops.pyc\u001b[0m in \u001b[0;36m_f\u001b[0;34m(*args, **kwargs)\u001b[0m\n\u001b[1;32m     42\u001b[0m                                     f.__name__.replace('nan', '')))\n\u001b[1;32m     43\u001b[0m             \u001b[0;32mtry\u001b[0m\u001b[0;34m:\u001b[0m\u001b[0;34m\u001b[0m\u001b[0m\n\u001b[0;32m---> 44\u001b[0;31m                 \u001b[0;32mreturn\u001b[0m \u001b[0mf\u001b[0m\u001b[0;34m(\u001b[0m\u001b[0;34m*\u001b[0m\u001b[0margs\u001b[0m\u001b[0;34m,\u001b[0m \u001b[0;34m**\u001b[0m\u001b[0mkwargs\u001b[0m\u001b[0;34m)\u001b[0m\u001b[0;34m\u001b[0m\u001b[0m\n\u001b[0m\u001b[1;32m     45\u001b[0m             \u001b[0;32mexcept\u001b[0m \u001b[0mValueError\u001b[0m \u001b[0;32mas\u001b[0m \u001b[0me\u001b[0m\u001b[0;34m:\u001b[0m\u001b[0;34m\u001b[0m\u001b[0m\n\u001b[1;32m     46\u001b[0m                 \u001b[0;31m# we want to transform an object array\u001b[0m\u001b[0;34m\u001b[0m\u001b[0;34m\u001b[0m\u001b[0m\n",
      "\u001b[0;32m//anaconda/lib/python2.7/site-packages/pandas/core/nanops.pyc\u001b[0m in \u001b[0;36mf\u001b[0;34m(values, axis, skipna, **kwds)\u001b[0m\n\u001b[1;32m    101\u001b[0m             \u001b[0;32mexcept\u001b[0m \u001b[0mException\u001b[0m\u001b[0;34m:\u001b[0m\u001b[0;34m\u001b[0m\u001b[0m\n\u001b[1;32m    102\u001b[0m                 \u001b[0;32mtry\u001b[0m\u001b[0;34m:\u001b[0m\u001b[0;34m\u001b[0m\u001b[0m\n\u001b[0;32m--> 103\u001b[0;31m                     \u001b[0mresult\u001b[0m \u001b[0;34m=\u001b[0m \u001b[0malt\u001b[0m\u001b[0;34m(\u001b[0m\u001b[0mvalues\u001b[0m\u001b[0;34m,\u001b[0m \u001b[0maxis\u001b[0m\u001b[0;34m=\u001b[0m\u001b[0maxis\u001b[0m\u001b[0;34m,\u001b[0m \u001b[0mskipna\u001b[0m\u001b[0;34m=\u001b[0m\u001b[0mskipna\u001b[0m\u001b[0;34m,\u001b[0m \u001b[0;34m**\u001b[0m\u001b[0mkwds\u001b[0m\u001b[0;34m)\u001b[0m\u001b[0;34m\u001b[0m\u001b[0m\n\u001b[0m\u001b[1;32m    104\u001b[0m                 \u001b[0;32mexcept\u001b[0m \u001b[0mValueError\u001b[0m \u001b[0;32mas\u001b[0m \u001b[0me\u001b[0m\u001b[0;34m:\u001b[0m\u001b[0;34m\u001b[0m\u001b[0m\n\u001b[1;32m    105\u001b[0m                     \u001b[0;31m# we want to transform an object array\u001b[0m\u001b[0;34m\u001b[0m\u001b[0;34m\u001b[0m\u001b[0m\n",
      "\u001b[0;32m//anaconda/lib/python2.7/site-packages/pandas/core/nanops.pyc\u001b[0m in \u001b[0;36mnanmean\u001b[0;34m(values, axis, skipna)\u001b[0m\n\u001b[1;32m    291\u001b[0m         \u001b[0mdtype_count\u001b[0m \u001b[0;34m=\u001b[0m \u001b[0mdtype\u001b[0m\u001b[0;34m\u001b[0m\u001b[0m\n\u001b[1;32m    292\u001b[0m     \u001b[0mcount\u001b[0m \u001b[0;34m=\u001b[0m \u001b[0m_get_counts\u001b[0m\u001b[0;34m(\u001b[0m\u001b[0mmask\u001b[0m\u001b[0;34m,\u001b[0m \u001b[0maxis\u001b[0m\u001b[0;34m,\u001b[0m \u001b[0mdtype\u001b[0m\u001b[0;34m=\u001b[0m\u001b[0mdtype_count\u001b[0m\u001b[0;34m)\u001b[0m\u001b[0;34m\u001b[0m\u001b[0m\n\u001b[0;32m--> 293\u001b[0;31m     \u001b[0mthe_sum\u001b[0m \u001b[0;34m=\u001b[0m \u001b[0m_ensure_numeric\u001b[0m\u001b[0;34m(\u001b[0m\u001b[0mvalues\u001b[0m\u001b[0;34m.\u001b[0m\u001b[0msum\u001b[0m\u001b[0;34m(\u001b[0m\u001b[0maxis\u001b[0m\u001b[0;34m,\u001b[0m \u001b[0mdtype\u001b[0m\u001b[0;34m=\u001b[0m\u001b[0mdtype_sum\u001b[0m\u001b[0;34m)\u001b[0m\u001b[0;34m)\u001b[0m\u001b[0;34m\u001b[0m\u001b[0m\n\u001b[0m\u001b[1;32m    294\u001b[0m \u001b[0;34m\u001b[0m\u001b[0m\n\u001b[1;32m    295\u001b[0m     \u001b[0;32mif\u001b[0m \u001b[0maxis\u001b[0m \u001b[0;32mis\u001b[0m \u001b[0;32mnot\u001b[0m \u001b[0mNone\u001b[0m \u001b[0;32mand\u001b[0m \u001b[0mgetattr\u001b[0m\u001b[0;34m(\u001b[0m\u001b[0mthe_sum\u001b[0m\u001b[0;34m,\u001b[0m \u001b[0;34m'ndim'\u001b[0m\u001b[0;34m,\u001b[0m \u001b[0mFalse\u001b[0m\u001b[0;34m)\u001b[0m\u001b[0;34m:\u001b[0m\u001b[0;34m\u001b[0m\u001b[0m\n",
      "\u001b[0;32m//anaconda/lib/python2.7/site-packages/pandas/core/nanops.pyc\u001b[0m in \u001b[0;36m_ensure_numeric\u001b[0;34m(x)\u001b[0m\n\u001b[1;32m    741\u001b[0m                 \u001b[0mx\u001b[0m \u001b[0;34m=\u001b[0m \u001b[0mcomplex\u001b[0m\u001b[0;34m(\u001b[0m\u001b[0mx\u001b[0m\u001b[0;34m)\u001b[0m\u001b[0;34m\u001b[0m\u001b[0m\n\u001b[1;32m    742\u001b[0m             \u001b[0;32mexcept\u001b[0m \u001b[0mException\u001b[0m\u001b[0;34m:\u001b[0m\u001b[0;34m\u001b[0m\u001b[0m\n\u001b[0;32m--> 743\u001b[0;31m                 \u001b[0;32mraise\u001b[0m \u001b[0mTypeError\u001b[0m\u001b[0;34m(\u001b[0m\u001b[0;34m'Could not convert %s to numeric'\u001b[0m \u001b[0;34m%\u001b[0m \u001b[0mstr\u001b[0m\u001b[0;34m(\u001b[0m\u001b[0mx\u001b[0m\u001b[0;34m)\u001b[0m\u001b[0;34m)\u001b[0m\u001b[0;34m\u001b[0m\u001b[0m\n\u001b[0m\u001b[1;32m    744\u001b[0m     \u001b[0;32mreturn\u001b[0m \u001b[0mx\u001b[0m\u001b[0;34m\u001b[0m\u001b[0m\n\u001b[1;32m    745\u001b[0m \u001b[0;34m\u001b[0m\u001b[0m\n",
      "\u001b[0;31mTypeError\u001b[0m: Could not convert 130.064.0141.0236.0403.025.012.0403.09.012.0275.025.0348.025.064.078.03.0275.0348.012.0419.0220.025.012.0134.02.0348.0220.07.0236.012.0348.012.012.012.0348.02.0403.0264.0145.078.022.0280.012.02.02.03.0331.0109.098.086.078.025.018.0236.088.0449.03.025.0403.0134.022.065.0233.0255.08.0104.025.025.0348.01.0244.0409.028.0403.042.034.0275.028.0251.0275.0280.098.0403.06.049.012.03.08.010.010.0141.0403.035.0251.078.08.0220.078.013.0348.0233.0134.0709.0236.020.064.022.012.0236.0220.0331.0109.03.012.0331.0233.0264.060.0233.021.07.025.03.0331.0176.0348.0348.016.0449.025.012.0233.0175.0141.0220.025.0255.0348.0275.01.010.0220.012.0220.012.04.06.012.0220.02.06.0275.0244.078.042.064.0138.018.0331.0233.076.022.02.02.0236.0194.078.061.0157.0175.0244.017.012.012.025.0175.0111.025.05.013.016.03.0403.049.011.0244.060.098.0403.025.012.0220.025.012.012.0404.012.0 to numeric"
     ]
    }
   ],
   "source": [
    "review_mean = X_train[X_train['No_of_Reviews'] != 'None']['No_of_Reviews'].mean()\n",
    "print review_mean"
   ]
  },
  {
   "cell_type": "code",
   "execution_count": 54,
   "metadata": {
    "collapsed": false
   },
   "outputs": [
    {
     "ename": "TypeError",
     "evalue": "Could not convert 51.054.051.653.453.441.451.653.454.640.851.641.451.041.451.053.452.851.651.040.852.152.141.440.851.054.051.052.153.453.440.851.040.840.855.151.051.053.451.052.153.453.452.854.651.051.052.852.151.644.452.153.441.451.653.442.053.451.041.453.451.039.042.652.851.642.043.241.441.451.043.843.252.152.853.451.651.651.652.851.651.652.844.453.443.853.451.652.840.852.142.651.653.452.851.653.442.652.153.444.451.052.851.052.853.442.654.043.840.853.452.152.151.643.240.852.152.851.052.852.842.051.041.452.852.154.051.051.053.453.441.440.852.851.051.652.141.451.651.051.643.243.252.140.852.140.854.039.040.852.154.040.851.643.253.451.654.052.152.152.152.842.053.451.042.053.442.053.452.143.851.043.242.640.851.641.451.051.641.442.654.053.452.853.453.454.043.252.844.453.441.451.652.141.440.851.652.151.6 to numeric",
     "output_type": "error",
     "traceback": [
      "\u001b[0;31m---------------------------------------------------------------------------\u001b[0m",
      "\u001b[0;31mTypeError\u001b[0m                                 Traceback (most recent call last)",
      "\u001b[0;32m<ipython-input-54-a9614d5a274b>\u001b[0m in \u001b[0;36m<module>\u001b[0;34m()\u001b[0m\n\u001b[0;32m----> 1\u001b[0;31m \u001b[0mrating_mean\u001b[0m \u001b[0;34m=\u001b[0m \u001b[0mX_train\u001b[0m\u001b[0;34m[\u001b[0m\u001b[0mX_train\u001b[0m\u001b[0;34m[\u001b[0m\u001b[0;34m'Company_Ratings'\u001b[0m\u001b[0;34m]\u001b[0m \u001b[0;34m!=\u001b[0m \u001b[0;34m'None'\u001b[0m\u001b[0;34m]\u001b[0m\u001b[0;34m[\u001b[0m\u001b[0;34m'Company_Ratings'\u001b[0m\u001b[0;34m]\u001b[0m\u001b[0;34m.\u001b[0m\u001b[0mmean\u001b[0m\u001b[0;34m(\u001b[0m\u001b[0;34m)\u001b[0m\u001b[0;34m\u001b[0m\u001b[0m\n\u001b[0m\u001b[1;32m      2\u001b[0m \u001b[0;32mprint\u001b[0m \u001b[0mrating_mean\u001b[0m\u001b[0;34m\u001b[0m\u001b[0m\n",
      "\u001b[0;32m//anaconda/lib/python2.7/site-packages/pandas/core/generic.pyc\u001b[0m in \u001b[0;36mstat_func\u001b[0;34m(self, axis, skipna, level, numeric_only, **kwargs)\u001b[0m\n\u001b[1;32m   5308\u001b[0m                                       skipna=skipna)\n\u001b[1;32m   5309\u001b[0m         return self._reduce(f, name, axis=axis, skipna=skipna,\n\u001b[0;32m-> 5310\u001b[0;31m                             numeric_only=numeric_only)\n\u001b[0m\u001b[1;32m   5311\u001b[0m \u001b[0;34m\u001b[0m\u001b[0m\n\u001b[1;32m   5312\u001b[0m     \u001b[0;32mreturn\u001b[0m \u001b[0mset_function_name\u001b[0m\u001b[0;34m(\u001b[0m\u001b[0mstat_func\u001b[0m\u001b[0;34m,\u001b[0m \u001b[0mname\u001b[0m\u001b[0;34m,\u001b[0m \u001b[0mcls\u001b[0m\u001b[0;34m)\u001b[0m\u001b[0;34m\u001b[0m\u001b[0m\n",
      "\u001b[0;32m//anaconda/lib/python2.7/site-packages/pandas/core/series.pyc\u001b[0m in \u001b[0;36m_reduce\u001b[0;34m(self, op, name, axis, skipna, numeric_only, filter_type, **kwds)\u001b[0m\n\u001b[1;32m   2243\u001b[0m                 raise NotImplementedError('Series.{0} does not implement '\n\u001b[1;32m   2244\u001b[0m                                           'numeric_only.'.format(name))\n\u001b[0;32m-> 2245\u001b[0;31m             \u001b[0;32mreturn\u001b[0m \u001b[0mop\u001b[0m\u001b[0;34m(\u001b[0m\u001b[0mdelegate\u001b[0m\u001b[0;34m,\u001b[0m \u001b[0mskipna\u001b[0m\u001b[0;34m=\u001b[0m\u001b[0mskipna\u001b[0m\u001b[0;34m,\u001b[0m \u001b[0;34m**\u001b[0m\u001b[0mkwds\u001b[0m\u001b[0;34m)\u001b[0m\u001b[0;34m\u001b[0m\u001b[0m\n\u001b[0m\u001b[1;32m   2246\u001b[0m \u001b[0;34m\u001b[0m\u001b[0m\n\u001b[1;32m   2247\u001b[0m         return delegate._reduce(op=op, name=name, axis=axis, skipna=skipna,\n",
      "\u001b[0;32m//anaconda/lib/python2.7/site-packages/pandas/core/nanops.pyc\u001b[0m in \u001b[0;36m_f\u001b[0;34m(*args, **kwargs)\u001b[0m\n\u001b[1;32m     42\u001b[0m                                     f.__name__.replace('nan', '')))\n\u001b[1;32m     43\u001b[0m             \u001b[0;32mtry\u001b[0m\u001b[0;34m:\u001b[0m\u001b[0;34m\u001b[0m\u001b[0m\n\u001b[0;32m---> 44\u001b[0;31m                 \u001b[0;32mreturn\u001b[0m \u001b[0mf\u001b[0m\u001b[0;34m(\u001b[0m\u001b[0;34m*\u001b[0m\u001b[0margs\u001b[0m\u001b[0;34m,\u001b[0m \u001b[0;34m**\u001b[0m\u001b[0mkwargs\u001b[0m\u001b[0;34m)\u001b[0m\u001b[0;34m\u001b[0m\u001b[0m\n\u001b[0m\u001b[1;32m     45\u001b[0m             \u001b[0;32mexcept\u001b[0m \u001b[0mValueError\u001b[0m \u001b[0;32mas\u001b[0m \u001b[0me\u001b[0m\u001b[0;34m:\u001b[0m\u001b[0;34m\u001b[0m\u001b[0m\n\u001b[1;32m     46\u001b[0m                 \u001b[0;31m# we want to transform an object array\u001b[0m\u001b[0;34m\u001b[0m\u001b[0;34m\u001b[0m\u001b[0m\n",
      "\u001b[0;32m//anaconda/lib/python2.7/site-packages/pandas/core/nanops.pyc\u001b[0m in \u001b[0;36mf\u001b[0;34m(values, axis, skipna, **kwds)\u001b[0m\n\u001b[1;32m    101\u001b[0m             \u001b[0;32mexcept\u001b[0m \u001b[0mException\u001b[0m\u001b[0;34m:\u001b[0m\u001b[0;34m\u001b[0m\u001b[0m\n\u001b[1;32m    102\u001b[0m                 \u001b[0;32mtry\u001b[0m\u001b[0;34m:\u001b[0m\u001b[0;34m\u001b[0m\u001b[0m\n\u001b[0;32m--> 103\u001b[0;31m                     \u001b[0mresult\u001b[0m \u001b[0;34m=\u001b[0m \u001b[0malt\u001b[0m\u001b[0;34m(\u001b[0m\u001b[0mvalues\u001b[0m\u001b[0;34m,\u001b[0m \u001b[0maxis\u001b[0m\u001b[0;34m=\u001b[0m\u001b[0maxis\u001b[0m\u001b[0;34m,\u001b[0m \u001b[0mskipna\u001b[0m\u001b[0;34m=\u001b[0m\u001b[0mskipna\u001b[0m\u001b[0;34m,\u001b[0m \u001b[0;34m**\u001b[0m\u001b[0mkwds\u001b[0m\u001b[0;34m)\u001b[0m\u001b[0;34m\u001b[0m\u001b[0m\n\u001b[0m\u001b[1;32m    104\u001b[0m                 \u001b[0;32mexcept\u001b[0m \u001b[0mValueError\u001b[0m \u001b[0;32mas\u001b[0m \u001b[0me\u001b[0m\u001b[0;34m:\u001b[0m\u001b[0;34m\u001b[0m\u001b[0m\n\u001b[1;32m    105\u001b[0m                     \u001b[0;31m# we want to transform an object array\u001b[0m\u001b[0;34m\u001b[0m\u001b[0;34m\u001b[0m\u001b[0m\n",
      "\u001b[0;32m//anaconda/lib/python2.7/site-packages/pandas/core/nanops.pyc\u001b[0m in \u001b[0;36mnanmean\u001b[0;34m(values, axis, skipna)\u001b[0m\n\u001b[1;32m    291\u001b[0m         \u001b[0mdtype_count\u001b[0m \u001b[0;34m=\u001b[0m \u001b[0mdtype\u001b[0m\u001b[0;34m\u001b[0m\u001b[0m\n\u001b[1;32m    292\u001b[0m     \u001b[0mcount\u001b[0m \u001b[0;34m=\u001b[0m \u001b[0m_get_counts\u001b[0m\u001b[0;34m(\u001b[0m\u001b[0mmask\u001b[0m\u001b[0;34m,\u001b[0m \u001b[0maxis\u001b[0m\u001b[0;34m,\u001b[0m \u001b[0mdtype\u001b[0m\u001b[0;34m=\u001b[0m\u001b[0mdtype_count\u001b[0m\u001b[0;34m)\u001b[0m\u001b[0;34m\u001b[0m\u001b[0m\n\u001b[0;32m--> 293\u001b[0;31m     \u001b[0mthe_sum\u001b[0m \u001b[0;34m=\u001b[0m \u001b[0m_ensure_numeric\u001b[0m\u001b[0;34m(\u001b[0m\u001b[0mvalues\u001b[0m\u001b[0;34m.\u001b[0m\u001b[0msum\u001b[0m\u001b[0;34m(\u001b[0m\u001b[0maxis\u001b[0m\u001b[0;34m,\u001b[0m \u001b[0mdtype\u001b[0m\u001b[0;34m=\u001b[0m\u001b[0mdtype_sum\u001b[0m\u001b[0;34m)\u001b[0m\u001b[0;34m)\u001b[0m\u001b[0;34m\u001b[0m\u001b[0m\n\u001b[0m\u001b[1;32m    294\u001b[0m \u001b[0;34m\u001b[0m\u001b[0m\n\u001b[1;32m    295\u001b[0m     \u001b[0;32mif\u001b[0m \u001b[0maxis\u001b[0m \u001b[0;32mis\u001b[0m \u001b[0;32mnot\u001b[0m \u001b[0mNone\u001b[0m \u001b[0;32mand\u001b[0m \u001b[0mgetattr\u001b[0m\u001b[0;34m(\u001b[0m\u001b[0mthe_sum\u001b[0m\u001b[0;34m,\u001b[0m \u001b[0;34m'ndim'\u001b[0m\u001b[0;34m,\u001b[0m \u001b[0mFalse\u001b[0m\u001b[0;34m)\u001b[0m\u001b[0;34m:\u001b[0m\u001b[0;34m\u001b[0m\u001b[0m\n",
      "\u001b[0;32m//anaconda/lib/python2.7/site-packages/pandas/core/nanops.pyc\u001b[0m in \u001b[0;36m_ensure_numeric\u001b[0;34m(x)\u001b[0m\n\u001b[1;32m    741\u001b[0m                 \u001b[0mx\u001b[0m \u001b[0;34m=\u001b[0m \u001b[0mcomplex\u001b[0m\u001b[0;34m(\u001b[0m\u001b[0mx\u001b[0m\u001b[0;34m)\u001b[0m\u001b[0;34m\u001b[0m\u001b[0m\n\u001b[1;32m    742\u001b[0m             \u001b[0;32mexcept\u001b[0m \u001b[0mException\u001b[0m\u001b[0;34m:\u001b[0m\u001b[0;34m\u001b[0m\u001b[0m\n\u001b[0;32m--> 743\u001b[0;31m                 \u001b[0;32mraise\u001b[0m \u001b[0mTypeError\u001b[0m\u001b[0;34m(\u001b[0m\u001b[0;34m'Could not convert %s to numeric'\u001b[0m \u001b[0;34m%\u001b[0m \u001b[0mstr\u001b[0m\u001b[0;34m(\u001b[0m\u001b[0mx\u001b[0m\u001b[0;34m)\u001b[0m\u001b[0;34m)\u001b[0m\u001b[0;34m\u001b[0m\u001b[0m\n\u001b[0m\u001b[1;32m    744\u001b[0m     \u001b[0;32mreturn\u001b[0m \u001b[0mx\u001b[0m\u001b[0;34m\u001b[0m\u001b[0m\n\u001b[1;32m    745\u001b[0m \u001b[0;34m\u001b[0m\u001b[0m\n",
      "\u001b[0;31mTypeError\u001b[0m: Could not convert 51.054.051.653.453.441.451.653.454.640.851.641.451.041.451.053.452.851.651.040.852.152.141.440.851.054.051.052.153.453.440.851.040.840.855.151.051.053.451.052.153.453.452.854.651.051.052.852.151.644.452.153.441.451.653.442.053.451.041.453.451.039.042.652.851.642.043.241.441.451.043.843.252.152.853.451.651.651.652.851.651.652.844.453.443.853.451.652.840.852.142.651.653.452.851.653.442.652.153.444.451.052.851.052.853.442.654.043.840.853.452.152.151.643.240.852.152.851.052.852.842.051.041.452.852.154.051.051.053.453.441.440.852.851.051.652.141.451.651.051.643.243.252.140.852.140.854.039.040.852.154.040.851.643.253.451.654.052.152.152.152.842.053.451.042.053.442.053.452.143.851.043.242.640.851.641.451.051.641.442.654.053.452.853.453.454.043.252.844.453.441.451.652.141.440.851.652.151.6 to numeric"
     ]
    }
   ],
   "source": [
    "rating_mean = X_train[X_train['Company_Ratings'] != 'None']['Company_Ratings'].mean()\n",
    "print rating_mean"
   ]
  },
  {
   "cell_type": "code",
   "execution_count": 148,
   "metadata": {
    "collapsed": false
   },
   "outputs": [],
   "source": [
    "# Filling \"None\" review values with mean\n",
    "\n",
    "X_train.loc[:,'No_of_Reviews'] = X_train['No_of_Reviews'].apply(lambda x: review_mean if x == 'None' else x)"
   ]
  },
  {
   "cell_type": "code",
   "execution_count": 149,
   "metadata": {
    "collapsed": false
   },
   "outputs": [],
   "source": [
    "X_train.loc[:,'Company_Ratings'] = X_train['Company_Ratings'].apply(lambda x: rating_mean if x == 'None' else x)"
   ]
  },
  {
   "cell_type": "markdown",
   "metadata": {},
   "source": [
    "## Scaling columns with continuous values"
   ]
  },
  {
   "cell_type": "code",
   "execution_count": 166,
   "metadata": {
    "collapsed": false
   },
   "outputs": [
    {
     "name": "stderr",
     "output_type": "stream",
     "text": [
      "/anaconda/lib/python2.7/site-packages/ipykernel/__main__.py:7: SettingWithCopyWarning: \n",
      "A value is trying to be set on a copy of a slice from a DataFrame.\n",
      "Try using .loc[row_indexer,col_indexer] = value instead\n",
      "\n",
      "See the caveats in the documentation: http://pandas.pydata.org/pandas-docs/stable/indexing.html#indexing-view-versus-copy\n"
     ]
    }
   ],
   "source": [
    "# Scaling continuous columns\n",
    "\n",
    "scaler = MinMaxScaler(feature_range=(0, 1))\n",
    "\n",
    "X_train[['No_of_Reviews', \"Company_Ratings\"]] = \\\n",
    "scaler.fit_transform(X_train[['No_of_Reviews', \"Company_Ratings\"]])"
   ]
  },
  {
   "cell_type": "code",
   "execution_count": 167,
   "metadata": {
    "collapsed": false
   },
   "outputs": [
    {
     "data": {
      "text/html": [
       "<div>\n",
       "<table border=\"1\" class=\"dataframe\">\n",
       "  <thead>\n",
       "    <tr style=\"text-align: right;\">\n",
       "      <th></th>\n",
       "      <th>No_of_Reviews</th>\n",
       "      <th>Company_Ratings</th>\n",
       "      <th>analyst</th>\n",
       "      <th>associate</th>\n",
       "      <th>clinical</th>\n",
       "      <th>data</th>\n",
       "      <th>engineer</th>\n",
       "      <th>engineering</th>\n",
       "      <th>laboratory</th>\n",
       "      <th>lead</th>\n",
       "      <th>...</th>\n",
       "      <th>C(City)[T.Union]</th>\n",
       "      <th>C(City)[T.Ventura, C]</th>\n",
       "      <th>C(City)[T.Walnut Creek]</th>\n",
       "      <th>C(City)[T.Waltham]</th>\n",
       "      <th>C(City)[T.Washington]</th>\n",
       "      <th>C(City)[T.Waukegan]</th>\n",
       "      <th>C(City)[T.West Valley City]</th>\n",
       "      <th>C(City)[T.Westlake Village]</th>\n",
       "      <th>C(City)[T.Wilmington]</th>\n",
       "      <th>C(City)[T.Wright-Patterson AFB]</th>\n",
       "    </tr>\n",
       "  </thead>\n",
       "  <tbody>\n",
       "    <tr>\n",
       "      <th>419</th>\n",
       "      <td>0.189579</td>\n",
       "      <td>0.630717</td>\n",
       "      <td>0</td>\n",
       "      <td>0</td>\n",
       "      <td>0</td>\n",
       "      <td>1</td>\n",
       "      <td>0</td>\n",
       "      <td>0</td>\n",
       "      <td>0</td>\n",
       "      <td>0</td>\n",
       "      <td>...</td>\n",
       "      <td>0.0</td>\n",
       "      <td>0.0</td>\n",
       "      <td>0.0</td>\n",
       "      <td>0.0</td>\n",
       "      <td>0.0</td>\n",
       "      <td>0.0</td>\n",
       "      <td>0.0</td>\n",
       "      <td>0.0</td>\n",
       "      <td>0.0</td>\n",
       "      <td>0.0</td>\n",
       "    </tr>\n",
       "    <tr>\n",
       "      <th>379</th>\n",
       "      <td>0.189579</td>\n",
       "      <td>0.630717</td>\n",
       "      <td>0</td>\n",
       "      <td>0</td>\n",
       "      <td>0</td>\n",
       "      <td>1</td>\n",
       "      <td>0</td>\n",
       "      <td>0</td>\n",
       "      <td>0</td>\n",
       "      <td>0</td>\n",
       "      <td>...</td>\n",
       "      <td>0.0</td>\n",
       "      <td>0.0</td>\n",
       "      <td>0.0</td>\n",
       "      <td>0.0</td>\n",
       "      <td>0.0</td>\n",
       "      <td>0.0</td>\n",
       "      <td>0.0</td>\n",
       "      <td>0.0</td>\n",
       "      <td>0.0</td>\n",
       "      <td>0.0</td>\n",
       "    </tr>\n",
       "    <tr>\n",
       "      <th>199</th>\n",
       "      <td>0.182203</td>\n",
       "      <td>0.745342</td>\n",
       "      <td>0</td>\n",
       "      <td>0</td>\n",
       "      <td>0</td>\n",
       "      <td>0</td>\n",
       "      <td>0</td>\n",
       "      <td>0</td>\n",
       "      <td>0</td>\n",
       "      <td>0</td>\n",
       "      <td>...</td>\n",
       "      <td>0.0</td>\n",
       "      <td>0.0</td>\n",
       "      <td>0.0</td>\n",
       "      <td>0.0</td>\n",
       "      <td>0.0</td>\n",
       "      <td>0.0</td>\n",
       "      <td>0.0</td>\n",
       "      <td>0.0</td>\n",
       "      <td>0.0</td>\n",
       "      <td>0.0</td>\n",
       "    </tr>\n",
       "    <tr>\n",
       "      <th>14</th>\n",
       "      <td>0.088983</td>\n",
       "      <td>0.931677</td>\n",
       "      <td>0</td>\n",
       "      <td>0</td>\n",
       "      <td>0</td>\n",
       "      <td>0</td>\n",
       "      <td>0</td>\n",
       "      <td>0</td>\n",
       "      <td>0</td>\n",
       "      <td>0</td>\n",
       "      <td>...</td>\n",
       "      <td>0.0</td>\n",
       "      <td>0.0</td>\n",
       "      <td>0.0</td>\n",
       "      <td>0.0</td>\n",
       "      <td>0.0</td>\n",
       "      <td>0.0</td>\n",
       "      <td>0.0</td>\n",
       "      <td>0.0</td>\n",
       "      <td>0.0</td>\n",
       "      <td>0.0</td>\n",
       "    </tr>\n",
       "    <tr>\n",
       "      <th>304</th>\n",
       "      <td>0.189579</td>\n",
       "      <td>0.630717</td>\n",
       "      <td>1</td>\n",
       "      <td>0</td>\n",
       "      <td>0</td>\n",
       "      <td>0</td>\n",
       "      <td>0</td>\n",
       "      <td>0</td>\n",
       "      <td>0</td>\n",
       "      <td>0</td>\n",
       "      <td>...</td>\n",
       "      <td>0.0</td>\n",
       "      <td>0.0</td>\n",
       "      <td>0.0</td>\n",
       "      <td>0.0</td>\n",
       "      <td>0.0</td>\n",
       "      <td>0.0</td>\n",
       "      <td>0.0</td>\n",
       "      <td>0.0</td>\n",
       "      <td>0.0</td>\n",
       "      <td>0.0</td>\n",
       "    </tr>\n",
       "  </tbody>\n",
       "</table>\n",
       "<p>5 rows × 295 columns</p>\n",
       "</div>"
      ],
      "text/plain": [
       "     No_of_Reviews  Company_Ratings  analyst  associate  clinical  data  \\\n",
       "419       0.189579         0.630717        0          0         0     1   \n",
       "379       0.189579         0.630717        0          0         0     1   \n",
       "199       0.182203         0.745342        0          0         0     0   \n",
       "14        0.088983         0.931677        0          0         0     0   \n",
       "304       0.189579         0.630717        1          0         0     0   \n",
       "\n",
       "     engineer  engineering  laboratory  lead               ...                 \\\n",
       "419         0            0           0     0               ...                  \n",
       "379         0            0           0     0               ...                  \n",
       "199         0            0           0     0               ...                  \n",
       "14          0            0           0     0               ...                  \n",
       "304         0            0           0     0               ...                  \n",
       "\n",
       "     C(City)[T.Union]  C(City)[T.Ventura, C]  C(City)[T.Walnut Creek]  \\\n",
       "419               0.0                    0.0                      0.0   \n",
       "379               0.0                    0.0                      0.0   \n",
       "199               0.0                    0.0                      0.0   \n",
       "14                0.0                    0.0                      0.0   \n",
       "304               0.0                    0.0                      0.0   \n",
       "\n",
       "     C(City)[T.Waltham]  C(City)[T.Washington]  C(City)[T.Waukegan]  \\\n",
       "419                 0.0                    0.0                  0.0   \n",
       "379                 0.0                    0.0                  0.0   \n",
       "199                 0.0                    0.0                  0.0   \n",
       "14                  0.0                    0.0                  0.0   \n",
       "304                 0.0                    0.0                  0.0   \n",
       "\n",
       "     C(City)[T.West Valley City]  C(City)[T.Westlake Village]  \\\n",
       "419                          0.0                          0.0   \n",
       "379                          0.0                          0.0   \n",
       "199                          0.0                          0.0   \n",
       "14                           0.0                          0.0   \n",
       "304                          0.0                          0.0   \n",
       "\n",
       "     C(City)[T.Wilmington]  C(City)[T.Wright-Patterson AFB]  \n",
       "419                    0.0                              0.0  \n",
       "379                    0.0                              0.0  \n",
       "199                    0.0                              0.0  \n",
       "14                     0.0                              0.0  \n",
       "304                    0.0                              0.0  \n",
       "\n",
       "[5 rows x 295 columns]"
      ]
     },
     "execution_count": 167,
     "metadata": {},
     "output_type": "execute_result"
    }
   ],
   "source": [
    "X_train.head()"
   ]
  },
  {
   "cell_type": "markdown",
   "metadata": {
    "collapsed": false,
    "focus": false,
    "id": "43e71edd-210e-42b1-9336-70a931f048af"
   },
   "source": [
    "# Using GridSearchCV with LogisticRegression for modelling"
   ]
  },
  {
   "cell_type": "code",
   "execution_count": 168,
   "metadata": {
    "collapsed": false,
    "focus": false,
    "id": "783fd153-28ac-47ab-bfca-27e7c1de95b4"
   },
   "outputs": [
    {
     "data": {
      "text/plain": [
       "GridSearchCV(cv=10, error_score='raise',\n",
       "       estimator=LogisticRegression(C=1.0, class_weight=None, dual=False, fit_intercept=True,\n",
       "          intercept_scaling=1, max_iter=100, multi_class='ovr', n_jobs=1,\n",
       "          penalty='l2', random_state=None, solver='liblinear', tol=0.0001,\n",
       "          verbose=0, warm_start=False),\n",
       "       fit_params={}, iid=True, n_jobs=1,\n",
       "       param_grid={'penalty': ['l1', 'l2'], 'C': [0.0001, 0.001, 0.01, 0.1, 0.15, 0.25, 0.275, 0.33, 0.5, 0.66, 0.75, 1.0, 2.5, 5.0, 10.0, 100.0, 1000.0]},\n",
       "       pre_dispatch='2*n_jobs', refit=True, scoring=None, verbose=0)"
      ]
     },
     "execution_count": 168,
     "metadata": {},
     "output_type": "execute_result"
    }
   ],
   "source": [
    "\n",
    "C_vals = [0.0001, 0.001, 0.01, 0.1, .15, .25, .275, .33, 0.5, .66, 0.75, 1.0, 2.5, 5.0, 10.0, 100.0, 1000.0]\n",
    "penalties = ['l1','l2']\n",
    "\n",
    "\n",
    "gs = GridSearchCV(LogisticRegression(solver='liblinear'),\n",
    "                 {'C': C_vals,\n",
    "                 'penalty': penalties},\n",
    "                 cv=10)\n",
    "gs.fit(X_train,y_train)"
   ]
  },
  {
   "cell_type": "code",
   "execution_count": 169,
   "metadata": {
    "collapsed": false
   },
   "outputs": [
    {
     "data": {
      "text/plain": [
       "LogisticRegression(C=0.33, class_weight=None, dual=False, fit_intercept=True,\n",
       "          intercept_scaling=1, max_iter=100, multi_class='ovr', n_jobs=1,\n",
       "          penalty='l1', random_state=None, solver='liblinear', tol=0.0001,\n",
       "          verbose=0, warm_start=False)"
      ]
     },
     "execution_count": 169,
     "metadata": {},
     "output_type": "execute_result"
    }
   ],
   "source": [
    "gs.best_estimator_"
   ]
  },
  {
   "cell_type": "code",
   "execution_count": 211,
   "metadata": {
    "collapsed": false
   },
   "outputs": [
    {
     "data": {
      "text/plain": [
       "{'C': 0.33, 'penalty': 'l1'}"
      ]
     },
     "execution_count": 211,
     "metadata": {},
     "output_type": "execute_result"
    }
   ],
   "source": [
    "# Best parameters\n",
    "\n",
    "gs.best_params_"
   ]
  },
  {
   "cell_type": "code",
   "execution_count": 170,
   "metadata": {
    "collapsed": false
   },
   "outputs": [
    {
     "data": {
      "text/plain": [
       "0.7835616438356164"
      ]
     },
     "execution_count": 170,
     "metadata": {},
     "output_type": "execute_result"
    }
   ],
   "source": [
    "# Best scores\n",
    "\n",
    "gs.best_score_"
   ]
  },
  {
   "cell_type": "markdown",
   "metadata": {},
   "source": [
    "## Ranking coefficients of model"
   ]
  },
  {
   "cell_type": "code",
   "execution_count": 174,
   "metadata": {
    "collapsed": false
   },
   "outputs": [
    {
     "data": {
      "text/html": [
       "<div>\n",
       "<table border=\"1\" class=\"dataframe\">\n",
       "  <thead>\n",
       "    <tr style=\"text-align: right;\">\n",
       "      <th></th>\n",
       "      <th>features</th>\n",
       "      <th>coef</th>\n",
       "    </tr>\n",
       "  </thead>\n",
       "  <tbody>\n",
       "    <tr>\n",
       "      <th>0</th>\n",
       "      <td>looking</td>\n",
       "      <td>1.43975</td>\n",
       "    </tr>\n",
       "    <tr>\n",
       "      <th>1</th>\n",
       "      <td>quantitative</td>\n",
       "      <td>1.32235</td>\n",
       "    </tr>\n",
       "    <tr>\n",
       "      <th>2</th>\n",
       "      <td>data</td>\n",
       "      <td>1.25435</td>\n",
       "    </tr>\n",
       "    <tr>\n",
       "      <th>3</th>\n",
       "      <td>C(State)[T.NY]</td>\n",
       "      <td>0.610233</td>\n",
       "    </tr>\n",
       "    <tr>\n",
       "      <th>4</th>\n",
       "      <td>company</td>\n",
       "      <td>0.533305</td>\n",
       "    </tr>\n",
       "    <tr>\n",
       "      <th>5</th>\n",
       "      <td>engineer</td>\n",
       "      <td>0.395774</td>\n",
       "    </tr>\n",
       "    <tr>\n",
       "      <th>6</th>\n",
       "      <td>learning</td>\n",
       "      <td>0.37949</td>\n",
       "    </tr>\n",
       "    <tr>\n",
       "      <th>7</th>\n",
       "      <td>senior</td>\n",
       "      <td>0.28575</td>\n",
       "    </tr>\n",
       "    <tr>\n",
       "      <th>8</th>\n",
       "      <td>lead</td>\n",
       "      <td>0.185881</td>\n",
       "    </tr>\n",
       "    <tr>\n",
       "      <th>9</th>\n",
       "      <td>C(City)[T.Milwaukee]</td>\n",
       "      <td>0</td>\n",
       "    </tr>\n",
       "    <tr>\n",
       "      <th>10</th>\n",
       "      <td>C(City)[T.Mountain View, C]</td>\n",
       "      <td>0</td>\n",
       "    </tr>\n",
       "    <tr>\n",
       "      <th>11</th>\n",
       "      <td>C(City)[T.Mountain View]</td>\n",
       "      <td>0</td>\n",
       "    </tr>\n",
       "    <tr>\n",
       "      <th>12</th>\n",
       "      <td>C(City)[T.Morrisville]</td>\n",
       "      <td>0</td>\n",
       "    </tr>\n",
       "    <tr>\n",
       "      <th>13</th>\n",
       "      <td>C(City)[T.Modesto]</td>\n",
       "      <td>0</td>\n",
       "    </tr>\n",
       "    <tr>\n",
       "      <th>14</th>\n",
       "      <td>C(City)[T.Minneapolis]</td>\n",
       "      <td>0</td>\n",
       "    </tr>\n",
       "    <tr>\n",
       "      <th>15</th>\n",
       "      <td>C(City)[T.Miami]</td>\n",
       "      <td>0</td>\n",
       "    </tr>\n",
       "    <tr>\n",
       "      <th>16</th>\n",
       "      <td>C(City)[T.Milpitas]</td>\n",
       "      <td>0</td>\n",
       "    </tr>\n",
       "    <tr>\n",
       "      <th>17</th>\n",
       "      <td>C(City)[T.Nashville, T]</td>\n",
       "      <td>0</td>\n",
       "    </tr>\n",
       "    <tr>\n",
       "      <th>18</th>\n",
       "      <td>C(City)[T.Mesa]</td>\n",
       "      <td>0</td>\n",
       "    </tr>\n",
       "    <tr>\n",
       "      <th>19</th>\n",
       "      <td>C(City)[T.Melbourne]</td>\n",
       "      <td>0</td>\n",
       "    </tr>\n",
       "  </tbody>\n",
       "</table>\n",
       "</div>"
      ],
      "text/plain": [
       "                       features      coef\n",
       "0                       looking   1.43975\n",
       "1                  quantitative   1.32235\n",
       "2                          data   1.25435\n",
       "3                C(State)[T.NY]  0.610233\n",
       "4                       company  0.533305\n",
       "5                      engineer  0.395774\n",
       "6                      learning   0.37949\n",
       "7                        senior   0.28575\n",
       "8                          lead  0.185881\n",
       "9          C(City)[T.Milwaukee]         0\n",
       "10  C(City)[T.Mountain View, C]         0\n",
       "11     C(City)[T.Mountain View]         0\n",
       "12       C(City)[T.Morrisville]         0\n",
       "13           C(City)[T.Modesto]         0\n",
       "14       C(City)[T.Minneapolis]         0\n",
       "15             C(City)[T.Miami]         0\n",
       "16          C(City)[T.Milpitas]         0\n",
       "17      C(City)[T.Nashville, T]         0\n",
       "18              C(City)[T.Mesa]         0\n",
       "19         C(City)[T.Melbourne]         0"
      ]
     },
     "execution_count": 174,
     "metadata": {},
     "output_type": "execute_result"
    }
   ],
   "source": [
    "# Top 20\n",
    "\n",
    "coef = pd.DataFrame([list(X_train.columns), list(gs.best_estimator_.coef_[0])], index=['features', 'coef']).T\n",
    "coef.sort_values(by = 'coef', ascending = False, inplace = True)\n",
    "coef.reset_index(inplace = True)\n",
    "del coef['index']\n",
    "coef.head(20)"
   ]
  },
  {
   "cell_type": "code",
   "execution_count": 175,
   "metadata": {
    "collapsed": false
   },
   "outputs": [
    {
     "data": {
      "text/html": [
       "<div>\n",
       "<table border=\"1\" class=\"dataframe\">\n",
       "  <thead>\n",
       "    <tr style=\"text-align: right;\">\n",
       "      <th></th>\n",
       "      <th>features</th>\n",
       "      <th>coef</th>\n",
       "    </tr>\n",
       "  </thead>\n",
       "  <tbody>\n",
       "    <tr>\n",
       "      <th>275</th>\n",
       "      <td>C(City)[T.Bolling AFB]</td>\n",
       "      <td>0</td>\n",
       "    </tr>\n",
       "    <tr>\n",
       "      <th>276</th>\n",
       "      <td>C(City)[T.Camarillo, C]</td>\n",
       "      <td>0</td>\n",
       "    </tr>\n",
       "    <tr>\n",
       "      <th>277</th>\n",
       "      <td>C(City)[T.Charleston]</td>\n",
       "      <td>0</td>\n",
       "    </tr>\n",
       "    <tr>\n",
       "      <th>278</th>\n",
       "      <td>C(City)[T.Chapel Hill]</td>\n",
       "      <td>0</td>\n",
       "    </tr>\n",
       "    <tr>\n",
       "      <th>279</th>\n",
       "      <td>C(City)[T.Campbell]</td>\n",
       "      <td>0</td>\n",
       "    </tr>\n",
       "    <tr>\n",
       "      <th>280</th>\n",
       "      <td>C(City)[T.Cambridge, MA 02141 (East Cambridge ...</td>\n",
       "      <td>0</td>\n",
       "    </tr>\n",
       "    <tr>\n",
       "      <th>281</th>\n",
       "      <td>C(City)[T.Boston]</td>\n",
       "      <td>0</td>\n",
       "    </tr>\n",
       "    <tr>\n",
       "      <th>282</th>\n",
       "      <td>C(City)[T.Cambridge]</td>\n",
       "      <td>0</td>\n",
       "    </tr>\n",
       "    <tr>\n",
       "      <th>283</th>\n",
       "      <td>C(City)[T.Cambridge, MA 02138 (West Cambridge ...</td>\n",
       "      <td>0</td>\n",
       "    </tr>\n",
       "    <tr>\n",
       "      <th>284</th>\n",
       "      <td>C(City)[T.Brisbane]</td>\n",
       "      <td>0</td>\n",
       "    </tr>\n",
       "    <tr>\n",
       "      <th>285</th>\n",
       "      <td>C(City)[T.Bridgewater]</td>\n",
       "      <td>0</td>\n",
       "    </tr>\n",
       "    <tr>\n",
       "      <th>286</th>\n",
       "      <td>C(City)[T.Bridgeport]</td>\n",
       "      <td>0</td>\n",
       "    </tr>\n",
       "    <tr>\n",
       "      <th>287</th>\n",
       "      <td>C(City)[T.Boulder]</td>\n",
       "      <td>0</td>\n",
       "    </tr>\n",
       "    <tr>\n",
       "      <th>288</th>\n",
       "      <td>C(City)[T.Boston, MA 02116 (South End area]</td>\n",
       "      <td>0</td>\n",
       "    </tr>\n",
       "    <tr>\n",
       "      <th>289</th>\n",
       "      <td>C(City)[T.Boston, MA 02115 (Fenway-Kenmore area]</td>\n",
       "      <td>0</td>\n",
       "    </tr>\n",
       "    <tr>\n",
       "      <th>290</th>\n",
       "      <td>C(City)[T.Wright-Patterson AFB]</td>\n",
       "      <td>0</td>\n",
       "    </tr>\n",
       "    <tr>\n",
       "      <th>291</th>\n",
       "      <td>associate</td>\n",
       "      <td>-0.0853983</td>\n",
       "    </tr>\n",
       "    <tr>\n",
       "      <th>292</th>\n",
       "      <td>laboratory</td>\n",
       "      <td>-0.446106</td>\n",
       "    </tr>\n",
       "    <tr>\n",
       "      <th>293</th>\n",
       "      <td>Company_Ratings</td>\n",
       "      <td>-0.770286</td>\n",
       "    </tr>\n",
       "    <tr>\n",
       "      <th>294</th>\n",
       "      <td>research</td>\n",
       "      <td>-1.08625</td>\n",
       "    </tr>\n",
       "  </tbody>\n",
       "</table>\n",
       "</div>"
      ],
      "text/plain": [
       "                                              features       coef\n",
       "275                             C(City)[T.Bolling AFB]          0\n",
       "276                            C(City)[T.Camarillo, C]          0\n",
       "277                              C(City)[T.Charleston]          0\n",
       "278                             C(City)[T.Chapel Hill]          0\n",
       "279                                C(City)[T.Campbell]          0\n",
       "280  C(City)[T.Cambridge, MA 02141 (East Cambridge ...          0\n",
       "281                                  C(City)[T.Boston]          0\n",
       "282                               C(City)[T.Cambridge]          0\n",
       "283  C(City)[T.Cambridge, MA 02138 (West Cambridge ...          0\n",
       "284                                C(City)[T.Brisbane]          0\n",
       "285                             C(City)[T.Bridgewater]          0\n",
       "286                              C(City)[T.Bridgeport]          0\n",
       "287                                 C(City)[T.Boulder]          0\n",
       "288        C(City)[T.Boston, MA 02116 (South End area]          0\n",
       "289   C(City)[T.Boston, MA 02115 (Fenway-Kenmore area]          0\n",
       "290                    C(City)[T.Wright-Patterson AFB]          0\n",
       "291                                          associate -0.0853983\n",
       "292                                         laboratory  -0.446106\n",
       "293                                    Company_Ratings  -0.770286\n",
       "294                                           research   -1.08625"
      ]
     },
     "execution_count": 175,
     "metadata": {},
     "output_type": "execute_result"
    }
   ],
   "source": [
    "# Bottom 20\n",
    "\n",
    "coef.tail(20)"
   ]
  },
  {
   "cell_type": "code",
   "execution_count": 176,
   "metadata": {
    "collapsed": false
   },
   "outputs": [
    {
     "data": {
      "text/html": [
       "<div>\n",
       "<table border=\"1\" class=\"dataframe\">\n",
       "  <thead>\n",
       "    <tr style=\"text-align: right;\">\n",
       "      <th></th>\n",
       "      <th>features</th>\n",
       "      <th>coef</th>\n",
       "    </tr>\n",
       "  </thead>\n",
       "  <tbody>\n",
       "    <tr>\n",
       "      <th>293</th>\n",
       "      <td>Company_Ratings</td>\n",
       "      <td>-0.770286</td>\n",
       "    </tr>\n",
       "  </tbody>\n",
       "</table>\n",
       "</div>"
      ],
      "text/plain": [
       "            features      coef\n",
       "293  Company_Ratings -0.770286"
      ]
     },
     "execution_count": 176,
     "metadata": {},
     "output_type": "execute_result"
    }
   ],
   "source": [
    "# Checking importance of Company rating\n",
    "\n",
    "coef[coef['features'] == 'Company_Ratings']"
   ]
  },
  {
   "cell_type": "markdown",
   "metadata": {},
   "source": [
    "This one is interesting - company rating has a negative correlation with salaries. This could possibly be argued that highly rated companies, i.e. popular ones where more people want to work at, have more bargaining power and can be a price setter."
   ]
  },
  {
   "cell_type": "code",
   "execution_count": 177,
   "metadata": {
    "collapsed": false
   },
   "outputs": [
    {
     "data": {
      "text/html": [
       "<div>\n",
       "<table border=\"1\" class=\"dataframe\">\n",
       "  <thead>\n",
       "    <tr style=\"text-align: right;\">\n",
       "      <th></th>\n",
       "      <th>features</th>\n",
       "      <th>coef</th>\n",
       "    </tr>\n",
       "  </thead>\n",
       "  <tbody>\n",
       "    <tr>\n",
       "      <th>25</th>\n",
       "      <td>No_of_Reviews</td>\n",
       "      <td>0</td>\n",
       "    </tr>\n",
       "  </tbody>\n",
       "</table>\n",
       "</div>"
      ],
      "text/plain": [
       "         features coef\n",
       "25  No_of_Reviews    0"
      ]
     },
     "execution_count": 177,
     "metadata": {},
     "output_type": "execute_result"
    }
   ],
   "source": [
    "# Checking importance of number of reviews\n",
    "\n",
    "coef[coef['features'] == 'No_of_Reviews']"
   ]
  },
  {
   "cell_type": "markdown",
   "metadata": {},
   "source": [
    "Essentially saying that salaries are not dependent on the number of reviews on indeed.com"
   ]
  },
  {
   "cell_type": "markdown",
   "metadata": {},
   "source": [
    "## Sorting out the X_test dataset (See code comments)"
   ]
  },
  {
   "cell_type": "code",
   "execution_count": 178,
   "metadata": {
    "collapsed": false
   },
   "outputs": [],
   "source": [
    "# Fill review with mean\n",
    "# Fill rating with mean\n",
    "# Scale reviews\n",
    "# Scale ratings\n",
    "\n",
    "# Had to do this separatedly so as not to \"contaminate\" training set\n",
    "\n",
    "X_test.loc[:,'No_of_Reviews'] = X_test['No_of_Reviews'].apply(lambda x: review_mean if x == 'None' else x)\n",
    "X_test.loc[:,'Company_Ratings'] = X_test['Company_Ratings'].apply(lambda x: rating_mean if x == 'None' else x)"
   ]
  },
  {
   "cell_type": "code",
   "execution_count": 179,
   "metadata": {
    "collapsed": false
   },
   "outputs": [
    {
     "name": "stderr",
     "output_type": "stream",
     "text": [
      "/anaconda/lib/python2.7/site-packages/ipykernel/__main__.py:1: SettingWithCopyWarning: \n",
      "A value is trying to be set on a copy of a slice from a DataFrame.\n",
      "Try using .loc[row_indexer,col_indexer] = value instead\n",
      "\n",
      "See the caveats in the documentation: http://pandas.pydata.org/pandas-docs/stable/indexing.html#indexing-view-versus-copy\n",
      "  if __name__ == '__main__':\n"
     ]
    }
   ],
   "source": [
    "X_test[['No_of_Reviews', 'Company_Ratings']] = \\\n",
    "scaler.fit_transform(X_test[['No_of_Reviews', \"Company_Ratings\"]])"
   ]
  },
  {
   "cell_type": "markdown",
   "metadata": {},
   "source": [
    "## Predicting X_test"
   ]
  },
  {
   "cell_type": "code",
   "execution_count": 180,
   "metadata": {
    "collapsed": false
   },
   "outputs": [],
   "source": [
    "y_pred2 = gs.best_estimator_.predict(X_test)\n",
    "y_score2 = gs.best_estimator_.decision_function(X_test)"
   ]
  },
  {
   "cell_type": "code",
   "execution_count": 195,
   "metadata": {
    "collapsed": false
   },
   "outputs": [
    {
     "name": "stdout",
     "output_type": "stream",
     "text": [
      "              predicted_overMedian  predicted_underMedian\n",
      "over_Median                     65                     26\n",
      "under_Median                    12                     77\n",
      "\n",
      "\n",
      "             precision    recall  f1-score   support\n",
      "\n",
      "          0       0.75      0.87      0.80        89\n",
      "          1       0.84      0.71      0.77        91\n",
      "\n",
      "avg / total       0.80      0.79      0.79       180\n",
      "\n"
     ]
    },
    {
     "data": {
      "text/plain": [
       "0.8558464007902209"
      ]
     },
     "execution_count": 195,
     "metadata": {},
     "output_type": "execute_result"
    }
   ],
   "source": [
    "# Checking performance of model\n",
    "\n",
    "conmat = np.array(confusion_matrix(y_test, y_pred2, labels=[1,0]))\n",
    "confusion = pd.DataFrame(conmat, index=['over_Median', 'under_Median'],\n",
    "                            columns=['predicted_overMedian','predicted_underMedian'])\n",
    "\n",
    "print(confusion)\n",
    "print\n",
    "print\n",
    "print classification_report(y_test,y_pred2)\n",
    "roc_auc_score(y_test, y_score2)\n"
   ]
  },
  {
   "cell_type": "markdown",
   "metadata": {},
   "source": [
    "## Plotting performance of model"
   ]
  },
  {
   "cell_type": "code",
   "execution_count": 235,
   "metadata": {
    "collapsed": false
   },
   "outputs": [
    {
     "data": {
      "image/png": "[encoded data removed]",
      "text/plain": [
       "<matplotlib.figure.Figure at 0x12a8570d0>"
      ]
     },
     "metadata": {},
     "output_type": "display_data"
    }
   ],
   "source": [
    "\n",
    "\"\"\" Plot AUC\"\"\"\n",
    "\n",
    "FPR = dict()\n",
    "TPR = dict()\n",
    "ROC_AUC = dict()\n",
    "\n",
    "# Find the area under the curve\n",
    "FPR[1], TPR[1], _ = roc_curve(y_test, y_score2)\n",
    "ROC_AUC[1] = auc(FPR[1], TPR[1])\n",
    "\n",
    "# Plot of a ROC curve\n",
    "plt.figure(figsize=[11,9])\n",
    "plt.plot(FPR[1], TPR[1], label='ROC curve (area = %0.2f)' % ROC_AUC[1], linewidth=4)\n",
    "plt.plot([0, 1], [0, 1], 'k--', linewidth=4)\n",
    "plt.xlim([0.0, 1.0])\n",
    "plt.ylim([0.0, 1.05])\n",
    "plt.xlabel('False Positive Rate', fontsize=18)\n",
    "plt.ylabel('True Positive Rate', fontsize=18)\n",
    "plt.title('Receiver operating characteristic for above median pay (%i)' % median_, fontsize=18)\n",
    "plt.legend(loc=\"lower right\")\n",
    "plt.savefig('roc_logreg.png')\n",
    "plt.show();\n"
   ]
  },
  {
   "cell_type": "markdown",
   "metadata": {},
   "source": [
    "# Adjusting threshold to lower false positive rate"
   ]
  },
  {
   "cell_type": "markdown",
   "metadata": {},
   "source": [
    "#### Minimise occurences of calling a \"low salary\" job a \"high salary\" one"
   ]
  },
  {
   "cell_type": "markdown",
   "metadata": {},
   "source": [
    "## Probability vector"
   ]
  },
  {
   "cell_type": "code",
   "execution_count": 219,
   "metadata": {
    "collapsed": false
   },
   "outputs": [
    {
     "name": "stdout",
     "output_type": "stream",
     "text": [
      "   class_0_pp  class_1_pp\n",
      "0    0.834027    0.165973\n",
      "1    0.111015    0.888985\n",
      "2    0.559058    0.440942\n",
      "3    0.075334    0.924666\n",
      "4    0.381294    0.618706\n",
      "5    0.527482    0.472518\n",
      "6    0.521994    0.478006\n",
      "7    0.292789    0.707211\n",
      "8    0.307000    0.693000\n",
      "9    0.440838    0.559162\n",
      "(180, 180)\n"
     ]
    }
   ],
   "source": [
    "# Get the predicted probability vector\n",
    "\n",
    "y_df = pd.DataFrame(gs.best_estimator_.predict_proba(X_test), columns=['class_0_pp','class_1_pp'])\n",
    "print(y_df.iloc[0:10])\n",
    "print(len(X_test), len(y_df))"
   ]
  },
  {
   "cell_type": "code",
   "execution_count": 220,
   "metadata": {
    "collapsed": false
   },
   "outputs": [
    {
     "name": "stdout",
     "output_type": "stream",
     "text": [
      "   class_0_pp  class_1_pp  pred_class_threshigh\n",
      "0    0.834027    0.165973                     0\n",
      "1    0.111015    0.888985                     0\n",
      "2    0.559058    0.440942                     0\n",
      "3    0.075334    0.924666                     0\n",
      "4    0.381294    0.618706                     0\n",
      "5    0.527482    0.472518                     0\n",
      "6    0.521994    0.478006                     0\n",
      "7    0.292789    0.707211                     0\n",
      "8    0.307000    0.693000                     0\n",
      "9    0.440838    0.559162                     0\n"
     ]
    }
   ],
   "source": [
    "# Setting threshold to accept prediction for Median pay at 0.95 instead of 0.5\n",
    "\n",
    "y_df['pred_class_threshigh'] = [1 if x >= 0.95 else 0 for x in y_df.class_1_pp.values]\n",
    "print(y_df.iloc[0:10])"
   ]
  },
  {
   "cell_type": "code",
   "execution_count": 222,
   "metadata": {
    "collapsed": false
   },
   "outputs": [
    {
     "name": "stdout",
     "output_type": "stream",
     "text": [
      "              predicted_overMedian  predicted_underMedian\n",
      "over_Median                      6                     85\n",
      "under_Median                     0                     89\n"
     ]
    }
   ],
   "source": [
    "# Confusion matrix\n",
    "\n",
    "conmat_high = np.array(confusion_matrix(y_test, y_df.pred_class_threshigh.values, labels=[1,0]))\n",
    "\n",
    "confusion_high = pd.DataFrame(conmat_high, index=['over_Median', 'under_Median'],\n",
    "                            columns=['predicted_overMedian','predicted_underMedian'])\n",
    "\n",
    "print(confusion_high)"
   ]
  },
  {
   "cell_type": "code",
   "execution_count": 224,
   "metadata": {
    "collapsed": false
   },
   "outputs": [
    {
     "name": "stdout",
     "output_type": "stream",
     "text": [
      "             precision    recall  f1-score   support\n",
      "\n",
      "          0       0.51      1.00      0.68        89\n",
      "          1       1.00      0.07      0.12        91\n",
      "\n",
      "avg / total       0.76      0.53      0.40       180\n",
      "\n"
     ]
    }
   ],
   "source": [
    "cls_rephigh = classification_report(y_test, y_df.pred_class_threshigh.values)\n",
    "print cls_rephigh"
   ]
  },
  {
   "cell_type": "markdown",
   "metadata": {},
   "source": [
    "#### Comments:\n",
    "\n",
    "While false positive rate was minimized, false negative rate consequently increased. There were more occurences where the model wrongly called a high-salary job a low-one."
   ]
  },
  {
   "cell_type": "markdown",
   "metadata": {},
   "source": [
    "Personal blogpost -- \n",
    "[Project4_personal_blogpost]('https://peidacai.github.io/articles/General-Assembly-Project04')"
   ]
  },
  {
   "cell_type": "code",
   "execution_count": null,
   "metadata": {
    "collapsed": true
   },
   "outputs": [],
   "source": []
  }
 ],
 "metadata": {
  "anaconda-cloud": {},
  "kernelspec": {
   "display_name": "Python [Root]",
   "language": "python",
   "name": "Python [Root]"
  },
  "language_info": {
   "codemirror_mode": {
    "name": "ipython",
    "version": 2
   },
   "file_extension": ".py",
   "mimetype": "text/x-python",
   "name": "python",
   "nbconvert_exporter": "python",
   "pygments_lexer": "ipython2",
   "version": "2.7.12"
  }
 },
 "nbformat": 4,
 "nbformat_minor": 0
}
