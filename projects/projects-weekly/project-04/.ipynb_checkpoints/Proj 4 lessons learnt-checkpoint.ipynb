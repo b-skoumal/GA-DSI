{
 "cells": [
  {
   "cell_type": "markdown",
   "metadata": {},
   "source": [
    "## Lessons Learnt\n",
    "\n",
    "1. Multi-class logistics regression\n",
    "\n",
    "   -\n",
    "   \n",
    "\n",
    "2. Use of company name\n",
    "\n",
    "\n",
    "\n",
    "3. Dummy variables\n",
    "\n",
    "   - Use python get_dummy instead of patsy\n",
    "   - To control which feature to drop and use as a base case\n",
    "   - \n",
    "   \n",
    "4. Direction of causality??\n",
    "\n",
    "5. Add words to the countvectorizer (i.e. Remove word \"data\")\n",
    "\n",
    "\n",
    "\n",
    "\n",
    "\n"
   ]
  }
 ],
 "metadata": {
  "kernelspec": {
   "display_name": "Python [Root]",
   "language": "python",
   "name": "Python [Root]"
  },
  "language_info": {
   "codemirror_mode": {
    "name": "ipython",
    "version": 2
   },
   "file_extension": ".py",
   "mimetype": "text/x-python",
   "name": "python",
   "nbconvert_exporter": "python",
   "pygments_lexer": "ipython2",
   "version": "2.7.12"
  }
 },
 "nbformat": 4,
 "nbformat_minor": 0
}
