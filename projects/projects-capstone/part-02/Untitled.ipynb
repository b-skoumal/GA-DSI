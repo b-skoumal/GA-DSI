{
 "cells": [
  {
   "cell_type": "code",
   "execution_count": 31,
   "metadata": {
    "ExecuteTime": {
     "end_time": "2016-11-19T17:04:56.244665",
     "start_time": "2016-11-19T17:04:56.214140"
    },
    "collapsed": false
   },
   "outputs": [
    {
     "name": "stdout",
     "output_type": "stream",
     "text": [
      "[13, 13, 2, 2, 1, 13]\n",
      "[13, 13, 2, 2, 1]\n",
      "[13, 2, 2, 1]\n",
      "[2, 2, 1]\n",
      "[2, 1]\n"
     ]
    },
    {
     "data": {
      "text/plain": [
       "3"
      ]
     },
     "execution_count": 31,
     "metadata": {},
     "output_type": "execute_result"
    }
   ],
   "source": [
    "nums = [13, 13, 2, 2, 1, 13, 13]\n",
    "\n",
    "def sum13(nums):\n",
    "    if nums == []:\n",
    "        return 0\n",
    "    elif 13 not in nums:\n",
    "        return sum(nums)\n",
    "    elif nums[-1] == 13:\n",
    "        nums.pop()\n",
    "        print nums\n",
    "        return sum13(nums)\n",
    "    else:\n",
    "        ind = nums.index(13)\n",
    "        if nums[ind +1] == 13:\n",
    "            nums.pop(ind)\n",
    "            print nums\n",
    "            return sum13(nums)\n",
    "        else:\n",
    "            nums.pop(ind)\n",
    "            print nums\n",
    "            nums.pop(ind)\n",
    "            print nums\n",
    "            return sum13(nums)\n",
    "\n",
    "sum13(nums)"
   ]
  },
  {
   "cell_type": "code",
   "execution_count": 48,
   "metadata": {
    "ExecuteTime": {
     "end_time": "2016-11-19T17:15:21.717892",
     "start_time": "2016-11-19T17:15:21.707469"
    },
    "collapsed": true
   },
   "outputs": [],
   "source": [
    "def sum67(nums):\n",
    "    if nums == []:\n",
    "        return 0\n",
    "    else:\n",
    "        \n",
    "        ind6 = nums.index(6)\n",
    "        ind7 = nums[ind6:].index(7) + ind6\n",
    "        \n",
    "        return sum(nums[:ind6]+nums[ind7+1:])"
   ]
  },
  {
   "cell_type": "code",
   "execution_count": 50,
   "metadata": {
    "ExecuteTime": {
     "end_time": "2016-11-19T17:15:47.846891",
     "start_time": "2016-11-19T17:15:47.827520"
    },
    "collapsed": false
   },
   "outputs": [
    {
     "data": {
      "text/plain": [
       "5"
      ]
     },
     "execution_count": 50,
     "metadata": {},
     "output_type": "execute_result"
    }
   ],
   "source": [
    "sum67([1, 2, 2, 6, 99, 99, 7])"
   ]
  },
  {
   "cell_type": "code",
   "execution_count": 40,
   "metadata": {
    "ExecuteTime": {
     "end_time": "2016-11-19T17:13:54.874069",
     "start_time": "2016-11-19T17:13:54.868923"
    },
    "collapsed": false
   },
   "outputs": [],
   "source": [
    "nums = [1, 13, 2, 2, 1, 13, 1]"
   ]
  },
  {
   "cell_type": "code",
   "execution_count": 41,
   "metadata": {
    "ExecuteTime": {
     "end_time": "2016-11-19T17:14:00.655326",
     "start_time": "2016-11-19T17:14:00.643946"
    },
    "collapsed": false
   },
   "outputs": [
    {
     "data": {
      "text/plain": [
       "[2, 2, 1, 13, 1]"
      ]
     },
     "execution_count": 41,
     "metadata": {},
     "output_type": "execute_result"
    }
   ],
   "source": [
    "nums[2:]"
   ]
  },
  {
   "cell_type": "code",
   "execution_count": 13,
   "metadata": {
    "ExecuteTime": {
     "end_time": "2016-11-19T16:57:37.316765",
     "start_time": "2016-11-19T16:57:37.307302"
    },
    "collapsed": false
   },
   "outputs": [
    {
     "data": {
      "text/plain": [
       "1"
      ]
     },
     "execution_count": 13,
     "metadata": {},
     "output_type": "execute_result"
    }
   ],
   "source": [
    "nums.index(13)"
   ]
  },
  {
   "cell_type": "code",
   "execution_count": 11,
   "metadata": {
    "ExecuteTime": {
     "end_time": "2016-11-19T16:56:38.044793",
     "start_time": "2016-11-19T16:56:38.034406"
    },
    "collapsed": false
   },
   "outputs": [
    {
     "data": {
      "text/plain": [
       "[1, 2, 1, 13, 1]"
      ]
     },
     "execution_count": 11,
     "metadata": {},
     "output_type": "execute_result"
    }
   ],
   "source": [
    "nums.pop(1)\n",
    "nums\n",
    "nums.pop(2)\n",
    "nums"
   ]
  },
  {
   "cell_type": "code",
   "execution_count": 51,
   "metadata": {
    "ExecuteTime": {
     "end_time": "2016-11-20T12:08:12.316340",
     "start_time": "2016-11-20T12:08:12.282369"
    },
    "collapsed": true
   },
   "outputs": [],
   "source": [
    "def alarm_clock(day, vacation):\n",
    "  \n",
    "  weekend = [6,0]\n",
    "  \n",
    "  if vacation:\n",
    "    if day in weekend:\n",
    "      clock = 'off'\n",
    "    else:\n",
    "      clock = '10:00'\n",
    "  else:\n",
    "    if day in weekend:\n",
    "      clock = '10:00'\n",
    "    else:\n",
    "      clock = '7.00'\n",
    "  \n",
    "  return clock\n"
   ]
  },
  {
   "cell_type": "code",
   "execution_count": 52,
   "metadata": {
    "ExecuteTime": {
     "end_time": "2016-11-20T12:08:29.364861",
     "start_time": "2016-11-20T12:08:29.351071"
    },
    "collapsed": false
   },
   "outputs": [
    {
     "data": {
      "text/plain": [
       "'7.00'"
      ]
     },
     "execution_count": 52,
     "metadata": {},
     "output_type": "execute_result"
    }
   ],
   "source": [
    "alarm_clock(1, False)"
   ]
  },
  {
   "cell_type": "code",
   "execution_count": null,
   "metadata": {
    "collapsed": true
   },
   "outputs": [],
   "source": []
  }
 ],
 "metadata": {
  "anaconda-cloud": {},
  "kernelspec": {
   "display_name": "Python [Root]",
   "language": "python",
   "name": "Python [Root]"
  },
  "language_info": {
   "codemirror_mode": {
    "name": "ipython",
    "version": 2
   },
   "file_extension": ".py",
   "mimetype": "text/x-python",
   "name": "python",
   "nbconvert_exporter": "python",
   "pygments_lexer": "ipython2",
   "version": "2.7.12"
  },
  "toc": {
   "nav_menu": {
    "height": "12px",
    "width": "252px"
   },
   "navigate_menu": true,
   "number_sections": true,
   "sideBar": true,
   "threshold": 4,
   "toc_cell": false,
   "toc_section_display": "block",
   "toc_window_display": false
  }
 },
 "nbformat": 4,
 "nbformat_minor": 0
}
