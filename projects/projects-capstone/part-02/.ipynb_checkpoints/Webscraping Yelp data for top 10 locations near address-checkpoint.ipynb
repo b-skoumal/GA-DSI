{
 "cells": [
  {
   "cell_type": "markdown",
   "metadata": {},
   "source": [
    "# Get yelp reviews for top 10 locations within walking distance from rental locations"
   ]
  },
  {
   "cell_type": "markdown",
   "metadata": {},
   "source": [
    "## Approach\n",
    "\n",
    "1. Go to yelp website\n",
    "2. Search for top 10 locations near each address\n",
    "\n",
    "    a. For each location:\n",
    "        - Name of business\n",
    "        - Rating\n",
    "        - Number of reviews\n",
    "        - $ rating\n",
    "        - Categories of business\n",
    "        - Address\n",
    "        \n",
    "4. Go into respective review sites for each location\n",
    "    \n",
    "    a. Get the following:\n",
    "        - Top 20 review corpus\n",
    "        - Location of reviewer"
   ]
  },
  {
   "cell_type": "code",
   "execution_count": null,
   "metadata": {
    "collapsed": true
   },
   "outputs": [],
   "source": []
  },
  {
   "cell_type": "code",
   "execution_count": 2,
   "metadata": {
    "ExecuteTime": {
     "end_time": "2016-11-21T10:21:43.792381",
     "start_time": "2016-11-21T10:21:42.086534"
    },
    "collapsed": true
   },
   "outputs": [],
   "source": [
    "import pandas as pd\n",
    "import numpy as np"
   ]
  },
  {
   "cell_type": "code",
   "execution_count": 3,
   "metadata": {
    "ExecuteTime": {
     "end_time": "2016-11-21T10:21:44.750695",
     "start_time": "2016-11-21T10:21:44.657383"
    },
    "collapsed": false
   },
   "outputs": [
    {
     "data": {
      "text/html": [
       "<div>\n",
       "<table border=\"1\" class=\"dataframe\">\n",
       "  <thead>\n",
       "    <tr style=\"text-align: right;\">\n",
       "      <th></th>\n",
       "      <th>Unnamed: 0</th>\n",
       "      <th>Unnamed: 0.1</th>\n",
       "      <th>Full_Street_address</th>\n",
       "      <th>SF_avail</th>\n",
       "      <th>Price_per_sf_per_year</th>\n",
       "      <th>Prop_desc</th>\n",
       "      <th>Latitude</th>\n",
       "      <th>Longitude</th>\n",
       "      <th>City</th>\n",
       "      <th>Zipcode</th>\n",
       "    </tr>\n",
       "  </thead>\n",
       "  <tbody>\n",
       "    <tr>\n",
       "      <th>0</th>\n",
       "      <td>0</td>\n",
       "      <td>0</td>\n",
       "      <td>327 W 57th St, New York, NY 10019</td>\n",
       "      <td>3840</td>\n",
       "      <td>118.75</td>\n",
       "      <td>(\"Amazing Location! Perfect for Restaurant or ...</td>\n",
       "      <td>40.767498</td>\n",
       "      <td>-73.984111</td>\n",
       "      <td>New York</td>\n",
       "      <td>10019</td>\n",
       "    </tr>\n",
       "    <tr>\n",
       "      <th>1</th>\n",
       "      <td>1</td>\n",
       "      <td>1</td>\n",
       "      <td>118 West 14th Street, New York, NY 10011</td>\n",
       "      <td>4200</td>\n",
       "      <td>140.00</td>\n",
       "      <td>('Prime retail at the base of a luxury residen...</td>\n",
       "      <td>40.737628</td>\n",
       "      <td>-73.997937</td>\n",
       "      <td>New York</td>\n",
       "      <td>10011</td>\n",
       "    </tr>\n",
       "    <tr>\n",
       "      <th>2</th>\n",
       "      <td>2</td>\n",
       "      <td>2</td>\n",
       "      <td>778 Nostrand Ave, Brooklyn, NY 11215</td>\n",
       "      <td>1669</td>\n",
       "      <td>39.54</td>\n",
       "      <td>('Prime Retail Space located on the main strip...</td>\n",
       "      <td>40.672089</td>\n",
       "      <td>-73.950522</td>\n",
       "      <td>Brooklyn</td>\n",
       "      <td>11215</td>\n",
       "    </tr>\n",
       "    <tr>\n",
       "      <th>3</th>\n",
       "      <td>3</td>\n",
       "      <td>3</td>\n",
       "      <td>5 Court Square, Long Island City, NY 11101</td>\n",
       "      <td>3500</td>\n",
       "      <td>35.00</td>\n",
       "      <td>('Immediate possession,  2   5 year lease term...</td>\n",
       "      <td>40.746630</td>\n",
       "      <td>-73.942833</td>\n",
       "      <td>Long Island City</td>\n",
       "      <td>11101</td>\n",
       "    </tr>\n",
       "    <tr>\n",
       "      <th>4</th>\n",
       "      <td>4</td>\n",
       "      <td>4</td>\n",
       "      <td>16 W 8th Street, New York, NY 10011</td>\n",
       "      <td>1163</td>\n",
       "      <td>149.61</td>\n",
       "      <td>('Excellent space steps from Washington Square...</td>\n",
       "      <td>40.732584</td>\n",
       "      <td>-73.997463</td>\n",
       "      <td>New York</td>\n",
       "      <td>10011</td>\n",
       "    </tr>\n",
       "  </tbody>\n",
       "</table>\n",
       "</div>"
      ],
      "text/plain": [
       "   Unnamed: 0  Unnamed: 0.1                         Full_Street_address  \\\n",
       "0           0             0           327 W 57th St, New York, NY 10019   \n",
       "1           1             1    118 West 14th Street, New York, NY 10011   \n",
       "2           2             2        778 Nostrand Ave, Brooklyn, NY 11215   \n",
       "3           3             3  5 Court Square, Long Island City, NY 11101   \n",
       "4           4             4         16 W 8th Street, New York, NY 10011   \n",
       "\n",
       "   SF_avail  Price_per_sf_per_year  \\\n",
       "0      3840                 118.75   \n",
       "1      4200                 140.00   \n",
       "2      1669                  39.54   \n",
       "3      3500                  35.00   \n",
       "4      1163                 149.61   \n",
       "\n",
       "                                           Prop_desc   Latitude  Longitude  \\\n",
       "0  (\"Amazing Location! Perfect for Restaurant or ...  40.767498 -73.984111   \n",
       "1  ('Prime retail at the base of a luxury residen...  40.737628 -73.997937   \n",
       "2  ('Prime Retail Space located on the main strip...  40.672089 -73.950522   \n",
       "3  ('Immediate possession,  2   5 year lease term...  40.746630 -73.942833   \n",
       "4  ('Excellent space steps from Washington Square...  40.732584 -73.997463   \n",
       "\n",
       "               City  Zipcode  \n",
       "0          New York    10019  \n",
       "1          New York    10011  \n",
       "2          Brooklyn    11215  \n",
       "3  Long Island City    11101  \n",
       "4          New York    10011  "
      ]
     },
     "execution_count": 3,
     "metadata": {},
     "output_type": "execute_result"
    }
   ],
   "source": [
    "rent = pd.read_csv('../part-02/assets/data/cityfeet_retail_rental.csv')\n",
    "rent.head()"
   ]
  },
  {
   "cell_type": "code",
   "execution_count": 4,
   "metadata": {
    "ExecuteTime": {
     "end_time": "2016-11-21T10:22:18.366296",
     "start_time": "2016-11-21T10:22:18.294758"
    },
    "collapsed": false
   },
   "outputs": [
    {
     "data": {
      "text/html": [
       "<div>\n",
       "<table border=\"1\" class=\"dataframe\">\n",
       "  <thead>\n",
       "    <tr style=\"text-align: right;\">\n",
       "      <th></th>\n",
       "      <th>Full_Street_address</th>\n",
       "      <th>SF_avail</th>\n",
       "      <th>Price_per_sf_per_year</th>\n",
       "      <th>Prop_desc</th>\n",
       "      <th>Latitude</th>\n",
       "      <th>Longitude</th>\n",
       "      <th>City</th>\n",
       "      <th>Zipcode</th>\n",
       "    </tr>\n",
       "  </thead>\n",
       "  <tbody>\n",
       "    <tr>\n",
       "      <th>0</th>\n",
       "      <td>327 W 57th St, New York, NY 10019</td>\n",
       "      <td>3840</td>\n",
       "      <td>118.75</td>\n",
       "      <td>(\"Amazing Location! Perfect for Restaurant or ...</td>\n",
       "      <td>40.767498</td>\n",
       "      <td>-73.984111</td>\n",
       "      <td>New York</td>\n",
       "      <td>10019</td>\n",
       "    </tr>\n",
       "    <tr>\n",
       "      <th>1</th>\n",
       "      <td>118 West 14th Street, New York, NY 10011</td>\n",
       "      <td>4200</td>\n",
       "      <td>140.00</td>\n",
       "      <td>('Prime retail at the base of a luxury residen...</td>\n",
       "      <td>40.737628</td>\n",
       "      <td>-73.997937</td>\n",
       "      <td>New York</td>\n",
       "      <td>10011</td>\n",
       "    </tr>\n",
       "    <tr>\n",
       "      <th>2</th>\n",
       "      <td>778 Nostrand Ave, Brooklyn, NY 11215</td>\n",
       "      <td>1669</td>\n",
       "      <td>39.54</td>\n",
       "      <td>('Prime Retail Space located on the main strip...</td>\n",
       "      <td>40.672089</td>\n",
       "      <td>-73.950522</td>\n",
       "      <td>Brooklyn</td>\n",
       "      <td>11215</td>\n",
       "    </tr>\n",
       "    <tr>\n",
       "      <th>3</th>\n",
       "      <td>5 Court Square, Long Island City, NY 11101</td>\n",
       "      <td>3500</td>\n",
       "      <td>35.00</td>\n",
       "      <td>('Immediate possession,  2   5 year lease term...</td>\n",
       "      <td>40.746630</td>\n",
       "      <td>-73.942833</td>\n",
       "      <td>Long Island City</td>\n",
       "      <td>11101</td>\n",
       "    </tr>\n",
       "    <tr>\n",
       "      <th>4</th>\n",
       "      <td>16 W 8th Street, New York, NY 10011</td>\n",
       "      <td>1163</td>\n",
       "      <td>149.61</td>\n",
       "      <td>('Excellent space steps from Washington Square...</td>\n",
       "      <td>40.732584</td>\n",
       "      <td>-73.997463</td>\n",
       "      <td>New York</td>\n",
       "      <td>10011</td>\n",
       "    </tr>\n",
       "  </tbody>\n",
       "</table>\n",
       "</div>"
      ],
      "text/plain": [
       "                          Full_Street_address  SF_avail  \\\n",
       "0           327 W 57th St, New York, NY 10019      3840   \n",
       "1    118 West 14th Street, New York, NY 10011      4200   \n",
       "2        778 Nostrand Ave, Brooklyn, NY 11215      1669   \n",
       "3  5 Court Square, Long Island City, NY 11101      3500   \n",
       "4         16 W 8th Street, New York, NY 10011      1163   \n",
       "\n",
       "   Price_per_sf_per_year                                          Prop_desc  \\\n",
       "0                 118.75  (\"Amazing Location! Perfect for Restaurant or ...   \n",
       "1                 140.00  ('Prime retail at the base of a luxury residen...   \n",
       "2                  39.54  ('Prime Retail Space located on the main strip...   \n",
       "3                  35.00  ('Immediate possession,  2   5 year lease term...   \n",
       "4                 149.61  ('Excellent space steps from Washington Square...   \n",
       "\n",
       "    Latitude  Longitude              City  Zipcode  \n",
       "0  40.767498 -73.984111          New York    10019  \n",
       "1  40.737628 -73.997937          New York    10011  \n",
       "2  40.672089 -73.950522          Brooklyn    11215  \n",
       "3  40.746630 -73.942833  Long Island City    11101  \n",
       "4  40.732584 -73.997463          New York    10011  "
      ]
     },
     "execution_count": 4,
     "metadata": {},
     "output_type": "execute_result"
    }
   ],
   "source": [
    "del rent['Unnamed: 0']\n",
    "del rent['Unnamed: 0.1']\n",
    "rent.head()"
   ]
  },
  {
   "cell_type": "code",
   "execution_count": 62,
   "metadata": {
    "ExecuteTime": {
     "end_time": "2016-11-21T17:14:03.408863",
     "start_time": "2016-11-21T17:14:03.214634"
    },
    "collapsed": false
   },
   "outputs": [
    {
     "name": "stdout",
     "output_type": "stream",
     "text": [
      "<class 'pandas.core.frame.DataFrame'>\n",
      "RangeIndex: 1128 entries, 0 to 1127\n",
      "Data columns (total 8 columns):\n",
      "Full_Street_address      1128 non-null object\n",
      "SF_avail                 1128 non-null int64\n",
      "Price_per_sf_per_year    1128 non-null float64\n",
      "Prop_desc                1020 non-null object\n",
      "Latitude                 1120 non-null float64\n",
      "Longitude                1120 non-null float64\n",
      "City                     1128 non-null object\n",
      "Zipcode                  1128 non-null int64\n",
      "dtypes: float64(3), int64(2), object(3)\n",
      "memory usage: 70.6+ KB\n"
     ]
    }
   ],
   "source": [
    "rent.info()"
   ]
  },
  {
   "cell_type": "code",
   "execution_count": 5,
   "metadata": {
    "ExecuteTime": {
     "end_time": "2016-11-21T10:22:35.288978",
     "start_time": "2016-11-21T10:22:35.263091"
    },
    "collapsed": true
   },
   "outputs": [],
   "source": [
    "rent.to_csv('../part-02/assets/data/cityfeet_retail_rental.csv')"
   ]
  },
  {
   "cell_type": "code",
   "execution_count": 6,
   "metadata": {
    "ExecuteTime": {
     "end_time": "2016-11-21T10:38:06.280263",
     "start_time": "2016-11-21T10:38:05.980354"
    },
    "collapsed": true
   },
   "outputs": [],
   "source": [
    "import re\n",
    "import requests\n",
    "from bs4 import BeautifulSoup"
   ]
  },
  {
   "cell_type": "code",
   "execution_count": 23,
   "metadata": {
    "ExecuteTime": {
     "end_time": "2016-11-21T13:14:01.643417",
     "start_time": "2016-11-21T13:14:01.613780"
    },
    "collapsed": false
   },
   "outputs": [
    {
     "data": {
      "text/html": [
       "<div>\n",
       "<table border=\"1\" class=\"dataframe\">\n",
       "  <thead>\n",
       "    <tr style=\"text-align: right;\">\n",
       "      <th></th>\n",
       "      <th>IP address</th>\n",
       "    </tr>\n",
       "  </thead>\n",
       "  <tbody>\n",
       "    <tr>\n",
       "      <th>0</th>\n",
       "      <td>6secs   120.25.235.11   8089     flag  China</td>\n",
       "    </tr>\n",
       "    <tr>\n",
       "      <th>1</th>\n",
       "      <td>HTTP    High +KA</td>\n",
       "    </tr>\n",
       "    <tr>\n",
       "      <th>2</th>\n",
       "      <td>3mins   78.21.187.112   80   flag  Belgium</td>\n",
       "    </tr>\n",
       "    <tr>\n",
       "      <th>3</th>\n",
       "      <td>HTTP    High +KA</td>\n",
       "    </tr>\n",
       "    <tr>\n",
       "      <th>4</th>\n",
       "      <td>5mins   202.171.253.72  80   flag  Macao</td>\n",
       "    </tr>\n",
       "  </tbody>\n",
       "</table>\n",
       "</div>"
      ],
      "text/plain": [
       "                                         IP address\n",
       "0  6secs   120.25.235.11   8089     flag  China    \n",
       "1                                  HTTP    High +KA\n",
       "2      3mins   78.21.187.112   80   flag  Belgium  \n",
       "3                                  HTTP    High +KA\n",
       "4      5mins   202.171.253.72  80   flag  Macao    "
      ]
     },
     "execution_count": 23,
     "metadata": {},
     "output_type": "execute_result"
    }
   ],
   "source": [
    "ip = pd.read_csv('IP_address.txt', sep = '\\t')\n",
    "#ip = ip[0].tolist()\n",
    "ip.head()"
   ]
  },
  {
   "cell_type": "code",
   "execution_count": 24,
   "metadata": {
    "ExecuteTime": {
     "end_time": "2016-11-21T13:16:46.556790",
     "start_time": "2016-11-21T13:16:46.550778"
    },
    "collapsed": true
   },
   "outputs": [],
   "source": [
    "import re"
   ]
  },
  {
   "cell_type": "code",
   "execution_count": 28,
   "metadata": {
    "ExecuteTime": {
     "end_time": "2016-11-21T13:20:20.597715",
     "start_time": "2016-11-21T13:20:20.592644"
    },
    "collapsed": true
   },
   "outputs": [],
   "source": [
    "#x = '6secs 120.25.235.11 8089 flag China'\n",
    "x = 'HTTP High +KA'"
   ]
  },
  {
   "cell_type": "code",
   "execution_count": 30,
   "metadata": {
    "ExecuteTime": {
     "end_time": "2016-11-21T13:21:50.603310",
     "start_time": "2016-11-21T13:21:50.591721"
    },
    "collapsed": true
   },
   "outputs": [],
   "source": [
    "def get_ip(x):\n",
    "    try:\n",
    "        return re.findall('\\d+.\\d+.\\d+.\\d+', x)[0]\n",
    "    except:\n",
    "        return ''"
   ]
  },
  {
   "cell_type": "code",
   "execution_count": 31,
   "metadata": {
    "ExecuteTime": {
     "end_time": "2016-11-21T13:22:04.805985",
     "start_time": "2016-11-21T13:22:04.784614"
    },
    "collapsed": false
   },
   "outputs": [],
   "source": [
    "ip['ip'] = ip['IP address'].apply(get_ip)\n",
    "\n"
   ]
  },
  {
   "cell_type": "code",
   "execution_count": 38,
   "metadata": {
    "ExecuteTime": {
     "end_time": "2016-11-21T13:26:21.171163",
     "start_time": "2016-11-21T13:26:21.143912"
    },
    "collapsed": false
   },
   "outputs": [
    {
     "data": {
      "text/plain": [
       "['195.5.217.102',\n",
       " '124.88.67.83',\n",
       " '190.36.92.34',\n",
       " '41.188.56.105',\n",
       " '124.133.230.254',\n",
       " '124.88.67.17',\n",
       " '92.42.249.229',\n",
       " '107.17.100.254',\n",
       " '123.30.238.16',\n",
       " '97.77.104.22',\n",
       " '190.121.158.114',\n",
       " '91.217.42.2',\n",
       " '80.90.229.40',\n",
       " '41.79.60.202',\n",
       " '182.253.193.34',\n",
       " '195.5.222.102',\n",
       " '202.147.206.114',\n",
       " '77.50.220.92',\n",
       " '182.253.4.26',\n",
       " '195.209.107.148',\n",
       " '202.21.116.13',\n",
       " '94.20.61.124',\n",
       " '78.21.187.112',\n",
       " '137.135.166.225',\n",
       " '195.5.222.210',\n",
       " '115.28.170.44',\n",
       " '41.188.49.210',\n",
       " '189.85.20.21',\n",
       " '185.6.88.80',\n",
       " '49.128.38.167',\n",
       " '66.175.83.156',\n",
       " '82.139.113.237',\n",
       " '208.47.176.252',\n",
       " '207.5.112.114',\n",
       " '92.110.98.125',\n",
       " '188.113.138.238',\n",
       " '137.74.254.198',\n",
       " '221.176.153.94',\n",
       " '200.85.37.254',\n",
       " '175.103.46.154',\n",
       " '200.29.191.149',\n",
       " '203.201.172.90',\n",
       " '193.227.49.83',\n",
       " '80.87.81.102',\n",
       " '139.0.28.18',\n",
       " '218.191.247.51',\n",
       " '178.22.148.122',\n",
       " '204.29.115.149',\n",
       " '94.181.34.64',\n",
       " '92.222.107.238',\n",
       " '218.7.156.13',\n",
       " '101.200.141.114',\n",
       " '168.63.20.19',\n",
       " '182.253.38.102',\n",
       " '182.253.19.90',\n",
       " '80.75.85.42',\n",
       " '201.87.244.1',\n",
       " '178.166.41.225',\n",
       " '14.201.122.140',\n",
       " '223.19.212.121',\n",
       " '203.130.237.123',\n",
       " '111.11.184.119',\n",
       " '47.88.195.233',\n",
       " '101.200.143.168',\n",
       " '60.169.78.218',\n",
       " '92.222.109.71',\n",
       " '52.6.184.92',\n",
       " '194.154.74.210',\n",
       " '41.242.90.3',\n",
       " '113.253.13.205',\n",
       " '183.131.76.27',\n",
       " '114.6.34.194',\n",
       " '122.96.59.105',\n",
       " '59.90.100.57',\n",
       " '31.25.141.148',\n",
       " '189.202.216.137',\n",
       " '124.88.67.24',\n",
       " '12.41.141.10',\n",
       " '78.47.49.183',\n",
       " '124.88.67.20',\n",
       " '182.253.32.93',\n",
       " '92.222.109.43',\n",
       " '124.206.133.227',\n",
       " '177.43.72.251',\n",
       " '177.23.137.157',\n",
       " '92.222.109.68',\n",
       " '112.214.73.253',\n",
       " '185.23.142.89',\n",
       " '201.243.206.221',\n",
       " '211.143.45.216',\n",
       " '202.56.203.40',\n",
       " '201.55.143.1',\n",
       " '58.176.46.248',\n",
       " '124.88.67.32',\n",
       " '195.182.141.2',\n",
       " '208.99.185.55',\n",
       " '178.32.218.91',\n",
       " '60.21.209.114',\n",
       " '178.62.88.50',\n",
       " '222.82.222.242',\n",
       " '222.33.192.238',\n",
       " '176.194.189.56',\n",
       " '59.107.26.220',\n",
       " '118.144.151.145',\n",
       " '201.166.152.114',\n",
       " '37.191.41.113',\n",
       " '58.96.182.226',\n",
       " '190.203.72.219',\n",
       " '203.223.143.51',\n",
       " '120.76.203.31',\n",
       " '142.0.128.217',\n",
       " '92.47.195.250',\n",
       " '118.97.15.106',\n",
       " '49.231.150.233',\n",
       " '178.62.84.228',\n",
       " '86.100.118.44',\n",
       " '171.96.148.169',\n",
       " '177.86.24.194',\n",
       " '120.25.235.11',\n",
       " '180.250.149.73',\n",
       " '120.76.79.21',\n",
       " '66.98.34.2',\n",
       " '62.210.37.79',\n",
       " '92.222.107.50',\n",
       " '41.87.164.49',\n",
       " '92.222.153.162',\n",
       " '112.78.178.12',\n",
       " '153.99.21.159',\n",
       " '88.159.43.160',\n",
       " '187.167.215.248',\n",
       " '63.150.152.151',\n",
       " '150.188.232.243',\n",
       " '217.23.90.10',\n",
       " '113.255.49.49',\n",
       " '94.46.163.253',\n",
       " '92.222.107.221',\n",
       " '103.28.227.26',\n",
       " '92.222.107.180',\n",
       " '43.229.84.159',\n",
       " '92.222.107.183',\n",
       " '124.88.67.54',\n",
       " '149.202.34.104',\n",
       " '41.231.120.118',\n",
       " '185.15.42.53',\n",
       " '180.183.255.193',\n",
       " '168.63.24.174',\n",
       " '90.152.38.179',\n",
       " '90.152.38.178',\n",
       " '182.255.47.116',\n",
       " '80.1.116.80',\n",
       " '80.242.219.50',\n",
       " '61.91.54.42',\n",
       " '202.171.253.72',\n",
       " '119.42.80.226',\n",
       " '218.56.132.154',\n",
       " '218.56.132.155',\n",
       " '113.252.236.96',\n",
       " '118.69.205.201',\n",
       " '187.44.1.54',\n",
       " '212.80.167.93',\n",
       " '212.138.92.17',\n",
       " '118.97.239.146',\n",
       " '78.83.201.101',\n",
       " '59.127.38.117',\n",
       " '27.223.10.171',\n",
       " '183.82.56.201',\n",
       " '94.200.231.130',\n",
       " '77.43.147.114',\n",
       " '117.158.1.210',\n",
       " '70.164.255.172',\n",
       " '173.220.170.242',\n",
       " '80.219.224.247']"
      ]
     },
     "execution_count": 38,
     "metadata": {},
     "output_type": "execute_result"
    }
   ],
   "source": [
    "ip_list = ip['ip'].tolist()\n",
    "ip_list = set(ip_list)\n",
    "ip_list = list(ip_list)\n",
    "ip_list.remove('')\n",
    "ip_list"
   ]
  },
  {
   "cell_type": "code",
   "execution_count": 39,
   "metadata": {
    "ExecuteTime": {
     "end_time": "2016-11-21T13:31:51.775570",
     "start_time": "2016-11-21T13:31:51.766904"
    },
    "collapsed": false
   },
   "outputs": [
    {
     "data": {
      "text/plain": [
       "172"
      ]
     },
     "execution_count": 39,
     "metadata": {},
     "output_type": "execute_result"
    }
   ],
   "source": [
    "len(ip_list)"
   ]
  },
  {
   "cell_type": "code",
   "execution_count": 13,
   "metadata": {
    "ExecuteTime": {
     "end_time": "2016-11-21T12:51:01.145840",
     "start_time": "2016-11-21T12:51:01.139566"
    },
    "collapsed": true
   },
   "outputs": [],
   "source": [
    "import random"
   ]
  },
  {
   "cell_type": "code",
   "execution_count": 40,
   "metadata": {
    "ExecuteTime": {
     "end_time": "2016-11-21T13:32:04.807659",
     "start_time": "2016-11-21T13:32:04.798504"
    },
    "collapsed": false
   },
   "outputs": [
    {
     "data": {
      "text/plain": [
       "'202.147.206.114'"
      ]
     },
     "execution_count": 40,
     "metadata": {},
     "output_type": "execute_result"
    }
   ],
   "source": [
    "np.random.choice(ip_list)"
   ]
  },
  {
   "cell_type": "code",
   "execution_count": 49,
   "metadata": {
    "ExecuteTime": {
     "end_time": "2016-11-21T14:01:45.109757",
     "start_time": "2016-11-21T14:01:45.098800"
    },
    "collapsed": false
   },
   "outputs": [
    {
     "data": {
      "text/plain": [
       "['327', 'W', '57th', 'St', 'New', 'York', 'NY', '10019']"
      ]
     },
     "execution_count": 49,
     "metadata": {},
     "output_type": "execute_result"
    }
   ],
   "source": [
    "a = rent['Full_Street_address'][0]\n",
    "a = a.replace(',', '')\n",
    "a.split()"
   ]
  },
  {
   "cell_type": "code",
   "execution_count": 51,
   "metadata": {
    "ExecuteTime": {
     "end_time": "2016-11-21T14:02:17.364079",
     "start_time": "2016-11-21T14:02:17.355937"
    },
    "collapsed": false
   },
   "outputs": [
    {
     "name": "stdout",
     "output_type": "stream",
     "text": [
      "327+W+57th+St+New+York+NY+10019\n"
     ]
    }
   ],
   "source": [
    "out = ''\n",
    "for i in a.split():\n",
    "    out += i+'+'\n",
    "    \n",
    "print out[:-1]"
   ]
  },
  {
   "cell_type": "code",
   "execution_count": 52,
   "metadata": {
    "ExecuteTime": {
     "end_time": "2016-11-21T14:05:47.183794",
     "start_time": "2016-11-21T14:05:47.168993"
    },
    "collapsed": true
   },
   "outputs": [],
   "source": [
    "def get_listings(result):\n",
    "    \n",
    "    listings = []\n",
    "    \n",
    "    for d in result.findAll(class_ = \"regular-search-result\"):\n",
    "\n",
    "        listings.append(d)\n",
    "\n",
    "    return listings"
   ]
  },
  {
   "cell_type": "code",
   "execution_count": 54,
   "metadata": {
    "ExecuteTime": {
     "end_time": "2016-11-21T14:06:18.754793",
     "start_time": "2016-11-21T14:06:14.804606"
    },
    "collapsed": false
   },
   "outputs": [],
   "source": [
    "# Loopnet banned my ip address while scrapping, so had to use a proxy IP address\n",
    "\n",
    "prox = 'http://' + np.random.choice(ip_list)\n",
    "\n",
    "url1 = 'https://www.yelp.com/search?find_desc=&find_loc='\n",
    "\n",
    "url2 = out[:-1]\n",
    "\n",
    "proxies = {\n",
    "    'http':prox\n",
    "    }\n",
    "\n",
    "url = url1 + url2\n",
    "\n",
    "r = requests.get(url, proxies=proxies)\n",
    "\n",
    "page = r.content\n",
    "soup = BeautifulSoup(page, 'lxml')\n",
    "\n",
    "results = (get_listings(soup))"
   ]
  },
  {
   "cell_type": "code",
   "execution_count": 55,
   "metadata": {
    "ExecuteTime": {
     "end_time": "2016-11-21T14:06:27.538344",
     "start_time": "2016-11-21T14:06:27.531032"
    },
    "collapsed": false
   },
   "outputs": [
    {
     "data": {
      "text/plain": [
       "10"
      ]
     },
     "execution_count": 55,
     "metadata": {},
     "output_type": "execute_result"
    }
   ],
   "source": [
    "len(results)"
   ]
  },
  {
   "cell_type": "code",
   "execution_count": 65,
   "metadata": {
    "ExecuteTime": {
     "end_time": "2016-11-21T20:36:38.804838",
     "start_time": "2016-11-21T20:36:38.614236"
    },
    "collapsed": true
   },
   "outputs": [],
   "source": [
    "# Functions to get listing details from scrapped website(s)\n",
    "\n",
    "def get_listing_details(listing_placard):\n",
    "    \n",
    "    overall = []\n",
    "    name = []\n",
    "    rating =[]\n",
    "    review_count = []\n",
    "    cost = []\n",
    "    cate = []\n",
    "    address = []\n",
    "    web =[]\n",
    "        \n",
    "    # Name\n",
    "    try:\n",
    "        \n",
    "        for d in soup.findAll(class_='biz-name js-analytics-click'):\n",
    "            name.append(d.text.strip())\n",
    "                 \n",
    "    except:\n",
    "        name.append('')\n",
    "    \n",
    "    # Rating\n",
    "    try:\n",
    "        for d in soup.findAll(class_='biz-rating biz-rating-large clearfix'):\n",
    "            rating.append(d.find('div')['title'].strip())\n",
    "\n",
    "    except:\n",
    "        rating.append('')\n",
    "     \n",
    "    # Number of reviews\n",
    "    try:\n",
    "        for d in soup.findAll(class_='biz-rating biz-rating-large clearfix'):\n",
    "            review_count.append(d.text.strip())\n",
    "    except:\n",
    "        review_count.append('')\n",
    "    \n",
    "    # $ ratings\n",
    "    try:\n",
    "        for d in soup.findAll(class_='business-attribute price-range'):\n",
    "            cost.append(d.text.strip())\n",
    "    except:\n",
    "        cost.append('')\n",
    "    \n",
    "    # Category of business\n",
    "    try:\n",
    "        for d in soup.findAll(class_='category-str-list'):\n",
    "            cate.append(d.text.strip().split())\n",
    "    except:\n",
    "        cate.append('')\n",
    "    \n",
    "    # street address\n",
    "    try:\n",
    "        for d in soup.findAll(class_='secondary-attributes'):\n",
    "            address.append(d.find('address').text.strip())\n",
    "    except:\n",
    "        address.append('')\n",
    "    \n",
    "    # Web address\n",
    "    try:\n",
    "        listi=[]\n",
    "        for d in soup.findAll(class_='js-analytics-click'):\n",
    "\n",
    "            listi.append(d['href'])\n",
    "        \n",
    "        web.append('https://www.yelp.com/biz'+set(listi)[0])\n",
    "\n",
    "    except:\n",
    "        web.append('')\n",
    "    \n",
    "    overall.append(name)\n",
    "    overall.append(rating)\n",
    "    overall.append(review_count)\n",
    "    overall.append(cost)\n",
    "    overall.append(cate)\n",
    "    overall.append(address)\n",
    "    overall.append(web)\n",
    "    \n",
    "    return overall"
   ]
  },
  {
   "cell_type": "code",
   "execution_count": 61,
   "metadata": {
    "ExecuteTime": {
     "end_time": "2016-11-21T17:12:18.306004",
     "start_time": "2016-11-21T16:57:52.592161"
    },
    "collapsed": false
   },
   "outputs": [
    {
     "ename": "KeyboardInterrupt",
     "evalue": "",
     "output_type": "error",
     "traceback": [
      "\u001b[0;31m---------------------------------------------------------------------------\u001b[0m",
      "\u001b[0;31mKeyboardInterrupt\u001b[0m                         Traceback (most recent call last)",
      "\u001b[0;32m<ipython-input-61-447f7181be3d>\u001b[0m in \u001b[0;36m<module>\u001b[0;34m()\u001b[0m\n\u001b[1;32m     21\u001b[0m     \u001b[0murl\u001b[0m \u001b[0;34m=\u001b[0m \u001b[0murl1\u001b[0m \u001b[0;34m+\u001b[0m \u001b[0murl2\u001b[0m\u001b[0;34m\u001b[0m\u001b[0m\n\u001b[1;32m     22\u001b[0m \u001b[0;34m\u001b[0m\u001b[0m\n\u001b[0;32m---> 23\u001b[0;31m     \u001b[0mr\u001b[0m \u001b[0;34m=\u001b[0m \u001b[0mrequests\u001b[0m\u001b[0;34m.\u001b[0m\u001b[0mget\u001b[0m\u001b[0;34m(\u001b[0m\u001b[0murl\u001b[0m\u001b[0;34m,\u001b[0m \u001b[0mproxies\u001b[0m\u001b[0;34m=\u001b[0m\u001b[0mproxies\u001b[0m\u001b[0;34m)\u001b[0m\u001b[0;34m\u001b[0m\u001b[0m\n\u001b[0m\u001b[1;32m     24\u001b[0m \u001b[0;34m\u001b[0m\u001b[0m\n\u001b[1;32m     25\u001b[0m     \u001b[0;32mif\u001b[0m \u001b[0mstr\u001b[0m\u001b[0;34m(\u001b[0m\u001b[0mr\u001b[0m\u001b[0;34m)\u001b[0m \u001b[0;34m==\u001b[0m \u001b[0;34m\"<Response [200]>\"\u001b[0m\u001b[0;34m:\u001b[0m\u001b[0;34m\u001b[0m\u001b[0m\n",
      "\u001b[0;32m//anaconda/lib/python2.7/site-packages/requests/api.pyc\u001b[0m in \u001b[0;36mget\u001b[0;34m(url, params, **kwargs)\u001b[0m\n\u001b[1;32m     65\u001b[0m \u001b[0;34m\u001b[0m\u001b[0m\n\u001b[1;32m     66\u001b[0m     \u001b[0mkwargs\u001b[0m\u001b[0;34m.\u001b[0m\u001b[0msetdefault\u001b[0m\u001b[0;34m(\u001b[0m\u001b[0;34m'allow_redirects'\u001b[0m\u001b[0;34m,\u001b[0m \u001b[0mTrue\u001b[0m\u001b[0;34m)\u001b[0m\u001b[0;34m\u001b[0m\u001b[0m\n\u001b[0;32m---> 67\u001b[0;31m     \u001b[0;32mreturn\u001b[0m \u001b[0mrequest\u001b[0m\u001b[0;34m(\u001b[0m\u001b[0;34m'get'\u001b[0m\u001b[0;34m,\u001b[0m \u001b[0murl\u001b[0m\u001b[0;34m,\u001b[0m \u001b[0mparams\u001b[0m\u001b[0;34m=\u001b[0m\u001b[0mparams\u001b[0m\u001b[0;34m,\u001b[0m \u001b[0;34m**\u001b[0m\u001b[0mkwargs\u001b[0m\u001b[0;34m)\u001b[0m\u001b[0;34m\u001b[0m\u001b[0m\n\u001b[0m\u001b[1;32m     68\u001b[0m \u001b[0;34m\u001b[0m\u001b[0m\n\u001b[1;32m     69\u001b[0m \u001b[0;34m\u001b[0m\u001b[0m\n",
      "\u001b[0;32m//anaconda/lib/python2.7/site-packages/requests/api.pyc\u001b[0m in \u001b[0;36mrequest\u001b[0;34m(method, url, **kwargs)\u001b[0m\n\u001b[1;32m     51\u001b[0m     \u001b[0;31m# cases, and look like a memory leak in others.\u001b[0m\u001b[0;34m\u001b[0m\u001b[0;34m\u001b[0m\u001b[0m\n\u001b[1;32m     52\u001b[0m     \u001b[0;32mwith\u001b[0m \u001b[0msessions\u001b[0m\u001b[0;34m.\u001b[0m\u001b[0mSession\u001b[0m\u001b[0;34m(\u001b[0m\u001b[0;34m)\u001b[0m \u001b[0;32mas\u001b[0m \u001b[0msession\u001b[0m\u001b[0;34m:\u001b[0m\u001b[0;34m\u001b[0m\u001b[0m\n\u001b[0;32m---> 53\u001b[0;31m         \u001b[0;32mreturn\u001b[0m \u001b[0msession\u001b[0m\u001b[0;34m.\u001b[0m\u001b[0mrequest\u001b[0m\u001b[0;34m(\u001b[0m\u001b[0mmethod\u001b[0m\u001b[0;34m=\u001b[0m\u001b[0mmethod\u001b[0m\u001b[0;34m,\u001b[0m \u001b[0murl\u001b[0m\u001b[0;34m=\u001b[0m\u001b[0murl\u001b[0m\u001b[0;34m,\u001b[0m \u001b[0;34m**\u001b[0m\u001b[0mkwargs\u001b[0m\u001b[0;34m)\u001b[0m\u001b[0;34m\u001b[0m\u001b[0m\n\u001b[0m\u001b[1;32m     54\u001b[0m \u001b[0;34m\u001b[0m\u001b[0m\n\u001b[1;32m     55\u001b[0m \u001b[0;34m\u001b[0m\u001b[0m\n",
      "\u001b[0;32m//anaconda/lib/python2.7/site-packages/requests/sessions.pyc\u001b[0m in \u001b[0;36mrequest\u001b[0;34m(self, method, url, params, data, headers, cookies, files, auth, timeout, allow_redirects, proxies, hooks, stream, verify, cert, json)\u001b[0m\n\u001b[1;32m    466\u001b[0m         }\n\u001b[1;32m    467\u001b[0m         \u001b[0msend_kwargs\u001b[0m\u001b[0;34m.\u001b[0m\u001b[0mupdate\u001b[0m\u001b[0;34m(\u001b[0m\u001b[0msettings\u001b[0m\u001b[0;34m)\u001b[0m\u001b[0;34m\u001b[0m\u001b[0m\n\u001b[0;32m--> 468\u001b[0;31m         \u001b[0mresp\u001b[0m \u001b[0;34m=\u001b[0m \u001b[0mself\u001b[0m\u001b[0;34m.\u001b[0m\u001b[0msend\u001b[0m\u001b[0;34m(\u001b[0m\u001b[0mprep\u001b[0m\u001b[0;34m,\u001b[0m \u001b[0;34m**\u001b[0m\u001b[0msend_kwargs\u001b[0m\u001b[0;34m)\u001b[0m\u001b[0;34m\u001b[0m\u001b[0m\n\u001b[0m\u001b[1;32m    469\u001b[0m \u001b[0;34m\u001b[0m\u001b[0m\n\u001b[1;32m    470\u001b[0m         \u001b[0;32mreturn\u001b[0m \u001b[0mresp\u001b[0m\u001b[0;34m\u001b[0m\u001b[0m\n",
      "\u001b[0;32m//anaconda/lib/python2.7/site-packages/requests/sessions.pyc\u001b[0m in \u001b[0;36msend\u001b[0;34m(self, request, **kwargs)\u001b[0m\n\u001b[1;32m    574\u001b[0m \u001b[0;34m\u001b[0m\u001b[0m\n\u001b[1;32m    575\u001b[0m         \u001b[0;31m# Send the request\u001b[0m\u001b[0;34m\u001b[0m\u001b[0;34m\u001b[0m\u001b[0m\n\u001b[0;32m--> 576\u001b[0;31m         \u001b[0mr\u001b[0m \u001b[0;34m=\u001b[0m \u001b[0madapter\u001b[0m\u001b[0;34m.\u001b[0m\u001b[0msend\u001b[0m\u001b[0;34m(\u001b[0m\u001b[0mrequest\u001b[0m\u001b[0;34m,\u001b[0m \u001b[0;34m**\u001b[0m\u001b[0mkwargs\u001b[0m\u001b[0;34m)\u001b[0m\u001b[0;34m\u001b[0m\u001b[0m\n\u001b[0m\u001b[1;32m    577\u001b[0m \u001b[0;34m\u001b[0m\u001b[0m\n\u001b[1;32m    578\u001b[0m         \u001b[0;31m# Total elapsed time of the request (approximately)\u001b[0m\u001b[0;34m\u001b[0m\u001b[0;34m\u001b[0m\u001b[0m\n",
      "\u001b[0;32m//anaconda/lib/python2.7/site-packages/requests/adapters.pyc\u001b[0m in \u001b[0;36msend\u001b[0;34m(self, request, stream, timeout, verify, cert, proxies)\u001b[0m\n\u001b[1;32m    374\u001b[0m                     \u001b[0mdecode_content\u001b[0m\u001b[0;34m=\u001b[0m\u001b[0mFalse\u001b[0m\u001b[0;34m,\u001b[0m\u001b[0;34m\u001b[0m\u001b[0m\n\u001b[1;32m    375\u001b[0m                     \u001b[0mretries\u001b[0m\u001b[0;34m=\u001b[0m\u001b[0mself\u001b[0m\u001b[0;34m.\u001b[0m\u001b[0mmax_retries\u001b[0m\u001b[0;34m,\u001b[0m\u001b[0;34m\u001b[0m\u001b[0m\n\u001b[0;32m--> 376\u001b[0;31m                     \u001b[0mtimeout\u001b[0m\u001b[0;34m=\u001b[0m\u001b[0mtimeout\u001b[0m\u001b[0;34m\u001b[0m\u001b[0m\n\u001b[0m\u001b[1;32m    377\u001b[0m                 )\n\u001b[1;32m    378\u001b[0m \u001b[0;34m\u001b[0m\u001b[0m\n",
      "\u001b[0;32m//anaconda/lib/python2.7/site-packages/requests/packages/urllib3/connectionpool.pyc\u001b[0m in \u001b[0;36murlopen\u001b[0;34m(self, method, url, body, headers, retries, redirect, assert_same_host, timeout, pool_timeout, release_conn, **response_kw)\u001b[0m\n\u001b[1;32m    557\u001b[0m             httplib_response = self._make_request(conn, method, url,\n\u001b[1;32m    558\u001b[0m                                                   \u001b[0mtimeout\u001b[0m\u001b[0;34m=\u001b[0m\u001b[0mtimeout_obj\u001b[0m\u001b[0;34m,\u001b[0m\u001b[0;34m\u001b[0m\u001b[0m\n\u001b[0;32m--> 559\u001b[0;31m                                                   body=body, headers=headers)\n\u001b[0m\u001b[1;32m    560\u001b[0m \u001b[0;34m\u001b[0m\u001b[0m\n\u001b[1;32m    561\u001b[0m             \u001b[0;31m# If we're going to release the connection in ``finally:``, then\u001b[0m\u001b[0;34m\u001b[0m\u001b[0;34m\u001b[0m\u001b[0m\n",
      "\u001b[0;32m//anaconda/lib/python2.7/site-packages/requests/packages/urllib3/connectionpool.pyc\u001b[0m in \u001b[0;36m_make_request\u001b[0;34m(self, conn, method, url, timeout, **httplib_request_kw)\u001b[0m\n\u001b[1;32m    374\u001b[0m         \u001b[0;32mtry\u001b[0m\u001b[0;34m:\u001b[0m\u001b[0;34m\u001b[0m\u001b[0m\n\u001b[1;32m    375\u001b[0m             \u001b[0;32mtry\u001b[0m\u001b[0;34m:\u001b[0m  \u001b[0;31m# Python 2.7, use buffering of HTTP responses\u001b[0m\u001b[0;34m\u001b[0m\u001b[0m\n\u001b[0;32m--> 376\u001b[0;31m                 \u001b[0mhttplib_response\u001b[0m \u001b[0;34m=\u001b[0m \u001b[0mconn\u001b[0m\u001b[0;34m.\u001b[0m\u001b[0mgetresponse\u001b[0m\u001b[0;34m(\u001b[0m\u001b[0mbuffering\u001b[0m\u001b[0;34m=\u001b[0m\u001b[0mTrue\u001b[0m\u001b[0;34m)\u001b[0m\u001b[0;34m\u001b[0m\u001b[0m\n\u001b[0m\u001b[1;32m    377\u001b[0m             \u001b[0;32mexcept\u001b[0m \u001b[0mTypeError\u001b[0m\u001b[0;34m:\u001b[0m  \u001b[0;31m# Python 2.6 and older\u001b[0m\u001b[0;34m\u001b[0m\u001b[0m\n\u001b[1;32m    378\u001b[0m                 \u001b[0mhttplib_response\u001b[0m \u001b[0;34m=\u001b[0m \u001b[0mconn\u001b[0m\u001b[0;34m.\u001b[0m\u001b[0mgetresponse\u001b[0m\u001b[0;34m(\u001b[0m\u001b[0;34m)\u001b[0m\u001b[0;34m\u001b[0m\u001b[0m\n",
      "\u001b[0;32m//anaconda/lib/python2.7/httplib.pyc\u001b[0m in \u001b[0;36mgetresponse\u001b[0;34m(self, buffering)\u001b[0m\n\u001b[1;32m   1134\u001b[0m \u001b[0;34m\u001b[0m\u001b[0m\n\u001b[1;32m   1135\u001b[0m         \u001b[0;32mtry\u001b[0m\u001b[0;34m:\u001b[0m\u001b[0;34m\u001b[0m\u001b[0m\n\u001b[0;32m-> 1136\u001b[0;31m             \u001b[0mresponse\u001b[0m\u001b[0;34m.\u001b[0m\u001b[0mbegin\u001b[0m\u001b[0;34m(\u001b[0m\u001b[0;34m)\u001b[0m\u001b[0;34m\u001b[0m\u001b[0m\n\u001b[0m\u001b[1;32m   1137\u001b[0m             \u001b[0;32massert\u001b[0m \u001b[0mresponse\u001b[0m\u001b[0;34m.\u001b[0m\u001b[0mwill_close\u001b[0m \u001b[0;34m!=\u001b[0m \u001b[0m_UNKNOWN\u001b[0m\u001b[0;34m\u001b[0m\u001b[0m\n\u001b[1;32m   1138\u001b[0m             \u001b[0mself\u001b[0m\u001b[0;34m.\u001b[0m\u001b[0m__state\u001b[0m \u001b[0;34m=\u001b[0m \u001b[0m_CS_IDLE\u001b[0m\u001b[0;34m\u001b[0m\u001b[0m\n",
      "\u001b[0;32m//anaconda/lib/python2.7/httplib.pyc\u001b[0m in \u001b[0;36mbegin\u001b[0;34m(self)\u001b[0m\n\u001b[1;32m    451\u001b[0m         \u001b[0;31m# read until we get a non-100 response\u001b[0m\u001b[0;34m\u001b[0m\u001b[0;34m\u001b[0m\u001b[0m\n\u001b[1;32m    452\u001b[0m         \u001b[0;32mwhile\u001b[0m \u001b[0mTrue\u001b[0m\u001b[0;34m:\u001b[0m\u001b[0;34m\u001b[0m\u001b[0m\n\u001b[0;32m--> 453\u001b[0;31m             \u001b[0mversion\u001b[0m\u001b[0;34m,\u001b[0m \u001b[0mstatus\u001b[0m\u001b[0;34m,\u001b[0m \u001b[0mreason\u001b[0m \u001b[0;34m=\u001b[0m \u001b[0mself\u001b[0m\u001b[0;34m.\u001b[0m\u001b[0m_read_status\u001b[0m\u001b[0;34m(\u001b[0m\u001b[0;34m)\u001b[0m\u001b[0;34m\u001b[0m\u001b[0m\n\u001b[0m\u001b[1;32m    454\u001b[0m             \u001b[0;32mif\u001b[0m \u001b[0mstatus\u001b[0m \u001b[0;34m!=\u001b[0m \u001b[0mCONTINUE\u001b[0m\u001b[0;34m:\u001b[0m\u001b[0;34m\u001b[0m\u001b[0m\n\u001b[1;32m    455\u001b[0m                 \u001b[0;32mbreak\u001b[0m\u001b[0;34m\u001b[0m\u001b[0m\n",
      "\u001b[0;32m//anaconda/lib/python2.7/httplib.pyc\u001b[0m in \u001b[0;36m_read_status\u001b[0;34m(self)\u001b[0m\n\u001b[1;32m    407\u001b[0m     \u001b[0;32mdef\u001b[0m \u001b[0m_read_status\u001b[0m\u001b[0;34m(\u001b[0m\u001b[0mself\u001b[0m\u001b[0;34m)\u001b[0m\u001b[0;34m:\u001b[0m\u001b[0;34m\u001b[0m\u001b[0m\n\u001b[1;32m    408\u001b[0m         \u001b[0;31m# Initialize with Simple-Response defaults\u001b[0m\u001b[0;34m\u001b[0m\u001b[0;34m\u001b[0m\u001b[0m\n\u001b[0;32m--> 409\u001b[0;31m         \u001b[0mline\u001b[0m \u001b[0;34m=\u001b[0m \u001b[0mself\u001b[0m\u001b[0;34m.\u001b[0m\u001b[0mfp\u001b[0m\u001b[0;34m.\u001b[0m\u001b[0mreadline\u001b[0m\u001b[0;34m(\u001b[0m\u001b[0m_MAXLINE\u001b[0m \u001b[0;34m+\u001b[0m \u001b[0;36m1\u001b[0m\u001b[0;34m)\u001b[0m\u001b[0;34m\u001b[0m\u001b[0m\n\u001b[0m\u001b[1;32m    410\u001b[0m         \u001b[0;32mif\u001b[0m \u001b[0mlen\u001b[0m\u001b[0;34m(\u001b[0m\u001b[0mline\u001b[0m\u001b[0;34m)\u001b[0m \u001b[0;34m>\u001b[0m \u001b[0m_MAXLINE\u001b[0m\u001b[0;34m:\u001b[0m\u001b[0;34m\u001b[0m\u001b[0m\n\u001b[1;32m    411\u001b[0m             \u001b[0;32mraise\u001b[0m \u001b[0mLineTooLong\u001b[0m\u001b[0;34m(\u001b[0m\u001b[0;34m\"header line\"\u001b[0m\u001b[0;34m)\u001b[0m\u001b[0;34m\u001b[0m\u001b[0m\n",
      "\u001b[0;32m//anaconda/lib/python2.7/socket.pyc\u001b[0m in \u001b[0;36mreadline\u001b[0;34m(self, size)\u001b[0m\n\u001b[1;32m    478\u001b[0m             \u001b[0;32mwhile\u001b[0m \u001b[0mTrue\u001b[0m\u001b[0;34m:\u001b[0m\u001b[0;34m\u001b[0m\u001b[0m\n\u001b[1;32m    479\u001b[0m                 \u001b[0;32mtry\u001b[0m\u001b[0;34m:\u001b[0m\u001b[0;34m\u001b[0m\u001b[0m\n\u001b[0;32m--> 480\u001b[0;31m                     \u001b[0mdata\u001b[0m \u001b[0;34m=\u001b[0m \u001b[0mself\u001b[0m\u001b[0;34m.\u001b[0m\u001b[0m_sock\u001b[0m\u001b[0;34m.\u001b[0m\u001b[0mrecv\u001b[0m\u001b[0;34m(\u001b[0m\u001b[0mself\u001b[0m\u001b[0;34m.\u001b[0m\u001b[0m_rbufsize\u001b[0m\u001b[0;34m)\u001b[0m\u001b[0;34m\u001b[0m\u001b[0m\n\u001b[0m\u001b[1;32m    481\u001b[0m                 \u001b[0;32mexcept\u001b[0m \u001b[0merror\u001b[0m\u001b[0;34m,\u001b[0m \u001b[0me\u001b[0m\u001b[0;34m:\u001b[0m\u001b[0;34m\u001b[0m\u001b[0m\n\u001b[1;32m    482\u001b[0m                     \u001b[0;32mif\u001b[0m \u001b[0me\u001b[0m\u001b[0;34m.\u001b[0m\u001b[0margs\u001b[0m\u001b[0;34m[\u001b[0m\u001b[0;36m0\u001b[0m\u001b[0;34m]\u001b[0m \u001b[0;34m==\u001b[0m \u001b[0mEINTR\u001b[0m\u001b[0;34m:\u001b[0m\u001b[0;34m\u001b[0m\u001b[0m\n",
      "\u001b[0;32m//anaconda/lib/python2.7/ssl.pyc\u001b[0m in \u001b[0;36mrecv\u001b[0;34m(self, buflen, flags)\u001b[0m\n\u001b[1;32m    754\u001b[0m                     \u001b[0;34m\"non-zero flags not allowed in calls to recv() on %s\"\u001b[0m \u001b[0;34m%\u001b[0m\u001b[0;34m\u001b[0m\u001b[0m\n\u001b[1;32m    755\u001b[0m                     self.__class__)\n\u001b[0;32m--> 756\u001b[0;31m             \u001b[0;32mreturn\u001b[0m \u001b[0mself\u001b[0m\u001b[0;34m.\u001b[0m\u001b[0mread\u001b[0m\u001b[0;34m(\u001b[0m\u001b[0mbuflen\u001b[0m\u001b[0;34m)\u001b[0m\u001b[0;34m\u001b[0m\u001b[0m\n\u001b[0m\u001b[1;32m    757\u001b[0m         \u001b[0;32melse\u001b[0m\u001b[0;34m:\u001b[0m\u001b[0;34m\u001b[0m\u001b[0m\n\u001b[1;32m    758\u001b[0m             \u001b[0;32mreturn\u001b[0m \u001b[0mself\u001b[0m\u001b[0;34m.\u001b[0m\u001b[0m_sock\u001b[0m\u001b[0;34m.\u001b[0m\u001b[0mrecv\u001b[0m\u001b[0;34m(\u001b[0m\u001b[0mbuflen\u001b[0m\u001b[0;34m,\u001b[0m \u001b[0mflags\u001b[0m\u001b[0;34m)\u001b[0m\u001b[0;34m\u001b[0m\u001b[0m\n",
      "\u001b[0;32m//anaconda/lib/python2.7/ssl.pyc\u001b[0m in \u001b[0;36mread\u001b[0;34m(self, len, buffer)\u001b[0m\n\u001b[1;32m    641\u001b[0m                 \u001b[0mv\u001b[0m \u001b[0;34m=\u001b[0m \u001b[0mself\u001b[0m\u001b[0;34m.\u001b[0m\u001b[0m_sslobj\u001b[0m\u001b[0;34m.\u001b[0m\u001b[0mread\u001b[0m\u001b[0;34m(\u001b[0m\u001b[0mlen\u001b[0m\u001b[0;34m,\u001b[0m \u001b[0mbuffer\u001b[0m\u001b[0;34m)\u001b[0m\u001b[0;34m\u001b[0m\u001b[0m\n\u001b[1;32m    642\u001b[0m             \u001b[0;32melse\u001b[0m\u001b[0;34m:\u001b[0m\u001b[0;34m\u001b[0m\u001b[0m\n\u001b[0;32m--> 643\u001b[0;31m                 \u001b[0mv\u001b[0m \u001b[0;34m=\u001b[0m \u001b[0mself\u001b[0m\u001b[0;34m.\u001b[0m\u001b[0m_sslobj\u001b[0m\u001b[0;34m.\u001b[0m\u001b[0mread\u001b[0m\u001b[0;34m(\u001b[0m\u001b[0mlen\u001b[0m\u001b[0;34m)\u001b[0m\u001b[0;34m\u001b[0m\u001b[0m\n\u001b[0m\u001b[1;32m    644\u001b[0m             \u001b[0;32mreturn\u001b[0m \u001b[0mv\u001b[0m\u001b[0;34m\u001b[0m\u001b[0m\n\u001b[1;32m    645\u001b[0m         \u001b[0;32mexcept\u001b[0m \u001b[0mSSLError\u001b[0m \u001b[0;32mas\u001b[0m \u001b[0mx\u001b[0m\u001b[0;34m:\u001b[0m\u001b[0;34m\u001b[0m\u001b[0m\n",
      "\u001b[0;31mKeyboardInterrupt\u001b[0m: "
     ]
    }
   ],
   "source": [
    "# Loopnet banned my ip address while scrapping, so had to use a proxy IP address\n",
    "\n",
    "total_results = []\n",
    "\n",
    "for address in rent['Full_Street_address']:\n",
    "    \n",
    "    # Creating a random ip address\n",
    "    prox = 'http://' + np.random.choice(ip_list)\n",
    "    \n",
    "    proxies = {'http':prox}\n",
    "    \n",
    "    # First portion of url\n",
    "    url1 = 'https://www.yelp.com/search?find_desc=&find_loc='\n",
    "    \n",
    "    # Generating second portion of the url with address\n",
    "    out = ''\n",
    "    for i in address.split():\n",
    "        out += i+'+'\n",
    "        \n",
    "    url2 = out[:-1]\n",
    "    #url = url1 + url2 \n",
    "    url = 'https://www.yelp.com/search?find_desc=&find_loc=327+W+57th+St+New+York+NY+10019'\n",
    "    r = requests.get(url, proxies=proxies)\n",
    "    \n",
    "    if str(r) == \"<Response [200]>\":\n",
    "\n",
    "        page = r.content\n",
    "        soup = BeautifulSoup(page, 'lxml')\n",
    "\n",
    "        results = (get_listing_details(soup))\n",
    "        total_results.append(results)\n",
    "\n",
    "    else:\n",
    "        print \"This url is not responding favorably.\"\n",
    "        print \"url =\", url\n",
    "        print \"response =\", r\n",
    "        print"
   ]
  },
  {
   "cell_type": "code",
   "execution_count": 66,
   "metadata": {
    "ExecuteTime": {
     "end_time": "2016-11-21T20:36:47.599759",
     "start_time": "2016-11-21T20:36:43.215420"
    },
    "collapsed": true
   },
   "outputs": [],
   "source": [
    "total_results = []\n",
    "\n",
    "# Creating a random ip address\n",
    "prox = 'http://' + np.random.choice(ip_list)\n",
    "\n",
    "proxies = {'http':prox}\n",
    "\n",
    "#url = url1 + url2 \n",
    "url = 'https://www.yelp.com/search?find_desc=&find_loc=327+W+57th+St+New+York+NY+10019'\n",
    "r = requests.get(url, proxies=proxies)\n",
    "\n",
    "if str(r) == \"<Response [200]>\":\n",
    "\n",
    "    page = r.content\n",
    "    soup = BeautifulSoup(page, 'lxml')\n",
    "\n",
    "    results = (get_listing_details(soup))\n",
    "    total_results.append(results)\n",
    "\n",
    "else:\n",
    "    print \"This url is not responding favorably.\"\n",
    "    print \"url =\", url\n",
    "    print \"response =\", r\n",
    "    print"
   ]
  },
  {
   "cell_type": "code",
   "execution_count": 67,
   "metadata": {
    "ExecuteTime": {
     "end_time": "2016-11-21T20:36:49.368229",
     "start_time": "2016-11-21T20:36:49.286368"
    },
    "collapsed": false
   },
   "outputs": [
    {
     "data": {
      "text/html": [
       "<div>\n",
       "<table border=\"1\" class=\"dataframe\">\n",
       "  <thead>\n",
       "    <tr style=\"text-align: right;\">\n",
       "      <th></th>\n",
       "      <th>0</th>\n",
       "      <th>1</th>\n",
       "      <th>2</th>\n",
       "      <th>3</th>\n",
       "      <th>4</th>\n",
       "      <th>5</th>\n",
       "      <th>6</th>\n",
       "    </tr>\n",
       "  </thead>\n",
       "  <tbody>\n",
       "    <tr>\n",
       "      <th>0</th>\n",
       "      <td>[Sfilatino Italian Gourmet, ABA Turkish Restau...</td>\n",
       "      <td>[4.0 star rating, 4.0 star rating, 4.5 star ra...</td>\n",
       "      <td>[120 reviews, 273 reviews, 1226 reviews, 114 r...</td>\n",
       "      <td>[$$, $$, $$$$, $, $$$, $$$, $$, $$$$, $$$]</td>\n",
       "      <td>[[Italian,, Sandwiches,, Salad], [Turkish,, Me...</td>\n",
       "      <td>[342 W 57th StNew York, NY 10019, 325 W 57th S...</td>\n",
       "      <td>[]</td>\n",
       "    </tr>\n",
       "  </tbody>\n",
       "</table>\n",
       "</div>"
      ],
      "text/plain": [
       "                                                   0  \\\n",
       "0  [Sfilatino Italian Gourmet, ABA Turkish Restau...   \n",
       "\n",
       "                                                   1  \\\n",
       "0  [4.0 star rating, 4.0 star rating, 4.5 star ra...   \n",
       "\n",
       "                                                   2  \\\n",
       "0  [120 reviews, 273 reviews, 1226 reviews, 114 r...   \n",
       "\n",
       "                                            3  \\\n",
       "0  [$$, $$, $$$$, $, $$$, $$$, $$, $$$$, $$$]   \n",
       "\n",
       "                                                   4  \\\n",
       "0  [[Italian,, Sandwiches,, Salad], [Turkish,, Me...   \n",
       "\n",
       "                                                   5   6  \n",
       "0  [342 W 57th StNew York, NY 10019, 325 W 57th S...  []  "
      ]
     },
     "execution_count": 67,
     "metadata": {},
     "output_type": "execute_result"
    }
   ],
   "source": [
    "df = pd.DataFrame(total_results)\n",
    "df.head()"
   ]
  },
  {
   "cell_type": "code",
   "execution_count": null,
   "metadata": {
    "ExecuteTime": {
     "end_time": "2016-11-21T16:54:16.375136",
     "start_time": "2016-11-21T20:27:22.189Z"
    },
    "collapsed": true
   },
   "outputs": [],
   "source": [
    "df = pd.DataFrame(total_results)\n",
    "\n",
    "df.to_csv('/Users/peidacai/Desktop/yelp_data.csv')"
   ]
  }
 ],
 "metadata": {
  "kernelspec": {
   "display_name": "Python [Root]",
   "language": "python",
   "name": "Python [Root]"
  },
  "language_info": {
   "codemirror_mode": {
    "name": "ipython",
    "version": 2
   },
   "file_extension": ".py",
   "mimetype": "text/x-python",
   "name": "python",
   "nbconvert_exporter": "python",
   "pygments_lexer": "ipython2",
   "version": "2.7.12"
  },
  "toc": {
   "nav_menu": {
    "height": "48px",
    "width": "252px"
   },
   "navigate_menu": true,
   "number_sections": true,
   "sideBar": true,
   "threshold": 4,
   "toc_cell": false,
   "toc_section_display": "block",
   "toc_window_display": false
  }
 },
 "nbformat": 4,
 "nbformat_minor": 0
}
