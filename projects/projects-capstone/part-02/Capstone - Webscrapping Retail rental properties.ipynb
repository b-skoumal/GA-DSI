{
 "cells": [
  {
   "cell_type": "markdown",
   "metadata": {},
   "source": [
    "# Capstone project scraping"
   ]
  },
  {
   "cell_type": "code",
   "execution_count": 48,
   "metadata": {
    "ExecuteTime": {
     "end_time": "2016-11-13T11:03:36.129464",
     "start_time": "2016-11-13T11:03:36.105884"
    },
    "collapsed": true
   },
   "outputs": [],
   "source": [
    "import re\n",
    "import requests\n",
    "from bs4 import BeautifulSoup\n",
    "\n",
    "import pandas as pd\n",
    "import numpy as np\n",
    "\n",
    "import geocoder"
   ]
  },
  {
   "cell_type": "markdown",
   "metadata": {},
   "source": [
    "## Function to get entire listing"
   ]
  },
  {
   "cell_type": "code",
   "execution_count": 49,
   "metadata": {
    "ExecuteTime": {
     "end_time": "2016-11-13T11:03:37.727671",
     "start_time": "2016-11-13T11:03:37.716764"
    },
    "collapsed": true
   },
   "outputs": [],
   "source": [
    "def get_listings(result):\n",
    "    \n",
    "    listings = []\n",
    "    \n",
    "    for d in result.findAll(class_ = \"placard-details module\"):\n",
    "\n",
    "        listings.append(d)\n",
    "\n",
    "    return listings"
   ]
  },
  {
   "cell_type": "markdown",
   "metadata": {},
   "source": [
    "## Scraping first page only"
   ]
  },
  {
   "cell_type": "code",
   "execution_count": 59,
   "metadata": {
    "ExecuteTime": {
     "end_time": "2016-11-13T12:01:38.400530",
     "start_time": "2016-11-13T12:01:34.250959"
    },
    "collapsed": false
   },
   "outputs": [],
   "source": [
    "# Loopnet banned my ip address while scrapping, so had to use a proxy IP address\n",
    "\n",
    "proxies = {\n",
    "    'http':'http://192.25.162.203'\n",
    "    }\n",
    "\n",
    "url = 'http://www.loopnet.com/for-lease/new-york-ny/retail/'\n",
    "\n",
    "r = requests.get(url, proxies=proxies)\n",
    "\n",
    "page = r.content\n",
    "soup = BeautifulSoup(page, 'lxml')\n",
    "\n",
    "results = (get_listings(soup))"
   ]
  },
  {
   "cell_type": "code",
   "execution_count": 60,
   "metadata": {
    "ExecuteTime": {
     "end_time": "2016-11-13T12:01:38.442767",
     "start_time": "2016-11-13T12:01:38.404022"
    },
    "collapsed": false
   },
   "outputs": [
    {
     "data": {
      "text/plain": [
       "[<div class=\"placard-details module\">\\n<h5 class=\"listing-address\">\\n<a class=\"column-09\" href=\"http://www.loopnet.com/Listing/19621797/134-West-37th-Street-New-York-NY/\" ng-click=\"RedirectToProfile('http://www.loopnet.com/Listing/19621797/134-West-37th-Street-New-York-NY/'); $event.stopPropagation();\" title=\"134 West 37th Street\">\\n<address itemprop=\"address\" itemscope=\"\" itemtype=\"http://schema.org/PostalAddress\">\\n<span class=\"street-address\" itemprop=\"streetAddress\" title=\"134 West 37th Street\">134 West 37th Street</span>\\n<span itemprop=\"addressLocality\" title=\"New York, NY\">New York</span>,\\r\\n    <span itemprop=\"addressState\" title=\"NY, NY\">NY</span>\\n<span itemprop=\"postalCode\" title=\"10018\">10018</span>\\n</address>\\n</a>\\n<span class=\"listing-price column-04\">$45-$79.20 SF/Year</span>\\n</h5>\\n<ul>\\n<li>\\n<span>Office Bldg</span>\\n</li>\\n<li>\\n<i>2,500 - 10,000</i>\\n<span>SF Available</span>\\n</li>\\n<li>\\n<i>2</i>\\n<span>Spaces</span>\\n</li>\\n<li>\\n<i>120,000</i>\\n<span>SF Bldg</span>\\n</li>\\n</ul>\\n<p class=\"property-description\">Extremely desirable office space in the heart of the fashion district.  Ground Floor Retail also available.</p>\\n</div>,\n",
       " <div class=\"placard-details module\">\\n<h5 class=\"listing-address\">\\n<a class=\"column-09\" href=\"http://www.loopnet.com/Listing/19852777/517-Columbus-Avenue-New-York-NY/\" ng-click=\"RedirectToProfile('http://www.loopnet.com/Listing/19852777/517-Columbus-Avenue-New-York-NY/'); $event.stopPropagation();\" title=\"517 Columbus Avenue\">\\n<address itemprop=\"address\" itemscope=\"\" itemtype=\"http://schema.org/PostalAddress\">\\n<span class=\"street-address\" itemprop=\"streetAddress\" title=\"517 Columbus Avenue\">517 Columbus Avenue</span>\\n<span itemprop=\"addressLocality\" title=\"New York, NY\">New York</span>,\\r\\n    <span itemprop=\"addressState\" title=\"NY, NY\">NY</span>\\n<span itemprop=\"postalCode\" title=\"10024\">10024</span>\\n</address>\\n</a>\\n<span class=\"listing-price column-04\">$204.60 SF/Year</span>\\n</h5>\\n<ul>\\n<li>\\n<span>Restaurant</span>\\n</li>\\n<li>\\n<i>2,346</i>\\n<span>SF Available</span>\\n</li>\\n<li>\\n<i>1</i>\\n<span>Space</span>\\n</li>\\n<li>\\n<i>2,345</i>\\n<span>SF Bldg</span>\\n</li>\\n</ul>\\n<p class=\"property-description\">This is the former Jackson Hole space has not being on the market for over 40 years, With high ceilings, French doors to a sidewalk cafe and...</p>\\n</div>,\n",
       " <div class=\"placard-details module\">\\n<h5 class=\"listing-address\">\\n<a class=\"column-10\" href=\"http://www.loopnet.com/Listing/19584842/76-Wooster-St-New-York-NY/\" ng-click=\"RedirectToProfile('http://www.loopnet.com/Listing/19584842/76-Wooster-St-New-York-NY/'); $event.stopPropagation();\" title=\"76 Wooster St\">\\n<address itemprop=\"address\" itemscope=\"\" itemtype=\"http://schema.org/PostalAddress\">\\n<span class=\"street-address\" itemprop=\"streetAddress\" title=\"76 Wooster St\">76 Wooster St</span>\\n<span itemprop=\"addressLocality\" title=\"New York, NY\">New York</span>,\\r\\n    <span itemprop=\"addressState\" title=\"NY, NY\">NY</span>\\n<span itemprop=\"postalCode\" title=\"10012\">10012</span>\\n</address>\\n</a>\\n<span class=\"listing-price\">$80-$84 SF/Year</span>\\n</h5>\\n<p class=\"property-name\" modelprop=\"name\">SoHo Retail and Office Spaces</p>\\n<ul>\\n<li>\\n<span>Street Retail</span>\\n</li>\\n<li>\\n<i>3,000 - 5,000</i>\\n<span>SF Available</span>\\n</li>\\n<li>\\n<i>2</i>\\n<span>Spaces</span>\\n</li>\\n<li>\\n<i>10,000</i>\\n<span>SF Bldg</span>\\n</li>\\n</ul>\\n</div>,\n",
       " <div class=\"placard-details module\">\\n<h5 class=\"listing-address\">\\n<a class=\"column-10\" href=\"http://www.loopnet.com/Listing/19632482/117-East-15th-Street-New-York-NY/\" ng-click=\"RedirectToProfile('http://www.loopnet.com/Listing/19632482/117-East-15th-Street-New-York-NY/'); $event.stopPropagation();\" title=\"117 East 15th Street\">\\n<address itemprop=\"address\" itemscope=\"\" itemtype=\"http://schema.org/PostalAddress\">\\n<span class=\"street-address\" itemprop=\"streetAddress\" title=\"117 East 15th Street\">117 East 15th Street</span>\\n<span itemprop=\"addressLocality\" title=\"New York, NY\">New York</span>,\\r\\n    <span itemprop=\"addressState\" title=\"NY, NY\">NY</span>\\n<span itemprop=\"postalCode\" title=\"10003\">10003</span>\\n</address>\\n</a>\\n<span class=\"listing-price\">$110.67-$120 SF/Year</span>\\n</h5>\\n<p class=\"property-name\" modelprop=\"name\">Prime Union Square Multi-Level Brownstone Retail</p>\\n<ul>\\n<li>\\n<span>Restaurant</span>\\n</li>\\n<li>\\n<i>3,300 - 6,600</i>\\n<span>SF Available</span>\\n</li>\\n<li>\\n<i>3</i>\\n<span>Spaces</span>\\n</li>\\n<li>\\n<i>6,600</i>\\n<span>SF Bldg</span>\\n</li>\\n</ul>\\n</div>,\n",
       " <div class=\"placard-details module\">\\n<h5 class=\"listing-address\">\\n<a class=\"column-10\" href=\"http://www.loopnet.com/Listing/19872387/250-Hudson-St-New-York-NY/\" ng-click=\"RedirectToProfile('http://www.loopnet.com/Listing/19872387/250-Hudson-St-New-York-NY/'); $event.stopPropagation();\" title=\"250 Hudson St\">\\n<address itemprop=\"address\" itemscope=\"\" itemtype=\"http://schema.org/PostalAddress\">\\n<span class=\"street-address\" itemprop=\"streetAddress\" title=\"250 Hudson St\">250 Hudson St</span>\\n<span itemprop=\"addressLocality\" title=\"New York, NY\">New York</span>,\\r\\n    <span itemprop=\"addressState\" title=\"NY, NY\">NY</span>\\n<span itemprop=\"postalCode\" title=\"10013\">10013</span>\\n</address>\\n</a>\\n<span class=\"listing-price\">$75-$90 SF/Year</span>\\n</h5>\\n<ul>\\n<li>\\n<span>Office Bldg</span>\\n</li>\\n<li>\\n<i>3,100 - 15,832</i>\\n<span>SF Available</span>\\n</li>\\n<li>\\n<i>3</i>\\n<span>Spaces</span>\\n</li>\\n<li>\\n<i>394,424</i>\\n<span>SF Bldg</span>\\n</li>\\n</ul>\\n</div>,\n",
       " <div class=\"placard-details module\">\\n<h5 class=\"listing-address\">\\n<a class=\"column-10\" href=\"http://www.loopnet.com/Listing/19872550/485-Madison-Ave-New-York-NY/\" ng-click=\"RedirectToProfile('http://www.loopnet.com/Listing/19872550/485-Madison-Ave-New-York-NY/'); $event.stopPropagation();\" title=\"485 Madison Ave\">\\n<address itemprop=\"address\" itemscope=\"\" itemtype=\"http://schema.org/PostalAddress\">\\n<span class=\"street-address\" itemprop=\"streetAddress\" title=\"485 Madison Ave\">485 Madison Ave</span>\\n<span itemprop=\"addressLocality\" title=\"New York, NY\">New York</span>,\\r\\n    <span itemprop=\"addressState\" title=\"NY, NY\">NY</span>\\n<span itemprop=\"postalCode\" title=\"10022\">10022</span>\\n</address>\\n</a>\\n<span class=\"listing-price\">$54-$550 SF/Year</span>\\n</h5>\\n<ul>\\n<li>\\n<span>Office Bldg</span>\\n</li>\\n<li>\\n<i>654 - 31,472</i>\\n<span>SF Available</span>\\n</li>\\n<li>\\n<i>3</i>\\n<span>Spaces</span>\\n</li>\\n<li>\\n<i>302,000</i>\\n<span>SF Bldg</span>\\n</li>\\n</ul>\\n</div>,\n",
       " <div class=\"placard-details module\">\\n<h5 class=\"listing-address\">\\n<a class=\"column-10\" href=\"http://www.loopnet.com/Listing/18803035/315-Madison-Ave-New-York-NY/\" ng-click=\"RedirectToProfile('http://www.loopnet.com/Listing/18803035/315-Madison-Ave-New-York-NY/'); $event.stopPropagation();\" title=\"315 Madison Ave\">\\n<address itemprop=\"address\" itemscope=\"\" itemtype=\"http://schema.org/PostalAddress\">\\n<span class=\"street-address\" itemprop=\"streetAddress\" title=\"315 Madison Ave\">315 Madison Ave</span>\\n<span itemprop=\"addressLocality\" title=\"New York, NY\">New York</span>,\\r\\n    <span itemprop=\"addressState\" title=\"NY, NY\">NY</span>\\n<span itemprop=\"postalCode\" title=\"10017\">10017</span>\\n</address>\\n</a>\\n<span class=\"listing-price\">$60-$355 SF/Year</span>\\n</h5>\\n<ul>\\n<li>\\n<span>Office Bldg</span>\\n</li>\\n<li>\\n<i>1,802 - 3,894</i>\\n<span>SF Available</span>\\n</li>\\n<li>\\n<i>4</i>\\n<span>Spaces</span>\\n</li>\\n<li>\\n<i>148,370</i>\\n<span>SF Bldg</span>\\n</li>\\n</ul>\\n</div>,\n",
       " <div class=\"placard-details module\">\\n<h5 class=\"listing-address\">\\n<a class=\"column-10\" href=\"http://www.loopnet.com/Listing/19872441/315-Hudson-St-New-York-NY/\" ng-click=\"RedirectToProfile('http://www.loopnet.com/Listing/19872441/315-Hudson-St-New-York-NY/'); $event.stopPropagation();\" title=\"315 Hudson St\">\\n<address itemprop=\"address\" itemscope=\"\" itemtype=\"http://schema.org/PostalAddress\">\\n<span class=\"street-address\" itemprop=\"streetAddress\" title=\"315 Hudson St\">315 Hudson St</span>\\n<span itemprop=\"addressLocality\" title=\"New York, NY\">New York</span>,\\r\\n    <span itemprop=\"addressState\" title=\"NY, NY\">NY</span>\\n<span itemprop=\"postalCode\" title=\"10013\">10013</span>\\n</address>\\n</a>\\n<span class=\"listing-price\">$100-$175 SF/Year</span>\\n</h5>\\n<ul>\\n<li>\\n<span>Office Bldg</span>\\n</li>\\n<li>\\n<i>3,922 - 5,881</i>\\n<span>SF Available</span>\\n</li>\\n<li>\\n<i>5</i>\\n<span>Spaces</span>\\n</li>\\n<li>\\n<i>485,577</i>\\n<span>SF Bldg</span>\\n</li>\\n</ul>\\n</div>,\n",
       " <div class=\"placard-details module\">\\n<h5 class=\"listing-address\">\\n<a class=\"column-10\" href=\"http://www.loopnet.com/Listing/20002133/261-Fifth-Ave-New-York-NY/\" ng-click=\"RedirectToProfile('http://www.loopnet.com/Listing/20002133/261-Fifth-Ave-New-York-NY/'); $event.stopPropagation();\" title=\"261 Fifth Ave\">\\n<address itemprop=\"address\" itemscope=\"\" itemtype=\"http://schema.org/PostalAddress\">\\n<span class=\"street-address\" itemprop=\"streetAddress\" title=\"261 Fifth Ave\">261 Fifth Ave</span>\\n<span itemprop=\"addressLocality\" title=\"New York, NY\">New York</span>,\\r\\n    <span itemprop=\"addressState\" title=\"NY, NY\">NY</span>\\n<span itemprop=\"postalCode\" title=\"10001\">10001</span>\\n</address>\\n</a>\\n<span class=\"listing-price\">Negotiable<br/>Rate</span>\\n</h5>\\n<p class=\"property-name\" modelprop=\"name\">261 5th Avenue</p>\\n<ul>\\n<li>\\n<span>Office Bldg</span>\\n</li>\\n<li>\\n<i>1,590 - 21,457</i>\\n<span>SF Available</span>\\n</li>\\n<li>\\n<i>3</i>\\n<span>Spaces</span>\\n</li>\\n<li>\\n<i>444,716</i>\\n<span>SF Bldg</span>\\n</li>\\n</ul>\\n</div>,\n",
       " <div class=\"placard-details module\">\\n<h5 class=\"listing-address\">\\n<a class=\"column-10\" href=\"http://www.loopnet.com/Listing/19271844/100-Broad-St-New-York-NY/\" ng-click=\"RedirectToProfile('http://www.loopnet.com/Listing/19271844/100-Broad-St-New-York-NY/'); $event.stopPropagation();\" title=\"100 Broad St\">\\n<address itemprop=\"address\" itemscope=\"\" itemtype=\"http://schema.org/PostalAddress\">\\n<span class=\"street-address\" itemprop=\"streetAddress\" title=\"100 Broad St\">100 Broad St</span>\\n<span itemprop=\"addressLocality\" title=\"New York, NY\">New York</span>,\\r\\n    <span itemprop=\"addressState\" title=\"NY, NY\">NY</span>\\n<span itemprop=\"postalCode\" title=\"10004\">10004</span>\\n</address>\\n</a>\\n<span class=\"listing-price\">$94 SF/Year</span>\\n</h5>\\n<p class=\"property-name\" modelprop=\"name\">Prime Retail/Office+ Rooftop in Financial District</p>\\n<ul>\\n<li>\\n<span>Restaurant</span>\\n</li>\\n<li>\\n<i>8,000</i>\\n<span>SF Available</span>\\n</li>\\n<li>\\n<i>1</i>\\n<span>Space</span>\\n</li>\\n<li>\\n<i>10,000</i>\\n<span>SF Bldg</span>\\n</li>\\n</ul>\\n</div>,\n",
       " <div class=\"placard-details module\">\\n<h5 class=\"listing-address\">\\n<a class=\"column-10\" href=\"http://www.loopnet.com/Listing/19963876/143-Orchard-St-New-York-NY/\" ng-click=\"RedirectToProfile('http://www.loopnet.com/Listing/19963876/143-Orchard-St-New-York-NY/'); $event.stopPropagation();\" title=\"143 Orchard St\">\\n<address itemprop=\"address\" itemscope=\"\" itemtype=\"http://schema.org/PostalAddress\">\\n<span class=\"street-address\" itemprop=\"streetAddress\" title=\"143 Orchard St\">143 Orchard St</span>\\n<span itemprop=\"addressLocality\" title=\"New York, NY\">New York</span>,\\r\\n    <span itemprop=\"addressState\" title=\"NY, NY\">NY</span>\\n<span itemprop=\"postalCode\" title=\"10002\">10002</span>\\n</address>\\n</a>\\n<span class=\"listing-price\">$180 SF/Year</span>\\n</h5>\\n<ul>\\n<li>\\n<span>Other Retail</span>\\n</li>\\n<li>\\n<i>800</i>\\n<span>SF Available</span>\\n</li>\\n<li>\\n<i>1</i>\\n<span>Space</span>\\n</li>\\n<li>\\n<i>6,472</i>\\n<span>SF Bldg</span>\\n</li>\\n</ul>\\n</div>,\n",
       " <div class=\"placard-details module\">\\n<h5 class=\"listing-address\">\\n<a class=\"column-10 column-medium-12 column-small-12 \" href=\"http://www.loopnet.com/Listing/18922237/142-144-west-26-street-New-York-NY/\" ng-click=\"RedirectToProfile('http://www.loopnet.com/Listing/18922237/142-144-west-26-street-New-York-NY/'); $event.stopPropagation();\" title=\"142-144 west 26 street\">\\n<address itemprop=\"address\" itemscope=\"\" itemtype=\"http://schema.org/PostalAddress\">\\n<span class=\"street-address\" itemprop=\"streetAddress\" title=\"142-144 west 26 street\">142-144 west 26 street</span>\\n<span itemprop=\"addressLocality\" title=\"New York, NY\">New York</span>,\\r\\n    <span itemprop=\"addressState\" title=\"NY, NY\">NY</span>\\n<span itemprop=\"postalCode\" title=\"10001\">10001</span>\\n</address>\\n</a>\\n<span class=\"listing-price column-04 column-medium-12 column-small-12 \">$85 SF/Year</span>\\n</h5>\\n<p class=\"property-name\" modelprop=\"name\">High End Installation Showroom</p>\\n<ul>\\n<li>\\n<span>Other Retail</span>\\n</li>\\n<li>\\n<i>4,000</i>\\n<span>SF Available</span>\\n</li>\\n<li>\\n<i>1</i>\\n<span>Space</span>\\n</li>\\n<li>\\n<i>53,054</i>\\n<span>SF Bldg</span>\\n</li>\\n</ul>\\n</div>,\n",
       " <div class=\"placard-details module\">\\n<h5 class=\"listing-address\">\\n<a class=\"column-10 column-medium-12 column-small-12 \" href=\"http://www.loopnet.com/Listing/19814141/382-Lafayette-Street-New-York-NY/\" ng-click=\"RedirectToProfile('http://www.loopnet.com/Listing/19814141/382-Lafayette-Street-New-York-NY/'); $event.stopPropagation();\" title=\"382 Lafayette Street\">\\n<address itemprop=\"address\" itemscope=\"\" itemtype=\"http://schema.org/PostalAddress\">\\n<span class=\"street-address\" itemprop=\"streetAddress\" title=\"382 Lafayette Street\">382 Lafayette Street</span>\\n<span itemprop=\"addressLocality\" title=\"New York, NY\">New York</span>,\\r\\n    <span itemprop=\"addressState\" title=\"NY, NY\">NY</span>\\n<span itemprop=\"postalCode\" title=\"10003\">10003</span>\\n</address>\\n</a>\\n<span class=\"listing-price column-04 column-medium-12 column-small-12 \">$218.18 SF/Year</span>\\n</h5>\\n<p class=\"property-name\" modelprop=\"name\"></p>\\n<ul>\\n<li>\\n<span>Street Retail</span>\\n</li>\\n<li>\\n<i>2,200</i>\\n<span>SF Available</span>\\n</li>\\n<li>\\n<i>1</i>\\n<span>Space</span>\\n</li>\\n<li>\\n<i>13,000</i>\\n<span>SF Bldg</span>\\n</li>\\n</ul>\\n</div>,\n",
       " <div class=\"placard-details module\">\\n<h5 class=\"listing-address\">\\n<a class=\"column-10 column-medium-12 column-small-12 \" href=\"http://www.loopnet.com/Listing/19857624/155-West-18th-Street-New-York-NY/\" ng-click=\"RedirectToProfile('http://www.loopnet.com/Listing/19857624/155-West-18th-Street-New-York-NY/'); $event.stopPropagation();\" title=\"155 West 18th Street\">\\n<address itemprop=\"address\" itemscope=\"\" itemtype=\"http://schema.org/PostalAddress\">\\n<span class=\"street-address\" itemprop=\"streetAddress\" title=\"155 West 18th Street\">155 West 18th Street</span>\\n<span itemprop=\"addressLocality\" title=\"New York, NY\">New York</span>,\\r\\n    <span itemprop=\"addressState\" title=\"NY, NY\">NY</span>\\n<span itemprop=\"postalCode\" title=\"10011\">10011</span>\\n</address>\\n</a>\\n<span class=\"listing-price column-04 column-medium-12 column-small-12 \">Negotiable<br/>Rate</span>\\n</h5>\\n<p class=\"property-name\" modelprop=\"name\"></p>\\n<ul>\\n<li>\\n<span>Street Retail</span>\\n</li>\\n<li>\\n<i>2,440 - 7,406</i>\\n<span>SF Available</span>\\n</li>\\n<li>\\n<i>3</i>\\n<span>Spaces</span>\\n</li>\\n<li>\\n<i>7,406</i>\\n<span>SF Bldg</span>\\n</li>\\n</ul>\\n</div>,\n",
       " <div class=\"placard-details module\">\\n<h5 class=\"listing-address\">\\n<a class=\"column-10\" href=\"http://www.loopnet.com/Listing/20056601/155-Chambers-St-New-York-NY/\" ng-click=\"RedirectToProfile('http://www.loopnet.com/Listing/20056601/155-Chambers-St-New-York-NY/'); $event.stopPropagation();\" title=\"155 Chambers St\">\\n<address itemprop=\"address\" itemscope=\"\" itemtype=\"http://schema.org/PostalAddress\">\\n<span class=\"street-address\" itemprop=\"streetAddress\" title=\"155 Chambers St\">155 Chambers St</span>\\n<span itemprop=\"addressLocality\" title=\"New York, NY\">New York</span>,\\r\\n    <span itemprop=\"addressState\" title=\"NY, NY\">NY</span>\\n<span itemprop=\"postalCode\" title=\"10007\">10007</span>\\n</address>\\n</a>\\n<span class=\"listing-price column-04\">$216 SF/Year</span>\\n</h5>\\n<p class=\"property-name\" modelprop=\"name\"></p>\\n<ul>\\n<li>\\n<span>Street Retail</span>\\n</li>\\n<li>\\n<i>750</i>\\n<span>SF Available</span>\\n</li>\\n<li>\\n<i>1</i>\\n<span>Space</span>\\n</li>\\n<li>\\n<i>8,900</i>\\n<span>SF Bldg</span>\\n</li>\\n</ul>\\n</div>,\n",
       " <div class=\"placard-details module\">\\n<h5 class=\"listing-address\">\\n<a class=\"column-10\" href=\"http://www.loopnet.com/Listing/20056597/70-74-Lafayette-St-New-York-NY/\" ng-click=\"RedirectToProfile('http://www.loopnet.com/Listing/20056597/70-74-Lafayette-St-New-York-NY/'); $event.stopPropagation();\" title=\"70-74 Lafayette St\">\\n<address itemprop=\"address\" itemscope=\"\" itemtype=\"http://schema.org/PostalAddress\">\\n<span class=\"street-address\" itemprop=\"streetAddress\" title=\"70-74 Lafayette St\">70-74 Lafayette St</span>\\n<span itemprop=\"addressLocality\" title=\"New York, NY\">New York</span>,\\r\\n    <span itemprop=\"addressState\" title=\"NY, NY\">NY</span>\\n<span itemprop=\"postalCode\" title=\"11209\">11209</span>\\n</address>\\n</a>\\n<span class=\"listing-price column-04\">$58.50 SF/Year</span>\\n</h5>\\n<p class=\"property-name\" modelprop=\"name\"></p>\\n<ul>\\n<li>\\n<span>Street Retail</span>\\n</li>\\n<li>\\n<i>4,000</i>\\n<span>SF Available</span>\\n</li>\\n<li>\\n<i>1</i>\\n<span>Space</span>\\n</li>\\n<li>\\n<i>16,900</i>\\n<span>SF Bldg</span>\\n</li>\\n</ul>\\n</div>,\n",
       " <div class=\"placard-details module\">\\n<h5 class=\"listing-address\">\\n<a class=\"column-10\" href=\"http://www.loopnet.com/Listing/20054534/735-Ninth-Ave-New-York-NY/\" ng-click=\"RedirectToProfile('http://www.loopnet.com/Listing/20054534/735-Ninth-Ave-New-York-NY/'); $event.stopPropagation();\" title=\"735 Ninth Ave\">\\n<address itemprop=\"address\" itemscope=\"\" itemtype=\"http://schema.org/PostalAddress\">\\n<span class=\"street-address\" itemprop=\"streetAddress\" title=\"735 Ninth Ave\">735 Ninth Ave</span>\\n<span itemprop=\"addressLocality\" title=\"New York, NY\">New York</span>,\\r\\n    <span itemprop=\"addressState\" title=\"NY, NY\">NY</span>\\n<span itemprop=\"postalCode\" title=\"10019\">10019</span>\\n</address>\\n</a>\\n<span class=\"listing-price column-04\">Negotiable<br/>Rate</span>\\n</h5>\\n<p class=\"property-name\" modelprop=\"name\">McDonald's</p>\\n<ul>\\n<li>\\n<span>Restaurant</span>\\n</li>\\n<li>\\n<i>2,000</i>\\n<span>SF Available</span>\\n</li>\\n<li>\\n<i>1</i>\\n<span>Space</span>\\n</li>\\n<li>\\n<i>2,700</i>\\n<span>SF Bldg</span>\\n</li>\\n</ul>\\n</div>,\n",
       " <div class=\"placard-details module\">\\n<h5 class=\"listing-address\">\\n<a class=\"column-10\" href=\"http://www.loopnet.com/Listing/20051678/274-Grand-St-New-York-NY/\" ng-click=\"RedirectToProfile('http://www.loopnet.com/Listing/20051678/274-Grand-St-New-York-NY/'); $event.stopPropagation();\" title=\"274 Grand St\">\\n<address itemprop=\"address\" itemscope=\"\" itemtype=\"http://schema.org/PostalAddress\">\\n<span class=\"street-address\" itemprop=\"streetAddress\" title=\"274 Grand St\">274 Grand St</span>\\n<span itemprop=\"addressLocality\" title=\"New York, NY\">New York</span>,\\r\\n    <span itemprop=\"addressState\" title=\"NY, NY\">NY</span>\\n<span itemprop=\"postalCode\" title=\"10002\">10002</span>\\n</address>\\n</a>\\n<span class=\"listing-price column-04\">Negotiable<br/>Rate</span>\\n</h5>\\n<p class=\"property-name\" modelprop=\"name\"></p>\\n<ul>\\n<li>\\n<span>Street Retail</span>\\n</li>\\n<li>\\n<i>1,514 - 3,664</i>\\n<span>SF Available</span>\\n</li>\\n<li>\\n<i>2</i>\\n<span>Spaces</span>\\n</li>\\n<li>\\n<i>5,944</i>\\n<span>SF Bldg</span>\\n</li>\\n</ul>\\n</div>,\n",
       " <div class=\"placard-details module\">\\n<h5 class=\"listing-address\">\\n<a class=\"column-10\" href=\"http://www.loopnet.com/Listing/20051336/580-590-W-161st-St-New-York-NY/\" ng-click=\"RedirectToProfile('http://www.loopnet.com/Listing/20051336/580-590-W-161st-St-New-York-NY/'); $event.stopPropagation();\" title=\"580-590 W 161st St\">\\n<address itemprop=\"address\" itemscope=\"\" itemtype=\"http://schema.org/PostalAddress\">\\n<span class=\"street-address\" itemprop=\"streetAddress\" title=\"580-590 W 161st St\">580-590 W 161st St</span>\\n<span itemprop=\"addressLocality\" title=\"New York, NY\">New York</span>,\\r\\n    <span itemprop=\"addressState\" title=\"NY, NY\">NY</span>\\n<span itemprop=\"postalCode\" title=\"10032\">10032</span>\\n</address>\\n</a>\\n<span class=\"listing-price column-04\">Negotiable<br/>Rate</span>\\n</h5>\\n<p class=\"property-name\" modelprop=\"name\">Prime Vented Corner for Restaurant or Retail</p>\\n<ul>\\n<li>\\n<span>Restaurant</span>\\n</li>\\n<li>\\n<i>1,850</i>\\n<span>SF Available</span>\\n</li>\\n<li>\\n<i>1</i>\\n<span>Space</span>\\n</li>\\n<li>\\n<i>46,309</i>\\n<span>SF Bldg</span>\\n</li>\\n</ul>\\n</div>,\n",
       " <div class=\"placard-details module\">\\n<h5 class=\"listing-address\">\\n<a class=\"column-10\" href=\"http://www.loopnet.com/Listing/20050911/1143-1ST-Ave-New-York-NY/\" ng-click=\"RedirectToProfile('http://www.loopnet.com/Listing/20050911/1143-1ST-Ave-New-York-NY/'); $event.stopPropagation();\" title=\"1143 1ST Ave\">\\n<address itemprop=\"address\" itemscope=\"\" itemtype=\"http://schema.org/PostalAddress\">\\n<span class=\"street-address\" itemprop=\"streetAddress\" title=\"1143 1ST Ave\">1143 1ST Ave</span>\\n<span itemprop=\"addressLocality\" title=\"New York, NY\">New York</span>,\\r\\n    <span itemprop=\"addressState\" title=\"NY, NY\">NY</span>\\n<span itemprop=\"postalCode\" title=\"10065\">10065</span>\\n</address>\\n</a>\\n<span class=\"listing-price column-04\">$187.20 SF/Year</span>\\n</h5>\\n<p class=\"property-name\" modelprop=\"name\">1143 First Avenue</p>\\n<ul>\\n<li>\\n<span>Other Retail</span>\\n</li>\\n<li>\\n<i>1,250</i>\\n<span>SF Available</span>\\n</li>\\n<li>\\n<i>1</i>\\n<span>Space</span>\\n</li>\\n<li>\\n<i>16,250</i>\\n<span>SF Bldg</span>\\n</li>\\n</ul>\\n</div>]"
      ]
     },
     "execution_count": 60,
     "metadata": {},
     "output_type": "execute_result"
    }
   ],
   "source": [
    "# Displying the results of the scrapping\n",
    "\n",
    "results"
   ]
  },
  {
   "cell_type": "markdown",
   "metadata": {},
   "source": [
    "Every listing should include a list of :\n",
    "\n",
    "1. listing webpage\n",
    "2. street address, locality, state, postalcode\n",
    "3. listing price\n",
    "4. listing type (office building, restaurant, etc)\n",
    "5. SF available\n",
    "6. No. of spaces\n",
    "7. SF building\n",
    "8. property description"
   ]
  },
  {
   "cell_type": "code",
   "execution_count": 186,
   "metadata": {
    "ExecuteTime": {
     "end_time": "2016-11-13T22:35:43.578958",
     "start_time": "2016-11-13T22:35:43.438526"
    },
    "collapsed": true
   },
   "outputs": [],
   "source": [
    "# Functions to get listing details from scrapped website(s)\n",
    "\n",
    "def get_listing_details(listing_placard):\n",
    "    \n",
    "    listing = []\n",
    "    \n",
    "    # listing website\n",
    "    try:\n",
    "        listing.append(re.findall('href=\"(.+)\" ng-', \\\n",
    "                                  str(listing_placard))[0])\n",
    "        \n",
    "         \n",
    "    except:\n",
    "        listing.append('')\n",
    "    \n",
    "    # listing streetaddress\n",
    "    try:\n",
    "        listing.append(re.findall('streetAddress\" title=\"(.+)\"', \\\n",
    "                                  str(listing_placard))[0])\n",
    "    except:\n",
    "        listing.append('')\n",
    "     \n",
    "    # listing address locality\n",
    "    try:\n",
    "        listing.append(re.findall('addressLocality\" title=\"(.+)\"', \\\n",
    "                                  str(listing_placard))[0])\n",
    "    except:\n",
    "        listing.append('')\n",
    "    \n",
    "    # listing state\n",
    "    try:\n",
    "        listing.append(re.findall('addressState\" title=\"(.+),', \\\n",
    "                                  str(listing_placard))[0])\n",
    "    except:\n",
    "        listing.append('')\n",
    "    \n",
    "    # listing postcode\n",
    "    try:\n",
    "        listing.append(re.findall('postalCode\" title=\"(\\d+)\"', \\\n",
    "                                  str(listing_placard))[0])\n",
    "    except:\n",
    "        listing.append('')\n",
    "    \n",
    "    # listing price\n",
    "    try:\n",
    "        listing.append(re.findall('listing-price.+>(.+)<', \\\n",
    "                                  str(listing_placard))[0])\n",
    "    except:\n",
    "        listing.append('')\n",
    "    \n",
    "    # listing type\n",
    "    try:\n",
    "        listing.append(re.findall('h5>\\n<ul>\\n<li>\\n<span>(.+)<', \\\n",
    "                                  str(listing_placard))[0])\n",
    "    except:\n",
    "        listing.append('')\n",
    "    \n",
    "    # listing square feet available\n",
    "    try:\n",
    "        listing.append(re.findall('>(.+)</i>\\n<span>SF Available', \\\n",
    "                                  str(listing_placard))[0])\n",
    "    except:\n",
    "        listing.append('')\n",
    "\n",
    "    # listing spaces available\n",
    "    try:\n",
    "        listing.append(re.findall('>(.+)</i>\\n<span>Spaces', \\\n",
    "                                  str(listing_placard))[0])\n",
    "    except:\n",
    "        listing.append('')\n",
    "    \n",
    "    # listing building square feet\n",
    "    try:\n",
    "        listing.append(re.findall('>(.+)</i>\\n<span>SF Bldg', \\\n",
    "                                  str(listing_placard))[0])\n",
    "    except:\n",
    "        listing.append('')\n",
    "    \n",
    "    #listing property description\n",
    "    try:\n",
    "        listing.append(re.findall('property-description\">((.|\\n|\\r)*)<', \\\n",
    "                                  str(listing_placard))[0])\n",
    "    except:\n",
    "        listing.append('')\n",
    "    \n",
    "    return listing"
   ]
  },
  {
   "cell_type": "code",
   "execution_count": 62,
   "metadata": {
    "ExecuteTime": {
     "end_time": "2016-11-13T12:01:50.107389",
     "start_time": "2016-11-13T12:01:49.806615"
    },
    "collapsed": false
   },
   "outputs": [],
   "source": [
    "# Appending all the relevant listing details to an element within page_list\n",
    "# Every element in the list is then a row of a single listing\n",
    "\n",
    "page_list = []\n",
    "for i in results:\n",
    "    page_list.append(get_listing_details(i))"
   ]
  },
  {
   "cell_type": "code",
   "execution_count": 63,
   "metadata": {
    "ExecuteTime": {
     "end_time": "2016-11-13T12:01:53.830835",
     "start_time": "2016-11-13T12:01:53.657606"
    },
    "collapsed": false
   },
   "outputs": [
    {
     "data": {
      "text/html": [
       "<div>\n",
       "<table border=\"1\" class=\"dataframe\">\n",
       "  <thead>\n",
       "    <tr style=\"text-align: right;\">\n",
       "      <th></th>\n",
       "      <th>Web_address</th>\n",
       "      <th>Street_address</th>\n",
       "      <th>Locality</th>\n",
       "      <th>State</th>\n",
       "      <th>Postcode</th>\n",
       "      <th>Price</th>\n",
       "      <th>Property_type</th>\n",
       "      <th>SF_avail</th>\n",
       "      <th>Spaces_avail</th>\n",
       "      <th>Bldg_SF</th>\n",
       "      <th>Prop_desc</th>\n",
       "    </tr>\n",
       "  </thead>\n",
       "  <tbody>\n",
       "    <tr>\n",
       "      <th>0</th>\n",
       "      <td>http://www.loopnet.com/Listing/19621797/134-We...</td>\n",
       "      <td>134 West 37th Street</td>\n",
       "      <td>New York, NY</td>\n",
       "      <td>NY</td>\n",
       "      <td>10018</td>\n",
       "      <td>$45-$79.20 SF/Year</td>\n",
       "      <td>Office Bldg</td>\n",
       "      <td>2,500 - 10,000</td>\n",
       "      <td>2</td>\n",
       "      <td>120,000</td>\n",
       "      <td>Extremely desirable office space in the heart ...</td>\n",
       "    </tr>\n",
       "    <tr>\n",
       "      <th>1</th>\n",
       "      <td>http://www.loopnet.com/Listing/19852777/517-Co...</td>\n",
       "      <td>517 Columbus Avenue</td>\n",
       "      <td>New York, NY</td>\n",
       "      <td>NY</td>\n",
       "      <td>10024</td>\n",
       "      <td>$204.60 SF/Year</td>\n",
       "      <td>Restaurant</td>\n",
       "      <td>2,346</td>\n",
       "      <td></td>\n",
       "      <td>2,345</td>\n",
       "      <td>This is the former Jackson Hole space has not ...</td>\n",
       "    </tr>\n",
       "    <tr>\n",
       "      <th>2</th>\n",
       "      <td>http://www.loopnet.com/Listing/19584842/76-Woo...</td>\n",
       "      <td>76 Wooster St</td>\n",
       "      <td>New York, NY</td>\n",
       "      <td>NY</td>\n",
       "      <td>10012</td>\n",
       "      <td>$80-$84 SF/Year</td>\n",
       "      <td></td>\n",
       "      <td>3,000 - 5,000</td>\n",
       "      <td>2</td>\n",
       "      <td>10,000</td>\n",
       "      <td></td>\n",
       "    </tr>\n",
       "    <tr>\n",
       "      <th>3</th>\n",
       "      <td>http://www.loopnet.com/Listing/19632482/117-Ea...</td>\n",
       "      <td>117 East 15th Street</td>\n",
       "      <td>New York, NY</td>\n",
       "      <td>NY</td>\n",
       "      <td>10003</td>\n",
       "      <td>$110.67-$120 SF/Year</td>\n",
       "      <td></td>\n",
       "      <td>3,300 - 6,600</td>\n",
       "      <td>3</td>\n",
       "      <td>6,600</td>\n",
       "      <td></td>\n",
       "    </tr>\n",
       "    <tr>\n",
       "      <th>4</th>\n",
       "      <td>http://www.loopnet.com/Listing/19872387/250-Hu...</td>\n",
       "      <td>250 Hudson St</td>\n",
       "      <td>New York, NY</td>\n",
       "      <td>NY</td>\n",
       "      <td>10013</td>\n",
       "      <td>$75-$90 SF/Year</td>\n",
       "      <td>Office Bldg</td>\n",
       "      <td>3,100 - 15,832</td>\n",
       "      <td>3</td>\n",
       "      <td>394,424</td>\n",
       "      <td></td>\n",
       "    </tr>\n",
       "    <tr>\n",
       "      <th>5</th>\n",
       "      <td>http://www.loopnet.com/Listing/19872550/485-Ma...</td>\n",
       "      <td>485 Madison Ave</td>\n",
       "      <td>New York, NY</td>\n",
       "      <td>NY</td>\n",
       "      <td>10022</td>\n",
       "      <td>$54-$550 SF/Year</td>\n",
       "      <td>Office Bldg</td>\n",
       "      <td>654 - 31,472</td>\n",
       "      <td>3</td>\n",
       "      <td>302,000</td>\n",
       "      <td></td>\n",
       "    </tr>\n",
       "    <tr>\n",
       "      <th>6</th>\n",
       "      <td>http://www.loopnet.com/Listing/18803035/315-Ma...</td>\n",
       "      <td>315 Madison Ave</td>\n",
       "      <td>New York, NY</td>\n",
       "      <td>NY</td>\n",
       "      <td>10017</td>\n",
       "      <td>$60-$355 SF/Year</td>\n",
       "      <td>Office Bldg</td>\n",
       "      <td>1,802 - 3,894</td>\n",
       "      <td>4</td>\n",
       "      <td>148,370</td>\n",
       "      <td></td>\n",
       "    </tr>\n",
       "    <tr>\n",
       "      <th>7</th>\n",
       "      <td>http://www.loopnet.com/Listing/19872441/315-Hu...</td>\n",
       "      <td>315 Hudson St</td>\n",
       "      <td>New York, NY</td>\n",
       "      <td>NY</td>\n",
       "      <td>10013</td>\n",
       "      <td>$100-$175 SF/Year</td>\n",
       "      <td>Office Bldg</td>\n",
       "      <td>3,922 - 5,881</td>\n",
       "      <td>5</td>\n",
       "      <td>485,577</td>\n",
       "      <td></td>\n",
       "    </tr>\n",
       "    <tr>\n",
       "      <th>8</th>\n",
       "      <td>http://www.loopnet.com/Listing/20002133/261-Fi...</td>\n",
       "      <td>261 Fifth Ave</td>\n",
       "      <td>New York, NY</td>\n",
       "      <td>NY</td>\n",
       "      <td>10001</td>\n",
       "      <td>Rate</td>\n",
       "      <td></td>\n",
       "      <td>1,590 - 21,457</td>\n",
       "      <td>3</td>\n",
       "      <td>444,716</td>\n",
       "      <td></td>\n",
       "    </tr>\n",
       "    <tr>\n",
       "      <th>9</th>\n",
       "      <td>http://www.loopnet.com/Listing/19271844/100-Br...</td>\n",
       "      <td>100 Broad St</td>\n",
       "      <td>New York, NY</td>\n",
       "      <td>NY</td>\n",
       "      <td>10004</td>\n",
       "      <td>$94 SF/Year</td>\n",
       "      <td></td>\n",
       "      <td>8,000</td>\n",
       "      <td></td>\n",
       "      <td>10,000</td>\n",
       "      <td></td>\n",
       "    </tr>\n",
       "    <tr>\n",
       "      <th>10</th>\n",
       "      <td>http://www.loopnet.com/Listing/19963876/143-Or...</td>\n",
       "      <td>143 Orchard St</td>\n",
       "      <td>New York, NY</td>\n",
       "      <td>NY</td>\n",
       "      <td>10002</td>\n",
       "      <td>$180 SF/Year</td>\n",
       "      <td>Other Retail</td>\n",
       "      <td>800</td>\n",
       "      <td></td>\n",
       "      <td>6,472</td>\n",
       "      <td></td>\n",
       "    </tr>\n",
       "    <tr>\n",
       "      <th>11</th>\n",
       "      <td>http://www.loopnet.com/Listing/18922237/142-14...</td>\n",
       "      <td>142-144 west 26 street</td>\n",
       "      <td>New York, NY</td>\n",
       "      <td>NY</td>\n",
       "      <td>10001</td>\n",
       "      <td>$85 SF/Year</td>\n",
       "      <td></td>\n",
       "      <td>4,000</td>\n",
       "      <td></td>\n",
       "      <td>53,054</td>\n",
       "      <td></td>\n",
       "    </tr>\n",
       "    <tr>\n",
       "      <th>12</th>\n",
       "      <td>http://www.loopnet.com/Listing/19814141/382-La...</td>\n",
       "      <td>382 Lafayette Street</td>\n",
       "      <td>New York, NY</td>\n",
       "      <td>NY</td>\n",
       "      <td>10003</td>\n",
       "      <td>$218.18 SF/Year</td>\n",
       "      <td></td>\n",
       "      <td>2,200</td>\n",
       "      <td></td>\n",
       "      <td>13,000</td>\n",
       "      <td></td>\n",
       "    </tr>\n",
       "    <tr>\n",
       "      <th>13</th>\n",
       "      <td>http://www.loopnet.com/Listing/19857624/155-We...</td>\n",
       "      <td>155 West 18th Street</td>\n",
       "      <td>New York, NY</td>\n",
       "      <td>NY</td>\n",
       "      <td>10011</td>\n",
       "      <td>Rate</td>\n",
       "      <td></td>\n",
       "      <td>2,440 - 7,406</td>\n",
       "      <td>3</td>\n",
       "      <td>7,406</td>\n",
       "      <td></td>\n",
       "    </tr>\n",
       "    <tr>\n",
       "      <th>14</th>\n",
       "      <td>http://www.loopnet.com/Listing/20056601/155-Ch...</td>\n",
       "      <td>155 Chambers St</td>\n",
       "      <td>New York, NY</td>\n",
       "      <td>NY</td>\n",
       "      <td>10007</td>\n",
       "      <td>$216 SF/Year</td>\n",
       "      <td></td>\n",
       "      <td>750</td>\n",
       "      <td></td>\n",
       "      <td>8,900</td>\n",
       "      <td></td>\n",
       "    </tr>\n",
       "    <tr>\n",
       "      <th>15</th>\n",
       "      <td>http://www.loopnet.com/Listing/20056597/70-74-...</td>\n",
       "      <td>70-74 Lafayette St</td>\n",
       "      <td>New York, NY</td>\n",
       "      <td>NY</td>\n",
       "      <td>11209</td>\n",
       "      <td>$58.50 SF/Year</td>\n",
       "      <td></td>\n",
       "      <td>4,000</td>\n",
       "      <td></td>\n",
       "      <td>16,900</td>\n",
       "      <td></td>\n",
       "    </tr>\n",
       "    <tr>\n",
       "      <th>16</th>\n",
       "      <td>http://www.loopnet.com/Listing/20054534/735-Ni...</td>\n",
       "      <td>735 Ninth Ave</td>\n",
       "      <td>New York, NY</td>\n",
       "      <td>NY</td>\n",
       "      <td>10019</td>\n",
       "      <td>Rate</td>\n",
       "      <td></td>\n",
       "      <td>2,000</td>\n",
       "      <td></td>\n",
       "      <td>2,700</td>\n",
       "      <td></td>\n",
       "    </tr>\n",
       "    <tr>\n",
       "      <th>17</th>\n",
       "      <td>http://www.loopnet.com/Listing/20051678/274-Gr...</td>\n",
       "      <td>274 Grand St</td>\n",
       "      <td>New York, NY</td>\n",
       "      <td>NY</td>\n",
       "      <td>10002</td>\n",
       "      <td>Rate</td>\n",
       "      <td></td>\n",
       "      <td>1,514 - 3,664</td>\n",
       "      <td>2</td>\n",
       "      <td>5,944</td>\n",
       "      <td></td>\n",
       "    </tr>\n",
       "    <tr>\n",
       "      <th>18</th>\n",
       "      <td>http://www.loopnet.com/Listing/20051336/580-59...</td>\n",
       "      <td>580-590 W 161st St</td>\n",
       "      <td>New York, NY</td>\n",
       "      <td>NY</td>\n",
       "      <td>10032</td>\n",
       "      <td>Rate</td>\n",
       "      <td></td>\n",
       "      <td>1,850</td>\n",
       "      <td></td>\n",
       "      <td>46,309</td>\n",
       "      <td></td>\n",
       "    </tr>\n",
       "    <tr>\n",
       "      <th>19</th>\n",
       "      <td>http://www.loopnet.com/Listing/20050911/1143-1...</td>\n",
       "      <td>1143 1ST Ave</td>\n",
       "      <td>New York, NY</td>\n",
       "      <td>NY</td>\n",
       "      <td>10065</td>\n",
       "      <td>$187.20 SF/Year</td>\n",
       "      <td></td>\n",
       "      <td>1,250</td>\n",
       "      <td></td>\n",
       "      <td>16,250</td>\n",
       "      <td></td>\n",
       "    </tr>\n",
       "  </tbody>\n",
       "</table>\n",
       "</div>"
      ],
      "text/plain": [
       "                                          Web_address          Street_address  \\\n",
       "0   http://www.loopnet.com/Listing/19621797/134-We...    134 West 37th Street   \n",
       "1   http://www.loopnet.com/Listing/19852777/517-Co...     517 Columbus Avenue   \n",
       "2   http://www.loopnet.com/Listing/19584842/76-Woo...           76 Wooster St   \n",
       "3   http://www.loopnet.com/Listing/19632482/117-Ea...    117 East 15th Street   \n",
       "4   http://www.loopnet.com/Listing/19872387/250-Hu...           250 Hudson St   \n",
       "5   http://www.loopnet.com/Listing/19872550/485-Ma...         485 Madison Ave   \n",
       "6   http://www.loopnet.com/Listing/18803035/315-Ma...         315 Madison Ave   \n",
       "7   http://www.loopnet.com/Listing/19872441/315-Hu...           315 Hudson St   \n",
       "8   http://www.loopnet.com/Listing/20002133/261-Fi...           261 Fifth Ave   \n",
       "9   http://www.loopnet.com/Listing/19271844/100-Br...            100 Broad St   \n",
       "10  http://www.loopnet.com/Listing/19963876/143-Or...          143 Orchard St   \n",
       "11  http://www.loopnet.com/Listing/18922237/142-14...  142-144 west 26 street   \n",
       "12  http://www.loopnet.com/Listing/19814141/382-La...    382 Lafayette Street   \n",
       "13  http://www.loopnet.com/Listing/19857624/155-We...    155 West 18th Street   \n",
       "14  http://www.loopnet.com/Listing/20056601/155-Ch...         155 Chambers St   \n",
       "15  http://www.loopnet.com/Listing/20056597/70-74-...      70-74 Lafayette St   \n",
       "16  http://www.loopnet.com/Listing/20054534/735-Ni...           735 Ninth Ave   \n",
       "17  http://www.loopnet.com/Listing/20051678/274-Gr...            274 Grand St   \n",
       "18  http://www.loopnet.com/Listing/20051336/580-59...      580-590 W 161st St   \n",
       "19  http://www.loopnet.com/Listing/20050911/1143-1...            1143 1ST Ave   \n",
       "\n",
       "        Locality State Postcode                 Price Property_type  \\\n",
       "0   New York, NY    NY    10018    $45-$79.20 SF/Year   Office Bldg   \n",
       "1   New York, NY    NY    10024       $204.60 SF/Year    Restaurant   \n",
       "2   New York, NY    NY    10012       $80-$84 SF/Year                 \n",
       "3   New York, NY    NY    10003  $110.67-$120 SF/Year                 \n",
       "4   New York, NY    NY    10013       $75-$90 SF/Year   Office Bldg   \n",
       "5   New York, NY    NY    10022      $54-$550 SF/Year   Office Bldg   \n",
       "6   New York, NY    NY    10017      $60-$355 SF/Year   Office Bldg   \n",
       "7   New York, NY    NY    10013     $100-$175 SF/Year   Office Bldg   \n",
       "8   New York, NY    NY    10001                  Rate                 \n",
       "9   New York, NY    NY    10004           $94 SF/Year                 \n",
       "10  New York, NY    NY    10002          $180 SF/Year  Other Retail   \n",
       "11  New York, NY    NY    10001           $85 SF/Year                 \n",
       "12  New York, NY    NY    10003       $218.18 SF/Year                 \n",
       "13  New York, NY    NY    10011                  Rate                 \n",
       "14  New York, NY    NY    10007          $216 SF/Year                 \n",
       "15  New York, NY    NY    11209        $58.50 SF/Year                 \n",
       "16  New York, NY    NY    10019                  Rate                 \n",
       "17  New York, NY    NY    10002                  Rate                 \n",
       "18  New York, NY    NY    10032                  Rate                 \n",
       "19  New York, NY    NY    10065       $187.20 SF/Year                 \n",
       "\n",
       "          SF_avail Spaces_avail  Bldg_SF  \\\n",
       "0   2,500 - 10,000            2  120,000   \n",
       "1            2,346                 2,345   \n",
       "2    3,000 - 5,000            2   10,000   \n",
       "3    3,300 - 6,600            3    6,600   \n",
       "4   3,100 - 15,832            3  394,424   \n",
       "5     654 - 31,472            3  302,000   \n",
       "6    1,802 - 3,894            4  148,370   \n",
       "7    3,922 - 5,881            5  485,577   \n",
       "8   1,590 - 21,457            3  444,716   \n",
       "9            8,000                10,000   \n",
       "10             800                 6,472   \n",
       "11           4,000                53,054   \n",
       "12           2,200                13,000   \n",
       "13   2,440 - 7,406            3    7,406   \n",
       "14             750                 8,900   \n",
       "15           4,000                16,900   \n",
       "16           2,000                 2,700   \n",
       "17   1,514 - 3,664            2    5,944   \n",
       "18           1,850                46,309   \n",
       "19           1,250                16,250   \n",
       "\n",
       "                                            Prop_desc  \n",
       "0   Extremely desirable office space in the heart ...  \n",
       "1   This is the former Jackson Hole space has not ...  \n",
       "2                                                      \n",
       "3                                                      \n",
       "4                                                      \n",
       "5                                                      \n",
       "6                                                      \n",
       "7                                                      \n",
       "8                                                      \n",
       "9                                                      \n",
       "10                                                     \n",
       "11                                                     \n",
       "12                                                     \n",
       "13                                                     \n",
       "14                                                     \n",
       "15                                                     \n",
       "16                                                     \n",
       "17                                                     \n",
       "18                                                     \n",
       "19                                                     "
      ]
     },
     "execution_count": 63,
     "metadata": {},
     "output_type": "execute_result"
    }
   ],
   "source": [
    "# Nameing the columns\n",
    "col = ['Web_address', 'Street_address', 'Locality', 'State', 'Postcode', \\\n",
    "       'Price', 'Property_type', 'SF_avail', 'Spaces_avail', 'Bldg_SF', \\\n",
    "       'Prop_desc']\n",
    "\n",
    "# Converting data into a dataframe\n",
    "df = pd.DataFrame(page_list, columns= col)\n",
    "df"
   ]
  },
  {
   "cell_type": "code",
   "execution_count": 64,
   "metadata": {
    "ExecuteTime": {
     "end_time": "2016-11-13T12:09:50.709242",
     "start_time": "2016-11-13T12:09:50.687110"
    },
    "collapsed": false
   },
   "outputs": [
    {
     "data": {
      "text/plain": [
       "20"
      ]
     },
     "execution_count": 64,
     "metadata": {},
     "output_type": "execute_result"
    }
   ],
   "source": [
    "# Checking to see if we got all 20 listings on the page\n",
    "len(page_list)\n",
    "\n",
    "# End of single page scrap testing"
   ]
  },
  {
   "cell_type": "markdown",
   "metadata": {},
   "source": [
    "## Starting to scrap Loopnet.com for all their NYC listings"
   ]
  },
  {
   "cell_type": "code",
   "execution_count": 189,
   "metadata": {
    "ExecuteTime": {
     "end_time": "2016-11-13T22:36:56.244846",
     "start_time": "2016-11-13T22:36:45.220685"
    },
    "collapsed": false
   },
   "outputs": [],
   "source": [
    "# Engineering the web address to account for page numbers\n",
    "url_template1 = \"http://www.loopnet.com/for-lease/ny/retail/\"\n",
    "url_template2 = \"/?view=list\"\n",
    "\n",
    "# Maximum available pages on the website\n",
    "max_pages = 25\n",
    "\n",
    "# List of possible proxy IP addresses\n",
    "\"\"\"58.176.46.248\n",
    "4.31.142.200\n",
    "64.20.45.138\"\"\"\n",
    "\n",
    "# Proxy IP address\n",
    "\n",
    "proxies = {\n",
    "    'http':'http://4.31.142.200'\n",
    "    }\n",
    "\n",
    "# Starting with page 2 since we have already scrapped first page \n",
    "# from the test above\n",
    "\n",
    "# Added \"+1\" since python range doesn't include upper limit\n",
    "for pg in range(2, max_pages+1, 1):\n",
    "    \n",
    "    # Engineering the web address for each page\n",
    "    url = url_template1 + str(pg) + url_template2\n",
    "\n",
    "    r = requests.get(url, proxies=proxies)\n",
    "    if str(r) == \"<Response [200]>\":\n",
    "\n",
    "        page = r.content\n",
    "        soup = BeautifulSoup(page, 'lxml')\n",
    "\n",
    "        results.append(get_listings(soup))\n",
    "        for i in results:\n",
    "            page_list.append(get_listing_details(i))\n",
    "\n",
    "    else:\n",
    "        print \"This url is not responding favorably.\"\n",
    "        print \"url =\", url\n",
    "        print \"response =\", r"
   ]
  },
  {
   "cell_type": "code",
   "execution_count": 190,
   "metadata": {
    "ExecuteTime": {
     "end_time": "2016-11-13T22:37:59.101902",
     "start_time": "2016-11-13T22:37:58.944559"
    },
    "collapsed": true
   },
   "outputs": [],
   "source": [
    "# Converting data into dataframe\n",
    "\n",
    "col = ['Web_address', 'Street_address', 'Locality', 'State', \\\n",
    "       'Postcode', 'Price', 'Property_type', 'SF_avail', \\\n",
    "       'Spaces_avail', 'Bldg_SF', 'Prop_desc']\n",
    "\n",
    "df = pd.DataFrame(page_list, columns= col)"
   ]
  },
  {
   "cell_type": "code",
   "execution_count": 191,
   "metadata": {
    "ExecuteTime": {
     "end_time": "2016-11-13T22:37:59.963272",
     "start_time": "2016-11-13T22:37:59.946557"
    },
    "collapsed": false
   },
   "outputs": [
    {
     "data": {
      "text/plain": [
       "(1238, 11)"
      ]
     },
     "execution_count": 191,
     "metadata": {},
     "output_type": "execute_result"
    }
   ],
   "source": [
    "# Checking to see number of listings scraped\n",
    "df.shape"
   ]
  },
  {
   "cell_type": "code",
   "execution_count": 192,
   "metadata": {
    "ExecuteTime": {
     "end_time": "2016-11-13T22:38:06.858873",
     "start_time": "2016-11-13T22:38:06.413093"
    },
    "collapsed": true
   },
   "outputs": [],
   "source": [
    "# Saving to csv!\n",
    "df.to_csv('listings.csv')"
   ]
  },
  {
   "cell_type": "code",
   "execution_count": 199,
   "metadata": {
    "ExecuteTime": {
     "end_time": "2016-11-13T22:44:41.389033",
     "start_time": "2016-11-13T22:44:41.260098"
    },
    "collapsed": false
   },
   "outputs": [],
   "source": [
    "# Dropping any duplicates\n",
    "df1 = df.drop_duplicates()"
   ]
  },
  {
   "cell_type": "code",
   "execution_count": 200,
   "metadata": {
    "ExecuteTime": {
     "end_time": "2016-11-13T22:44:42.169500",
     "start_time": "2016-11-13T22:44:42.105529"
    },
    "collapsed": false
   },
   "outputs": [
    {
     "name": "stdout",
     "output_type": "stream",
     "text": [
      "<class 'pandas.core.frame.DataFrame'>\n",
      "Int64Index: 42 entries, 0 to 892\n",
      "Data columns (total 14 columns):\n",
      "Web_address            42 non-null object\n",
      "Street_address         42 non-null object\n",
      "Locality               42 non-null object\n",
      "State                  42 non-null object\n",
      "Postcode               42 non-null object\n",
      "Price                  33 non-null object\n",
      "Property_type          42 non-null object\n",
      "SF_avail               42 non-null object\n",
      "Spaces_avail           42 non-null object\n",
      "Bldg_SF                42 non-null object\n",
      "Prop_desc              42 non-null object\n",
      "Full_street_address    42 non-null object\n",
      "Latitude               20 non-null float64\n",
      "Longitude              20 non-null float64\n",
      "dtypes: float64(2), object(12)\n",
      "memory usage: 4.9+ KB\n"
     ]
    }
   ],
   "source": [
    "# Checking to see how many listings remained\n",
    "df1.info()"
   ]
  },
  {
   "cell_type": "markdown",
   "metadata": {},
   "source": [
    "### Comments:\n",
    "\n",
    "Loopnet.com seemed to have many repeated entries. From an original universe set of 1,238 listings, there were only 42 entries left. This made me suspicious of the quality of data from Loopnet.com. Hence, this dataset was dropped for other sources."
   ]
  },
  {
   "cell_type": "markdown",
   "metadata": {},
   "source": [
    "# Scraping from CityFeet. using Selenium and PhantomJS"
   ]
  },
  {
   "cell_type": "code",
   "execution_count": 153,
   "metadata": {
    "ExecuteTime": {
     "end_time": "2016-11-13T17:34:56.202585",
     "start_time": "2016-11-13T17:34:56.179553"
    },
    "collapsed": true
   },
   "outputs": [],
   "source": [
    "from selenium import webdriver\n",
    "from selenium.webdriver.common.desired_capabilities import DesiredCapabilities\n",
    "import time"
   ]
  },
  {
   "cell_type": "code",
   "execution_count": 269,
   "metadata": {
    "ExecuteTime": {
     "end_time": "2016-11-14T10:47:00.487330",
     "start_time": "2016-11-14T10:20:52.845534"
    },
    "collapsed": false
   },
   "outputs": [],
   "source": [
    "# CityFeet.com using AJAX (Asynchronous JavaScript and XML), so Selenium\n",
    "# with PhantomJS were used to automatically scroll to the bottom\n",
    "\n",
    "pause = 5\n",
    "\n",
    "driver = webdriver.PhantomJS(\n",
    "    executable_path = \\\n",
    "    '/Users/peidacai/Downloads/phantomjs-2.1.1-macosx/bin/phantomjs')\n",
    "\n",
    "dcap = dict(DesiredCapabilities.PHANTOMJS)\n",
    "\n",
    "dcap['phantomjs.page.settings.userAgent'] = \\\n",
    "(\"Mozilla/5.0 (Macintosh; Intel Mac OS X 10_11_6) \\\n",
    "AppleWebKit/537.36 (KHTML, like Gecko) Chrome/54.0.2840.71 Safari/537.36\")\n",
    "\n",
    "driver = webdriver.PhantomJS(\n",
    "    executable_path='/Users/peidacai/Downloads/\\\n",
    "    phantomjs-2.1.1-macosx/bin/phantomjs', \\\n",
    "    desired_capabilities = dcap, service_args = [\n",
    "        '--ignore-ssl-errors=true'])\n",
    "\n",
    "driver.implicitly_wait(20)\n",
    "driver.set_window_size(1024, 768)\n",
    "driver.get('http://www.cityfeet.com/cont/new-york-retail-space#')\n",
    "\n",
    "# Code to automatically wait 5 seconds for new listings to load before \n",
    "# scrolling further. Website stopped loading if this is not included\n",
    "\n",
    "lastHeight = driver.execute_script(\"return document.body.scrollHeight\")\n",
    "while True:\n",
    "    driver.execute_script(\"window.scrollTo(0, document.body.scrollHeight);\")\n",
    "    time.sleep(pause)\n",
    "    newHeight = driver.execute_script(\"return document.body.scrollHeight\")\n",
    "    if newHeight == lastHeight:\n",
    "        break\n",
    "    lastHeight = newHeight"
   ]
  },
  {
   "cell_type": "markdown",
   "metadata": {},
   "source": [
    "## Appending html messages to list"
   ]
  },
  {
   "cell_type": "code",
   "execution_count": 270,
   "metadata": {
    "ExecuteTime": {
     "end_time": "2016-11-14T10:55:12.337502",
     "start_time": "2016-11-14T10:54:33.454904"
    },
    "collapsed": false
   },
   "outputs": [],
   "source": [
    "soup = BeautifulSoup(driver.page_source, \"html.parser\")\n",
    "\n",
    "results = soup.find_all('div','property clearfix src-CF level-30')\n",
    "\n",
    "cityfeet_results =[]\n",
    "for d in results:\n",
    "    cityfeet_results.append(d)\n"
   ]
  },
  {
   "cell_type": "code",
   "execution_count": 271,
   "metadata": {
    "ExecuteTime": {
     "end_time": "2016-11-14T10:55:15.482971",
     "start_time": "2016-11-14T10:55:15.445861"
    },
    "collapsed": false
   },
   "outputs": [
    {
     "data": {
      "text/plain": [
       "12"
      ]
     },
     "execution_count": 271,
     "metadata": {},
     "output_type": "execute_result"
    }
   ],
   "source": [
    "len(cityfeet_results)"
   ]
  },
  {
   "cell_type": "code",
   "execution_count": 272,
   "metadata": {
    "ExecuteTime": {
     "end_time": "2016-11-14T10:55:40.765519",
     "start_time": "2016-11-14T10:55:34.348106"
    },
    "collapsed": true
   },
   "outputs": [],
   "source": [
    "results = soup.find_all('div','property clearfix src-LN level-20')\n",
    "\n",
    "for d in results:\n",
    "    cityfeet_results.append(d)"
   ]
  },
  {
   "cell_type": "code",
   "execution_count": 273,
   "metadata": {
    "ExecuteTime": {
     "end_time": "2016-11-14T10:55:54.547797",
     "start_time": "2016-11-14T10:55:54.509615"
    },
    "collapsed": false
   },
   "outputs": [
    {
     "data": {
      "text/plain": [
       "1774"
      ]
     },
     "execution_count": 273,
     "metadata": {},
     "output_type": "execute_result"
    }
   ],
   "source": [
    "len(cityfeet_results)"
   ]
  },
  {
   "cell_type": "code",
   "execution_count": 274,
   "metadata": {
    "ExecuteTime": {
     "end_time": "2016-11-14T10:56:10.505776",
     "start_time": "2016-11-14T10:56:04.926995"
    },
    "collapsed": true
   },
   "outputs": [],
   "source": [
    "results = soup.find_all('div','property clearfix src-LN level-10')\n",
    "\n",
    "for d in results:\n",
    "    cityfeet_results.append(d)"
   ]
  },
  {
   "cell_type": "code",
   "execution_count": 275,
   "metadata": {
    "ExecuteTime": {
     "end_time": "2016-11-14T10:56:12.673897",
     "start_time": "2016-11-14T10:56:12.662453"
    },
    "collapsed": false
   },
   "outputs": [
    {
     "data": {
      "text/plain": [
       "1774"
      ]
     },
     "execution_count": 275,
     "metadata": {},
     "output_type": "execute_result"
    }
   ],
   "source": [
    "len(cityfeet_results)"
   ]
  },
  {
   "cell_type": "code",
   "execution_count": 276,
   "metadata": {
    "ExecuteTime": {
     "end_time": "2016-11-14T10:56:40.912739",
     "start_time": "2016-11-14T10:56:34.966827"
    },
    "collapsed": true
   },
   "outputs": [],
   "source": [
    "results = soup.find_all('div','property clearfix src-LN level-40')\n",
    "\n",
    "for d in results:\n",
    "    cityfeet_results.append(d)"
   ]
  },
  {
   "cell_type": "code",
   "execution_count": 277,
   "metadata": {
    "ExecuteTime": {
     "end_time": "2016-11-14T10:56:42.542851",
     "start_time": "2016-11-14T10:56:42.519933"
    },
    "collapsed": false
   },
   "outputs": [
    {
     "data": {
      "text/plain": [
       "1777"
      ]
     },
     "execution_count": 277,
     "metadata": {},
     "output_type": "execute_result"
    }
   ],
   "source": [
    "len(cityfeet_results)"
   ]
  },
  {
   "cell_type": "markdown",
   "metadata": {},
   "source": [
    "## Defining function to sieve out listing details"
   ]
  },
  {
   "cell_type": "code",
   "execution_count": 183,
   "metadata": {
    "ExecuteTime": {
     "end_time": "2016-11-13T22:35:01.475890",
     "start_time": "2016-11-13T22:35:01.431749"
    },
    "collapsed": true
   },
   "outputs": [],
   "source": [
    "def get_cityfeet_details(listing_placard):\n",
    "    \n",
    "    listing = []\n",
    "    \n",
    "    # listing streetaddress\n",
    "    try:\n",
    "        listing.append(re.findall('title=\"(.+)\">', str(listing_placard))[0])\n",
    "    except:\n",
    "        listing.append('')\n",
    "         \n",
    "    # listing state\n",
    "    try:\n",
    "        listing.append((re.findall('<address>\\n<div>(.+)</div>', \\\n",
    "                                   str(listing_placard))[0]).strip())\n",
    "    except:\n",
    "        listing.append('')\n",
    "    \n",
    "    # listing price\n",
    "    try:\n",
    "        listing.append(re.findall('\"price\">(.+)</strong><strong>', \\\n",
    "                                  str(listing_placard))[0])\n",
    "    except:\n",
    "        listing.append('')\n",
    "        \n",
    "    # listing square feet available\n",
    "    try:\n",
    "        listing.append(re.findall('<strong>(.+)</strong>', \\\n",
    "                                  str(listing_placard))[0])\n",
    "    except:\n",
    "        listing.append('')\n",
    "        \n",
    "    #listing property description\n",
    "    try:\n",
    "        listing.append(re.findall(\n",
    "                '\"propertydescription\"><p>((.|\\n|\\r)*)</p>', \\\n",
    "                str(listing_placard))[0])\n",
    "    except:\n",
    "        listing.append('')\n",
    "    \n",
    "    return listing"
   ]
  },
  {
   "cell_type": "code",
   "execution_count": 278,
   "metadata": {
    "ExecuteTime": {
     "end_time": "2016-11-14T10:57:19.386089",
     "start_time": "2016-11-14T10:57:00.586872"
    },
    "collapsed": false
   },
   "outputs": [],
   "source": [
    "# Adding listing details to dataframe\n",
    "\n",
    "cityfeet_list = []\n",
    "\n",
    "for i in cityfeet_results:\n",
    "    cityfeet_list.append(get_cityfeet_details(i))\n",
    "\n",
    "dfc = pd.DataFrame(cityfeet_list, columns = ['Street_address', 'State', \\\n",
    "                                             'Price', 'SF_avail', \\\n",
    "                                             'Prop_desc'])"
   ]
  },
  {
   "cell_type": "code",
   "execution_count": 279,
   "metadata": {
    "ExecuteTime": {
     "end_time": "2016-11-14T10:57:23.715486",
     "start_time": "2016-11-14T10:57:23.370337"
    },
    "collapsed": false
   },
   "outputs": [
    {
     "data": {
      "text/html": [
       "<div>\n",
       "<table border=\"1\" class=\"dataframe\">\n",
       "  <thead>\n",
       "    <tr style=\"text-align: right;\">\n",
       "      <th></th>\n",
       "      <th>Street_address</th>\n",
       "      <th>State</th>\n",
       "      <th>Price</th>\n",
       "      <th>SF_avail</th>\n",
       "      <th>Prop_desc</th>\n",
       "    </tr>\n",
       "  </thead>\n",
       "  <tbody>\n",
       "    <tr>\n",
       "      <th>0</th>\n",
       "      <td>327 Guy Lombardo Avenue</td>\n",
       "      <td>Freeport, NY 11520</td>\n",
       "      <td>Rent Upon Req.</td>\n",
       "      <td>Size Upon Req.</td>\n",
       "      <td>(Busy Intersection on corner of Guy Lombardo a...</td>\n",
       "    </tr>\n",
       "    <tr>\n",
       "      <th>1</th>\n",
       "      <td>327 W 57th St. PRIME RESTAURANT-RETAIL FOR LEASE</td>\n",
       "      <td>New York, NY 10019</td>\n",
       "      <td>$118.75 /sf/year</td>\n",
       "      <td>3,840 SF</td>\n",
       "      <td>(Amazing Location! Perfect for Restaurant or R...</td>\n",
       "    </tr>\n",
       "    <tr>\n",
       "      <th>2</th>\n",
       "      <td>118 West 14th Street Retail</td>\n",
       "      <td>New York, NY 10011</td>\n",
       "      <td>$140.00 /sf/year</td>\n",
       "      <td>4,200 SF</td>\n",
       "      <td>(Prime retail at the base of a luxury resident...</td>\n",
       "    </tr>\n",
       "    <tr>\n",
       "      <th>3</th>\n",
       "      <td>Prime Retail, 5th Avenue Ladies Mile</td>\n",
       "      <td>New York, NY 10011</td>\n",
       "      <td>Rent Upon Req.</td>\n",
       "      <td>2,500 SF</td>\n",
       "      <td>(This impeccably maintained boutique cast iron...</td>\n",
       "    </tr>\n",
       "    <tr>\n",
       "      <th>4</th>\n",
       "      <td>BELOW MARKET!! PRIME MEATPACKING 14th ST</td>\n",
       "      <td>New York, NY 10014</td>\n",
       "      <td>$65.00 /sf/year</td>\n",
       "      <td>3,100 SF</td>\n",
       "      <td>(Boutique building located in the heart of the...</td>\n",
       "    </tr>\n",
       "  </tbody>\n",
       "</table>\n",
       "</div>"
      ],
      "text/plain": [
       "                                     Street_address               State  \\\n",
       "0                           327 Guy Lombardo Avenue  Freeport, NY 11520   \n",
       "1  327 W 57th St. PRIME RESTAURANT-RETAIL FOR LEASE  New York, NY 10019   \n",
       "2                       118 West 14th Street Retail  New York, NY 10011   \n",
       "3              Prime Retail, 5th Avenue Ladies Mile  New York, NY 10011   \n",
       "4          BELOW MARKET!! PRIME MEATPACKING 14th ST  New York, NY 10014   \n",
       "\n",
       "              Price        SF_avail  \\\n",
       "0    Rent Upon Req.  Size Upon Req.   \n",
       "1  $118.75 /sf/year        3,840 SF   \n",
       "2  $140.00 /sf/year        4,200 SF   \n",
       "3    Rent Upon Req.        2,500 SF   \n",
       "4   $65.00 /sf/year        3,100 SF   \n",
       "\n",
       "                                           Prop_desc  \n",
       "0  (Busy Intersection on corner of Guy Lombardo a...  \n",
       "1  (Amazing Location! Perfect for Restaurant or R...  \n",
       "2  (Prime retail at the base of a luxury resident...  \n",
       "3  (This impeccably maintained boutique cast iron...  \n",
       "4  (Boutique building located in the heart of the...  "
      ]
     },
     "execution_count": 279,
     "metadata": {},
     "output_type": "execute_result"
    }
   ],
   "source": [
    "dfc.head()"
   ]
  },
  {
   "cell_type": "markdown",
   "metadata": {},
   "source": [
    "# Initial data cleaning"
   ]
  },
  {
   "cell_type": "markdown",
   "metadata": {},
   "source": [
    "## Cleaning \"Price\" column"
   ]
  },
  {
   "cell_type": "code",
   "execution_count": 387,
   "metadata": {
    "ExecuteTime": {
     "end_time": "2016-11-14T13:19:07.316908",
     "start_time": "2016-11-14T13:19:07.305757"
    },
    "collapsed": false
   },
   "outputs": [],
   "source": [
    "# Removing listings without prices\n",
    "df_c = dfc[dfc['Price']!=\"Rent Upon Req.\"]"
   ]
  },
  {
   "cell_type": "markdown",
   "metadata": {},
   "source": [
    "### Comments:\n",
    "Lost about 600 entries, from 1,777 to 1,134."
   ]
  },
  {
   "cell_type": "code",
   "execution_count": 389,
   "metadata": {
    "ExecuteTime": {
     "end_time": "2016-11-14T13:19:08.860541",
     "start_time": "2016-11-14T13:19:08.844666"
    },
    "collapsed": false
   },
   "outputs": [
    {
     "data": {
      "text/plain": [
       "(1134, 5)"
      ]
     },
     "execution_count": 389,
     "metadata": {},
     "output_type": "execute_result"
    }
   ],
   "source": [
    "df_c[df_c['Price'].str.contains(\"/sf/year\")].shape"
   ]
  },
  {
   "cell_type": "markdown",
   "metadata": {},
   "source": [
    "### Comments:\n",
    "All prices are in the same unit, \"square feet per year\". So we can leave that alone for now."
   ]
  },
  {
   "cell_type": "markdown",
   "metadata": {},
   "source": [
    "## Cleaning address"
   ]
  },
  {
   "cell_type": "markdown",
   "metadata": {},
   "source": [
    "### Zipcodes"
   ]
  },
  {
   "cell_type": "code",
   "execution_count": 390,
   "metadata": {
    "ExecuteTime": {
     "end_time": "2016-11-14T13:19:11.742745",
     "start_time": "2016-11-14T13:19:11.737163"
    },
    "collapsed": true
   },
   "outputs": [],
   "source": [
    "# Extracting zipcodes from address\n",
    "def get_zips(x):\n",
    "    return re.findall('\\d{5}', x)[0]"
   ]
  },
  {
   "cell_type": "code",
   "execution_count": 391,
   "metadata": {
    "ExecuteTime": {
     "end_time": "2016-11-14T13:19:14.525900",
     "start_time": "2016-11-14T13:19:12.629098"
    },
    "collapsed": false
   },
   "outputs": [],
   "source": [
    "df_c.loc[:,'Postcode'] = df_c['State'].apply(get_zips)"
   ]
  },
  {
   "cell_type": "code",
   "execution_count": 392,
   "metadata": {
    "ExecuteTime": {
     "end_time": "2016-11-14T13:19:16.184279",
     "start_time": "2016-11-14T13:19:16.138422"
    },
    "collapsed": false
   },
   "outputs": [
    {
     "data": {
      "text/html": [
       "<div>\n",
       "<table border=\"1\" class=\"dataframe\">\n",
       "  <thead>\n",
       "    <tr style=\"text-align: right;\">\n",
       "      <th></th>\n",
       "      <th>Street_address</th>\n",
       "      <th>State</th>\n",
       "      <th>Price</th>\n",
       "      <th>SF_avail</th>\n",
       "      <th>Prop_desc</th>\n",
       "      <th>Postcode</th>\n",
       "    </tr>\n",
       "  </thead>\n",
       "  <tbody>\n",
       "    <tr>\n",
       "      <th>1</th>\n",
       "      <td>327 W 57th St. PRIME RESTAURANT-RETAIL FOR LEASE</td>\n",
       "      <td>New York, NY 10019</td>\n",
       "      <td>$118.75 /sf/year</td>\n",
       "      <td>3,840 SF</td>\n",
       "      <td>(Amazing Location! Perfect for Restaurant or R...</td>\n",
       "      <td>10019</td>\n",
       "    </tr>\n",
       "    <tr>\n",
       "      <th>2</th>\n",
       "      <td>118 West 14th Street Retail</td>\n",
       "      <td>New York, NY 10011</td>\n",
       "      <td>$140.00 /sf/year</td>\n",
       "      <td>4,200 SF</td>\n",
       "      <td>(Prime retail at the base of a luxury resident...</td>\n",
       "      <td>10011</td>\n",
       "    </tr>\n",
       "    <tr>\n",
       "      <th>4</th>\n",
       "      <td>BELOW MARKET!! PRIME MEATPACKING 14th ST</td>\n",
       "      <td>New York, NY 10014</td>\n",
       "      <td>$65.00 /sf/year</td>\n",
       "      <td>3,100 SF</td>\n",
       "      <td>(Boutique building located in the heart of the...</td>\n",
       "      <td>10014</td>\n",
       "    </tr>\n",
       "    <tr>\n",
       "      <th>10</th>\n",
       "      <td>778 Nostrand Ave</td>\n",
       "      <td>Brooklyn, NY 11215</td>\n",
       "      <td>$39.54 /sf/year</td>\n",
       "      <td>1,669 SF</td>\n",
       "      <td>(Prime Retail Space located on the main strip ...</td>\n",
       "      <td>11215</td>\n",
       "    </tr>\n",
       "    <tr>\n",
       "      <th>14</th>\n",
       "      <td>5 Court Square</td>\n",
       "      <td>Long Island City, NY 11101</td>\n",
       "      <td>$35.00 /sf/year</td>\n",
       "      <td>3,500 SF</td>\n",
       "      <td>(Immediate possession,  2   5 year lease term,...</td>\n",
       "      <td>11101</td>\n",
       "    </tr>\n",
       "  </tbody>\n",
       "</table>\n",
       "</div>"
      ],
      "text/plain": [
       "                                      Street_address  \\\n",
       "1   327 W 57th St. PRIME RESTAURANT-RETAIL FOR LEASE   \n",
       "2                        118 West 14th Street Retail   \n",
       "4           BELOW MARKET!! PRIME MEATPACKING 14th ST   \n",
       "10                                  778 Nostrand Ave   \n",
       "14                                    5 Court Square   \n",
       "\n",
       "                         State             Price  SF_avail  \\\n",
       "1           New York, NY 10019  $118.75 /sf/year  3,840 SF   \n",
       "2           New York, NY 10011  $140.00 /sf/year  4,200 SF   \n",
       "4           New York, NY 10014   $65.00 /sf/year  3,100 SF   \n",
       "10          Brooklyn, NY 11215   $39.54 /sf/year  1,669 SF   \n",
       "14  Long Island City, NY 11101   $35.00 /sf/year  3,500 SF   \n",
       "\n",
       "                                            Prop_desc Postcode  \n",
       "1   (Amazing Location! Perfect for Restaurant or R...    10019  \n",
       "2   (Prime retail at the base of a luxury resident...    10011  \n",
       "4   (Boutique building located in the heart of the...    10014  \n",
       "10  (Prime Retail Space located on the main strip ...    11215  \n",
       "14  (Immediate possession,  2   5 year lease term,...    11101  "
      ]
     },
     "execution_count": 392,
     "metadata": {},
     "output_type": "execute_result"
    }
   ],
   "source": [
    "df_c.head()"
   ]
  },
  {
   "cell_type": "markdown",
   "metadata": {},
   "source": [
    "### Street address"
   ]
  },
  {
   "cell_type": "code",
   "execution_count": 393,
   "metadata": {
    "ExecuteTime": {
     "end_time": "2016-11-14T13:19:19.462416",
     "start_time": "2016-11-14T13:19:19.448927"
    },
    "collapsed": true
   },
   "outputs": [],
   "source": [
    "# Function to create a boolean mask to weed out non-conventional addresses\n",
    "def get_proper_add(x):\n",
    "    \n",
    "    # List of 'proper' address endings, to weed out erroneous ones\n",
    "    proper_add = ['street', 'avenue', 'st', 'st.', 'ave', 'ave.', \\\n",
    "                  'broadway', 'place', 'pl.', 'pl',\\\n",
    "                  'square', 'cresent', 'road', 'highway', 'turnpike', \\\n",
    "                  'boulevard', 'steinway', '9', 'bypass', 'court', \\\n",
    "                  'parkway', 'lane', 'drive', 'americas', 'bowery', 'plaza']\n",
    "    \n",
    "    # Changing to all lower cases so it is easier to compare \n",
    "    x = x.lower()\n",
    "    # \n",
    "    x = x.split()\n",
    "    \n",
    "    # Addresses ending with words in \"proper_add\" and digits are ok\n",
    "    if (x[-1] in proper_add) or (re.match('\\d+', x[-1])):\n",
    "        return False\n",
    "    else:\n",
    "        return True"
   ]
  },
  {
   "cell_type": "code",
   "execution_count": 394,
   "metadata": {
    "ExecuteTime": {
     "end_time": "2016-11-14T13:22:13.117848",
     "start_time": "2016-11-14T13:22:11.925883"
    },
    "collapsed": false
   },
   "outputs": [
    {
     "name": "stderr",
     "output_type": "stream",
     "text": [
      "/anaconda/lib/python2.7/site-packages/ipykernel/__main__.py:1: SettingWithCopyWarning: \n",
      "A value is trying to be set on a copy of a slice from a DataFrame.\n",
      "Try using .loc[row_indexer,col_indexer] = value instead\n",
      "\n",
      "See the caveats in the documentation: http://pandas.pydata.org/pandas-docs/stable/indexing.html#indexing-view-versus-copy\n",
      "  if __name__ == '__main__':\n"
     ]
    }
   ],
   "source": [
    "# Adding a boolean mask column\n",
    "df_c['Address_to_correct'] = df_c['Street_address'].apply(get_proper_add)"
   ]
  },
  {
   "cell_type": "code",
   "execution_count": 395,
   "metadata": {
    "ExecuteTime": {
     "end_time": "2016-11-14T13:22:15.363299",
     "start_time": "2016-11-14T13:22:15.345031"
    },
    "collapsed": false
   },
   "outputs": [
    {
     "data": {
      "text/plain": [
       "(26, 7)"
      ]
     },
     "execution_count": 395,
     "metadata": {},
     "output_type": "execute_result"
    }
   ],
   "source": [
    "# Applying the filter to the dataframe\n",
    "df_d = df_c[df_c['Address_to_correct'] == True]\n",
    "df_d.shape"
   ]
  },
  {
   "cell_type": "code",
   "execution_count": 396,
   "metadata": {
    "ExecuteTime": {
     "end_time": "2016-11-14T13:22:16.434721",
     "start_time": "2016-11-14T13:22:16.271289"
    },
    "collapsed": false
   },
   "outputs": [
    {
     "data": {
      "text/html": [
       "<div>\n",
       "<table border=\"1\" class=\"dataframe\">\n",
       "  <thead>\n",
       "    <tr style=\"text-align: right;\">\n",
       "      <th></th>\n",
       "      <th>Street_address</th>\n",
       "      <th>State</th>\n",
       "      <th>Price</th>\n",
       "      <th>SF_avail</th>\n",
       "      <th>Prop_desc</th>\n",
       "      <th>Postcode</th>\n",
       "      <th>Address_to_correct</th>\n",
       "    </tr>\n",
       "  </thead>\n",
       "  <tbody>\n",
       "    <tr>\n",
       "      <th>1</th>\n",
       "      <td>327 W 57th St. PRIME RESTAURANT-RETAIL FOR LEASE</td>\n",
       "      <td>New York, NY 10019</td>\n",
       "      <td>$118.75 /sf/year</td>\n",
       "      <td>3,840 SF</td>\n",
       "      <td>(Amazing Location! Perfect for Restaurant or R...</td>\n",
       "      <td>10019</td>\n",
       "      <td>True</td>\n",
       "    </tr>\n",
       "    <tr>\n",
       "      <th>2</th>\n",
       "      <td>118 West 14th Street Retail</td>\n",
       "      <td>New York, NY 10011</td>\n",
       "      <td>$140.00 /sf/year</td>\n",
       "      <td>4,200 SF</td>\n",
       "      <td>(Prime retail at the base of a luxury resident...</td>\n",
       "      <td>10011</td>\n",
       "      <td>True</td>\n",
       "    </tr>\n",
       "    <tr>\n",
       "      <th>26</th>\n",
       "      <td>17 Knolls Crescent</td>\n",
       "      <td>Bronx, NY 10463</td>\n",
       "      <td>$53.04 /sf/year</td>\n",
       "      <td>905 SF</td>\n",
       "      <td>(Strip Mall, l)</td>\n",
       "      <td>10463</td>\n",
       "      <td>True</td>\n",
       "    </tr>\n",
       "    <tr>\n",
       "      <th>181</th>\n",
       "      <td>4205 Avenue D</td>\n",
       "      <td>Brooklyn, NY 11203</td>\n",
       "      <td>$39.00 /sf/year</td>\n",
       "      <td>1,700 - 3,400 SF</td>\n",
       "      <td>(Coldwell Banker Reliable Commercial Division ...</td>\n",
       "      <td>11203</td>\n",
       "      <td>True</td>\n",
       "    </tr>\n",
       "    <tr>\n",
       "      <th>375</th>\n",
       "      <td>2913 Avenue W</td>\n",
       "      <td>Brooklyn, NY 11229</td>\n",
       "      <td>$33.00 /sf/year</td>\n",
       "      <td>2,200 SF</td>\n",
       "      <td>(This is a brand new development in the vibran...</td>\n",
       "      <td>11229</td>\n",
       "      <td>True</td>\n",
       "    </tr>\n",
       "    <tr>\n",
       "      <th>427</th>\n",
       "      <td>1314 Avenue U</td>\n",
       "      <td>Brooklyn, NY 11229</td>\n",
       "      <td>$49.00 /sf/year</td>\n",
       "      <td>1,200 SF</td>\n",
       "      <td>(Prime retail strip Avenue U &amp;amp; east 15 str...</td>\n",
       "      <td>11229</td>\n",
       "      <td>True</td>\n",
       "    </tr>\n",
       "    <tr>\n",
       "      <th>548</th>\n",
       "      <td>585 Veterans Road W</td>\n",
       "      <td>Staten Island, NY 10309</td>\n",
       "      <td>$40.00 /sf/year</td>\n",
       "      <td>1,000 - 2,400 SF</td>\n",
       "      <td>(Strip center with Pep Boys and Dunkin as co-t...</td>\n",
       "      <td>10309</td>\n",
       "      <td>True</td>\n",
       "    </tr>\n",
       "    <tr>\n",
       "      <th>593</th>\n",
       "      <td>95 Avenue B</td>\n",
       "      <td>New York, NY 10009</td>\n",
       "      <td>$89.61 /sf/year</td>\n",
       "      <td>1,540 SF</td>\n",
       "      <td>(In the east village, ground level, new buildi...</td>\n",
       "      <td>10009</td>\n",
       "      <td>True</td>\n",
       "    </tr>\n",
       "    <tr>\n",
       "      <th>657</th>\n",
       "      <td>25 Gardenville Parkway W</td>\n",
       "      <td>Buffalo, NY 14224</td>\n",
       "      <td>$8.00 /sf/year</td>\n",
       "      <td>3,532 SF</td>\n",
       "      <td>(Plaza was recently remodeled.  Dollar General...</td>\n",
       "      <td>14224</td>\n",
       "      <td>True</td>\n",
       "    </tr>\n",
       "    <tr>\n",
       "      <th>834</th>\n",
       "      <td>1224 Avenue J</td>\n",
       "      <td>Brooklyn, NY 11230</td>\n",
       "      <td>$90.00 /sf/year</td>\n",
       "      <td>3,300 SF</td>\n",
       "      <td>(Fully renovated prime retail corner, r)</td>\n",
       "      <td>11230</td>\n",
       "      <td>True</td>\n",
       "    </tr>\n",
       "    <tr>\n",
       "      <th>848</th>\n",
       "      <td>33 Chestnut</td>\n",
       "      <td>Cold Spring, NY 10516</td>\n",
       "      <td>$36.00 /sf/year</td>\n",
       "      <td>2,000 SF</td>\n",
       "      <td>(SELLER FINANCING NOW Available!! Great Opport...</td>\n",
       "      <td>10516</td>\n",
       "      <td>True</td>\n",
       "    </tr>\n",
       "    <tr>\n",
       "      <th>915</th>\n",
       "      <td>1025 Little East Neck Road N</td>\n",
       "      <td>West Babylon, NY 11704</td>\n",
       "      <td>$20.00 /sf/year</td>\n",
       "      <td>1,000 - 3,500 SF</td>\n",
       "      <td>(New 4 unit Retail Space \\nunit 1- 636 sq ft, ...</td>\n",
       "      <td>11704</td>\n",
       "      <td>True</td>\n",
       "    </tr>\n",
       "    <tr>\n",
       "      <th>1006</th>\n",
       "      <td>2855 Veterans Road W</td>\n",
       "      <td>Staten Island, NY 10309</td>\n",
       "      <td>$55.00 /sf/year</td>\n",
       "      <td>2,200 - 8,544 SF</td>\n",
       "      <td>(AAA RETAIL CORNER OPPOSITE 2 BUSY SHOPPING CE...</td>\n",
       "      <td>10309</td>\n",
       "      <td>True</td>\n",
       "    </tr>\n",
       "    <tr>\n",
       "      <th>1030</th>\n",
       "      <td>237 Vestal Parkway E</td>\n",
       "      <td>Vestal, NY 13850</td>\n",
       "      <td>$8.00 /sf/year</td>\n",
       "      <td>10,000 - 12,240 SF</td>\n",
       "      <td></td>\n",
       "      <td>13850</td>\n",
       "      <td>True</td>\n",
       "    </tr>\n",
       "    <tr>\n",
       "      <th>1044</th>\n",
       "      <td>485 Schutt Road Extension</td>\n",
       "      <td>Middletown, NY 10940</td>\n",
       "      <td>$15.00 /sf/year</td>\n",
       "      <td>2,500 SF</td>\n",
       "      <td>(Office/retail space available for lease. 2,50...</td>\n",
       "      <td>10940</td>\n",
       "      <td>True</td>\n",
       "    </tr>\n",
       "    <tr>\n",
       "      <th>1059</th>\n",
       "      <td>130 7th Avenue S</td>\n",
       "      <td>New York, NY 10014</td>\n",
       "      <td>$225.00 /sf/year</td>\n",
       "      <td>2,000 SF</td>\n",
       "      <td>(Reference CoStar Property ID 1377306 for prio...</td>\n",
       "      <td>10014</td>\n",
       "      <td>True</td>\n",
       "    </tr>\n",
       "    <tr>\n",
       "      <th>1066</th>\n",
       "      <td>421 447 Avenue P</td>\n",
       "      <td>Brooklyn, NY 11223</td>\n",
       "      <td>$50.00 /sf/year</td>\n",
       "      <td>720 SF</td>\n",
       "      <td>(Ground floor retail (7,760 sq ft) and 33 apar...</td>\n",
       "      <td>11223</td>\n",
       "      <td>True</td>\n",
       "    </tr>\n",
       "    <tr>\n",
       "      <th>1087</th>\n",
       "      <td>2103 Grand Concourse</td>\n",
       "      <td>Bronx, NY 10453</td>\n",
       "      <td>$78.22 /sf/year</td>\n",
       "      <td>675 SF</td>\n",
       "      <td>(Location Corner: SWProperty Description: Mult...</td>\n",
       "      <td>10453</td>\n",
       "      <td>True</td>\n",
       "    </tr>\n",
       "    <tr>\n",
       "      <th>1243</th>\n",
       "      <td>230 Oriskany Boulevard Yorkville</td>\n",
       "      <td>Yorkville, NY 13495</td>\n",
       "      <td>$9.00 - $12.00 /sf/year</td>\n",
       "      <td>400 - 3,500 SF</td>\n",
       "      <td>(Plaza retail row, w)</td>\n",
       "      <td>13495</td>\n",
       "      <td>True</td>\n",
       "    </tr>\n",
       "    <tr>\n",
       "      <th>1336</th>\n",
       "      <td>1395 Madison Avenue approximate</td>\n",
       "      <td>Manhattan, NY 10029</td>\n",
       "      <td>$124.29 /sf/year</td>\n",
       "      <td>700 SF</td>\n",
       "      <td>($8,000 per month | 700 SF  John | \\n Retail &amp;...</td>\n",
       "      <td>10029</td>\n",
       "      <td>True</td>\n",
       "    </tr>\n",
       "    <tr>\n",
       "      <th>1356</th>\n",
       "      <td>505 Schutt Road Extension</td>\n",
       "      <td>Middletown, NY 10940</td>\n",
       "      <td>$16.00 /sf/year</td>\n",
       "      <td>3,500 SF</td>\n",
       "      <td>(NEWLY DEMISED VERY VISBLE END-CAP Available i...</td>\n",
       "      <td>10940</td>\n",
       "      <td>True</td>\n",
       "    </tr>\n",
       "    <tr>\n",
       "      <th>1357</th>\n",
       "      <td>505 Schutt Road Extension</td>\n",
       "      <td>Middletown, NY 10940</td>\n",
       "      <td>$18.00 /sf/year</td>\n",
       "      <td>1,500 SF</td>\n",
       "      <td>(Wallkill Town Center - Price Chopper Anchored...</td>\n",
       "      <td>10940</td>\n",
       "      <td>True</td>\n",
       "    </tr>\n",
       "    <tr>\n",
       "      <th>1462</th>\n",
       "      <td>3179 Erie Boulevard E</td>\n",
       "      <td>Syracuse, NY 13214</td>\n",
       "      <td>$17.00 /sf/year</td>\n",
       "      <td>1,745 SF</td>\n",
       "      <td>(Last 1,745 SF retail space is available for l...</td>\n",
       "      <td>13214</td>\n",
       "      <td>True</td>\n",
       "    </tr>\n",
       "    <tr>\n",
       "      <th>1519</th>\n",
       "      <td>1211 Avenue J</td>\n",
       "      <td>Brooklyn, NY 11230</td>\n",
       "      <td>$60.00 /sf/year</td>\n",
       "      <td>2,000 SF</td>\n",
       "      <td>(20 x 100\\n2000 sq feet on Major Brooklyn Shop...</td>\n",
       "      <td>11230</td>\n",
       "      <td>True</td>\n",
       "    </tr>\n",
       "    <tr>\n",
       "      <th>1670</th>\n",
       "      <td>405 Central Park W</td>\n",
       "      <td>New York, NY 10025</td>\n",
       "      <td>$116.40 /sf/year</td>\n",
       "      <td>750 SF</td>\n",
       "      <td>(6-Story Walk Up Building. Located on Central ...</td>\n",
       "      <td>10025</td>\n",
       "      <td>True</td>\n",
       "    </tr>\n",
       "    <tr>\n",
       "      <th>1765</th>\n",
       "      <td>328 Canal Address</td>\n",
       "      <td>New York, NY 10013</td>\n",
       "      <td>$80.00 /sf/year</td>\n",
       "      <td>5,000 SF</td>\n",
       "      <td>(Ceiling height 14 ft. \\n\\n2500 SQFT 1st Fl. +...</td>\n",
       "      <td>10013</td>\n",
       "      <td>True</td>\n",
       "    </tr>\n",
       "  </tbody>\n",
       "</table>\n",
       "</div>"
      ],
      "text/plain": [
       "                                        Street_address  \\\n",
       "1     327 W 57th St. PRIME RESTAURANT-RETAIL FOR LEASE   \n",
       "2                          118 West 14th Street Retail   \n",
       "26                                  17 Knolls Crescent   \n",
       "181                                      4205 Avenue D   \n",
       "375                                      2913 Avenue W   \n",
       "427                                      1314 Avenue U   \n",
       "548                                585 Veterans Road W   \n",
       "593                                        95 Avenue B   \n",
       "657                           25 Gardenville Parkway W   \n",
       "834                                      1224 Avenue J   \n",
       "848                                        33 Chestnut   \n",
       "915                       1025 Little East Neck Road N   \n",
       "1006                              2855 Veterans Road W   \n",
       "1030                              237 Vestal Parkway E   \n",
       "1044                         485 Schutt Road Extension   \n",
       "1059                                  130 7th Avenue S   \n",
       "1066                                  421 447 Avenue P   \n",
       "1087                              2103 Grand Concourse   \n",
       "1243                  230 Oriskany Boulevard Yorkville   \n",
       "1336                   1395 Madison Avenue approximate   \n",
       "1356                         505 Schutt Road Extension   \n",
       "1357                         505 Schutt Road Extension   \n",
       "1462                             3179 Erie Boulevard E   \n",
       "1519                                     1211 Avenue J   \n",
       "1670                                405 Central Park W   \n",
       "1765                                 328 Canal Address   \n",
       "\n",
       "                        State                    Price            SF_avail  \\\n",
       "1          New York, NY 10019         $118.75 /sf/year            3,840 SF   \n",
       "2          New York, NY 10011         $140.00 /sf/year            4,200 SF   \n",
       "26            Bronx, NY 10463          $53.04 /sf/year              905 SF   \n",
       "181        Brooklyn, NY 11203          $39.00 /sf/year    1,700 - 3,400 SF   \n",
       "375        Brooklyn, NY 11229          $33.00 /sf/year            2,200 SF   \n",
       "427        Brooklyn, NY 11229          $49.00 /sf/year            1,200 SF   \n",
       "548   Staten Island, NY 10309          $40.00 /sf/year    1,000 - 2,400 SF   \n",
       "593        New York, NY 10009          $89.61 /sf/year            1,540 SF   \n",
       "657         Buffalo, NY 14224           $8.00 /sf/year            3,532 SF   \n",
       "834        Brooklyn, NY 11230          $90.00 /sf/year            3,300 SF   \n",
       "848     Cold Spring, NY 10516          $36.00 /sf/year            2,000 SF   \n",
       "915    West Babylon, NY 11704          $20.00 /sf/year    1,000 - 3,500 SF   \n",
       "1006  Staten Island, NY 10309          $55.00 /sf/year    2,200 - 8,544 SF   \n",
       "1030         Vestal, NY 13850           $8.00 /sf/year  10,000 - 12,240 SF   \n",
       "1044     Middletown, NY 10940          $15.00 /sf/year            2,500 SF   \n",
       "1059       New York, NY 10014         $225.00 /sf/year            2,000 SF   \n",
       "1066       Brooklyn, NY 11223          $50.00 /sf/year              720 SF   \n",
       "1087          Bronx, NY 10453          $78.22 /sf/year              675 SF   \n",
       "1243      Yorkville, NY 13495  $9.00 - $12.00 /sf/year      400 - 3,500 SF   \n",
       "1336      Manhattan, NY 10029         $124.29 /sf/year              700 SF   \n",
       "1356     Middletown, NY 10940          $16.00 /sf/year            3,500 SF   \n",
       "1357     Middletown, NY 10940          $18.00 /sf/year            1,500 SF   \n",
       "1462       Syracuse, NY 13214          $17.00 /sf/year            1,745 SF   \n",
       "1519       Brooklyn, NY 11230          $60.00 /sf/year            2,000 SF   \n",
       "1670       New York, NY 10025         $116.40 /sf/year              750 SF   \n",
       "1765       New York, NY 10013          $80.00 /sf/year            5,000 SF   \n",
       "\n",
       "                                              Prop_desc Postcode  \\\n",
       "1     (Amazing Location! Perfect for Restaurant or R...    10019   \n",
       "2     (Prime retail at the base of a luxury resident...    10011   \n",
       "26                                      (Strip Mall, l)    10463   \n",
       "181   (Coldwell Banker Reliable Commercial Division ...    11203   \n",
       "375   (This is a brand new development in the vibran...    11229   \n",
       "427   (Prime retail strip Avenue U &amp; east 15 str...    11229   \n",
       "548   (Strip center with Pep Boys and Dunkin as co-t...    10309   \n",
       "593   (In the east village, ground level, new buildi...    10009   \n",
       "657   (Plaza was recently remodeled.  Dollar General...    14224   \n",
       "834            (Fully renovated prime retail corner, r)    11230   \n",
       "848   (SELLER FINANCING NOW Available!! Great Opport...    10516   \n",
       "915   (New 4 unit Retail Space \\nunit 1- 636 sq ft, ...    11704   \n",
       "1006  (AAA RETAIL CORNER OPPOSITE 2 BUSY SHOPPING CE...    10309   \n",
       "1030                                                       13850   \n",
       "1044  (Office/retail space available for lease. 2,50...    10940   \n",
       "1059  (Reference CoStar Property ID 1377306 for prio...    10014   \n",
       "1066  (Ground floor retail (7,760 sq ft) and 33 apar...    11223   \n",
       "1087  (Location Corner: SWProperty Description: Mult...    10453   \n",
       "1243                              (Plaza retail row, w)    13495   \n",
       "1336  ($8,000 per month | 700 SF  John | \\n Retail &...    10029   \n",
       "1356  (NEWLY DEMISED VERY VISBLE END-CAP Available i...    10940   \n",
       "1357  (Wallkill Town Center - Price Chopper Anchored...    10940   \n",
       "1462  (Last 1,745 SF retail space is available for l...    13214   \n",
       "1519  (20 x 100\\n2000 sq feet on Major Brooklyn Shop...    11230   \n",
       "1670  (6-Story Walk Up Building. Located on Central ...    10025   \n",
       "1765  (Ceiling height 14 ft. \\n\\n2500 SQFT 1st Fl. +...    10013   \n",
       "\n",
       "     Address_to_correct  \n",
       "1                  True  \n",
       "2                  True  \n",
       "26                 True  \n",
       "181                True  \n",
       "375                True  \n",
       "427                True  \n",
       "548                True  \n",
       "593                True  \n",
       "657                True  \n",
       "834                True  \n",
       "848                True  \n",
       "915                True  \n",
       "1006               True  \n",
       "1030               True  \n",
       "1044               True  \n",
       "1059               True  \n",
       "1066               True  \n",
       "1087               True  \n",
       "1243               True  \n",
       "1336               True  \n",
       "1356               True  \n",
       "1357               True  \n",
       "1462               True  \n",
       "1519               True  \n",
       "1670               True  \n",
       "1765               True  "
      ]
     },
     "execution_count": 396,
     "metadata": {},
     "output_type": "execute_result"
    }
   ],
   "source": [
    "# Inspecting the addresses\n",
    "df_d"
   ]
  },
  {
   "cell_type": "code",
   "execution_count": 397,
   "metadata": {
    "ExecuteTime": {
     "end_time": "2016-11-14T13:22:21.310222",
     "start_time": "2016-11-14T13:22:20.262276"
    },
    "collapsed": false
   },
   "outputs": [
    {
     "name": "stderr",
     "output_type": "stream",
     "text": [
      "/anaconda/lib/python2.7/site-packages/ipykernel/__main__.py:5: SettingWithCopyWarning: \n",
      "A value is trying to be set on a copy of a slice from a DataFrame\n",
      "\n",
      "See the caveats in the documentation: http://pandas.pydata.org/pandas-docs/stable/indexing.html#indexing-view-versus-copy\n"
     ]
    }
   ],
   "source": [
    "# Correcting individual addresses\n",
    "\n",
    "df_c.loc[1, 'Street_address'] = '327 W 57th St'\n",
    "df_c.loc[2, 'Street_address'] = '118 West 14th Street'\n",
    "df_c.loc[214, 'Street_address'] = '26 W 14th Street'\n",
    "df_c.loc[1336, 'Street_address'] = '1395 Madison Avenue'\n",
    "df_c.loc[1765, 'Street_address'] = '328 Canal Street'\n",
    "df_c.loc[1356, 'Street_address'] = '505 Schutt Road'\n",
    "df_c.loc[1357, 'Street_address'] = '505 Schutt Road'\n",
    "df_c.loc[1044, 'Street_address'] = '485 Schutt Road'"
   ]
  },
  {
   "cell_type": "code",
   "execution_count": 398,
   "metadata": {
    "ExecuteTime": {
     "end_time": "2016-11-14T13:22:23.323883",
     "start_time": "2016-11-14T13:22:23.276448"
    },
    "collapsed": false
   },
   "outputs": [
    {
     "data": {
      "text/html": [
       "<div>\n",
       "<table border=\"1\" class=\"dataframe\">\n",
       "  <thead>\n",
       "    <tr style=\"text-align: right;\">\n",
       "      <th></th>\n",
       "      <th>Street_address</th>\n",
       "      <th>State</th>\n",
       "      <th>Price</th>\n",
       "      <th>SF_avail</th>\n",
       "      <th>Prop_desc</th>\n",
       "      <th>Postcode</th>\n",
       "      <th>Address_to_correct</th>\n",
       "    </tr>\n",
       "  </thead>\n",
       "  <tbody>\n",
       "    <tr>\n",
       "      <th>1</th>\n",
       "      <td>327 W 57th St</td>\n",
       "      <td>New York, NY 10019</td>\n",
       "      <td>$118.75 /sf/year</td>\n",
       "      <td>3,840 SF</td>\n",
       "      <td>(Amazing Location! Perfect for Restaurant or R...</td>\n",
       "      <td>10019</td>\n",
       "      <td>True</td>\n",
       "    </tr>\n",
       "    <tr>\n",
       "      <th>2</th>\n",
       "      <td>118 West 14th Street</td>\n",
       "      <td>New York, NY 10011</td>\n",
       "      <td>$140.00 /sf/year</td>\n",
       "      <td>4,200 SF</td>\n",
       "      <td>(Prime retail at the base of a luxury resident...</td>\n",
       "      <td>10011</td>\n",
       "      <td>True</td>\n",
       "    </tr>\n",
       "    <tr>\n",
       "      <th>4</th>\n",
       "      <td>BELOW MARKET!! PRIME MEATPACKING 14th ST</td>\n",
       "      <td>New York, NY 10014</td>\n",
       "      <td>$65.00 /sf/year</td>\n",
       "      <td>3,100 SF</td>\n",
       "      <td>(Boutique building located in the heart of the...</td>\n",
       "      <td>10014</td>\n",
       "      <td>False</td>\n",
       "    </tr>\n",
       "    <tr>\n",
       "      <th>10</th>\n",
       "      <td>778 Nostrand Ave</td>\n",
       "      <td>Brooklyn, NY 11215</td>\n",
       "      <td>$39.54 /sf/year</td>\n",
       "      <td>1,669 SF</td>\n",
       "      <td>(Prime Retail Space located on the main strip ...</td>\n",
       "      <td>11215</td>\n",
       "      <td>False</td>\n",
       "    </tr>\n",
       "    <tr>\n",
       "      <th>14</th>\n",
       "      <td>5 Court Square</td>\n",
       "      <td>Long Island City, NY 11101</td>\n",
       "      <td>$35.00 /sf/year</td>\n",
       "      <td>3,500 SF</td>\n",
       "      <td>(Immediate possession,  2   5 year lease term,...</td>\n",
       "      <td>11101</td>\n",
       "      <td>False</td>\n",
       "    </tr>\n",
       "  </tbody>\n",
       "</table>\n",
       "</div>"
      ],
      "text/plain": [
       "                              Street_address                       State  \\\n",
       "1                              327 W 57th St          New York, NY 10019   \n",
       "2                       118 West 14th Street          New York, NY 10011   \n",
       "4   BELOW MARKET!! PRIME MEATPACKING 14th ST          New York, NY 10014   \n",
       "10                          778 Nostrand Ave          Brooklyn, NY 11215   \n",
       "14                            5 Court Square  Long Island City, NY 11101   \n",
       "\n",
       "               Price  SF_avail  \\\n",
       "1   $118.75 /sf/year  3,840 SF   \n",
       "2   $140.00 /sf/year  4,200 SF   \n",
       "4    $65.00 /sf/year  3,100 SF   \n",
       "10   $39.54 /sf/year  1,669 SF   \n",
       "14   $35.00 /sf/year  3,500 SF   \n",
       "\n",
       "                                            Prop_desc Postcode  \\\n",
       "1   (Amazing Location! Perfect for Restaurant or R...    10019   \n",
       "2   (Prime retail at the base of a luxury resident...    10011   \n",
       "4   (Boutique building located in the heart of the...    10014   \n",
       "10  (Prime Retail Space located on the main strip ...    11215   \n",
       "14  (Immediate possession,  2   5 year lease term,...    11101   \n",
       "\n",
       "   Address_to_correct  \n",
       "1                True  \n",
       "2                True  \n",
       "4               False  \n",
       "10              False  \n",
       "14              False  "
      ]
     },
     "execution_count": 398,
     "metadata": {},
     "output_type": "execute_result"
    }
   ],
   "source": [
    "df_c.head()"
   ]
  },
  {
   "cell_type": "code",
   "execution_count": 401,
   "metadata": {
    "ExecuteTime": {
     "end_time": "2016-11-14T13:23:52.895929",
     "start_time": "2016-11-14T13:23:52.886400"
    },
    "collapsed": false
   },
   "outputs": [
    {
     "data": {
      "text/plain": [
       "(1135, 7)"
      ]
     },
     "execution_count": 401,
     "metadata": {},
     "output_type": "execute_result"
    }
   ],
   "source": [
    "df_c.shape"
   ]
  },
  {
   "cell_type": "markdown",
   "metadata": {},
   "source": [
    "## Reverting to cleaning price column"
   ]
  },
  {
   "cell_type": "code",
   "execution_count": 403,
   "metadata": {
    "ExecuteTime": {
     "end_time": "2016-11-14T13:25:06.168658",
     "start_time": "2016-11-14T13:25:06.146630"
    },
    "collapsed": true
   },
   "outputs": [],
   "source": [
    "# Function to get the digits in the price columns\n",
    "def get_price(x):\n",
    "    try:\n",
    "        return re.findall('\\d+\\.\\d\\d', x)[0]\n",
    "    except:\n",
    "        return np.nan"
   ]
  },
  {
   "cell_type": "code",
   "execution_count": 404,
   "metadata": {
    "ExecuteTime": {
     "end_time": "2016-11-14T13:25:06.951245",
     "start_time": "2016-11-14T13:25:06.923820"
    },
    "collapsed": false
   },
   "outputs": [],
   "source": [
    "# Applying function to the price column\n",
    "df_c['Price_per_sf_per_year'] = df_c['Price'].apply(get_price)"
   ]
  },
  {
   "cell_type": "code",
   "execution_count": 406,
   "metadata": {
    "ExecuteTime": {
     "end_time": "2016-11-14T13:26:03.985459",
     "start_time": "2016-11-14T13:26:03.948734"
    },
    "collapsed": false
   },
   "outputs": [
    {
     "data": {
      "text/html": [
       "<div>\n",
       "<table border=\"1\" class=\"dataframe\">\n",
       "  <thead>\n",
       "    <tr style=\"text-align: right;\">\n",
       "      <th></th>\n",
       "      <th>Street_address</th>\n",
       "      <th>State</th>\n",
       "      <th>Price</th>\n",
       "      <th>SF_avail</th>\n",
       "      <th>Prop_desc</th>\n",
       "      <th>Postcode</th>\n",
       "      <th>Address_to_correct</th>\n",
       "      <th>Price_per_sf_per_year</th>\n",
       "    </tr>\n",
       "  </thead>\n",
       "  <tbody>\n",
       "    <tr>\n",
       "      <th>214</th>\n",
       "      <td>26 W 14th Street</td>\n",
       "      <td>NaN</td>\n",
       "      <td>NaN</td>\n",
       "      <td>NaN</td>\n",
       "      <td>NaN</td>\n",
       "      <td>NaN</td>\n",
       "      <td>NaN</td>\n",
       "      <td>NaN</td>\n",
       "    </tr>\n",
       "  </tbody>\n",
       "</table>\n",
       "</div>"
      ],
      "text/plain": [
       "       Street_address State Price SF_avail Prop_desc Postcode  \\\n",
       "214  26 W 14th Street   NaN   NaN      NaN       NaN      NaN   \n",
       "\n",
       "    Address_to_correct Price_per_sf_per_year  \n",
       "214                NaN                   NaN  "
      ]
     },
     "execution_count": 406,
     "metadata": {},
     "output_type": "execute_result"
    }
   ],
   "source": [
    "# Sieving out rows with \"NaN\" price\n",
    "df_c[df_c['Price_per_sf_per_year'].isnull()]"
   ]
  },
  {
   "cell_type": "code",
   "execution_count": 317,
   "metadata": {
    "ExecuteTime": {
     "end_time": "2016-11-14T11:25:38.951266",
     "start_time": "2016-11-14T11:25:38.742972"
    },
    "collapsed": false
   },
   "outputs": [
    {
     "data": {
      "text/html": [
       "<div>\n",
       "<table border=\"1\" class=\"dataframe\">\n",
       "  <thead>\n",
       "    <tr style=\"text-align: right;\">\n",
       "      <th></th>\n",
       "      <th>Street_address</th>\n",
       "      <th>State</th>\n",
       "      <th>Price</th>\n",
       "      <th>SF_avail</th>\n",
       "      <th>Prop_desc</th>\n",
       "      <th>Postcode</th>\n",
       "      <th>Address_to_correct</th>\n",
       "      <th>Price_per_sf_per_year</th>\n",
       "    </tr>\n",
       "  </thead>\n",
       "  <tbody>\n",
       "    <tr>\n",
       "      <th>1</th>\n",
       "      <td>327 W 57th St</td>\n",
       "      <td>New York, NY 10019</td>\n",
       "      <td>$118.75 /sf/year</td>\n",
       "      <td>3,840 SF</td>\n",
       "      <td>(Amazing Location! Perfect for Restaurant or R...</td>\n",
       "      <td>10019</td>\n",
       "      <td>True</td>\n",
       "      <td>118.75</td>\n",
       "    </tr>\n",
       "    <tr>\n",
       "      <th>2</th>\n",
       "      <td>118 West 14th Street</td>\n",
       "      <td>New York, NY 10011</td>\n",
       "      <td>$140.00 /sf/year</td>\n",
       "      <td>4,200 SF</td>\n",
       "      <td>(Prime retail at the base of a luxury resident...</td>\n",
       "      <td>10011</td>\n",
       "      <td>True</td>\n",
       "      <td>140.00</td>\n",
       "    </tr>\n",
       "    <tr>\n",
       "      <th>4</th>\n",
       "      <td>BELOW MARKET!! PRIME MEATPACKING 14th ST</td>\n",
       "      <td>New York, NY 10014</td>\n",
       "      <td>$65.00 /sf/year</td>\n",
       "      <td>3,100 SF</td>\n",
       "      <td>(Boutique building located in the heart of the...</td>\n",
       "      <td>10014</td>\n",
       "      <td>False</td>\n",
       "      <td>65.00</td>\n",
       "    </tr>\n",
       "    <tr>\n",
       "      <th>10</th>\n",
       "      <td>778 Nostrand Ave</td>\n",
       "      <td>Brooklyn, NY 11215</td>\n",
       "      <td>$39.54 /sf/year</td>\n",
       "      <td>1,669 SF</td>\n",
       "      <td>(Prime Retail Space located on the main strip ...</td>\n",
       "      <td>11215</td>\n",
       "      <td>False</td>\n",
       "      <td>39.54</td>\n",
       "    </tr>\n",
       "    <tr>\n",
       "      <th>14</th>\n",
       "      <td>5 Court Square</td>\n",
       "      <td>Long Island City, NY 11101</td>\n",
       "      <td>$35.00 /sf/year</td>\n",
       "      <td>3,500 SF</td>\n",
       "      <td>(Immediate possession,  2   5 year lease term,...</td>\n",
       "      <td>11101</td>\n",
       "      <td>False</td>\n",
       "      <td>35.00</td>\n",
       "    </tr>\n",
       "  </tbody>\n",
       "</table>\n",
       "</div>"
      ],
      "text/plain": [
       "                              Street_address                       State  \\\n",
       "1                              327 W 57th St          New York, NY 10019   \n",
       "2                       118 West 14th Street          New York, NY 10011   \n",
       "4   BELOW MARKET!! PRIME MEATPACKING 14th ST          New York, NY 10014   \n",
       "10                          778 Nostrand Ave          Brooklyn, NY 11215   \n",
       "14                            5 Court Square  Long Island City, NY 11101   \n",
       "\n",
       "               Price  SF_avail  \\\n",
       "1   $118.75 /sf/year  3,840 SF   \n",
       "2   $140.00 /sf/year  4,200 SF   \n",
       "4    $65.00 /sf/year  3,100 SF   \n",
       "10   $39.54 /sf/year  1,669 SF   \n",
       "14   $35.00 /sf/year  3,500 SF   \n",
       "\n",
       "                                            Prop_desc Postcode  \\\n",
       "1   (Amazing Location! Perfect for Restaurant or R...    10019   \n",
       "2   (Prime retail at the base of a luxury resident...    10011   \n",
       "4   (Boutique building located in the heart of the...    10014   \n",
       "10  (Prime Retail Space located on the main strip ...    11215   \n",
       "14  (Immediate possession,  2   5 year lease term,...    11101   \n",
       "\n",
       "   Address_to_correct Price_per_sf_per_year  \n",
       "1                True                118.75  \n",
       "2                True                140.00  \n",
       "4               False                 65.00  \n",
       "10              False                 39.54  \n",
       "14              False                 35.00  "
      ]
     },
     "execution_count": 317,
     "metadata": {},
     "output_type": "execute_result"
    }
   ],
   "source": [
    "df_c.head()"
   ]
  },
  {
   "cell_type": "code",
   "execution_count": 407,
   "metadata": {
    "ExecuteTime": {
     "end_time": "2016-11-14T13:26:23.105271",
     "start_time": "2016-11-14T13:26:23.060548"
    },
    "collapsed": false
   },
   "outputs": [
    {
     "data": {
      "text/html": [
       "<div>\n",
       "<table border=\"1\" class=\"dataframe\">\n",
       "  <thead>\n",
       "    <tr style=\"text-align: right;\">\n",
       "      <th></th>\n",
       "      <th>Street_address</th>\n",
       "      <th>State</th>\n",
       "      <th>Price</th>\n",
       "      <th>SF_avail</th>\n",
       "      <th>Prop_desc</th>\n",
       "      <th>Postcode</th>\n",
       "      <th>Address_to_correct</th>\n",
       "      <th>Price_per_sf_per_year</th>\n",
       "    </tr>\n",
       "  </thead>\n",
       "  <tbody>\n",
       "    <tr>\n",
       "      <th>1</th>\n",
       "      <td>327 W 57th St</td>\n",
       "      <td>New York, NY 10019</td>\n",
       "      <td>$118.75 /sf/year</td>\n",
       "      <td>3,840 SF</td>\n",
       "      <td>(Amazing Location! Perfect for Restaurant or R...</td>\n",
       "      <td>10019</td>\n",
       "      <td>True</td>\n",
       "      <td>118.75</td>\n",
       "    </tr>\n",
       "    <tr>\n",
       "      <th>2</th>\n",
       "      <td>118 West 14th Street</td>\n",
       "      <td>New York, NY 10011</td>\n",
       "      <td>$140.00 /sf/year</td>\n",
       "      <td>4,200 SF</td>\n",
       "      <td>(Prime retail at the base of a luxury resident...</td>\n",
       "      <td>10011</td>\n",
       "      <td>True</td>\n",
       "      <td>140.00</td>\n",
       "    </tr>\n",
       "    <tr>\n",
       "      <th>10</th>\n",
       "      <td>778 Nostrand Ave</td>\n",
       "      <td>Brooklyn, NY 11215</td>\n",
       "      <td>$39.54 /sf/year</td>\n",
       "      <td>1,669 SF</td>\n",
       "      <td>(Prime Retail Space located on the main strip ...</td>\n",
       "      <td>11215</td>\n",
       "      <td>False</td>\n",
       "      <td>39.54</td>\n",
       "    </tr>\n",
       "    <tr>\n",
       "      <th>14</th>\n",
       "      <td>5 Court Square</td>\n",
       "      <td>Long Island City, NY 11101</td>\n",
       "      <td>$35.00 /sf/year</td>\n",
       "      <td>3,500 SF</td>\n",
       "      <td>(Immediate possession,  2   5 year lease term,...</td>\n",
       "      <td>11101</td>\n",
       "      <td>False</td>\n",
       "      <td>35.00</td>\n",
       "    </tr>\n",
       "    <tr>\n",
       "      <th>23</th>\n",
       "      <td>16 W 8th Street</td>\n",
       "      <td>New York, NY 10011</td>\n",
       "      <td>$149.61 /sf/year</td>\n",
       "      <td>1,163 SF</td>\n",
       "      <td>(Excellent space steps from Washington Square ...</td>\n",
       "      <td>10011</td>\n",
       "      <td>False</td>\n",
       "      <td>149.61</td>\n",
       "    </tr>\n",
       "  </tbody>\n",
       "</table>\n",
       "</div>"
      ],
      "text/plain": [
       "          Street_address                       State             Price  \\\n",
       "1          327 W 57th St          New York, NY 10019  $118.75 /sf/year   \n",
       "2   118 West 14th Street          New York, NY 10011  $140.00 /sf/year   \n",
       "10      778 Nostrand Ave          Brooklyn, NY 11215   $39.54 /sf/year   \n",
       "14        5 Court Square  Long Island City, NY 11101   $35.00 /sf/year   \n",
       "23       16 W 8th Street          New York, NY 10011  $149.61 /sf/year   \n",
       "\n",
       "    SF_avail                                          Prop_desc Postcode  \\\n",
       "1   3,840 SF  (Amazing Location! Perfect for Restaurant or R...    10019   \n",
       "2   4,200 SF  (Prime retail at the base of a luxury resident...    10011   \n",
       "10  1,669 SF  (Prime Retail Space located on the main strip ...    11215   \n",
       "14  3,500 SF  (Immediate possession,  2   5 year lease term,...    11101   \n",
       "23  1,163 SF  (Excellent space steps from Washington Square ...    10011   \n",
       "\n",
       "   Address_to_correct Price_per_sf_per_year  \n",
       "1                True                118.75  \n",
       "2                True                140.00  \n",
       "10              False                 39.54  \n",
       "14              False                 35.00  \n",
       "23              False                149.61  "
      ]
     },
     "execution_count": 407,
     "metadata": {},
     "output_type": "execute_result"
    }
   ],
   "source": [
    "# Dropping NaN row (row 214) and row with ambiguous address (row 4)\n",
    "df_c.drop(4, axis = 0, inplace = True)\n",
    "df_c.drop(214, axis = 0, inplace = True)\n",
    "df_c.head()"
   ]
  },
  {
   "cell_type": "code",
   "execution_count": 408,
   "metadata": {
    "ExecuteTime": {
     "end_time": "2016-11-14T13:26:37.724957",
     "start_time": "2016-11-14T13:26:37.703585"
    },
    "collapsed": false
   },
   "outputs": [
    {
     "data": {
      "text/html": [
       "<div>\n",
       "<table border=\"1\" class=\"dataframe\">\n",
       "  <thead>\n",
       "    <tr style=\"text-align: right;\">\n",
       "      <th></th>\n",
       "      <th>Street_address</th>\n",
       "      <th>State</th>\n",
       "      <th>Price</th>\n",
       "      <th>SF_avail</th>\n",
       "      <th>Prop_desc</th>\n",
       "      <th>Postcode</th>\n",
       "      <th>Address_to_correct</th>\n",
       "      <th>Price_per_sf_per_year</th>\n",
       "    </tr>\n",
       "  </thead>\n",
       "  <tbody>\n",
       "  </tbody>\n",
       "</table>\n",
       "</div>"
      ],
      "text/plain": [
       "Empty DataFrame\n",
       "Columns: [Street_address, State, Price, SF_avail, Prop_desc, Postcode, Address_to_correct, Price_per_sf_per_year]\n",
       "Index: []"
      ]
     },
     "execution_count": 408,
     "metadata": {},
     "output_type": "execute_result"
    }
   ],
   "source": [
    "# Confirming there are no more NaN in price column\n",
    "df_c[df_c['Price_per_sf_per_year'].isnull()]"
   ]
  },
  {
   "cell_type": "markdown",
   "metadata": {},
   "source": [
    "## Extracting city"
   ]
  },
  {
   "cell_type": "code",
   "execution_count": 409,
   "metadata": {
    "ExecuteTime": {
     "end_time": "2016-11-14T13:27:28.301037",
     "start_time": "2016-11-14T13:27:28.173285"
    },
    "collapsed": false
   },
   "outputs": [
    {
     "data": {
      "text/html": [
       "<div>\n",
       "<table border=\"1\" class=\"dataframe\">\n",
       "  <thead>\n",
       "    <tr style=\"text-align: right;\">\n",
       "      <th></th>\n",
       "      <th>Street_address</th>\n",
       "      <th>State</th>\n",
       "      <th>Price</th>\n",
       "      <th>SF_avail</th>\n",
       "      <th>Prop_desc</th>\n",
       "      <th>Postcode</th>\n",
       "      <th>Address_to_correct</th>\n",
       "      <th>Price_per_sf_per_year</th>\n",
       "      <th>City</th>\n",
       "    </tr>\n",
       "  </thead>\n",
       "  <tbody>\n",
       "    <tr>\n",
       "      <th>1</th>\n",
       "      <td>327 W 57th St</td>\n",
       "      <td>New York, NY 10019</td>\n",
       "      <td>$118.75 /sf/year</td>\n",
       "      <td>3,840 SF</td>\n",
       "      <td>(Amazing Location! Perfect for Restaurant or R...</td>\n",
       "      <td>10019</td>\n",
       "      <td>True</td>\n",
       "      <td>118.75</td>\n",
       "      <td>New York</td>\n",
       "    </tr>\n",
       "    <tr>\n",
       "      <th>2</th>\n",
       "      <td>118 West 14th Street</td>\n",
       "      <td>New York, NY 10011</td>\n",
       "      <td>$140.00 /sf/year</td>\n",
       "      <td>4,200 SF</td>\n",
       "      <td>(Prime retail at the base of a luxury resident...</td>\n",
       "      <td>10011</td>\n",
       "      <td>True</td>\n",
       "      <td>140.00</td>\n",
       "      <td>New York</td>\n",
       "    </tr>\n",
       "    <tr>\n",
       "      <th>10</th>\n",
       "      <td>778 Nostrand Ave</td>\n",
       "      <td>Brooklyn, NY 11215</td>\n",
       "      <td>$39.54 /sf/year</td>\n",
       "      <td>1,669 SF</td>\n",
       "      <td>(Prime Retail Space located on the main strip ...</td>\n",
       "      <td>11215</td>\n",
       "      <td>False</td>\n",
       "      <td>39.54</td>\n",
       "      <td>Brooklyn</td>\n",
       "    </tr>\n",
       "    <tr>\n",
       "      <th>14</th>\n",
       "      <td>5 Court Square</td>\n",
       "      <td>Long Island City, NY 11101</td>\n",
       "      <td>$35.00 /sf/year</td>\n",
       "      <td>3,500 SF</td>\n",
       "      <td>(Immediate possession,  2   5 year lease term,...</td>\n",
       "      <td>11101</td>\n",
       "      <td>False</td>\n",
       "      <td>35.00</td>\n",
       "      <td>Long Island City</td>\n",
       "    </tr>\n",
       "    <tr>\n",
       "      <th>23</th>\n",
       "      <td>16 W 8th Street</td>\n",
       "      <td>New York, NY 10011</td>\n",
       "      <td>$149.61 /sf/year</td>\n",
       "      <td>1,163 SF</td>\n",
       "      <td>(Excellent space steps from Washington Square ...</td>\n",
       "      <td>10011</td>\n",
       "      <td>False</td>\n",
       "      <td>149.61</td>\n",
       "      <td>New York</td>\n",
       "    </tr>\n",
       "    <tr>\n",
       "      <th>24</th>\n",
       "      <td>3821 Broadway</td>\n",
       "      <td>New York, NY 10032</td>\n",
       "      <td>$140.00 - $140.24 /sf/year</td>\n",
       "      <td>830 - 966 SF</td>\n",
       "      <td>(Great corner location in a busy area of Washi...</td>\n",
       "      <td>10032</td>\n",
       "      <td>False</td>\n",
       "      <td>140.00</td>\n",
       "      <td>New York</td>\n",
       "    </tr>\n",
       "    <tr>\n",
       "      <th>26</th>\n",
       "      <td>17 Knolls Crescent</td>\n",
       "      <td>Bronx, NY 10463</td>\n",
       "      <td>$53.04 /sf/year</td>\n",
       "      <td>905 SF</td>\n",
       "      <td>(Strip Mall, l)</td>\n",
       "      <td>10463</td>\n",
       "      <td>True</td>\n",
       "      <td>53.04</td>\n",
       "      <td>Bronx</td>\n",
       "    </tr>\n",
       "    <tr>\n",
       "      <th>27</th>\n",
       "      <td>256 W 109th Street</td>\n",
       "      <td>New York, NY 10025</td>\n",
       "      <td>$205.26 /sf/year</td>\n",
       "      <td>380 SF</td>\n",
       "      <td>(one story street retail, l)</td>\n",
       "      <td>10025</td>\n",
       "      <td>False</td>\n",
       "      <td>205.26</td>\n",
       "      <td>New York</td>\n",
       "    </tr>\n",
       "    <tr>\n",
       "      <th>28</th>\n",
       "      <td>270 E 10th Street</td>\n",
       "      <td>New York, NY 10009</td>\n",
       "      <td>$65.16 /sf/year</td>\n",
       "      <td>1,200 SF</td>\n",
       "      <td>(Ready to operate,Please do not talk to any em...</td>\n",
       "      <td>10009</td>\n",
       "      <td>False</td>\n",
       "      <td>65.16</td>\n",
       "      <td>New York</td>\n",
       "    </tr>\n",
       "    <tr>\n",
       "      <th>30</th>\n",
       "      <td>120 Christopher Street</td>\n",
       "      <td>New York, NY 10014</td>\n",
       "      <td>$129.00 /sf/year</td>\n",
       "      <td>1,200 SF</td>\n",
       "      <td>(1200 sf  basement 400 sf   30 seats   Vietnam...</td>\n",
       "      <td>10014</td>\n",
       "      <td>False</td>\n",
       "      <td>129.00</td>\n",
       "      <td>New York</td>\n",
       "    </tr>\n",
       "    <tr>\n",
       "      <th>31</th>\n",
       "      <td>15 W 8th Street</td>\n",
       "      <td>New York, NY 10011</td>\n",
       "      <td>$95.01 /sf/year</td>\n",
       "      <td>2,000 SF</td>\n",
       "      <td>(Great location in west village close to fifth...</td>\n",
       "      <td>10011</td>\n",
       "      <td>False</td>\n",
       "      <td>95.01</td>\n",
       "      <td>New York</td>\n",
       "    </tr>\n",
       "    <tr>\n",
       "      <th>32</th>\n",
       "      <td>97 1st Avenue</td>\n",
       "      <td>New York, NY 10003</td>\n",
       "      <td>$81.58 /sf/year</td>\n",
       "      <td>2,500 SF</td>\n",
       "      <td>(Beautiful corner restaurant   2,500 ground fl...</td>\n",
       "      <td>10003</td>\n",
       "      <td>False</td>\n",
       "      <td>81.58</td>\n",
       "      <td>New York</td>\n",
       "    </tr>\n",
       "    <tr>\n",
       "      <th>33</th>\n",
       "      <td>203 Chrystie Street</td>\n",
       "      <td>New York, NY 10002</td>\n",
       "      <td>$112.50 - $120.00 /sf/year</td>\n",
       "      <td>700 - 1,600 SF</td>\n",
       "      <td>(1600 sf space divisible or taken as is locate...</td>\n",
       "      <td>10002</td>\n",
       "      <td>False</td>\n",
       "      <td>112.50</td>\n",
       "      <td>New York</td>\n",
       "    </tr>\n",
       "    <tr>\n",
       "      <th>34</th>\n",
       "      <td>114 Stanton Street</td>\n",
       "      <td>New York, NY 10002</td>\n",
       "      <td>$138.46 /sf/year</td>\n",
       "      <td>1,300 SF</td>\n",
       "      <td>(114 Stanton street one of the most incredible...</td>\n",
       "      <td>10002</td>\n",
       "      <td>False</td>\n",
       "      <td>138.46</td>\n",
       "      <td>New York</td>\n",
       "    </tr>\n",
       "    <tr>\n",
       "      <th>35</th>\n",
       "      <td>22 E Merrick Road</td>\n",
       "      <td>Freeport, NY 11520</td>\n",
       "      <td>$14.00 /sf/year</td>\n",
       "      <td>6,400 SF</td>\n",
       "      <td>(To Watch a Video of this property please go t...</td>\n",
       "      <td>11520</td>\n",
       "      <td>False</td>\n",
       "      <td>14.00</td>\n",
       "      <td>Freeport</td>\n",
       "    </tr>\n",
       "    <tr>\n",
       "      <th>36</th>\n",
       "      <td>964 Middle Country Road</td>\n",
       "      <td>Saint James, NY 11780</td>\n",
       "      <td>$24.00 /sf/year</td>\n",
       "      <td>3,700 SF</td>\n",
       "      <td>(:  Multi level building for lease located at ...</td>\n",
       "      <td>11780</td>\n",
       "      <td>False</td>\n",
       "      <td>24.00</td>\n",
       "      <td>Saint James</td>\n",
       "    </tr>\n",
       "    <tr>\n",
       "      <th>37</th>\n",
       "      <td>294 Waverly Avenue</td>\n",
       "      <td>Patchogue, NY 11772</td>\n",
       "      <td>$17.14 /sf/year</td>\n",
       "      <td>1,400 SF</td>\n",
       "      <td>(Retail/Office building for sale or lease loca...</td>\n",
       "      <td>11772</td>\n",
       "      <td>False</td>\n",
       "      <td>17.14</td>\n",
       "      <td>Patchogue</td>\n",
       "    </tr>\n",
       "    <tr>\n",
       "      <th>38</th>\n",
       "      <td>4760 Sunrise Highway</td>\n",
       "      <td>Bohemia, NY 11716</td>\n",
       "      <td>$20.00 /sf/year</td>\n",
       "      <td>3,200 - 14,050 SF</td>\n",
       "      <td>(Prime location at the corner of Sunrise Highw...</td>\n",
       "      <td>11716</td>\n",
       "      <td>False</td>\n",
       "      <td>20.00</td>\n",
       "      <td>Bohemia</td>\n",
       "    </tr>\n",
       "    <tr>\n",
       "      <th>39</th>\n",
       "      <td>92 E Suffolk Avenue</td>\n",
       "      <td>Central Islip, NY 11722</td>\n",
       "      <td>$16.00 /sf/year</td>\n",
       "      <td>1,800 SF</td>\n",
       "      <td>(Includes bar, boarding house and rental room ...</td>\n",
       "      <td>11722</td>\n",
       "      <td>False</td>\n",
       "      <td>16.00</td>\n",
       "      <td>Central Islip</td>\n",
       "    </tr>\n",
       "    <tr>\n",
       "      <th>40</th>\n",
       "      <td>1815 E Jericho Turnpike</td>\n",
       "      <td>Huntington, NY 11743</td>\n",
       "      <td>$24.00 /sf/year</td>\n",
       "      <td>9,000 SF</td>\n",
       "      <td>(Retail space available on heavily traveled Je...</td>\n",
       "      <td>11743</td>\n",
       "      <td>False</td>\n",
       "      <td>24.00</td>\n",
       "      <td>Huntington</td>\n",
       "    </tr>\n",
       "  </tbody>\n",
       "</table>\n",
       "</div>"
      ],
      "text/plain": [
       "             Street_address                       State  \\\n",
       "1             327 W 57th St          New York, NY 10019   \n",
       "2      118 West 14th Street          New York, NY 10011   \n",
       "10         778 Nostrand Ave          Brooklyn, NY 11215   \n",
       "14           5 Court Square  Long Island City, NY 11101   \n",
       "23          16 W 8th Street          New York, NY 10011   \n",
       "24            3821 Broadway          New York, NY 10032   \n",
       "26       17 Knolls Crescent             Bronx, NY 10463   \n",
       "27       256 W 109th Street          New York, NY 10025   \n",
       "28        270 E 10th Street          New York, NY 10009   \n",
       "30   120 Christopher Street          New York, NY 10014   \n",
       "31          15 W 8th Street          New York, NY 10011   \n",
       "32            97 1st Avenue          New York, NY 10003   \n",
       "33      203 Chrystie Street          New York, NY 10002   \n",
       "34       114 Stanton Street          New York, NY 10002   \n",
       "35        22 E Merrick Road          Freeport, NY 11520   \n",
       "36  964 Middle Country Road       Saint James, NY 11780   \n",
       "37       294 Waverly Avenue         Patchogue, NY 11772   \n",
       "38     4760 Sunrise Highway           Bohemia, NY 11716   \n",
       "39      92 E Suffolk Avenue     Central Islip, NY 11722   \n",
       "40  1815 E Jericho Turnpike        Huntington, NY 11743   \n",
       "\n",
       "                         Price           SF_avail  \\\n",
       "1             $118.75 /sf/year           3,840 SF   \n",
       "2             $140.00 /sf/year           4,200 SF   \n",
       "10             $39.54 /sf/year           1,669 SF   \n",
       "14             $35.00 /sf/year           3,500 SF   \n",
       "23            $149.61 /sf/year           1,163 SF   \n",
       "24  $140.00 - $140.24 /sf/year       830 - 966 SF   \n",
       "26             $53.04 /sf/year             905 SF   \n",
       "27            $205.26 /sf/year             380 SF   \n",
       "28             $65.16 /sf/year           1,200 SF   \n",
       "30            $129.00 /sf/year           1,200 SF   \n",
       "31             $95.01 /sf/year           2,000 SF   \n",
       "32             $81.58 /sf/year           2,500 SF   \n",
       "33  $112.50 - $120.00 /sf/year     700 - 1,600 SF   \n",
       "34            $138.46 /sf/year           1,300 SF   \n",
       "35             $14.00 /sf/year           6,400 SF   \n",
       "36             $24.00 /sf/year           3,700 SF   \n",
       "37             $17.14 /sf/year           1,400 SF   \n",
       "38             $20.00 /sf/year  3,200 - 14,050 SF   \n",
       "39             $16.00 /sf/year           1,800 SF   \n",
       "40             $24.00 /sf/year           9,000 SF   \n",
       "\n",
       "                                            Prop_desc Postcode  \\\n",
       "1   (Amazing Location! Perfect for Restaurant or R...    10019   \n",
       "2   (Prime retail at the base of a luxury resident...    10011   \n",
       "10  (Prime Retail Space located on the main strip ...    11215   \n",
       "14  (Immediate possession,  2   5 year lease term,...    11101   \n",
       "23  (Excellent space steps from Washington Square ...    10011   \n",
       "24  (Great corner location in a busy area of Washi...    10032   \n",
       "26                                    (Strip Mall, l)    10463   \n",
       "27                       (one story street retail, l)    10025   \n",
       "28  (Ready to operate,Please do not talk to any em...    10009   \n",
       "30  (1200 sf  basement 400 sf   30 seats   Vietnam...    10014   \n",
       "31  (Great location in west village close to fifth...    10011   \n",
       "32  (Beautiful corner restaurant   2,500 ground fl...    10003   \n",
       "33  (1600 sf space divisible or taken as is locate...    10002   \n",
       "34  (114 Stanton street one of the most incredible...    10002   \n",
       "35  (To Watch a Video of this property please go t...    11520   \n",
       "36  (:  Multi level building for lease located at ...    11780   \n",
       "37  (Retail/Office building for sale or lease loca...    11772   \n",
       "38  (Prime location at the corner of Sunrise Highw...    11716   \n",
       "39  (Includes bar, boarding house and rental room ...    11722   \n",
       "40  (Retail space available on heavily traveled Je...    11743   \n",
       "\n",
       "   Address_to_correct Price_per_sf_per_year              City  \n",
       "1                True                118.75          New York  \n",
       "2                True                140.00          New York  \n",
       "10              False                 39.54          Brooklyn  \n",
       "14              False                 35.00  Long Island City  \n",
       "23              False                149.61          New York  \n",
       "24              False                140.00          New York  \n",
       "26               True                 53.04             Bronx  \n",
       "27              False                205.26          New York  \n",
       "28              False                 65.16          New York  \n",
       "30              False                129.00          New York  \n",
       "31              False                 95.01          New York  \n",
       "32              False                 81.58          New York  \n",
       "33              False                112.50          New York  \n",
       "34              False                138.46          New York  \n",
       "35              False                 14.00          Freeport  \n",
       "36              False                 24.00       Saint James  \n",
       "37              False                 17.14         Patchogue  \n",
       "38              False                 20.00           Bohemia  \n",
       "39              False                 16.00     Central Islip  \n",
       "40              False                 24.00        Huntington  "
      ]
     },
     "execution_count": 409,
     "metadata": {},
     "output_type": "execute_result"
    }
   ],
   "source": [
    "df_c.loc[:,'City'] = df_c[\"State\"].apply(lambda x: (str(x)).split(',')[0])\n",
    "df_c.head(20)"
   ]
  },
  {
   "cell_type": "markdown",
   "metadata": {},
   "source": [
    "### Defining lists with only New York City zipcodes"
   ]
  },
  {
   "cell_type": "code",
   "execution_count": 331,
   "metadata": {
    "ExecuteTime": {
     "end_time": "2016-11-14T12:51:51.891860",
     "start_time": "2016-11-14T12:51:51.883799"
    },
    "collapsed": false
   },
   "outputs": [],
   "source": [
    "manhattan_zip = pd.read_csv('manhattan_zip.txt', sep='\\n')"
   ]
  },
  {
   "cell_type": "code",
   "execution_count": 333,
   "metadata": {
    "ExecuteTime": {
     "end_time": "2016-11-14T12:54:45.297265",
     "start_time": "2016-11-14T12:54:45.278629"
    },
    "collapsed": false
   },
   "outputs": [],
   "source": [
    "brooklyn_zip = pd.read_csv('brooklyn_zip.txt', sep = '\\n')"
   ]
  },
  {
   "cell_type": "code",
   "execution_count": 334,
   "metadata": {
    "ExecuteTime": {
     "end_time": "2016-11-14T12:55:09.511225",
     "start_time": "2016-11-14T12:55:09.502532"
    },
    "collapsed": true
   },
   "outputs": [],
   "source": [
    "bronx_zip = pd.read_csv('bronx.txt', sep = '\\n')"
   ]
  },
  {
   "cell_type": "code",
   "execution_count": 335,
   "metadata": {
    "ExecuteTime": {
     "end_time": "2016-11-14T12:55:49.017851",
     "start_time": "2016-11-14T12:55:49.006101"
    },
    "collapsed": true
   },
   "outputs": [],
   "source": [
    "queens_zip = pd.read_csv('queens.txt', sep = '\\n')"
   ]
  },
  {
   "cell_type": "code",
   "execution_count": 336,
   "metadata": {
    "ExecuteTime": {
     "end_time": "2016-11-14T12:56:11.142608",
     "start_time": "2016-11-14T12:56:11.132389"
    },
    "collapsed": true
   },
   "outputs": [],
   "source": [
    "statten_zip = pd.read_csv('statten.txt', sep ='\\n')"
   ]
  },
  {
   "cell_type": "code",
   "execution_count": 364,
   "metadata": {
    "ExecuteTime": {
     "end_time": "2016-11-14T13:06:01.196590",
     "start_time": "2016-11-14T13:06:01.191876"
    },
    "collapsed": false
   },
   "outputs": [],
   "source": [
    "statten_zip = statten_zip.T.values.tolist()[0]"
   ]
  },
  {
   "cell_type": "code",
   "execution_count": 366,
   "metadata": {
    "ExecuteTime": {
     "end_time": "2016-11-14T13:06:38.242426",
     "start_time": "2016-11-14T13:06:38.236682"
    },
    "collapsed": true
   },
   "outputs": [],
   "source": [
    "manhattan_zip = manhattan_zip.T.values.tolist()[0]"
   ]
  },
  {
   "cell_type": "code",
   "execution_count": 367,
   "metadata": {
    "ExecuteTime": {
     "end_time": "2016-11-14T13:07:22.995595",
     "start_time": "2016-11-14T13:07:22.986269"
    },
    "collapsed": true
   },
   "outputs": [],
   "source": [
    "bronx_zip = bronx_zip.T.values.tolist()[0]\n",
    "queens_zip = queens_zip.T.values.tolist()[0]\n",
    "brooklyn_zip = brooklyn_zip.T.values.tolist()[0]"
   ]
  },
  {
   "cell_type": "code",
   "execution_count": 380,
   "metadata": {
    "ExecuteTime": {
     "end_time": "2016-11-14T13:15:18.966025",
     "start_time": "2016-11-14T13:15:18.955193"
    },
    "collapsed": true
   },
   "outputs": [],
   "source": [
    "# NYC zipcodes less Statten Island\n",
    "nyc_less_stat_zip = manhattan_zip + bronx_zip + brooklyn_zip + queens_zip"
   ]
  },
  {
   "cell_type": "code",
   "execution_count": 381,
   "metadata": {
    "ExecuteTime": {
     "end_time": "2016-11-14T13:15:54.004062",
     "start_time": "2016-11-14T13:15:53.993852"
    },
    "collapsed": true
   },
   "outputs": [],
   "source": [
    "# Saving to txt file for possible future uses\n",
    "nyc_less_stat_zip = pd.Series(nyc_less_stat_zip)\n",
    "nyc_less_stat_zip.to_csv('nyc_less_stat_zip.txt')"
   ]
  },
  {
   "cell_type": "code",
   "execution_count": 368,
   "metadata": {
    "ExecuteTime": {
     "end_time": "2016-11-14T13:08:05.830549",
     "start_time": "2016-11-14T13:08:05.804272"
    },
    "collapsed": false
   },
   "outputs": [
    {
     "data": {
      "text/plain": [
       "[10001,\n",
       " 10002,\n",
       " 10003,\n",
       " 10004,\n",
       " 10005,\n",
       " 10006,\n",
       " 10007,\n",
       " 10009,\n",
       " 10010,\n",
       " 10011,\n",
       " 10012,\n",
       " 10013,\n",
       " 10014,\n",
       " 10016,\n",
       " 10017,\n",
       " 10018,\n",
       " 10019,\n",
       " 10020,\n",
       " 10021,\n",
       " 10022,\n",
       " 10023,\n",
       " 10024,\n",
       " 10025,\n",
       " 10026,\n",
       " 10027,\n",
       " 10028,\n",
       " 10029,\n",
       " 10030,\n",
       " 10031,\n",
       " 10032,\n",
       " 10033,\n",
       " 10034,\n",
       " 10035,\n",
       " 10036,\n",
       " 10037,\n",
       " 10038,\n",
       " 10039,\n",
       " 10040,\n",
       " 10044,\n",
       " 10048,\n",
       " 10065,\n",
       " 10069,\n",
       " 10075,\n",
       " 10111,\n",
       " 10115,\n",
       " 10128,\n",
       " 10280,\n",
       " 10281,\n",
       " 10282,\n",
       " 10451,\n",
       " 10452,\n",
       " 10453,\n",
       " 10454,\n",
       " 10455,\n",
       " 10456,\n",
       " 10457,\n",
       " 10458,\n",
       " 10459,\n",
       " 10460,\n",
       " 10461,\n",
       " 10462,\n",
       " 10465,\n",
       " 10466,\n",
       " 10467,\n",
       " 10468,\n",
       " 10469,\n",
       " 10470,\n",
       " 10471,\n",
       " 10472,\n",
       " 10473,\n",
       " 10474,\n",
       " 10475,\n",
       " 11201,\n",
       " 11203,\n",
       " 11204,\n",
       " 11205,\n",
       " 11206,\n",
       " 11207,\n",
       " 11208,\n",
       " 11209,\n",
       " 11210,\n",
       " 11211,\n",
       " 11212,\n",
       " 11213,\n",
       " 11214,\n",
       " 11215,\n",
       " 11216,\n",
       " 11217,\n",
       " 11218,\n",
       " 11219,\n",
       " 11220,\n",
       " 11221,\n",
       " 11222,\n",
       " 11223,\n",
       " 11224,\n",
       " 11225,\n",
       " 11226,\n",
       " 11228,\n",
       " 11229,\n",
       " 11230,\n",
       " 11231,\n",
       " 11232,\n",
       " 11233,\n",
       " 11234,\n",
       " 11235,\n",
       " 11236,\n",
       " 11237,\n",
       " 11238,\n",
       " 11239,\n",
       " 11251,\n",
       " 11001,\n",
       " 11004,\n",
       " 11005,\n",
       " 11040,\n",
       " 11096,\n",
       " 11101,\n",
       " 11102,\n",
       " 11103,\n",
       " 11104,\n",
       " 11105,\n",
       " 11106,\n",
       " 11109,\n",
       " 11354,\n",
       " 11355,\n",
       " 11356,\n",
       " 11357,\n",
       " 11358,\n",
       " 11359,\n",
       " 11360,\n",
       " 11361,\n",
       " 11362,\n",
       " 11363,\n",
       " 11364,\n",
       " 11365,\n",
       " 11366,\n",
       " 11367,\n",
       " 11368,\n",
       " 11369,\n",
       " 11371,\n",
       " 11372,\n",
       " 11373,\n",
       " 11374,\n",
       " 11375,\n",
       " 11377,\n",
       " 11378,\n",
       " 11379,\n",
       " 11385,\n",
       " 11411,\n",
       " 11412,\n",
       " 11413,\n",
       " 11414,\n",
       " 11415,\n",
       " 11416,\n",
       " 11417,\n",
       " 11418,\n",
       " 11419,\n",
       " 11420,\n",
       " 11421,\n",
       " 11422,\n",
       " 11423,\n",
       " 11426,\n",
       " 11427,\n",
       " 11428,\n",
       " 11429,\n",
       " 11430,\n",
       " 11432,\n",
       " 11433,\n",
       " 11434,\n",
       " 11435,\n",
       " 11436,\n",
       " 11451,\n",
       " 11691,\n",
       " 11692,\n",
       " 11694,\n",
       " 11697,\n",
       " 10301,\n",
       " 10302,\n",
       " 10303,\n",
       " 10304,\n",
       " 10305,\n",
       " 10306,\n",
       " 10307,\n",
       " 10308,\n",
       " 10309,\n",
       " 10310,\n",
       " 10312,\n",
       " 10314]"
      ]
     },
     "execution_count": 368,
     "metadata": {},
     "output_type": "execute_result"
    }
   ],
   "source": [
    "# All NYC zipcodes\n",
    "nyc_zip = manhattan_zip + bronx_zip + brooklyn_zip + queens_zip + statten_zip\n",
    "nyc_zip"
   ]
  },
  {
   "cell_type": "code",
   "execution_count": 370,
   "metadata": {
    "ExecuteTime": {
     "end_time": "2016-11-14T13:09:03.557898",
     "start_time": "2016-11-14T13:09:03.544347"
    },
    "collapsed": false
   },
   "outputs": [],
   "source": [
    "nyc_zip = pd.Series(nyc_zip)\n",
    "nyc_zip.to_csv('nyc_zip.txt')"
   ]
  },
  {
   "cell_type": "markdown",
   "metadata": {},
   "source": [
    "### Removing rows without zip code"
   ]
  },
  {
   "cell_type": "code",
   "execution_count": 410,
   "metadata": {
    "ExecuteTime": {
     "end_time": "2016-11-14T13:27:44.287313",
     "start_time": "2016-11-14T13:27:44.265645"
    },
    "collapsed": false
   },
   "outputs": [
    {
     "data": {
      "text/html": [
       "<div>\n",
       "<table border=\"1\" class=\"dataframe\">\n",
       "  <thead>\n",
       "    <tr style=\"text-align: right;\">\n",
       "      <th></th>\n",
       "      <th>Street_address</th>\n",
       "      <th>State</th>\n",
       "      <th>Price</th>\n",
       "      <th>SF_avail</th>\n",
       "      <th>Prop_desc</th>\n",
       "      <th>Postcode</th>\n",
       "      <th>Address_to_correct</th>\n",
       "      <th>Price_per_sf_per_year</th>\n",
       "      <th>City</th>\n",
       "    </tr>\n",
       "  </thead>\n",
       "  <tbody>\n",
       "  </tbody>\n",
       "</table>\n",
       "</div>"
      ],
      "text/plain": [
       "Empty DataFrame\n",
       "Columns: [Street_address, State, Price, SF_avail, Prop_desc, Postcode, Address_to_correct, Price_per_sf_per_year, City]\n",
       "Index: []"
      ]
     },
     "execution_count": 410,
     "metadata": {},
     "output_type": "execute_result"
    }
   ],
   "source": [
    "df_c[df_c['Postcode'].isnull()]"
   ]
  },
  {
   "cell_type": "markdown",
   "metadata": {},
   "source": [
    "### Checking number of entries in nyc"
   ]
  },
  {
   "cell_type": "code",
   "execution_count": 411,
   "metadata": {
    "ExecuteTime": {
     "end_time": "2016-11-14T13:27:50.191370",
     "start_time": "2016-11-14T13:27:50.183473"
    },
    "collapsed": true
   },
   "outputs": [],
   "source": [
    "df_c['Postcode'] = df_c['Postcode'].astype(int)"
   ]
  },
  {
   "cell_type": "code",
   "execution_count": 412,
   "metadata": {
    "ExecuteTime": {
     "end_time": "2016-11-14T13:27:52.250928",
     "start_time": "2016-11-14T13:27:52.238619"
    },
    "collapsed": false
   },
   "outputs": [
    {
     "data": {
      "text/plain": [
       "(569, 9)"
      ]
     },
     "execution_count": 412,
     "metadata": {},
     "output_type": "execute_result"
    }
   ],
   "source": [
    "df_c[df_c['Postcode'].isin(nyc_zip)].shape"
   ]
  },
  {
   "cell_type": "markdown",
   "metadata": {},
   "source": [
    "#### Comments:\n",
    "569 entries in NYC seemed decent enough for modeling. However, due to the relative inaccessibility of Statten Island by taxi, I am considering droppping entries in Statten Island. Ideally, we would have sufficient listings in Manhattan to reduce variability in comparison, since taxi would feature less strongly as a mode of transport in other boroughs. However... (see below)"
   ]
  },
  {
   "cell_type": "markdown",
   "metadata": {},
   "source": [
    "#### Number of entries in Manhattan"
   ]
  },
  {
   "cell_type": "code",
   "execution_count": 413,
   "metadata": {
    "ExecuteTime": {
     "end_time": "2016-11-14T13:27:57.388927",
     "start_time": "2016-11-14T13:27:57.377130"
    },
    "collapsed": false
   },
   "outputs": [
    {
     "data": {
      "text/plain": [
       "(180, 9)"
      ]
     },
     "execution_count": 413,
     "metadata": {},
     "output_type": "execute_result"
    }
   ],
   "source": [
    "df_c[df_c['Postcode'].isin(manhattan_zip)].shape"
   ]
  },
  {
   "cell_type": "markdown",
   "metadata": {},
   "source": [
    "#### Comments:\n",
    "There are only 180 entries in Manhattan, possibly less, after more cleaning."
   ]
  },
  {
   "cell_type": "markdown",
   "metadata": {},
   "source": [
    "#### Number of entries in NYC less Statten Island"
   ]
  },
  {
   "cell_type": "code",
   "execution_count": 414,
   "metadata": {
    "ExecuteTime": {
     "end_time": "2016-11-14T13:27:59.351006",
     "start_time": "2016-11-14T13:27:59.340478"
    },
    "collapsed": false
   },
   "outputs": [
    {
     "data": {
      "text/plain": [
       "(554, 9)"
      ]
     },
     "execution_count": 414,
     "metadata": {},
     "output_type": "execute_result"
    }
   ],
   "source": [
    "df_c[df_c['Postcode'].isin(nyc_less_stat_zip)].shape"
   ]
  },
  {
   "cell_type": "markdown",
   "metadata": {},
   "source": [
    "#### Comments:\n",
    "Thankfully, there were only a few listings in Statten Island, therefore, we can proceed to drop Statten Island listings."
   ]
  },
  {
   "cell_type": "markdown",
   "metadata": {},
   "source": [
    "## Cleaning \"SF_avail\" column"
   ]
  },
  {
   "cell_type": "code",
   "execution_count": 415,
   "metadata": {
    "ExecuteTime": {
     "end_time": "2016-11-14T13:30:19.328339",
     "start_time": "2016-11-14T13:30:19.297284"
    },
    "collapsed": false
   },
   "outputs": [],
   "source": [
    "# Removing characters\n",
    "df_c.loc[:, 'SF_avail'] = \\\n",
    "df_c['SF_avail'].apply(lambda x : x.replace(' SF', ''))"
   ]
  },
  {
   "cell_type": "code",
   "execution_count": 416,
   "metadata": {
    "ExecuteTime": {
     "end_time": "2016-11-14T13:30:23.912645",
     "start_time": "2016-11-14T13:30:23.850602"
    },
    "collapsed": false
   },
   "outputs": [
    {
     "data": {
      "text/html": [
       "<div>\n",
       "<table border=\"1\" class=\"dataframe\">\n",
       "  <thead>\n",
       "    <tr style=\"text-align: right;\">\n",
       "      <th></th>\n",
       "      <th>Street_address</th>\n",
       "      <th>State</th>\n",
       "      <th>Price</th>\n",
       "      <th>SF_avail</th>\n",
       "      <th>Prop_desc</th>\n",
       "      <th>Postcode</th>\n",
       "      <th>Address_to_correct</th>\n",
       "      <th>Price_per_sf_per_year</th>\n",
       "      <th>City</th>\n",
       "    </tr>\n",
       "  </thead>\n",
       "  <tbody>\n",
       "    <tr>\n",
       "      <th>1</th>\n",
       "      <td>327 W 57th St</td>\n",
       "      <td>New York, NY 10019</td>\n",
       "      <td>$118.75 /sf/year</td>\n",
       "      <td>3840</td>\n",
       "      <td>(Amazing Location! Perfect for Restaurant or R...</td>\n",
       "      <td>10019</td>\n",
       "      <td>True</td>\n",
       "      <td>118.75</td>\n",
       "      <td>New York</td>\n",
       "    </tr>\n",
       "    <tr>\n",
       "      <th>2</th>\n",
       "      <td>118 West 14th Street</td>\n",
       "      <td>New York, NY 10011</td>\n",
       "      <td>$140.00 /sf/year</td>\n",
       "      <td>4200</td>\n",
       "      <td>(Prime retail at the base of a luxury resident...</td>\n",
       "      <td>10011</td>\n",
       "      <td>True</td>\n",
       "      <td>140.00</td>\n",
       "      <td>New York</td>\n",
       "    </tr>\n",
       "    <tr>\n",
       "      <th>10</th>\n",
       "      <td>778 Nostrand Ave</td>\n",
       "      <td>Brooklyn, NY 11215</td>\n",
       "      <td>$39.54 /sf/year</td>\n",
       "      <td>1669</td>\n",
       "      <td>(Prime Retail Space located on the main strip ...</td>\n",
       "      <td>11215</td>\n",
       "      <td>False</td>\n",
       "      <td>39.54</td>\n",
       "      <td>Brooklyn</td>\n",
       "    </tr>\n",
       "    <tr>\n",
       "      <th>14</th>\n",
       "      <td>5 Court Square</td>\n",
       "      <td>Long Island City, NY 11101</td>\n",
       "      <td>$35.00 /sf/year</td>\n",
       "      <td>3500</td>\n",
       "      <td>(Immediate possession,  2   5 year lease term,...</td>\n",
       "      <td>11101</td>\n",
       "      <td>False</td>\n",
       "      <td>35.00</td>\n",
       "      <td>Long Island City</td>\n",
       "    </tr>\n",
       "    <tr>\n",
       "      <th>23</th>\n",
       "      <td>16 W 8th Street</td>\n",
       "      <td>New York, NY 10011</td>\n",
       "      <td>$149.61 /sf/year</td>\n",
       "      <td>1163</td>\n",
       "      <td>(Excellent space steps from Washington Square ...</td>\n",
       "      <td>10011</td>\n",
       "      <td>False</td>\n",
       "      <td>149.61</td>\n",
       "      <td>New York</td>\n",
       "    </tr>\n",
       "  </tbody>\n",
       "</table>\n",
       "</div>"
      ],
      "text/plain": [
       "          Street_address                       State             Price  \\\n",
       "1          327 W 57th St          New York, NY 10019  $118.75 /sf/year   \n",
       "2   118 West 14th Street          New York, NY 10011  $140.00 /sf/year   \n",
       "10      778 Nostrand Ave          Brooklyn, NY 11215   $39.54 /sf/year   \n",
       "14        5 Court Square  Long Island City, NY 11101   $35.00 /sf/year   \n",
       "23       16 W 8th Street          New York, NY 10011  $149.61 /sf/year   \n",
       "\n",
       "   SF_avail                                          Prop_desc  Postcode  \\\n",
       "1      3840  (Amazing Location! Perfect for Restaurant or R...     10019   \n",
       "2      4200  (Prime retail at the base of a luxury resident...     10011   \n",
       "10     1669  (Prime Retail Space located on the main strip ...     11215   \n",
       "14     3500  (Immediate possession,  2   5 year lease term,...     11101   \n",
       "23     1163  (Excellent space steps from Washington Square ...     10011   \n",
       "\n",
       "   Address_to_correct Price_per_sf_per_year              City  \n",
       "1                True                118.75          New York  \n",
       "2                True                140.00          New York  \n",
       "10              False                 39.54          Brooklyn  \n",
       "14              False                 35.00  Long Island City  \n",
       "23              False                149.61          New York  "
      ]
     },
     "execution_count": 416,
     "metadata": {},
     "output_type": "execute_result"
    }
   ],
   "source": [
    "# Removing commas\n",
    "df_c.loc[:, 'SF_avail'] = \\\n",
    "df_c['SF_avail'].apply(lambda x : x.replace(',', ''))\n",
    "\n",
    "df_c.head()"
   ]
  },
  {
   "cell_type": "code",
   "execution_count": 420,
   "metadata": {
    "ExecuteTime": {
     "end_time": "2016-11-14T13:32:28.611669",
     "start_time": "2016-11-14T13:32:28.604686"
    },
    "collapsed": true
   },
   "outputs": [],
   "source": [
    "# Some entries had a range of values for listing floor size\n",
    "# These would be multiple units for rent in the same address.\n",
    "# Based on experience, listing would show the lowest price on the website\n",
    "# as click-bait\n",
    "# Therefore, only the largest floor area were extracted\n",
    "\n",
    "def clean_sf(x):\n",
    "    if type(x) == type(1):\n",
    "        return int(x)\n",
    "    else:\n",
    "        # Returning only the larger floor area of the range \n",
    "        # (see comments above)\n",
    "        return int(x.split('-')[1])"
   ]
  },
  {
   "cell_type": "code",
   "execution_count": 421,
   "metadata": {
    "ExecuteTime": {
     "end_time": "2016-11-14T13:32:29.700369",
     "start_time": "2016-11-14T13:32:29.692896"
    },
    "collapsed": false
   },
   "outputs": [],
   "source": [
    "# Applying change to \"SF_avail\" column\n",
    "df_cityfeet.loc[:, 'SF_avail'] = df_cityfeet['SF_avail'].apply(clean_sf)"
   ]
  },
  {
   "cell_type": "markdown",
   "metadata": {},
   "source": [
    "## Forming a full street address (for geocoding)"
   ]
  },
  {
   "cell_type": "code",
   "execution_count": 422,
   "metadata": {
    "ExecuteTime": {
     "end_time": "2016-11-14T13:33:38.132636",
     "start_time": "2016-11-14T13:33:38.073156"
    },
    "collapsed": false
   },
   "outputs": [
    {
     "data": {
      "text/html": [
       "<div>\n",
       "<table border=\"1\" class=\"dataframe\">\n",
       "  <thead>\n",
       "    <tr style=\"text-align: right;\">\n",
       "      <th></th>\n",
       "      <th>Street_address</th>\n",
       "      <th>State</th>\n",
       "      <th>Price</th>\n",
       "      <th>SF_avail</th>\n",
       "      <th>Prop_desc</th>\n",
       "      <th>Postcode</th>\n",
       "      <th>Address_to_correct</th>\n",
       "      <th>Price_per_sf_per_year</th>\n",
       "      <th>City</th>\n",
       "    </tr>\n",
       "  </thead>\n",
       "  <tbody>\n",
       "    <tr>\n",
       "      <th>1</th>\n",
       "      <td>327 W 57th St</td>\n",
       "      <td>New York, NY 10019</td>\n",
       "      <td>$118.75 /sf/year</td>\n",
       "      <td>3840</td>\n",
       "      <td>(Amazing Location! Perfect for Restaurant or R...</td>\n",
       "      <td>10019</td>\n",
       "      <td>True</td>\n",
       "      <td>118.75</td>\n",
       "      <td>New York</td>\n",
       "    </tr>\n",
       "    <tr>\n",
       "      <th>2</th>\n",
       "      <td>118 West 14th Street</td>\n",
       "      <td>New York, NY 10011</td>\n",
       "      <td>$140.00 /sf/year</td>\n",
       "      <td>4200</td>\n",
       "      <td>(Prime retail at the base of a luxury resident...</td>\n",
       "      <td>10011</td>\n",
       "      <td>True</td>\n",
       "      <td>140.00</td>\n",
       "      <td>New York</td>\n",
       "    </tr>\n",
       "    <tr>\n",
       "      <th>10</th>\n",
       "      <td>778 Nostrand Ave</td>\n",
       "      <td>Brooklyn, NY 11215</td>\n",
       "      <td>$39.54 /sf/year</td>\n",
       "      <td>1669</td>\n",
       "      <td>(Prime Retail Space located on the main strip ...</td>\n",
       "      <td>11215</td>\n",
       "      <td>False</td>\n",
       "      <td>39.54</td>\n",
       "      <td>Brooklyn</td>\n",
       "    </tr>\n",
       "    <tr>\n",
       "      <th>14</th>\n",
       "      <td>5 Court Square</td>\n",
       "      <td>Long Island City, NY 11101</td>\n",
       "      <td>$35.00 /sf/year</td>\n",
       "      <td>3500</td>\n",
       "      <td>(Immediate possession,  2   5 year lease term,...</td>\n",
       "      <td>11101</td>\n",
       "      <td>False</td>\n",
       "      <td>35.00</td>\n",
       "      <td>Long Island City</td>\n",
       "    </tr>\n",
       "    <tr>\n",
       "      <th>23</th>\n",
       "      <td>16 W 8th Street</td>\n",
       "      <td>New York, NY 10011</td>\n",
       "      <td>$149.61 /sf/year</td>\n",
       "      <td>1163</td>\n",
       "      <td>(Excellent space steps from Washington Square ...</td>\n",
       "      <td>10011</td>\n",
       "      <td>False</td>\n",
       "      <td>149.61</td>\n",
       "      <td>New York</td>\n",
       "    </tr>\n",
       "  </tbody>\n",
       "</table>\n",
       "</div>"
      ],
      "text/plain": [
       "          Street_address                       State             Price  \\\n",
       "1          327 W 57th St          New York, NY 10019  $118.75 /sf/year   \n",
       "2   118 West 14th Street          New York, NY 10011  $140.00 /sf/year   \n",
       "10      778 Nostrand Ave          Brooklyn, NY 11215   $39.54 /sf/year   \n",
       "14        5 Court Square  Long Island City, NY 11101   $35.00 /sf/year   \n",
       "23       16 W 8th Street          New York, NY 10011  $149.61 /sf/year   \n",
       "\n",
       "   SF_avail                                          Prop_desc  Postcode  \\\n",
       "1      3840  (Amazing Location! Perfect for Restaurant or R...     10019   \n",
       "2      4200  (Prime retail at the base of a luxury resident...     10011   \n",
       "10     1669  (Prime Retail Space located on the main strip ...     11215   \n",
       "14     3500  (Immediate possession,  2   5 year lease term,...     11101   \n",
       "23     1163  (Excellent space steps from Washington Square ...     10011   \n",
       "\n",
       "   Address_to_correct Price_per_sf_per_year              City  \n",
       "1                True                118.75          New York  \n",
       "2                True                140.00          New York  \n",
       "10              False                 39.54          Brooklyn  \n",
       "14              False                 35.00  Long Island City  \n",
       "23              False                149.61          New York  "
      ]
     },
     "execution_count": 422,
     "metadata": {},
     "output_type": "execute_result"
    }
   ],
   "source": [
    "df_c.head()"
   ]
  },
  {
   "cell_type": "code",
   "execution_count": 431,
   "metadata": {
    "ExecuteTime": {
     "end_time": "2016-11-14T17:07:49.502342",
     "start_time": "2016-11-14T17:07:49.449639"
    },
    "collapsed": true
   },
   "outputs": [],
   "source": [
    "# Converting zipcodes to str type for concatenation\n",
    "df_c['zips'] = df_c['Postcode'].astype(str)"
   ]
  },
  {
   "cell_type": "code",
   "execution_count": 432,
   "metadata": {
    "ExecuteTime": {
     "end_time": "2016-11-14T17:08:04.724124",
     "start_time": "2016-11-14T17:08:04.620555"
    },
    "collapsed": false
   },
   "outputs": [
    {
     "data": {
      "text/html": [
       "<div>\n",
       "<table border=\"1\" class=\"dataframe\">\n",
       "  <thead>\n",
       "    <tr style=\"text-align: right;\">\n",
       "      <th></th>\n",
       "      <th>Street_address</th>\n",
       "      <th>State</th>\n",
       "      <th>Price</th>\n",
       "      <th>SF_avail</th>\n",
       "      <th>Prop_desc</th>\n",
       "      <th>Postcode</th>\n",
       "      <th>Address_to_correct</th>\n",
       "      <th>Price_per_sf_per_year</th>\n",
       "      <th>City</th>\n",
       "      <th>Full_Street_address</th>\n",
       "      <th>zips</th>\n",
       "    </tr>\n",
       "  </thead>\n",
       "  <tbody>\n",
       "    <tr>\n",
       "      <th>1</th>\n",
       "      <td>327 W 57th St</td>\n",
       "      <td>New York, NY 10019</td>\n",
       "      <td>$118.75 /sf/year</td>\n",
       "      <td>3840</td>\n",
       "      <td>(Amazing Location! Perfect for Restaurant or R...</td>\n",
       "      <td>10019</td>\n",
       "      <td>True</td>\n",
       "      <td>118.75</td>\n",
       "      <td>New York</td>\n",
       "      <td>327 W 57th St, New York, NY 10019</td>\n",
       "      <td>10019</td>\n",
       "    </tr>\n",
       "    <tr>\n",
       "      <th>2</th>\n",
       "      <td>118 West 14th Street</td>\n",
       "      <td>New York, NY 10011</td>\n",
       "      <td>$140.00 /sf/year</td>\n",
       "      <td>4200</td>\n",
       "      <td>(Prime retail at the base of a luxury resident...</td>\n",
       "      <td>10011</td>\n",
       "      <td>True</td>\n",
       "      <td>140.00</td>\n",
       "      <td>New York</td>\n",
       "      <td>118 West 14th Street, New York, NY 10011</td>\n",
       "      <td>10011</td>\n",
       "    </tr>\n",
       "    <tr>\n",
       "      <th>10</th>\n",
       "      <td>778 Nostrand Ave</td>\n",
       "      <td>Brooklyn, NY 11215</td>\n",
       "      <td>$39.54 /sf/year</td>\n",
       "      <td>1669</td>\n",
       "      <td>(Prime Retail Space located on the main strip ...</td>\n",
       "      <td>11215</td>\n",
       "      <td>False</td>\n",
       "      <td>39.54</td>\n",
       "      <td>Brooklyn</td>\n",
       "      <td>778 Nostrand Ave, Brooklyn, NY 11215</td>\n",
       "      <td>11215</td>\n",
       "    </tr>\n",
       "    <tr>\n",
       "      <th>14</th>\n",
       "      <td>5 Court Square</td>\n",
       "      <td>Long Island City, NY 11101</td>\n",
       "      <td>$35.00 /sf/year</td>\n",
       "      <td>3500</td>\n",
       "      <td>(Immediate possession,  2   5 year lease term,...</td>\n",
       "      <td>11101</td>\n",
       "      <td>False</td>\n",
       "      <td>35.00</td>\n",
       "      <td>Long Island City</td>\n",
       "      <td>5 Court Square, Long Island City, NY 11101</td>\n",
       "      <td>11101</td>\n",
       "    </tr>\n",
       "    <tr>\n",
       "      <th>23</th>\n",
       "      <td>16 W 8th Street</td>\n",
       "      <td>New York, NY 10011</td>\n",
       "      <td>$149.61 /sf/year</td>\n",
       "      <td>1163</td>\n",
       "      <td>(Excellent space steps from Washington Square ...</td>\n",
       "      <td>10011</td>\n",
       "      <td>False</td>\n",
       "      <td>149.61</td>\n",
       "      <td>New York</td>\n",
       "      <td>16 W 8th Street, New York, NY 10011</td>\n",
       "      <td>10011</td>\n",
       "    </tr>\n",
       "  </tbody>\n",
       "</table>\n",
       "</div>"
      ],
      "text/plain": [
       "          Street_address                       State             Price  \\\n",
       "1          327 W 57th St          New York, NY 10019  $118.75 /sf/year   \n",
       "2   118 West 14th Street          New York, NY 10011  $140.00 /sf/year   \n",
       "10      778 Nostrand Ave          Brooklyn, NY 11215   $39.54 /sf/year   \n",
       "14        5 Court Square  Long Island City, NY 11101   $35.00 /sf/year   \n",
       "23       16 W 8th Street          New York, NY 10011  $149.61 /sf/year   \n",
       "\n",
       "   SF_avail                                          Prop_desc  Postcode  \\\n",
       "1      3840  (Amazing Location! Perfect for Restaurant or R...     10019   \n",
       "2      4200  (Prime retail at the base of a luxury resident...     10011   \n",
       "10     1669  (Prime Retail Space located on the main strip ...     11215   \n",
       "14     3500  (Immediate possession,  2   5 year lease term,...     11101   \n",
       "23     1163  (Excellent space steps from Washington Square ...     10011   \n",
       "\n",
       "   Address_to_correct Price_per_sf_per_year              City  \\\n",
       "1                True                118.75          New York   \n",
       "2                True                140.00          New York   \n",
       "10              False                 39.54          Brooklyn   \n",
       "14              False                 35.00  Long Island City   \n",
       "23              False                149.61          New York   \n",
       "\n",
       "                           Full_Street_address   zips  \n",
       "1            327 W 57th St, New York, NY 10019  10019  \n",
       "2     118 West 14th Street, New York, NY 10011  10011  \n",
       "10        778 Nostrand Ave, Brooklyn, NY 11215  11215  \n",
       "14  5 Court Square, Long Island City, NY 11101  11101  \n",
       "23         16 W 8th Street, New York, NY 10011  10011  "
      ]
     },
     "execution_count": 432,
     "metadata": {},
     "output_type": "execute_result"
    }
   ],
   "source": [
    "# Forming full street address\n",
    "df_c['Full_Street_address'] = df_c['Street_address'] + ', ' + df_c['City'] + ', NY ' + df_c['zips']\n",
    "df_c.head()"
   ]
  },
  {
   "cell_type": "code",
   "execution_count": 433,
   "metadata": {
    "ExecuteTime": {
     "end_time": "2016-11-14T17:08:31.935083",
     "start_time": "2016-11-14T17:08:31.859272"
    },
    "collapsed": false
   },
   "outputs": [
    {
     "data": {
      "text/html": [
       "<div>\n",
       "<table border=\"1\" class=\"dataframe\">\n",
       "  <thead>\n",
       "    <tr style=\"text-align: right;\">\n",
       "      <th></th>\n",
       "      <th>Full_Street_address</th>\n",
       "      <th>SF_avail</th>\n",
       "      <th>Price_per_sf_per_year</th>\n",
       "      <th>Prop_desc</th>\n",
       "    </tr>\n",
       "  </thead>\n",
       "  <tbody>\n",
       "    <tr>\n",
       "      <th>0</th>\n",
       "      <td>327 W 57th St, New York, NY 10019</td>\n",
       "      <td>3840</td>\n",
       "      <td>118.75</td>\n",
       "      <td>(Amazing Location! Perfect for Restaurant or R...</td>\n",
       "    </tr>\n",
       "    <tr>\n",
       "      <th>1</th>\n",
       "      <td>118 West 14th Street, New York, NY 10011</td>\n",
       "      <td>4200</td>\n",
       "      <td>140.00</td>\n",
       "      <td>(Prime retail at the base of a luxury resident...</td>\n",
       "    </tr>\n",
       "    <tr>\n",
       "      <th>2</th>\n",
       "      <td>778 Nostrand Ave, Brooklyn, NY 11215</td>\n",
       "      <td>1669</td>\n",
       "      <td>39.54</td>\n",
       "      <td>(Prime Retail Space located on the main strip ...</td>\n",
       "    </tr>\n",
       "    <tr>\n",
       "      <th>3</th>\n",
       "      <td>5 Court Square, Long Island City, NY 11101</td>\n",
       "      <td>3500</td>\n",
       "      <td>35.00</td>\n",
       "      <td>(Immediate possession,  2   5 year lease term,...</td>\n",
       "    </tr>\n",
       "    <tr>\n",
       "      <th>4</th>\n",
       "      <td>16 W 8th Street, New York, NY 10011</td>\n",
       "      <td>1163</td>\n",
       "      <td>149.61</td>\n",
       "      <td>(Excellent space steps from Washington Square ...</td>\n",
       "    </tr>\n",
       "  </tbody>\n",
       "</table>\n",
       "</div>"
      ],
      "text/plain": [
       "                          Full_Street_address SF_avail Price_per_sf_per_year  \\\n",
       "0           327 W 57th St, New York, NY 10019     3840                118.75   \n",
       "1    118 West 14th Street, New York, NY 10011     4200                140.00   \n",
       "2        778 Nostrand Ave, Brooklyn, NY 11215     1669                 39.54   \n",
       "3  5 Court Square, Long Island City, NY 11101     3500                 35.00   \n",
       "4         16 W 8th Street, New York, NY 10011     1163                149.61   \n",
       "\n",
       "                                           Prop_desc  \n",
       "0  (Amazing Location! Perfect for Restaurant or R...  \n",
       "1  (Prime retail at the base of a luxury resident...  \n",
       "2  (Prime Retail Space located on the main strip ...  \n",
       "3  (Immediate possession,  2   5 year lease term,...  \n",
       "4  (Excellent space steps from Washington Square ...  "
      ]
     },
     "execution_count": 433,
     "metadata": {},
     "output_type": "execute_result"
    }
   ],
   "source": [
    "# Extracting only relevant columns of the dataframe\n",
    "\n",
    "df_cityfeet = pd.concat([df_c['Full_Street_address'], \\\n",
    "                         df_c['SF_avail'], \\\n",
    "                         df_c['Price_per_sf_per_year'], \\\n",
    "                         df_c['Prop_desc']], \\\n",
    "                        axis = 1)\n",
    "df_cityfeet.reset_index(inplace = True, drop = True)\n",
    "df_cityfeet.head()"
   ]
  },
  {
   "cell_type": "code",
   "execution_count": 434,
   "metadata": {
    "ExecuteTime": {
     "end_time": "2016-11-14T17:08:34.828776",
     "start_time": "2016-11-14T17:08:34.785760"
    },
    "collapsed": false
   },
   "outputs": [
    {
     "name": "stdout",
     "output_type": "stream",
     "text": [
      "<class 'pandas.core.frame.DataFrame'>\n",
      "RangeIndex: 1133 entries, 0 to 1132\n",
      "Data columns (total 4 columns):\n",
      "Full_Street_address      1133 non-null object\n",
      "SF_avail                 1133 non-null object\n",
      "Price_per_sf_per_year    1133 non-null object\n",
      "Prop_desc                1133 non-null object\n",
      "dtypes: object(4)\n",
      "memory usage: 35.5+ KB\n"
     ]
    }
   ],
   "source": [
    "# Checking types\n",
    "df_cityfeet.info()"
   ]
  },
  {
   "cell_type": "code",
   "execution_count": 435,
   "metadata": {
    "ExecuteTime": {
     "end_time": "2016-11-14T17:10:19.021287",
     "start_time": "2016-11-14T17:10:19.010382"
    },
    "collapsed": false
   },
   "outputs": [],
   "source": [
    "# Converting floor area to float type\n",
    "df_cityfeet.loc[:, 'Price_per_sf_per_year'] = \\\n",
    "df_cityfeet['Price_per_sf_per_year'].astype(float)"
   ]
  },
  {
   "cell_type": "markdown",
   "metadata": {},
   "source": [
    "### Adding latitude and longitude"
   ]
  },
  {
   "cell_type": "code",
   "execution_count": 437,
   "metadata": {
    "ExecuteTime": {
     "end_time": "2016-11-14T17:40:05.904443",
     "start_time": "2016-11-14T17:11:07.246684"
    },
    "collapsed": false
   },
   "outputs": [
    {
     "data": {
      "text/html": [
       "<div>\n",
       "<table border=\"1\" class=\"dataframe\">\n",
       "  <thead>\n",
       "    <tr style=\"text-align: right;\">\n",
       "      <th></th>\n",
       "      <th>Full_Street_address</th>\n",
       "      <th>SF_avail</th>\n",
       "      <th>Price_per_sf_per_year</th>\n",
       "      <th>Prop_desc</th>\n",
       "      <th>Latitude</th>\n",
       "      <th>Longitude</th>\n",
       "    </tr>\n",
       "  </thead>\n",
       "  <tbody>\n",
       "    <tr>\n",
       "      <th>0</th>\n",
       "      <td>327 W 57th St, New York, NY 10019</td>\n",
       "      <td>3840</td>\n",
       "      <td>118.75</td>\n",
       "      <td>(Amazing Location! Perfect for Restaurant or R...</td>\n",
       "      <td>40.767498</td>\n",
       "      <td>-73.984111</td>\n",
       "    </tr>\n",
       "    <tr>\n",
       "      <th>1</th>\n",
       "      <td>118 West 14th Street, New York, NY 10011</td>\n",
       "      <td>4200</td>\n",
       "      <td>140.00</td>\n",
       "      <td>(Prime retail at the base of a luxury resident...</td>\n",
       "      <td>40.737629</td>\n",
       "      <td>-73.997937</td>\n",
       "    </tr>\n",
       "    <tr>\n",
       "      <th>2</th>\n",
       "      <td>778 Nostrand Ave, Brooklyn, NY 11215</td>\n",
       "      <td>1669</td>\n",
       "      <td>39.54</td>\n",
       "      <td>(Prime Retail Space located on the main strip ...</td>\n",
       "      <td>40.672089</td>\n",
       "      <td>-73.950522</td>\n",
       "    </tr>\n",
       "    <tr>\n",
       "      <th>3</th>\n",
       "      <td>5 Court Square, Long Island City, NY 11101</td>\n",
       "      <td>3500</td>\n",
       "      <td>35.00</td>\n",
       "      <td>(Immediate possession,  2   5 year lease term,...</td>\n",
       "      <td>40.746630</td>\n",
       "      <td>-73.942833</td>\n",
       "    </tr>\n",
       "    <tr>\n",
       "      <th>4</th>\n",
       "      <td>16 W 8th Street, New York, NY 10011</td>\n",
       "      <td>1163</td>\n",
       "      <td>149.61</td>\n",
       "      <td>(Excellent space steps from Washington Square ...</td>\n",
       "      <td>40.732584</td>\n",
       "      <td>-73.997463</td>\n",
       "    </tr>\n",
       "  </tbody>\n",
       "</table>\n",
       "</div>"
      ],
      "text/plain": [
       "                          Full_Street_address SF_avail  Price_per_sf_per_year  \\\n",
       "0           327 W 57th St, New York, NY 10019     3840                 118.75   \n",
       "1    118 West 14th Street, New York, NY 10011     4200                 140.00   \n",
       "2        778 Nostrand Ave, Brooklyn, NY 11215     1669                  39.54   \n",
       "3  5 Court Square, Long Island City, NY 11101     3500                  35.00   \n",
       "4         16 W 8th Street, New York, NY 10011     1163                 149.61   \n",
       "\n",
       "                                           Prop_desc   Latitude  Longitude  \n",
       "0  (Amazing Location! Perfect for Restaurant or R...  40.767498 -73.984111  \n",
       "1  (Prime retail at the base of a luxury resident...  40.737629 -73.997937  \n",
       "2  (Prime Retail Space located on the main strip ...  40.672089 -73.950522  \n",
       "3  (Immediate possession,  2   5 year lease term,...  40.746630 -73.942833  \n",
       "4  (Excellent space steps from Washington Square ...  40.732584 -73.997463  "
      ]
     },
     "execution_count": 437,
     "metadata": {},
     "output_type": "execute_result"
    }
   ],
   "source": [
    "# Geocoding address with latitude and longitude\n",
    "\n",
    "lat = []\n",
    "lon = []\n",
    "for i in df_cityfeet['Full_Street_address']:\n",
    "    \n",
    "    try:\n",
    "        latlon = geocoder.google(i)\n",
    "        lat.append(latlon.latlng[0])\n",
    "        lon.append(latlon.latlng[1])\n",
    "    \n",
    "    except:\n",
    "        lat.append(np.nan)\n",
    "        lon.append(np.nan)\n",
    "    \n",
    "df_cityfeet['Latitude'] = lat\n",
    "df_cityfeet['Longitude'] = lon\n",
    "df_cityfeet.head()   "
   ]
  },
  {
   "cell_type": "markdown",
   "metadata": {},
   "source": [
    "## Adding back zipcodes and city to facilitate EDA"
   ]
  },
  {
   "cell_type": "code",
   "execution_count": 448,
   "metadata": {
    "ExecuteTime": {
     "end_time": "2016-11-14T17:44:23.817085",
     "start_time": "2016-11-14T17:44:23.813337"
    },
    "collapsed": true
   },
   "outputs": [],
   "source": [
    "city = df_c['City']"
   ]
  },
  {
   "cell_type": "code",
   "execution_count": 453,
   "metadata": {
    "ExecuteTime": {
     "end_time": "2016-11-14T17:45:28.523049",
     "start_time": "2016-11-14T17:45:28.504847"
    },
    "collapsed": false
   },
   "outputs": [
    {
     "data": {
      "text/plain": [
       "0       10019\n",
       "1       10011\n",
       "2       11215\n",
       "3       11101\n",
       "4       10011\n",
       "5       10032\n",
       "6       10463\n",
       "7       10025\n",
       "8       10009\n",
       "9       10014\n",
       "10      10011\n",
       "11      10003\n",
       "12      10002\n",
       "13      10002\n",
       "14      11520\n",
       "15      11780\n",
       "16      11772\n",
       "17      11716\n",
       "18      11722\n",
       "19      11743\n",
       "20      10547\n",
       "21      11727\n",
       "22      11211\n",
       "23      11216\n",
       "24      11218\n",
       "25      11225\n",
       "26      11226\n",
       "27      11206\n",
       "28      11206\n",
       "29      11226\n",
       "        ...  \n",
       "1103    10075\n",
       "1104    10022\n",
       "1105    10573\n",
       "1106    10013\n",
       "1107    14217\n",
       "1108    14224\n",
       "1109    11385\n",
       "1110    12590\n",
       "1111    10541\n",
       "1112    11040\n",
       "1113    11434\n",
       "1114    10562\n",
       "1115    10598\n",
       "1116    10549\n",
       "1117    11426\n",
       "1118    10570\n",
       "1119    11222\n",
       "1120    11557\n",
       "1121    10012\n",
       "1122    10519\n",
       "1123    12524\n",
       "1124    12603\n",
       "1125    14850\n",
       "1126    11706\n",
       "1127    10013\n",
       "1128    13203\n",
       "1129    10549\n",
       "1130    10467\n",
       "1131    11101\n",
       "1132    10024\n",
       "Name: zips, dtype: object"
      ]
     },
     "execution_count": 453,
     "metadata": {},
     "output_type": "execute_result"
    }
   ],
   "source": [
    "zipp = df_c['zips']\n",
    "zipp"
   ]
  },
  {
   "cell_type": "code",
   "execution_count": 454,
   "metadata": {
    "ExecuteTime": {
     "end_time": "2016-11-14T17:45:39.936433",
     "start_time": "2016-11-14T17:45:39.884347"
    },
    "collapsed": false
   },
   "outputs": [
    {
     "data": {
      "text/html": [
       "<div>\n",
       "<table border=\"1\" class=\"dataframe\">\n",
       "  <thead>\n",
       "    <tr style=\"text-align: right;\">\n",
       "      <th></th>\n",
       "      <th>Full_Street_address</th>\n",
       "      <th>SF_avail</th>\n",
       "      <th>Price_per_sf_per_year</th>\n",
       "      <th>Prop_desc</th>\n",
       "      <th>Latitude</th>\n",
       "      <th>Longitude</th>\n",
       "      <th>City</th>\n",
       "    </tr>\n",
       "  </thead>\n",
       "  <tbody>\n",
       "    <tr>\n",
       "      <th>0</th>\n",
       "      <td>327 W 57th St, New York, NY 10019</td>\n",
       "      <td>3840</td>\n",
       "      <td>118.75</td>\n",
       "      <td>(Amazing Location! Perfect for Restaurant or R...</td>\n",
       "      <td>40.767498</td>\n",
       "      <td>-73.984111</td>\n",
       "      <td>New York</td>\n",
       "    </tr>\n",
       "    <tr>\n",
       "      <th>1</th>\n",
       "      <td>118 West 14th Street, New York, NY 10011</td>\n",
       "      <td>4200</td>\n",
       "      <td>140.00</td>\n",
       "      <td>(Prime retail at the base of a luxury resident...</td>\n",
       "      <td>40.737629</td>\n",
       "      <td>-73.997937</td>\n",
       "      <td>New York</td>\n",
       "    </tr>\n",
       "    <tr>\n",
       "      <th>2</th>\n",
       "      <td>778 Nostrand Ave, Brooklyn, NY 11215</td>\n",
       "      <td>1669</td>\n",
       "      <td>39.54</td>\n",
       "      <td>(Prime Retail Space located on the main strip ...</td>\n",
       "      <td>40.672089</td>\n",
       "      <td>-73.950522</td>\n",
       "      <td>Brooklyn</td>\n",
       "    </tr>\n",
       "    <tr>\n",
       "      <th>3</th>\n",
       "      <td>5 Court Square, Long Island City, NY 11101</td>\n",
       "      <td>3500</td>\n",
       "      <td>35.00</td>\n",
       "      <td>(Immediate possession,  2   5 year lease term,...</td>\n",
       "      <td>40.746630</td>\n",
       "      <td>-73.942833</td>\n",
       "      <td>Long Island City</td>\n",
       "    </tr>\n",
       "    <tr>\n",
       "      <th>4</th>\n",
       "      <td>16 W 8th Street, New York, NY 10011</td>\n",
       "      <td>1163</td>\n",
       "      <td>149.61</td>\n",
       "      <td>(Excellent space steps from Washington Square ...</td>\n",
       "      <td>40.732584</td>\n",
       "      <td>-73.997463</td>\n",
       "      <td>New York</td>\n",
       "    </tr>\n",
       "  </tbody>\n",
       "</table>\n",
       "</div>"
      ],
      "text/plain": [
       "                          Full_Street_address SF_avail  Price_per_sf_per_year  \\\n",
       "0           327 W 57th St, New York, NY 10019     3840                 118.75   \n",
       "1    118 West 14th Street, New York, NY 10011     4200                 140.00   \n",
       "2        778 Nostrand Ave, Brooklyn, NY 11215     1669                  39.54   \n",
       "3  5 Court Square, Long Island City, NY 11101     3500                  35.00   \n",
       "4         16 W 8th Street, New York, NY 10011     1163                 149.61   \n",
       "\n",
       "                                           Prop_desc   Latitude  Longitude  \\\n",
       "0  (Amazing Location! Perfect for Restaurant or R...  40.767498 -73.984111   \n",
       "1  (Prime retail at the base of a luxury resident...  40.737629 -73.997937   \n",
       "2  (Prime Retail Space located on the main strip ...  40.672089 -73.950522   \n",
       "3  (Immediate possession,  2   5 year lease term,...  40.746630 -73.942833   \n",
       "4  (Excellent space steps from Washington Square ...  40.732584 -73.997463   \n",
       "\n",
       "               City  \n",
       "0          New York  \n",
       "1          New York  \n",
       "2          Brooklyn  \n",
       "3  Long Island City  \n",
       "4          New York  "
      ]
     },
     "execution_count": 454,
     "metadata": {},
     "output_type": "execute_result"
    }
   ],
   "source": [
    "# Adding \"City\" as a separate column, for possible EDA purposes later\n",
    "df_cityfeet['City'] = city\n",
    "df_cityfeet.head()"
   ]
  },
  {
   "cell_type": "code",
   "execution_count": 455,
   "metadata": {
    "ExecuteTime": {
     "end_time": "2016-11-14T17:46:10.427999",
     "start_time": "2016-11-14T17:46:10.377697"
    },
    "collapsed": false
   },
   "outputs": [
    {
     "data": {
      "text/html": [
       "<div>\n",
       "<table border=\"1\" class=\"dataframe\">\n",
       "  <thead>\n",
       "    <tr style=\"text-align: right;\">\n",
       "      <th></th>\n",
       "      <th>Full_Street_address</th>\n",
       "      <th>SF_avail</th>\n",
       "      <th>Price_per_sf_per_year</th>\n",
       "      <th>Prop_desc</th>\n",
       "      <th>Latitude</th>\n",
       "      <th>Longitude</th>\n",
       "      <th>City</th>\n",
       "      <th>Zipcode</th>\n",
       "    </tr>\n",
       "  </thead>\n",
       "  <tbody>\n",
       "    <tr>\n",
       "      <th>0</th>\n",
       "      <td>327 W 57th St, New York, NY 10019</td>\n",
       "      <td>3840</td>\n",
       "      <td>118.75</td>\n",
       "      <td>(Amazing Location! Perfect for Restaurant or R...</td>\n",
       "      <td>40.767498</td>\n",
       "      <td>-73.984111</td>\n",
       "      <td>New York</td>\n",
       "      <td>10019</td>\n",
       "    </tr>\n",
       "    <tr>\n",
       "      <th>1</th>\n",
       "      <td>118 West 14th Street, New York, NY 10011</td>\n",
       "      <td>4200</td>\n",
       "      <td>140.00</td>\n",
       "      <td>(Prime retail at the base of a luxury resident...</td>\n",
       "      <td>40.737629</td>\n",
       "      <td>-73.997937</td>\n",
       "      <td>New York</td>\n",
       "      <td>10011</td>\n",
       "    </tr>\n",
       "    <tr>\n",
       "      <th>2</th>\n",
       "      <td>778 Nostrand Ave, Brooklyn, NY 11215</td>\n",
       "      <td>1669</td>\n",
       "      <td>39.54</td>\n",
       "      <td>(Prime Retail Space located on the main strip ...</td>\n",
       "      <td>40.672089</td>\n",
       "      <td>-73.950522</td>\n",
       "      <td>Brooklyn</td>\n",
       "      <td>11215</td>\n",
       "    </tr>\n",
       "    <tr>\n",
       "      <th>3</th>\n",
       "      <td>5 Court Square, Long Island City, NY 11101</td>\n",
       "      <td>3500</td>\n",
       "      <td>35.00</td>\n",
       "      <td>(Immediate possession,  2   5 year lease term,...</td>\n",
       "      <td>40.746630</td>\n",
       "      <td>-73.942833</td>\n",
       "      <td>Long Island City</td>\n",
       "      <td>11101</td>\n",
       "    </tr>\n",
       "    <tr>\n",
       "      <th>4</th>\n",
       "      <td>16 W 8th Street, New York, NY 10011</td>\n",
       "      <td>1163</td>\n",
       "      <td>149.61</td>\n",
       "      <td>(Excellent space steps from Washington Square ...</td>\n",
       "      <td>40.732584</td>\n",
       "      <td>-73.997463</td>\n",
       "      <td>New York</td>\n",
       "      <td>10011</td>\n",
       "    </tr>\n",
       "  </tbody>\n",
       "</table>\n",
       "</div>"
      ],
      "text/plain": [
       "                          Full_Street_address SF_avail  Price_per_sf_per_year  \\\n",
       "0           327 W 57th St, New York, NY 10019     3840                 118.75   \n",
       "1    118 West 14th Street, New York, NY 10011     4200                 140.00   \n",
       "2        778 Nostrand Ave, Brooklyn, NY 11215     1669                  39.54   \n",
       "3  5 Court Square, Long Island City, NY 11101     3500                  35.00   \n",
       "4         16 W 8th Street, New York, NY 10011     1163                 149.61   \n",
       "\n",
       "                                           Prop_desc   Latitude  Longitude  \\\n",
       "0  (Amazing Location! Perfect for Restaurant or R...  40.767498 -73.984111   \n",
       "1  (Prime retail at the base of a luxury resident...  40.737629 -73.997937   \n",
       "2  (Prime Retail Space located on the main strip ...  40.672089 -73.950522   \n",
       "3  (Immediate possession,  2   5 year lease term,...  40.746630 -73.942833   \n",
       "4  (Excellent space steps from Washington Square ...  40.732584 -73.997463   \n",
       "\n",
       "               City Zipcode  \n",
       "0          New York   10019  \n",
       "1          New York   10011  \n",
       "2          Brooklyn   11215  \n",
       "3  Long Island City   11101  \n",
       "4          New York   10011  "
      ]
     },
     "execution_count": 455,
     "metadata": {},
     "output_type": "execute_result"
    }
   ],
   "source": [
    "# Adding zipcode column to facilitate EDA\n",
    "df_cityfeet['Zipcode'] = zipp\n",
    "df_cityfeet.head()"
   ]
  },
  {
   "cell_type": "markdown",
   "metadata": {},
   "source": [
    "## Basic EDA"
   ]
  },
  {
   "cell_type": "code",
   "execution_count": 257,
   "metadata": {
    "ExecuteTime": {
     "end_time": "2016-11-13T23:41:38.662426",
     "start_time": "2016-11-13T23:41:38.584006"
    },
    "collapsed": false
   },
   "outputs": [
    {
     "data": {
      "text/html": [
       "<div>\n",
       "<table border=\"1\" class=\"dataframe\">\n",
       "  <thead>\n",
       "    <tr style=\"text-align: right;\">\n",
       "      <th></th>\n",
       "      <th>SF_avail</th>\n",
       "      <th>Price_per_sf_per_year</th>\n",
       "      <th>Latitude</th>\n",
       "      <th>Longitude</th>\n",
       "      <th>Zipcode</th>\n",
       "    </tr>\n",
       "  </thead>\n",
       "  <tbody>\n",
       "    <tr>\n",
       "      <th>count</th>\n",
       "      <td>131.000000</td>\n",
       "      <td>131.000000</td>\n",
       "      <td>131.000000</td>\n",
       "      <td>131.000000</td>\n",
       "      <td>131.000000</td>\n",
       "    </tr>\n",
       "    <tr>\n",
       "      <th>mean</th>\n",
       "      <td>8403.114504</td>\n",
       "      <td>134.322824</td>\n",
       "      <td>40.755279</td>\n",
       "      <td>-73.978563</td>\n",
       "      <td>10020.282443</td>\n",
       "    </tr>\n",
       "    <tr>\n",
       "      <th>std</th>\n",
       "      <td>48950.738279</td>\n",
       "      <td>98.794998</td>\n",
       "      <td>0.038811</td>\n",
       "      <td>0.024065</td>\n",
       "      <td>21.166110</td>\n",
       "    </tr>\n",
       "    <tr>\n",
       "      <th>min</th>\n",
       "      <td>279.000000</td>\n",
       "      <td>18.000000</td>\n",
       "      <td>40.703561</td>\n",
       "      <td>-74.012465</td>\n",
       "      <td>10001.000000</td>\n",
       "    </tr>\n",
       "    <tr>\n",
       "      <th>25%</th>\n",
       "      <td>800.000000</td>\n",
       "      <td>64.845000</td>\n",
       "      <td>40.724422</td>\n",
       "      <td>-74.000122</td>\n",
       "      <td>10010.000000</td>\n",
       "    </tr>\n",
       "    <tr>\n",
       "      <th>50%</th>\n",
       "      <td>1500.000000</td>\n",
       "      <td>105.000000</td>\n",
       "      <td>40.738547</td>\n",
       "      <td>-73.986773</td>\n",
       "      <td>10014.000000</td>\n",
       "    </tr>\n",
       "    <tr>\n",
       "      <th>75%</th>\n",
       "      <td>2694.000000</td>\n",
       "      <td>163.930000</td>\n",
       "      <td>40.785749</td>\n",
       "      <td>-73.953785</td>\n",
       "      <td>10028.500000</td>\n",
       "    </tr>\n",
       "    <tr>\n",
       "      <th>max</th>\n",
       "      <td>520000.000000</td>\n",
       "      <td>600.000000</td>\n",
       "      <td>40.862353</td>\n",
       "      <td>-73.925560</td>\n",
       "      <td>10128.000000</td>\n",
       "    </tr>\n",
       "  </tbody>\n",
       "</table>\n",
       "</div>"
      ],
      "text/plain": [
       "            SF_avail  Price_per_sf_per_year    Latitude   Longitude  \\\n",
       "count     131.000000             131.000000  131.000000  131.000000   \n",
       "mean     8403.114504             134.322824   40.755279  -73.978563   \n",
       "std     48950.738279              98.794998    0.038811    0.024065   \n",
       "min       279.000000              18.000000   40.703561  -74.012465   \n",
       "25%       800.000000              64.845000   40.724422  -74.000122   \n",
       "50%      1500.000000             105.000000   40.738547  -73.986773   \n",
       "75%      2694.000000             163.930000   40.785749  -73.953785   \n",
       "max    520000.000000             600.000000   40.862353  -73.925560   \n",
       "\n",
       "            Zipcode  \n",
       "count    131.000000  \n",
       "mean   10020.282443  \n",
       "std       21.166110  \n",
       "min    10001.000000  \n",
       "25%    10010.000000  \n",
       "50%    10014.000000  \n",
       "75%    10028.500000  \n",
       "max    10128.000000  "
      ]
     },
     "execution_count": 257,
     "metadata": {},
     "output_type": "execute_result"
    }
   ],
   "source": [
    "df_cityfeet.describe()"
   ]
  },
  {
   "cell_type": "code",
   "execution_count": 258,
   "metadata": {
    "ExecuteTime": {
     "end_time": "2016-11-13T23:42:31.342031",
     "start_time": "2016-11-13T23:42:31.292708"
    },
    "collapsed": false
   },
   "outputs": [
    {
     "data": {
      "text/html": [
       "<div>\n",
       "<table border=\"1\" class=\"dataframe\">\n",
       "  <thead>\n",
       "    <tr style=\"text-align: right;\">\n",
       "      <th></th>\n",
       "      <th>Street_address</th>\n",
       "      <th>SF_avail</th>\n",
       "      <th>Price_per_sf_per_year</th>\n",
       "      <th>Prop_desc</th>\n",
       "      <th>Latitude</th>\n",
       "      <th>Longitude</th>\n",
       "      <th>Zipcode</th>\n",
       "    </tr>\n",
       "  </thead>\n",
       "  <tbody>\n",
       "    <tr>\n",
       "      <th>64</th>\n",
       "      <td>2340 5th Avenue, NY 10037</td>\n",
       "      <td>520000</td>\n",
       "      <td>49.0</td>\n",
       "      <td>(Build to Suit Commercial Development in Harle...</td>\n",
       "      <td>40.816982</td>\n",
       "      <td>-73.934953</td>\n",
       "      <td>10037</td>\n",
       "    </tr>\n",
       "    <tr>\n",
       "      <th>67</th>\n",
       "      <td>2005 2023 Third Avenue, NY 10029</td>\n",
       "      <td>121500</td>\n",
       "      <td>50.0</td>\n",
       "      <td>(Build to Suit Commercial Development in East ...</td>\n",
       "      <td>40.794119</td>\n",
       "      <td>-73.942374</td>\n",
       "      <td>10029</td>\n",
       "    </tr>\n",
       "    <tr>\n",
       "      <th>68</th>\n",
       "      <td>315 E 94th Street, NY 10128</td>\n",
       "      <td>185000</td>\n",
       "      <td>60.0</td>\n",
       "      <td>(Build to Suit Commercial Development in the U...</td>\n",
       "      <td>40.782479</td>\n",
       "      <td>-73.946914</td>\n",
       "      <td>10128</td>\n",
       "    </tr>\n",
       "  </tbody>\n",
       "</table>\n",
       "</div>"
      ],
      "text/plain": [
       "                      Street_address  SF_avail  Price_per_sf_per_year  \\\n",
       "64         2340 5th Avenue, NY 10037    520000                   49.0   \n",
       "67  2005 2023 Third Avenue, NY 10029    121500                   50.0   \n",
       "68       315 E 94th Street, NY 10128    185000                   60.0   \n",
       "\n",
       "                                            Prop_desc   Latitude  Longitude  \\\n",
       "64  (Build to Suit Commercial Development in Harle...  40.816982 -73.934953   \n",
       "67  (Build to Suit Commercial Development in East ...  40.794119 -73.942374   \n",
       "68  (Build to Suit Commercial Development in the U...  40.782479 -73.946914   \n",
       "\n",
       "    Zipcode  \n",
       "64    10037  \n",
       "67    10029  \n",
       "68    10128  "
      ]
     },
     "execution_count": 258,
     "metadata": {},
     "output_type": "execute_result"
    }
   ],
   "source": [
    "# Checking for outliers (large commercial projects)\n",
    "df_cityfeet[df_cityfeet['SF_avail'] > 50000]"
   ]
  },
  {
   "cell_type": "code",
   "execution_count": 458,
   "metadata": {
    "ExecuteTime": {
     "end_time": "2016-11-14T17:48:07.499097",
     "start_time": "2016-11-14T17:48:07.490716"
    },
    "collapsed": false
   },
   "outputs": [
    {
     "data": {
      "text/plain": [
       "(1133, 8)"
      ]
     },
     "execution_count": 458,
     "metadata": {},
     "output_type": "execute_result"
    }
   ],
   "source": [
    "# Checking to see eventual number of listings\n",
    "df_cityfeet.shape"
   ]
  },
  {
   "cell_type": "code",
   "execution_count": 459,
   "metadata": {
    "ExecuteTime": {
     "end_time": "2016-11-14T17:48:33.714892",
     "start_time": "2016-11-14T17:48:33.695851"
    },
    "collapsed": false
   },
   "outputs": [
    {
     "data": {
      "text/plain": [
       "(1128, 8)"
      ]
     },
     "execution_count": 459,
     "metadata": {},
     "output_type": "execute_result"
    }
   ],
   "source": [
    "# Dropping duplicates\n",
    "df_cityfeet = df_cityfeet.drop_duplicates()\n",
    "df_cityfeet.shape"
   ]
  },
  {
   "cell_type": "code",
   "execution_count": 460,
   "metadata": {
    "ExecuteTime": {
     "end_time": "2016-11-14T17:48:43.571173",
     "start_time": "2016-11-14T17:48:43.519272"
    },
    "collapsed": true
   },
   "outputs": [],
   "source": [
    "# Saving to csv\n",
    "df_cityfeet.to_csv('cityfeet_retail_rental.csv')"
   ]
  },
  {
   "cell_type": "code",
   "execution_count": 461,
   "metadata": {
    "ExecuteTime": {
     "end_time": "2016-11-14T23:22:45.382211",
     "start_time": "2016-11-14T23:22:45.172785"
    },
    "collapsed": false
   },
   "outputs": [
    {
     "data": {
      "text/html": [
       "<div>\n",
       "<table border=\"1\" class=\"dataframe\">\n",
       "  <thead>\n",
       "    <tr style=\"text-align: right;\">\n",
       "      <th></th>\n",
       "      <th>Price_per_sf_per_year</th>\n",
       "      <th>SF_avail</th>\n",
       "    </tr>\n",
       "    <tr>\n",
       "      <th>Zipcode</th>\n",
       "      <th></th>\n",
       "      <th></th>\n",
       "    </tr>\n",
       "  </thead>\n",
       "  <tbody>\n",
       "    <tr>\n",
       "      <th>10001</th>\n",
       "      <td>3</td>\n",
       "      <td>3</td>\n",
       "    </tr>\n",
       "    <tr>\n",
       "      <th>10002</th>\n",
       "      <td>21</td>\n",
       "      <td>21</td>\n",
       "    </tr>\n",
       "    <tr>\n",
       "      <th>10003</th>\n",
       "      <td>11</td>\n",
       "      <td>11</td>\n",
       "    </tr>\n",
       "    <tr>\n",
       "      <th>10004</th>\n",
       "      <td>1</td>\n",
       "      <td>1</td>\n",
       "    </tr>\n",
       "    <tr>\n",
       "      <th>10005</th>\n",
       "      <td>1</td>\n",
       "      <td>1</td>\n",
       "    </tr>\n",
       "    <tr>\n",
       "      <th>10007</th>\n",
       "      <td>3</td>\n",
       "      <td>3</td>\n",
       "    </tr>\n",
       "    <tr>\n",
       "      <th>10009</th>\n",
       "      <td>4</td>\n",
       "      <td>4</td>\n",
       "    </tr>\n",
       "    <tr>\n",
       "      <th>10010</th>\n",
       "      <td>1</td>\n",
       "      <td>1</td>\n",
       "    </tr>\n",
       "    <tr>\n",
       "      <th>10011</th>\n",
       "      <td>14</td>\n",
       "      <td>14</td>\n",
       "    </tr>\n",
       "    <tr>\n",
       "      <th>10012</th>\n",
       "      <td>12</td>\n",
       "      <td>12</td>\n",
       "    </tr>\n",
       "    <tr>\n",
       "      <th>10013</th>\n",
       "      <td>13</td>\n",
       "      <td>13</td>\n",
       "    </tr>\n",
       "    <tr>\n",
       "      <th>10014</th>\n",
       "      <td>16</td>\n",
       "      <td>16</td>\n",
       "    </tr>\n",
       "    <tr>\n",
       "      <th>10016</th>\n",
       "      <td>1</td>\n",
       "      <td>1</td>\n",
       "    </tr>\n",
       "    <tr>\n",
       "      <th>10017</th>\n",
       "      <td>3</td>\n",
       "      <td>3</td>\n",
       "    </tr>\n",
       "    <tr>\n",
       "      <th>10018</th>\n",
       "      <td>3</td>\n",
       "      <td>3</td>\n",
       "    </tr>\n",
       "    <tr>\n",
       "      <th>10019</th>\n",
       "      <td>2</td>\n",
       "      <td>2</td>\n",
       "    </tr>\n",
       "    <tr>\n",
       "      <th>10021</th>\n",
       "      <td>3</td>\n",
       "      <td>3</td>\n",
       "    </tr>\n",
       "    <tr>\n",
       "      <th>10022</th>\n",
       "      <td>6</td>\n",
       "      <td>6</td>\n",
       "    </tr>\n",
       "    <tr>\n",
       "      <th>10023</th>\n",
       "      <td>1</td>\n",
       "      <td>1</td>\n",
       "    </tr>\n",
       "    <tr>\n",
       "      <th>10024</th>\n",
       "      <td>5</td>\n",
       "      <td>5</td>\n",
       "    </tr>\n",
       "    <tr>\n",
       "      <th>10025</th>\n",
       "      <td>4</td>\n",
       "      <td>4</td>\n",
       "    </tr>\n",
       "    <tr>\n",
       "      <th>10026</th>\n",
       "      <td>3</td>\n",
       "      <td>3</td>\n",
       "    </tr>\n",
       "    <tr>\n",
       "      <th>10027</th>\n",
       "      <td>4</td>\n",
       "      <td>4</td>\n",
       "    </tr>\n",
       "    <tr>\n",
       "      <th>10028</th>\n",
       "      <td>2</td>\n",
       "      <td>2</td>\n",
       "    </tr>\n",
       "    <tr>\n",
       "      <th>10029</th>\n",
       "      <td>11</td>\n",
       "      <td>11</td>\n",
       "    </tr>\n",
       "    <tr>\n",
       "      <th>10030</th>\n",
       "      <td>1</td>\n",
       "      <td>1</td>\n",
       "    </tr>\n",
       "    <tr>\n",
       "      <th>10031</th>\n",
       "      <td>3</td>\n",
       "      <td>3</td>\n",
       "    </tr>\n",
       "    <tr>\n",
       "      <th>10032</th>\n",
       "      <td>4</td>\n",
       "      <td>4</td>\n",
       "    </tr>\n",
       "    <tr>\n",
       "      <th>10033</th>\n",
       "      <td>6</td>\n",
       "      <td>6</td>\n",
       "    </tr>\n",
       "    <tr>\n",
       "      <th>10035</th>\n",
       "      <td>3</td>\n",
       "      <td>3</td>\n",
       "    </tr>\n",
       "    <tr>\n",
       "      <th>...</th>\n",
       "      <td>...</td>\n",
       "      <td>...</td>\n",
       "    </tr>\n",
       "    <tr>\n",
       "      <th>14437</th>\n",
       "      <td>1</td>\n",
       "      <td>1</td>\n",
       "    </tr>\n",
       "    <tr>\n",
       "      <th>14445</th>\n",
       "      <td>1</td>\n",
       "      <td>1</td>\n",
       "    </tr>\n",
       "    <tr>\n",
       "      <th>14450</th>\n",
       "      <td>2</td>\n",
       "      <td>2</td>\n",
       "    </tr>\n",
       "    <tr>\n",
       "      <th>14456</th>\n",
       "      <td>1</td>\n",
       "      <td>1</td>\n",
       "    </tr>\n",
       "    <tr>\n",
       "      <th>14464</th>\n",
       "      <td>1</td>\n",
       "      <td>1</td>\n",
       "    </tr>\n",
       "    <tr>\n",
       "      <th>14472</th>\n",
       "      <td>1</td>\n",
       "      <td>1</td>\n",
       "    </tr>\n",
       "    <tr>\n",
       "      <th>14482</th>\n",
       "      <td>1</td>\n",
       "      <td>1</td>\n",
       "    </tr>\n",
       "    <tr>\n",
       "      <th>14519</th>\n",
       "      <td>1</td>\n",
       "      <td>1</td>\n",
       "    </tr>\n",
       "    <tr>\n",
       "      <th>14526</th>\n",
       "      <td>1</td>\n",
       "      <td>1</td>\n",
       "    </tr>\n",
       "    <tr>\n",
       "      <th>14543</th>\n",
       "      <td>1</td>\n",
       "      <td>1</td>\n",
       "    </tr>\n",
       "    <tr>\n",
       "      <th>14559</th>\n",
       "      <td>1</td>\n",
       "      <td>1</td>\n",
       "    </tr>\n",
       "    <tr>\n",
       "      <th>14568</th>\n",
       "      <td>1</td>\n",
       "      <td>1</td>\n",
       "    </tr>\n",
       "    <tr>\n",
       "      <th>14569</th>\n",
       "      <td>1</td>\n",
       "      <td>1</td>\n",
       "    </tr>\n",
       "    <tr>\n",
       "      <th>14580</th>\n",
       "      <td>2</td>\n",
       "      <td>2</td>\n",
       "    </tr>\n",
       "    <tr>\n",
       "      <th>14604</th>\n",
       "      <td>1</td>\n",
       "      <td>1</td>\n",
       "    </tr>\n",
       "    <tr>\n",
       "      <th>14606</th>\n",
       "      <td>2</td>\n",
       "      <td>2</td>\n",
       "    </tr>\n",
       "    <tr>\n",
       "      <th>14607</th>\n",
       "      <td>2</td>\n",
       "      <td>2</td>\n",
       "    </tr>\n",
       "    <tr>\n",
       "      <th>14611</th>\n",
       "      <td>3</td>\n",
       "      <td>3</td>\n",
       "    </tr>\n",
       "    <tr>\n",
       "      <th>14612</th>\n",
       "      <td>1</td>\n",
       "      <td>1</td>\n",
       "    </tr>\n",
       "    <tr>\n",
       "      <th>14614</th>\n",
       "      <td>1</td>\n",
       "      <td>1</td>\n",
       "    </tr>\n",
       "    <tr>\n",
       "      <th>14615</th>\n",
       "      <td>1</td>\n",
       "      <td>1</td>\n",
       "    </tr>\n",
       "    <tr>\n",
       "      <th>14617</th>\n",
       "      <td>1</td>\n",
       "      <td>1</td>\n",
       "    </tr>\n",
       "    <tr>\n",
       "      <th>14618</th>\n",
       "      <td>6</td>\n",
       "      <td>6</td>\n",
       "    </tr>\n",
       "    <tr>\n",
       "      <th>14622</th>\n",
       "      <td>2</td>\n",
       "      <td>2</td>\n",
       "    </tr>\n",
       "    <tr>\n",
       "      <th>14623</th>\n",
       "      <td>1</td>\n",
       "      <td>1</td>\n",
       "    </tr>\n",
       "    <tr>\n",
       "      <th>14624</th>\n",
       "      <td>3</td>\n",
       "      <td>3</td>\n",
       "    </tr>\n",
       "    <tr>\n",
       "      <th>14625</th>\n",
       "      <td>1</td>\n",
       "      <td>1</td>\n",
       "    </tr>\n",
       "    <tr>\n",
       "      <th>14626</th>\n",
       "      <td>1</td>\n",
       "      <td>1</td>\n",
       "    </tr>\n",
       "    <tr>\n",
       "      <th>14701</th>\n",
       "      <td>2</td>\n",
       "      <td>2</td>\n",
       "    </tr>\n",
       "    <tr>\n",
       "      <th>14850</th>\n",
       "      <td>2</td>\n",
       "      <td>2</td>\n",
       "    </tr>\n",
       "  </tbody>\n",
       "</table>\n",
       "<p>394 rows × 2 columns</p>\n",
       "</div>"
      ],
      "text/plain": [
       "         Price_per_sf_per_year  SF_avail\n",
       "Zipcode                                 \n",
       "10001                        3         3\n",
       "10002                       21        21\n",
       "10003                       11        11\n",
       "10004                        1         1\n",
       "10005                        1         1\n",
       "10007                        3         3\n",
       "10009                        4         4\n",
       "10010                        1         1\n",
       "10011                       14        14\n",
       "10012                       12        12\n",
       "10013                       13        13\n",
       "10014                       16        16\n",
       "10016                        1         1\n",
       "10017                        3         3\n",
       "10018                        3         3\n",
       "10019                        2         2\n",
       "10021                        3         3\n",
       "10022                        6         6\n",
       "10023                        1         1\n",
       "10024                        5         5\n",
       "10025                        4         4\n",
       "10026                        3         3\n",
       "10027                        4         4\n",
       "10028                        2         2\n",
       "10029                       11        11\n",
       "10030                        1         1\n",
       "10031                        3         3\n",
       "10032                        4         4\n",
       "10033                        6         6\n",
       "10035                        3         3\n",
       "...                        ...       ...\n",
       "14437                        1         1\n",
       "14445                        1         1\n",
       "14450                        2         2\n",
       "14456                        1         1\n",
       "14464                        1         1\n",
       "14472                        1         1\n",
       "14482                        1         1\n",
       "14519                        1         1\n",
       "14526                        1         1\n",
       "14543                        1         1\n",
       "14559                        1         1\n",
       "14568                        1         1\n",
       "14569                        1         1\n",
       "14580                        2         2\n",
       "14604                        1         1\n",
       "14606                        2         2\n",
       "14607                        2         2\n",
       "14611                        3         3\n",
       "14612                        1         1\n",
       "14614                        1         1\n",
       "14615                        1         1\n",
       "14617                        1         1\n",
       "14618                        6         6\n",
       "14622                        2         2\n",
       "14623                        1         1\n",
       "14624                        3         3\n",
       "14625                        1         1\n",
       "14626                        1         1\n",
       "14701                        2         2\n",
       "14850                        2         2\n",
       "\n",
       "[394 rows x 2 columns]"
      ]
     },
     "execution_count": 461,
     "metadata": {},
     "output_type": "execute_result"
    }
   ],
   "source": [
    "pd.pivot_table(df_cityfeet, values = ['SF_avail', 'Price_per_sf_per_year'], \\\n",
    "               index = ['Zipcode'], aggfunc='count')"
   ]
  },
  {
   "cell_type": "code",
   "execution_count": 267,
   "metadata": {
    "ExecuteTime": {
     "end_time": "2016-11-14T00:09:40.858337",
     "start_time": "2016-11-14T00:09:40.677233"
    },
    "collapsed": false
   },
   "outputs": [
    {
     "data": {
      "text/html": [
       "<div>\n",
       "<table border=\"1\" class=\"dataframe\">\n",
       "  <thead>\n",
       "    <tr style=\"text-align: right;\">\n",
       "      <th></th>\n",
       "      <th>Price_per_sf_per_year</th>\n",
       "      <th>SF_avail</th>\n",
       "    </tr>\n",
       "    <tr>\n",
       "      <th>Zipcode</th>\n",
       "      <th></th>\n",
       "      <th></th>\n",
       "    </tr>\n",
       "  </thead>\n",
       "  <tbody>\n",
       "    <tr>\n",
       "      <th>10001</th>\n",
       "      <td>165.000000</td>\n",
       "      <td>2700.000000</td>\n",
       "    </tr>\n",
       "    <tr>\n",
       "      <th>10002</th>\n",
       "      <td>104.502667</td>\n",
       "      <td>1413.333333</td>\n",
       "    </tr>\n",
       "    <tr>\n",
       "      <th>10003</th>\n",
       "      <td>144.753000</td>\n",
       "      <td>1600.000000</td>\n",
       "    </tr>\n",
       "    <tr>\n",
       "      <th>10004</th>\n",
       "      <td>43.200000</td>\n",
       "      <td>1250.000000</td>\n",
       "    </tr>\n",
       "    <tr>\n",
       "      <th>10005</th>\n",
       "      <td>25.000000</td>\n",
       "      <td>2750.000000</td>\n",
       "    </tr>\n",
       "    <tr>\n",
       "      <th>10007</th>\n",
       "      <td>142.833333</td>\n",
       "      <td>1587.666667</td>\n",
       "    </tr>\n",
       "    <tr>\n",
       "      <th>10009</th>\n",
       "      <td>74.805000</td>\n",
       "      <td>1434.000000</td>\n",
       "    </tr>\n",
       "    <tr>\n",
       "      <th>10011</th>\n",
       "      <td>133.121250</td>\n",
       "      <td>3304.750000</td>\n",
       "    </tr>\n",
       "    <tr>\n",
       "      <th>10012</th>\n",
       "      <td>259.555455</td>\n",
       "      <td>2113.636364</td>\n",
       "    </tr>\n",
       "    <tr>\n",
       "      <th>10013</th>\n",
       "      <td>167.873750</td>\n",
       "      <td>2676.750000</td>\n",
       "    </tr>\n",
       "    <tr>\n",
       "      <th>10014</th>\n",
       "      <td>217.896000</td>\n",
       "      <td>1132.800000</td>\n",
       "    </tr>\n",
       "    <tr>\n",
       "      <th>10016</th>\n",
       "      <td>57.000000</td>\n",
       "      <td>5200.000000</td>\n",
       "    </tr>\n",
       "    <tr>\n",
       "      <th>10017</th>\n",
       "      <td>95.440000</td>\n",
       "      <td>1383.000000</td>\n",
       "    </tr>\n",
       "    <tr>\n",
       "      <th>10018</th>\n",
       "      <td>56.990000</td>\n",
       "      <td>7450.000000</td>\n",
       "    </tr>\n",
       "    <tr>\n",
       "      <th>10019</th>\n",
       "      <td>118.750000</td>\n",
       "      <td>3840.000000</td>\n",
       "    </tr>\n",
       "    <tr>\n",
       "      <th>10021</th>\n",
       "      <td>144.356667</td>\n",
       "      <td>2400.000000</td>\n",
       "    </tr>\n",
       "    <tr>\n",
       "      <th>10022</th>\n",
       "      <td>104.798000</td>\n",
       "      <td>1932.600000</td>\n",
       "    </tr>\n",
       "    <tr>\n",
       "      <th>10023</th>\n",
       "      <td>150.000000</td>\n",
       "      <td>800.000000</td>\n",
       "    </tr>\n",
       "    <tr>\n",
       "      <th>10024</th>\n",
       "      <td>208.842500</td>\n",
       "      <td>1442.750000</td>\n",
       "    </tr>\n",
       "    <tr>\n",
       "      <th>10025</th>\n",
       "      <td>150.205000</td>\n",
       "      <td>1330.000000</td>\n",
       "    </tr>\n",
       "    <tr>\n",
       "      <th>10026</th>\n",
       "      <td>64.890000</td>\n",
       "      <td>1165.000000</td>\n",
       "    </tr>\n",
       "    <tr>\n",
       "      <th>10027</th>\n",
       "      <td>82.996667</td>\n",
       "      <td>2486.666667</td>\n",
       "    </tr>\n",
       "    <tr>\n",
       "      <th>10028</th>\n",
       "      <td>200.820000</td>\n",
       "      <td>1050.000000</td>\n",
       "    </tr>\n",
       "    <tr>\n",
       "      <th>10029</th>\n",
       "      <td>57.577000</td>\n",
       "      <td>13801.300000</td>\n",
       "    </tr>\n",
       "    <tr>\n",
       "      <th>10030</th>\n",
       "      <td>60.000000</td>\n",
       "      <td>1560.000000</td>\n",
       "    </tr>\n",
       "    <tr>\n",
       "      <th>10031</th>\n",
       "      <td>78.500000</td>\n",
       "      <td>850.000000</td>\n",
       "    </tr>\n",
       "    <tr>\n",
       "      <th>10032</th>\n",
       "      <td>65.110000</td>\n",
       "      <td>853.333333</td>\n",
       "    </tr>\n",
       "    <tr>\n",
       "      <th>10033</th>\n",
       "      <td>79.592500</td>\n",
       "      <td>1240.000000</td>\n",
       "    </tr>\n",
       "    <tr>\n",
       "      <th>10035</th>\n",
       "      <td>68.055000</td>\n",
       "      <td>4850.000000</td>\n",
       "    </tr>\n",
       "    <tr>\n",
       "      <th>10036</th>\n",
       "      <td>155.000000</td>\n",
       "      <td>2350.000000</td>\n",
       "    </tr>\n",
       "    <tr>\n",
       "      <th>10037</th>\n",
       "      <td>49.000000</td>\n",
       "      <td>520000.000000</td>\n",
       "    </tr>\n",
       "    <tr>\n",
       "      <th>10038</th>\n",
       "      <td>50.000000</td>\n",
       "      <td>6000.000000</td>\n",
       "    </tr>\n",
       "    <tr>\n",
       "      <th>10040</th>\n",
       "      <td>80.000000</td>\n",
       "      <td>6000.000000</td>\n",
       "    </tr>\n",
       "    <tr>\n",
       "      <th>10065</th>\n",
       "      <td>124.425000</td>\n",
       "      <td>950.000000</td>\n",
       "    </tr>\n",
       "    <tr>\n",
       "      <th>10075</th>\n",
       "      <td>430.110000</td>\n",
       "      <td>279.000000</td>\n",
       "    </tr>\n",
       "    <tr>\n",
       "      <th>10128</th>\n",
       "      <td>73.793333</td>\n",
       "      <td>66166.666667</td>\n",
       "    </tr>\n",
       "  </tbody>\n",
       "</table>\n",
       "</div>"
      ],
      "text/plain": [
       "         Price_per_sf_per_year       SF_avail\n",
       "Zipcode                                      \n",
       "10001               165.000000    2700.000000\n",
       "10002               104.502667    1413.333333\n",
       "10003               144.753000    1600.000000\n",
       "10004                43.200000    1250.000000\n",
       "10005                25.000000    2750.000000\n",
       "10007               142.833333    1587.666667\n",
       "10009                74.805000    1434.000000\n",
       "10011               133.121250    3304.750000\n",
       "10012               259.555455    2113.636364\n",
       "10013               167.873750    2676.750000\n",
       "10014               217.896000    1132.800000\n",
       "10016                57.000000    5200.000000\n",
       "10017                95.440000    1383.000000\n",
       "10018                56.990000    7450.000000\n",
       "10019               118.750000    3840.000000\n",
       "10021               144.356667    2400.000000\n",
       "10022               104.798000    1932.600000\n",
       "10023               150.000000     800.000000\n",
       "10024               208.842500    1442.750000\n",
       "10025               150.205000    1330.000000\n",
       "10026                64.890000    1165.000000\n",
       "10027                82.996667    2486.666667\n",
       "10028               200.820000    1050.000000\n",
       "10029                57.577000   13801.300000\n",
       "10030                60.000000    1560.000000\n",
       "10031                78.500000     850.000000\n",
       "10032                65.110000     853.333333\n",
       "10033                79.592500    1240.000000\n",
       "10035                68.055000    4850.000000\n",
       "10036               155.000000    2350.000000\n",
       "10037                49.000000  520000.000000\n",
       "10038                50.000000    6000.000000\n",
       "10040                80.000000    6000.000000\n",
       "10065               124.425000     950.000000\n",
       "10075               430.110000     279.000000\n",
       "10128                73.793333   66166.666667"
      ]
     },
     "execution_count": 267,
     "metadata": {},
     "output_type": "execute_result"
    }
   ],
   "source": [
    "pd.pivot_table(df_cityfeet, values = ['SF_avail', 'Price_per_sf_per_year'], \\\n",
    "               index = ['Zipcode'])"
   ]
  },
  {
   "cell_type": "markdown",
   "metadata": {},
   "source": [
    "## Resources and references"
   ]
  },
  {
   "cell_type": "markdown",
   "metadata": {},
   "source": [
    "1. Sources for property listings \n",
    "- http://www.loopnet.com/\n",
    "- http://www.cityfeet.com/"
   ]
  },
  {
   "cell_type": "code",
   "execution_count": null,
   "metadata": {
    "collapsed": true
   },
   "outputs": [],
   "source": []
  }
 ],
 "metadata": {
  "kernelspec": {
   "display_name": "Python [Root]",
   "language": "python",
   "name": "Python [Root]"
  },
  "language_info": {
   "codemirror_mode": {
    "name": "ipython",
    "version": 2
   },
   "file_extension": ".py",
   "mimetype": "text/x-python",
   "name": "python",
   "nbconvert_exporter": "python",
   "pygments_lexer": "ipython2",
   "version": "2.7.12"
  },
  "toc": {
   "nav_menu": {
    "height": "84px",
    "width": "252px"
   },
   "navigate_menu": true,
   "number_sections": true,
   "sideBar": true,
   "threshold": 4,
   "toc_cell": false,
   "toc_section_display": "block",
   "toc_window_display": false
  }
 },
 "nbformat": 4,
 "nbformat_minor": 0
}
