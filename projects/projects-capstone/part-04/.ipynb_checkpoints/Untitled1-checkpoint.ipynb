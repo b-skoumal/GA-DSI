{
 "cells": [
  {
   "cell_type": "code",
   "execution_count": 19,
   "metadata": {
    "ExecuteTime": {
     "end_time": "2016-12-12T12:22:36.621477",
     "start_time": "2016-12-12T12:22:36.578993"
    },
    "collapsed": false
   },
   "outputs": [],
   "source": [
    "import numpy as np\n",
    "import pandas as pd\n",
    "from sklearn.ensemble import RandomForestRegressor\n",
    "from sklearn.preprocessing import StandardScaler\n",
    "import pickle\n",
    "\n",
    "import matplotlib.pyplot as plt\n",
    "plt.style.use('fivethirtyeight')\n",
    "%matplotlib inline"
   ]
  },
  {
   "cell_type": "code",
   "execution_count": 7,
   "metadata": {
    "ExecuteTime": {
     "end_time": "2016-12-12T10:05:30.893541",
     "start_time": "2016-12-12T10:05:30.802025"
    },
    "collapsed": true
   },
   "outputs": [],
   "source": [
    "# Reference dataframe with taxi information indexed by zipcodes\n",
    "with open('/Users/peidacai/GA-DSI/projects/projects-capstone/part-05/assets/taxi_ref_df.pkl', 'r') as f:\n",
    "    taxi_ref_df = pickle.load(f)\n",
    "\n",
    "# Reference dataframe with yelp review information indexed by zipcodes\n",
    "with open('/Users/peidacai/GA-DSI/projects/projects-capstone/part-05/assets/full_yelp_ref_df.pkl', 'r') as f:\n",
    "    yelp_ref_df = pickle.load(f)\n",
    "\n",
    "# Prediction RandomForest regressor ML model\n",
    "with open('/Users/peidacai/GA-DSI/projects/projects-capstone/part-05/assets/model.pkl', 'r') as f:\n",
    "    model = pickle.load(f)\n",
    "\n",
    "# StandardScaler fitted to training X data, used to transform continuous data of x\n",
    "with open('/Users/peidacai/GA-DSI/projects/projects-capstone/part-05/assets/x_scaler.pkl', 'r') as f:\n",
    "    ss_x = pickle.load(f)\n",
    "\n",
    "# StandardScaler fitted to training y data, used to inverse transform predict y\n",
    "with open('/Users/peidacai/GA-DSI/projects/projects-capstone/part-05/assets/y_scaler.pkl', 'r') as f:\n",
    "    ss_y = pickle.load(f)\n",
    "\n",
    "# Empty X input dataframe for zipcodes\n",
    "with open('/Users/peidacai/GA-DSI/projects/projects-capstone/part-05/assets/x_zip.pkl', 'r') as f:\n",
    "    x_zip = pickle.load(f)\n",
    "\n",
    "# Function to populate respective cell in zipcode dataframe\n",
    "def set_zip(zipcode, zip_df):\n",
    "    if zipcode == '10001':\n",
    "        return zip_df\n",
    "    else:\n",
    "        try:\n",
    "            for i in zip_df.columns:\n",
    "                new_i = i.replace('Zip__', '')\n",
    "                if new_i == zipcode:\n",
    "                    zip_df.loc[0, i] = 1\n",
    "                    return zip_df\n",
    "                else:\n",
    "                    return zip_df\n",
    "        except:\n",
    "            return zip_df"
   ]
  },
  {
   "cell_type": "code",
   "execution_count": 8,
   "metadata": {
    "ExecuteTime": {
     "end_time": "2016-12-12T10:05:31.395198",
     "start_time": "2016-12-12T10:05:31.390340"
    },
    "collapsed": true
   },
   "outputs": [],
   "source": [
    "zipcode = 10010\n",
    "area = 20000"
   ]
  },
  {
   "cell_type": "code",
   "execution_count": 14,
   "metadata": {
    "ExecuteTime": {
     "end_time": "2016-12-12T12:20:51.379026",
     "start_time": "2016-12-12T12:20:51.249427"
    },
    "collapsed": false
   },
   "outputs": [
    {
     "data": {
      "text/html": [
       "<div>\n",
       "<table border=\"1\" class=\"dataframe\">\n",
       "  <thead>\n",
       "    <tr style=\"text-align: right;\">\n",
       "      <th></th>\n",
       "      <th>day_0</th>\n",
       "      <th>day_1</th>\n",
       "      <th>day_2</th>\n",
       "      <th>day_3</th>\n",
       "      <th>day_4</th>\n",
       "      <th>day_5</th>\n",
       "      <th>day_6</th>\n",
       "      <th>dropoff_hour_0</th>\n",
       "      <th>dropoff_hour_1</th>\n",
       "      <th>dropoff_hour_10</th>\n",
       "      <th>...</th>\n",
       "      <th>dropoff_hour_5</th>\n",
       "      <th>dropoff_hour_6</th>\n",
       "      <th>dropoff_hour_7</th>\n",
       "      <th>dropoff_hour_8</th>\n",
       "      <th>dropoff_hour_9</th>\n",
       "      <th>dropoff_count</th>\n",
       "      <th>dropoff_hr_0600_1200</th>\n",
       "      <th>dropoff_hr_1200_1800</th>\n",
       "      <th>dropoff_hr_1800_2359</th>\n",
       "      <th>dropoff_hr_2359_0600</th>\n",
       "    </tr>\n",
       "  </thead>\n",
       "  <tbody>\n",
       "    <tr>\n",
       "      <th>10302</th>\n",
       "      <td>3.0</td>\n",
       "      <td>5.0</td>\n",
       "      <td>3.0</td>\n",
       "      <td>5.0</td>\n",
       "      <td>3.0</td>\n",
       "      <td>3.0</td>\n",
       "      <td>4.0</td>\n",
       "      <td>1.0</td>\n",
       "      <td>0.0</td>\n",
       "      <td>1.0</td>\n",
       "      <td>...</td>\n",
       "      <td>0.0</td>\n",
       "      <td>0.0</td>\n",
       "      <td>1.0</td>\n",
       "      <td>2.0</td>\n",
       "      <td>0.0</td>\n",
       "      <td>26.0</td>\n",
       "      <td>5.0</td>\n",
       "      <td>8.0</td>\n",
       "      <td>12.0</td>\n",
       "      <td>3.0</td>\n",
       "    </tr>\n",
       "    <tr>\n",
       "      <th>10308</th>\n",
       "      <td>46.0</td>\n",
       "      <td>55.0</td>\n",
       "      <td>54.0</td>\n",
       "      <td>62.0</td>\n",
       "      <td>57.0</td>\n",
       "      <td>62.0</td>\n",
       "      <td>58.0</td>\n",
       "      <td>19.0</td>\n",
       "      <td>13.0</td>\n",
       "      <td>24.0</td>\n",
       "      <td>...</td>\n",
       "      <td>8.0</td>\n",
       "      <td>10.0</td>\n",
       "      <td>12.0</td>\n",
       "      <td>14.0</td>\n",
       "      <td>17.0</td>\n",
       "      <td>394.0</td>\n",
       "      <td>95.0</td>\n",
       "      <td>110.0</td>\n",
       "      <td>133.0</td>\n",
       "      <td>59.0</td>\n",
       "    </tr>\n",
       "    <tr>\n",
       "      <th>10309</th>\n",
       "      <td>3.0</td>\n",
       "      <td>2.0</td>\n",
       "      <td>1.0</td>\n",
       "      <td>2.0</td>\n",
       "      <td>4.0</td>\n",
       "      <td>3.0</td>\n",
       "      <td>2.0</td>\n",
       "      <td>2.0</td>\n",
       "      <td>1.0</td>\n",
       "      <td>1.0</td>\n",
       "      <td>...</td>\n",
       "      <td>0.0</td>\n",
       "      <td>1.0</td>\n",
       "      <td>1.0</td>\n",
       "      <td>1.0</td>\n",
       "      <td>1.0</td>\n",
       "      <td>17.0</td>\n",
       "      <td>6.0</td>\n",
       "      <td>6.0</td>\n",
       "      <td>4.0</td>\n",
       "      <td>4.0</td>\n",
       "    </tr>\n",
       "    <tr>\n",
       "      <th>11040</th>\n",
       "      <td>513.0</td>\n",
       "      <td>527.0</td>\n",
       "      <td>559.0</td>\n",
       "      <td>600.0</td>\n",
       "      <td>570.0</td>\n",
       "      <td>598.0</td>\n",
       "      <td>529.0</td>\n",
       "      <td>183.0</td>\n",
       "      <td>120.0</td>\n",
       "      <td>167.0</td>\n",
       "      <td>...</td>\n",
       "      <td>31.0</td>\n",
       "      <td>81.0</td>\n",
       "      <td>137.0</td>\n",
       "      <td>155.0</td>\n",
       "      <td>178.0</td>\n",
       "      <td>3896.0</td>\n",
       "      <td>902.0</td>\n",
       "      <td>1124.0</td>\n",
       "      <td>1357.0</td>\n",
       "      <td>517.0</td>\n",
       "    </tr>\n",
       "    <tr>\n",
       "      <th>11096</th>\n",
       "      <td>513.0</td>\n",
       "      <td>527.0</td>\n",
       "      <td>559.0</td>\n",
       "      <td>600.0</td>\n",
       "      <td>570.0</td>\n",
       "      <td>598.0</td>\n",
       "      <td>529.0</td>\n",
       "      <td>183.0</td>\n",
       "      <td>120.0</td>\n",
       "      <td>167.0</td>\n",
       "      <td>...</td>\n",
       "      <td>31.0</td>\n",
       "      <td>81.0</td>\n",
       "      <td>137.0</td>\n",
       "      <td>155.0</td>\n",
       "      <td>178.0</td>\n",
       "      <td>3896.0</td>\n",
       "      <td>902.0</td>\n",
       "      <td>1124.0</td>\n",
       "      <td>1357.0</td>\n",
       "      <td>517.0</td>\n",
       "    </tr>\n",
       "  </tbody>\n",
       "</table>\n",
       "<p>5 rows × 36 columns</p>\n",
       "</div>"
      ],
      "text/plain": [
       "       day_0  day_1  day_2  day_3  day_4  day_5  day_6  dropoff_hour_0  \\\n",
       "10302    3.0    5.0    3.0    5.0    3.0    3.0    4.0             1.0   \n",
       "10308   46.0   55.0   54.0   62.0   57.0   62.0   58.0            19.0   \n",
       "10309    3.0    2.0    1.0    2.0    4.0    3.0    2.0             2.0   \n",
       "11040  513.0  527.0  559.0  600.0  570.0  598.0  529.0           183.0   \n",
       "11096  513.0  527.0  559.0  600.0  570.0  598.0  529.0           183.0   \n",
       "\n",
       "       dropoff_hour_1  dropoff_hour_10          ...           dropoff_hour_5  \\\n",
       "10302             0.0              1.0          ...                      0.0   \n",
       "10308            13.0             24.0          ...                      8.0   \n",
       "10309             1.0              1.0          ...                      0.0   \n",
       "11040           120.0            167.0          ...                     31.0   \n",
       "11096           120.0            167.0          ...                     31.0   \n",
       "\n",
       "       dropoff_hour_6  dropoff_hour_7  dropoff_hour_8  dropoff_hour_9  \\\n",
       "10302             0.0             1.0             2.0             0.0   \n",
       "10308            10.0            12.0            14.0            17.0   \n",
       "10309             1.0             1.0             1.0             1.0   \n",
       "11040            81.0           137.0           155.0           178.0   \n",
       "11096            81.0           137.0           155.0           178.0   \n",
       "\n",
       "       dropoff_count  dropoff_hr_0600_1200  dropoff_hr_1200_1800  \\\n",
       "10302           26.0                   5.0                   8.0   \n",
       "10308          394.0                  95.0                 110.0   \n",
       "10309           17.0                   6.0                   6.0   \n",
       "11040         3896.0                 902.0                1124.0   \n",
       "11096         3896.0                 902.0                1124.0   \n",
       "\n",
       "       dropoff_hr_1800_2359  dropoff_hr_2359_0600  \n",
       "10302                  12.0                   3.0  \n",
       "10308                 133.0                  59.0  \n",
       "10309                   4.0                   4.0  \n",
       "11040                1357.0                 517.0  \n",
       "11096                1357.0                 517.0  \n",
       "\n",
       "[5 rows x 36 columns]"
      ]
     },
     "execution_count": 14,
     "metadata": {},
     "output_type": "execute_result"
    }
   ],
   "source": [
    "taxi_ref_df.head()"
   ]
  },
  {
   "cell_type": "code",
   "execution_count": 25,
   "metadata": {
    "ExecuteTime": {
     "end_time": "2016-12-12T12:51:58.693788",
     "start_time": "2016-12-12T12:51:58.620401"
    },
    "collapsed": false
   },
   "outputs": [
    {
     "data": {
      "text/html": [
       "<div>\n",
       "<table border=\"1\" class=\"dataframe\">\n",
       "  <thead>\n",
       "    <tr style=\"text-align: right;\">\n",
       "      <th></th>\n",
       "      <th>Cost_mean</th>\n",
       "      <th>Rate_mean</th>\n",
       "      <th>Rate_std</th>\n",
       "      <th>Review_mean</th>\n",
       "      <th>Review_std</th>\n",
       "      <th>Sentiment_mean</th>\n",
       "      <th>Sentiment_std</th>\n",
       "    </tr>\n",
       "  </thead>\n",
       "  <tbody>\n",
       "    <tr>\n",
       "      <th>10001</th>\n",
       "      <td>1.933333</td>\n",
       "      <td>4.300000</td>\n",
       "      <td>0.419120</td>\n",
       "      <td>177.800000</td>\n",
       "      <td>185.495949</td>\n",
       "      <td>0.232492</td>\n",
       "      <td>0.052806</td>\n",
       "    </tr>\n",
       "    <tr>\n",
       "      <th>10002</th>\n",
       "      <td>1.609524</td>\n",
       "      <td>4.154762</td>\n",
       "      <td>0.345278</td>\n",
       "      <td>372.595238</td>\n",
       "      <td>410.328067</td>\n",
       "      <td>0.216820</td>\n",
       "      <td>0.050205</td>\n",
       "    </tr>\n",
       "    <tr>\n",
       "      <th>10003</th>\n",
       "      <td>1.936364</td>\n",
       "      <td>4.154545</td>\n",
       "      <td>0.336611</td>\n",
       "      <td>423.927273</td>\n",
       "      <td>385.081590</td>\n",
       "      <td>0.220613</td>\n",
       "      <td>0.057615</td>\n",
       "    </tr>\n",
       "    <tr>\n",
       "      <th>10004</th>\n",
       "      <td>1.900000</td>\n",
       "      <td>4.000000</td>\n",
       "      <td>0.235702</td>\n",
       "      <td>399.700000</td>\n",
       "      <td>383.012344</td>\n",
       "      <td>0.236460</td>\n",
       "      <td>0.045858</td>\n",
       "    </tr>\n",
       "    <tr>\n",
       "      <th>10005</th>\n",
       "      <td>1.500000</td>\n",
       "      <td>4.050000</td>\n",
       "      <td>0.550252</td>\n",
       "      <td>290.200000</td>\n",
       "      <td>779.889565</td>\n",
       "      <td>0.235116</td>\n",
       "      <td>0.071144</td>\n",
       "    </tr>\n",
       "  </tbody>\n",
       "</table>\n",
       "</div>"
      ],
      "text/plain": [
       "       Cost_mean  Rate_mean  Rate_std  Review_mean  Review_std  \\\n",
       "10001   1.933333   4.300000  0.419120   177.800000  185.495949   \n",
       "10002   1.609524   4.154762  0.345278   372.595238  410.328067   \n",
       "10003   1.936364   4.154545  0.336611   423.927273  385.081590   \n",
       "10004   1.900000   4.000000  0.235702   399.700000  383.012344   \n",
       "10005   1.500000   4.050000  0.550252   290.200000  779.889565   \n",
       "\n",
       "       Sentiment_mean  Sentiment_std  \n",
       "10001        0.232492       0.052806  \n",
       "10002        0.216820       0.050205  \n",
       "10003        0.220613       0.057615  \n",
       "10004        0.236460       0.045858  \n",
       "10005        0.235116       0.071144  "
      ]
     },
     "execution_count": 25,
     "metadata": {},
     "output_type": "execute_result"
    }
   ],
   "source": [
    "yelp_ref_df.head()"
   ]
  },
  {
   "cell_type": "code",
   "execution_count": 84,
   "metadata": {
    "ExecuteTime": {
     "end_time": "2016-12-12T16:58:56.003118",
     "start_time": "2016-12-12T16:58:55.999214"
    },
    "collapsed": true
   },
   "outputs": [],
   "source": [
    "a = 10023"
   ]
  },
  {
   "cell_type": "code",
   "execution_count": 103,
   "metadata": {
    "ExecuteTime": {
     "end_time": "2016-12-12T22:29:47.494353",
     "start_time": "2016-12-12T22:29:47.486123"
    },
    "collapsed": true
   },
   "outputs": [],
   "source": [
    "a_cost = yelp_ref_df.loc[a, 'Cost_mean']"
   ]
  },
  {
   "cell_type": "code",
   "execution_count": 104,
   "metadata": {
    "ExecuteTime": {
     "end_time": "2016-12-12T22:29:47.893599",
     "start_time": "2016-12-12T22:29:47.885863"
    },
    "collapsed": false
   },
   "outputs": [
    {
     "data": {
      "text/plain": [
       "2.2999999999999998"
      ]
     },
     "execution_count": 104,
     "metadata": {},
     "output_type": "execute_result"
    }
   ],
   "source": [
    "a_cost"
   ]
  },
  {
   "cell_type": "code",
   "execution_count": 304,
   "metadata": {
    "ExecuteTime": {
     "end_time": "2016-12-13T16:36:16.402303",
     "start_time": "2016-12-13T16:36:15.793042"
    },
    "collapsed": false
   },
   "outputs": [
    {
     "data": {
      "image/png": "[encoded data removed]",
      "text/plain": [
       "<matplotlib.figure.Figure at 0x12a0965d0>"
      ]
     },
     "metadata": {},
     "output_type": "display_data"
    }
   ],
   "source": [
    "fig, axis = plt.subplots(1,1, figsize=(10,6))\n",
    "axis.hist(yelp_ref_df['Review_mean'], color = '#c41200')\n",
    "#axis.vlines(a_cost, 0, 45, colors= 'orange')\n",
    "axis.tick_params(axis = 'both', labelsize = 14)\n",
    "axis.set_xlabel('Average number of Yelp reviews for nearby businesses', fontsize = 14)\n",
    "axis.set_title('Distribution of Yelp review count', y = 1.01, fontsize = 18)\n",
    "plt.tight_layout()\n",
    "plt.savefig('yelp_revcount_distribution.png')"
   ]
  },
  {
   "cell_type": "code",
   "execution_count": 301,
   "metadata": {
    "ExecuteTime": {
     "end_time": "2016-12-13T16:33:46.273368",
     "start_time": "2016-12-13T16:33:45.600989"
    },
    "collapsed": false
   },
   "outputs": [
    {
     "data": {
      "image/png": "[encoded data removed]",
      "text/plain": [
       "<matplotlib.figure.Figure at 0x128bbe550>"
      ]
     },
     "metadata": {},
     "output_type": "display_data"
    }
   ],
   "source": [
    "ax = yelp_ref_df['Cost_mean'].hist(bins = 10, figsize = (10,6), color = '#c41200')\n",
    "#ax.vlines(a_cost, 0, 45, colors= 'orange')\n",
    "ax.tick_params(axis = 'both', labelsize = 14)\n",
    "ax.set_xlabel('Average number of \"$\" for nearby businesses', fontsize = 14)\n",
    "ax.set_ylabel('Number of businesses', fontsize =14)\n",
    "ax.set_title('Distribution of Yelp \"$\" ratings', y = 1.01, fontsize = 18)\n",
    "plt.tight_layout()\n",
    "plt.savefig('yelp_star_distribution.png')"
   ]
  },
  {
   "cell_type": "code",
   "execution_count": 116,
   "metadata": {
    "ExecuteTime": {
     "end_time": "2016-12-12T22:36:40.173374",
     "start_time": "2016-12-12T22:36:40.164344"
    },
    "collapsed": true
   },
   "outputs": [],
   "source": [
    "a_rate = yelp_ref_df.loc[a, 'Rate_mean']"
   ]
  },
  {
   "cell_type": "code",
   "execution_count": 300,
   "metadata": {
    "ExecuteTime": {
     "end_time": "2016-12-13T16:32:48.204836",
     "start_time": "2016-12-13T16:32:47.652257"
    },
    "collapsed": false
   },
   "outputs": [
    {
     "data": {
      "image/png": "[encoded data removed]",
      "text/plain": [
       "<matplotlib.figure.Figure at 0x12885ebd0>"
      ]
     },
     "metadata": {},
     "output_type": "display_data"
    }
   ],
   "source": [
    "ax = yelp_ref_df['Rate_mean'].hist(bins = 10, figsize = (10,6), color = '#c41200')\n",
    "#ax.vlines(a_rate, 0, 60, colors= 'orange')\n",
    "ax.tick_params(axis = 'both', labelsize = 14)\n",
    "ax.set_xlabel('Average number of stars for nearby businesses', fontsize = 14)\n",
    "ax.set_ylabel('Number of businesses', fontsize =14)\n",
    "ax.set_title('Distribution of Yelp Star ratings', y = 1.01, fontsize = 18)\n",
    "plt.tight_layout()\n",
    "plt.savefig('yelp_star_distribution.png')"
   ]
  },
  {
   "cell_type": "code",
   "execution_count": 93,
   "metadata": {
    "ExecuteTime": {
     "end_time": "2016-12-12T17:00:25.907986",
     "start_time": "2016-12-12T17:00:25.898433"
    },
    "collapsed": true
   },
   "outputs": [],
   "source": [
    "a_rev = yelp_ref_df.loc[a, 'Review_mean']"
   ]
  },
  {
   "cell_type": "code",
   "execution_count": 101,
   "metadata": {
    "ExecuteTime": {
     "end_time": "2016-12-12T17:04:46.922296",
     "start_time": "2016-12-12T17:04:46.897017"
    },
    "collapsed": false
   },
   "outputs": [
    {
     "data": {
      "text/plain": [
       "125.6"
      ]
     },
     "execution_count": 101,
     "metadata": {},
     "output_type": "execute_result"
    }
   ],
   "source": [
    "yelp_ref_df['Review_mean'].quantile()"
   ]
  },
  {
   "cell_type": "code",
   "execution_count": 99,
   "metadata": {
    "ExecuteTime": {
     "end_time": "2016-12-12T17:02:21.630943",
     "start_time": "2016-12-12T17:02:21.596703"
    },
    "collapsed": false
   },
   "outputs": [
    {
     "data": {
      "text/plain": [
       "0.20172972972972972"
      ]
     },
     "execution_count": 99,
     "metadata": {},
     "output_type": "execute_result"
    }
   ],
   "source": [
    "a_rev / (.max()- yelp_ref_df['Review_mean'].min())"
   ]
  },
  {
   "cell_type": "code",
   "execution_count": 113,
   "metadata": {
    "ExecuteTime": {
     "end_time": "2016-12-12T22:34:48.363171",
     "start_time": "2016-12-12T22:34:47.880802"
    },
    "collapsed": false
   },
   "outputs": [
    {
     "data": {
      "text/plain": [
       "<matplotlib.text.Text at 0x120ba1ed0>"
      ]
     },
     "execution_count": 113,
     "metadata": {},
     "output_type": "execute_result"
    },
    {
     "data": {
      "image/png": "[encoded data removed]",
      "text/plain": [
       "<matplotlib.figure.Figure at 0x11e1151d0>"
      ]
     },
     "metadata": {},
     "output_type": "display_data"
    }
   ],
   "source": [
    "ax = yelp_ref_df['Review_mean'].hist(bins = 10, figsize = (10,6), color = '#c41200')\n",
    "ax.vlines(a_rev, 0, 90, colors= 'orange')\n",
    "ax.tick_params(axis = 'both', labelsize = 14)\n",
    "ax.set_xlabel('Average number of Yelp user reviews for nearby businesses', fontsize =14)\n",
    "ax.set_ylabel('Number of businesses', fontsize =14)"
   ]
  },
  {
   "cell_type": "code",
   "execution_count": null,
   "metadata": {
    "collapsed": true
   },
   "outputs": [],
   "source": [
    "taxi_ref_df.sort_values('dropoff_count')"
   ]
  },
  {
   "cell_type": "code",
   "execution_count": null,
   "metadata": {
    "collapsed": true
   },
   "outputs": [],
   "source": []
  },
  {
   "cell_type": "code",
   "execution_count": 24,
   "metadata": {
    "ExecuteTime": {
     "end_time": "2016-12-12T12:23:26.614936",
     "start_time": "2016-12-12T12:23:23.126462"
    },
    "collapsed": false
   },
   "outputs": [
    {
     "data": {
      "text/plain": [
       "<matplotlib.axes._subplots.AxesSubplot at 0x11bbae6d0>"
      ]
     },
     "execution_count": 24,
     "metadata": {},
     "output_type": "execute_result"
    },
    {
     "data": {
      "image/png": "[encoded data removed]",
      "text/plain": [
       "<matplotlib.figure.Figure at 0x11bafb690>"
      ]
     },
     "metadata": {},
     "output_type": "display_data"
    }
   ],
   "source": [
    "taxi_ref_df['dropoff_hr_0600_1200'].sort_values().plot(kind = 'barh', color = 'red')"
   ]
  },
  {
   "cell_type": "code",
   "execution_count": 9,
   "metadata": {
    "ExecuteTime": {
     "end_time": "2016-12-12T10:05:31.968273",
     "start_time": "2016-12-12T10:05:31.952478"
    },
    "collapsed": true
   },
   "outputs": [],
   "source": [
    "\n",
    "# Get the respective row on taxi df based on zipcode\n",
    "taxi = taxi_ref_df.loc[zipcode, ['dropoff_hr_0600_1200', \n",
    "                            'dropoff_hr_1200_1800', \n",
    "                            'dropoff_hr_1800_2359', \n",
    "                            'dropoff_hr_2359_0600']]\n",
    "\n",
    "# Create floor area into a pandas series\n",
    "floor_area = pd.Series([area], index = ['SF_avail'])\n",
    "\n",
    "# Get the respective row on yelp df based on zipcode\n",
    "yelp = yelp_ref_df.loc[zipcode, :]\n",
    "\n"
   ]
  },
  {
   "cell_type": "code",
   "execution_count": 12,
   "metadata": {
    "ExecuteTime": {
     "end_time": "2016-12-12T10:09:06.960200",
     "start_time": "2016-12-12T10:09:06.851481"
    },
    "collapsed": false
   },
   "outputs": [
    {
     "data": {
      "text/html": [
       "<div>\n",
       "<table border=\"1\" class=\"dataframe\">\n",
       "  <thead>\n",
       "    <tr style=\"text-align: right;\">\n",
       "      <th></th>\n",
       "      <th>day_0</th>\n",
       "      <th>day_1</th>\n",
       "      <th>day_2</th>\n",
       "      <th>day_3</th>\n",
       "      <th>day_4</th>\n",
       "      <th>day_5</th>\n",
       "      <th>day_6</th>\n",
       "      <th>dropoff_hour_0</th>\n",
       "      <th>dropoff_hour_1</th>\n",
       "      <th>dropoff_hour_10</th>\n",
       "      <th>...</th>\n",
       "      <th>dropoff_hour_5</th>\n",
       "      <th>dropoff_hour_6</th>\n",
       "      <th>dropoff_hour_7</th>\n",
       "      <th>dropoff_hour_8</th>\n",
       "      <th>dropoff_hour_9</th>\n",
       "      <th>dropoff_count</th>\n",
       "      <th>dropoff_hr_0600_1200</th>\n",
       "      <th>dropoff_hr_1200_1800</th>\n",
       "      <th>dropoff_hr_1800_2359</th>\n",
       "      <th>dropoff_hr_2359_0600</th>\n",
       "    </tr>\n",
       "  </thead>\n",
       "  <tbody>\n",
       "    <tr>\n",
       "      <th>10302</th>\n",
       "      <td>3.0</td>\n",
       "      <td>5.0</td>\n",
       "      <td>3.0</td>\n",
       "      <td>5.0</td>\n",
       "      <td>3.0</td>\n",
       "      <td>3.0</td>\n",
       "      <td>4.0</td>\n",
       "      <td>1.0</td>\n",
       "      <td>0.0</td>\n",
       "      <td>1.0</td>\n",
       "      <td>...</td>\n",
       "      <td>0.0</td>\n",
       "      <td>0.0</td>\n",
       "      <td>1.0</td>\n",
       "      <td>2.0</td>\n",
       "      <td>0.0</td>\n",
       "      <td>26.0</td>\n",
       "      <td>5.0</td>\n",
       "      <td>8.0</td>\n",
       "      <td>12.0</td>\n",
       "      <td>3.0</td>\n",
       "    </tr>\n",
       "    <tr>\n",
       "      <th>10308</th>\n",
       "      <td>46.0</td>\n",
       "      <td>55.0</td>\n",
       "      <td>54.0</td>\n",
       "      <td>62.0</td>\n",
       "      <td>57.0</td>\n",
       "      <td>62.0</td>\n",
       "      <td>58.0</td>\n",
       "      <td>19.0</td>\n",
       "      <td>13.0</td>\n",
       "      <td>24.0</td>\n",
       "      <td>...</td>\n",
       "      <td>8.0</td>\n",
       "      <td>10.0</td>\n",
       "      <td>12.0</td>\n",
       "      <td>14.0</td>\n",
       "      <td>17.0</td>\n",
       "      <td>394.0</td>\n",
       "      <td>95.0</td>\n",
       "      <td>110.0</td>\n",
       "      <td>133.0</td>\n",
       "      <td>59.0</td>\n",
       "    </tr>\n",
       "    <tr>\n",
       "      <th>10309</th>\n",
       "      <td>3.0</td>\n",
       "      <td>2.0</td>\n",
       "      <td>1.0</td>\n",
       "      <td>2.0</td>\n",
       "      <td>4.0</td>\n",
       "      <td>3.0</td>\n",
       "      <td>2.0</td>\n",
       "      <td>2.0</td>\n",
       "      <td>1.0</td>\n",
       "      <td>1.0</td>\n",
       "      <td>...</td>\n",
       "      <td>0.0</td>\n",
       "      <td>1.0</td>\n",
       "      <td>1.0</td>\n",
       "      <td>1.0</td>\n",
       "      <td>1.0</td>\n",
       "      <td>17.0</td>\n",
       "      <td>6.0</td>\n",
       "      <td>6.0</td>\n",
       "      <td>4.0</td>\n",
       "      <td>4.0</td>\n",
       "    </tr>\n",
       "    <tr>\n",
       "      <th>11040</th>\n",
       "      <td>513.0</td>\n",
       "      <td>527.0</td>\n",
       "      <td>559.0</td>\n",
       "      <td>600.0</td>\n",
       "      <td>570.0</td>\n",
       "      <td>598.0</td>\n",
       "      <td>529.0</td>\n",
       "      <td>183.0</td>\n",
       "      <td>120.0</td>\n",
       "      <td>167.0</td>\n",
       "      <td>...</td>\n",
       "      <td>31.0</td>\n",
       "      <td>81.0</td>\n",
       "      <td>137.0</td>\n",
       "      <td>155.0</td>\n",
       "      <td>178.0</td>\n",
       "      <td>3896.0</td>\n",
       "      <td>902.0</td>\n",
       "      <td>1124.0</td>\n",
       "      <td>1357.0</td>\n",
       "      <td>517.0</td>\n",
       "    </tr>\n",
       "    <tr>\n",
       "      <th>11096</th>\n",
       "      <td>513.0</td>\n",
       "      <td>527.0</td>\n",
       "      <td>559.0</td>\n",
       "      <td>600.0</td>\n",
       "      <td>570.0</td>\n",
       "      <td>598.0</td>\n",
       "      <td>529.0</td>\n",
       "      <td>183.0</td>\n",
       "      <td>120.0</td>\n",
       "      <td>167.0</td>\n",
       "      <td>...</td>\n",
       "      <td>31.0</td>\n",
       "      <td>81.0</td>\n",
       "      <td>137.0</td>\n",
       "      <td>155.0</td>\n",
       "      <td>178.0</td>\n",
       "      <td>3896.0</td>\n",
       "      <td>902.0</td>\n",
       "      <td>1124.0</td>\n",
       "      <td>1357.0</td>\n",
       "      <td>517.0</td>\n",
       "    </tr>\n",
       "  </tbody>\n",
       "</table>\n",
       "<p>5 rows × 36 columns</p>\n",
       "</div>"
      ],
      "text/plain": [
       "       day_0  day_1  day_2  day_3  day_4  day_5  day_6  dropoff_hour_0  \\\n",
       "10302    3.0    5.0    3.0    5.0    3.0    3.0    4.0             1.0   \n",
       "10308   46.0   55.0   54.0   62.0   57.0   62.0   58.0            19.0   \n",
       "10309    3.0    2.0    1.0    2.0    4.0    3.0    2.0             2.0   \n",
       "11040  513.0  527.0  559.0  600.0  570.0  598.0  529.0           183.0   \n",
       "11096  513.0  527.0  559.0  600.0  570.0  598.0  529.0           183.0   \n",
       "\n",
       "       dropoff_hour_1  dropoff_hour_10          ...           dropoff_hour_5  \\\n",
       "10302             0.0              1.0          ...                      0.0   \n",
       "10308            13.0             24.0          ...                      8.0   \n",
       "10309             1.0              1.0          ...                      0.0   \n",
       "11040           120.0            167.0          ...                     31.0   \n",
       "11096           120.0            167.0          ...                     31.0   \n",
       "\n",
       "       dropoff_hour_6  dropoff_hour_7  dropoff_hour_8  dropoff_hour_9  \\\n",
       "10302             0.0             1.0             2.0             0.0   \n",
       "10308            10.0            12.0            14.0            17.0   \n",
       "10309             1.0             1.0             1.0             1.0   \n",
       "11040            81.0           137.0           155.0           178.0   \n",
       "11096            81.0           137.0           155.0           178.0   \n",
       "\n",
       "       dropoff_count  dropoff_hr_0600_1200  dropoff_hr_1200_1800  \\\n",
       "10302           26.0                   5.0                   8.0   \n",
       "10308          394.0                  95.0                 110.0   \n",
       "10309           17.0                   6.0                   6.0   \n",
       "11040         3896.0                 902.0                1124.0   \n",
       "11096         3896.0                 902.0                1124.0   \n",
       "\n",
       "       dropoff_hr_1800_2359  dropoff_hr_2359_0600  \n",
       "10302                  12.0                   3.0  \n",
       "10308                 133.0                  59.0  \n",
       "10309                   4.0                   4.0  \n",
       "11040                1357.0                 517.0  \n",
       "11096                1357.0                 517.0  \n",
       "\n",
       "[5 rows x 36 columns]"
      ]
     },
     "execution_count": 12,
     "metadata": {},
     "output_type": "execute_result"
    }
   ],
   "source": [
    "taxi_ref_df.head()"
   ]
  },
  {
   "cell_type": "code",
   "execution_count": 132,
   "metadata": {
    "ExecuteTime": {
     "end_time": "2016-12-13T09:20:42.187621",
     "start_time": "2016-12-13T09:20:42.169718"
    },
    "collapsed": true
   },
   "outputs": [],
   "source": [
    "sub_df = taxi_ref_df.loc[10004,\n",
    "                ['dropoff_hour_0', 'dropoff_hour_1', 'dropoff_hour_2', \n",
    "                 'dropoff_hour_3', 'dropoff_hour_4', 'dropoff_hour_5', \n",
    "                 'dropoff_hour_6', 'dropoff_hour_7', 'dropoff_hour_8', \n",
    "                 'dropoff_hour_9', 'dropoff_hour_10', 'dropoff_hour_11', \n",
    "                 'dropoff_hour_12', 'dropoff_hour_13', 'dropoff_hour_14', \n",
    "                 'dropoff_hour_15', 'dropoff_hour_16', 'dropoff_hour_17', \n",
    "                 'dropoff_hour_18', 'dropoff_hour_19', 'dropoff_hour_20', \n",
    "                 'dropoff_hour_21', 'dropoff_hour_22', 'dropoff_hour_23', \n",
    "                ]]"
   ]
  },
  {
   "cell_type": "code",
   "execution_count": 225,
   "metadata": {
    "ExecuteTime": {
     "end_time": "2016-12-13T10:04:57.028601",
     "start_time": "2016-12-13T10:04:57.017805"
    },
    "collapsed": false
   },
   "outputs": [],
   "source": [
    "taxi_avg = taxi_ref_df[['dropoff_hour_0', 'dropoff_hour_1', 'dropoff_hour_2', \n",
    "                 'dropoff_hour_3', 'dropoff_hour_4', 'dropoff_hour_5', \n",
    "                 'dropoff_hour_6', 'dropoff_hour_7', 'dropoff_hour_8', \n",
    "                 'dropoff_hour_9', 'dropoff_hour_10', 'dropoff_hour_11', \n",
    "                 'dropoff_hour_12', 'dropoff_hour_13', 'dropoff_hour_14', \n",
    "                 'dropoff_hour_15', 'dropoff_hour_16', 'dropoff_hour_17', \n",
    "                 'dropoff_hour_18', 'dropoff_hour_19', 'dropoff_hour_20', \n",
    "                 'dropoff_hour_21', 'dropoff_hour_22', 'dropoff_hour_23', \n",
    "                ]].mean()"
   ]
  },
  {
   "cell_type": "code",
   "execution_count": 226,
   "metadata": {
    "ExecuteTime": {
     "end_time": "2016-12-13T10:04:57.730981",
     "start_time": "2016-12-13T10:04:57.718212"
    },
    "collapsed": false
   },
   "outputs": [
    {
     "data": {
      "text/plain": [
       "dropoff_hour_0     287.641711\n",
       "dropoff_hour_1     211.620321\n",
       "dropoff_hour_2     152.657754\n",
       "dropoff_hour_3     109.508021\n",
       "dropoff_hour_4      83.978610\n",
       "dropoff_hour_5      70.048128\n",
       "dropoff_hour_6     139.385027\n",
       "dropoff_hour_7     242.470588\n",
       "dropoff_hour_8     307.566845\n",
       "dropoff_hour_9     330.679144\n",
       "dropoff_hour_10    321.368984\n",
       "dropoff_hour_11    327.689840\n",
       "dropoff_hour_12    350.786096\n",
       "dropoff_hour_13    348.743316\n",
       "dropoff_hour_14    357.684492\n",
       "dropoff_hour_15    356.106952\n",
       "dropoff_hour_16    320.048128\n",
       "dropoff_hour_17    346.422460\n",
       "dropoff_hour_18    432.021390\n",
       "dropoff_hour_19    455.000000\n",
       "dropoff_hour_20    421.556150\n",
       "dropoff_hour_21    411.267380\n",
       "dropoff_hour_22    400.053476\n",
       "dropoff_hour_23    359.481283\n",
       "dtype: float64"
      ]
     },
     "execution_count": 226,
     "metadata": {},
     "output_type": "execute_result"
    }
   ],
   "source": [
    "taxi_avg"
   ]
  },
  {
   "cell_type": "code",
   "execution_count": 145,
   "metadata": {
    "ExecuteTime": {
     "end_time": "2016-12-13T09:23:41.523497",
     "start_time": "2016-12-13T09:23:41.511621"
    },
    "collapsed": false
   },
   "outputs": [
    {
     "data": {
      "text/plain": [
       "dropoff_hour_0     368.0\n",
       "dropoff_hour_1     226.0\n",
       "dropoff_hour_2     169.0\n",
       "dropoff_hour_3     139.0\n",
       "dropoff_hour_4     116.0\n",
       "dropoff_hour_5      96.0\n",
       "dropoff_hour_6     189.0\n",
       "dropoff_hour_7     304.0\n",
       "dropoff_hour_8     395.0\n",
       "dropoff_hour_9     423.0\n",
       "dropoff_hour_10    389.0\n",
       "dropoff_hour_11    402.0\n",
       "dropoff_hour_12    421.0\n",
       "dropoff_hour_13    417.0\n",
       "dropoff_hour_14    404.0\n",
       "dropoff_hour_15    436.0\n",
       "dropoff_hour_16    410.0\n",
       "dropoff_hour_17    391.0\n",
       "dropoff_hour_18    496.0\n",
       "dropoff_hour_19    564.0\n",
       "dropoff_hour_20    507.0\n",
       "dropoff_hour_21    489.0\n",
       "dropoff_hour_22    466.0\n",
       "dropoff_hour_23    419.0\n",
       "Name: 10004, dtype: float64"
      ]
     },
     "execution_count": 145,
     "metadata": {},
     "output_type": "execute_result"
    }
   ],
   "source": [
    "sub_df"
   ]
  },
  {
   "cell_type": "code",
   "execution_count": 231,
   "metadata": {
    "ExecuteTime": {
     "end_time": "2016-12-13T10:05:46.070929",
     "start_time": "2016-12-13T10:05:45.270017"
    },
    "collapsed": false
   },
   "outputs": [
    {
     "data": {
      "text/plain": [
       "<matplotlib.text.Text at 0x12c8165d0>"
      ]
     },
     "execution_count": 231,
     "metadata": {},
     "output_type": "execute_result"
    },
    {
     "data": {
      "image/png": "[encoded data removed]",
      "text/plain": [
       "<matplotlib.figure.Figure at 0x12c66dd50>"
      ]
     },
     "metadata": {},
     "output_type": "display_data"
    }
   ],
   "source": [
    "fig, ax = plt.subplots(1,1, figsize=(10,6))\n",
    "hr = np.arange(0, len(sub_df))\n",
    "count = sub_df.values\n",
    "width = 0.6\n",
    "ax.bar(hr, count, width = width, color='#F2E51D', label = 'Current zipcode')\n",
    "ax.set_xticklabels(np.arange(0,24))\n",
    "ax.set_xticks(hr + width-0.3)\n",
    "ax.plot((hr+(width/2.)), taxi_avg.values, 'xr-', linewidth = 2, markersize = 5, label = 'NYC average')\n",
    "ax.legend(loc = 'best')\n",
    "\n",
    "\n",
    "ax.tick_params(axis = 'both', labelsize = 14)\n",
    "ax.set_xlim(0,24)\n",
    "ax.set_xlabel('Hour of day', fontsize = 14)\n",
    "ax.set_ylabel('Passenger dropoff count (100s)', fontsize = 14)"
   ]
  },
  {
   "cell_type": "code",
   "execution_count": 232,
   "metadata": {
    "ExecuteTime": {
     "end_time": "2016-12-13T10:12:25.560862",
     "start_time": "2016-12-13T10:12:25.513387"
    },
    "collapsed": true
   },
   "outputs": [],
   "source": [
    "# Dropoff by day of week\n",
    "\n",
    "dow_df = taxi_ref_df.loc[10004,\n",
    "                ['day_0', 'day_1', 'day_2', \n",
    "                 'day_3', 'day_4', 'day_5', \n",
    "                 'day_6' \n",
    "                ]]"
   ]
  },
  {
   "cell_type": "code",
   "execution_count": 236,
   "metadata": {
    "ExecuteTime": {
     "end_time": "2016-12-13T10:14:42.317226",
     "start_time": "2016-12-13T10:14:42.306665"
    },
    "collapsed": true
   },
   "outputs": [],
   "source": [
    "dow_avg = taxi_ref_df.loc[:,\n",
    "                ['day_0', 'day_1', 'day_2', \n",
    "                 'day_3', 'day_4', 'day_5', \n",
    "                 'day_6' \n",
    "                ]].mean()"
   ]
  },
  {
   "cell_type": "code",
   "execution_count": 237,
   "metadata": {
    "ExecuteTime": {
     "end_time": "2016-12-13T10:14:43.417103",
     "start_time": "2016-12-13T10:14:43.407448"
    },
    "collapsed": false
   },
   "outputs": [
    {
     "data": {
      "text/plain": [
       "day_0     920.957219\n",
       "day_1     996.524064\n",
       "day_2    1048.887701\n",
       "day_3    1071.962567\n",
       "day_4    1070.518717\n",
       "day_5    1076.566845\n",
       "day_6     958.245989\n",
       "dtype: float64"
      ]
     },
     "execution_count": 237,
     "metadata": {},
     "output_type": "execute_result"
    }
   ],
   "source": [
    "dow_avg"
   ]
  },
  {
   "cell_type": "code",
   "execution_count": 257,
   "metadata": {
    "ExecuteTime": {
     "end_time": "2016-12-13T10:25:17.640115",
     "start_time": "2016-12-13T10:25:17.091548"
    },
    "collapsed": false
   },
   "outputs": [
    {
     "data": {
      "text/plain": [
       "<matplotlib.text.Text at 0x130df0b50>"
      ]
     },
     "execution_count": 257,
     "metadata": {},
     "output_type": "execute_result"
    },
    {
     "data": {
      "image/png": "[encoded data removed]",
      "text/plain": [
       "<matplotlib.figure.Figure at 0x130c52c10>"
      ]
     },
     "metadata": {},
     "output_type": "display_data"
    }
   ],
   "source": [
    "fig4, ax4 = plt.subplots(1,1, figsize=(10,6))\n",
    "hr = np.arange(0, len(dow_df))\n",
    "count = dow_df.values\n",
    "width = 0.4\n",
    "ax4.bar(hr, count, width = width, color='#F2E51D', label = 'Current zipcode')\n",
    "ax4.set_xticklabels(['Sun', 'Mon', 'Tue', 'Wed', 'Thur', 'Fri', 'Sat'])\n",
    "ax4.set_xticks(hr + width-0.2)\n",
    "ax4.plot((hr+(width/2.)), dow_avg.values, 'xr-', linewidth = 2, markersize = 5, label = 'NYC average')\n",
    "ax4.legend(loc = 'best', fontsize = 10)\n",
    "\n",
    "ax4.tick_params(axis = 'both', labelsize = 14)\n",
    "ax4.set_xlim(-.5,7)\n",
    "ax4.set_ylabel('Passenger dropoff count (100s)', fontsize = 14)"
   ]
  },
  {
   "cell_type": "code",
   "execution_count": 36,
   "metadata": {
    "ExecuteTime": {
     "end_time": "2016-12-12T13:02:24.997724",
     "start_time": "2016-12-12T13:02:24.060253"
    },
    "collapsed": false
   },
   "outputs": [
    {
     "data": {
      "text/plain": [
       "<matplotlib.axes._subplots.AxesSubplot at 0x11d62afd0>"
      ]
     },
     "execution_count": 36,
     "metadata": {},
     "output_type": "execute_result"
    },
    {
     "data": {
      "image/png": "[encoded data removed]",
      "text/plain": [
       "<matplotlib.figure.Figure at 0x11d62a950>"
      ]
     },
     "metadata": {},
     "output_type": "display_data"
    }
   ],
   "source": [
    "taxi_ref_df.iloc[0, 7:31].plot(kind = 'bar')"
   ]
  },
  {
   "cell_type": "code",
   "execution_count": 10,
   "metadata": {
    "ExecuteTime": {
     "end_time": "2016-12-12T10:05:32.665937",
     "start_time": "2016-12-12T10:05:32.631854"
    },
    "collapsed": false
   },
   "outputs": [
    {
     "name": "stdout",
     "output_type": "stream",
     "text": [
      "78.82\n"
     ]
    }
   ],
   "source": [
    "comb = pd.DataFrame(pd.concat([floor_area, yelp, taxi], axis = 0))\n",
    "comb = comb.T\n",
    "\n",
    "scale_comb = pd.DataFrame(ss_x.transform(comb), columns = comb.columns)\n",
    "inp_x = pd.concat([scale_comb, set_zip(str(zipcode), x_zip)], axis = 1)\n",
    "\n",
    "y_pred = round(ss_y.inverse_transform(model.predict(inp_x))[0],2)\n",
    "print y_pred"
   ]
  },
  {
   "cell_type": "code",
   "execution_count": 291,
   "metadata": {
    "ExecuteTime": {
     "end_time": "2016-12-13T15:30:29.541280",
     "start_time": "2016-12-13T15:30:29.536262"
    },
    "collapsed": false
   },
   "outputs": [
    {
     "name": "stdout",
     "output_type": "stream",
     "text": [
      "100000.0\n"
     ]
    }
   ],
   "source": [
    "print 1e5"
   ]
  },
  {
   "cell_type": "code",
   "execution_count": 297,
   "metadata": {
    "ExecuteTime": {
     "end_time": "2016-12-13T15:34:00.093227",
     "start_time": "2016-12-13T15:33:58.732440"
    },
    "collapsed": false
   },
   "outputs": [
    {
     "name": "stdout",
     "output_type": "stream",
     "text": [
      "5\n",
      "[0]\n",
      "[0, 10]\n",
      "[0, 100, 20]\n",
      "[0, 1000, 200, 30]\n",
      "[0, 10000, 2000, 300, 40]\n"
     ]
    }
   ],
   "source": [
    "for i in range(1,int(raw_input())+1): #More than 2 lines will result in 0 score. Do not leave a blank line also\n",
    "    print [j *(10**(i-j)) for j in range(i)]\n"
   ]
  },
  {
   "cell_type": "code",
   "execution_count": 276,
   "metadata": {
    "ExecuteTime": {
     "end_time": "2016-12-13T15:12:40.175929",
     "start_time": "2016-12-13T15:12:32.410294"
    },
    "collapsed": false
   },
   "outputs": [
    {
     "name": "stdout",
     "output_type": "stream",
     "text": [
      "5\n",
      "5 3 6 7 2\n"
     ]
    }
   ],
   "source": [
    "if __name__ == '__main__':\n",
    "    n = int(raw_input())\n",
    "    arr = map(int, raw_input().split())\n"
   ]
  },
  {
   "cell_type": "code",
   "execution_count": 277,
   "metadata": {
    "ExecuteTime": {
     "end_time": "2016-12-13T15:12:41.718741",
     "start_time": "2016-12-13T15:12:41.710160"
    },
    "collapsed": false
   },
   "outputs": [
    {
     "data": {
      "text/plain": [
       "[5, 3, 6, 7, 2]"
      ]
     },
     "execution_count": 277,
     "metadata": {},
     "output_type": "execute_result"
    }
   ],
   "source": [
    "arr"
   ]
  },
  {
   "cell_type": "code",
   "execution_count": 282,
   "metadata": {
    "ExecuteTime": {
     "end_time": "2016-12-13T15:13:12.121204",
     "start_time": "2016-12-13T15:13:12.113702"
    },
    "collapsed": false
   },
   "outputs": [
    {
     "data": {
      "text/plain": [
       "[7, 6, 5, 3, 2]"
      ]
     },
     "execution_count": 282,
     "metadata": {},
     "output_type": "execute_result"
    }
   ],
   "source": [
    "arr = sorted(arr)\n",
    "arr[::-1]"
   ]
  },
  {
   "cell_type": "code",
   "execution_count": null,
   "metadata": {
    "collapsed": true
   },
   "outputs": [],
   "source": []
  },
  {
   "cell_type": "code",
   "execution_count": null,
   "metadata": {
    "collapsed": true
   },
   "outputs": [],
   "source": []
  }
 ],
 "metadata": {
  "anaconda-cloud": {},
  "kernelspec": {
   "display_name": "Python [Root]",
   "language": "python",
   "name": "Python [Root]"
  },
  "language_info": {
   "codemirror_mode": {
    "name": "ipython",
    "version": 2
   },
   "file_extension": ".py",
   "mimetype": "text/x-python",
   "name": "python",
   "nbconvert_exporter": "python",
   "pygments_lexer": "ipython2",
   "version": "2.7.12"
  },
  "toc": {
   "nav_menu": {
    "height": "102px",
    "width": "252px"
   },
   "navigate_menu": true,
   "number_sections": true,
   "sideBar": true,
   "threshold": 4,
   "toc_cell": false,
   "toc_section_display": "block",
   "toc_window_display": false
  }
 },
 "nbformat": 4,
 "nbformat_minor": 0
}
