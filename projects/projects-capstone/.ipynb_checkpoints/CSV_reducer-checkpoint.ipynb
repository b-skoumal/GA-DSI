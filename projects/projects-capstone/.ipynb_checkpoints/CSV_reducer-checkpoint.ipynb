{
 "cells": [
  {
   "cell_type": "code",
   "execution_count": null,
   "metadata": {
    "collapsed": true
   },
   "outputs": [],
   "source": [
    "factor = 100\n",
    "outlist = []\n",
    "\n",
    "filename = 'yellow_tripdata_2015-10.csv'\n",
    "\n",
    "in_file = '/Users/peidacai/Downloads/'+filename\n",
    "\n",
    "with open(in_file, 'r') as f:\n",
    "    count = 0\n",
    "    for line in f:\n",
    "        \n",
    "        if count % factor == 0:\n",
    "            count += 1\n",
    "            outlist.append(line)\n",
    "        else:\n",
    "            count += 1\n",
    "            pass\n",
    "f.close()\n",
    "\n",
    "out_file = 'mini-'+filename\n",
    "write_file = '/Users/peidacai/Desktop/NYC Taxi mini data/' + out_file\n",
    "\n",
    "with open(write_file, 'w') as f:\n",
    "    \n",
    "    f.writelines(outlist)\n",
    "f.close()"
   ]
  }
 ],
 "metadata": {
  "anaconda-cloud": {},
  "kernelspec": {
   "display_name": "Python [Root]",
   "language": "python",
   "name": "Python [Root]"
  },
  "language_info": {
   "codemirror_mode": {
    "name": "ipython",
    "version": 2
   },
   "file_extension": ".py",
   "mimetype": "text/x-python",
   "name": "python",
   "nbconvert_exporter": "python",
   "pygments_lexer": "ipython2",
   "version": "2.7.12"
  },
  "toc": {
   "nav_menu": {
    "height": "12px",
    "width": "252px"
   },
   "navigate_menu": true,
   "number_sections": true,
   "sideBar": true,
   "threshold": 4,
   "toc_cell": false,
   "toc_section_display": "block",
   "toc_window_display": false
  }
 },
 "nbformat": 4,
 "nbformat_minor": 0
}
