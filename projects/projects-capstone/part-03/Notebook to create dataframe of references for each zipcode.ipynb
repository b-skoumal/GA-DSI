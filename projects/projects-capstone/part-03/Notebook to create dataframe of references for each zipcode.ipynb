{
 "cells": [
  {
   "cell_type": "markdown",
   "metadata": {},
   "source": [
    "# Creating a reference dataframe for Yelp data"
   ]
  },
  {
   "cell_type": "markdown",
   "metadata": {},
   "source": [
    "Since we did not have available rental units for every single zipcode in NYC, there were some zipcodes which we do not have Yelp data on.\n",
    "\n",
    "The strategy for these zipcodes was to estimate values for these Yelp metrics:\n",
    "\n",
    "- Yelp \"$\" ratings\n",
    "- Yelp user ratings\n",
    "- Yelp number of reviews\n",
    "- Sentiments (based on sentiment analysis of review text)"
   ]
  },
  {
   "cell_type": "code",
   "execution_count": 1,
   "metadata": {
    "ExecuteTime": {
     "end_time": "2016-12-09T18:59:37.856584",
     "start_time": "2016-12-09T18:59:36.381012"
    },
    "collapsed": true
   },
   "outputs": [],
   "source": [
    "import pandas as pd\n",
    "import numpy as np\n",
    "import pickle"
   ]
  },
  {
   "cell_type": "code",
   "execution_count": 2,
   "metadata": {
    "ExecuteTime": {
     "end_time": "2016-12-09T18:59:38.540006",
     "start_time": "2016-12-09T18:59:38.476119"
    },
    "collapsed": true
   },
   "outputs": [],
   "source": [
    "with open('/Users/peidacai/Desktop/rent_yelp_taxi_df.pkl', 'r') as f:\n",
    "    rent_yelp_taxi = pickle.load(f)"
   ]
  },
  {
   "cell_type": "code",
   "execution_count": 3,
   "metadata": {
    "ExecuteTime": {
     "end_time": "2016-12-09T18:59:39.310093",
     "start_time": "2016-12-09T18:59:39.212777"
    },
    "collapsed": false
   },
   "outputs": [
    {
     "data": {
      "text/html": [
       "<div>\n",
       "<table border=\"1\" class=\"dataframe\">\n",
       "  <thead>\n",
       "    <tr style=\"text-align: right;\">\n",
       "      <th></th>\n",
       "      <th>Full_Street_address</th>\n",
       "      <th>SF_avail</th>\n",
       "      <th>Price_per_sf_per_year</th>\n",
       "      <th>Prop_desc</th>\n",
       "      <th>Latitude</th>\n",
       "      <th>Longitude</th>\n",
       "      <th>City</th>\n",
       "      <th>Zipcode</th>\n",
       "      <th>Position</th>\n",
       "      <th>block_id</th>\n",
       "      <th>...</th>\n",
       "      <th>Review_min</th>\n",
       "      <th>Sentiment_mean</th>\n",
       "      <th>Sentiment_std</th>\n",
       "      <th>Sentiment_max</th>\n",
       "      <th>Sentiment_min</th>\n",
       "      <th>dropoff_count</th>\n",
       "      <th>dropoff_hr_0600_1200</th>\n",
       "      <th>dropoff_hr_1200_1800</th>\n",
       "      <th>dropoff_hr_1800_2359</th>\n",
       "      <th>dropoff_hr_2359_0600</th>\n",
       "    </tr>\n",
       "  </thead>\n",
       "  <tbody>\n",
       "    <tr>\n",
       "      <th>0</th>\n",
       "      <td>327 W 57th St, New York, NY 10019</td>\n",
       "      <td>3840</td>\n",
       "      <td>118.75</td>\n",
       "      <td>(\"Amazing Location! Perfect for Restaurant or ...</td>\n",
       "      <td>40.767498</td>\n",
       "      <td>-73.984111</td>\n",
       "      <td>New York</td>\n",
       "      <td>10019</td>\n",
       "      <td>[-73.9841113, 40.7674983]</td>\n",
       "      <td>15000US360610139007</td>\n",
       "      <td>...</td>\n",
       "      <td>41</td>\n",
       "      <td>0.211583</td>\n",
       "      <td>0.06027</td>\n",
       "      <td>0.317372</td>\n",
       "      <td>0.100961</td>\n",
       "      <td>1681</td>\n",
       "      <td>369.0</td>\n",
       "      <td>549.0</td>\n",
       "      <td>564.0</td>\n",
       "      <td>199.0</td>\n",
       "    </tr>\n",
       "  </tbody>\n",
       "</table>\n",
       "<p>1 rows × 31 columns</p>\n",
       "</div>"
      ],
      "text/plain": [
       "                 Full_Street_address  SF_avail  Price_per_sf_per_year  \\\n",
       "0  327 W 57th St, New York, NY 10019      3840                 118.75   \n",
       "\n",
       "                                           Prop_desc   Latitude  Longitude  \\\n",
       "0  (\"Amazing Location! Perfect for Restaurant or ...  40.767498 -73.984111   \n",
       "\n",
       "       City  Zipcode                   Position             block_id  \\\n",
       "0  New York    10019  [-73.9841113, 40.7674983]  15000US360610139007   \n",
       "\n",
       "           ...           Review_min  Sentiment_mean  Sentiment_std  \\\n",
       "0          ...                   41        0.211583        0.06027   \n",
       "\n",
       "   Sentiment_max  Sentiment_min  dropoff_count  dropoff_hr_0600_1200  \\\n",
       "0       0.317372       0.100961           1681                 369.0   \n",
       "\n",
       "   dropoff_hr_1200_1800  dropoff_hr_1800_2359  dropoff_hr_2359_0600  \n",
       "0                 549.0                 564.0                 199.0  \n",
       "\n",
       "[1 rows x 31 columns]"
      ]
     },
     "execution_count": 3,
     "metadata": {},
     "output_type": "execute_result"
    }
   ],
   "source": [
    "rent_yelp_taxi.head(1)"
   ]
  },
  {
   "cell_type": "code",
   "execution_count": 4,
   "metadata": {
    "ExecuteTime": {
     "end_time": "2016-12-09T18:59:40.221899",
     "start_time": "2016-12-09T18:59:40.190229"
    },
    "collapsed": false
   },
   "outputs": [
    {
     "data": {
      "text/html": [
       "<div>\n",
       "<table border=\"1\" class=\"dataframe\">\n",
       "  <thead>\n",
       "    <tr style=\"text-align: right;\">\n",
       "      <th></th>\n",
       "      <th>0</th>\n",
       "      <th>1</th>\n",
       "    </tr>\n",
       "  </thead>\n",
       "  <tbody>\n",
       "    <tr>\n",
       "      <th>0</th>\n",
       "      <td>0</td>\n",
       "      <td>10001</td>\n",
       "    </tr>\n",
       "    <tr>\n",
       "      <th>1</th>\n",
       "      <td>1</td>\n",
       "      <td>10002</td>\n",
       "    </tr>\n",
       "    <tr>\n",
       "      <th>2</th>\n",
       "      <td>2</td>\n",
       "      <td>10003</td>\n",
       "    </tr>\n",
       "    <tr>\n",
       "      <th>3</th>\n",
       "      <td>3</td>\n",
       "      <td>10004</td>\n",
       "    </tr>\n",
       "    <tr>\n",
       "      <th>4</th>\n",
       "      <td>4</td>\n",
       "      <td>10005</td>\n",
       "    </tr>\n",
       "  </tbody>\n",
       "</table>\n",
       "</div>"
      ],
      "text/plain": [
       "   0      1\n",
       "0  0  10001\n",
       "1  1  10002\n",
       "2  2  10003\n",
       "3  3  10004\n",
       "4  4  10005"
      ]
     },
     "execution_count": 4,
     "metadata": {},
     "output_type": "execute_result"
    }
   ],
   "source": [
    "# Load in a NYC Zipcode list\n",
    "\n",
    "nyc_zip = pd.read_csv('../part-02/assets/data/NYC_zipcodes/nyc_zip.txt', header=None)\n",
    "nyc_zip.head()"
   ]
  },
  {
   "cell_type": "code",
   "execution_count": 5,
   "metadata": {
    "ExecuteTime": {
     "end_time": "2016-12-09T18:59:41.229510",
     "start_time": "2016-12-09T18:59:41.212161"
    },
    "collapsed": true
   },
   "outputs": [],
   "source": [
    "# Pivoting to get only input features for the model (Yelp only)\n",
    "\n",
    "mean_df = pd.pivot_table(rent_yelp_taxi, \n",
    "                         values = ['Cost_mean', 'Cost_std',\n",
    "                                   'Rate_mean', 'Rate_std',\n",
    "                                   'Review_mean', 'Review_std',\n",
    "                                   'Sentiment_mean'\n",
    "                                  ], \n",
    "                         index = ['Zipcode'])"
   ]
  },
  {
   "cell_type": "code",
   "execution_count": 6,
   "metadata": {
    "ExecuteTime": {
     "end_time": "2016-12-09T18:59:42.398605",
     "start_time": "2016-12-09T18:59:42.389761"
    },
    "collapsed": true
   },
   "outputs": [],
   "source": [
    "# Create a list of zipcodes which we do not have rental locations for\n",
    "# Without rental locations, there was no data on Yelp for these zipcodes\n",
    "\n",
    "nan_zip = []\n",
    "\n",
    "for i in nyc_zip[1]:\n",
    "    if i not in mean_df.index:\n",
    "        nan_zip.append(i)"
   ]
  },
  {
   "cell_type": "markdown",
   "metadata": {},
   "source": [
    "## Method 1: Create normally distributed random yelp values for missing zipcodes"
   ]
  },
  {
   "cell_type": "code",
   "execution_count": 7,
   "metadata": {
    "ExecuteTime": {
     "end_time": "2016-12-09T18:59:43.331829",
     "start_time": "2016-12-09T18:59:43.307257"
    },
    "collapsed": false
   },
   "outputs": [],
   "source": [
    "# Create an empty dictionary to with columns in mean_df as keys\n",
    "estimation = {}\n",
    "\n",
    "# Iterating through the mean_df to get mean and stdev of each column\n",
    "for i in mean_df.columns:\n",
    "    \n",
    "    m = mean_df[i].mean()\n",
    "    s = mean_df[i].std()\n",
    "    \n",
    "    est_list = []\n",
    "\n",
    "    for j in range(len(nan_zip)):\n",
    "        \n",
    "        # Process of estimation\n",
    "        # Mean + [random(normally distributed) * stddev]\n",
    "        est_list.append(m + (np.random.normal(0) * s))\n",
    "    \n",
    "    # Assigning the list as values to the corresponding key\n",
    "    estimation[i] = est_list"
   ]
  },
  {
   "cell_type": "code",
   "execution_count": 8,
   "metadata": {
    "ExecuteTime": {
     "end_time": "2016-12-09T18:59:44.270652",
     "start_time": "2016-12-09T18:59:44.229648"
    },
    "collapsed": false
   },
   "outputs": [
    {
     "data": {
      "text/html": [
       "<div>\n",
       "<table border=\"1\" class=\"dataframe\">\n",
       "  <thead>\n",
       "    <tr style=\"text-align: right;\">\n",
       "      <th></th>\n",
       "      <th>Cost_mean</th>\n",
       "      <th>Cost_std</th>\n",
       "      <th>Rate_mean</th>\n",
       "      <th>Rate_std</th>\n",
       "      <th>Review_mean</th>\n",
       "      <th>Review_std</th>\n",
       "      <th>Sentiment_mean</th>\n",
       "    </tr>\n",
       "  </thead>\n",
       "  <tbody>\n",
       "    <tr>\n",
       "      <th>10006</th>\n",
       "      <td>1.809425</td>\n",
       "      <td>0.417065</td>\n",
       "      <td>3.982864</td>\n",
       "      <td>0.485156</td>\n",
       "      <td>127.272038</td>\n",
       "      <td>340.021578</td>\n",
       "      <td>0.235054</td>\n",
       "    </tr>\n",
       "    <tr>\n",
       "      <th>10020</th>\n",
       "      <td>1.796132</td>\n",
       "      <td>0.512982</td>\n",
       "      <td>3.753600</td>\n",
       "      <td>0.570361</td>\n",
       "      <td>231.863269</td>\n",
       "      <td>600.941204</td>\n",
       "      <td>0.260160</td>\n",
       "    </tr>\n",
       "    <tr>\n",
       "      <th>10034</th>\n",
       "      <td>1.731781</td>\n",
       "      <td>0.540382</td>\n",
       "      <td>4.032106</td>\n",
       "      <td>0.767694</td>\n",
       "      <td>181.627494</td>\n",
       "      <td>68.366410</td>\n",
       "      <td>0.230491</td>\n",
       "    </tr>\n",
       "    <tr>\n",
       "      <th>10037</th>\n",
       "      <td>1.617226</td>\n",
       "      <td>0.495061</td>\n",
       "      <td>3.877907</td>\n",
       "      <td>0.802988</td>\n",
       "      <td>-12.628595</td>\n",
       "      <td>115.718393</td>\n",
       "      <td>0.190613</td>\n",
       "    </tr>\n",
       "    <tr>\n",
       "      <th>10044</th>\n",
       "      <td>1.722757</td>\n",
       "      <td>0.797353</td>\n",
       "      <td>4.328224</td>\n",
       "      <td>0.341574</td>\n",
       "      <td>102.443671</td>\n",
       "      <td>119.219510</td>\n",
       "      <td>0.222827</td>\n",
       "    </tr>\n",
       "  </tbody>\n",
       "</table>\n",
       "</div>"
      ],
      "text/plain": [
       "       Cost_mean  Cost_std  Rate_mean  Rate_std  Review_mean  Review_std  \\\n",
       "10006   1.809425  0.417065   3.982864  0.485156   127.272038  340.021578   \n",
       "10020   1.796132  0.512982   3.753600  0.570361   231.863269  600.941204   \n",
       "10034   1.731781  0.540382   4.032106  0.767694   181.627494   68.366410   \n",
       "10037   1.617226  0.495061   3.877907  0.802988   -12.628595  115.718393   \n",
       "10044   1.722757  0.797353   4.328224  0.341574   102.443671  119.219510   \n",
       "\n",
       "       Sentiment_mean  \n",
       "10006        0.235054  \n",
       "10020        0.260160  \n",
       "10034        0.230491  \n",
       "10037        0.190613  \n",
       "10044        0.222827  "
      ]
     },
     "execution_count": 8,
     "metadata": {},
     "output_type": "execute_result"
    }
   ],
   "source": [
    "# Converting to dataframe\n",
    "est = pd.DataFrame(estimation, index = nan_zip)\n",
    "est.head()"
   ]
  },
  {
   "cell_type": "code",
   "execution_count": 9,
   "metadata": {
    "ExecuteTime": {
     "end_time": "2016-12-09T18:59:47.204740",
     "start_time": "2016-12-09T18:59:47.194855"
    },
    "collapsed": false
   },
   "outputs": [
    {
     "data": {
      "text/plain": [
       "(187, 7)"
      ]
     },
     "execution_count": 9,
     "metadata": {},
     "output_type": "execute_result"
    }
   ],
   "source": [
    "# Creating final copy of full yelp metrics for all zipcodes\n",
    "\n",
    "full_yelp = pd.concat([mean_df, est], axis = 0)\n",
    "full_yelp.shape"
   ]
  },
  {
   "cell_type": "code",
   "execution_count": 10,
   "metadata": {
    "ExecuteTime": {
     "end_time": "2016-12-09T18:59:49.080638",
     "start_time": "2016-12-09T18:59:49.067633"
    },
    "collapsed": false
   },
   "outputs": [
    {
     "data": {
      "text/plain": [
       "Cost_mean           1.809425\n",
       "Cost_std            0.417065\n",
       "Rate_mean           3.982864\n",
       "Rate_std            0.485156\n",
       "Review_mean       127.272038\n",
       "Review_std        340.021578\n",
       "Sentiment_mean      0.235054\n",
       "Name: 10006, dtype: float64"
      ]
     },
     "execution_count": 10,
     "metadata": {},
     "output_type": "execute_result"
    }
   ],
   "source": [
    "# Confiming concatenation was done correctly\n",
    "# Checking an estimated row of concatenated with prior to concatenation\n",
    "full_yelp.loc[10006, :]"
   ]
  },
  {
   "cell_type": "markdown",
   "metadata": {},
   "source": [
    "## Method 2: Create Yelp values using 4 (numerically) nearest zipcodes"
   ]
  },
  {
   "cell_type": "code",
   "execution_count": 46,
   "metadata": {
    "ExecuteTime": {
     "end_time": "2016-12-09T21:34:43.118822",
     "start_time": "2016-12-09T21:34:43.055801"
    },
    "collapsed": false
   },
   "outputs": [],
   "source": [
    "estimation = {}\n",
    "\n",
    "# defining the upper bound\n",
    "max_zip = max(mean_df.index)\n",
    "\n",
    "for i in nan_zip:\n",
    "    \n",
    "    ref_list = []\n",
    "    # Number of neighboring zipcodes to consider\n",
    "    total = 4\n",
    "\n",
    "    count_up = 0\n",
    "    new_zip = i\n",
    "    \n",
    "    # Getting 2 from higher zipcodes\n",
    "    \n",
    "    while (count_up < (total/2)) and new_zip <= max_zip:\n",
    "\n",
    "        new_zip += 1\n",
    "        if new_zip in mean_df.index:\n",
    "            ref_list.append(new_zip)\n",
    "            count_up += 1\n",
    "            new_zip += 1\n",
    "\n",
    "        else:\n",
    "            new_zip += 1\n",
    "\n",
    "    count_down = 0\n",
    "    new_zip = i\n",
    "    \n",
    "    # 2 from lower zipcodes\n",
    "    while count_down < (total - count_up) and new_zip > 10001:\n",
    "        new_zip -= 1\n",
    "        if new_zip in mean_df.index:\n",
    "            ref_list.append(new_zip)\n",
    "            count_up += 1\n",
    "            new_zip -= 1\n",
    "\n",
    "        else:\n",
    "            new_zip -= 1\n",
    "    \n",
    "    estimation[i] = ref_list"
   ]
  },
  {
   "cell_type": "code",
   "execution_count": 58,
   "metadata": {
    "ExecuteTime": {
     "end_time": "2016-12-09T21:45:09.599389",
     "start_time": "2016-12-09T21:45:09.257171"
    },
    "collapsed": true
   },
   "outputs": [],
   "source": [
    "# Create an empty dictionary\n",
    "vals = {}\n",
    "\n",
    "for i in estimation:\n",
    "    \n",
    "    est_list = []\n",
    "    \n",
    "    for j in mean_df.columns:\n",
    "    \n",
    "        est_list.append(mean_df[mean_df.index.isin(estimation[i])][j].mean())\n",
    "\n",
    "    # Assigning the list as values to the corresponding key\n",
    "    vals[i] = est_list"
   ]
  },
  {
   "cell_type": "code",
   "execution_count": 62,
   "metadata": {
    "ExecuteTime": {
     "end_time": "2016-12-09T21:46:16.050775",
     "start_time": "2016-12-09T21:46:15.999915"
    },
    "collapsed": false
   },
   "outputs": [
    {
     "data": {
      "text/html": [
       "<div>\n",
       "<table border=\"1\" class=\"dataframe\">\n",
       "  <thead>\n",
       "    <tr style=\"text-align: right;\">\n",
       "      <th></th>\n",
       "      <th>Cost_mean</th>\n",
       "      <th>Cost_std</th>\n",
       "      <th>Rate_mean</th>\n",
       "      <th>Rate_std</th>\n",
       "      <th>Review_mean</th>\n",
       "      <th>Review_std</th>\n",
       "      <th>Sentiment_mean</th>\n",
       "    </tr>\n",
       "  </thead>\n",
       "  <tbody>\n",
       "    <tr>\n",
       "      <th>10006</th>\n",
       "      <td>1.769508</td>\n",
       "      <td>0.573354</td>\n",
       "      <td>4.091761</td>\n",
       "      <td>0.398775</td>\n",
       "      <td>279.256818</td>\n",
       "      <td>392.982450</td>\n",
       "      <td>0.225003</td>\n",
       "    </tr>\n",
       "    <tr>\n",
       "      <th>10020</th>\n",
       "      <td>1.958333</td>\n",
       "      <td>0.550737</td>\n",
       "      <td>4.072917</td>\n",
       "      <td>0.560024</td>\n",
       "      <td>247.775000</td>\n",
       "      <td>281.387446</td>\n",
       "      <td>0.234275</td>\n",
       "    </tr>\n",
       "    <tr>\n",
       "      <th>10034</th>\n",
       "      <td>1.762500</td>\n",
       "      <td>0.478383</td>\n",
       "      <td>4.183333</td>\n",
       "      <td>0.463025</td>\n",
       "      <td>105.929167</td>\n",
       "      <td>89.231401</td>\n",
       "      <td>0.239799</td>\n",
       "    </tr>\n",
       "    <tr>\n",
       "      <th>10037</th>\n",
       "      <td>1.831250</td>\n",
       "      <td>0.609297</td>\n",
       "      <td>4.084375</td>\n",
       "      <td>0.656403</td>\n",
       "      <td>166.881250</td>\n",
       "      <td>206.088464</td>\n",
       "      <td>0.228812</td>\n",
       "    </tr>\n",
       "    <tr>\n",
       "      <th>10044</th>\n",
       "      <td>1.783333</td>\n",
       "      <td>0.496933</td>\n",
       "      <td>4.170833</td>\n",
       "      <td>0.411108</td>\n",
       "      <td>220.466667</td>\n",
       "      <td>197.619452</td>\n",
       "      <td>0.239143</td>\n",
       "    </tr>\n",
       "  </tbody>\n",
       "</table>\n",
       "</div>"
      ],
      "text/plain": [
       "       Cost_mean  Cost_std  Rate_mean  Rate_std  Review_mean  Review_std  \\\n",
       "10006   1.769508  0.573354   4.091761  0.398775   279.256818  392.982450   \n",
       "10020   1.958333  0.550737   4.072917  0.560024   247.775000  281.387446   \n",
       "10034   1.762500  0.478383   4.183333  0.463025   105.929167   89.231401   \n",
       "10037   1.831250  0.609297   4.084375  0.656403   166.881250  206.088464   \n",
       "10044   1.783333  0.496933   4.170833  0.411108   220.466667  197.619452   \n",
       "\n",
       "       Sentiment_mean  \n",
       "10006        0.225003  \n",
       "10020        0.234275  \n",
       "10034        0.239799  \n",
       "10037        0.228812  \n",
       "10044        0.239143  "
      ]
     },
     "execution_count": 62,
     "metadata": {},
     "output_type": "execute_result"
    }
   ],
   "source": [
    "# Converting to dataframe\n",
    "neighbour = pd.DataFrame(vals).T\n",
    "neighbour.columns = mean_df.columns\n",
    "neighbour.head()"
   ]
  },
  {
   "cell_type": "code",
   "execution_count": 63,
   "metadata": {
    "ExecuteTime": {
     "end_time": "2016-12-09T21:47:41.639896",
     "start_time": "2016-12-09T21:47:41.628971"
    },
    "collapsed": false
   },
   "outputs": [
    {
     "data": {
      "text/plain": [
       "(187, 7)"
      ]
     },
     "execution_count": 63,
     "metadata": {},
     "output_type": "execute_result"
    }
   ],
   "source": [
    "# Join to existing dataframe to complete yelp data for all NYC zipcodes\n",
    "neighbour_yelp = pd.concat([mean_df, neighbour], axis = 0)\n",
    "neighbour_yelp.shape"
   ]
  },
  {
   "cell_type": "code",
   "execution_count": 64,
   "metadata": {
    "ExecuteTime": {
     "end_time": "2016-12-09T21:48:37.716863",
     "start_time": "2016-12-09T21:48:37.701648"
    },
    "collapsed": true
   },
   "outputs": [],
   "source": [
    "# Saving the dataframe\n",
    "with open('/Users/peidacai/Desktop/full_yelp_ref_df.pkl', 'w') as f:\n",
    "    pickle.dump(full_yelp, f)"
   ]
  },
  {
   "cell_type": "code",
   "execution_count": null,
   "metadata": {
    "collapsed": true
   },
   "outputs": [],
   "source": []
  }
 ],
 "metadata": {
  "anaconda-cloud": {},
  "kernelspec": {
   "display_name": "Python [Root]",
   "language": "python",
   "name": "Python [Root]"
  },
  "language_info": {
   "codemirror_mode": {
    "name": "ipython",
    "version": 2
   },
   "file_extension": ".py",
   "mimetype": "text/x-python",
   "name": "python",
   "nbconvert_exporter": "python",
   "pygments_lexer": "ipython2",
   "version": "2.7.12"
  },
  "toc": {
   "nav_menu": {
    "height": "30px",
    "width": "252px"
   },
   "navigate_menu": true,
   "number_sections": true,
   "sideBar": true,
   "threshold": 4,
   "toc_cell": false,
   "toc_section_display": "block",
   "toc_window_display": false
  }
 },
 "nbformat": 4,
 "nbformat_minor": 0
}
