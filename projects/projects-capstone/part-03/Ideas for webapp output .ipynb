{
 "cells": [
  {
   "cell_type": "markdown",
   "metadata": {},
   "source": [
    "Must haves:\n",
    "\n",
    "1. Predicted prices\n",
    "2. RMSE?\n",
    "\n",
    "Good to haves:\n",
    "\n",
    "1. Average reviews ratings of the area + Percentile\n",
    "2. Average number of reviews + Percentile\n",
    "3. Average number of \"$\" + Percentile\n",
    "4. Average number of taxi dropoff + Percentile\n",
    "\n",
    "Great to have:\n",
    "\n",
    "1. Top 3 most common types of businesses in the area (in percent%)\n",
    "2. Top 3 most common type of reviewers (in percent%)\n",
    "3. Taxi dropoff hourly chart"
   ]
  },
  {
   "cell_type": "code",
   "execution_count": null,
   "metadata": {
    "collapsed": true
   },
   "outputs": [],
   "source": []
  }
 ],
 "metadata": {
  "kernelspec": {
   "display_name": "Python [Root]",
   "language": "python",
   "name": "Python [Root]"
  },
  "language_info": {
   "codemirror_mode": {
    "name": "ipython",
    "version": 2
   },
   "file_extension": ".py",
   "mimetype": "text/x-python",
   "name": "python",
   "nbconvert_exporter": "python",
   "pygments_lexer": "ipython2",
   "version": "2.7.12"
  },
  "toc": {
   "nav_menu": {
    "height": "12px",
    "width": "252px"
   },
   "navigate_menu": true,
   "number_sections": true,
   "sideBar": true,
   "threshold": 4,
   "toc_cell": false,
   "toc_section_display": "block",
   "toc_window_display": false
  }
 },
 "nbformat": 4,
 "nbformat_minor": 0
}
