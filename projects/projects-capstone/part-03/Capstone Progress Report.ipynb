{
 "cells": [
  {
   "cell_type": "code",
   "execution_count": null,
   "metadata": {
    "collapsed": true
   },
   "outputs": [],
   "source": [
    " - Summarize and refine exploratory data analysis, correlating and plotting data\n",
    " - Run model (Train and test subset as needed)\n",
    " - Describe initial results and discuss how you intend to evaluate & tune\n",
    " - Describe successes, setbacks, & lessons learned along the way."
   ]
  },
  {
   "cell_type": "markdown",
   "metadata": {},
   "source": [
    "# Capstone Project Progress Report"
   ]
  },
  {
   "cell_type": "markdown",
   "metadata": {},
   "source": [
    "## Project objective"
   ]
  },
  {
   "cell_type": "markdown",
   "metadata": {},
   "source": [
    "The objective of this project is to complement traditional retail property data with transport and social media data to offer a more robust and accurate means of predicting retail rental prices.\n",
    "\n",
    "From a brick and mortar retail business's perspective, location is one of the most important factor for success. When distilled to the basics, a business model can be represented in the following manner:"
   ]
  },
  {
   "cell_type": "markdown",
   "metadata": {},
   "source": [
    "$$Profit = Revenue - Cost$$\n",
    "\n",
    "where:\n",
    "\n",
    "$$Revenue = Price\\ x\\ Quantity\\ sold$$\n",
    "\n",
    "and;\n",
    "\n",
    "$$Cost = Total\\ fixed\\ cost + Total\\ variable\\ cost$$"
   ]
  },
  {
   "cell_type": "markdown",
   "metadata": {},
   "source": [
    "Here, rental location affects both revenue and cost.\n",
    "\n",
    "Firstly, location directly determines the ability of a business to reach its customers, which impacts revenue via quantity sold. The more potential customers a business can reach, the higher its ability to sell to them.\n",
    "\n",
    "However, with limited budget, getting a prime location have to be balanced with working within the rental budget. Rent features as part of total fixed cost in the model above, and typically forms one of the largest components of total costs."
   ]
  },
  {
   "cell_type": "markdown",
   "metadata": {},
   "source": [
    "## Current real estate projects\n",
    "\n",
    "One of the largest 2016 retail real estate project on Manhattan, Occulus Mall in Downtown, opened on Aug 16 2016. In a report by [NYPost](http://nypost.com/2016/11/16/retail-rents-in-new-york-city-are-actually-falling/), while retail rents are dropping in the rest of Manhattan, prices in Financial district soared, \"The biggest bright spot now is the Financial District, where asking rents have jumped 20 percent on Broadway from Chambers Street to Battery Park\".\n",
    "\n",
    "Taxi dropoff data can be used as a proxy to determine if the 20% rise in prices is justified. However, NYC TLC does not provide taxi data beyond June 2016.\n",
    "\n",
    "Working backwards, on Mar 26 2015, Brookfield place shopping mall in Downtown opened. According to a market research report by Real Estate Board of New York [(REBNY)](https://www.rebny.com/content/rebny/en/newsroom/research/REBNYRetailReport/Spring_2016_Manhattan_Retail_Report.html) we can use the year on year difference in "
   ]
  },
  {
   "cell_type": "markdown",
   "metadata": {},
   "source": [
    "\"The challenging retail headwinds have not restrained considerable asking rent increases in all corridors.  In the booming Financial District Corridor on Broadway, between Battery Park and Chambers Street, asking rents for ground floor retail space increased 39 percent from $234 per square foot last Spring to $326 per square foot in Spring 2016.  This growth is largely the result of transportation improvements with the completion of the Fulton Center and World Trade Center Transportation Hub, in addition to new residential development in this area and in nearby Downtown Brooklyn and South Brooklyn.\"\n",
    "\n",
    "https://www.rebny.com/content/rebny/en/newsroom/research/REBNYRetailReport/Spring_2016_Manhattan_Retail_Report.html\n",
    "\n",
    "Downtown Brookfield place opened on Mar 26 2015."
   ]
  },
  {
   "cell_type": "markdown",
   "metadata": {},
   "source": [
    "## Data Wrangling"
   ]
  },
  {
   "cell_type": "markdown",
   "metadata": {},
   "source": [
    "## Exploratory Data Analyses"
   ]
  },
  {
   "cell_type": "markdown",
   "metadata": {},
   "source": [
    "## 1.4 Modelling"
   ]
  },
  {
   "cell_type": "markdown",
   "metadata": {},
   "source": [
    "## Way ahead"
   ]
  },
  {
   "cell_type": "code",
   "execution_count": null,
   "metadata": {
    "collapsed": true
   },
   "outputs": [],
   "source": []
  },
  {
   "cell_type": "code",
   "execution_count": null,
   "metadata": {
    "collapsed": true
   },
   "outputs": [],
   "source": []
  },
  {
   "cell_type": "code",
   "execution_count": null,
   "metadata": {
    "collapsed": true
   },
   "outputs": [],
   "source": []
  },
  {
   "cell_type": "code",
   "execution_count": null,
   "metadata": {
    "collapsed": true
   },
   "outputs": [],
   "source": []
  }
 ],
 "metadata": {
  "anaconda-cloud": {},
  "kernelspec": {
   "display_name": "Python [Root]",
   "language": "python",
   "name": "Python [Root]"
  },
  "language_info": {
   "codemirror_mode": {
    "name": "ipython",
    "version": 2
   },
   "file_extension": ".py",
   "mimetype": "text/x-python",
   "name": "python",
   "nbconvert_exporter": "python",
   "pygments_lexer": "ipython2",
   "version": "2.7.12"
  },
  "toc": {
   "nav_menu": {
    "height": "138px",
    "width": "252px"
   },
   "navigate_menu": true,
   "number_sections": true,
   "sideBar": true,
   "threshold": 4,
   "toc_cell": false,
   "toc_section_display": "block",
   "toc_window_display": false
  }
 },
 "nbformat": 4,
 "nbformat_minor": 0
}
