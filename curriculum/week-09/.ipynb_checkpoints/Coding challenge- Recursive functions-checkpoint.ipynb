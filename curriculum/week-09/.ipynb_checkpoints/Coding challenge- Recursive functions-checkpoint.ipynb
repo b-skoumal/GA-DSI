{
 "cells": [
  {
   "cell_type": "code",
   "execution_count": 82,
   "metadata": {
    "ExecuteTime": {
     "end_time": "2016-11-14T09:56:49.358878",
     "start_time": "2016-11-14T09:56:49.351528"
    },
    "collapsed": false
   },
   "outputs": [],
   "source": [
    "def factorial(n):\n",
    "    \n",
    "    if n > 1:\n",
    "        return (factorial(n-1))*n\n",
    "    else:\n",
    "        return 1\n",
    "    "
   ]
  },
  {
   "cell_type": "code",
   "execution_count": 85,
   "metadata": {
    "ExecuteTime": {
     "end_time": "2016-11-14T09:57:05.716038",
     "start_time": "2016-11-14T09:57:05.707823"
    },
    "collapsed": false
   },
   "outputs": [
    {
     "data": {
      "text/plain": [
       "24"
      ]
     },
     "execution_count": 85,
     "metadata": {},
     "output_type": "execute_result"
    }
   ],
   "source": [
    "factorial(4)"
   ]
  },
  {
   "cell_type": "code",
   "execution_count": 64,
   "metadata": {
    "ExecuteTime": {
     "end_time": "2016-11-14T09:47:45.916965",
     "start_time": "2016-11-14T09:47:45.910804"
    },
    "collapsed": true
   },
   "outputs": [],
   "source": [
    "import timeit"
   ]
  },
  {
   "cell_type": "code",
   "execution_count": 72,
   "metadata": {
    "ExecuteTime": {
     "end_time": "2016-11-14T09:49:33.020190",
     "start_time": "2016-11-14T09:49:31.995872"
    },
    "collapsed": false
   },
   "outputs": [
    {
     "name": "stdout",
     "output_type": "stream",
     "text": [
      "10000 loops, best of 3: 22.9 µs per loop\n"
     ]
    }
   ],
   "source": [
    "%timeit for x in range(10): factorial(x)"
   ]
  },
  {
   "cell_type": "code",
   "execution_count": 73,
   "metadata": {
    "ExecuteTime": {
     "end_time": "2016-11-14T09:50:19.821158",
     "start_time": "2016-11-14T09:50:19.811311"
    },
    "collapsed": false
   },
   "outputs": [],
   "source": [
    "# x(n) = x(n-1) + x(n-2)\n",
    "\n",
    "def fib(n):\n",
    "    if n > 1:\n",
    "        return (fib(n-1) + fib(n-2))\n",
    "    elif n == 1:\n",
    "        return 1\n",
    "    else:\n",
    "        return 0\n",
    "\n",
    "        \n",
    "    "
   ]
  },
  {
   "cell_type": "code",
   "execution_count": 74,
   "metadata": {
    "ExecuteTime": {
     "end_time": "2016-11-14T09:50:20.749830",
     "start_time": "2016-11-14T09:50:20.741233"
    },
    "collapsed": false
   },
   "outputs": [
    {
     "data": {
      "text/plain": [
       "55"
      ]
     },
     "execution_count": 74,
     "metadata": {},
     "output_type": "execute_result"
    }
   ],
   "source": [
    "fib(10)"
   ]
  },
  {
   "cell_type": "code",
   "execution_count": 75,
   "metadata": {
    "ExecuteTime": {
     "end_time": "2016-11-14T09:50:49.743291",
     "start_time": "2016-11-14T09:50:49.018183"
    },
    "collapsed": false
   },
   "outputs": [
    {
     "name": "stdout",
     "output_type": "stream",
     "text": [
      "1000 loops, best of 3: 149 µs per loop\n"
     ]
    }
   ],
   "source": [
    "%timeit for x in range(10): fib(x)"
   ]
  },
  {
   "cell_type": "code",
   "execution_count": 108,
   "metadata": {
    "ExecuteTime": {
     "end_time": "2016-11-14T10:08:40.430407",
     "start_time": "2016-11-14T10:08:40.413399"
    },
    "collapsed": false
   },
   "outputs": [],
   "source": [
    "def pas_tri(n):\n",
    "    \n",
    "    if n < 0:\n",
    "        return \"Only accepts positive values\"\n",
    "    elif n == 0:\n",
    "        return []\n",
    "    elif n == 1:\n",
    "\n",
    "        return[1]\n",
    "    \n",
    "    else:\n",
    "        new_row = [1]\n",
    "        previous_row = pas_tri(n-1)\n",
    "        for i in range(len(previous_row)-1):\n",
    "            new_row.append(previous_row[i] + previous_row[i+1])\n",
    "            print new_row\n",
    "        new_row += [1]\n",
    "      \n",
    "        return new_row\n",
    "            "
   ]
  },
  {
   "cell_type": "code",
   "execution_count": 110,
   "metadata": {
    "ExecuteTime": {
     "end_time": "2016-11-14T10:09:16.101048",
     "start_time": "2016-11-14T10:09:16.092323"
    },
    "collapsed": false
   },
   "outputs": [
    {
     "name": "stdout",
     "output_type": "stream",
     "text": [
      "[1, 1]\n",
      "[1, 1, 1]\n",
      "[1, 1, 1, 1]\n",
      "[1, 1, 1, 1, 1]\n",
      "[1, 1, 1, 1, 1, 1]\n",
      "[1, 1, 1, 1, 1, 1, 1]\n",
      "[1, 1, 1, 1, 1, 1, 1, 1]\n",
      "[1, 1, 1, 1, 1, 1, 1, 1, 1]\n",
      "[1, 1, 1, 1, 1, 1, 1, 1, 1, 1]\n",
      "[1, 1, 1, 1, 1, 1, 1, 1, 1, 1, 1]\n"
     ]
    }
   ],
   "source": [
    "a = [1]\n",
    "\n",
    "for i in range(10):\n",
    "    a += [1]\n",
    "    print a"
   ]
  },
  {
   "cell_type": "code",
   "execution_count": 112,
   "metadata": {
    "ExecuteTime": {
     "end_time": "2016-11-14T10:10:08.995796",
     "start_time": "2016-11-14T10:10:08.987997"
    },
    "collapsed": false
   },
   "outputs": [
    {
     "data": {
      "text/plain": [
       "[1, 2]"
      ]
     },
     "execution_count": 112,
     "metadata": {},
     "output_type": "execute_result"
    }
   ],
   "source": [
    "[1] + [2]"
   ]
  },
  {
   "cell_type": "code",
   "execution_count": 109,
   "metadata": {
    "ExecuteTime": {
     "end_time": "2016-11-14T10:08:41.226437",
     "start_time": "2016-11-14T10:08:41.213279"
    },
    "collapsed": false
   },
   "outputs": [
    {
     "name": "stdout",
     "output_type": "stream",
     "text": [
      "[1, 2]\n",
      "[1, 3]\n",
      "[1, 3, 3]\n",
      "[1, 4]\n",
      "[1, 4, 6]\n",
      "[1, 4, 6, 4]\n",
      "[1, 5]\n",
      "[1, 5, 10]\n",
      "[1, 5, 10, 10]\n",
      "[1, 5, 10, 10, 5]\n",
      "[1, 6]\n",
      "[1, 6, 15]\n",
      "[1, 6, 15, 20]\n",
      "[1, 6, 15, 20, 15]\n",
      "[1, 6, 15, 20, 15, 6]\n",
      "[1, 7]\n",
      "[1, 7, 21]\n",
      "[1, 7, 21, 35]\n",
      "[1, 7, 21, 35, 35]\n",
      "[1, 7, 21, 35, 35, 21]\n",
      "[1, 7, 21, 35, 35, 21, 7]\n",
      "[1, 8]\n",
      "[1, 8, 28]\n",
      "[1, 8, 28, 56]\n",
      "[1, 8, 28, 56, 70]\n",
      "[1, 8, 28, 56, 70, 56]\n",
      "[1, 8, 28, 56, 70, 56, 28]\n",
      "[1, 8, 28, 56, 70, 56, 28, 8]\n",
      "[1, 9]\n",
      "[1, 9, 36]\n",
      "[1, 9, 36, 84]\n",
      "[1, 9, 36, 84, 126]\n",
      "[1, 9, 36, 84, 126, 126]\n",
      "[1, 9, 36, 84, 126, 126, 84]\n",
      "[1, 9, 36, 84, 126, 126, 84, 36]\n",
      "[1, 9, 36, 84, 126, 126, 84, 36, 9]\n"
     ]
    },
    {
     "data": {
      "text/plain": [
       "[1, 9, 36, 84, 126, 126, 84, 36, 9, 1]"
      ]
     },
     "execution_count": 109,
     "metadata": {},
     "output_type": "execute_result"
    }
   ],
   "source": [
    "pas_tri(10)"
   ]
  },
  {
   "cell_type": "code",
   "execution_count": 58,
   "metadata": {
    "ExecuteTime": {
     "end_time": "2016-11-14T09:45:18.690554",
     "start_time": "2016-11-14T09:45:18.667299"
    },
    "collapsed": false
   },
   "outputs": [
    {
     "data": {
      "text/plain": [
       "[1, 1]"
      ]
     },
     "execution_count": 58,
     "metadata": {},
     "output_type": "execute_result"
    }
   ],
   "source": [
    "pas_tri(2)"
   ]
  },
  {
   "cell_type": "markdown",
   "metadata": {
    "collapsed": true
   },
   "source": [
    "Given a non-negative integer num, repeatedly add all its digits until the result has only one digit.\n",
    "\n",
    "For example:\n",
    "\n",
    "Given num = 38, the process is: 3 + 8 = 11, 1 + 1 = 2. Since 2 has only one digit, return it.\n",
    "\n",
    "Challenge:\n",
    "\n",
    "First, solve it using any method.\n",
    "\n",
    "Then, try solving it using recursion.\n",
    "\n",
    "Finally, there's a solution that doesn't require either loops or recursion.\n",
    "\n",
    "As always, you could probably find the answer if you Googled the question long enough. See if you can solve it on your own."
   ]
  },
  {
   "cell_type": "code",
   "execution_count": 2,
   "metadata": {
    "ExecuteTime": {
     "end_time": "2016-11-16T09:16:14.010738",
     "start_time": "2016-11-16T09:16:14.002830"
    },
    "collapsed": false
   },
   "outputs": [
    {
     "data": {
      "text/plain": [
       "False"
      ]
     },
     "execution_count": 2,
     "metadata": {},
     "output_type": "execute_result"
    }
   ],
   "source": [
    "type(a) is not int"
   ]
  },
  {
   "cell_type": "code",
   "execution_count": null,
   "metadata": {
    "collapsed": true
   },
   "outputs": [],
   "source": [
    "\n",
    "\n",
    "def add_digits(x):\n",
    "    if type(x) is not int or x "
   ]
  }
 ],
 "metadata": {
  "anaconda-cloud": {},
  "kernelspec": {
   "display_name": "Python [Root]",
   "language": "python",
   "name": "Python [Root]"
  },
  "language_info": {
   "codemirror_mode": {
    "name": "ipython",
    "version": 2
   },
   "file_extension": ".py",
   "mimetype": "text/x-python",
   "name": "python",
   "nbconvert_exporter": "python",
   "pygments_lexer": "ipython2",
   "version": "2.7.12"
  },
  "toc": {
   "nav_menu": {
    "height": "12px",
    "width": "252px"
   },
   "navigate_menu": true,
   "number_sections": true,
   "sideBar": true,
   "threshold": 4,
   "toc_cell": false,
   "toc_section_display": "block",
   "toc_window_display": false
  }
 },
 "nbformat": 4,
 "nbformat_minor": 0
}
