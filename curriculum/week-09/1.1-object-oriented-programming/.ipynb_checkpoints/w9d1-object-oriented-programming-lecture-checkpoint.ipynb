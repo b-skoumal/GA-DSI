{
 "cells": [
  {
   "cell_type": "markdown",
   "metadata": {
    "slideshow": {
     "slide_type": "slide"
    }
   },
   "source": [
    "# ![](https://ga-dash.s3.amazonaws.com/production/assets/logo-9f88ae6c9c3871690e33280fcf557f33.png) Object-oriented programming in Python\n",
    "Week 9 | Lesson 1.1"
   ]
  },
  {
   "cell_type": "markdown",
   "metadata": {
    "slideshow": {
     "slide_type": "slide"
    }
   },
   "source": [
    "### LEARNING OBJECTIVES\n",
    "*After this lesson, you will be able to:*\n",
    "- Describe object-oriented programming\n",
    "- Create class objects in Python"
   ]
  },
  {
   "cell_type": "markdown",
   "metadata": {
    "slideshow": {
     "slide_type": "slide"
    }
   },
   "source": [
    "# Object Oriented Programming\n",
    "Object oriented programming is a style of programming where data and the operations that manipulate them are organized into classes and methods. \n",
    "\n",
    "What are classes and methods? I'm glad you asked. "
   ]
  },
  {
   "cell_type": "markdown",
   "metadata": {
    "slideshow": {
     "slide_type": "slide"
    }
   },
   "source": [
    "# Classes\n",
    "A ```class``` is a little like a function. They let you define a general case to repeat operations you've written. \n",
    "\n",
    "The difference is a ```class``` can hold both variables and functions that relate to each other. These are called attributes. \n",
    "\n",
    "Let's start by defining an empty class called ```Point```\n"
   ]
  },
  {
   "cell_type": "code",
   "execution_count": 1,
   "metadata": {
    "ExecuteTime": {
     "end_time": "2016-11-15T15:59:37.666706",
     "start_time": "2016-11-15T15:59:37.631443"
    },
    "collapsed": false,
    "slideshow": {
     "slide_type": "fragment"
    }
   },
   "outputs": [],
   "source": [
    "class Point(object):\n",
    "    '''Sample DocString'''\n"
   ]
  },
  {
   "cell_type": "code",
   "execution_count": 2,
   "metadata": {
    "ExecuteTime": {
     "end_time": "2016-11-15T15:59:38.169510",
     "start_time": "2016-11-15T15:59:38.136367"
    },
    "collapsed": false,
    "slideshow": {
     "slide_type": "fragment"
    }
   },
   "outputs": [
    {
     "data": {
      "text/plain": [
       "__main__.Point"
      ]
     },
     "execution_count": 2,
     "metadata": {},
     "output_type": "execute_result"
    }
   ],
   "source": [
    "Point"
   ]
  },
  {
   "cell_type": "markdown",
   "metadata": {
    "slideshow": {
     "slide_type": "slide"
    }
   },
   "source": [
    "Let's create a copy of Point called version1. This is called an instance of the Point class"
   ]
  },
  {
   "cell_type": "code",
   "execution_count": 3,
   "metadata": {
    "ExecuteTime": {
     "end_time": "2016-11-15T15:59:38.812298",
     "start_time": "2016-11-15T15:59:38.807711"
    },
    "collapsed": false,
    "slideshow": {
     "slide_type": "fragment"
    }
   },
   "outputs": [],
   "source": [
    "version1 = Point()"
   ]
  },
  {
   "cell_type": "markdown",
   "metadata": {
    "slideshow": {
     "slide_type": "slide"
    }
   },
   "source": [
    "## Variables\n",
    "We can define variables within the class that don't apply to the general case:"
   ]
  },
  {
   "cell_type": "code",
   "execution_count": 4,
   "metadata": {
    "ExecuteTime": {
     "end_time": "2016-11-15T15:59:39.325880",
     "start_time": "2016-11-15T15:59:39.320417"
    },
    "collapsed": false,
    "slideshow": {
     "slide_type": "fragment"
    }
   },
   "outputs": [],
   "source": [
    "version1.x = 4\n",
    "version1.y = 7\n",
    "version1.z = 9"
   ]
  },
  {
   "cell_type": "code",
   "execution_count": 5,
   "metadata": {
    "ExecuteTime": {
     "end_time": "2016-11-15T15:59:39.709459",
     "start_time": "2016-11-15T15:59:39.699952"
    },
    "collapsed": false,
    "slideshow": {
     "slide_type": "slide"
    }
   },
   "outputs": [
    {
     "data": {
      "text/plain": [
       "['__class__',\n",
       " '__delattr__',\n",
       " '__dict__',\n",
       " '__doc__',\n",
       " '__format__',\n",
       " '__getattribute__',\n",
       " '__hash__',\n",
       " '__init__',\n",
       " '__module__',\n",
       " '__new__',\n",
       " '__reduce__',\n",
       " '__reduce_ex__',\n",
       " '__repr__',\n",
       " '__setattr__',\n",
       " '__sizeof__',\n",
       " '__str__',\n",
       " '__subclasshook__',\n",
       " '__weakref__',\n",
       " 'x',\n",
       " 'y',\n",
       " 'z']"
      ]
     },
     "execution_count": 5,
     "metadata": {},
     "output_type": "execute_result"
    }
   ],
   "source": [
    "dir(version1)"
   ]
  },
  {
   "cell_type": "code",
   "execution_count": 6,
   "metadata": {
    "ExecuteTime": {
     "end_time": "2016-11-15T15:59:39.937366",
     "start_time": "2016-11-15T15:59:39.928553"
    },
    "collapsed": false,
    "slideshow": {
     "slide_type": "slide"
    }
   },
   "outputs": [
    {
     "data": {
      "text/plain": [
       "['__class__',\n",
       " '__delattr__',\n",
       " '__dict__',\n",
       " '__doc__',\n",
       " '__format__',\n",
       " '__getattribute__',\n",
       " '__hash__',\n",
       " '__init__',\n",
       " '__module__',\n",
       " '__new__',\n",
       " '__reduce__',\n",
       " '__reduce_ex__',\n",
       " '__repr__',\n",
       " '__setattr__',\n",
       " '__sizeof__',\n",
       " '__str__',\n",
       " '__subclasshook__',\n",
       " '__weakref__']"
      ]
     },
     "execution_count": 6,
     "metadata": {},
     "output_type": "execute_result"
    }
   ],
   "source": [
    "dir(Point)"
   ]
  },
  {
   "cell_type": "markdown",
   "metadata": {},
   "source": [
    "Directory of Point doesn't contain x, y, z. Means we can work with version1 without changing the original Point class."
   ]
  },
  {
   "cell_type": "code",
   "execution_count": 7,
   "metadata": {
    "ExecuteTime": {
     "end_time": "2016-11-15T15:59:40.150042",
     "start_time": "2016-11-15T15:59:40.145018"
    },
    "collapsed": true,
    "slideshow": {
     "slide_type": "slide"
    }
   },
   "outputs": [],
   "source": [
    "# Create an instance of Point\n",
    "\n",
    "version2 = Point()"
   ]
  },
  {
   "cell_type": "code",
   "execution_count": 8,
   "metadata": {
    "ExecuteTime": {
     "end_time": "2016-11-15T15:59:40.356306",
     "start_time": "2016-11-15T15:59:40.347912"
    },
    "collapsed": true,
    "slideshow": {
     "slide_type": "slide"
    }
   },
   "outputs": [],
   "source": [
    "# Add in a few variables. Print them out\n",
    "\n",
    "version2.a = 10\n",
    "version2.b = 20\n",
    "version2.c = 30"
   ]
  },
  {
   "cell_type": "code",
   "execution_count": 9,
   "metadata": {
    "ExecuteTime": {
     "end_time": "2016-11-15T15:59:40.580531",
     "start_time": "2016-11-15T15:59:40.570214"
    },
    "collapsed": false
   },
   "outputs": [
    {
     "data": {
      "text/plain": [
       "['__class__',\n",
       " '__delattr__',\n",
       " '__dict__',\n",
       " '__doc__',\n",
       " '__format__',\n",
       " '__getattribute__',\n",
       " '__hash__',\n",
       " '__init__',\n",
       " '__module__',\n",
       " '__new__',\n",
       " '__reduce__',\n",
       " '__reduce_ex__',\n",
       " '__repr__',\n",
       " '__setattr__',\n",
       " '__sizeof__',\n",
       " '__str__',\n",
       " '__subclasshook__',\n",
       " '__weakref__',\n",
       " 'a',\n",
       " 'b',\n",
       " 'c']"
      ]
     },
     "execution_count": 9,
     "metadata": {},
     "output_type": "execute_result"
    }
   ],
   "source": [
    "dir(version2)"
   ]
  },
  {
   "cell_type": "markdown",
   "metadata": {
    "slideshow": {
     "slide_type": "slide"
    }
   },
   "source": [
    "## Methods\n",
    "Methods are functions that are defined within a class. "
   ]
  },
  {
   "cell_type": "code",
   "execution_count": 10,
   "metadata": {
    "ExecuteTime": {
     "end_time": "2016-11-15T15:59:40.990459",
     "start_time": "2016-11-15T15:59:40.984015"
    },
    "collapsed": true,
    "slideshow": {
     "slide_type": "slide"
    }
   },
   "outputs": [],
   "source": [
    "class Time():\n",
    "    def print_time(self):\n",
    "        print '%.2d:%.2d:%.2d' % (self.hour, self.minute, self.second)"
   ]
  },
  {
   "cell_type": "markdown",
   "metadata": {
    "slideshow": {
     "slide_type": "fragment"
    }
   },
   "source": [
    "Calling 'self' tells the method to refer to the variables and other methods within the class instance. "
   ]
  },
  {
   "cell_type": "code",
   "execution_count": 11,
   "metadata": {
    "ExecuteTime": {
     "end_time": "2016-11-15T15:59:41.414619",
     "start_time": "2016-11-15T15:59:41.405366"
    },
    "collapsed": false,
    "slideshow": {
     "slide_type": "slide"
    }
   },
   "outputs": [
    {
     "name": "stdout",
     "output_type": "stream",
     "text": [
      "09:15:00\n"
     ]
    }
   ],
   "source": [
    "morning = Time() #define the class\n",
    "morning.hour = 9 #set the attributes\n",
    "morning.minute = 15\n",
    "morning.second = 0\n",
    "morning.print_time() #call the method"
   ]
  },
  {
   "cell_type": "code",
   "execution_count": 12,
   "metadata": {
    "ExecuteTime": {
     "end_time": "2016-11-15T15:59:41.620335",
     "start_time": "2016-11-15T15:59:41.611854"
    },
    "collapsed": false,
    "slideshow": {
     "slide_type": "slide"
    }
   },
   "outputs": [
    {
     "name": "stdout",
     "output_type": "stream",
     "text": [
      "02:30:15\n"
     ]
    }
   ],
   "source": [
    "# Create an instance called afternoon and assign times to it\n",
    "\n",
    "afternoon = Time()\n",
    "afternoon.hour = 2\n",
    "afternoon.minute = 30\n",
    "afternoon.second = 15\n",
    "afternoon.print_time()"
   ]
  },
  {
   "cell_type": "code",
   "execution_count": 13,
   "metadata": {
    "ExecuteTime": {
     "end_time": "2016-11-15T15:59:41.836354",
     "start_time": "2016-11-15T15:59:41.831989"
    },
    "collapsed": true,
    "slideshow": {
     "slide_type": "fragment"
    }
   },
   "outputs": [],
   "source": [
    "# Print out the time in afternoon\n",
    "\n"
   ]
  },
  {
   "cell_type": "markdown",
   "metadata": {
    "slideshow": {
     "slide_type": "slide"
    }
   },
   "source": [
    "Let's add in a new method that converts time to integer:"
   ]
  },
  {
   "cell_type": "code",
   "execution_count": 14,
   "metadata": {
    "ExecuteTime": {
     "end_time": "2016-11-15T15:59:42.260263",
     "start_time": "2016-11-15T15:59:42.250373"
    },
    "collapsed": true,
    "slideshow": {
     "slide_type": "fragment"
    }
   },
   "outputs": [],
   "source": [
    "class Time():\n",
    "    def print_time(self):\n",
    "        print '%.2d:%.2d:%.2d' % (self.hour, self.minute, self.second)\n",
    "        \n",
    "    def time_to_int(self):\n",
    "        '''Returns the current time in seconds'''\n",
    "        minutes = self.hour * 60 + self.minute\n",
    "        return minutes * 60 + self.second\n",
    "    "
   ]
  },
  {
   "cell_type": "markdown",
   "metadata": {
    "slideshow": {
     "slide_type": "fragment"
    }
   },
   "source": [
    "Again, note that 'self.hour' refers to the value of hour within the class"
   ]
  },
  {
   "cell_type": "code",
   "execution_count": 15,
   "metadata": {
    "ExecuteTime": {
     "end_time": "2016-11-15T15:59:42.710141",
     "start_time": "2016-11-15T15:59:42.699391"
    },
    "collapsed": false,
    "slideshow": {
     "slide_type": "slide"
    }
   },
   "outputs": [
    {
     "data": {
      "text/plain": [
       "33300"
      ]
     },
     "execution_count": 15,
     "metadata": {},
     "output_type": "execute_result"
    }
   ],
   "source": [
    "morning = Time() #define the class\n",
    "morning.hour = 9 #set the attributes\n",
    "morning.minute = 15\n",
    "morning.second = 0\n",
    "morning.time_to_int() #call the method"
   ]
  },
  {
   "cell_type": "markdown",
   "metadata": {
    "slideshow": {
     "slide_type": "slide"
    }
   },
   "source": [
    "Modify the variables and run the functions again:"
   ]
  },
  {
   "cell_type": "code",
   "execution_count": 16,
   "metadata": {
    "ExecuteTime": {
     "end_time": "2016-11-15T15:59:43.129611",
     "start_time": "2016-11-15T15:59:43.120741"
    },
    "collapsed": false,
    "slideshow": {
     "slide_type": "slide"
    }
   },
   "outputs": [
    {
     "data": {
      "text/plain": [
       "36900"
      ]
     },
     "execution_count": 16,
     "metadata": {},
     "output_type": "execute_result"
    }
   ],
   "source": [
    "morning.hour += 1\n",
    "morning.time_to_int()"
   ]
  },
  {
   "cell_type": "code",
   "execution_count": 17,
   "metadata": {
    "ExecuteTime": {
     "end_time": "2016-11-15T15:59:43.389946",
     "start_time": "2016-11-15T15:59:43.378402"
    },
    "collapsed": false,
    "slideshow": {
     "slide_type": "slide"
    }
   },
   "outputs": [
    {
     "name": "stdout",
     "output_type": "stream",
     "text": [
      "15150\n",
      "18750\n"
     ]
    }
   ],
   "source": [
    "# Reinstantiate afternoon. \n",
    "\n",
    "afternoon = Time()\n",
    "afternoon.hour = 4\n",
    "afternoon.minute = 12\n",
    "afternoon.second = 30\n",
    "# Convert the time in afternoon to an integer\n",
    "\n",
    "print afternoon.time_to_int()\n",
    "# Change the values in afternoon. Convert that to an integer. \n",
    "\n",
    "afternoon.hour = 5\n",
    "print afternoon.time_to_int()"
   ]
  },
  {
   "cell_type": "markdown",
   "metadata": {
    "slideshow": {
     "slide_type": "slide"
    }
   },
   "source": [
    "`time_to_int()` is called a 'pure' function because it returns a new value. You can also write 'modifier' functions that modify your attributes in place (imagine a funciton that sets a new value for self.seconds).\n",
    "\n",
    "Add a modifier method `int_to_time()` that takes in a value for seconds and resets the hour, minute and second values to that value. "
   ]
  },
  {
   "cell_type": "code",
   "execution_count": 18,
   "metadata": {
    "ExecuteTime": {
     "end_time": "2016-11-15T15:59:43.861813",
     "start_time": "2016-11-15T15:59:43.841831"
    },
    "collapsed": true,
    "slideshow": {
     "slide_type": "slide"
    }
   },
   "outputs": [],
   "source": [
    "class Time():\n",
    "    def print_time(self):\n",
    "        print '%.2d:%.2d:%.2d' % (self.hour, self.minute, self.second)\n",
    "        \n",
    "    def time_to_int(self):\n",
    "        '''Returns the current time in seconds'''\n",
    "        minutes = self.hour * 60 + self.minute\n",
    "        return minutes * 60 + self.second\n",
    "    \n",
    "    def int_to_time(self, seconds):\n",
    "        '''Resets the values for hour, minute and second to a new \n",
    "        value, given by a number of seconds\n",
    "        '''\n",
    "        \n",
    "        \n",
    "        \n",
    "        # Your code goes here\n",
    "        self.hour = seconds / 3600\n",
    "        self.minute = (seconds - (self.hour * 3600))/60\n",
    "        self.second = (seconds - (self.minute *60) - (self.hour * 3600))\n",
    "        return '%.2d:%.2d:%.2d' % (self.hour, self.minute, self.second)\n",
    "        \n",
    "        \n",
    "        "
   ]
  },
  {
   "cell_type": "code",
   "execution_count": 19,
   "metadata": {
    "ExecuteTime": {
     "end_time": "2016-11-15T15:59:44.075946",
     "start_time": "2016-11-15T15:59:44.067928"
    },
    "collapsed": false,
    "slideshow": {
     "slide_type": "slide"
    }
   },
   "outputs": [
    {
     "name": "stdout",
     "output_type": "stream",
     "text": [
      "09:15:00\n"
     ]
    }
   ],
   "source": [
    "morning = Time() #define the class\n",
    "morning.hour = 9 #set the attributes\n",
    "morning.minute = 15\n",
    "morning.second = 0\n",
    "morning.print_time() #call the method"
   ]
  },
  {
   "cell_type": "code",
   "execution_count": 20,
   "metadata": {
    "ExecuteTime": {
     "end_time": "2016-11-15T15:59:44.321340",
     "start_time": "2016-11-15T15:59:44.313582"
    },
    "collapsed": false
   },
   "outputs": [
    {
     "data": {
      "text/plain": [
       "32400"
      ]
     },
     "execution_count": 20,
     "metadata": {},
     "output_type": "execute_result"
    }
   ],
   "source": [
    "9 *3600"
   ]
  },
  {
   "cell_type": "code",
   "execution_count": 21,
   "metadata": {
    "ExecuteTime": {
     "end_time": "2016-11-15T15:59:44.583181",
     "start_time": "2016-11-15T15:59:44.576234"
    },
    "collapsed": false,
    "slideshow": {
     "slide_type": "fragment"
    }
   },
   "outputs": [
    {
     "name": "stdout",
     "output_type": "stream",
     "text": [
      "09:00:00\n"
     ]
    }
   ],
   "source": [
    "morning.int_to_time(32400) # A random example\n",
    "morning.print_time()"
   ]
  },
  {
   "cell_type": "markdown",
   "metadata": {
    "slideshow": {
     "slide_type": "slide"
    }
   },
   "source": [
    "### Interacting classes\n",
    "This is a little complicated, but we can write a method that compares two instances of the same class. \n",
    "\n",
    "Here's a method `is_after()` which checks if one Time class is before another: "
   ]
  },
  {
   "cell_type": "code",
   "execution_count": 22,
   "metadata": {
    "ExecuteTime": {
     "end_time": "2016-11-15T15:59:45.059669",
     "start_time": "2016-11-15T15:59:45.041254"
    },
    "collapsed": true,
    "slideshow": {
     "slide_type": "slide"
    }
   },
   "outputs": [],
   "source": [
    "class Time():\n",
    "    def print_time(self):\n",
    "        print '%.2d:%.2d:%.2d' % (self.hour, self.minute, self.second)\n",
    "        \n",
    "    def time_to_int(self):\n",
    "        '''Returns the current time in seconds'''\n",
    "        minutes = self.hour * 60 + self.minute\n",
    "        return minutes * 60 + self.second\n",
    "    \n",
    "    def int_to_time(self, seconds):\n",
    "        '''Resets the values for hour, minute and second to a new \n",
    "        value, given by a number of seconds\n",
    "        '''\n",
    "        self.hour, self.minute = divmod(seconds, 3600)\n",
    "        self.minute, self.second = divmod(self.minute, 60)\n",
    "    \n",
    "    def is_after(self, other):\n",
    "        '''Compares two time classes'''\n",
    "        return self.time_to_int() > other.time_to_int()"
   ]
  },
  {
   "cell_type": "code",
   "execution_count": 23,
   "metadata": {
    "ExecuteTime": {
     "end_time": "2016-11-15T15:59:45.299115",
     "start_time": "2016-11-15T15:59:45.289833"
    },
    "collapsed": false,
    "slideshow": {
     "slide_type": "slide"
    }
   },
   "outputs": [
    {
     "name": "stdout",
     "output_type": "stream",
     "text": [
      "09:15:00\n"
     ]
    }
   ],
   "source": [
    "morning = Time() #define the class\n",
    "morning.hour = 9 #set the attributes\n",
    "morning.minute = 15\n",
    "morning.second = 0\n",
    "morning.print_time() #call the method"
   ]
  },
  {
   "cell_type": "code",
   "execution_count": 24,
   "metadata": {
    "ExecuteTime": {
     "end_time": "2016-11-15T15:59:45.996135",
     "start_time": "2016-11-15T15:59:45.987852"
    },
    "collapsed": false,
    "slideshow": {
     "slide_type": "slide"
    }
   },
   "outputs": [
    {
     "name": "stdout",
     "output_type": "stream",
     "text": [
      "16:45:00\n"
     ]
    }
   ],
   "source": [
    "afternoon = Time() #define another class\n",
    "afternoon.hour = 16 #set the attributes\n",
    "afternoon.minute = 45\n",
    "afternoon.second = 0\n",
    "afternoon.print_time() #call the method"
   ]
  },
  {
   "cell_type": "code",
   "execution_count": 25,
   "metadata": {
    "ExecuteTime": {
     "end_time": "2016-11-15T15:59:46.682204",
     "start_time": "2016-11-15T15:59:46.674933"
    },
    "collapsed": false,
    "slideshow": {
     "slide_type": "slide"
    }
   },
   "outputs": [
    {
     "data": {
      "text/plain": [
       "False"
      ]
     },
     "execution_count": 25,
     "metadata": {},
     "output_type": "execute_result"
    }
   ],
   "source": [
    "morning.is_after(afternoon)"
   ]
  },
  {
   "cell_type": "code",
   "execution_count": 26,
   "metadata": {
    "ExecuteTime": {
     "end_time": "2016-11-15T15:59:47.252772",
     "start_time": "2016-11-15T15:59:47.244201"
    },
    "collapsed": false,
    "slideshow": {
     "slide_type": "fragment"
    }
   },
   "outputs": [
    {
     "data": {
      "text/plain": [
       "True"
      ]
     },
     "execution_count": 26,
     "metadata": {},
     "output_type": "execute_result"
    }
   ],
   "source": [
    "afternoon.is_after(morning)"
   ]
  },
  {
   "cell_type": "markdown",
   "metadata": {
    "slideshow": {
     "slide_type": "slide"
    }
   },
   "source": [
    "`isinstance` is a built in function that checks if an instance belongs to a class:"
   ]
  },
  {
   "cell_type": "code",
   "execution_count": 27,
   "metadata": {
    "ExecuteTime": {
     "end_time": "2016-11-15T15:59:48.323417",
     "start_time": "2016-11-15T15:59:48.316237"
    },
    "collapsed": false,
    "slideshow": {
     "slide_type": "fragment"
    }
   },
   "outputs": [
    {
     "data": {
      "text/plain": [
       "True"
      ]
     },
     "execution_count": 27,
     "metadata": {},
     "output_type": "execute_result"
    }
   ],
   "source": [
    "isinstance(morning, Time)"
   ]
  },
  {
   "cell_type": "markdown",
   "metadata": {
    "slideshow": {
     "slide_type": "slide"
    }
   },
   "source": [
    "To be thorough, you could rewrite that last method to include a check for AttributeError:\n",
    "```python\n",
    "\n",
    "def is_after(self, other):\n",
    "    '''Compares two time classes'''\n",
    "    if isinstance(other, Time):\n",
    "        return self.time_to_int() > other.time_to_int()\n",
    "```"
   ]
  },
  {
   "cell_type": "markdown",
   "metadata": {
    "slideshow": {
     "slide_type": "slide"
    }
   },
   "source": [
    "## Built in methods:  `__init__`\n",
    "Python classes come with some built in methods that do specific things when invoked. \n",
    "\n",
    "`__init__` initializes variables that you pass in as arguments "
   ]
  },
  {
   "cell_type": "code",
   "execution_count": 28,
   "metadata": {
    "ExecuteTime": {
     "end_time": "2016-11-15T15:59:49.878674",
     "start_time": "2016-11-15T15:59:49.859893"
    },
    "collapsed": true,
    "slideshow": {
     "slide_type": "slide"
    }
   },
   "outputs": [],
   "source": [
    "class Time():\n",
    "    def __init__(self, hour=0, minute=0, second=0):\n",
    "        self.hour = hour\n",
    "        self.minute = minute\n",
    "        self.second = second\n",
    "    \n",
    "    def print_time(self):\n",
    "        print '%.2d:%.2d:%.2d' % (self.hour, self.minute, self.second)\n",
    "        \n",
    "    def time_to_int(self):\n",
    "        '''Returns the current time in seconds'''\n",
    "        minutes = self.hour * 60 + self.minute\n",
    "        return minutes * 60 + self.second\n",
    "    \n",
    "    def int_to_time(self, seconds):\n",
    "        '''Resets the values for hour, minute and second to a new \n",
    "        value, given by a number of seconds\n",
    "        '''\n",
    "        self.hour, self.minute = divmod(seconds, 3600)\n",
    "        self.minute, self.second = divmod(self.minute, 60)\n",
    "    \n",
    "    def is_after(self, other):\n",
    "        '''Compares two time classes'''\n",
    "        if isinstance(other, Time):\n",
    "            return self.time_to_int() > other.time_to_int()"
   ]
  },
  {
   "cell_type": "code",
   "execution_count": 29,
   "metadata": {
    "ExecuteTime": {
     "end_time": "2016-11-15T15:59:50.329744",
     "start_time": "2016-11-15T15:59:50.322924"
    },
    "collapsed": false,
    "slideshow": {
     "slide_type": "slide"
    }
   },
   "outputs": [
    {
     "name": "stdout",
     "output_type": "stream",
     "text": [
      "09:15:00\n"
     ]
    }
   ],
   "source": [
    "morning = Time(9, 15, 0) #variables are defined when we invoke the class!\n",
    "morning.print_time()"
   ]
  },
  {
   "cell_type": "code",
   "execution_count": 30,
   "metadata": {
    "ExecuteTime": {
     "end_time": "2016-11-15T15:59:50.790250",
     "start_time": "2016-11-15T15:59:50.785555"
    },
    "collapsed": false,
    "slideshow": {
     "slide_type": "fragment"
    }
   },
   "outputs": [],
   "source": [
    "# Create afternoon, passing in times as arguments\n",
    "\n"
   ]
  },
  {
   "cell_type": "code",
   "execution_count": 31,
   "metadata": {
    "ExecuteTime": {
     "end_time": "2016-11-15T15:59:51.200170",
     "start_time": "2016-11-15T15:59:51.195859"
    },
    "collapsed": false,
    "slideshow": {
     "slide_type": "fragment"
    }
   },
   "outputs": [],
   "source": [
    "morning.is_after(afternoon)"
   ]
  },
  {
   "cell_type": "markdown",
   "metadata": {
    "slideshow": {
     "slide_type": "slide"
    }
   },
   "source": [
    "### Built in method 2: `__str__`\n",
    "Here's one more. You can look up more built in methods on your own after this\n",
    "\n",
    "`__str__` does the same thing we told `print_time()` to do. Swap out `print` for `return`. The difference is now `__str__` does some Python magic behind the scenes so we can call `print` on the class directly. "
   ]
  },
  {
   "cell_type": "code",
   "execution_count": 32,
   "metadata": {
    "ExecuteTime": {
     "end_time": "2016-11-15T15:59:52.357483",
     "start_time": "2016-11-15T15:59:52.332969"
    },
    "collapsed": false,
    "slideshow": {
     "slide_type": "slide"
    }
   },
   "outputs": [],
   "source": [
    "class Time():\n",
    "    def __init__(self, hour=0, minute=0, second=0):\n",
    "        self.hour = hour\n",
    "        self.minute = minute\n",
    "        self.second = second\n",
    "    \n",
    "    def __str__(self):\n",
    "        return '%.2d:%.2d:%.2d' % (self.hour, self.minute, self.second)\n",
    "        \n",
    "    def time_to_int(self):\n",
    "        '''Returns the current time in seconds'''\n",
    "        minutes = self.hour * 60 + self.minute\n",
    "        return minutes * 60 + self.second\n",
    "    \n",
    "    def int_to_time(self, seconds):\n",
    "        '''Resets the values for hour, minute and second to a new \n",
    "        value, given by a number of seconds\n",
    "        '''\n",
    "        self.hour, self.minute = divmod(seconds, 3600)\n",
    "        self.minute, self.second = divmod(self.minute, 60)\n",
    "    \n",
    "    def is_after(self, other):\n",
    "        '''Compares two time classes'''\n",
    "        if isinstance(other, Time):\n",
    "            return self.time_to_int() > other.time_to_int()"
   ]
  },
  {
   "cell_type": "code",
   "execution_count": 33,
   "metadata": {
    "ExecuteTime": {
     "end_time": "2016-11-15T15:59:53.145690",
     "start_time": "2016-11-15T15:59:53.138731"
    },
    "collapsed": false,
    "slideshow": {
     "slide_type": "slide"
    }
   },
   "outputs": [
    {
     "name": "stdout",
     "output_type": "stream",
     "text": [
      "09:15:00\n"
     ]
    }
   ],
   "source": [
    "morning = Time(9, 15, 0)\n",
    "print morning"
   ]
  },
  {
   "cell_type": "code",
   "execution_count": 34,
   "metadata": {
    "ExecuteTime": {
     "end_time": "2016-11-15T15:59:53.750242",
     "start_time": "2016-11-15T15:59:53.746496"
    },
    "collapsed": true,
    "slideshow": {
     "slide_type": "fragment"
    }
   },
   "outputs": [],
   "source": [
    "# Print afternoon\n",
    "\n"
   ]
  },
  {
   "cell_type": "markdown",
   "metadata": {
    "slideshow": {
     "slide_type": "slide"
    }
   },
   "source": [
    "#### Practice:\n",
    "Add a method called `increment(n)` below that increases the value of time by n seconds. "
   ]
  },
  {
   "cell_type": "code",
   "execution_count": 35,
   "metadata": {
    "ExecuteTime": {
     "end_time": "2016-11-15T15:59:54.886590",
     "start_time": "2016-11-15T15:59:54.858745"
    },
    "collapsed": true,
    "slideshow": {
     "slide_type": "slide"
    }
   },
   "outputs": [],
   "source": [
    "class Time():\n",
    "    def __init__(self, hour=0, minute=0, second=0):\n",
    "        self.hour = hour\n",
    "        self.minute = minute\n",
    "        self.second = second\n",
    "    \n",
    "    def __str__(self):\n",
    "        return '%.2d:%.2d:%.2d' % (self.hour, self.minute, self.second)\n",
    "        \n",
    "    def time_to_int(self):\n",
    "        '''Returns the current time in seconds'''\n",
    "        minutes = self.hour * 60 + self.minute\n",
    "        return minutes * 60 + self.second\n",
    "    \n",
    "    def int_to_time(self, seconds):\n",
    "        '''Resets the values for hour, minute and second to a new \n",
    "        value, given by a number of seconds\n",
    "        '''\n",
    "        self.hour, self.minute = divmod(seconds, 3600)\n",
    "        self.minute, self.second = divmod(self.minute, 60)\n",
    "    \n",
    "    def is_after(self, other):\n",
    "        '''Compares two time classes'''\n",
    "        if isinstance(other, Time):\n",
    "            return self.time_to_int() > other.time_to_int()\n",
    "        \n",
    "    # YOUR CODE HERE\n",
    "    def increment(self, n):\n",
    "        self.second += n\n",
    "        a = self.time_to_int()\n",
    "        self.int_to_time(a)"
   ]
  },
  {
   "cell_type": "markdown",
   "metadata": {
    "slideshow": {
     "slide_type": "slide"
    }
   },
   "source": [
    "Then, define an instance of time at 11:46pm. \n",
    "\n",
    "Write a for-loop to add one minute to the instance at a time. Print out the time at each point.\n",
    "\n",
    "When the clock reaches midnight, print \"Happy New Year\""
   ]
  },
  {
   "cell_type": "code",
   "execution_count": 36,
   "metadata": {
    "ExecuteTime": {
     "end_time": "2016-11-15T15:59:55.913002",
     "start_time": "2016-11-15T15:59:55.906895"
    },
    "collapsed": true
   },
   "outputs": [],
   "source": [
    "new_year = Time()\n",
    "new_year.hour = 23\n",
    "new_year.minute = 46"
   ]
  },
  {
   "cell_type": "code",
   "execution_count": 37,
   "metadata": {
    "ExecuteTime": {
     "end_time": "2016-11-15T15:59:56.391175",
     "start_time": "2016-11-15T15:59:56.385113"
    },
    "collapsed": false
   },
   "outputs": [
    {
     "name": "stdout",
     "output_type": "stream",
     "text": [
      "23:47:00\n"
     ]
    }
   ],
   "source": [
    "new_year.increment(60)\n",
    "print new_year"
   ]
  },
  {
   "cell_type": "code",
   "execution_count": 38,
   "metadata": {
    "ExecuteTime": {
     "end_time": "2016-11-15T15:59:57.184861",
     "start_time": "2016-11-15T15:59:57.179864"
    },
    "collapsed": false
   },
   "outputs": [],
   "source": [
    "a = new_year.time_to_int()\n",
    "new_year.int_to_time(a)"
   ]
  },
  {
   "cell_type": "code",
   "execution_count": 39,
   "metadata": {
    "ExecuteTime": {
     "end_time": "2016-11-15T15:59:57.919002",
     "start_time": "2016-11-15T15:59:57.912510"
    },
    "collapsed": false
   },
   "outputs": [
    {
     "name": "stdout",
     "output_type": "stream",
     "text": [
      "23:47:00\n"
     ]
    }
   ],
   "source": [
    "print new_year"
   ]
  },
  {
   "cell_type": "code",
   "execution_count": 40,
   "metadata": {
    "ExecuteTime": {
     "end_time": "2016-11-15T15:59:58.564458",
     "start_time": "2016-11-15T15:59:58.556194"
    },
    "collapsed": false
   },
   "outputs": [
    {
     "name": "stdout",
     "output_type": "stream",
     "text": [
      "23:48:00\n",
      "23:49:00\n",
      "23:50:00\n",
      "23:51:00\n",
      "23:52:00\n",
      "23:53:00\n",
      "23:54:00\n",
      "23:55:00\n",
      "23:56:00\n",
      "23:57:00\n",
      "23:58:00\n",
      "23:59:00\n",
      "Happy New Year\n",
      "24:00:00\n",
      "24:01:00\n"
     ]
    }
   ],
   "source": [
    "for i in range(14):\n",
    "    new_year.increment(60)\n",
    "    \n",
    "    if str(new_year) == '24:00:00':\n",
    "        print 'Happy New Year'\n",
    "    print new_year    "
   ]
  },
  {
   "cell_type": "markdown",
   "metadata": {
    "slideshow": {
     "slide_type": "slide"
    }
   },
   "source": [
    "# Classes calling classes\n",
    "In this example, we'll use classes to create a deck of cards. \n",
    "\n",
    "To do that, we'll start by creating a class called 'Card' so each card can be an instance of the same class. "
   ]
  },
  {
   "cell_type": "code",
   "execution_count": 41,
   "metadata": {
    "ExecuteTime": {
     "end_time": "2016-11-15T16:00:01.850657",
     "start_time": "2016-11-15T16:00:01.843318"
    },
    "collapsed": true,
    "slideshow": {
     "slide_type": "fragment"
    }
   },
   "outputs": [],
   "source": [
    "class Card():\n",
    "    '''A standard playing card'''\n",
    "    \n",
    "    def __init__(self, suit=0, rank=2):\n",
    "        self.suit = suit\n",
    "        self.rank = rank"
   ]
  },
  {
   "cell_type": "markdown",
   "metadata": {
    "slideshow": {
     "slide_type": "slide"
    }
   },
   "source": [
    "Imagine we have a lookup table for each suit and rank of a card:\n",
    "- Spade = 3\n",
    "- Hearts = 2\n",
    "- Diamonds = 1\n",
    "- Clubs = 0\n",
    "\n",
    "Create a single card like this:"
   ]
  },
  {
   "cell_type": "code",
   "execution_count": 42,
   "metadata": {
    "ExecuteTime": {
     "end_time": "2016-11-15T16:00:02.887719",
     "start_time": "2016-11-15T16:00:02.883226"
    },
    "collapsed": true,
    "slideshow": {
     "slide_type": "fragment"
    }
   },
   "outputs": [],
   "source": [
    "jack_of_hearts = Card(2, 11)"
   ]
  },
  {
   "cell_type": "code",
   "execution_count": 43,
   "metadata": {
    "ExecuteTime": {
     "end_time": "2016-11-15T16:00:03.302661",
     "start_time": "2016-11-15T16:00:03.297049"
    },
    "collapsed": true,
    "slideshow": {
     "slide_type": "fragment"
    }
   },
   "outputs": [],
   "source": [
    "# Create a card. Maybe the 10 of spades\n",
    "\n",
    "ten_of_spades = Card(3,10)"
   ]
  },
  {
   "cell_type": "markdown",
   "metadata": {
    "slideshow": {
     "slide_type": "slide"
    }
   },
   "source": [
    "Since we need to look up the suit and rank for each card, we can define it as a **`class attribute`** instead of an instance attribute.\n",
    "\n",
    "We'll also add in a `__str__` method to print out the card"
   ]
  },
  {
   "cell_type": "code",
   "execution_count": 44,
   "metadata": {
    "ExecuteTime": {
     "end_time": "2016-11-15T16:00:04.360744",
     "start_time": "2016-11-15T16:00:04.346513"
    },
    "collapsed": true,
    "slideshow": {
     "slide_type": "slide"
    }
   },
   "outputs": [],
   "source": [
    "class Card():\n",
    "    '''A standard playing card'''\n",
    "    \n",
    "    def __init__(self, suit=0, rank=2):\n",
    "        self.suit = suit\n",
    "        self.rank = rank\n",
    "        \n",
    "    suit_names = ['Clubs', 'Diamonds', 'Hearts', 'Spades']\n",
    "    rank_names = [None, 'Ace', '2', '3', '4', '5', '6', '7', '8', \\\n",
    "                 '9', '10', 'Jack', 'Queen', 'King']\n",
    "    \n",
    "    def __str__(self):\n",
    "        return \"%s of %s\" % (Card.rank_names[self.rank], \\\n",
    "                            Card.suit_names[self.suit])"
   ]
  },
  {
   "cell_type": "code",
   "execution_count": 45,
   "metadata": {
    "ExecuteTime": {
     "end_time": "2016-11-15T16:00:05.305159",
     "start_time": "2016-11-15T16:00:05.299093"
    },
    "collapsed": false,
    "slideshow": {
     "slide_type": "fragment"
    }
   },
   "outputs": [
    {
     "name": "stdout",
     "output_type": "stream",
     "text": [
      "None of Hearts\n"
     ]
    }
   ],
   "source": [
    "mystery_card = Card(2,0)\n",
    "print mystery_card"
   ]
  },
  {
   "cell_type": "code",
   "execution_count": 46,
   "metadata": {
    "ExecuteTime": {
     "end_time": "2016-11-15T16:00:05.897755",
     "start_time": "2016-11-15T16:00:05.891357"
    },
    "collapsed": false,
    "slideshow": {
     "slide_type": "slide"
    }
   },
   "outputs": [
    {
     "name": "stdout",
     "output_type": "stream",
     "text": [
      "Queen of Diamonds\n"
     ]
    }
   ],
   "source": [
    "# Define another card and print it\n",
    "\n",
    "c = Card(1, 12)\n",
    "print c"
   ]
  },
  {
   "cell_type": "markdown",
   "metadata": {
    "slideshow": {
     "slide_type": "slide"
    }
   },
   "source": [
    "Every card has its own suit and rank, but there is only one copy of the lists suit_names and rank_names. Notice how we define it without calling 'self'\n",
    "\n",
    "Let's add in one method to compare the rank of each card:"
   ]
  },
  {
   "cell_type": "code",
   "execution_count": 64,
   "metadata": {
    "ExecuteTime": {
     "end_time": "2016-11-15T16:36:38.113723",
     "start_time": "2016-11-15T16:36:38.085007"
    },
    "collapsed": true,
    "slideshow": {
     "slide_type": "slide"
    }
   },
   "outputs": [],
   "source": [
    "class Card():\n",
    "    '''A standard playing card'''\n",
    "    \n",
    "    def __init__(self, suit=0, rank=2):\n",
    "        self.suit = suit\n",
    "        self.rank = rank\n",
    "        \n",
    "    suit_names = ['Clubs', 'Diamonds', 'Hearts', 'Spades']\n",
    "    rank_names = [None, 'Ace', '2', '3', '4', '5', '6', '7', '8', \\\n",
    "                 '9', '10', 'Jack', 'Queen', 'King']\n",
    "    \n",
    "    def __str__(self):\n",
    "        return \"%s of %s\" % (Card.rank_names[self.rank], \\\n",
    "                            Card.suit_names[self.suit])\n",
    "    \n",
    "    def greater_than(self, other):\n",
    "        if other.rank == 1:\n",
    "            return False\n",
    "        else:\n",
    "            return self.rank > other.rank\n",
    "        \n",
    "    def is_equal(self, other):\n",
    "        if self.rank == other.rank:\n",
    "            return True\n",
    "        else:\n",
    "            return False\n",
    "            "
   ]
  },
  {
   "cell_type": "code",
   "execution_count": 48,
   "metadata": {
    "ExecuteTime": {
     "end_time": "2016-11-15T16:00:15.884543",
     "start_time": "2016-11-15T16:00:15.879551"
    },
    "collapsed": true
   },
   "outputs": [],
   "source": [
    "c = Card(1,12)\n",
    "d = Card(2,12)"
   ]
  },
  {
   "cell_type": "code",
   "execution_count": 49,
   "metadata": {
    "ExecuteTime": {
     "end_time": "2016-11-15T16:00:17.122284",
     "start_time": "2016-11-15T16:00:17.114888"
    },
    "collapsed": false
   },
   "outputs": [
    {
     "data": {
      "text/plain": [
       "False"
      ]
     },
     "execution_count": 49,
     "metadata": {},
     "output_type": "execute_result"
    }
   ],
   "source": [
    "c.greater_than(d)"
   ]
  },
  {
   "cell_type": "markdown",
   "metadata": {
    "slideshow": {
     "slide_type": "slide"
    }
   },
   "source": [
    "Now that we have a way to make cards, let's create a deck.\n",
    "\n",
    "Try doing this yourself before scrolling down to a solution below. Use a nested for loop to create 52 unique cards of each suit and rank. "
   ]
  },
  {
   "cell_type": "code",
   "execution_count": 50,
   "metadata": {
    "ExecuteTime": {
     "end_time": "2016-11-15T16:00:18.646725",
     "start_time": "2016-11-15T16:00:18.631793"
    },
    "collapsed": true,
    "slideshow": {
     "slide_type": "slide"
    }
   },
   "outputs": [],
   "source": [
    "class Deck():\n",
    "    '''52 unique cards. No jokers.'''\n",
    "    \n",
    "    def __init__(self):\n",
    "        self.cards = []\n",
    "        # YOUR CODE HERE\n",
    "        for suit in range(4):\n",
    "            for rank in range(1,14):\n",
    "                c = Card(suit, rank)\n",
    "                self.cards.append(c)\n",
    "                \n",
    "    def __str__(self):\n",
    "        results = []\n",
    "        for card in self.cards:\n",
    "            results.append(str(card))\n",
    "        return \"\\n\".join(results)\n",
    "        \n",
    "        "
   ]
  },
  {
   "cell_type": "code",
   "execution_count": 51,
   "metadata": {
    "ExecuteTime": {
     "end_time": "2016-11-15T16:00:19.654434",
     "start_time": "2016-11-15T16:00:19.643243"
    },
    "collapsed": false,
    "slideshow": {
     "slide_type": "fragment"
    }
   },
   "outputs": [
    {
     "name": "stdout",
     "output_type": "stream",
     "text": [
      "Ace of Clubs\n",
      "2 of Clubs\n",
      "3 of Clubs\n",
      "4 of Clubs\n",
      "5 of Clubs\n",
      "6 of Clubs\n",
      "7 of Clubs\n",
      "8 of Clubs\n",
      "9 of Clubs\n",
      "10 of Clubs\n",
      "Jack of Clubs\n",
      "Queen of Clubs\n",
      "King of Clubs\n",
      "Ace of Diamonds\n",
      "2 of Diamonds\n",
      "3 of Diamonds\n",
      "4 of Diamonds\n",
      "5 of Diamonds\n",
      "6 of Diamonds\n",
      "7 of Diamonds\n",
      "8 of Diamonds\n",
      "9 of Diamonds\n",
      "10 of Diamonds\n",
      "Jack of Diamonds\n",
      "Queen of Diamonds\n",
      "King of Diamonds\n",
      "Ace of Hearts\n",
      "2 of Hearts\n",
      "3 of Hearts\n",
      "4 of Hearts\n",
      "5 of Hearts\n",
      "6 of Hearts\n",
      "7 of Hearts\n",
      "8 of Hearts\n",
      "9 of Hearts\n",
      "10 of Hearts\n",
      "Jack of Hearts\n",
      "Queen of Hearts\n",
      "King of Hearts\n",
      "Ace of Spades\n",
      "2 of Spades\n",
      "3 of Spades\n",
      "4 of Spades\n",
      "5 of Spades\n",
      "6 of Spades\n",
      "7 of Spades\n",
      "8 of Spades\n",
      "9 of Spades\n",
      "10 of Spades\n",
      "Jack of Spades\n",
      "Queen of Spades\n",
      "King of Spades\n"
     ]
    }
   ],
   "source": [
    "# Your output should look like this:\n",
    "\n",
    "royal = Deck()\n",
    "for card in royal.cards:\n",
    "    print card"
   ]
  },
  {
   "cell_type": "markdown",
   "metadata": {
    "slideshow": {
     "slide_type": "slide"
    }
   },
   "source": [
    "\n",
    "Now, let's add in a __str__ method to print them out:"
   ]
  },
  {
   "cell_type": "code",
   "execution_count": 52,
   "metadata": {
    "ExecuteTime": {
     "end_time": "2016-11-15T16:00:21.856815",
     "start_time": "2016-11-15T16:00:21.842836"
    },
    "collapsed": true,
    "slideshow": {
     "slide_type": "slide"
    }
   },
   "outputs": [],
   "source": [
    "class Deck():\n",
    "    '''52 unique cards. No jokers.'''\n",
    "    \n",
    "    def __init__(self):\n",
    "        self.cards = []\n",
    "        for suit in range(4):\n",
    "            for rank in range(1,14):\n",
    "                card = Card(suit, rank)\n",
    "                self.cards.append(card)\n",
    "                \n",
    "    def __str__(self):\n",
    "        results = []\n",
    "        for card in self.cards:\n",
    "            results.append(str(card))\n",
    "        return '\\n'.join(results)"
   ]
  },
  {
   "cell_type": "code",
   "execution_count": 53,
   "metadata": {
    "ExecuteTime": {
     "end_time": "2016-11-15T16:00:22.450256",
     "start_time": "2016-11-15T16:00:22.443592"
    },
    "collapsed": false,
    "slideshow": {
     "slide_type": "slide"
    }
   },
   "outputs": [
    {
     "name": "stdout",
     "output_type": "stream",
     "text": [
      "Ace of Clubs\n",
      "2 of Clubs\n",
      "3 of Clubs\n",
      "4 of Clubs\n",
      "5 of Clubs\n",
      "6 of Clubs\n",
      "7 of Clubs\n",
      "8 of Clubs\n",
      "9 of Clubs\n",
      "10 of Clubs\n",
      "Jack of Clubs\n",
      "Queen of Clubs\n",
      "King of Clubs\n",
      "Ace of Diamonds\n",
      "2 of Diamonds\n",
      "3 of Diamonds\n",
      "4 of Diamonds\n",
      "5 of Diamonds\n",
      "6 of Diamonds\n",
      "7 of Diamonds\n",
      "8 of Diamonds\n",
      "9 of Diamonds\n",
      "10 of Diamonds\n",
      "Jack of Diamonds\n",
      "Queen of Diamonds\n",
      "King of Diamonds\n",
      "Ace of Hearts\n",
      "2 of Hearts\n",
      "3 of Hearts\n",
      "4 of Hearts\n",
      "5 of Hearts\n",
      "6 of Hearts\n",
      "7 of Hearts\n",
      "8 of Hearts\n",
      "9 of Hearts\n",
      "10 of Hearts\n",
      "Jack of Hearts\n",
      "Queen of Hearts\n",
      "King of Hearts\n",
      "Ace of Spades\n",
      "2 of Spades\n",
      "3 of Spades\n",
      "4 of Spades\n",
      "5 of Spades\n",
      "6 of Spades\n",
      "7 of Spades\n",
      "8 of Spades\n",
      "9 of Spades\n",
      "10 of Spades\n",
      "Jack of Spades\n",
      "Queen of Spades\n",
      "King of Spades\n"
     ]
    }
   ],
   "source": [
    "print Deck()"
   ]
  },
  {
   "cell_type": "markdown",
   "metadata": {
    "slideshow": {
     "slide_type": "slide"
    }
   },
   "source": [
    "Add in some methods that let you add cards, draw cards, shuffle and sort the deck:"
   ]
  },
  {
   "cell_type": "code",
   "execution_count": 54,
   "metadata": {
    "ExecuteTime": {
     "end_time": "2016-11-15T16:00:23.738506",
     "start_time": "2016-11-15T16:00:23.704817"
    },
    "collapsed": true,
    "slideshow": {
     "slide_type": "fragment"
    }
   },
   "outputs": [],
   "source": [
    "class Deck():\n",
    "    '''52 unique cards. No jokers.'''\n",
    "    \n",
    "    def __init__(self):\n",
    "        self.cards = []\n",
    "        for suit in range(4):\n",
    "            for rank in range(1,14):\n",
    "                card = Card(suit, rank)\n",
    "                self.cards.append(card)\n",
    "                \n",
    "    def __str__(self):\n",
    "        results = []\n",
    "        for card in self.cards:\n",
    "            results.append(str(card))\n",
    "        return '\\n'.join(results)\n",
    "    \n",
    "    def draw_card(self):\n",
    "        '''Draws a random card'''\n",
    "        import random\n",
    "        c = random.choice(self.cards)\n",
    "        self.cards.remove(c)\n",
    "        return c\n",
    "    \n",
    "    def add_card(self, card):\n",
    "        '''Puts a card object back in the deck'''\n",
    "        self.cards.append(card)            \n",
    "    \n",
    "    def shuffle(self):\n",
    "        '''Shuffles the deck'''\n",
    "        import random\n",
    "        random.shuffle(self.cards)\n",
    "        \n",
    "    def sort(self):\n",
    "        '''Sorts the deck'''\n",
    "        self.cards.sort()"
   ]
  },
  {
   "cell_type": "code",
   "execution_count": 55,
   "metadata": {
    "ExecuteTime": {
     "end_time": "2016-11-15T16:00:25.579457",
     "start_time": "2016-11-15T16:00:25.571761"
    },
    "collapsed": false,
    "slideshow": {
     "slide_type": "slide"
    }
   },
   "outputs": [
    {
     "name": "stdout",
     "output_type": "stream",
     "text": [
      "5 of Spades\n"
     ]
    }
   ],
   "source": [
    "royal = Deck()\n",
    "royal.shuffle()\n",
    "print royal.draw_card()"
   ]
  },
  {
   "cell_type": "markdown",
   "metadata": {
    "slideshow": {
     "slide_type": "slide"
    }
   },
   "source": [
    "## Inheritance\n",
    "One of the most useful things about classes is that you can create a new class that contains all the same methods as its parent class. For example, here's a new class called Hand:"
   ]
  },
  {
   "cell_type": "code",
   "execution_count": 56,
   "metadata": {
    "ExecuteTime": {
     "end_time": "2016-11-15T16:00:26.711497",
     "start_time": "2016-11-15T16:00:26.706254"
    },
    "collapsed": true,
    "slideshow": {
     "slide_type": "slide"
    }
   },
   "outputs": [],
   "source": [
    "class Hand(Deck):\n",
    "    '''Empty for now'''"
   ]
  },
  {
   "cell_type": "markdown",
   "metadata": {
    "slideshow": {
     "slide_type": "fragment"
    }
   },
   "source": [
    "Hand 'inherits' all the methods from Deck, and now contains all the same methods that Deck does:"
   ]
  },
  {
   "cell_type": "code",
   "execution_count": 57,
   "metadata": {
    "ExecuteTime": {
     "end_time": "2016-11-15T16:00:27.723963",
     "start_time": "2016-11-15T16:00:27.714583"
    },
    "collapsed": false,
    "slideshow": {
     "slide_type": "fragment"
    }
   },
   "outputs": [
    {
     "data": {
      "text/plain": [
       "['__doc__',\n",
       " '__init__',\n",
       " '__module__',\n",
       " '__str__',\n",
       " 'add_card',\n",
       " 'cards',\n",
       " 'draw_card',\n",
       " 'shuffle',\n",
       " 'sort']"
      ]
     },
     "execution_count": 57,
     "metadata": {},
     "output_type": "execute_result"
    }
   ],
   "source": [
    "dir(Hand())"
   ]
  },
  {
   "cell_type": "markdown",
   "metadata": {
    "slideshow": {
     "slide_type": "slide"
    }
   },
   "source": [
    "The difference is, we can overwrite the methods of the parent class with new methods. \n",
    "\n",
    "In this case we want to start with an empty hand:"
   ]
  },
  {
   "cell_type": "code",
   "execution_count": 58,
   "metadata": {
    "ExecuteTime": {
     "end_time": "2016-11-15T16:00:28.827121",
     "start_time": "2016-11-15T16:00:28.821844"
    },
    "collapsed": true,
    "slideshow": {
     "slide_type": "fragment"
    }
   },
   "outputs": [],
   "source": [
    "class Hand(Deck):\n",
    "    '''Empty for now'''\n",
    "    def __init__(self):\n",
    "        self.cards = []"
   ]
  },
  {
   "cell_type": "markdown",
   "metadata": {
    "slideshow": {
     "slide_type": "slide"
    }
   },
   "source": [
    "But since it has the same methods as Deck does, we can add and draw cards from it. \n",
    "\n",
    "Here, let's create a hand, draw a card from the deck, and put it in the hand:"
   ]
  },
  {
   "cell_type": "code",
   "execution_count": 59,
   "metadata": {
    "ExecuteTime": {
     "end_time": "2016-11-15T16:00:31.852843",
     "start_time": "2016-11-15T16:00:31.843900"
    },
    "collapsed": false,
    "slideshow": {
     "slide_type": "fragment"
    }
   },
   "outputs": [
    {
     "name": "stdout",
     "output_type": "stream",
     "text": [
      "7 of Hearts\n"
     ]
    }
   ],
   "source": [
    "deck = Deck()\n",
    "hand = Hand()\n",
    "\n",
    "card = deck.draw_card()\n",
    "hand.add_card(card)\n",
    "\n",
    "print hand"
   ]
  },
  {
   "cell_type": "markdown",
   "metadata": {
    "slideshow": {
     "slide_type": "slide"
    }
   },
   "source": [
    "Now, we can set up the basic mechanics of a game. \n",
    "\n",
    "### Practice:\n",
    "Define two hands and a deck. Deal five cards to each player. Print out both hands. "
   ]
  },
  {
   "cell_type": "code",
   "execution_count": 63,
   "metadata": {
    "ExecuteTime": {
     "end_time": "2016-11-15T16:08:14.217366",
     "start_time": "2016-11-15T16:08:14.202525"
    },
    "collapsed": false,
    "slideshow": {
     "slide_type": "fragment"
    }
   },
   "outputs": [
    {
     "name": "stdout",
     "output_type": "stream",
     "text": [
      "4 of Hearts\n",
      "9 of Diamonds\n",
      "10 of Clubs\n",
      "4 of Clubs\n",
      "5 of Hearts\n",
      "\n",
      "9 of Hearts\n",
      "Ace of Spades\n",
      "3 of Clubs\n",
      "5 of Spades\n",
      "King of Diamonds\n"
     ]
    }
   ],
   "source": [
    "hand1 = Hand()\n",
    "hand2 = Hand()\n",
    "\n",
    "deck = Deck()\n",
    "\n",
    "deck.\n",
    "\n",
    "for i in range(5):\n",
    "    card = deck.draw_card()\n",
    "    hand1.add_card(card)\n",
    "    card = deck.draw_card()\n",
    "    hand2.add_card(card)\n",
    "\n",
    "print hand1\n",
    "print\n",
    "print hand2\n",
    "\n",
    "\n"
   ]
  },
  {
   "cell_type": "markdown",
   "metadata": {
    "slideshow": {
     "slide_type": "slide"
    }
   },
   "source": [
    "## Group Activity: War\n",
    "As a class, let's build a class that builds on Card(), Deck() and Hand() to play the card game War.\n",
    "\n",
    "I put in a few empty methods. It's up to us to define the rest. "
   ]
  },
  {
   "cell_type": "code",
   "execution_count": 87,
   "metadata": {
    "ExecuteTime": {
     "end_time": "2016-11-15T16:58:09.345527",
     "start_time": "2016-11-15T16:58:09.302760"
    },
    "collapsed": true,
    "slideshow": {
     "slide_type": "slide"
    }
   },
   "outputs": [],
   "source": [
    "class War():\n",
    "    '''Would you like to play a game?'''\n",
    "    def __init__(self):\n",
    "        \n",
    "        self.newDeck = Deck()\n",
    "        self.newDeck.shuffle()\n",
    "        \n",
    "        self.handOne = Hand()\n",
    "        self.handTwo = Hand()\n",
    "        self.tableau = Hand()\n",
    "    \n",
    "    def deal(self):\n",
    "        \n",
    "        # deals 26 cards to each hand, randomly\n",
    "        \n",
    "        for i in range(26):\n",
    "            self.handOne.add_card(self.newDeck.draw_card())\n",
    "            self.handTwo.add_card(self.newDeck.draw_card())\n",
    "        return\n",
    "        \n",
    "    def turn(self):\n",
    "        \n",
    "        # each hand draws its top card\n",
    "        \n",
    "        self.cardOne = self.handOne.cards.pop(-1)\n",
    "        self.cardTwo = self.handTwo.cards.pop(-1)\n",
    "        \n",
    "        # check if cards are equal\n",
    "        # If true, go to war\n",
    "        # If false, then see which is greater\n",
    "        \n",
    "        if self.cardOne.is_equal(self.cardTwo):\n",
    "            # do war\n",
    "            # Draw top 3 cards\n",
    "            # Then draw 4th card and compare\n",
    "            # repeat or add the tableau to the winner's hand\n",
    "            self.message = 'War!'\n",
    "        else:\n",
    "            \n",
    "            if self.cardOne.greater_than(self.cardTwo):\n",
    "                # give cards to handOne\n",
    "                self.message = \"HandOne wins!\"\n",
    "            else:\n",
    "                # give cards to handTwo\n",
    "                self.message = 'HandTwo wins!'\n",
    "        \n",
    "        \n",
    "        return self.message"
   ]
  },
  {
   "cell_type": "code",
   "execution_count": 94,
   "metadata": {
    "ExecuteTime": {
     "end_time": "2016-11-15T16:58:17.848098",
     "start_time": "2016-11-15T16:58:17.836072"
    },
    "collapsed": false
   },
   "outputs": [
    {
     "data": {
      "text/plain": [
       "'HandOne wins!'"
      ]
     },
     "execution_count": 94,
     "metadata": {},
     "output_type": "execute_result"
    }
   ],
   "source": [
    "w= War()\n",
    "w.deal()\n",
    "w.turn()"
   ]
  },
  {
   "cell_type": "code",
   "execution_count": null,
   "metadata": {
    "collapsed": true
   },
   "outputs": [],
   "source": []
  },
  {
   "cell_type": "markdown",
   "metadata": {
    "slideshow": {
     "slide_type": "slide"
    }
   },
   "source": [
    "## Interlude: SKlearn\n",
    "You've seen classes before. Think about what happens when you import and fit a model in sklearn. Which of the following are classes, which are methods, and which are attribute variables?\n",
    "- sklearn.linear_model.LinearRegression\n",
    "- LinearRegression.fit()\n",
    "- LinearRegression.predict()\n",
    "- LinearRegression.score()\n",
    "- LinearRegression.coef`_`\n",
    "- LinearRegression.intercept`_`\n",
    "\n",
    "Can you guess if any of these are inherited classes? You can always look at the source code to see for yourself. Just be careful not to delete anything. \n"
   ]
  },
  {
   "cell_type": "code",
   "execution_count": null,
   "metadata": {
    "collapsed": true,
    "slideshow": {
     "slide_type": "fragment"
    }
   },
   "outputs": [],
   "source": [
    "class War(Deck):\n",
    "    '''Would you like to play a game?'''\n",
    "    def __init__(self):\n",
    "        self.cards=Deck()\n",
    "        self.cards.shuffle()\n",
    "    def deal(self):\n",
    "        player1=Hand()\n",
    "        p1old=Hand()\n",
    "        player2=Hand()\n",
    "        p2old=Hand()\n",
    "        while len(self.cards.cards)>1:\n",
    "            player1.add_card(self.cards.draw_card())\n",
    "            player2.add_card(self.cards.draw_card())\n",
    "        return player1,player2,p1old,p2old\n",
    "    def turn(self,player1,player2,p1old,p2old):\n",
    "        \n",
    "    ### ENDS GAME IF CONDITIONS MET\n",
    "        if (len(player1.cards)+len(p1old.cards))<1:\n",
    "#             \"Game Over, player 2 won\"\n",
    "            return 2\n",
    "        elif (len(player2.cards)+len(p2old.cards))<1:\n",
    "#             \"Game Over, player 1 won\"\n",
    "            return 1\n",
    "        \n",
    "    ### CHECKS REMAINING CARDS; RESHUFFLES GRAVEYARD DECK IF NECESSARY\n",
    "        else:\n",
    "            if len(player1.cards)==0:\n",
    "                p1old.shuffle()\n",
    "                temp_range=range(len(p1old.cards))\n",
    "                for card in temp_range:\n",
    "                    player1.add_card(p1old.draw_card())\n",
    "            if len(player2.cards)==0:\n",
    "                p2old.shuffle()\n",
    "                temp_range=range(len(p2old.cards))\n",
    "                for card in temp_range:\n",
    "                    player2.add_card(p2old.draw_card())\n",
    "    ### STARTS TURN\n",
    "            card_p1=player1.draw_card()\n",
    "#             print \"Player 1's Card: \",card_p1\n",
    "            card_p2=player2.draw_card()\n",
    "#             print \"Player 2's Card: \",card_p2\n",
    "            if card_p1.greater_than(card_p2):\n",
    "                p1old.add_card(card_p1)\n",
    "                p1old.add_card(card_p2)\n",
    "                return 0\n",
    "            elif card_p2.greater_than(card_p1):\n",
    "                p2old.add_card(card_p1)\n",
    "                p2old.add_card(card_p2)\n",
    "                return 0\n",
    "            \n",
    "    ### IF THERE IS A DUEL\n",
    "            else:\n",
    "            ### CREATES A \"HAND\" TO HOLD THE CENTER CARDS\n",
    "#                 print \"Duel\"\n",
    "                hold_cards=Hand()\n",
    "                hold_cards.add_card(card_p1)\n",
    "                hold_cards.add_card(card_p2)\n",
    "                state=True\n",
    "                while state:\n",
    "            ### CHECKS CARD REQUIREMENTS\n",
    "                    if (len(player1.cards)+len(p1old.cards))<1:\n",
    "#                         \"Game Over, player 2 won\"\n",
    "                        return player1,player2,p1old,p2old,2\n",
    "                    elif (len(player2.cards)+len(p2old.cards))<1:\n",
    "#                         \"Game Over, player 1 won\"\n",
    "                        return player1,player2,p1old,p2old,1\n",
    "                    if (len(player1.cards)<4)&(len(p1old.cards)>0):\n",
    "                        p1old.shuffle()\n",
    "                        temp_range=range(len(p1old.cards))\n",
    "                        for card in temp_range:\n",
    "                            player1.add_card(p1old.draw_card())\n",
    "                    if (len(player2.cards)<4)&(len(p2old.cards)>0):\n",
    "                        p2old.shuffle()\n",
    "                        temp_range=range(len(p2old.cards))\n",
    "                        for card in temp_range:\n",
    "                            player2.add_card(p2old.draw_card())\n",
    "            ### IF REQUIREMENTS ARE FINE, DRAWS APPROPRIATE NUMBER OF CARDS\n",
    "                    if len(player1.cards)>1 and len(player2.cards)>1:\n",
    "                        if len(player1.cards)<4 or len(player2.cards)<4:\n",
    "                            while len(player1.cards)>1 and len(player2.cards)>1:\n",
    "                                hold_cards.add_card(player1.draw_card())\n",
    "                                hold_cards.add_card(player2.draw_card())\n",
    "                        else: \n",
    "                            for thing in range(3):\n",
    "                                hold_cards.add_card(player1.draw_card())\n",
    "                                hold_cards.add_card(player2.draw_card())\n",
    "                    card_p1=player1.draw_card()\n",
    "                    card_p2=player2.draw_card()\n",
    "            ### PRINT CARDS IN HOLD \n",
    "#                     print \"Cards up for Grabs:\"\n",
    "#                     temp_range=range(len(hold_cards.cards))\n",
    "#                     for card in temp_range:\n",
    "#                         print hold_cards.cards[card]\n",
    "                        \n",
    "            ### DECISION AREA\n",
    "                    if card_p1.greater_than(card_p2):\n",
    "                        if (len(player2.cards)+len(p2old.cards))<1:\n",
    "#                             print \"Game Over, player 1 won\"\n",
    "                            return 1\n",
    "#                         print \"Player 1's Card: \",card_p1\n",
    "#                         print \"Player 2's Card: \",card_p2\n",
    "                        p1old.add_card(card_p1)\n",
    "                        p1old.add_card(card_p2)\n",
    "                        temp_range=range(len(hold_cards.cards))\n",
    "                        for card in temp_range:\n",
    "                            p1old.add_card(hold_cards.draw_card())\n",
    "                        state=False\n",
    "                        return 0\n",
    "                    elif card_p2.greater_than(card_p1):\n",
    "                        if (len(player1.cards)+len(p1old.cards))<1:\n",
    "#                             print \"Game Over, player 2 won\"\n",
    "                            return 2\n",
    "#                         print \"Player 1's Card: \",card_p1\n",
    "#                         print \"Player 2's Card: \",card_p2\n",
    "                        p2old.add_card(card_p1)\n",
    "                        p2old.add_card(card_p2)\n",
    "                        temp_range=range(len(hold_cards.cards))\n",
    "                        for card in temp_range:\n",
    "                            p2old.add_card(hold_cards.draw_card())\n",
    "                        state=False\n",
    "                        return 0\n",
    "                    else: \n",
    "                        hold_cards.add_card(card_p1)\n",
    "                        hold_cards.add_card(card_p2)"
   ]
  },
  {
   "cell_type": "code",
   "execution_count": null,
   "metadata": {
    "collapsed": true
   },
   "outputs": [],
   "source": [
    "import matplotlib.pyplot as plt\n",
    "import seaborn as sns\n",
    "%matplotlib inline\n",
    "l=[]\n",
    "turns_l=[]\n",
    "for thing in range(2000):\n",
    "    turns=0\n",
    "    deck=War()\n",
    "    p1,p2,p1o,p2o=deck.deal()\n",
    "\n",
    "    state=True\n",
    "    while state:\n",
    "        winner=deck.turn(p1,p2,p1o,p2o)\n",
    "#         print \"P1 Size:\",(len(p1.cards)+len(p1o.cards))\n",
    "#         print \"P2 Size:\",(len(p2.cards)+len(p2o.cards))\n",
    "        turns+=1\n",
    "        if winner>0:\n",
    "            turns_l.append(turns)\n",
    "            state=False\n",
    "    l.append(winner)\n",
    "plt.hist(turns_l)\n",
    "plt.title(\"Number of Trials\")\n",
    "plt.show()\n",
    "sns.barplot(range(1,3),[l.count(1),l.count(2)])\n",
    "plt.title(\"Winners\")\n",
    "plt.show()"
   ]
  },
  {
   "cell_type": "markdown",
   "metadata": {
    "slideshow": {
     "slide_type": "slide"
    }
   },
   "source": [
    "## Pair Program: Go Fish\n",
    "Find a partner and write a game class that plays Go Fish against a computer. \n",
    "\n",
    "Here are the [rules](http://www.dltk-kids.com/games/go-fish.htm) if you need a refresher.\n",
    "\n",
    "Remember to think about:\n",
    "- How you'll deal cards\n",
    "- What it means to win a game\n",
    "- How to check if the game has been won or lost\n",
    "- What happens during each turn\n"
   ]
  },
  {
   "cell_type": "code",
   "execution_count": null,
   "metadata": {
    "collapsed": true
   },
   "outputs": [],
   "source": []
  },
  {
   "cell_type": "code",
   "execution_count": null,
   "metadata": {
    "collapsed": true
   },
   "outputs": [],
   "source": []
  },
  {
   "cell_type": "code",
   "execution_count": null,
   "metadata": {
    "collapsed": true
   },
   "outputs": [],
   "source": []
  },
  {
   "cell_type": "markdown",
   "metadata": {
    "slideshow": {
     "slide_type": "skip"
    }
   },
   "source": [
    "## Further reading\n",
    "\n",
    "Adapted from *Think Python* (Allen Dowley, 2015), chapters 17 + 18\n",
    "http://greenteapress.com/thinkpython2/thinkpython2.pdf\n",
    "\n",
    "Python documentation on classes: https://docs.python.org/2/tutorial/classes.html"
   ]
  }
 ],
 "metadata": {
  "anaconda-cloud": {},
  "celltoolbar": "Slideshow",
  "kernelspec": {
   "display_name": "Python [Root]",
   "language": "python",
   "name": "Python [Root]"
  },
  "language_info": {
   "codemirror_mode": {
    "name": "ipython",
    "version": 2
   },
   "file_extension": ".py",
   "mimetype": "text/x-python",
   "name": "python",
   "nbconvert_exporter": "python",
   "pygments_lexer": "ipython2",
   "version": "2.7.12"
  },
  "toc": {
   "nav_menu": {
    "height": "347px",
    "width": "252px"
   },
   "navigate_menu": true,
   "number_sections": true,
   "sideBar": true,
   "threshold": 4,
   "toc_cell": false,
   "toc_section_display": "block",
   "toc_window_display": false
  }
 },
 "nbformat": 4,
 "nbformat_minor": 0
}
