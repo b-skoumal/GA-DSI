{
 "cells": [
  {
   "cell_type": "code",
   "execution_count": 47,
   "metadata": {
    "collapsed": true
   },
   "outputs": [],
   "source": [
    "def calculate_distance(p, q):\n",
    "    \"\"\" Calculate Euclidean distance between two points.\"\"\"\n",
    "    # Assuming p and q are tuples of (x,y)\n",
    "    \n",
    "    distance = np.sqrt(((p[0] - q[0]) ** 2) + ((p[1] - q[1]) ** 2))\n",
    "    \n",
    "    return distance"
   ]
  },
  {
   "cell_type": "code",
   "execution_count": 48,
   "metadata": {
    "collapsed": true
   },
   "outputs": [],
   "source": [
    "def neighbor_vote(labels):\n",
    "    \"\"\" Get the majority label from k neighbors.\"\"\"\n",
    "    # Is it possible to have a tie? How would you handle that?\n",
    "    vote = labels.value_counts().idxmax()\n",
    "    # If tie, take first that appears\n",
    "    return vote"
   ]
  },
  {
   "cell_type": "code",
   "execution_count": 49,
   "metadata": {
    "collapsed": false
   },
   "outputs": [
    {
     "name": "stdout",
     "output_type": "stream",
     "text": [
      "5    6\n",
      "dtype: int64\n"
     ]
    }
   ],
   "source": [
    "a = pd.Series([1,2,3,4,5,6])\n",
    "a.sort_values(ascending = False, inplace = True)\n",
    "print a.head(1)"
   ]
  },
  {
   "cell_type": "code",
   "execution_count": 52,
   "metadata": {
    "collapsed": true
   },
   "outputs": [],
   "source": [
    "def knn_classifier(Xt, yt, new_point, k):\n",
    "    \"\"\" Given classified points and one new point, return a prediction based on the votes of k neighbors.\"\"\"\n",
    "    \n",
    "    llist = []\n",
    "    \n",
    "    for i in Xt:\n",
    "        dist = calculate_distance(i, new_point)\n",
    "        llist.append(dist)\n",
    "    \n",
    "    listpd = pd.concat([pd.Series(yt), pd.Series(llist)], axis = 1)\n",
    "    listpd.columns = ['label', 'dist']\n",
    "    listpd.sort_values('dist', inplace = True)\n",
    "    listpd = listpd.head(k)\n",
    "    prediction = neighbor_vote(listpd['label'])\n",
    "    \n",
    "    return prediction"
   ]
  },
  {
   "cell_type": "code",
   "execution_count": 1,
   "metadata": {
    "collapsed": false
   },
   "outputs": [
    {
     "name": "stderr",
     "output_type": "stream",
     "text": [
      "//anaconda/lib/python2.7/site-packages/sklearn/cross_validation.py:44: DeprecationWarning: This module was deprecated in version 0.18 in favor of the model_selection module into which all the refactored classes and functions are moved. Also note that the interface of the new CV iterators are different from that of this module. This module will be removed in 0.20.\n",
      "  \"This module will be removed in 0.20.\", DeprecationWarning)\n"
     ]
    }
   ],
   "source": [
    "from sklearn import datasets\n",
    "import pandas as pd\n",
    "import numpy as np\n",
    "from sklearn.cross_validation import train_test_split\n",
    "\n",
    "# import data\n",
    "iris = datasets.load_iris()\n",
    "X = iris.data[:100, :2]  # use the first two features and just the first two classes.\n",
    "y = iris.target[:100]\n",
    "X_train, X_test, y_train, y_test = train_test_split(X, y, test_size=0.30, random_state=42)\n",
    "\n",
    "# Split 70/30 into initial data and new points to classify\n",
    "training_df = pd.DataFrame({'feature1':X_train[:,0],'feature2':X_train[:,1],'class':y_train})\n",
    "test_df = pd.DataFrame({'feature1':X_test[:,0],'feature2':X_test[:,1],'class':y_test})"
   ]
  },
  {
   "cell_type": "code",
   "execution_count": 53,
   "metadata": {
    "collapsed": false
   },
   "outputs": [
    {
     "data": {
      "text/plain": [
       "0"
      ]
     },
     "execution_count": 53,
     "metadata": {},
     "output_type": "execute_result"
    }
   ],
   "source": [
    "new_pt = [4,4]\n",
    "\n",
    "knn_classifier(X_train, y_train, new_pt, 3)"
   ]
  },
  {
   "cell_type": "code",
   "execution_count": 34,
   "metadata": {
    "collapsed": false
   },
   "outputs": [
    {
     "data": {
      "text/plain": [
       "array([[ 4.8,  3.4],\n",
       "       [ 4.6,  3.2],\n",
       "       [ 6. ,  3.4],\n",
       "       [ 5.2,  3.4],\n",
       "       [ 5. ,  2.3],\n",
       "       [ 5.4,  3.9],\n",
       "       [ 5.6,  3. ],\n",
       "       [ 6.7,  3.1],\n",
       "       [ 5. ,  3.2],\n",
       "       [ 5.4,  3.9],\n",
       "       [ 5. ,  3.3],\n",
       "       [ 4.9,  3.1],\n",
       "       [ 5. ,  3.4],\n",
       "       [ 5.7,  3. ],\n",
       "       [ 5.2,  3.5],\n",
       "       [ 5.1,  3.8],\n",
       "       [ 5.5,  2.4],\n",
       "       [ 5. ,  3. ],\n",
       "       [ 6. ,  2.2],\n",
       "       [ 4.3,  3. ],\n",
       "       [ 4.8,  3.4],\n",
       "       [ 4.6,  3.1],\n",
       "       [ 5.1,  3.5],\n",
       "       [ 4.4,  3. ],\n",
       "       [ 4.4,  2.9],\n",
       "       [ 6. ,  2.9],\n",
       "       [ 4.6,  3.4],\n",
       "       [ 5.6,  2.9],\n",
       "       [ 5.5,  3.5],\n",
       "       [ 5.5,  2.5],\n",
       "       [ 6.3,  3.3],\n",
       "       [ 5.7,  2.8],\n",
       "       [ 6.5,  2.8],\n",
       "       [ 5. ,  3.5],\n",
       "       [ 7. ,  3.2],\n",
       "       [ 5.8,  2.7],\n",
       "       [ 5.1,  3.8],\n",
       "       [ 6.2,  2.2],\n",
       "       [ 5.9,  3. ],\n",
       "       [ 6.2,  2.9],\n",
       "       [ 5.7,  2.6],\n",
       "       [ 4.5,  2.3],\n",
       "       [ 6.6,  2.9],\n",
       "       [ 5.3,  3.7],\n",
       "       [ 5.1,  2.5],\n",
       "       [ 4.9,  2.4],\n",
       "       [ 6.6,  3. ],\n",
       "       [ 5.2,  4.1],\n",
       "       [ 5.6,  2.7],\n",
       "       [ 5.2,  2.7],\n",
       "       [ 6.1,  2.9],\n",
       "       [ 5.4,  3. ],\n",
       "       [ 4.9,  3.1],\n",
       "       [ 4.7,  3.2],\n",
       "       [ 4.9,  3. ],\n",
       "       [ 6.9,  3.1],\n",
       "       [ 5.1,  3.7],\n",
       "       [ 4.7,  3.2],\n",
       "       [ 5.1,  3.3],\n",
       "       [ 6.3,  2.3],\n",
       "       [ 6.1,  3. ],\n",
       "       [ 6.4,  2.9],\n",
       "       [ 6.7,  3.1],\n",
       "       [ 5.8,  2.7],\n",
       "       [ 5.4,  3.4],\n",
       "       [ 5. ,  2. ],\n",
       "       [ 6.1,  2.8],\n",
       "       [ 5.8,  4. ],\n",
       "       [ 5.8,  2.6],\n",
       "       [ 6.4,  3.2]])"
      ]
     },
     "execution_count": 34,
     "metadata": {},
     "output_type": "execute_result"
    }
   ],
   "source": [
    "X_train"
   ]
  },
  {
   "cell_type": "code",
   "execution_count": 43,
   "metadata": {
    "collapsed": false
   },
   "outputs": [
    {
     "name": "stdout",
     "output_type": "stream",
     "text": [
      "70 70\n"
     ]
    },
    {
     "data": {
      "text/html": [
       "<div>\n",
       "<table border=\"1\" class=\"dataframe\">\n",
       "  <thead>\n",
       "    <tr style=\"text-align: right;\">\n",
       "      <th></th>\n",
       "      <th>0</th>\n",
       "      <th>0</th>\n",
       "      <th>1</th>\n",
       "    </tr>\n",
       "  </thead>\n",
       "  <tbody>\n",
       "    <tr>\n",
       "      <th>0</th>\n",
       "      <td>0</td>\n",
       "      <td>4.8</td>\n",
       "      <td>3.4</td>\n",
       "    </tr>\n",
       "    <tr>\n",
       "      <th>1</th>\n",
       "      <td>0</td>\n",
       "      <td>4.6</td>\n",
       "      <td>3.2</td>\n",
       "    </tr>\n",
       "    <tr>\n",
       "      <th>2</th>\n",
       "      <td>1</td>\n",
       "      <td>6.0</td>\n",
       "      <td>3.4</td>\n",
       "    </tr>\n",
       "    <tr>\n",
       "      <th>3</th>\n",
       "      <td>0</td>\n",
       "      <td>5.2</td>\n",
       "      <td>3.4</td>\n",
       "    </tr>\n",
       "    <tr>\n",
       "      <th>4</th>\n",
       "      <td>1</td>\n",
       "      <td>5.0</td>\n",
       "      <td>2.3</td>\n",
       "    </tr>\n",
       "  </tbody>\n",
       "</table>\n",
       "</div>"
      ],
      "text/plain": [
       "   0    0    1\n",
       "0  0  4.8  3.4\n",
       "1  0  4.6  3.2\n",
       "2  1  6.0  3.4\n",
       "3  0  5.2  3.4\n",
       "4  1  5.0  2.3"
      ]
     },
     "execution_count": 43,
     "metadata": {},
     "output_type": "execute_result"
    }
   ],
   "source": [
    "a = pd.DataFrame(y_train)\n",
    "b = pd.DataFrame(X_train)\n",
    "\n",
    "print len(a), len(b)\n",
    "c = pd.concat([a,b], axis = 1)\n",
    "c.head()"
   ]
  },
  {
   "cell_type": "code",
   "execution_count": null,
   "metadata": {
    "collapsed": true
   },
   "outputs": [],
   "source": [
    "\"\"\" Iteratively classify new points in test_df, based on the labeled points in training_df, and track your accuracy.\"\"\""
   ]
  },
  {
   "cell_type": "code",
   "execution_count": null,
   "metadata": {
    "collapsed": true
   },
   "outputs": [],
   "source": [
    "\"\"\" BONUS: plot the labeled points and an example of a new point being classified.\"\"\""
   ]
  }
 ],
 "metadata": {
  "kernelspec": {
   "display_name": "Python [Root]",
   "language": "python",
   "name": "Python [Root]"
  },
  "language_info": {
   "codemirror_mode": {
    "name": "ipython",
    "version": 2
   },
   "file_extension": ".py",
   "mimetype": "text/x-python",
   "name": "python",
   "nbconvert_exporter": "python",
   "pygments_lexer": "ipython2",
   "version": "2.7.12"
  }
 },
 "nbformat": 4,
 "nbformat_minor": 0
}
