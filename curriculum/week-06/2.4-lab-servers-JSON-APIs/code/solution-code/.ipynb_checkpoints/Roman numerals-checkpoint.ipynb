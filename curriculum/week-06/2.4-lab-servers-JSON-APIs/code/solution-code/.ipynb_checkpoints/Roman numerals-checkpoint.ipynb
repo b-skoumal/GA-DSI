{
 "cells": [
  {
   "cell_type": "markdown",
   "metadata": {},
   "source": [
    "# Rules\n",
    "\n",
    "4 = 5-1\n",
    "9 = 10 -1\n"
   ]
  },
  {
   "cell_type": "code",
   "execution_count": 1,
   "metadata": {
    "collapsed": true
   },
   "outputs": [],
   "source": [
    "def split_num(x):\n",
    "    return [str(x).split()]\n",
    "    "
   ]
  },
  {
   "cell_type": "code",
   "execution_count": 2,
   "metadata": {
    "collapsed": false
   },
   "outputs": [
    {
     "data": {
      "text/plain": [
       "[['999']]"
      ]
     },
     "execution_count": 2,
     "metadata": {},
     "output_type": "execute_result"
    }
   ],
   "source": [
    "split_num(999)"
   ]
  },
  {
   "cell_type": "code",
   "execution_count": 42,
   "metadata": {
    "collapsed": false
   },
   "outputs": [
    {
     "name": "stdout",
     "output_type": "stream",
     "text": [
      "What is the number? 23\n",
      "Raw number is 23.\n",
      "Roman equivalent is XXIII\n"
     ]
    }
   ],
   "source": [
    "# n is a single digit\n",
    "\n",
    "rom_dict = {'o':[\"I\", 'V', 'X'], 't':[\"X\", 'L', 'C'], 'h':[\"C\", 'D', 'M']}\n",
    "\n",
    "def conv_digit(n, oth):\n",
    "    \n",
    "    n = int(n)\n",
    "    \n",
    "    if n < 4:\n",
    "        return rom_dict[oth][0] * n\n",
    "    \n",
    "    elif n == 4:\n",
    "        return rom_dict[oth][0] + rom_dict[oth][1]\n",
    "        \n",
    "    elif n >= 5 and n <9:\n",
    "        return rom_dict[oth][1] + rom_dict[oth][0]*(n-5)\n",
    "    \n",
    "    elif n == 9:\n",
    "        return rom_dict[oth][0] + rom_dict[oth][2]\n",
    "\n",
    "def get_rom_num(num):\n",
    "    \n",
    "    try:\n",
    "        \n",
    "        int(num)\n",
    "    except:\n",
    "        return \"Need integers!\"\n",
    "    \n",
    "    huns = ''\n",
    "    tens = ''\n",
    "    ones = ''\n",
    "\n",
    "    if int(num) > 1000 or int(num) < 0:\n",
    "        return \"Don't be funny!\"\n",
    "\n",
    "    elif int(num) == 0:\n",
    "        return \"Romans didn't have zeros!! Sad...\"\n",
    "\n",
    "    elif len(num) == 4:\n",
    "        return \"M\"\n",
    "\n",
    "    elif len(num) == 3:\n",
    "\n",
    "        huns = conv_digit(num[0], 'h')\n",
    "        tens = conv_digit(num[1], 't')\n",
    "        ones = conv_digit(num[2], 'o')\n",
    "\n",
    "    elif len(num) == 2:\n",
    "\n",
    "        tens = conv_digit(num[0], 't')\n",
    "        ones = conv_digit(num[1], 'o')\n",
    "\n",
    "    elif len(num) == 1:\n",
    "\n",
    "        ones = conv_digit(num[0], 'o')\n",
    "\n",
    "    return huns+tens+ones\n",
    "\n",
    "num = raw_input(\"What is the number? \")\n",
    "print \"Raw number is %s.\" % num\n",
    "print \"Roman equivalent is\", get_rom_num(num)"
   ]
  }
 ],
 "metadata": {
  "kernelspec": {
   "display_name": "Python [Root]",
   "language": "python",
   "name": "Python [Root]"
  },
  "language_info": {
   "codemirror_mode": {
    "name": "ipython",
    "version": 2
   },
   "file_extension": ".py",
   "mimetype": "text/x-python",
   "name": "python",
   "nbconvert_exporter": "python",
   "pygments_lexer": "ipython2",
   "version": "2.7.12"
  }
 },
 "nbformat": 4,
 "nbformat_minor": 0
}
