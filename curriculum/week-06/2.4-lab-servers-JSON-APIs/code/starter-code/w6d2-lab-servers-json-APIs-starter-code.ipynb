{
 "cells": [
  {
   "cell_type": "markdown",
   "metadata": {},
   "source": [
    "# APIs Lab\n",
    "In this lab we will practice using APIs to retrieve and store data."
   ]
  },
  {
   "cell_type": "code",
   "execution_count": 8,
   "metadata": {
    "collapsed": false
   },
   "outputs": [],
   "source": [
    "# Imports at the top\n",
    "import json\n",
    "import urllib\n",
    "import pandas as pd\n",
    "import numpy as np\n",
    "import requests\n",
    "import json\n",
    "import re\n",
    "import matplotlib.pyplot as plt\n",
    "%matplotlib inline"
   ]
  },
  {
   "cell_type": "markdown",
   "metadata": {},
   "source": [
    "## Exercise 1: Get Data From Sheetsu\n",
    "\n",
    "[Sheetsu](https://sheetsu.com/) is an online service that allows you to access any Google spreadsheet from an API. This can be a very handy way to share a dataset with colleagues as well as to create a mini centralized data storage, that is simpler to edit than a database.\n",
    "\n",
    "A Google Spreadsheet with wine data can be found [here](https://docs.google.com/a/generalassemb.ly/spreadsheets/d/1JWRwDnwIMLgvPqNMdJLmAJgzvz0K3zAUc6jev3ci1c8/edit?usp=sharing).\n",
    "\n",
    "You can access it through the Sheetsu API at this endpoint: https://sheetsu.com/apis/v1.0/cc9420722ae4. [Here](https://sheetsu.com/docs/beta) is Sheetsu's documentation.\n",
    "\n",
    "\n",
    "Questions:\n",
    "\n",
    "1. Use the requests library to access the document. Inspect the response text. What kind of data is it?\n",
    "2. Check the status code of the response object. What code is it?\n",
    "3. Use the appropriate libraries and read functions to read the response into a Pandas Dataframe\n",
    "4. Once you've imported the data into a dataframe, check the value of the 5th line: what's the price?"
   ]
  },
  {
   "cell_type": "code",
   "execution_count": 11,
   "metadata": {
    "collapsed": false
   },
   "outputs": [],
   "source": [
    "url = 'https://sheetsu.com/apis/v1.0/cc9420722ae4'\n",
    "\n",
    "response = requests.get(url)"
   ]
  },
  {
   "cell_type": "code",
   "execution_count": 12,
   "metadata": {
    "collapsed": false
   },
   "outputs": [
    {
     "name": "stdout",
     "output_type": "stream",
     "text": [
      "[{\"Color\":\"W\",\"Region\":\"Portugal\",\"Country\":\"Portugal\",\"Vintage\":\"2013\",\"Vinyard\":\"Vinho Verde\",\"Name\":\"\",\"Grape\":\"\",\"Consumed In\":\"2015\",\"Score\":\"4\",\"Price\":\"\"},{\"Color\":\"W\",\"Region\":\"France\",\"Country\":\"France\",\"Vintage\":\"2013\",\"Vinyard\":\"Peyruchet\",\"Name\":\"\",\"Grape\":\"\",\"Consumed In\":\"2015\",\"Score\":\"3\",\"Price\":\"17.8\"},{\"Color\":\"W\",\"Region\":\"Oregon\",\"Country\":\"Oregon\",\"Vintage\":\"2013\",\"Vinyard\":\"Abacela\",\"Name\":\"\",\"Grape\":\"\",\"Consumed In\":\"2015\",\"Score\":\"3\",\"Price\":\"20\"},{\"Color\":\"W\",\"Region\":\"Spain\",\"Country\":\"Spain\",\"Vintage\":\"2012\",\"Vinyard\":\"Ochoa\",\"Name\":\"\",\"Grape\":\"chardonay\",\"Consumed In\":\"2015\",\"Score\":\"2.5\",\"Price\":\"7\"},{\"Color\":\"R\",\"Region\":\"\",\"Country\":\"US\",\"Vintage\":\"2012\",\"Vinyard\":\"Heartland\",\"Name\":\"Spice Trader\",\"Grape\":\"chiraz, cab\",\"Consumed In\":\"2015\",\"Score\":\"3\",\"Price\":\"6\"},{\"Color\":\"R\",\"Region\":\"California\",\"Country\":\"US\",\"Vintage\":\"2012\",\"Vinyard\":\"Crow Canyon\",\"Name\":\"\",\"Grape\":\"cab\",\"Consumed In\":\"2015\",\"Score\":\"3.5\",\"Price\":\"13\"},{\"Color\":\"R\",\"Region\":\"Oregon\",\"Country\":\"US\",\"Vintage\":\"2013\",\"Vinyard\":\"Abacela\",\"Name\":\"#14\",\"Grape\":\"\",\"Consumed In\":\"2015\",\"Score\":\"2.5\",\"Price\":\"21\"},{\"Color\":\"R\",\"Region\":\"Bordeaux\",\"Country\":\"France\",\"Vintage\":\"2012\",\"Vinyard\":\"David Beaulieu\",\"Name\":\"\",\"Grape\":\"merlot, cab\",\"Consumed In\":\"2015\",\"Score\":\"3.5\",\"Price\":\"12\"},{\"Color\":\"R\",\"Region\":\"Medoc\",\"Country\":\"France\",\"Vintage\":\"2011\",\"Vinyard\":\"Chantemerle\",\"Name\":\"\",\"Grape\":\"merlot, cab\",\"Consumed In\":\"2015\",\"Score\":\"3.5\",\"Price\":\"11.99\"},{\"Color\":\"R\",\"Region\":\"Washington\",\"Country\":\"US\",\"Vintage\":\"2011\",\"Vinyard\":\"Hyatt\",\"Name\":\"\",\"Grape\":\"merlot\",\"Consumed In\":\"2015\",\"Score\":\"4\",\"Price\":\"13\"},{\"Color\":\"R\",\"Region\":\"Tuscany\",\"Country\":\"Italy\",\"Vintage\":\"2012\",\"Vinyard\":\"Rosso Dei Poggi\",\"Name\":\"Rosso Dei Poggi\",\"Grape\":\"sangiovese\",\"Consumed In\":\"2015\",\"Score\":\"3\",\"Price\":\"12\"},{\"Color\":\"R\",\"Region\":\"Tuscany\",\"Country\":\"\",\"Vintage\":\"2013\",\"Vinyard\":\"Orizzonti\",\"Name\":\"Montepulciano D'Abruzzo\",\"Grape\":\"\",\"Consumed In\":\"2015\",\"Score\":\"4.5\",\"Price\":\"22\"},{\"Color\":\"R\",\"Region\":\"Oregon\",\"Country\":\"US\",\"Vintage\":\"2010\",\"Vinyard\":\"Abacelo\",\"Name\":\"\",\"Grape\":\"chiraz\",\"Consumed In\":\"2015\",\"Score\":\"3.5\",\"Price\":\"7\"},{\"Color\":\"R\",\"Region\":\"Tuscany\",\"Country\":\"Italy\",\"Vintage\":\"2012\",\"Vinyard\":\"Ridolfi\",\"Name\":\"Rosso Di Montalcino\",\"Grape\":\"sangiovese\",\"Consumed In\":\"2015\",\"Score\":\"3.5\",\"Price\":\"15\"},{\"Color\":\"W\",\"Region\":\"Loire\",\"Country\":\"France\",\"Vintage\":\"2012\",\"Vinyard\":\"Celestin Blobdeau\",\"Name\":\"Sancerre Cuvee Des Moulins Bales\",\"Grape\":\"sauvignon blanc\",\"Consumed In\":\"2013\",\"Score\":\"3\",\"Price\":\"12\"},{\"Color\":\"R\",\"Region\":\"Napa\",\"Country\":\"US\",\"Vintage\":\"2012\",\"Vinyard\":\"Belle Glos\",\"Name\":\"Meiomi\",\"Grape\":\"pinot noir\",\"Consumed In\":\"2013\",\"Score\":\"3\",\"Price\":\"13\"},{\"Color\":\"R\",\"Region\":\"France\",\"Country\":\"France\",\"Vintage\":\"2012\",\"Vinyard\":\"Puech-Haut\",\"Name\":\"Saint Drezery Prestige\",\"Grape\":\"\",\"Consumed In\":\"2013\",\"Score\":\"3\",\"Price\":\"13\"},{\"Color\":\"R\",\"Region\":\"France\",\"Country\":\"France\",\"Vintage\":\"2011\",\"Vinyard\":\"Puech-Haut\",\"Name\":\"Saint Drezery Prestige\",\"Grape\":\"\",\"Consumed In\":\"2013\",\"Score\":\"2\",\"Price\":\"14\"},{\"Color\":\"W\",\"Region\":\"Nappa\",\"Country\":\"US\",\"Vintage\":\"2012\",\"Vinyard\":\"Honig\",\"Name\":\"Sauvignon Blanc\",\"Grape\":\"sauvignon blanc\",\"Consumed In\":\"2014\",\"Score\":\"4\",\"Price\":\"14.5\"},{\"Color\":\"W\",\"Region\":\"Nappa\",\"Country\":\"US\",\"Vintage\":\"2012\",\"Vinyard\":\"Provenance\",\"Name\":\"Uppercut North Coast\",\"Grape\":\"sauvignon blanc\",\"Consumed In\":\"2014\",\"Score\":\"3\",\"Price\":\"11\"},{\"Color\":\"R\",\"Region\":\"Sicily\",\"Country\":\"Italy\",\"Vintage\":\"2011\",\"Vinyard\":\"Baglio Di Pianetto\",\"Name\":\"Nero d'Avola\",\"Grape\":\"\",\"Consumed In\":\"2014\",\"Score\":\"\",\"Price\":\"\"},{\"Color\":\"P\",\"Region\":\"Truro\",\"Country\":\"US\",\"Vintage\":\"2013\",\"Vinyard\":\"Truro Vineyards\",\"Name\":\"Cape Blush\",\"Grape\":\"\",\"Consumed In\":\"2014\",\"Score\":\"4\",\"Price\":\"10\"},{\"Color\":\"W\",\"Region\":\"Truro\",\"Country\":\"US\",\"Vintage\":\"2013\",\"Vinyard\":\"Truro Vineyards\",\"Name\":\"Pinot Grigio\",\"Grape\":\"pinot griogio\",\"Consumed In\":\"2014\",\"Score\":\"3\",\"Price\":\"10\"},{\"Color\":\"R\",\"Region\":\"Provence\",\"Country\":\"France\",\"Vintage\":\"2013\",\"Vinyard\":\"Chateau de la Clapiere\",\"Name\":\"Cru Classe\",\"Grape\":\"\",\"Consumed In\":\"2014\",\"Score\":\"3.5\",\"Price\":\"\"},{\"Color\":\"W\",\"Region\":\"Bordeaux\",\"Country\":\"France\",\"Vintage\":\"2013\",\"Vinyard\":\"Domaine du Claouset\",\"Name\":\"Domaine du Claouset\",\"Grape\":\"cabernet sauvignon\",\"Consumed In\":\"2015\",\"Score\":\"3\",\"Price\":\"\"},{\"Color\":\"W\",\"Region\":\"Napa\",\"Country\":\"\",\"Vintage\":\"2012\",\"Vinyard\":\"Two Angels\",\"Name\":\"Sauvignon Blanc\",\"Grape\":\"sauvignon blanc\",\"Consumed In\":\"2015\",\"Score\":\"3.5\",\"Price\":\"\"},{\"Color\":\"W\",\"Region\":\"Portugal\",\"Country\":\"Portugal\",\"Vintage\":\"2013\",\"Vinyard\":\"Mapreco\",\"Name\":\"Vinho Verde\",\"Grape\":\"\",\"Consumed In\":\"2015\",\"Score\":\"3.5\",\"Price\":\"\"},{\"Color\":\"W\",\"Region\":\"Burgundy\",\"Country\":\"France\",\"Vintage\":\"2012\",\"Vinyard\":\"Vaillons\",\"Name\":\"Vincent Dampt\",\"Grape\":\"Chablis, Vincent Dampt, Vaillons 1er (Burgundy, France) 2012 W/ Limestone taste\",\"Consumed In\":\"2015\",\"Score\":\"4\",\"Price\":\"35\"},{\"Color\":\"W\",\"Region\":\"Rias Baixas\",\"Country\":\"Spain\",\"Vintage\":\"2012\",\"Vinyard\":\"Granbazan\",\"Name\":\"Albarino\",\"Grape\":\"Albarino, Granbazan (Rias Baixas) 2012\",\"Consumed In\":\"2015\",\"Score\":\"4\",\"Price\":\"15\"},{\"Color\":\"R\",\"Region\":\"Sonoma\",\"Country\":\"US\",\"Vintage\":\"1973\",\"Vinyard\":\"\",\"Name\":\"My wonderful wine\",\"Grape\":\"\",\"Consumed In\":\"2015\",\"Score\":\"10\",\"Price\":\"200\"},{\"Color\":\"R\",\"Region\":\"Sonoma\",\"Country\":\"US\",\"Vintage\":\"1973\",\"Vinyard\":\"\",\"Name\":\"My wonderful wine\",\"Grape\":\"\",\"Consumed In\":\"2015\",\"Score\":\"10\",\"Price\":\"200\"},{\"Color\":\"R\",\"Region\":\"Sonoma\",\"Country\":\"US\",\"Vintage\":\"1973\",\"Vinyard\":\"\",\"Name\":\"My wonderful wine\",\"Grape\":\"\",\"Consumed In\":\"2015\",\"Score\":\"10\",\"Price\":\"200\"},{\"Color\":\"R\",\"Region\":\"Sonoma\",\"Country\":\"US\",\"Vintage\":\"1973\",\"Vinyard\":\"\",\"Name\":\"My wonderful wine\",\"Grape\":\"\",\"Consumed In\":\"2015\",\"Score\":\"10\",\"Price\":\"200\"},{\"Color\":\"R\",\"Region\":\"Sonoma\",\"Country\":\"US\",\"Vintage\":\"1973\",\"Vinyard\":\"\",\"Name\":\"My wonderful wine\",\"Grape\":\"\",\"Consumed In\":\"2015\",\"Score\":\"10\",\"Price\":\"200\"},{\"Color\":\"R\",\"Region\":\"Sonoma\",\"Country\":\"US\",\"Vintage\":\"1973\",\"Vinyard\":\"\",\"Name\":\"My wonderful wine\",\"Grape\":\"\",\"Consumed In\":\"2015\",\"Score\":\"10\",\"Price\":\"200\"},{\"Color\":\"R\",\"Region\":\"Sonoma\",\"Country\":\"US\",\"Vintage\":\"1973\",\"Vinyard\":\"\",\"Name\":\"My wonderful wine\",\"Grape\":\"\",\"Consumed In\":\"2015\",\"Score\":\"10\",\"Price\":\"200\"},{\"Color\":\"R\",\"Region\":\"Sonoma\",\"Country\":\"US\",\"Vintage\":\"1973\",\"Vinyard\":\"\",\"Name\":\"My wonderful wine\",\"Grape\":\"\",\"Consumed In\":\"2015\",\"Score\":\"10\",\"Price\":\"200\"},{\"Color\":\"R\",\"Region\":\"Sonoma\",\"Country\":\"US\",\"Vintage\":\"1973\",\"Vinyard\":\"\",\"Name\":\"My wonderful wine\",\"Grape\":\"\",\"Consumed In\":\"2015\",\"Score\":\"10\",\"Price\":\"200\"},{\"Color\":\"R\",\"Region\":\"Sonoma\",\"Country\":\"US\",\"Vintage\":\"1973\",\"Vinyard\":\"\",\"Name\":\"My wonderful wine\",\"Grape\":\"\",\"Consumed In\":\"2015\",\"Score\":\"10\",\"Price\":\"200\"},{\"Color\":\"R\",\"Region\":\"Sonoma\",\"Country\":\"US\",\"Vintage\":\"1973\",\"Vinyard\":\"\",\"Name\":\"My wonderful wine\",\"Grape\":\"\",\"Consumed In\":\"2015\",\"Score\":\"10\",\"Price\":\"200\"},{\"Color\":\"R\",\"Region\":\"Sonoma\",\"Country\":\"US\",\"Vintage\":\"1973\",\"Vinyard\":\"\",\"Name\":\"My wonderful wine\",\"Grape\":\"\",\"Consumed In\":\"2015\",\"Score\":\"10\",\"Price\":\"200\"},{\"Color\":\"R\",\"Region\":\"Sonoma\",\"Country\":\"US\",\"Vintage\":\"1973\",\"Vinyard\":\"\",\"Name\":\"My wonderful wine\",\"Grape\":\"\",\"Consumed In\":\"2015\",\"Score\":\"10\",\"Price\":\"200\"},{\"Color\":\"R\",\"Region\":\"Sonoma\",\"Country\":\"US\",\"Vintage\":\"1973\",\"Vinyard\":\"\",\"Name\":\"My wonderful wine\",\"Grape\":\"\",\"Consumed In\":\"2015\",\"Score\":\"10\",\"Price\":\"200\"},{\"Color\":\"R\",\"Region\":\"Sonoma\",\"Country\":\"US\",\"Vintage\":\"1973\",\"Vinyard\":\"\",\"Name\":\"My wonderful wine\",\"Grape\":\"\",\"Consumed In\":\"2015\",\"Score\":\"10\",\"Price\":\"200\"},{\"Color\":\"R\",\"Region\":\"Sonoma\",\"Country\":\"US\",\"Vintage\":\"1973\",\"Vinyard\":\"\",\"Name\":\"My wonderful wine\",\"Grape\":\"\",\"Consumed In\":\"2015\",\"Score\":\"10\",\"Price\":\"200\"},{\"Color\":\"R\",\"Region\":\"Sonoma\",\"Country\":\"US\",\"Vintage\":\"1973\",\"Vinyard\":\"\",\"Name\":\"My wonderful wine\",\"Grape\":\"\",\"Consumed In\":\"2015\",\"Score\":\"10\",\"Price\":\"200\"},{\"Color\":\"R\",\"Region\":\"Sonoma\",\"Country\":\"US\",\"Vintage\":\"1973\",\"Vinyard\":\"\",\"Name\":\"My wonderful wine\",\"Grape\":\"\",\"Consumed In\":\"2015\",\"Score\":\"10\",\"Price\":\"200\"},{\"Color\":\"R\",\"Region\":\"Sonoma\",\"Country\":\"US\",\"Vintage\":\"1973\",\"Vinyard\":\"\",\"Name\":\"My wonderful wine\",\"Grape\":\"\",\"Consumed In\":\"2015\",\"Score\":\"10\",\"Price\":\"200\"},{\"Color\":\"R\",\"Region\":\"Sonoma\",\"Country\":\"US\",\"Vintage\":\"1973\",\"Vinyard\":\"\",\"Name\":\"My wonderful wine\",\"Grape\":\"\",\"Consumed In\":\"2015\",\"Score\":\"10\",\"Price\":\"200\"},{\"Color\":\"R\",\"Region\":\"Sonoma\",\"Country\":\"US\",\"Vintage\":\"1973\",\"Vinyard\":\"\",\"Name\":\"My wonderful wine\",\"Grape\":\"\",\"Consumed In\":\"2015\",\"Score\":\"10\",\"Price\":\"200\"},{\"Color\":\"R\",\"Region\":\"Sonoma\",\"Country\":\"US\",\"Vintage\":\"1973\",\"Vinyard\":\"\",\"Name\":\"My wonderful wine\",\"Grape\":\"\",\"Consumed In\":\"2015\",\"Score\":\"10\",\"Price\":\"200\"},{\"Color\":\"R\",\"Region\":\"Sonoma\",\"Country\":\"US\",\"Vintage\":\"1973\",\"Vinyard\":\"\",\"Name\":\"My wonderful wine\",\"Grape\":\"\",\"Consumed In\":\"2015\",\"Score\":\"10\",\"Price\":\"200\"},{\"Color\":\"R\",\"Region\":\"Sonoma\",\"Country\":\"US\",\"Vintage\":\"1973\",\"Vinyard\":\"\",\"Name\":\"My wonderful wine\",\"Grape\":\"\",\"Consumed In\":\"2015\",\"Score\":\"10\",\"Price\":\"200\"},{\"Color\":\"R\",\"Region\":\"Sonoma\",\"Country\":\"US\",\"Vintage\":\"1973\",\"Vinyard\":\"\",\"Name\":\"My wonderful wine\",\"Grape\":\"\",\"Consumed In\":\"2015\",\"Score\":\"10\",\"Price\":\"200\"},{\"Color\":\"R\",\"Region\":\"Sonoma\",\"Country\":\"US\",\"Vintage\":\"1973\",\"Vinyard\":\"\",\"Name\":\"My wonderful wine\",\"Grape\":\"\",\"Consumed In\":\"2015\",\"Score\":\"10\",\"Price\":\"200\"},{\"Color\":\"R\",\"Region\":\"Sonoma\",\"Country\":\"US\",\"Vintage\":\"1973\",\"Vinyard\":\"\",\"Name\":\"My wonderful wine\",\"Grape\":\"\",\"Consumed In\":\"2015\",\"Score\":\"10\",\"Price\":\"200\"},{\"Color\":\"R\",\"Region\":\"Sonoma\",\"Country\":\"US\",\"Vintage\":\"1973\",\"Vinyard\":\"\",\"Name\":\"My wonderful wine\",\"Grape\":\"\",\"Consumed In\":\"2015\",\"Score\":\"10\",\"Price\":\"200\"},{\"Color\":\"R\",\"Region\":\"Sonoma\",\"Country\":\"US\",\"Vintage\":\"1973\",\"Vinyard\":\"\",\"Name\":\"My wonderful wine\",\"Grape\":\"\",\"Consumed In\":\"2015\",\"Score\":\"10\",\"Price\":\"200\"},{\"Color\":\"R\",\"Region\":\"Sonoma\",\"Country\":\"US\",\"Vintage\":\"1973\",\"Vinyard\":\"\",\"Name\":\"My wonderful wine\",\"Grape\":\"\",\"Consumed In\":\"2015\",\"Score\":\"10\",\"Price\":\"200\"},{\"Color\":\"R\",\"Region\":\"Sonoma\",\"Country\":\"US\",\"Vintage\":\"1973\",\"Vinyard\":\"\",\"Name\":\"My wonderful wine\",\"Grape\":\"\",\"Consumed In\":\"2015\",\"Score\":\"10\",\"Price\":\"200\"},{\"Color\":\"R\",\"Region\":\"Sonoma\",\"Country\":\"US\",\"Vintage\":\"1973\",\"Vinyard\":\"\",\"Name\":\"My wonderful wine\",\"Grape\":\"\",\"Consumed In\":\"2015\",\"Score\":\"10\",\"Price\":\"200\"}]\n"
     ]
    }
   ],
   "source": [
    "print response.text"
   ]
  },
  {
   "cell_type": "code",
   "execution_count": 14,
   "metadata": {
    "collapsed": false
   },
   "outputs": [
    {
     "name": "stdout",
     "output_type": "stream",
     "text": [
      "200\n"
     ]
    }
   ],
   "source": [
    "print response.status_code"
   ]
  },
  {
   "cell_type": "code",
   "execution_count": 17,
   "metadata": {
    "collapsed": true
   },
   "outputs": [],
   "source": [
    "jso_res = json.loads(response.text)"
   ]
  },
  {
   "cell_type": "code",
   "execution_count": 18,
   "metadata": {
    "collapsed": false
   },
   "outputs": [
    {
     "data": {
      "text/html": [
       "<div>\n",
       "<table border=\"1\" class=\"dataframe\">\n",
       "  <thead>\n",
       "    <tr style=\"text-align: right;\">\n",
       "      <th></th>\n",
       "      <th>Color</th>\n",
       "      <th>Consumed In</th>\n",
       "      <th>Country</th>\n",
       "      <th>Grape</th>\n",
       "      <th>Name</th>\n",
       "      <th>Price</th>\n",
       "      <th>Region</th>\n",
       "      <th>Score</th>\n",
       "      <th>Vintage</th>\n",
       "      <th>Vinyard</th>\n",
       "    </tr>\n",
       "  </thead>\n",
       "  <tbody>\n",
       "    <tr>\n",
       "      <th>0</th>\n",
       "      <td>W</td>\n",
       "      <td>2015</td>\n",
       "      <td>Portugal</td>\n",
       "      <td></td>\n",
       "      <td></td>\n",
       "      <td></td>\n",
       "      <td>Portugal</td>\n",
       "      <td>4</td>\n",
       "      <td>2013</td>\n",
       "      <td>Vinho Verde</td>\n",
       "    </tr>\n",
       "    <tr>\n",
       "      <th>1</th>\n",
       "      <td>W</td>\n",
       "      <td>2015</td>\n",
       "      <td>France</td>\n",
       "      <td></td>\n",
       "      <td></td>\n",
       "      <td>17.8</td>\n",
       "      <td>France</td>\n",
       "      <td>3</td>\n",
       "      <td>2013</td>\n",
       "      <td>Peyruchet</td>\n",
       "    </tr>\n",
       "    <tr>\n",
       "      <th>2</th>\n",
       "      <td>W</td>\n",
       "      <td>2015</td>\n",
       "      <td>Oregon</td>\n",
       "      <td></td>\n",
       "      <td></td>\n",
       "      <td>20</td>\n",
       "      <td>Oregon</td>\n",
       "      <td>3</td>\n",
       "      <td>2013</td>\n",
       "      <td>Abacela</td>\n",
       "    </tr>\n",
       "    <tr>\n",
       "      <th>3</th>\n",
       "      <td>W</td>\n",
       "      <td>2015</td>\n",
       "      <td>Spain</td>\n",
       "      <td>chardonay</td>\n",
       "      <td></td>\n",
       "      <td>7</td>\n",
       "      <td>Spain</td>\n",
       "      <td>2.5</td>\n",
       "      <td>2012</td>\n",
       "      <td>Ochoa</td>\n",
       "    </tr>\n",
       "    <tr>\n",
       "      <th>4</th>\n",
       "      <td>R</td>\n",
       "      <td>2015</td>\n",
       "      <td>US</td>\n",
       "      <td>chiraz, cab</td>\n",
       "      <td>Spice Trader</td>\n",
       "      <td>6</td>\n",
       "      <td></td>\n",
       "      <td>3</td>\n",
       "      <td>2012</td>\n",
       "      <td>Heartland</td>\n",
       "    </tr>\n",
       "  </tbody>\n",
       "</table>\n",
       "</div>"
      ],
      "text/plain": [
       "  Color Consumed In   Country        Grape          Name Price    Region  \\\n",
       "0     W        2015  Portugal                                   Portugal   \n",
       "1     W        2015    France                             17.8    France   \n",
       "2     W        2015    Oregon                               20    Oregon   \n",
       "3     W        2015     Spain    chardonay                   7     Spain   \n",
       "4     R        2015        US  chiraz, cab  Spice Trader     6             \n",
       "\n",
       "  Score Vintage      Vinyard  \n",
       "0     4    2013  Vinho Verde  \n",
       "1     3    2013    Peyruchet  \n",
       "2     3    2013      Abacela  \n",
       "3   2.5    2012        Ochoa  \n",
       "4     3    2012    Heartland  "
      ]
     },
     "execution_count": 18,
     "metadata": {},
     "output_type": "execute_result"
    }
   ],
   "source": [
    "df = pd.DataFrame(jso_res)\n",
    "df.head()"
   ]
  },
  {
   "cell_type": "markdown",
   "metadata": {},
   "source": [
    "> Answers:\n",
    "    1. A JSON string.\n",
    "    2. 200\n",
    "    3. Options inlucde: pd.read_json; json.loads + pd.Dataframe\n",
    "    4. 5"
   ]
  },
  {
   "cell_type": "markdown",
   "metadata": {},
   "source": [
    "### Exercise 2: Post Data to Sheetsu\n",
    "Now that we've learned how to read data, it'd be great if we could also write data. For this we will need to use a _POST_ request.\n",
    "\n",
    "1. Use the post command to add the following data to the spreadsheet:"
   ]
  },
  {
   "cell_type": "code",
   "execution_count": 19,
   "metadata": {
    "collapsed": true
   },
   "outputs": [],
   "source": [
    "post_data = {\n",
    "'Grape' : ''\n",
    ", 'Name' : 'My wonderful wine'\n",
    ", 'Color' : 'R'\n",
    ", 'Country' : 'US'\n",
    ", 'Region' : 'Sonoma'\n",
    ", 'Vinyard' : ''\n",
    ", 'Score' : '10'\n",
    ", 'Consumed In' : '2015'\n",
    ", 'Vintage' : '1973'\n",
    ", 'Price' : '200'\n",
    "}"
   ]
  },
  {
   "cell_type": "code",
   "execution_count": 20,
   "metadata": {
    "collapsed": false
   },
   "outputs": [
    {
     "data": {
      "text/plain": [
       "<Response [201]>"
      ]
     },
     "execution_count": 20,
     "metadata": {},
     "output_type": "execute_result"
    }
   ],
   "source": [
    "requests.post(url, data = post_data)"
   ]
  },
  {
   "cell_type": "markdown",
   "metadata": {},
   "source": [
    "1. What status did you get? How can you check that you actually added the data correctly?\n",
    "- In this exercise, your classmates are adding data to the same spreadsheet. What happens because of this? Is it a problem? How could you mitigate it?"
   ]
  },
  {
   "cell_type": "code",
   "execution_count": 21,
   "metadata": {
    "collapsed": false
   },
   "outputs": [],
   "source": [
    "a = requests.get(url)"
   ]
  },
  {
   "cell_type": "code",
   "execution_count": 22,
   "metadata": {
    "collapsed": false
   },
   "outputs": [
    {
     "data": {
      "text/plain": [
       "u'[{\"Color\":\"W\",\"Region\":\"Portugal\",\"Country\":\"Portugal\",\"Vintage\":\"2013\",\"Vinyard\":\"Vinho Verde\",\"Name\":\"\",\"Grape\":\"\",\"Consumed In\":\"2015\",\"Score\":\"4\",\"Price\":\"\"},{\"Color\":\"W\",\"Region\":\"France\",\"Country\":\"France\",\"Vintage\":\"2013\",\"Vinyard\":\"Peyruchet\",\"Name\":\"\",\"Grape\":\"\",\"Consumed In\":\"2015\",\"Score\":\"3\",\"Price\":\"17.8\"},{\"Color\":\"W\",\"Region\":\"Oregon\",\"Country\":\"Oregon\",\"Vintage\":\"2013\",\"Vinyard\":\"Abacela\",\"Name\":\"\",\"Grape\":\"\",\"Consumed In\":\"2015\",\"Score\":\"3\",\"Price\":\"20\"},{\"Color\":\"W\",\"Region\":\"Spain\",\"Country\":\"Spain\",\"Vintage\":\"2012\",\"Vinyard\":\"Ochoa\",\"Name\":\"\",\"Grape\":\"chardonay\",\"Consumed In\":\"2015\",\"Score\":\"2.5\",\"Price\":\"7\"},{\"Color\":\"R\",\"Region\":\"\",\"Country\":\"US\",\"Vintage\":\"2012\",\"Vinyard\":\"Heartland\",\"Name\":\"Spice Trader\",\"Grape\":\"chiraz, cab\",\"Consumed In\":\"2015\",\"Score\":\"3\",\"Price\":\"6\"},{\"Color\":\"R\",\"Region\":\"California\",\"Country\":\"US\",\"Vintage\":\"2012\",\"Vinyard\":\"Crow Canyon\",\"Name\":\"\",\"Grape\":\"cab\",\"Consumed In\":\"2015\",\"Score\":\"3.5\",\"Price\":\"13\"},{\"Color\":\"R\",\"Region\":\"Oregon\",\"Country\":\"US\",\"Vintage\":\"2013\",\"Vinyard\":\"Abacela\",\"Name\":\"#14\",\"Grape\":\"\",\"Consumed In\":\"2015\",\"Score\":\"2.5\",\"Price\":\"21\"},{\"Color\":\"R\",\"Region\":\"Bordeaux\",\"Country\":\"France\",\"Vintage\":\"2012\",\"Vinyard\":\"David Beaulieu\",\"Name\":\"\",\"Grape\":\"merlot, cab\",\"Consumed In\":\"2015\",\"Score\":\"3.5\",\"Price\":\"12\"},{\"Color\":\"R\",\"Region\":\"Medoc\",\"Country\":\"France\",\"Vintage\":\"2011\",\"Vinyard\":\"Chantemerle\",\"Name\":\"\",\"Grape\":\"merlot, cab\",\"Consumed In\":\"2015\",\"Score\":\"3.5\",\"Price\":\"11.99\"},{\"Color\":\"R\",\"Region\":\"Washington\",\"Country\":\"US\",\"Vintage\":\"2011\",\"Vinyard\":\"Hyatt\",\"Name\":\"\",\"Grape\":\"merlot\",\"Consumed In\":\"2015\",\"Score\":\"4\",\"Price\":\"13\"},{\"Color\":\"R\",\"Region\":\"Tuscany\",\"Country\":\"Italy\",\"Vintage\":\"2012\",\"Vinyard\":\"Rosso Dei Poggi\",\"Name\":\"Rosso Dei Poggi\",\"Grape\":\"sangiovese\",\"Consumed In\":\"2015\",\"Score\":\"3\",\"Price\":\"12\"},{\"Color\":\"R\",\"Region\":\"Tuscany\",\"Country\":\"\",\"Vintage\":\"2013\",\"Vinyard\":\"Orizzonti\",\"Name\":\"Montepulciano D\\'Abruzzo\",\"Grape\":\"\",\"Consumed In\":\"2015\",\"Score\":\"4.5\",\"Price\":\"22\"},{\"Color\":\"R\",\"Region\":\"Oregon\",\"Country\":\"US\",\"Vintage\":\"2010\",\"Vinyard\":\"Abacelo\",\"Name\":\"\",\"Grape\":\"chiraz\",\"Consumed In\":\"2015\",\"Score\":\"3.5\",\"Price\":\"7\"},{\"Color\":\"R\",\"Region\":\"Tuscany\",\"Country\":\"Italy\",\"Vintage\":\"2012\",\"Vinyard\":\"Ridolfi\",\"Name\":\"Rosso Di Montalcino\",\"Grape\":\"sangiovese\",\"Consumed In\":\"2015\",\"Score\":\"3.5\",\"Price\":\"15\"},{\"Color\":\"W\",\"Region\":\"Loire\",\"Country\":\"France\",\"Vintage\":\"2012\",\"Vinyard\":\"Celestin Blobdeau\",\"Name\":\"Sancerre Cuvee Des Moulins Bales\",\"Grape\":\"sauvignon blanc\",\"Consumed In\":\"2013\",\"Score\":\"3\",\"Price\":\"12\"},{\"Color\":\"R\",\"Region\":\"Napa\",\"Country\":\"US\",\"Vintage\":\"2012\",\"Vinyard\":\"Belle Glos\",\"Name\":\"Meiomi\",\"Grape\":\"pinot noir\",\"Consumed In\":\"2013\",\"Score\":\"3\",\"Price\":\"13\"},{\"Color\":\"R\",\"Region\":\"France\",\"Country\":\"France\",\"Vintage\":\"2012\",\"Vinyard\":\"Puech-Haut\",\"Name\":\"Saint Drezery Prestige\",\"Grape\":\"\",\"Consumed In\":\"2013\",\"Score\":\"3\",\"Price\":\"13\"},{\"Color\":\"R\",\"Region\":\"France\",\"Country\":\"France\",\"Vintage\":\"2011\",\"Vinyard\":\"Puech-Haut\",\"Name\":\"Saint Drezery Prestige\",\"Grape\":\"\",\"Consumed In\":\"2013\",\"Score\":\"2\",\"Price\":\"14\"},{\"Color\":\"W\",\"Region\":\"Nappa\",\"Country\":\"US\",\"Vintage\":\"2012\",\"Vinyard\":\"Honig\",\"Name\":\"Sauvignon Blanc\",\"Grape\":\"sauvignon blanc\",\"Consumed In\":\"2014\",\"Score\":\"4\",\"Price\":\"14.5\"},{\"Color\":\"W\",\"Region\":\"Nappa\",\"Country\":\"US\",\"Vintage\":\"2012\",\"Vinyard\":\"Provenance\",\"Name\":\"Uppercut North Coast\",\"Grape\":\"sauvignon blanc\",\"Consumed In\":\"2014\",\"Score\":\"3\",\"Price\":\"11\"},{\"Color\":\"R\",\"Region\":\"Sicily\",\"Country\":\"Italy\",\"Vintage\":\"2011\",\"Vinyard\":\"Baglio Di Pianetto\",\"Name\":\"Nero d\\'Avola\",\"Grape\":\"\",\"Consumed In\":\"2014\",\"Score\":\"\",\"Price\":\"\"},{\"Color\":\"P\",\"Region\":\"Truro\",\"Country\":\"US\",\"Vintage\":\"2013\",\"Vinyard\":\"Truro Vineyards\",\"Name\":\"Cape Blush\",\"Grape\":\"\",\"Consumed In\":\"2014\",\"Score\":\"4\",\"Price\":\"10\"},{\"Color\":\"W\",\"Region\":\"Truro\",\"Country\":\"US\",\"Vintage\":\"2013\",\"Vinyard\":\"Truro Vineyards\",\"Name\":\"Pinot Grigio\",\"Grape\":\"pinot griogio\",\"Consumed In\":\"2014\",\"Score\":\"3\",\"Price\":\"10\"},{\"Color\":\"R\",\"Region\":\"Provence\",\"Country\":\"France\",\"Vintage\":\"2013\",\"Vinyard\":\"Chateau de la Clapiere\",\"Name\":\"Cru Classe\",\"Grape\":\"\",\"Consumed In\":\"2014\",\"Score\":\"3.5\",\"Price\":\"\"},{\"Color\":\"W\",\"Region\":\"Bordeaux\",\"Country\":\"France\",\"Vintage\":\"2013\",\"Vinyard\":\"Domaine du Claouset\",\"Name\":\"Domaine du Claouset\",\"Grape\":\"cabernet sauvignon\",\"Consumed In\":\"2015\",\"Score\":\"3\",\"Price\":\"\"},{\"Color\":\"W\",\"Region\":\"Napa\",\"Country\":\"\",\"Vintage\":\"2012\",\"Vinyard\":\"Two Angels\",\"Name\":\"Sauvignon Blanc\",\"Grape\":\"sauvignon blanc\",\"Consumed In\":\"2015\",\"Score\":\"3.5\",\"Price\":\"\"},{\"Color\":\"W\",\"Region\":\"Portugal\",\"Country\":\"Portugal\",\"Vintage\":\"2013\",\"Vinyard\":\"Mapreco\",\"Name\":\"Vinho Verde\",\"Grape\":\"\",\"Consumed In\":\"2015\",\"Score\":\"3.5\",\"Price\":\"\"},{\"Color\":\"W\",\"Region\":\"Burgundy\",\"Country\":\"France\",\"Vintage\":\"2012\",\"Vinyard\":\"Vaillons\",\"Name\":\"Vincent Dampt\",\"Grape\":\"Chablis, Vincent Dampt, Vaillons 1er (Burgundy, France) 2012 W/ Limestone taste\",\"Consumed In\":\"2015\",\"Score\":\"4\",\"Price\":\"35\"},{\"Color\":\"W\",\"Region\":\"Rias Baixas\",\"Country\":\"Spain\",\"Vintage\":\"2012\",\"Vinyard\":\"Granbazan\",\"Name\":\"Albarino\",\"Grape\":\"Albarino, Granbazan (Rias Baixas) 2012\",\"Consumed In\":\"2015\",\"Score\":\"4\",\"Price\":\"15\"},{\"Color\":\"R\",\"Region\":\"Sonoma\",\"Country\":\"US\",\"Vintage\":\"1973\",\"Vinyard\":\"\",\"Name\":\"My wonderful wine\",\"Grape\":\"\",\"Consumed In\":\"2015\",\"Score\":\"10\",\"Price\":\"200\"},{\"Color\":\"R\",\"Region\":\"Sonoma\",\"Country\":\"US\",\"Vintage\":\"1973\",\"Vinyard\":\"\",\"Name\":\"My wonderful wine\",\"Grape\":\"\",\"Consumed In\":\"2015\",\"Score\":\"10\",\"Price\":\"200\"},{\"Color\":\"R\",\"Region\":\"Sonoma\",\"Country\":\"US\",\"Vintage\":\"1973\",\"Vinyard\":\"\",\"Name\":\"My wonderful wine\",\"Grape\":\"\",\"Consumed In\":\"2015\",\"Score\":\"10\",\"Price\":\"200\"},{\"Color\":\"R\",\"Region\":\"Sonoma\",\"Country\":\"US\",\"Vintage\":\"1973\",\"Vinyard\":\"\",\"Name\":\"My wonderful wine\",\"Grape\":\"\",\"Consumed In\":\"2015\",\"Score\":\"10\",\"Price\":\"200\"},{\"Color\":\"R\",\"Region\":\"Sonoma\",\"Country\":\"US\",\"Vintage\":\"1973\",\"Vinyard\":\"\",\"Name\":\"My wonderful wine\",\"Grape\":\"\",\"Consumed In\":\"2015\",\"Score\":\"10\",\"Price\":\"200\"},{\"Color\":\"R\",\"Region\":\"Sonoma\",\"Country\":\"US\",\"Vintage\":\"1973\",\"Vinyard\":\"\",\"Name\":\"My wonderful wine\",\"Grape\":\"\",\"Consumed In\":\"2015\",\"Score\":\"10\",\"Price\":\"200\"},{\"Color\":\"R\",\"Region\":\"Sonoma\",\"Country\":\"US\",\"Vintage\":\"1973\",\"Vinyard\":\"\",\"Name\":\"My wonderful wine\",\"Grape\":\"\",\"Consumed In\":\"2015\",\"Score\":\"10\",\"Price\":\"200\"},{\"Color\":\"R\",\"Region\":\"Sonoma\",\"Country\":\"US\",\"Vintage\":\"1973\",\"Vinyard\":\"\",\"Name\":\"My wonderful wine\",\"Grape\":\"\",\"Consumed In\":\"2015\",\"Score\":\"10\",\"Price\":\"200\"},{\"Color\":\"R\",\"Region\":\"Sonoma\",\"Country\":\"US\",\"Vintage\":\"1973\",\"Vinyard\":\"\",\"Name\":\"My wonderful wine\",\"Grape\":\"\",\"Consumed In\":\"2015\",\"Score\":\"10\",\"Price\":\"200\"},{\"Color\":\"R\",\"Region\":\"Sonoma\",\"Country\":\"US\",\"Vintage\":\"1973\",\"Vinyard\":\"\",\"Name\":\"My wonderful wine\",\"Grape\":\"\",\"Consumed In\":\"2015\",\"Score\":\"10\",\"Price\":\"200\"},{\"Color\":\"R\",\"Region\":\"Sonoma\",\"Country\":\"US\",\"Vintage\":\"1973\",\"Vinyard\":\"\",\"Name\":\"My wonderful wine\",\"Grape\":\"\",\"Consumed In\":\"2015\",\"Score\":\"10\",\"Price\":\"200\"},{\"Color\":\"R\",\"Region\":\"Sonoma\",\"Country\":\"US\",\"Vintage\":\"1973\",\"Vinyard\":\"\",\"Name\":\"My wonderful wine\",\"Grape\":\"\",\"Consumed In\":\"2015\",\"Score\":\"10\",\"Price\":\"200\"},{\"Color\":\"R\",\"Region\":\"Sonoma\",\"Country\":\"US\",\"Vintage\":\"1973\",\"Vinyard\":\"\",\"Name\":\"My wonderful wine\",\"Grape\":\"\",\"Consumed In\":\"2015\",\"Score\":\"10\",\"Price\":\"200\"},{\"Color\":\"R\",\"Region\":\"Sonoma\",\"Country\":\"US\",\"Vintage\":\"1973\",\"Vinyard\":\"\",\"Name\":\"My wonderful wine\",\"Grape\":\"\",\"Consumed In\":\"2015\",\"Score\":\"10\",\"Price\":\"200\"},{\"Color\":\"R\",\"Region\":\"Sonoma\",\"Country\":\"US\",\"Vintage\":\"1973\",\"Vinyard\":\"\",\"Name\":\"My wonderful wine\",\"Grape\":\"\",\"Consumed In\":\"2015\",\"Score\":\"10\",\"Price\":\"200\"},{\"Color\":\"R\",\"Region\":\"Sonoma\",\"Country\":\"US\",\"Vintage\":\"1973\",\"Vinyard\":\"\",\"Name\":\"My wonderful wine\",\"Grape\":\"\",\"Consumed In\":\"2015\",\"Score\":\"10\",\"Price\":\"200\"},{\"Color\":\"R\",\"Region\":\"Sonoma\",\"Country\":\"US\",\"Vintage\":\"1973\",\"Vinyard\":\"\",\"Name\":\"My wonderful wine\",\"Grape\":\"\",\"Consumed In\":\"2015\",\"Score\":\"10\",\"Price\":\"200\"},{\"Color\":\"R\",\"Region\":\"Sonoma\",\"Country\":\"US\",\"Vintage\":\"1973\",\"Vinyard\":\"\",\"Name\":\"My wonderful wine\",\"Grape\":\"\",\"Consumed In\":\"2015\",\"Score\":\"10\",\"Price\":\"200\"},{\"Color\":\"R\",\"Region\":\"Sonoma\",\"Country\":\"US\",\"Vintage\":\"1973\",\"Vinyard\":\"\",\"Name\":\"My wonderful wine\",\"Grape\":\"\",\"Consumed In\":\"2015\",\"Score\":\"10\",\"Price\":\"200\"},{\"Color\":\"R\",\"Region\":\"Sonoma\",\"Country\":\"US\",\"Vintage\":\"1973\",\"Vinyard\":\"\",\"Name\":\"My wonderful wine\",\"Grape\":\"\",\"Consumed In\":\"2015\",\"Score\":\"10\",\"Price\":\"200\"},{\"Color\":\"R\",\"Region\":\"Sonoma\",\"Country\":\"US\",\"Vintage\":\"1973\",\"Vinyard\":\"\",\"Name\":\"My wonderful wine\",\"Grape\":\"\",\"Consumed In\":\"2015\",\"Score\":\"10\",\"Price\":\"200\"},{\"Color\":\"R\",\"Region\":\"Sonoma\",\"Country\":\"US\",\"Vintage\":\"1973\",\"Vinyard\":\"\",\"Name\":\"My wonderful wine\",\"Grape\":\"\",\"Consumed In\":\"2015\",\"Score\":\"10\",\"Price\":\"200\"},{\"Color\":\"R\",\"Region\":\"Sonoma\",\"Country\":\"US\",\"Vintage\":\"1973\",\"Vinyard\":\"\",\"Name\":\"My wonderful wine\",\"Grape\":\"\",\"Consumed In\":\"2015\",\"Score\":\"10\",\"Price\":\"200\"},{\"Color\":\"R\",\"Region\":\"Sonoma\",\"Country\":\"US\",\"Vintage\":\"1973\",\"Vinyard\":\"\",\"Name\":\"My wonderful wine\",\"Grape\":\"\",\"Consumed In\":\"2015\",\"Score\":\"10\",\"Price\":\"200\"},{\"Color\":\"R\",\"Region\":\"Sonoma\",\"Country\":\"US\",\"Vintage\":\"1973\",\"Vinyard\":\"\",\"Name\":\"My wonderful wine\",\"Grape\":\"\",\"Consumed In\":\"2015\",\"Score\":\"10\",\"Price\":\"200\"},{\"Color\":\"R\",\"Region\":\"Sonoma\",\"Country\":\"US\",\"Vintage\":\"1973\",\"Vinyard\":\"\",\"Name\":\"My wonderful wine\",\"Grape\":\"\",\"Consumed In\":\"2015\",\"Score\":\"10\",\"Price\":\"200\"},{\"Color\":\"R\",\"Region\":\"Sonoma\",\"Country\":\"US\",\"Vintage\":\"1973\",\"Vinyard\":\"\",\"Name\":\"My wonderful wine\",\"Grape\":\"\",\"Consumed In\":\"2015\",\"Score\":\"10\",\"Price\":\"200\"},{\"Color\":\"R\",\"Region\":\"Sonoma\",\"Country\":\"US\",\"Vintage\":\"1973\",\"Vinyard\":\"\",\"Name\":\"My wonderful wine\",\"Grape\":\"\",\"Consumed In\":\"2015\",\"Score\":\"10\",\"Price\":\"200\"},{\"Color\":\"R\",\"Region\":\"Sonoma\",\"Country\":\"US\",\"Vintage\":\"1973\",\"Vinyard\":\"\",\"Name\":\"My wonderful wine\",\"Grape\":\"\",\"Consumed In\":\"2015\",\"Score\":\"10\",\"Price\":\"200\"},{\"Color\":\"R\",\"Region\":\"Sonoma\",\"Country\":\"US\",\"Vintage\":\"1973\",\"Vinyard\":\"\",\"Name\":\"My wonderful wine\",\"Grape\":\"\",\"Consumed In\":\"2015\",\"Score\":\"10\",\"Price\":\"200\"},{\"Color\":\"R\",\"Region\":\"Sonoma\",\"Country\":\"US\",\"Vintage\":\"1973\",\"Vinyard\":\"\",\"Name\":\"My wonderful wine\",\"Grape\":\"\",\"Consumed In\":\"2015\",\"Score\":\"10\",\"Price\":\"200\"},{\"Color\":\"R\",\"Region\":\"Sonoma\",\"Country\":\"US\",\"Vintage\":\"1973\",\"Vinyard\":\"\",\"Name\":\"My wonderful wine\",\"Grape\":\"\",\"Consumed In\":\"2015\",\"Score\":\"10\",\"Price\":\"200\"},{\"Color\":\"R\",\"Region\":\"Sonoma\",\"Country\":\"US\",\"Vintage\":\"1973\",\"Vinyard\":\"\",\"Name\":\"My wonderful wine\",\"Grape\":\"\",\"Consumed In\":\"2015\",\"Score\":\"10\",\"Price\":\"200\"}]'"
      ]
     },
     "execution_count": 22,
     "metadata": {},
     "output_type": "execute_result"
    }
   ],
   "source": [
    "a.text"
   ]
  },
  {
   "cell_type": "code",
   "execution_count": null,
   "metadata": {
    "collapsed": true
   },
   "outputs": [],
   "source": []
  },
  {
   "cell_type": "markdown",
   "metadata": {},
   "source": [
    "## Exercise 3: Data munging\n",
    "\n",
    "Get back to the dataframe you've created in the beginning. Let's do some data munging:\n",
    "\n",
    "1. Search for missing data\n",
    "    - Is there any missing data? How do you deal with it?\n",
    "    - Is there any data you can just remove?\n",
    "    - Are the data types appropriate?\n",
    "- Summarize the data \n",
    "    - Try using describe, min, max, mean, var"
   ]
  },
  {
   "cell_type": "code",
   "execution_count": 29,
   "metadata": {
    "collapsed": false
   },
   "outputs": [
    {
     "data": {
      "text/html": [
       "<div>\n",
       "<table border=\"1\" class=\"dataframe\">\n",
       "  <thead>\n",
       "    <tr style=\"text-align: right;\">\n",
       "      <th></th>\n",
       "      <th>Color</th>\n",
       "      <th>Consumed In</th>\n",
       "      <th>Country</th>\n",
       "      <th>Grape</th>\n",
       "      <th>Name</th>\n",
       "      <th>Price</th>\n",
       "      <th>Region</th>\n",
       "      <th>Score</th>\n",
       "      <th>Vintage</th>\n",
       "      <th>Vinyard</th>\n",
       "    </tr>\n",
       "  </thead>\n",
       "  <tbody>\n",
       "    <tr>\n",
       "      <th>0</th>\n",
       "      <td>W</td>\n",
       "      <td>2015</td>\n",
       "      <td>Portugal</td>\n",
       "      <td>NaN</td>\n",
       "      <td>NaN</td>\n",
       "      <td>NaN</td>\n",
       "      <td>Portugal</td>\n",
       "      <td>4</td>\n",
       "      <td>2013</td>\n",
       "      <td>Vinho Verde</td>\n",
       "    </tr>\n",
       "    <tr>\n",
       "      <th>1</th>\n",
       "      <td>W</td>\n",
       "      <td>2015</td>\n",
       "      <td>France</td>\n",
       "      <td>NaN</td>\n",
       "      <td>NaN</td>\n",
       "      <td>17.8</td>\n",
       "      <td>France</td>\n",
       "      <td>3</td>\n",
       "      <td>2013</td>\n",
       "      <td>Peyruchet</td>\n",
       "    </tr>\n",
       "    <tr>\n",
       "      <th>2</th>\n",
       "      <td>W</td>\n",
       "      <td>2015</td>\n",
       "      <td>Oregon</td>\n",
       "      <td>NaN</td>\n",
       "      <td>NaN</td>\n",
       "      <td>20</td>\n",
       "      <td>Oregon</td>\n",
       "      <td>3</td>\n",
       "      <td>2013</td>\n",
       "      <td>Abacela</td>\n",
       "    </tr>\n",
       "    <tr>\n",
       "      <th>3</th>\n",
       "      <td>W</td>\n",
       "      <td>2015</td>\n",
       "      <td>Spain</td>\n",
       "      <td>chardonay</td>\n",
       "      <td>NaN</td>\n",
       "      <td>7</td>\n",
       "      <td>Spain</td>\n",
       "      <td>2.5</td>\n",
       "      <td>2012</td>\n",
       "      <td>Ochoa</td>\n",
       "    </tr>\n",
       "    <tr>\n",
       "      <th>4</th>\n",
       "      <td>R</td>\n",
       "      <td>2015</td>\n",
       "      <td>US</td>\n",
       "      <td>chiraz, cab</td>\n",
       "      <td>Spice Trader</td>\n",
       "      <td>6</td>\n",
       "      <td>NaN</td>\n",
       "      <td>3</td>\n",
       "      <td>2012</td>\n",
       "      <td>Heartland</td>\n",
       "    </tr>\n",
       "    <tr>\n",
       "      <th>5</th>\n",
       "      <td>R</td>\n",
       "      <td>2015</td>\n",
       "      <td>US</td>\n",
       "      <td>cab</td>\n",
       "      <td>NaN</td>\n",
       "      <td>13</td>\n",
       "      <td>California</td>\n",
       "      <td>3.5</td>\n",
       "      <td>2012</td>\n",
       "      <td>Crow Canyon</td>\n",
       "    </tr>\n",
       "    <tr>\n",
       "      <th>6</th>\n",
       "      <td>R</td>\n",
       "      <td>2015</td>\n",
       "      <td>US</td>\n",
       "      <td>NaN</td>\n",
       "      <td>#14</td>\n",
       "      <td>21</td>\n",
       "      <td>Oregon</td>\n",
       "      <td>2.5</td>\n",
       "      <td>2013</td>\n",
       "      <td>Abacela</td>\n",
       "    </tr>\n",
       "    <tr>\n",
       "      <th>7</th>\n",
       "      <td>R</td>\n",
       "      <td>2015</td>\n",
       "      <td>France</td>\n",
       "      <td>merlot, cab</td>\n",
       "      <td>NaN</td>\n",
       "      <td>12</td>\n",
       "      <td>Bordeaux</td>\n",
       "      <td>3.5</td>\n",
       "      <td>2012</td>\n",
       "      <td>David Beaulieu</td>\n",
       "    </tr>\n",
       "    <tr>\n",
       "      <th>8</th>\n",
       "      <td>R</td>\n",
       "      <td>2015</td>\n",
       "      <td>France</td>\n",
       "      <td>merlot, cab</td>\n",
       "      <td>NaN</td>\n",
       "      <td>11.99</td>\n",
       "      <td>Medoc</td>\n",
       "      <td>3.5</td>\n",
       "      <td>2011</td>\n",
       "      <td>Chantemerle</td>\n",
       "    </tr>\n",
       "    <tr>\n",
       "      <th>9</th>\n",
       "      <td>R</td>\n",
       "      <td>2015</td>\n",
       "      <td>US</td>\n",
       "      <td>merlot</td>\n",
       "      <td>NaN</td>\n",
       "      <td>13</td>\n",
       "      <td>Washington</td>\n",
       "      <td>4</td>\n",
       "      <td>2011</td>\n",
       "      <td>Hyatt</td>\n",
       "    </tr>\n",
       "  </tbody>\n",
       "</table>\n",
       "</div>"
      ],
      "text/plain": [
       "  Color Consumed In   Country        Grape          Name  Price      Region  \\\n",
       "0     W        2015  Portugal          NaN           NaN    NaN    Portugal   \n",
       "1     W        2015    France          NaN           NaN   17.8      France   \n",
       "2     W        2015    Oregon          NaN           NaN     20      Oregon   \n",
       "3     W        2015     Spain    chardonay           NaN      7       Spain   \n",
       "4     R        2015        US  chiraz, cab  Spice Trader      6         NaN   \n",
       "5     R        2015        US          cab           NaN     13  California   \n",
       "6     R        2015        US          NaN           #14     21      Oregon   \n",
       "7     R        2015    France  merlot, cab           NaN     12    Bordeaux   \n",
       "8     R        2015    France  merlot, cab           NaN  11.99       Medoc   \n",
       "9     R        2015        US       merlot           NaN     13  Washington   \n",
       "\n",
       "  Score Vintage         Vinyard  \n",
       "0     4    2013     Vinho Verde  \n",
       "1     3    2013       Peyruchet  \n",
       "2     3    2013         Abacela  \n",
       "3   2.5    2012           Ochoa  \n",
       "4     3    2012       Heartland  \n",
       "5   3.5    2012     Crow Canyon  \n",
       "6   2.5    2013         Abacela  \n",
       "7   3.5    2012  David Beaulieu  \n",
       "8   3.5    2011     Chantemerle  \n",
       "9     4    2011           Hyatt  "
      ]
     },
     "execution_count": 29,
     "metadata": {},
     "output_type": "execute_result"
    }
   ],
   "source": [
    "df.head(10)"
   ]
  },
  {
   "cell_type": "code",
   "execution_count": 24,
   "metadata": {
    "collapsed": false
   },
   "outputs": [
    {
     "data": {
      "text/plain": [
       "(61, 10)"
      ]
     },
     "execution_count": 24,
     "metadata": {},
     "output_type": "execute_result"
    }
   ],
   "source": [
    "df.shape"
   ]
  },
  {
   "cell_type": "code",
   "execution_count": 25,
   "metadata": {
    "collapsed": true
   },
   "outputs": [],
   "source": [
    "df.replace('', np.nan, inplace = True)"
   ]
  },
  {
   "cell_type": "code",
   "execution_count": 26,
   "metadata": {
    "collapsed": false
   },
   "outputs": [
    {
     "data": {
      "text/html": [
       "<div>\n",
       "<table border=\"1\" class=\"dataframe\">\n",
       "  <thead>\n",
       "    <tr style=\"text-align: right;\">\n",
       "      <th></th>\n",
       "      <th>Color</th>\n",
       "      <th>Consumed In</th>\n",
       "      <th>Country</th>\n",
       "      <th>Grape</th>\n",
       "      <th>Name</th>\n",
       "      <th>Price</th>\n",
       "      <th>Region</th>\n",
       "      <th>Score</th>\n",
       "      <th>Vintage</th>\n",
       "      <th>Vinyard</th>\n",
       "    </tr>\n",
       "  </thead>\n",
       "  <tbody>\n",
       "    <tr>\n",
       "      <th>0</th>\n",
       "      <td>W</td>\n",
       "      <td>2015</td>\n",
       "      <td>Portugal</td>\n",
       "      <td>NaN</td>\n",
       "      <td>NaN</td>\n",
       "      <td>NaN</td>\n",
       "      <td>Portugal</td>\n",
       "      <td>4</td>\n",
       "      <td>2013</td>\n",
       "      <td>Vinho Verde</td>\n",
       "    </tr>\n",
       "    <tr>\n",
       "      <th>1</th>\n",
       "      <td>W</td>\n",
       "      <td>2015</td>\n",
       "      <td>France</td>\n",
       "      <td>NaN</td>\n",
       "      <td>NaN</td>\n",
       "      <td>17.8</td>\n",
       "      <td>France</td>\n",
       "      <td>3</td>\n",
       "      <td>2013</td>\n",
       "      <td>Peyruchet</td>\n",
       "    </tr>\n",
       "    <tr>\n",
       "      <th>2</th>\n",
       "      <td>W</td>\n",
       "      <td>2015</td>\n",
       "      <td>Oregon</td>\n",
       "      <td>NaN</td>\n",
       "      <td>NaN</td>\n",
       "      <td>20</td>\n",
       "      <td>Oregon</td>\n",
       "      <td>3</td>\n",
       "      <td>2013</td>\n",
       "      <td>Abacela</td>\n",
       "    </tr>\n",
       "    <tr>\n",
       "      <th>3</th>\n",
       "      <td>W</td>\n",
       "      <td>2015</td>\n",
       "      <td>Spain</td>\n",
       "      <td>chardonay</td>\n",
       "      <td>NaN</td>\n",
       "      <td>7</td>\n",
       "      <td>Spain</td>\n",
       "      <td>2.5</td>\n",
       "      <td>2012</td>\n",
       "      <td>Ochoa</td>\n",
       "    </tr>\n",
       "    <tr>\n",
       "      <th>4</th>\n",
       "      <td>R</td>\n",
       "      <td>2015</td>\n",
       "      <td>US</td>\n",
       "      <td>chiraz, cab</td>\n",
       "      <td>Spice Trader</td>\n",
       "      <td>6</td>\n",
       "      <td>NaN</td>\n",
       "      <td>3</td>\n",
       "      <td>2012</td>\n",
       "      <td>Heartland</td>\n",
       "    </tr>\n",
       "  </tbody>\n",
       "</table>\n",
       "</div>"
      ],
      "text/plain": [
       "  Color Consumed In   Country        Grape          Name Price    Region  \\\n",
       "0     W        2015  Portugal          NaN           NaN   NaN  Portugal   \n",
       "1     W        2015    France          NaN           NaN  17.8    France   \n",
       "2     W        2015    Oregon          NaN           NaN    20    Oregon   \n",
       "3     W        2015     Spain    chardonay           NaN     7     Spain   \n",
       "4     R        2015        US  chiraz, cab  Spice Trader     6       NaN   \n",
       "\n",
       "  Score Vintage      Vinyard  \n",
       "0     4    2013  Vinho Verde  \n",
       "1     3    2013    Peyruchet  \n",
       "2     3    2013      Abacela  \n",
       "3   2.5    2012        Ochoa  \n",
       "4     3    2012    Heartland  "
      ]
     },
     "execution_count": 26,
     "metadata": {},
     "output_type": "execute_result"
    }
   ],
   "source": [
    "df.head()"
   ]
  },
  {
   "cell_type": "code",
   "execution_count": 28,
   "metadata": {
    "collapsed": false
   },
   "outputs": [
    {
     "name": "stdout",
     "output_type": "stream",
     "text": [
      "<class 'pandas.core.frame.DataFrame'>\n",
      "RangeIndex: 61 entries, 0 to 60\n",
      "Data columns (total 10 columns):\n",
      "Color          61 non-null object\n",
      "Consumed In    61 non-null object\n",
      "Country        59 non-null object\n",
      "Grape          18 non-null object\n",
      "Name           52 non-null object\n",
      "Price          55 non-null object\n",
      "Region         60 non-null object\n",
      "Score          60 non-null object\n",
      "Vintage        61 non-null object\n",
      "Vinyard        29 non-null object\n",
      "dtypes: object(10)\n",
      "memory usage: 4.8+ KB\n"
     ]
    }
   ],
   "source": [
    "df.info()"
   ]
  },
  {
   "cell_type": "code",
   "execution_count": 33,
   "metadata": {
    "collapsed": true
   },
   "outputs": [],
   "source": [
    "df[['Price', 'Score']] = df[['Price', 'Score']].astype(float)"
   ]
  },
  {
   "cell_type": "code",
   "execution_count": 35,
   "metadata": {
    "collapsed": false
   },
   "outputs": [
    {
     "data": {
      "text/html": [
       "<div>\n",
       "<table border=\"1\" class=\"dataframe\">\n",
       "  <thead>\n",
       "    <tr style=\"text-align: right;\">\n",
       "      <th></th>\n",
       "      <th>Price</th>\n",
       "      <th>Score</th>\n",
       "    </tr>\n",
       "  </thead>\n",
       "  <tbody>\n",
       "    <tr>\n",
       "      <th>count</th>\n",
       "      <td>55.00000</td>\n",
       "      <td>60.000000</td>\n",
       "    </tr>\n",
       "    <tr>\n",
       "      <th>mean</th>\n",
       "      <td>122.27800</td>\n",
       "      <td>6.891667</td>\n",
       "    </tr>\n",
       "    <tr>\n",
       "      <th>std</th>\n",
       "      <td>92.60378</td>\n",
       "      <td>3.372485</td>\n",
       "    </tr>\n",
       "    <tr>\n",
       "      <th>min</th>\n",
       "      <td>6.00000</td>\n",
       "      <td>2.000000</td>\n",
       "    </tr>\n",
       "    <tr>\n",
       "      <th>25%</th>\n",
       "      <td>NaN</td>\n",
       "      <td>NaN</td>\n",
       "    </tr>\n",
       "    <tr>\n",
       "      <th>50%</th>\n",
       "      <td>NaN</td>\n",
       "      <td>NaN</td>\n",
       "    </tr>\n",
       "    <tr>\n",
       "      <th>75%</th>\n",
       "      <td>NaN</td>\n",
       "      <td>NaN</td>\n",
       "    </tr>\n",
       "    <tr>\n",
       "      <th>max</th>\n",
       "      <td>200.00000</td>\n",
       "      <td>10.000000</td>\n",
       "    </tr>\n",
       "  </tbody>\n",
       "</table>\n",
       "</div>"
      ],
      "text/plain": [
       "           Price      Score\n",
       "count   55.00000  60.000000\n",
       "mean   122.27800   6.891667\n",
       "std     92.60378   3.372485\n",
       "min      6.00000   2.000000\n",
       "25%          NaN        NaN\n",
       "50%          NaN        NaN\n",
       "75%          NaN        NaN\n",
       "max    200.00000  10.000000"
      ]
     },
     "execution_count": 35,
     "metadata": {},
     "output_type": "execute_result"
    }
   ],
   "source": [
    "df.describe()"
   ]
  },
  {
   "cell_type": "markdown",
   "metadata": {},
   "source": [
    "## Exercise 4: Feature Extraction\n",
    "\n",
    "We would like to use a regression tree to predict the score of a wine. In order to do that, we first need to select and engineer appropriate features.\n",
    "\n",
    "- Set the target to be the Score column, drop the rows with no score\n",
    "- Use pd.get_dummies to create dummy features for all the text columns\n",
    "- Fill the nan values in the numerical columns, using an appropriate method\n",
    "- Train a Decision tree regressor on the Score, using a train test split:\n",
    "        X_train, X_test, y_train, y_test, = train_test_split(X, y, test_size=0.3, random_state=42)\n",
    "- Plot the test values, the predicted values and the residuals\n",
    "- Calculate R^2 score\n",
    "- Discuss your findings\n"
   ]
  },
  {
   "cell_type": "code",
   "execution_count": 36,
   "metadata": {
    "collapsed": false
   },
   "outputs": [
    {
     "name": "stdout",
     "output_type": "stream",
     "text": [
      "<class 'pandas.core.frame.DataFrame'>\n",
      "Int64Index: 60 entries, 0 to 60\n",
      "Data columns (total 10 columns):\n",
      "Color          60 non-null object\n",
      "Consumed In    60 non-null object\n",
      "Country        58 non-null object\n",
      "Grape          18 non-null object\n",
      "Name           51 non-null object\n",
      "Price          55 non-null float64\n",
      "Region         59 non-null object\n",
      "Score          60 non-null float64\n",
      "Vintage        60 non-null object\n",
      "Vinyard        28 non-null object\n",
      "dtypes: float64(2), object(8)\n",
      "memory usage: 5.2+ KB\n"
     ]
    }
   ],
   "source": [
    "df1 = df[~df['Score'].isnull()]\n",
    "df1.info()"
   ]
  },
  {
   "cell_type": "code",
   "execution_count": 37,
   "metadata": {
    "collapsed": true
   },
   "outputs": [],
   "source": [
    "y = df1['Score']"
   ]
  },
  {
   "cell_type": "code",
   "execution_count": 38,
   "metadata": {
    "collapsed": false
   },
   "outputs": [
    {
     "data": {
      "text/html": [
       "<div>\n",
       "<table border=\"1\" class=\"dataframe\">\n",
       "  <thead>\n",
       "    <tr style=\"text-align: right;\">\n",
       "      <th></th>\n",
       "      <th>Color</th>\n",
       "      <th>Consumed In</th>\n",
       "      <th>Country</th>\n",
       "      <th>Grape</th>\n",
       "      <th>Name</th>\n",
       "      <th>Price</th>\n",
       "      <th>Region</th>\n",
       "      <th>Score</th>\n",
       "      <th>Vintage</th>\n",
       "      <th>Vinyard</th>\n",
       "    </tr>\n",
       "  </thead>\n",
       "  <tbody>\n",
       "    <tr>\n",
       "      <th>0</th>\n",
       "      <td>W</td>\n",
       "      <td>2015</td>\n",
       "      <td>Portugal</td>\n",
       "      <td>NaN</td>\n",
       "      <td>NaN</td>\n",
       "      <td>NaN</td>\n",
       "      <td>Portugal</td>\n",
       "      <td>4.0</td>\n",
       "      <td>2013</td>\n",
       "      <td>Vinho Verde</td>\n",
       "    </tr>\n",
       "    <tr>\n",
       "      <th>1</th>\n",
       "      <td>W</td>\n",
       "      <td>2015</td>\n",
       "      <td>France</td>\n",
       "      <td>NaN</td>\n",
       "      <td>NaN</td>\n",
       "      <td>17.8</td>\n",
       "      <td>France</td>\n",
       "      <td>3.0</td>\n",
       "      <td>2013</td>\n",
       "      <td>Peyruchet</td>\n",
       "    </tr>\n",
       "    <tr>\n",
       "      <th>2</th>\n",
       "      <td>W</td>\n",
       "      <td>2015</td>\n",
       "      <td>Oregon</td>\n",
       "      <td>NaN</td>\n",
       "      <td>NaN</td>\n",
       "      <td>20.0</td>\n",
       "      <td>Oregon</td>\n",
       "      <td>3.0</td>\n",
       "      <td>2013</td>\n",
       "      <td>Abacela</td>\n",
       "    </tr>\n",
       "    <tr>\n",
       "      <th>3</th>\n",
       "      <td>W</td>\n",
       "      <td>2015</td>\n",
       "      <td>Spain</td>\n",
       "      <td>chardonay</td>\n",
       "      <td>NaN</td>\n",
       "      <td>7.0</td>\n",
       "      <td>Spain</td>\n",
       "      <td>2.5</td>\n",
       "      <td>2012</td>\n",
       "      <td>Ochoa</td>\n",
       "    </tr>\n",
       "    <tr>\n",
       "      <th>4</th>\n",
       "      <td>R</td>\n",
       "      <td>2015</td>\n",
       "      <td>US</td>\n",
       "      <td>chiraz, cab</td>\n",
       "      <td>Spice Trader</td>\n",
       "      <td>6.0</td>\n",
       "      <td>NaN</td>\n",
       "      <td>3.0</td>\n",
       "      <td>2012</td>\n",
       "      <td>Heartland</td>\n",
       "    </tr>\n",
       "  </tbody>\n",
       "</table>\n",
       "</div>"
      ],
      "text/plain": [
       "  Color Consumed In   Country        Grape          Name  Price    Region  \\\n",
       "0     W        2015  Portugal          NaN           NaN    NaN  Portugal   \n",
       "1     W        2015    France          NaN           NaN   17.8    France   \n",
       "2     W        2015    Oregon          NaN           NaN   20.0    Oregon   \n",
       "3     W        2015     Spain    chardonay           NaN    7.0     Spain   \n",
       "4     R        2015        US  chiraz, cab  Spice Trader    6.0       NaN   \n",
       "\n",
       "   Score Vintage      Vinyard  \n",
       "0    4.0    2013  Vinho Verde  \n",
       "1    3.0    2013    Peyruchet  \n",
       "2    3.0    2013      Abacela  \n",
       "3    2.5    2012        Ochoa  \n",
       "4    3.0    2012    Heartland  "
      ]
     },
     "execution_count": 38,
     "metadata": {},
     "output_type": "execute_result"
    }
   ],
   "source": [
    "df1.head() "
   ]
  },
  {
   "cell_type": "code",
   "execution_count": 40,
   "metadata": {
    "collapsed": true
   },
   "outputs": [],
   "source": [
    "num = ['Consumed In', 'Price', 'Vintage']\n",
    "dum = [c for c in df1.columns if c not in num + ['Score']]"
   ]
  },
  {
   "cell_type": "code",
   "execution_count": 49,
   "metadata": {
    "collapsed": false
   },
   "outputs": [],
   "source": [
    "med = df1[num].median()"
   ]
  },
  {
   "cell_type": "code",
   "execution_count": 50,
   "metadata": {
    "collapsed": false
   },
   "outputs": [
    {
     "name": "stderr",
     "output_type": "stream",
     "text": [
      "/anaconda/lib/python2.7/site-packages/ipykernel/__main__.py:1: SettingWithCopyWarning: \n",
      "A value is trying to be set on a copy of a slice from a DataFrame.\n",
      "Try using .loc[row_indexer,col_indexer] = value instead\n",
      "\n",
      "See the caveats in the documentation: http://pandas.pydata.org/pandas-docs/stable/indexing.html#indexing-view-versus-copy\n",
      "  if __name__ == '__main__':\n"
     ]
    }
   ],
   "source": [
    "df1['Consumed In'] = df1['Consumed In'].apply(lambda x: x if x > 0 else med[0])"
   ]
  },
  {
   "cell_type": "code",
   "execution_count": 51,
   "metadata": {
    "collapsed": false
   },
   "outputs": [
    {
     "name": "stderr",
     "output_type": "stream",
     "text": [
      "//anaconda/lib/python2.7/site-packages/pandas/core/indexing.py:465: SettingWithCopyWarning: \n",
      "A value is trying to be set on a copy of a slice from a DataFrame.\n",
      "Try using .loc[row_indexer,col_indexer] = value instead\n",
      "\n",
      "See the caveats in the documentation: http://pandas.pydata.org/pandas-docs/stable/indexing.html#indexing-view-versus-copy\n",
      "  self.obj[item] = s\n"
     ]
    }
   ],
   "source": [
    "df1.loc[:,'Price'] = df1['Price'].apply(lambda x: x if x> 0 else med[1])\n",
    "df1.loc[:,'Vintage'] = df1['Vintage'].apply(lambda x: x if x> 0 else med[2])"
   ]
  },
  {
   "cell_type": "code",
   "execution_count": 56,
   "metadata": {
    "collapsed": false
   },
   "outputs": [
    {
     "data": {
      "text/html": [
       "<div>\n",
       "<table border=\"1\" class=\"dataframe\">\n",
       "  <thead>\n",
       "    <tr style=\"text-align: right;\">\n",
       "      <th></th>\n",
       "      <th>Color</th>\n",
       "      <th>Consumed In</th>\n",
       "      <th>Country</th>\n",
       "      <th>Grape</th>\n",
       "      <th>Name</th>\n",
       "      <th>Price</th>\n",
       "      <th>Region</th>\n",
       "      <th>Score</th>\n",
       "      <th>Vintage</th>\n",
       "      <th>Vinyard</th>\n",
       "    </tr>\n",
       "  </thead>\n",
       "  <tbody>\n",
       "    <tr>\n",
       "      <th>0</th>\n",
       "      <td>W</td>\n",
       "      <td>2015</td>\n",
       "      <td>Portugal</td>\n",
       "      <td>NaN</td>\n",
       "      <td>NaN</td>\n",
       "      <td>200.00</td>\n",
       "      <td>Portugal</td>\n",
       "      <td>4.0</td>\n",
       "      <td>2013</td>\n",
       "      <td>Vinho Verde</td>\n",
       "    </tr>\n",
       "    <tr>\n",
       "      <th>1</th>\n",
       "      <td>W</td>\n",
       "      <td>2015</td>\n",
       "      <td>France</td>\n",
       "      <td>NaN</td>\n",
       "      <td>NaN</td>\n",
       "      <td>17.80</td>\n",
       "      <td>France</td>\n",
       "      <td>3.0</td>\n",
       "      <td>2013</td>\n",
       "      <td>Peyruchet</td>\n",
       "    </tr>\n",
       "    <tr>\n",
       "      <th>2</th>\n",
       "      <td>W</td>\n",
       "      <td>2015</td>\n",
       "      <td>Oregon</td>\n",
       "      <td>NaN</td>\n",
       "      <td>NaN</td>\n",
       "      <td>20.00</td>\n",
       "      <td>Oregon</td>\n",
       "      <td>3.0</td>\n",
       "      <td>2013</td>\n",
       "      <td>Abacela</td>\n",
       "    </tr>\n",
       "    <tr>\n",
       "      <th>3</th>\n",
       "      <td>W</td>\n",
       "      <td>2015</td>\n",
       "      <td>Spain</td>\n",
       "      <td>chardonay</td>\n",
       "      <td>NaN</td>\n",
       "      <td>7.00</td>\n",
       "      <td>Spain</td>\n",
       "      <td>2.5</td>\n",
       "      <td>2012</td>\n",
       "      <td>Ochoa</td>\n",
       "    </tr>\n",
       "    <tr>\n",
       "      <th>4</th>\n",
       "      <td>R</td>\n",
       "      <td>2015</td>\n",
       "      <td>US</td>\n",
       "      <td>chiraz, cab</td>\n",
       "      <td>Spice Trader</td>\n",
       "      <td>6.00</td>\n",
       "      <td>NaN</td>\n",
       "      <td>3.0</td>\n",
       "      <td>2012</td>\n",
       "      <td>Heartland</td>\n",
       "    </tr>\n",
       "    <tr>\n",
       "      <th>5</th>\n",
       "      <td>R</td>\n",
       "      <td>2015</td>\n",
       "      <td>US</td>\n",
       "      <td>cab</td>\n",
       "      <td>NaN</td>\n",
       "      <td>13.00</td>\n",
       "      <td>California</td>\n",
       "      <td>3.5</td>\n",
       "      <td>2012</td>\n",
       "      <td>Crow Canyon</td>\n",
       "    </tr>\n",
       "    <tr>\n",
       "      <th>6</th>\n",
       "      <td>R</td>\n",
       "      <td>2015</td>\n",
       "      <td>US</td>\n",
       "      <td>NaN</td>\n",
       "      <td>#14</td>\n",
       "      <td>21.00</td>\n",
       "      <td>Oregon</td>\n",
       "      <td>2.5</td>\n",
       "      <td>2013</td>\n",
       "      <td>Abacela</td>\n",
       "    </tr>\n",
       "    <tr>\n",
       "      <th>7</th>\n",
       "      <td>R</td>\n",
       "      <td>2015</td>\n",
       "      <td>France</td>\n",
       "      <td>merlot, cab</td>\n",
       "      <td>NaN</td>\n",
       "      <td>12.00</td>\n",
       "      <td>Bordeaux</td>\n",
       "      <td>3.5</td>\n",
       "      <td>2012</td>\n",
       "      <td>David Beaulieu</td>\n",
       "    </tr>\n",
       "    <tr>\n",
       "      <th>8</th>\n",
       "      <td>R</td>\n",
       "      <td>2015</td>\n",
       "      <td>France</td>\n",
       "      <td>merlot, cab</td>\n",
       "      <td>NaN</td>\n",
       "      <td>11.99</td>\n",
       "      <td>Medoc</td>\n",
       "      <td>3.5</td>\n",
       "      <td>2011</td>\n",
       "      <td>Chantemerle</td>\n",
       "    </tr>\n",
       "    <tr>\n",
       "      <th>9</th>\n",
       "      <td>R</td>\n",
       "      <td>2015</td>\n",
       "      <td>US</td>\n",
       "      <td>merlot</td>\n",
       "      <td>NaN</td>\n",
       "      <td>13.00</td>\n",
       "      <td>Washington</td>\n",
       "      <td>4.0</td>\n",
       "      <td>2011</td>\n",
       "      <td>Hyatt</td>\n",
       "    </tr>\n",
       "    <tr>\n",
       "      <th>10</th>\n",
       "      <td>R</td>\n",
       "      <td>2015</td>\n",
       "      <td>Italy</td>\n",
       "      <td>sangiovese</td>\n",
       "      <td>Rosso Dei Poggi</td>\n",
       "      <td>12.00</td>\n",
       "      <td>Tuscany</td>\n",
       "      <td>3.0</td>\n",
       "      <td>2012</td>\n",
       "      <td>Rosso Dei Poggi</td>\n",
       "    </tr>\n",
       "    <tr>\n",
       "      <th>11</th>\n",
       "      <td>R</td>\n",
       "      <td>2015</td>\n",
       "      <td>NaN</td>\n",
       "      <td>NaN</td>\n",
       "      <td>Montepulciano D'Abruzzo</td>\n",
       "      <td>22.00</td>\n",
       "      <td>Tuscany</td>\n",
       "      <td>4.5</td>\n",
       "      <td>2013</td>\n",
       "      <td>Orizzonti</td>\n",
       "    </tr>\n",
       "    <tr>\n",
       "      <th>12</th>\n",
       "      <td>R</td>\n",
       "      <td>2015</td>\n",
       "      <td>US</td>\n",
       "      <td>chiraz</td>\n",
       "      <td>NaN</td>\n",
       "      <td>7.00</td>\n",
       "      <td>Oregon</td>\n",
       "      <td>3.5</td>\n",
       "      <td>2010</td>\n",
       "      <td>Abacelo</td>\n",
       "    </tr>\n",
       "    <tr>\n",
       "      <th>13</th>\n",
       "      <td>R</td>\n",
       "      <td>2015</td>\n",
       "      <td>Italy</td>\n",
       "      <td>sangiovese</td>\n",
       "      <td>Rosso Di Montalcino</td>\n",
       "      <td>15.00</td>\n",
       "      <td>Tuscany</td>\n",
       "      <td>3.5</td>\n",
       "      <td>2012</td>\n",
       "      <td>Ridolfi</td>\n",
       "    </tr>\n",
       "    <tr>\n",
       "      <th>14</th>\n",
       "      <td>W</td>\n",
       "      <td>2013</td>\n",
       "      <td>France</td>\n",
       "      <td>sauvignon blanc</td>\n",
       "      <td>Sancerre Cuvee Des Moulins Bales</td>\n",
       "      <td>12.00</td>\n",
       "      <td>Loire</td>\n",
       "      <td>3.0</td>\n",
       "      <td>2012</td>\n",
       "      <td>Celestin Blobdeau</td>\n",
       "    </tr>\n",
       "    <tr>\n",
       "      <th>15</th>\n",
       "      <td>R</td>\n",
       "      <td>2013</td>\n",
       "      <td>US</td>\n",
       "      <td>pinot noir</td>\n",
       "      <td>Meiomi</td>\n",
       "      <td>13.00</td>\n",
       "      <td>Napa</td>\n",
       "      <td>3.0</td>\n",
       "      <td>2012</td>\n",
       "      <td>Belle Glos</td>\n",
       "    </tr>\n",
       "    <tr>\n",
       "      <th>16</th>\n",
       "      <td>R</td>\n",
       "      <td>2013</td>\n",
       "      <td>France</td>\n",
       "      <td>NaN</td>\n",
       "      <td>Saint Drezery Prestige</td>\n",
       "      <td>13.00</td>\n",
       "      <td>France</td>\n",
       "      <td>3.0</td>\n",
       "      <td>2012</td>\n",
       "      <td>Puech-Haut</td>\n",
       "    </tr>\n",
       "    <tr>\n",
       "      <th>17</th>\n",
       "      <td>R</td>\n",
       "      <td>2013</td>\n",
       "      <td>France</td>\n",
       "      <td>NaN</td>\n",
       "      <td>Saint Drezery Prestige</td>\n",
       "      <td>14.00</td>\n",
       "      <td>France</td>\n",
       "      <td>2.0</td>\n",
       "      <td>2011</td>\n",
       "      <td>Puech-Haut</td>\n",
       "    </tr>\n",
       "    <tr>\n",
       "      <th>18</th>\n",
       "      <td>W</td>\n",
       "      <td>2014</td>\n",
       "      <td>US</td>\n",
       "      <td>sauvignon blanc</td>\n",
       "      <td>Sauvignon Blanc</td>\n",
       "      <td>14.50</td>\n",
       "      <td>Nappa</td>\n",
       "      <td>4.0</td>\n",
       "      <td>2012</td>\n",
       "      <td>Honig</td>\n",
       "    </tr>\n",
       "    <tr>\n",
       "      <th>19</th>\n",
       "      <td>W</td>\n",
       "      <td>2014</td>\n",
       "      <td>US</td>\n",
       "      <td>sauvignon blanc</td>\n",
       "      <td>Uppercut North Coast</td>\n",
       "      <td>11.00</td>\n",
       "      <td>Nappa</td>\n",
       "      <td>3.0</td>\n",
       "      <td>2012</td>\n",
       "      <td>Provenance</td>\n",
       "    </tr>\n",
       "  </tbody>\n",
       "</table>\n",
       "</div>"
      ],
      "text/plain": [
       "   Color Consumed In   Country            Grape  \\\n",
       "0      W        2015  Portugal              NaN   \n",
       "1      W        2015    France              NaN   \n",
       "2      W        2015    Oregon              NaN   \n",
       "3      W        2015     Spain        chardonay   \n",
       "4      R        2015        US      chiraz, cab   \n",
       "5      R        2015        US              cab   \n",
       "6      R        2015        US              NaN   \n",
       "7      R        2015    France      merlot, cab   \n",
       "8      R        2015    France      merlot, cab   \n",
       "9      R        2015        US           merlot   \n",
       "10     R        2015     Italy       sangiovese   \n",
       "11     R        2015       NaN              NaN   \n",
       "12     R        2015        US           chiraz   \n",
       "13     R        2015     Italy       sangiovese   \n",
       "14     W        2013    France  sauvignon blanc   \n",
       "15     R        2013        US       pinot noir   \n",
       "16     R        2013    France              NaN   \n",
       "17     R        2013    France              NaN   \n",
       "18     W        2014        US  sauvignon blanc   \n",
       "19     W        2014        US  sauvignon blanc   \n",
       "\n",
       "                                Name   Price      Region  Score Vintage  \\\n",
       "0                                NaN  200.00    Portugal    4.0    2013   \n",
       "1                                NaN   17.80      France    3.0    2013   \n",
       "2                                NaN   20.00      Oregon    3.0    2013   \n",
       "3                                NaN    7.00       Spain    2.5    2012   \n",
       "4                       Spice Trader    6.00         NaN    3.0    2012   \n",
       "5                                NaN   13.00  California    3.5    2012   \n",
       "6                                #14   21.00      Oregon    2.5    2013   \n",
       "7                                NaN   12.00    Bordeaux    3.5    2012   \n",
       "8                                NaN   11.99       Medoc    3.5    2011   \n",
       "9                                NaN   13.00  Washington    4.0    2011   \n",
       "10                   Rosso Dei Poggi   12.00     Tuscany    3.0    2012   \n",
       "11           Montepulciano D'Abruzzo   22.00     Tuscany    4.5    2013   \n",
       "12                               NaN    7.00      Oregon    3.5    2010   \n",
       "13               Rosso Di Montalcino   15.00     Tuscany    3.5    2012   \n",
       "14  Sancerre Cuvee Des Moulins Bales   12.00       Loire    3.0    2012   \n",
       "15                            Meiomi   13.00        Napa    3.0    2012   \n",
       "16            Saint Drezery Prestige   13.00      France    3.0    2012   \n",
       "17            Saint Drezery Prestige   14.00      France    2.0    2011   \n",
       "18                   Sauvignon Blanc   14.50       Nappa    4.0    2012   \n",
       "19              Uppercut North Coast   11.00       Nappa    3.0    2012   \n",
       "\n",
       "              Vinyard  \n",
       "0         Vinho Verde  \n",
       "1           Peyruchet  \n",
       "2             Abacela  \n",
       "3               Ochoa  \n",
       "4           Heartland  \n",
       "5         Crow Canyon  \n",
       "6             Abacela  \n",
       "7      David Beaulieu  \n",
       "8         Chantemerle  \n",
       "9               Hyatt  \n",
       "10    Rosso Dei Poggi  \n",
       "11          Orizzonti  \n",
       "12            Abacelo  \n",
       "13            Ridolfi  \n",
       "14  Celestin Blobdeau  \n",
       "15         Belle Glos  \n",
       "16         Puech-Haut  \n",
       "17         Puech-Haut  \n",
       "18              Honig  \n",
       "19         Provenance  "
      ]
     },
     "execution_count": 56,
     "metadata": {},
     "output_type": "execute_result"
    }
   ],
   "source": [
    "df1.head(20)"
   ]
  },
  {
   "cell_type": "code",
   "execution_count": 54,
   "metadata": {
    "collapsed": false
   },
   "outputs": [
    {
     "data": {
      "text/plain": [
       "R    46\n",
       "W    13\n",
       "P     1\n",
       "Name: Color, dtype: int64"
      ]
     },
     "execution_count": 54,
     "metadata": {},
     "output_type": "execute_result"
    }
   ],
   "source": [
    "df1['Color'].value_counts()"
   ]
  },
  {
   "cell_type": "code",
   "execution_count": 72,
   "metadata": {
    "collapsed": false
   },
   "outputs": [
    {
     "data": {
      "text/html": [
       "<div>\n",
       "<table border=\"1\" class=\"dataframe\">\n",
       "  <thead>\n",
       "    <tr style=\"text-align: right;\">\n",
       "      <th></th>\n",
       "      <th>Consumed In</th>\n",
       "      <th>Price</th>\n",
       "      <th>Vintage</th>\n",
       "      <th>Color_R</th>\n",
       "      <th>Color_W</th>\n",
       "      <th>Country_Italy</th>\n",
       "      <th>Country_Oregon</th>\n",
       "      <th>Country_Portugal</th>\n",
       "      <th>Country_Spain</th>\n",
       "      <th>Country_US</th>\n",
       "      <th>...</th>\n",
       "      <th>Vinyard_Orizzonti</th>\n",
       "      <th>Vinyard_Peyruchet</th>\n",
       "      <th>Vinyard_Provenance</th>\n",
       "      <th>Vinyard_Puech-Haut</th>\n",
       "      <th>Vinyard_Ridolfi</th>\n",
       "      <th>Vinyard_Rosso Dei Poggi</th>\n",
       "      <th>Vinyard_Truro Vineyards</th>\n",
       "      <th>Vinyard_Two Angels</th>\n",
       "      <th>Vinyard_Vaillons</th>\n",
       "      <th>Vinyard_Vinho Verde</th>\n",
       "    </tr>\n",
       "  </thead>\n",
       "  <tbody>\n",
       "    <tr>\n",
       "      <th>0</th>\n",
       "      <td>2015</td>\n",
       "      <td>200.0</td>\n",
       "      <td>2013</td>\n",
       "      <td>0.0</td>\n",
       "      <td>1.0</td>\n",
       "      <td>0.0</td>\n",
       "      <td>0.0</td>\n",
       "      <td>1.0</td>\n",
       "      <td>0.0</td>\n",
       "      <td>0.0</td>\n",
       "      <td>...</td>\n",
       "      <td>0.0</td>\n",
       "      <td>0.0</td>\n",
       "      <td>0.0</td>\n",
       "      <td>0.0</td>\n",
       "      <td>0.0</td>\n",
       "      <td>0.0</td>\n",
       "      <td>0.0</td>\n",
       "      <td>0.0</td>\n",
       "      <td>0.0</td>\n",
       "      <td>1.0</td>\n",
       "    </tr>\n",
       "    <tr>\n",
       "      <th>1</th>\n",
       "      <td>2015</td>\n",
       "      <td>17.8</td>\n",
       "      <td>2013</td>\n",
       "      <td>0.0</td>\n",
       "      <td>1.0</td>\n",
       "      <td>0.0</td>\n",
       "      <td>0.0</td>\n",
       "      <td>0.0</td>\n",
       "      <td>0.0</td>\n",
       "      <td>0.0</td>\n",
       "      <td>...</td>\n",
       "      <td>0.0</td>\n",
       "      <td>1.0</td>\n",
       "      <td>0.0</td>\n",
       "      <td>0.0</td>\n",
       "      <td>0.0</td>\n",
       "      <td>0.0</td>\n",
       "      <td>0.0</td>\n",
       "      <td>0.0</td>\n",
       "      <td>0.0</td>\n",
       "      <td>0.0</td>\n",
       "    </tr>\n",
       "    <tr>\n",
       "      <th>2</th>\n",
       "      <td>2015</td>\n",
       "      <td>20.0</td>\n",
       "      <td>2013</td>\n",
       "      <td>0.0</td>\n",
       "      <td>1.0</td>\n",
       "      <td>0.0</td>\n",
       "      <td>1.0</td>\n",
       "      <td>0.0</td>\n",
       "      <td>0.0</td>\n",
       "      <td>0.0</td>\n",
       "      <td>...</td>\n",
       "      <td>0.0</td>\n",
       "      <td>0.0</td>\n",
       "      <td>0.0</td>\n",
       "      <td>0.0</td>\n",
       "      <td>0.0</td>\n",
       "      <td>0.0</td>\n",
       "      <td>0.0</td>\n",
       "      <td>0.0</td>\n",
       "      <td>0.0</td>\n",
       "      <td>0.0</td>\n",
       "    </tr>\n",
       "    <tr>\n",
       "      <th>3</th>\n",
       "      <td>2015</td>\n",
       "      <td>7.0</td>\n",
       "      <td>2012</td>\n",
       "      <td>0.0</td>\n",
       "      <td>1.0</td>\n",
       "      <td>0.0</td>\n",
       "      <td>0.0</td>\n",
       "      <td>0.0</td>\n",
       "      <td>1.0</td>\n",
       "      <td>0.0</td>\n",
       "      <td>...</td>\n",
       "      <td>0.0</td>\n",
       "      <td>0.0</td>\n",
       "      <td>0.0</td>\n",
       "      <td>0.0</td>\n",
       "      <td>0.0</td>\n",
       "      <td>0.0</td>\n",
       "      <td>0.0</td>\n",
       "      <td>0.0</td>\n",
       "      <td>0.0</td>\n",
       "      <td>0.0</td>\n",
       "    </tr>\n",
       "    <tr>\n",
       "      <th>4</th>\n",
       "      <td>2015</td>\n",
       "      <td>6.0</td>\n",
       "      <td>2012</td>\n",
       "      <td>1.0</td>\n",
       "      <td>0.0</td>\n",
       "      <td>0.0</td>\n",
       "      <td>0.0</td>\n",
       "      <td>0.0</td>\n",
       "      <td>0.0</td>\n",
       "      <td>1.0</td>\n",
       "      <td>...</td>\n",
       "      <td>0.0</td>\n",
       "      <td>0.0</td>\n",
       "      <td>0.0</td>\n",
       "      <td>0.0</td>\n",
       "      <td>0.0</td>\n",
       "      <td>0.0</td>\n",
       "      <td>0.0</td>\n",
       "      <td>0.0</td>\n",
       "      <td>0.0</td>\n",
       "      <td>0.0</td>\n",
       "    </tr>\n",
       "  </tbody>\n",
       "</table>\n",
       "<p>5 rows × 79 columns</p>\n",
       "</div>"
      ],
      "text/plain": [
       "  Consumed In  Price Vintage  Color_R  Color_W  Country_Italy  Country_Oregon  \\\n",
       "0        2015  200.0    2013      0.0      1.0            0.0             0.0   \n",
       "1        2015   17.8    2013      0.0      1.0            0.0             0.0   \n",
       "2        2015   20.0    2013      0.0      1.0            0.0             1.0   \n",
       "3        2015    7.0    2012      0.0      1.0            0.0             0.0   \n",
       "4        2015    6.0    2012      1.0      0.0            0.0             0.0   \n",
       "\n",
       "   Country_Portugal  Country_Spain  Country_US         ...           \\\n",
       "0               1.0            0.0         0.0         ...            \n",
       "1               0.0            0.0         0.0         ...            \n",
       "2               0.0            0.0         0.0         ...            \n",
       "3               0.0            1.0         0.0         ...            \n",
       "4               0.0            0.0         1.0         ...            \n",
       "\n",
       "   Vinyard_Orizzonti  Vinyard_Peyruchet  Vinyard_Provenance  \\\n",
       "0                0.0                0.0                 0.0   \n",
       "1                0.0                1.0                 0.0   \n",
       "2                0.0                0.0                 0.0   \n",
       "3                0.0                0.0                 0.0   \n",
       "4                0.0                0.0                 0.0   \n",
       "\n",
       "   Vinyard_Puech-Haut  Vinyard_Ridolfi  Vinyard_Rosso Dei Poggi  \\\n",
       "0                 0.0              0.0                      0.0   \n",
       "1                 0.0              0.0                      0.0   \n",
       "2                 0.0              0.0                      0.0   \n",
       "3                 0.0              0.0                      0.0   \n",
       "4                 0.0              0.0                      0.0   \n",
       "\n",
       "   Vinyard_Truro Vineyards  Vinyard_Two Angels  Vinyard_Vaillons  \\\n",
       "0                      0.0                 0.0               0.0   \n",
       "1                      0.0                 0.0               0.0   \n",
       "2                      0.0                 0.0               0.0   \n",
       "3                      0.0                 0.0               0.0   \n",
       "4                      0.0                 0.0               0.0   \n",
       "\n",
       "   Vinyard_Vinho Verde  \n",
       "0                  1.0  \n",
       "1                  0.0  \n",
       "2                  0.0  \n",
       "3                  0.0  \n",
       "4                  0.0  \n",
       "\n",
       "[5 rows x 79 columns]"
      ]
     },
     "execution_count": 72,
     "metadata": {},
     "output_type": "execute_result"
    }
   ],
   "source": [
    "X = df1[num].join(pd.get_dummies(df1[dum], drop_first=True))\n",
    "X.head()"
   ]
  },
  {
   "cell_type": "code",
   "execution_count": 57,
   "metadata": {
    "collapsed": true
   },
   "outputs": [],
   "source": [
    "# Dropping columns\n",
    "\n",
    "del X['Color_R']\n",
    "del X['Country_US']\n",
    "del X['Grape_pinot noir']\n",
    "del X['Name_Meiomi']\n",
    "del X['Region_Napa']\n",
    "del X['Vinyard_Belle Glos']"
   ]
  },
  {
   "cell_type": "code",
   "execution_count": 73,
   "metadata": {
    "collapsed": true
   },
   "outputs": [],
   "source": [
    "X['Intercept'] = 1."
   ]
  },
  {
   "cell_type": "code",
   "execution_count": 64,
   "metadata": {
    "collapsed": false
   },
   "outputs": [],
   "source": [
    "from sklearn.tree import DecisionTreeRegressor\n",
    "from sklearn.cross_validation import train_test_split\n",
    "from sklearn.preprocessing import Imputer\n",
    "from sklearn.pipeline import make_pipeline"
   ]
  },
  {
   "cell_type": "code",
   "execution_count": 74,
   "metadata": {
    "collapsed": true
   },
   "outputs": [],
   "source": [
    "dt = make_pipeline(Imputer(), DecisionTreeRegressor())"
   ]
  },
  {
   "cell_type": "code",
   "execution_count": 75,
   "metadata": {
    "collapsed": true
   },
   "outputs": [],
   "source": [
    "X_train, X_test, y_train, y_test = train_test_split(X, y, test_size = 0.3, random_state = 42)"
   ]
  },
  {
   "cell_type": "code",
   "execution_count": 76,
   "metadata": {
    "collapsed": false
   },
   "outputs": [
    {
     "data": {
      "text/plain": [
       "Pipeline(steps=[('imputer', Imputer(axis=0, copy=True, missing_values='NaN', strategy='mean', verbose=0)), ('decisiontreeregressor', DecisionTreeRegressor(criterion='mse', max_depth=None, max_features=None,\n",
       "           max_leaf_nodes=None, min_impurity_split=1e-07,\n",
       "           min_samples_leaf=1, min_samples_split=2,\n",
       "           min_weight_fraction_leaf=0.0, presort=False, random_state=None,\n",
       "           splitter='best'))])"
      ]
     },
     "execution_count": 76,
     "metadata": {},
     "output_type": "execute_result"
    }
   ],
   "source": [
    "dt.fit(X_train, y_train)"
   ]
  },
  {
   "cell_type": "code",
   "execution_count": 77,
   "metadata": {
    "collapsed": true
   },
   "outputs": [],
   "source": [
    "pred = dt.predict(X_test)"
   ]
  },
  {
   "cell_type": "code",
   "execution_count": 78,
   "metadata": {
    "collapsed": false
   },
   "outputs": [
    {
     "data": {
      "text/plain": [
       "<matplotlib.legend.Legend at 0x11a667dd0>"
      ]
     },
     "execution_count": 78,
     "metadata": {},
     "output_type": "execute_result"
    },
    {
     "data": {
      "image/png": "[encoded data removed]",
      "text/plain": [
       "<matplotlib.figure.Figure at 0x11a472050>"
      ]
     },
     "metadata": {},
     "output_type": "display_data"
    }
   ],
   "source": [
    "plt.plot(y_test.values, 'o')\n",
    "plt.plot(pred, 'o')\n",
    "plt.legend(['actual', 'predicted'])"
   ]
  },
  {
   "cell_type": "code",
   "execution_count": 79,
   "metadata": {
    "collapsed": false
   },
   "outputs": [
    {
     "data": {
      "text/plain": [
       "<matplotlib.lines.Line2D at 0x11a490f90>"
      ]
     },
     "execution_count": 79,
     "metadata": {},
     "output_type": "execute_result"
    },
    {
     "data": {
      "image/png": "[encoded data removed]",
      "text/plain": [
       "<matplotlib.figure.Figure at 0x11a5f1f90>"
      ]
     },
     "metadata": {},
     "output_type": "display_data"
    }
   ],
   "source": [
    "resid = pred - y_test.values\n",
    "plt.plot(resid, 'o-')\n",
    "plt.axhline(resid.mean(), color = 'r')"
   ]
  },
  {
   "cell_type": "code",
   "execution_count": 80,
   "metadata": {
    "collapsed": false
   },
   "outputs": [
    {
     "data": {
      "text/plain": [
       "0.97774596564289429"
      ]
     },
     "execution_count": 80,
     "metadata": {},
     "output_type": "execute_result"
    }
   ],
   "source": [
    "from sklearn.metrics import r2_score\n",
    "\n",
    "r2_score(y_test, pred)"
   ]
  },
  {
   "cell_type": "markdown",
   "metadata": {},
   "source": [
    "## Exercise 5: IMDB Movies\n",
    "\n",
    "Sometimes an API doesn't provide all the information we would like to get and we need to be creative.\n",
    "Here we will use a combination of scraping and API calls to investigate the ratings and gross earnings of famous movies."
   ]
  },
  {
   "cell_type": "markdown",
   "metadata": {
    "collapsed": true
   },
   "source": [
    "## 5.a Get top movies\n",
    "\n",
    "The Internet Movie Database contains data about movies. Unfortunately it does not have a public API.\n",
    "\n",
    "The page http://www.imdb.com/chart/top contains the list of the top 250 movies of all times. Retrieve the page using the requests library and then parse the html to obtain a list of the `movie_ids` for these movies. You can parse it with regular expression or using a library like `BeautifulSoup`.\n",
    "\n",
    "**Hint:** movie_ids look like this: `tt2582802`"
   ]
  },
  {
   "cell_type": "code",
   "execution_count": 83,
   "metadata": {
    "collapsed": false
   },
   "outputs": [],
   "source": [
    "url = 'http://www.imdb.com/chart/top'\n",
    "\n",
    "def get_top250():\n",
    "    responses = requests.get(url)\n",
    "    txt = responses.text\n",
    "    entry = re.findall(\"<a href.*?/title/(.*?)/\", txt)\n",
    "    return list(set(entry))"
   ]
  },
  {
   "cell_type": "code",
   "execution_count": 87,
   "metadata": {
    "collapsed": false
   },
   "outputs": [],
   "source": [
    "top_movies = get_top250()"
   ]
  },
  {
   "cell_type": "code",
   "execution_count": 88,
   "metadata": {
    "collapsed": false
   },
   "outputs": [
    {
     "data": {
      "text/plain": [
       "[u'tt2582802',\n",
       " u'tt0047478',\n",
       " u'tt0082971',\n",
       " u'tt0050212',\n",
       " u'tt0848228',\n",
       " u'tt1663202',\n",
       " u'tt0338564',\n",
       " u'tt0046268',\n",
       " u'tt0055630',\n",
       " u'tt0266543',\n",
       " u'tt0042192',\n",
       " u'tt0198781',\n",
       " u'tt1979320',\n",
       " u'tt0405159',\n",
       " u'tt0057115',\n",
       " u'tt0253474',\n",
       " u'tt0071315',\n",
       " u'tt0114746',\n",
       " u'tt0363163',\n",
       " u'tt0119217',\n",
       " u'tt1865505',\n",
       " u'tt0074896',\n",
       " u'tt1895587',\n",
       " u'tt0347149',\n",
       " u'tt0021749',\n",
       " u'tt0119488',\n",
       " u'tt1187043',\n",
       " u'tt0053125',\n",
       " u'tt0268978',\n",
       " u'tt0112471',\n",
       " u'tt2084970',\n",
       " u'tt1220719',\n",
       " u'tt0025316',\n",
       " u'tt2015381',\n",
       " u'tt0118849',\n",
       " u'tt0083922',\n",
       " u'tt0088247',\n",
       " u'tt0468569',\n",
       " u'tt0087843',\n",
       " u'tt0072684',\n",
       " u'tt2024544',\n",
       " u'tt0074958',\n",
       " u'tt0325980',\n",
       " u'tt0052618',\n",
       " u'tt0364569',\n",
       " u'tt0081398',\n",
       " u'tt0036775',\n",
       " u'tt0120382',\n",
       " u'tt0110357',\n",
       " u'tt0079470',\n",
       " u'tt0071853',\n",
       " u'tt0095765',\n",
       " u'tt0075148',\n",
       " u'tt0978762',\n",
       " u'tt1255953',\n",
       " u'tt0036868',\n",
       " u'tt0080678',\n",
       " u'tt0093779',\n",
       " u'tt0108052',\n",
       " u'tt0056592',\n",
       " u'tt0088763',\n",
       " u'tt0095327',\n",
       " u'tt0482571',\n",
       " u'tt0053291',\n",
       " u'tt0245712',\n",
       " u'tt0407887',\n",
       " u'tt0044741',\n",
       " u'tt1130884',\n",
       " u'tt1201607',\n",
       " u'tt0120586',\n",
       " u'tt0114814',\n",
       " u'tt0046438',\n",
       " u'tt0107048',\n",
       " u'tt0015864',\n",
       " u'tt0107207',\n",
       " u'tt0045152',\n",
       " u'tt2948356',\n",
       " u'tt0167261',\n",
       " u'tt0167260',\n",
       " u'tt0095016',\n",
       " u'tt0046911',\n",
       " u'tt0172495',\n",
       " u'tt0050986',\n",
       " u'tt0046912',\n",
       " u'tt0091251',\n",
       " u'tt0993846',\n",
       " u'tt0078748',\n",
       " u'tt2106476',\n",
       " u'tt0012349',\n",
       " u'tt0372784',\n",
       " u'tt0120731',\n",
       " u'tt0101414',\n",
       " u'tt0113247',\n",
       " u'tt0107290',\n",
       " u'tt0469494',\n",
       " u'tt0070735',\n",
       " u'tt0032553',\n",
       " u'tt0032551',\n",
       " u'tt0052357',\n",
       " u'tt0361748',\n",
       " u'tt0440963',\n",
       " u'tt0435761',\n",
       " u'tt0317248',\n",
       " u'tt1049413',\n",
       " u'tt0060827',\n",
       " u'tt0266697',\n",
       " u'tt0264464',\n",
       " u'tt0211915',\n",
       " u'tt0031679',\n",
       " u'tt0080684',\n",
       " u'tt0892769',\n",
       " u'tt0401792',\n",
       " u'tt3659388',\n",
       " u'tt0056172',\n",
       " u'tt0102926',\n",
       " u'tt0053198',\n",
       " u'tt1853728',\n",
       " u'tt0032138',\n",
       " u'tt2096673',\n",
       " u'tt0050825',\n",
       " u'tt0042876',\n",
       " u'tt0083987',\n",
       " u'tt0245429',\n",
       " u'tt0086190',\n",
       " u'tt1832382',\n",
       " u'tt0044079',\n",
       " u'tt0041546',\n",
       " u'tt0180093',\n",
       " u'tt0114369',\n",
       " u'tt0133093',\n",
       " u'tt0091763',\n",
       " u'tt0246578',\n",
       " u'tt0167404',\n",
       " u'tt0092067',\n",
       " u'tt0090605',\n",
       " u'tt0120737',\n",
       " u'tt0120735',\n",
       " u'tt1205489',\n",
       " u'tt1954470',\n",
       " u'tt1305806',\n",
       " u'tt0083658',\n",
       " u'tt0110413',\n",
       " u'tt0058461',\n",
       " u'tt0119698',\n",
       " u'tt0068646',\n",
       " u'tt1392190',\n",
       " u'tt0120689',\n",
       " u'tt0057012',\n",
       " u'tt0096283',\n",
       " u'tt0086879',\n",
       " u'tt0064116',\n",
       " u'tt0114709',\n",
       " u'tt1431045',\n",
       " u'tt0022100',\n",
       " u'tt3011894',\n",
       " u'tt0105236',\n",
       " u'tt0081505',\n",
       " u'tt0038650',\n",
       " u'tt0041959',\n",
       " u'tt0034583',\n",
       " u'tt1345836',\n",
       " u'tt2488496',\n",
       " u'tt0058946',\n",
       " u'tt0054215',\n",
       " u'tt0816692',\n",
       " u'tt0046250',\n",
       " u'tt0078788',\n",
       " u'tt2267998',\n",
       " u'tt0033870',\n",
       " u'tt0112573',\n",
       " u'tt3170832',\n",
       " u'tt0097576',\n",
       " u'tt0040897',\n",
       " u'tt0062622',\n",
       " u'tt1291584',\n",
       " u'tt0019254',\n",
       " u'tt0066921',\n",
       " u'tt0061512',\n",
       " u'tt0033467',\n",
       " u'tt0050783',\n",
       " u'tt0017925',\n",
       " u'tt0137523',\n",
       " u'tt0405094',\n",
       " u'tt1504320',\n",
       " u'tt0064115',\n",
       " u'tt0055031',\n",
       " u'tt0084787',\n",
       " u'tt0087544',\n",
       " u'tt0113277',\n",
       " u'tt0105695',\n",
       " u'tt0353969',\n",
       " u'tt0050083',\n",
       " u'tt0758758',\n",
       " u'tt0110912',\n",
       " u'tt0018455',\n",
       " u'tt1675434',\n",
       " u'tt0082096',\n",
       " u'tt0434409',\n",
       " u'tt0117951',\n",
       " u'tt0077416',\n",
       " u'tt0910970',\n",
       " u'tt0027977',\n",
       " u'tt0338013',\n",
       " u'tt2278388',\n",
       " u'tt1454029',\n",
       " u'tt0099685',\n",
       " u'tt0087884',\n",
       " u'tt0457430',\n",
       " u'tt0060196',\n",
       " u'tt0112641',\n",
       " u'tt0050976',\n",
       " u'tt0092005',\n",
       " u'tt0017136',\n",
       " u'tt0111161',\n",
       " u'tt0040522',\n",
       " u'tt0071562',\n",
       " u'tt0118715',\n",
       " u'tt0052311',\n",
       " u'tt0116282',\n",
       " u'tt0047396',\n",
       " u'tt0043014',\n",
       " u'tt0079944',\n",
       " u'tt0093058',\n",
       " u'tt0053604',\n",
       " u'tt0109830',\n",
       " u'tt0118799',\n",
       " u'tt0073195',\n",
       " u'tt0169547',\n",
       " u'tt1392214',\n",
       " u'tt0051201',\n",
       " u'tt0075686',\n",
       " u'tt0032976',\n",
       " u'tt1375666',\n",
       " u'tt0059578',\n",
       " u'tt0072890',\n",
       " u'tt0076759',\n",
       " u'tt0103064',\n",
       " u'tt0056801',\n",
       " u'tt0395169',\n",
       " u'tt0031381',\n",
       " u'tt0477348',\n",
       " u'tt0047296',\n",
       " u'tt1028532',\n",
       " u'tt0120815',\n",
       " u'tt0086250',\n",
       " u'tt0073486',\n",
       " u'tt0209144',\n",
       " u'tt0208092',\n",
       " u'tt0089881',\n",
       " u'tt0075314']"
      ]
     },
     "execution_count": 88,
     "metadata": {},
     "output_type": "execute_result"
    }
   ],
   "source": [
    "top_movies"
   ]
  },
  {
   "cell_type": "markdown",
   "metadata": {},
   "source": [
    "## 5.b Get top movies data\n",
    "\n",
    "Although the Internet Movie Database does not have a public API, an open API exists at http://www.omdbapi.com.\n",
    "\n",
    "Use this API to retrieve information about each of the 250 movies you have extracted in the previous step.\n",
    "- Check the documentation of omdbapi.com to learn how to request movie data by id\n",
    "- Define a function that returns a python object with all the information for a given id\n",
    "- Iterate on all the IDs and store the results in a list of such objects\n",
    "- Create a Pandas Dataframe from the list"
   ]
  },
  {
   "cell_type": "code",
   "execution_count": 89,
   "metadata": {
    "collapsed": false
   },
   "outputs": [],
   "source": [
    "def get_entry(entry):\n",
    "    res = requests.get('http://www.omdbapi.com/?i='+entry)\n",
    "    if res.status_code != 200:\n",
    "        print entry, res.status_code\n",
    "    else:\n",
    "        print '.',\n",
    "    try:\n",
    "        j = json.loads(res.text)\n",
    "    except ValueError:\n",
    "        j = None\n",
    "    return j"
   ]
  },
  {
   "cell_type": "code",
   "execution_count": 90,
   "metadata": {
    "collapsed": false
   },
   "outputs": [
    {
     "name": "stdout",
     "output_type": "stream",
     "text": [
      ". . . . . . . . . . . . . . . . . . . . . . . . . . . . . . . . . . . . . . . . . . . . . . . . . . . . . . . . . . . . . . . . . . . . . . . . . . . . . . . . . . . . . . . . . . . . . . . . . . . . . . . . . . . . . . . . . . . . . . . . . . . . . . . . . . . . . . . . . . . . . . . . . . . . . . . . . . . . . . . . . . . . . . . . . . . . . . . . . . . . . . . . . . . . . . . . . . . . . . . . . . . . . . . . . . . . . . . . . . . . . . . . . . . . . . . . . . . . . . . . . . . . . . . . . .\n"
     ]
    }
   ],
   "source": [
    "entries_dict_list = [get_entry(e) for e in top_movies]"
   ]
  },
  {
   "cell_type": "code",
   "execution_count": 91,
   "metadata": {
    "collapsed": true
   },
   "outputs": [],
   "source": [
    "df = pd.DataFrame(entries_dict_list)"
   ]
  },
  {
   "cell_type": "code",
   "execution_count": 92,
   "metadata": {
    "collapsed": false
   },
   "outputs": [
    {
     "data": {
      "text/html": [
       "<div>\n",
       "<table border=\"1\" class=\"dataframe\">\n",
       "  <thead>\n",
       "    <tr style=\"text-align: right;\">\n",
       "      <th></th>\n",
       "      <th>Actors</th>\n",
       "      <th>Awards</th>\n",
       "      <th>Country</th>\n",
       "      <th>Director</th>\n",
       "      <th>Genre</th>\n",
       "      <th>Language</th>\n",
       "      <th>Metascore</th>\n",
       "      <th>Plot</th>\n",
       "      <th>Poster</th>\n",
       "      <th>Rated</th>\n",
       "      <th>Released</th>\n",
       "      <th>Response</th>\n",
       "      <th>Runtime</th>\n",
       "      <th>Title</th>\n",
       "      <th>Type</th>\n",
       "      <th>Writer</th>\n",
       "      <th>Year</th>\n",
       "      <th>imdbID</th>\n",
       "      <th>imdbRating</th>\n",
       "      <th>imdbVotes</th>\n",
       "    </tr>\n",
       "  </thead>\n",
       "  <tbody>\n",
       "    <tr>\n",
       "      <th>0</th>\n",
       "      <td>Miles Teller, J.K. Simmons, Paul Reiser, Melis...</td>\n",
       "      <td>Won 3 Oscars. Another 87 wins &amp; 131 nominations.</td>\n",
       "      <td>USA</td>\n",
       "      <td>Damien Chazelle</td>\n",
       "      <td>Drama, Music</td>\n",
       "      <td>English</td>\n",
       "      <td>88</td>\n",
       "      <td>A promising young drummer enrolls at a cut-thr...</td>\n",
       "      <td>https://images-na.ssl-images-amazon.com/images...</td>\n",
       "      <td>R</td>\n",
       "      <td>15 Oct 2014</td>\n",
       "      <td>True</td>\n",
       "      <td>107 min</td>\n",
       "      <td>Whiplash</td>\n",
       "      <td>movie</td>\n",
       "      <td>Damien Chazelle</td>\n",
       "      <td>2014</td>\n",
       "      <td>tt2582802</td>\n",
       "      <td>8.5</td>\n",
       "      <td>413,720</td>\n",
       "    </tr>\n",
       "    <tr>\n",
       "      <th>1</th>\n",
       "      <td>Toshirô Mifune, Takashi Shimura, Keiko Tsushim...</td>\n",
       "      <td>Nominated for 2 Oscars. Another 5 wins &amp; 6 nom...</td>\n",
       "      <td>Japan</td>\n",
       "      <td>Akira Kurosawa</td>\n",
       "      <td>Action, Adventure, Drama</td>\n",
       "      <td>Japanese</td>\n",
       "      <td>98</td>\n",
       "      <td>A poor village under attack by bandits recruit...</td>\n",
       "      <td>https://images-na.ssl-images-amazon.com/images...</td>\n",
       "      <td>UNRATED</td>\n",
       "      <td>19 Nov 1956</td>\n",
       "      <td>True</td>\n",
       "      <td>207 min</td>\n",
       "      <td>Seven Samurai</td>\n",
       "      <td>movie</td>\n",
       "      <td>Akira Kurosawa (screenplay), Shinobu Hashimoto...</td>\n",
       "      <td>1954</td>\n",
       "      <td>tt0047478</td>\n",
       "      <td>8.7</td>\n",
       "      <td>232,249</td>\n",
       "    </tr>\n",
       "    <tr>\n",
       "      <th>2</th>\n",
       "      <td>Harrison Ford, Karen Allen, Paul Freeman, Rona...</td>\n",
       "      <td>Won 4 Oscars. Another 30 wins &amp; 23 nominations.</td>\n",
       "      <td>USA</td>\n",
       "      <td>Steven Spielberg</td>\n",
       "      <td>Action, Adventure</td>\n",
       "      <td>English, German, Hebrew, Spanish, Arabic, Nepali</td>\n",
       "      <td>85</td>\n",
       "      <td>Archaeologist and adventurer Indiana Jones is ...</td>\n",
       "      <td>https://images-na.ssl-images-amazon.com/images...</td>\n",
       "      <td>PG</td>\n",
       "      <td>12 Jun 1981</td>\n",
       "      <td>True</td>\n",
       "      <td>115 min</td>\n",
       "      <td>Raiders of the Lost Ark</td>\n",
       "      <td>movie</td>\n",
       "      <td>Lawrence Kasdan (screenplay), George Lucas (st...</td>\n",
       "      <td>1981</td>\n",
       "      <td>tt0082971</td>\n",
       "      <td>8.5</td>\n",
       "      <td>671,034</td>\n",
       "    </tr>\n",
       "  </tbody>\n",
       "</table>\n",
       "</div>"
      ],
      "text/plain": [
       "                                              Actors  \\\n",
       "0  Miles Teller, J.K. Simmons, Paul Reiser, Melis...   \n",
       "1  Toshirô Mifune, Takashi Shimura, Keiko Tsushim...   \n",
       "2  Harrison Ford, Karen Allen, Paul Freeman, Rona...   \n",
       "\n",
       "                                              Awards Country  \\\n",
       "0   Won 3 Oscars. Another 87 wins & 131 nominations.     USA   \n",
       "1  Nominated for 2 Oscars. Another 5 wins & 6 nom...   Japan   \n",
       "2    Won 4 Oscars. Another 30 wins & 23 nominations.     USA   \n",
       "\n",
       "           Director                     Genre  \\\n",
       "0   Damien Chazelle              Drama, Music   \n",
       "1    Akira Kurosawa  Action, Adventure, Drama   \n",
       "2  Steven Spielberg         Action, Adventure   \n",
       "\n",
       "                                           Language Metascore  \\\n",
       "0                                           English        88   \n",
       "1                                          Japanese        98   \n",
       "2  English, German, Hebrew, Spanish, Arabic, Nepali        85   \n",
       "\n",
       "                                                Plot  \\\n",
       "0  A promising young drummer enrolls at a cut-thr...   \n",
       "1  A poor village under attack by bandits recruit...   \n",
       "2  Archaeologist and adventurer Indiana Jones is ...   \n",
       "\n",
       "                                              Poster    Rated     Released  \\\n",
       "0  https://images-na.ssl-images-amazon.com/images...        R  15 Oct 2014   \n",
       "1  https://images-na.ssl-images-amazon.com/images...  UNRATED  19 Nov 1956   \n",
       "2  https://images-na.ssl-images-amazon.com/images...       PG  12 Jun 1981   \n",
       "\n",
       "  Response  Runtime                    Title   Type  \\\n",
       "0     True  107 min                 Whiplash  movie   \n",
       "1     True  207 min            Seven Samurai  movie   \n",
       "2     True  115 min  Raiders of the Lost Ark  movie   \n",
       "\n",
       "                                              Writer  Year     imdbID  \\\n",
       "0                                    Damien Chazelle  2014  tt2582802   \n",
       "1  Akira Kurosawa (screenplay), Shinobu Hashimoto...  1954  tt0047478   \n",
       "2  Lawrence Kasdan (screenplay), George Lucas (st...  1981  tt0082971   \n",
       "\n",
       "  imdbRating imdbVotes  \n",
       "0        8.5   413,720  \n",
       "1        8.7   232,249  \n",
       "2        8.5   671,034  "
      ]
     },
     "execution_count": 92,
     "metadata": {},
     "output_type": "execute_result"
    }
   ],
   "source": [
    "df.head(3)"
   ]
  },
  {
   "cell_type": "code",
   "execution_count": 93,
   "metadata": {
    "collapsed": false
   },
   "outputs": [
    {
     "name": "stdout",
     "output_type": "stream",
     "text": [
      "<class 'pandas.core.frame.DataFrame'>\n",
      "RangeIndex: 250 entries, 0 to 249\n",
      "Data columns (total 20 columns):\n",
      "Actors        250 non-null object\n",
      "Awards        250 non-null object\n",
      "Country       250 non-null object\n",
      "Director      250 non-null object\n",
      "Genre         250 non-null object\n",
      "Language      250 non-null object\n",
      "Metascore     250 non-null object\n",
      "Plot          250 non-null object\n",
      "Poster        250 non-null object\n",
      "Rated         250 non-null object\n",
      "Released      250 non-null object\n",
      "Response      250 non-null object\n",
      "Runtime       250 non-null object\n",
      "Title         250 non-null object\n",
      "Type          250 non-null object\n",
      "Writer        250 non-null object\n",
      "Year          250 non-null object\n",
      "imdbID        250 non-null object\n",
      "imdbRating    250 non-null object\n",
      "imdbVotes     250 non-null object\n",
      "dtypes: object(20)\n",
      "memory usage: 39.1+ KB\n"
     ]
    }
   ],
   "source": [
    "df.info()"
   ]
  },
  {
   "cell_type": "markdown",
   "metadata": {},
   "source": [
    "## 5.c Get gross data\n",
    "\n",
    "The OMDB API is great, but it does not provide information about Gross Revenue of the movie. We'll revert back to scraping for this.\n",
    "\n",
    "- Write a function that retrieves the gross revenue from the entry page at imdb.com\n",
    "- The function should handle the exception of when the page doesn't report gross revenue\n",
    "- Retrieve the gross revenue for each movie and store it in a separate dataframe"
   ]
  },
  {
   "cell_type": "code",
   "execution_count": 95,
   "metadata": {
    "collapsed": false
   },
   "outputs": [],
   "source": [
    "def get_gross(entry):\n",
    "    response = requests.get('http://www.imdb.com/title/'+entry)\n",
    "    html = response.text\n",
    "    try:\n",
    "        gross_list = re.findall(\"Gross:</h4>[ ]*\\$([^ ]*)\", html)\n",
    "        gross = int(gross_list[0].replace(',', ''))\n",
    "        print '.',\n",
    "        return gross\n",
    "    except Exception as ex:\n",
    "        print\n",
    "        print ex, entry, response.status_code\n",
    "        return None"
   ]
  },
  {
   "cell_type": "code",
   "execution_count": 97,
   "metadata": {
    "collapsed": false
   },
   "outputs": [
    {
     "name": "stdout",
     "output_type": "stream",
     "text": [
      ". . . . . . .\n",
      "list index out of range tt0046268 200\n",
      "\n",
      "list index out of range tt0055630 200\n",
      ". . . . .\n",
      "list index out of range tt0057115 200\n",
      ".\n",
      "list index out of range tt0071315 200\n",
      ". . . .\n",
      "list index out of range tt0074896 200\n",
      ". .\n",
      "list index out of range tt0021749 200\n",
      ". .\n",
      "list index out of range tt0053125 200\n",
      ". . .\n",
      "list index out of range tt1220719 200\n",
      "\n",
      "list index out of range tt0025316 200\n",
      ". .\n",
      "list index out of range tt0083922 200\n",
      ". . .\n",
      "list index out of range tt0072684 200\n",
      ".\n",
      "list index out of range tt0074958 200\n",
      ". . . .\n",
      "list index out of range tt0036775 200\n",
      ". . . . . .\n",
      "list index out of range tt0978762 200\n",
      ". .\n",
      "list index out of range tt0080678 200\n",
      ". .\n",
      "list index out of range tt0056592 200\n",
      ".\n",
      "list index out of range tt0095327 200\n",
      ". . . . . . . . .\n",
      "list index out of range tt0046438 200\n",
      ".\n",
      "list index out of range tt0015864 200\n",
      ".\n",
      "list index out of range tt0045152 200\n",
      ". . . .\n",
      "list index out of range tt0046911 200\n",
      ".\n",
      "list index out of range tt0050986 200\n",
      ".\n",
      "list index out of range tt0091251 200\n",
      ". . . . . . . . . . .\n",
      "list index out of range tt0032553 200\n",
      "\n",
      "list index out of range tt0032551 200\n",
      ". . . . . .\n",
      "list index out of range tt0060827 200\n",
      ". . .\n",
      "list index out of range tt0031679 200\n",
      ". . . . . .\n",
      "list index out of range tt0053198 200\n",
      ". . .\n",
      "list index out of range tt0050825 200\n",
      "\n",
      "list index out of range tt0042876 200\n",
      "\n",
      "list index out of range tt0083987 200\n",
      ". . .\n",
      "list index out of range tt0044079 200\n",
      "\n",
      "list index out of range tt0041546 200\n",
      ". . . . . .\n",
      "list index out of range tt0092067 200\n",
      ". . . .\n",
      "list index out of range tt1954470 200\n",
      ". . . . . . . .\n",
      "list index out of range tt0057012 200\n",
      "\n",
      "list index out of range tt0096283 200\n",
      ".\n",
      "list index out of range tt0064116 200\n",
      ". . . . .\n",
      "list index out of range tt0081505 200\n",
      "\n",
      "list index out of range tt0038650 200\n",
      ".\n",
      "list index out of range tt0034583 200\n",
      ". . . . .\n",
      "list index out of range tt0046250 200\n",
      ". .\n",
      "list index out of range tt0033870 200\n",
      ". . .\n",
      "list index out of range tt0040897 200\n",
      ". .\n",
      "list index out of range tt0019254 200\n",
      "\n",
      "list index out of range tt0066921 200\n",
      "\n",
      "list index out of range tt0061512 200\n",
      "\n",
      "list index out of range tt0033467 200\n",
      ".\n",
      "list index out of range tt0017925 200\n",
      ". . . .\n",
      "list index out of range tt0055031 200\n",
      ".\n",
      "list index out of range tt0087544 200\n",
      ". . .\n",
      "list index out of range tt0050083 200\n",
      ". .\n",
      "list index out of range tt0018455 200\n",
      ". . . .\n",
      "list index out of range tt0077416 200\n",
      ". . . . . .\n",
      "list index out of range tt0087884 200\n",
      ". . .\n",
      "list index out of range tt0050976 200\n",
      ". . . . . . . . .\n",
      "list index out of range tt0043014 200\n",
      "\n",
      "list index out of range tt0079944 200\n",
      ".\n",
      "list index out of range tt0053604 200\n",
      ". . . . .\n",
      "list index out of range tt0051201 200\n",
      ".\n",
      "list index out of range tt0032976 200\n",
      ".\n",
      "list index out of range tt0059578 200\n",
      "\n",
      "list index out of range tt0072890 200\n",
      ". . . . . . .\n",
      "list index out of range tt1028532 200\n",
      ". . . . . .\n",
      "list index out of range tt0075314 200\n"
     ]
    }
   ],
   "source": [
    "grosses = [(e, get_gross(e)) for e in top_movies]"
   ]
  },
  {
   "cell_type": "code",
   "execution_count": 98,
   "metadata": {
    "collapsed": false
   },
   "outputs": [
    {
     "data": {
      "text/html": [
       "<div>\n",
       "<table border=\"1\" class=\"dataframe\">\n",
       "  <thead>\n",
       "    <tr style=\"text-align: right;\">\n",
       "      <th></th>\n",
       "      <th>imdbID</th>\n",
       "      <th>Gross</th>\n",
       "    </tr>\n",
       "  </thead>\n",
       "  <tbody>\n",
       "    <tr>\n",
       "      <th>0</th>\n",
       "      <td>tt2582802</td>\n",
       "      <td>13092000.0</td>\n",
       "    </tr>\n",
       "    <tr>\n",
       "      <th>1</th>\n",
       "      <td>tt0047478</td>\n",
       "      <td>269061.0</td>\n",
       "    </tr>\n",
       "    <tr>\n",
       "      <th>2</th>\n",
       "      <td>tt0082971</td>\n",
       "      <td>242374454.0</td>\n",
       "    </tr>\n",
       "    <tr>\n",
       "      <th>3</th>\n",
       "      <td>tt0050212</td>\n",
       "      <td>27200000.0</td>\n",
       "    </tr>\n",
       "    <tr>\n",
       "      <th>4</th>\n",
       "      <td>tt0848228</td>\n",
       "      <td>623279547.0</td>\n",
       "    </tr>\n",
       "  </tbody>\n",
       "</table>\n",
       "</div>"
      ],
      "text/plain": [
       "      imdbID        Gross\n",
       "0  tt2582802   13092000.0\n",
       "1  tt0047478     269061.0\n",
       "2  tt0082971  242374454.0\n",
       "3  tt0050212   27200000.0\n",
       "4  tt0848228  623279547.0"
      ]
     },
     "execution_count": 98,
     "metadata": {},
     "output_type": "execute_result"
    }
   ],
   "source": [
    "df1 = pd.DataFrame(grosses, columns=['imdbID', 'Gross'])\n",
    "df1.head()"
   ]
  },
  {
   "cell_type": "code",
   "execution_count": null,
   "metadata": {
    "collapsed": true
   },
   "outputs": [],
   "source": []
  },
  {
   "cell_type": "markdown",
   "metadata": {},
   "source": [
    "## 5.d Data munging\n",
    "\n",
    "- Now that you have movie information and gross revenue information, let's clean the two datasets.\n",
    "- Check if there are null values. Be careful they may appear to be valid strings.\n",
    "- Convert the columns to the appropriate formats. In particular handle:\n",
    "    - Released\n",
    "    - Runtime\n",
    "    - year\n",
    "    - imdbRating\n",
    "    - imdbVotes\n",
    "- Merge the data from the two datasets into a single one"
   ]
  },
  {
   "cell_type": "code",
   "execution_count": 99,
   "metadata": {
    "collapsed": false
   },
   "outputs": [
    {
     "name": "stdout",
     "output_type": "stream",
     "text": [
      "<class 'pandas.core.frame.DataFrame'>\n",
      "RangeIndex: 250 entries, 0 to 249\n",
      "Data columns (total 20 columns):\n",
      "Actors        250 non-null object\n",
      "Awards        246 non-null object\n",
      "Country       250 non-null object\n",
      "Director      250 non-null object\n",
      "Genre         250 non-null object\n",
      "Language      249 non-null object\n",
      "Metascore     169 non-null object\n",
      "Plot          250 non-null object\n",
      "Poster        247 non-null object\n",
      "Rated         249 non-null object\n",
      "Released      249 non-null object\n",
      "Response      250 non-null object\n",
      "Runtime       250 non-null object\n",
      "Title         250 non-null object\n",
      "Type          250 non-null object\n",
      "Writer        250 non-null object\n",
      "Year          250 non-null object\n",
      "imdbID        250 non-null object\n",
      "imdbRating    250 non-null object\n",
      "imdbVotes     250 non-null object\n",
      "dtypes: object(20)\n",
      "memory usage: 39.1+ KB\n"
     ]
    }
   ],
   "source": [
    "df = df.replace('N/A', np.nan)\n",
    "df.info()"
   ]
  },
  {
   "cell_type": "code",
   "execution_count": 100,
   "metadata": {
    "collapsed": true
   },
   "outputs": [],
   "source": [
    "df.Released = pd.to_datetime(df.Released)"
   ]
  },
  {
   "cell_type": "code",
   "execution_count": 101,
   "metadata": {
    "collapsed": true
   },
   "outputs": [],
   "source": [
    "def intminutes(x):\n",
    "    y = x.replace('min', '').strip()\n",
    "    return int(y)\n",
    "\n",
    "df.Runtime = df.Runtime.apply(intminutes)"
   ]
  },
  {
   "cell_type": "code",
   "execution_count": 102,
   "metadata": {
    "collapsed": true
   },
   "outputs": [],
   "source": [
    "df.Year = df.Year.astype(int)"
   ]
  },
  {
   "cell_type": "code",
   "execution_count": 103,
   "metadata": {
    "collapsed": true
   },
   "outputs": [],
   "source": [
    "df.imdbRating = df.imdbRating.astype(float)"
   ]
  },
  {
   "cell_type": "code",
   "execution_count": 104,
   "metadata": {
    "collapsed": true
   },
   "outputs": [],
   "source": [
    "def intvotes(x):\n",
    "    y = x.replace(',', '').strip()\n",
    "    return int(y)\n",
    "df.imdbVotes = df.imdbVotes.apply(intvotes)"
   ]
  },
  {
   "cell_type": "code",
   "execution_count": 105,
   "metadata": {
    "collapsed": false
   },
   "outputs": [
    {
     "data": {
      "text/html": [
       "<div>\n",
       "<table border=\"1\" class=\"dataframe\">\n",
       "  <thead>\n",
       "    <tr style=\"text-align: right;\">\n",
       "      <th></th>\n",
       "      <th>Actors</th>\n",
       "      <th>Awards</th>\n",
       "      <th>Country</th>\n",
       "      <th>Director</th>\n",
       "      <th>Genre</th>\n",
       "      <th>Language</th>\n",
       "      <th>Metascore</th>\n",
       "      <th>Plot</th>\n",
       "      <th>Poster</th>\n",
       "      <th>Rated</th>\n",
       "      <th>...</th>\n",
       "      <th>Response</th>\n",
       "      <th>Runtime</th>\n",
       "      <th>Title</th>\n",
       "      <th>Type</th>\n",
       "      <th>Writer</th>\n",
       "      <th>Year</th>\n",
       "      <th>imdbID</th>\n",
       "      <th>imdbRating</th>\n",
       "      <th>imdbVotes</th>\n",
       "      <th>Gross</th>\n",
       "    </tr>\n",
       "  </thead>\n",
       "  <tbody>\n",
       "    <tr>\n",
       "      <th>0</th>\n",
       "      <td>Miles Teller, J.K. Simmons, Paul Reiser, Melis...</td>\n",
       "      <td>Won 3 Oscars. Another 87 wins &amp; 131 nominations.</td>\n",
       "      <td>USA</td>\n",
       "      <td>Damien Chazelle</td>\n",
       "      <td>Drama, Music</td>\n",
       "      <td>English</td>\n",
       "      <td>88</td>\n",
       "      <td>A promising young drummer enrolls at a cut-thr...</td>\n",
       "      <td>https://images-na.ssl-images-amazon.com/images...</td>\n",
       "      <td>R</td>\n",
       "      <td>...</td>\n",
       "      <td>True</td>\n",
       "      <td>107</td>\n",
       "      <td>Whiplash</td>\n",
       "      <td>movie</td>\n",
       "      <td>Damien Chazelle</td>\n",
       "      <td>2014</td>\n",
       "      <td>tt2582802</td>\n",
       "      <td>8.5</td>\n",
       "      <td>413720</td>\n",
       "      <td>13092000.0</td>\n",
       "    </tr>\n",
       "    <tr>\n",
       "      <th>1</th>\n",
       "      <td>Toshirô Mifune, Takashi Shimura, Keiko Tsushim...</td>\n",
       "      <td>Nominated for 2 Oscars. Another 5 wins &amp; 6 nom...</td>\n",
       "      <td>Japan</td>\n",
       "      <td>Akira Kurosawa</td>\n",
       "      <td>Action, Adventure, Drama</td>\n",
       "      <td>Japanese</td>\n",
       "      <td>98</td>\n",
       "      <td>A poor village under attack by bandits recruit...</td>\n",
       "      <td>https://images-na.ssl-images-amazon.com/images...</td>\n",
       "      <td>UNRATED</td>\n",
       "      <td>...</td>\n",
       "      <td>True</td>\n",
       "      <td>207</td>\n",
       "      <td>Seven Samurai</td>\n",
       "      <td>movie</td>\n",
       "      <td>Akira Kurosawa (screenplay), Shinobu Hashimoto...</td>\n",
       "      <td>1954</td>\n",
       "      <td>tt0047478</td>\n",
       "      <td>8.7</td>\n",
       "      <td>232249</td>\n",
       "      <td>269061.0</td>\n",
       "    </tr>\n",
       "    <tr>\n",
       "      <th>2</th>\n",
       "      <td>Harrison Ford, Karen Allen, Paul Freeman, Rona...</td>\n",
       "      <td>Won 4 Oscars. Another 30 wins &amp; 23 nominations.</td>\n",
       "      <td>USA</td>\n",
       "      <td>Steven Spielberg</td>\n",
       "      <td>Action, Adventure</td>\n",
       "      <td>English, German, Hebrew, Spanish, Arabic, Nepali</td>\n",
       "      <td>85</td>\n",
       "      <td>Archaeologist and adventurer Indiana Jones is ...</td>\n",
       "      <td>https://images-na.ssl-images-amazon.com/images...</td>\n",
       "      <td>PG</td>\n",
       "      <td>...</td>\n",
       "      <td>True</td>\n",
       "      <td>115</td>\n",
       "      <td>Raiders of the Lost Ark</td>\n",
       "      <td>movie</td>\n",
       "      <td>Lawrence Kasdan (screenplay), George Lucas (st...</td>\n",
       "      <td>1981</td>\n",
       "      <td>tt0082971</td>\n",
       "      <td>8.5</td>\n",
       "      <td>671034</td>\n",
       "      <td>242374454.0</td>\n",
       "    </tr>\n",
       "    <tr>\n",
       "      <th>3</th>\n",
       "      <td>William Holden, Alec Guinness, Jack Hawkins, S...</td>\n",
       "      <td>Won 7 Oscars. Another 23 wins &amp; 7 nominations.</td>\n",
       "      <td>UK, USA</td>\n",
       "      <td>David Lean</td>\n",
       "      <td>Adventure, Drama, War</td>\n",
       "      <td>English, Japanese, Thai</td>\n",
       "      <td>NaN</td>\n",
       "      <td>After settling his differences with a Japanese...</td>\n",
       "      <td>https://images-na.ssl-images-amazon.com/images...</td>\n",
       "      <td>PG</td>\n",
       "      <td>...</td>\n",
       "      <td>True</td>\n",
       "      <td>161</td>\n",
       "      <td>The Bridge on the River Kwai</td>\n",
       "      <td>movie</td>\n",
       "      <td>Pierre Boulle (novel), Carl Foreman (screenpla...</td>\n",
       "      <td>1957</td>\n",
       "      <td>tt0050212</td>\n",
       "      <td>8.2</td>\n",
       "      <td>151604</td>\n",
       "      <td>27200000.0</td>\n",
       "    </tr>\n",
       "    <tr>\n",
       "      <th>4</th>\n",
       "      <td>Robert Downey Jr., Chris Evans, Mark Ruffalo, ...</td>\n",
       "      <td>Nominated for 1 Oscar. Another 34 wins &amp; 75 no...</td>\n",
       "      <td>USA</td>\n",
       "      <td>Joss Whedon</td>\n",
       "      <td>Action, Sci-Fi, Thriller</td>\n",
       "      <td>English, Russian</td>\n",
       "      <td>69</td>\n",
       "      <td>Earth's mightiest heroes must come together an...</td>\n",
       "      <td>https://images-na.ssl-images-amazon.com/images...</td>\n",
       "      <td>PG-13</td>\n",
       "      <td>...</td>\n",
       "      <td>True</td>\n",
       "      <td>143</td>\n",
       "      <td>The Avengers</td>\n",
       "      <td>movie</td>\n",
       "      <td>Joss Whedon (screenplay), Zak Penn (story), Jo...</td>\n",
       "      <td>2012</td>\n",
       "      <td>tt0848228</td>\n",
       "      <td>8.1</td>\n",
       "      <td>1010033</td>\n",
       "      <td>623279547.0</td>\n",
       "    </tr>\n",
       "  </tbody>\n",
       "</table>\n",
       "<p>5 rows × 21 columns</p>\n",
       "</div>"
      ],
      "text/plain": [
       "                                              Actors  \\\n",
       "0  Miles Teller, J.K. Simmons, Paul Reiser, Melis...   \n",
       "1  Toshirô Mifune, Takashi Shimura, Keiko Tsushim...   \n",
       "2  Harrison Ford, Karen Allen, Paul Freeman, Rona...   \n",
       "3  William Holden, Alec Guinness, Jack Hawkins, S...   \n",
       "4  Robert Downey Jr., Chris Evans, Mark Ruffalo, ...   \n",
       "\n",
       "                                              Awards  Country  \\\n",
       "0   Won 3 Oscars. Another 87 wins & 131 nominations.      USA   \n",
       "1  Nominated for 2 Oscars. Another 5 wins & 6 nom...    Japan   \n",
       "2    Won 4 Oscars. Another 30 wins & 23 nominations.      USA   \n",
       "3     Won 7 Oscars. Another 23 wins & 7 nominations.  UK, USA   \n",
       "4  Nominated for 1 Oscar. Another 34 wins & 75 no...      USA   \n",
       "\n",
       "           Director                     Genre  \\\n",
       "0   Damien Chazelle              Drama, Music   \n",
       "1    Akira Kurosawa  Action, Adventure, Drama   \n",
       "2  Steven Spielberg         Action, Adventure   \n",
       "3        David Lean     Adventure, Drama, War   \n",
       "4       Joss Whedon  Action, Sci-Fi, Thriller   \n",
       "\n",
       "                                           Language Metascore  \\\n",
       "0                                           English        88   \n",
       "1                                          Japanese        98   \n",
       "2  English, German, Hebrew, Spanish, Arabic, Nepali        85   \n",
       "3                           English, Japanese, Thai       NaN   \n",
       "4                                  English, Russian        69   \n",
       "\n",
       "                                                Plot  \\\n",
       "0  A promising young drummer enrolls at a cut-thr...   \n",
       "1  A poor village under attack by bandits recruit...   \n",
       "2  Archaeologist and adventurer Indiana Jones is ...   \n",
       "3  After settling his differences with a Japanese...   \n",
       "4  Earth's mightiest heroes must come together an...   \n",
       "\n",
       "                                              Poster    Rated     ...       \\\n",
       "0  https://images-na.ssl-images-amazon.com/images...        R     ...        \n",
       "1  https://images-na.ssl-images-amazon.com/images...  UNRATED     ...        \n",
       "2  https://images-na.ssl-images-amazon.com/images...       PG     ...        \n",
       "3  https://images-na.ssl-images-amazon.com/images...       PG     ...        \n",
       "4  https://images-na.ssl-images-amazon.com/images...    PG-13     ...        \n",
       "\n",
       "  Response Runtime                         Title   Type  \\\n",
       "0     True     107                      Whiplash  movie   \n",
       "1     True     207                 Seven Samurai  movie   \n",
       "2     True     115       Raiders of the Lost Ark  movie   \n",
       "3     True     161  The Bridge on the River Kwai  movie   \n",
       "4     True     143                  The Avengers  movie   \n",
       "\n",
       "                                              Writer  Year     imdbID  \\\n",
       "0                                    Damien Chazelle  2014  tt2582802   \n",
       "1  Akira Kurosawa (screenplay), Shinobu Hashimoto...  1954  tt0047478   \n",
       "2  Lawrence Kasdan (screenplay), George Lucas (st...  1981  tt0082971   \n",
       "3  Pierre Boulle (novel), Carl Foreman (screenpla...  1957  tt0050212   \n",
       "4  Joss Whedon (screenplay), Zak Penn (story), Jo...  2012  tt0848228   \n",
       "\n",
       "  imdbRating  imdbVotes        Gross  \n",
       "0        8.5     413720   13092000.0  \n",
       "1        8.7     232249     269061.0  \n",
       "2        8.5     671034  242374454.0  \n",
       "3        8.2     151604   27200000.0  \n",
       "4        8.1    1010033  623279547.0  \n",
       "\n",
       "[5 rows x 21 columns]"
      ]
     },
     "execution_count": 105,
     "metadata": {},
     "output_type": "execute_result"
    }
   ],
   "source": [
    "df = pd.merge(df, df1)\n",
    "df.head()"
   ]
  },
  {
   "cell_type": "markdown",
   "metadata": {},
   "source": [
    "## 5.d Text vectorization\n",
    "\n",
    "There are several columns in the data that contain a comma separated list of items, for example the Genre column and the Actors column. Let's transform those to binary columns using the count vectorizer from scikit learn.\n",
    "\n",
    "Append these columns to the merged dataframe.\n",
    "\n",
    "**Hint:** In order to get the actors name right, you'll have to set the `token_pattern` parameter in `CountVectorizer` to u'(?u)\\\\w+\\.?\\\\w?\\.? \\\\w+'. Can you see why? How does this differ from the default?"
   ]
  },
  {
   "cell_type": "code",
   "execution_count": null,
   "metadata": {
    "collapsed": true
   },
   "outputs": [],
   "source": [
    "from sklearn.feature_extraction.text import CountVectorizer"
   ]
  },
  {
   "cell_type": "code",
   "execution_count": null,
   "metadata": {
    "collapsed": true
   },
   "outputs": [],
   "source": [
    "cv = CountVectorizer()\n",
    "data = cv.fit_transform(df.Genre).todense()\n",
    "columns = ['genre_'+c for c in cv.get_feature_names()]\n",
    "genredf = pd.DataFrame(data, columns=columns)\n",
    "genredf.head()"
   ]
  },
  {
   "cell_type": "code",
   "execution_count": null,
   "metadata": {
    "collapsed": true
   },
   "outputs": [],
   "source": []
  },
  {
   "cell_type": "code",
   "execution_count": null,
   "metadata": {
    "collapsed": true
   },
   "outputs": [],
   "source": []
  },
  {
   "cell_type": "code",
   "execution_count": null,
   "metadata": {
    "collapsed": true
   },
   "outputs": [],
   "source": []
  },
  {
   "cell_type": "markdown",
   "metadata": {},
   "source": [
    "## Bonus:\n",
    "\n",
    "- What are the top 10 grossing movies?\n",
    "- Who are the 10 actors that appear in the most movies?\n",
    "- What's the average grossing of the movies in which each of these actors appear?\n",
    "- What genre is the oldest movie?\n"
   ]
  },
  {
   "cell_type": "code",
   "execution_count": null,
   "metadata": {
    "collapsed": false
   },
   "outputs": [],
   "source": []
  }
 ],
 "metadata": {
  "kernelspec": {
   "display_name": "Python [Root]",
   "language": "python",
   "name": "Python [Root]"
  },
  "language_info": {
   "codemirror_mode": {
    "name": "ipython",
    "version": 2
   },
   "file_extension": ".py",
   "mimetype": "text/x-python",
   "name": "python",
   "nbconvert_exporter": "python",
   "pygments_lexer": "ipython2",
   "version": "2.7.12"
  }
 },
 "nbformat": 4,
 "nbformat_minor": 0
}
