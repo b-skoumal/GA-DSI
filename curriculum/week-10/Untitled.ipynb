{
 "cells": [
  {
   "cell_type": "code",
   "execution_count": 4,
   "metadata": {
    "ExecuteTime": {
     "end_time": "2016-11-23T19:36:24.978769",
     "start_time": "2016-11-23T19:36:24.970401"
    },
    "collapsed": false
   },
   "outputs": [
    {
     "name": "stdout",
     "output_type": "stream",
     "text": [
      "HackerRank----------\n",
      "-----HackerRank-----\n",
      "----------HackerRank\n"
     ]
    }
   ],
   "source": [
    "width = 20\n",
    "print 'HackerRank'.ljust(width,'-')\n",
    "print 'HackerRank'.center(width,'-')\n",
    "print 'HackerRank'.rjust(width,'-')"
   ]
  },
  {
   "cell_type": "code",
   "execution_count": 17,
   "metadata": {
    "ExecuteTime": {
     "end_time": "2016-11-23T19:39:29.671875",
     "start_time": "2016-11-23T19:39:28.265324"
    },
    "collapsed": false
   },
   "outputs": [
    {
     "name": "stdout",
     "output_type": "stream",
     "text": [
      "5\n",
      "    H    \n",
      "   HHH   \n",
      "  HHHHH  \n",
      " HHHHHHH \n",
      "HHHHHHHHH\n",
      "  HHHHH               HHHHH             \n",
      "  HHHHH               HHHHH             \n",
      "  HHHHH               HHHHH             \n",
      "  HHHHH               HHHHH             \n",
      "  HHHHH               HHHHH             \n",
      "  HHHHH               HHHHH             \n",
      "  HHHHHHHHHHHHHHHHHHHHHHHHH   \n",
      "  HHHHHHHHHHHHHHHHHHHHHHHHH   \n",
      "  HHHHHHHHHHHHHHHHHHHHHHHHH   \n",
      "  HHHHH               HHHHH             \n",
      "  HHHHH               HHHHH             \n",
      "  HHHHH               HHHHH             \n",
      "  HHHHH               HHHHH             \n",
      "  HHHHH               HHHHH             \n",
      "  HHHHH               HHHHH             \n",
      "                    HHHHHHHHH \n",
      "                     HHHHHHH  \n",
      "                      HHHHH   \n",
      "                       HHH    \n",
      "                        H     \n"
     ]
    }
   ],
   "source": [
    "thickness = int(raw_input()) #This must be an odd number\n",
    "c = 'H'\n",
    "\n",
    "#Top Cone\n",
    "for i in range(thickness):\n",
    "    print (c*i).rjust(thickness-1)+c+(c*i).ljust(thickness-1)\n",
    "\n",
    "#Top Pillars\n",
    "for i in range(thickness+1):\n",
    "    print (c*thickness).center(thickness*2)+(c*thickness).center(thickness*6)\n",
    "\n",
    "#Middle Belt\n",
    "for i in range((thickness+1)/2):\n",
    "    print (c*thickness*5).center(thickness*6)    \n",
    "\n",
    "#Bottom Pillars\n",
    "for i in range(thickness+1):\n",
    "    print (c*thickness).center(thickness*2)+(c*thickness).center(thickness*6)    \n",
    "\n",
    "#Bottom Cone\n",
    "for i in range(thickness):\n",
    "    print ((c*(thickness-i-1)).rjust(thickness)+c+(c*(thickness-i-1)).ljust(thickness)).rjust(thickness*6)    \n"
   ]
  },
  {
   "cell_type": "code",
   "execution_count": 21,
   "metadata": {
    "ExecuteTime": {
     "end_time": "2016-11-23T19:52:04.401073",
     "start_time": "2016-11-23T19:52:02.412221"
    },
    "collapsed": false
   },
   "outputs": [
    {
     "name": "stdout",
     "output_type": "stream",
     "text": [
      "9 27\n",
      "------------.|.------------\n",
      "---------.|..|..|.---------\n",
      "------.|..|..|..|..|.------\n",
      "---.|..|..|..|..|..|..|.---\n",
      "----------WELCOME----------\n",
      "---.|..|..|..|..|..|..|.---\n",
      "------.|..|..|..|..|.------\n",
      "---------.|..|..|.---------\n",
      "------------.|.------------\n"
     ]
    }
   ],
   "source": [
    "N, M = map(int,raw_input().split()) # More than 6 lines of code will result in 0 score. Blank lines are not counted.\n",
    "for i in xrange(1,N,2): \n",
    "    print ((M-(3*i))/2)*'-'+ ('.|.')*i+((M-(3*i))/2)*'-'\n",
    "print ((M-7)/2)*'-'+'WELCOME'+((M-7)/2)*'-'\n",
    "for i in xrange(N-2,-1,-2): \n",
    "    print ((M-(3*i))/2)*'-'+ ('.|.')*i+((M-(3*i))/2)*'-'\n"
   ]
  },
  {
   "cell_type": "code",
   "execution_count": 31,
   "metadata": {
    "ExecuteTime": {
     "end_time": "2016-11-23T20:01:54.014281",
     "start_time": "2016-11-23T20:01:54.005856"
    },
    "collapsed": false
   },
   "outputs": [
    {
     "data": {
      "text/plain": [
       "str"
      ]
     },
     "execution_count": 31,
     "metadata": {},
     "output_type": "execute_result"
    }
   ],
   "source": [
    "type(\"{0:b}\".format(17))"
   ]
  },
  {
   "cell_type": "code",
   "execution_count": 28,
   "metadata": {
    "ExecuteTime": {
     "end_time": "2016-11-23T19:59:28.061853",
     "start_time": "2016-11-23T19:59:28.052256"
    },
    "collapsed": false
   },
   "outputs": [
    {
     "data": {
      "text/plain": [
       "'0x11'"
      ]
     },
     "execution_count": 28,
     "metadata": {},
     "output_type": "execute_result"
    }
   ],
   "source": [
    "hex(17)"
   ]
  },
  {
   "cell_type": "code",
   "execution_count": 32,
   "metadata": {
    "ExecuteTime": {
     "end_time": "2016-11-23T20:04:00.948614",
     "start_time": "2016-11-23T20:04:00.941056"
    },
    "collapsed": false
   },
   "outputs": [
    {
     "data": {
      "text/plain": [
       "str"
      ]
     },
     "execution_count": 32,
     "metadata": {},
     "output_type": "execute_result"
    }
   ],
   "source": [
    "type(oct(17))"
   ]
  },
  {
   "cell_type": "code",
   "execution_count": 30,
   "metadata": {
    "ExecuteTime": {
     "end_time": "2016-11-23T20:01:33.158567",
     "start_time": "2016-11-23T20:01:33.149790"
    },
    "collapsed": false
   },
   "outputs": [
    {
     "data": {
      "text/plain": [
       "'0b10001'"
      ]
     },
     "execution_count": 30,
     "metadata": {},
     "output_type": "execute_result"
    }
   ],
   "source": [
    "bin(17)"
   ]
  },
  {
   "cell_type": "code",
   "execution_count": 64,
   "metadata": {
    "ExecuteTime": {
     "end_time": "2016-11-23T20:23:20.473571",
     "start_time": "2016-11-23T20:23:20.458362"
    },
    "collapsed": false
   },
   "outputs": [
    {
     "name": "stdout",
     "output_type": "stream",
     "text": [
      "     1      1      1      1\n",
      "     2      2      2     10\n",
      "     3      3      3     11\n",
      "     4      4      4    100\n",
      "     5      5      5    101\n",
      "     6      6      6    110\n",
      "     7      7      7    111\n",
      "     8     10      8   1000\n",
      "     9     11      9   1001\n",
      "    10     12      A   1010\n",
      "    11     13      B   1011\n",
      "    12     14      C   1100\n",
      "    13     15      D   1101\n",
      "    14     16      E   1110\n",
      "    15     17      F   1111\n",
      "    16     20     10  10000\n",
      "    17     21     11  10001\n",
      "    18     22     12  10010\n",
      "    19     23     13  10011\n",
      "    20     24     14  10100\n",
      "    21     25     15  10101\n",
      "    22     26     16  10110\n",
      "    23     27     17  10111\n",
      "    24     30     18  11000\n",
      "    25     31     19  11001\n",
      "    26     32     1A  11010\n",
      "    27     33     1B  11011\n",
      "    28     34     1C  11100\n",
      "    29     35     1D  11101\n",
      "    30     36     1E  11110\n",
      "    31     37     1F  11111\n",
      "    32     40     20 100000\n",
      "    33     41     21 100001\n",
      "    34     42     22 100010\n",
      "    35     43     23 100011\n",
      "    36     44     24 100100\n",
      "    37     45     25 100101\n",
      "    38     46     26 100110\n",
      "    39     47     27 100111\n",
      "    40     50     28 101000\n",
      "    41     51     29 101001\n",
      "    42     52     2A 101010\n",
      "    43     53     2B 101011\n",
      "    44     54     2C 101100\n",
      "    45     55     2D 101101\n",
      "    46     56     2E 101110\n",
      "    47     57     2F 101111\n",
      "    48     60     30 110000\n",
      "    49     61     31 110001\n",
      "    50     62     32 110010\n"
     ]
    }
   ],
   "source": [
    "i = 50\n",
    "\n",
    "bini = \"{0:b}\".format(i)\n",
    "spaces = len(bini)+1\n",
    "for a in range(1, i+1):\n",
    "    \n",
    "    print (spaces-1 - len(str(a)))*' '+ str(a) + (spaces - len(format(a, 'o')))*' ' + format(a, 'o') + (spaces - len(format(a, 'x')))*' ' + format(a, 'x').upper() + (2+spaces - len(bin(a)))*' ' + \"{0:b}\".format(a)"
   ]
  },
  {
   "cell_type": "code",
   "execution_count": 54,
   "metadata": {
    "ExecuteTime": {
     "end_time": "2016-11-23T20:19:35.284685",
     "start_time": "2016-11-23T20:19:35.277544"
    },
    "collapsed": false
   },
   "outputs": [
    {
     "data": {
      "text/plain": [
       "'21'"
      ]
     },
     "execution_count": 54,
     "metadata": {},
     "output_type": "execute_result"
    }
   ],
   "source": [
    "format(17, 'o')"
   ]
  },
  {
   "cell_type": "code",
   "execution_count": 37,
   "metadata": {
    "ExecuteTime": {
     "end_time": "2016-11-23T20:07:50.271938",
     "start_time": "2016-11-23T20:07:50.263088"
    },
    "collapsed": false
   },
   "outputs": [
    {
     "data": {
      "text/plain": [
       "'0X2'"
      ]
     },
     "execution_count": 37,
     "metadata": {},
     "output_type": "execute_result"
    }
   ],
   "source": [
    "hex(2).upper("
   ]
  },
  {
   "cell_type": "code",
   "execution_count": 38,
   "metadata": {
    "ExecuteTime": {
     "end_time": "2016-11-23T20:09:57.721667",
     "start_time": "2016-11-23T20:09:57.702671"
    },
    "collapsed": false
   },
   "outputs": [
    {
     "data": {
      "text/plain": [
       "'0x2'"
      ]
     },
     "execution_count": 38,
     "metadata": {},
     "output_type": "execute_result"
    }
   ],
   "source": [
    "hex(2)"
   ]
  },
  {
   "cell_type": "code",
   "execution_count": null,
   "metadata": {
    "collapsed": true
   },
   "outputs": [],
   "source": []
  }
 ],
 "metadata": {
  "kernelspec": {
   "display_name": "Python [Root]",
   "language": "python",
   "name": "Python [Root]"
  },
  "language_info": {
   "codemirror_mode": {
    "name": "ipython",
    "version": 2
   },
   "file_extension": ".py",
   "mimetype": "text/x-python",
   "name": "python",
   "nbconvert_exporter": "python",
   "pygments_lexer": "ipython2",
   "version": "2.7.12"
  },
  "toc": {
   "nav_menu": {
    "height": "12px",
    "width": "252px"
   },
   "navigate_menu": true,
   "number_sections": true,
   "sideBar": true,
   "threshold": 4,
   "toc_cell": false,
   "toc_section_display": "block",
   "toc_window_display": false
  }
 },
 "nbformat": 4,
 "nbformat_minor": 0
}
