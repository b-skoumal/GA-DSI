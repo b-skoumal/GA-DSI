{
 "cells": [
  {
   "cell_type": "markdown",
   "metadata": {},
   "source": [
    "Write a function that takes a list of integers and returns the largest product of three elements."
   ]
  },
  {
   "cell_type": "code",
   "execution_count": 4,
   "metadata": {
    "ExecuteTime": {
     "end_time": "2016-11-21T14:34:53.956578",
     "start_time": "2016-11-21T14:34:53.631284"
    },
    "collapsed": true
   },
   "outputs": [],
   "source": [
    "import numpy as np"
   ]
  },
  {
   "cell_type": "code",
   "execution_count": 5,
   "metadata": {
    "ExecuteTime": {
     "end_time": "2016-11-21T14:34:54.131884",
     "start_time": "2016-11-21T14:34:54.120600"
    },
    "collapsed": true
   },
   "outputs": [],
   "source": [
    "def get_largest_prod(l):\n",
    "    products = [np.prod([l[i], l[j], l[k]]) for i,_ in enumerate(l) \n",
    "                for j,_ in enumerate(l)  for k,_ in enumerate(l) if i!= j and j != k and i != k]\n",
    "    return max(products)\n",
    "\n",
    "\n"
   ]
  },
  {
   "cell_type": "code",
   "execution_count": 9,
   "metadata": {
    "ExecuteTime": {
     "end_time": "2016-11-21T14:36:29.536633",
     "start_time": "2016-11-21T14:36:29.526419"
    },
    "collapsed": false
   },
   "outputs": [],
   "source": [
    "def maximizer(list):\n",
    "    list.sort(key=(lambda x:(x**2)**.5), reverse=True)\n",
    "    for i in range(len(list)-2):\n",
    "        if list[i]*list[i+1]*list[i+2]>0:\n",
    "            return list[i]*list[i+1]*list[i+2]\n",
    "    return list[-1]*list[-2]*list[-3]\n",
    "\n"
   ]
  },
  {
   "cell_type": "code",
   "execution_count": 18,
   "metadata": {
    "ExecuteTime": {
     "end_time": "2016-11-21T14:37:28.539743",
     "start_time": "2016-11-21T14:37:28.531618"
    },
    "collapsed": false
   },
   "outputs": [
    {
     "data": {
      "text/plain": [
       "6"
      ]
     },
     "execution_count": 18,
     "metadata": {},
     "output_type": "execute_result"
    }
   ],
   "source": [
    "maximizer(a)"
   ]
  },
  {
   "cell_type": "code",
   "execution_count": 17,
   "metadata": {
    "ExecuteTime": {
     "end_time": "2016-11-21T14:37:23.767718",
     "start_time": "2016-11-21T14:37:23.756172"
    },
    "collapsed": false
   },
   "outputs": [
    {
     "data": {
      "text/plain": [
       "12"
      ]
     },
     "execution_count": 17,
     "metadata": {},
     "output_type": "execute_result"
    }
   ],
   "source": [
    "get_largest_prod(a)"
   ]
  },
  {
   "cell_type": "code",
   "execution_count": 15,
   "metadata": {
    "ExecuteTime": {
     "end_time": "2016-11-21T14:37:20.330859",
     "start_time": "2016-11-21T14:37:20.324491"
    },
    "collapsed": false
   },
   "outputs": [],
   "source": [
    "a = [1,2,3,-4,-1, 0]"
   ]
  },
  {
   "cell_type": "code",
   "execution_count": 16,
   "metadata": {
    "ExecuteTime": {
     "end_time": "2016-11-21T14:37:21.181559",
     "start_time": "2016-11-21T14:37:21.172423"
    },
    "collapsed": false
   },
   "outputs": [
    {
     "data": {
      "text/plain": [
       "[-4, -1, 0, 1, 2, 3]"
      ]
     },
     "execution_count": 16,
     "metadata": {},
     "output_type": "execute_result"
    }
   ],
   "source": [
    "sorted(a)"
   ]
  },
  {
   "cell_type": "code",
   "execution_count": null,
   "metadata": {
    "collapsed": true
   },
   "outputs": [],
   "source": [
    "[-10, -2, 0, 1,2,3]"
   ]
  },
  {
   "cell_type": "code",
   "execution_count": 7,
   "metadata": {
    "ExecuteTime": {
     "end_time": "2016-11-21T09:23:48.997838",
     "start_time": "2016-11-21T09:23:48.988795"
    },
    "collapsed": true
   },
   "outputs": [],
   "source": [
    "def largest_prod(a_list):\n",
    "    \n",
    "    a_list = sorted(a_list)\n",
    "    \n",
    "    prod = 1\n",
    "    \n",
    "    # def... cba\n",
    "    \n",
    "    a = a_list[-1]\n",
    "    b = a_list[-2]\n",
    "    c = a_list[-3]\n",
    "    \n",
    "    d = a_list[0]\n",
    "    e = a_list[1]\n",
    "    f = a_list[2]\n",
    "    \n",
    "    use = []\n",
    "\n",
    "    if abs(a) > abs(d):\n",
    "        use.append(a)\n",
    "        \n",
    "        if abd(b) > abs(d):\n",
    "            use.append(b)\n",
    "            \n",
    "        else:\n",
    "            use.append(d)\n",
    "            \n",
    "            if abs(c) > abs()\n",
    "        \n",
    "    else: use.append(d)"
   ]
  },
  {
   "cell_type": "code",
   "execution_count": 15,
   "metadata": {
    "ExecuteTime": {
     "end_time": "2016-11-21T09:45:05.810395",
     "start_time": "2016-11-21T09:45:05.805438"
    },
    "collapsed": false
   },
   "outputs": [],
   "source": [
    "import numpy as np"
   ]
  },
  {
   "cell_type": "code",
   "execution_count": 16,
   "metadata": {
    "ExecuteTime": {
     "end_time": "2016-11-21T09:45:14.966129",
     "start_time": "2016-11-21T09:45:14.949550"
    },
    "collapsed": false
   },
   "outputs": [
    {
     "data": {
      "text/plain": [
       "24"
      ]
     },
     "execution_count": 16,
     "metadata": {},
     "output_type": "execute_result"
    }
   ],
   "source": [
    "np.product(a)"
   ]
  },
  {
   "cell_type": "code",
   "execution_count": 8,
   "metadata": {
    "ExecuteTime": {
     "end_time": "2016-11-21T09:23:49.809723",
     "start_time": "2016-11-21T09:23:49.800509"
    },
    "collapsed": false
   },
   "outputs": [
    {
     "data": {
      "text/plain": [
       "3"
      ]
     },
     "execution_count": 8,
     "metadata": {},
     "output_type": "execute_result"
    }
   ],
   "source": [
    "largest_prod(a)"
   ]
  },
  {
   "cell_type": "markdown",
   "metadata": {},
   "source": [
    "The cost of a stock on each day is given in an array, find the max profit that you can make by buying and selling JUST ONCE in those days. For example, if the given array is {100, 180, 260, 310, 40, 535, 695}, the maximum profit can earned by buying on day 4, selling on day 6. If the given array of prices is sorted in decreasing order, then profit cannot be earned at all."
   ]
  },
  {
   "cell_type": "code",
   "execution_count": null,
   "metadata": {
    "collapsed": true
   },
   "outputs": [],
   "source": []
  },
  {
   "cell_type": "code",
   "execution_count": null,
   "metadata": {
    "collapsed": true
   },
   "outputs": [],
   "source": []
  },
  {
   "cell_type": "code",
   "execution_count": null,
   "metadata": {
    "collapsed": true
   },
   "outputs": [],
   "source": []
  }
 ],
 "metadata": {
  "kernelspec": {
   "display_name": "Python [Root]",
   "language": "python",
   "name": "Python [Root]"
  },
  "language_info": {
   "codemirror_mode": {
    "name": "ipython",
    "version": 2
   },
   "file_extension": ".py",
   "mimetype": "text/x-python",
   "name": "python",
   "nbconvert_exporter": "python",
   "pygments_lexer": "ipython2",
   "version": "2.7.12"
  },
  "toc": {
   "nav_menu": {
    "height": "12px",
    "width": "252px"
   },
   "navigate_menu": true,
   "number_sections": true,
   "sideBar": true,
   "threshold": 4,
   "toc_cell": false,
   "toc_section_display": "block",
   "toc_window_display": false
  }
 },
 "nbformat": 4,
 "nbformat_minor": 0
}
