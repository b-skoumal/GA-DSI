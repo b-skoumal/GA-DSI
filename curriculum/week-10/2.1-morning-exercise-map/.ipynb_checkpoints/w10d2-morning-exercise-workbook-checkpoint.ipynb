{
 "cells": [
  {
   "cell_type": "markdown",
   "metadata": {},
   "source": [
    "<img src=\"https://ga-dash.s3.amazonaws.com/production/assets/logo-9f88ae6c9c3871690e33280fcf557f33.png\" style=\"float: left; margin: 15px;\">\n",
    "# Morning Exercise\n",
    "\n",
    "<br>\n",
    "**This notebook contains a series of 5 progressively more difficult exercises. You have until 10am to complete and submit them. Please email completed notebooks to alex.combs@ga.co. No credit will be given for notebooks submitted after 10am (Google timestamp). We will go over the solution from 10 to 10:15am.**"
   ]
  },
  {
   "cell_type": "markdown",
   "metadata": {},
   "source": [
    "## Exercise #1"
   ]
  },
  {
   "cell_type": "markdown",
   "metadata": {},
   "source": [
    "Create a map function from scratch. Name it two_map(). This function should accept three arguments: a python function and two lists. The function should return the result of the function.\n",
    "\n",
    "For example:\n",
    "> two_map(sum, [1,2,3],[3,2,1])<br> would return [6,6].\n",
    "\n",
    "<br> Other functions to test: len, min, max, std, etc."
   ]
  },
  {
   "cell_type": "code",
   "execution_count": 24,
   "metadata": {
    "ExecuteTime": {
     "end_time": "2016-11-22T09:19:08.571331",
     "start_time": "2016-11-22T09:19:08.565618"
    },
    "collapsed": false
   },
   "outputs": [],
   "source": [
    "import numpy as np\n",
    "from numpy import std as std"
   ]
  },
  {
   "cell_type": "code",
   "execution_count": 20,
   "metadata": {
    "ExecuteTime": {
     "end_time": "2016-11-22T09:18:31.182350",
     "start_time": "2016-11-22T09:18:31.157786"
    },
    "collapsed": false
   },
   "outputs": [],
   "source": [
    "def two_map(func, l_a, l_b):\n",
    "    \n",
    "    return [func(l_a), func(l_b)]\n",
    "#     if func == 'sum':\n",
    "        \n",
    "#         return [sum(l_a), sum(l_b)]\n",
    "    \n",
    "#     elif func == 'len':\n",
    "        \n",
    "#         return [len(l_a), len(l_b)]\n",
    "        \n",
    "#     elif func == 'min':\n",
    "#         return [min(l_a), min(l_b)]\n",
    "        \n",
    "#     elif func == 'max':\n",
    "#         return [max(l_a), max(l_b)]\n",
    "#     elif func == 'std':\n",
    "#         return [np.std(l_a), np.std(l_b)]\n",
    "    "
   ]
  },
  {
   "cell_type": "code",
   "execution_count": 25,
   "metadata": {
    "ExecuteTime": {
     "end_time": "2016-11-22T09:19:14.770512",
     "start_time": "2016-11-22T09:19:14.758490"
    },
    "collapsed": false
   },
   "outputs": [
    {
     "data": {
      "text/plain": [
       "[0.81649658092772603, 0.81649658092772603]"
      ]
     },
     "execution_count": 25,
     "metadata": {},
     "output_type": "execute_result"
    }
   ],
   "source": [
    "a = [1,2,3]\n",
    "b = [3,2,1]\n",
    "two_map(std, a,b)"
   ]
  },
  {
   "cell_type": "markdown",
   "metadata": {},
   "source": [
    "## Exercise #2\n",
    "\n",
    "Create a function called many_map() that does the same thing except now rather than only accepting two lists, it should accept two arguments. The first argument is again any function, and the second is a list that can contain any number of lists inside it.\n",
    "\n",
    "For example:\n",
    "> many_map(min, [[1, 2], [3, 4], [5, 6]]) <br> would return [1, 3, 5]<br><br>\n",
    "> many_map(sum, [[1, 2], [3, 4], [5, 6]]) <br> would return [3, 7, 11]"
   ]
  },
  {
   "cell_type": "code",
   "execution_count": 26,
   "metadata": {
    "ExecuteTime": {
     "end_time": "2016-11-22T09:19:45.009028",
     "start_time": "2016-11-22T09:19:45.002858"
    },
    "collapsed": false
   },
   "outputs": [],
   "source": [
    "def many_map(func, arg):\n",
    "    \n",
    "    out = []\n",
    "    return [func(x) for x in arg]"
   ]
  },
  {
   "cell_type": "code",
   "execution_count": 28,
   "metadata": {
    "ExecuteTime": {
     "end_time": "2016-11-22T09:19:53.326087",
     "start_time": "2016-11-22T09:19:53.315409"
    },
    "collapsed": false
   },
   "outputs": [
    {
     "data": {
      "text/plain": [
       "[2, 2, 2]"
      ]
     },
     "execution_count": 28,
     "metadata": {},
     "output_type": "execute_result"
    }
   ],
   "source": [
    "many_map(len, [[1, 2], [3, 4], [5, 6]]) "
   ]
  },
  {
   "cell_type": "markdown",
   "metadata": {},
   "source": [
    "## Exercise 3\n",
    "\n",
    "Create another function called z_map(). Again, this should accept two arguments, the first is the function to be run; the second is a list that contains an arbitrary number of lists. Unlike the last function you created, this one should work on zipped data.\n",
    "\n",
    "For example:\n",
    "\n",
    "> z_map(sum, [[1, 2], [3, 4], [5, 6]])<br>\n",
    "would return [9, 12]\n",
    "\n",
    "> z_map(sum, [[1,1,1], [2,2,2], [3,3,3]])<br>\n",
    "would return [6, 6, 6]"
   ]
  },
  {
   "cell_type": "code",
   "execution_count": 42,
   "metadata": {
    "ExecuteTime": {
     "end_time": "2016-11-22T09:27:51.501071",
     "start_time": "2016-11-22T09:27:51.494841"
    },
    "collapsed": true
   },
   "outputs": [],
   "source": [
    "def z_map(func, l):\n",
    "    \n",
    "    return [func(x) for x in zip(*l)]"
   ]
  },
  {
   "cell_type": "code",
   "execution_count": 43,
   "metadata": {
    "ExecuteTime": {
     "end_time": "2016-11-22T09:27:53.129822",
     "start_time": "2016-11-22T09:27:53.120496"
    },
    "collapsed": false
   },
   "outputs": [
    {
     "data": {
      "text/plain": [
       "[9, 12]"
      ]
     },
     "execution_count": 43,
     "metadata": {},
     "output_type": "execute_result"
    }
   ],
   "source": [
    "z_map(sum, [[1, 2], [3, 4], [5, 6]])"
   ]
  },
  {
   "cell_type": "code",
   "execution_count": 44,
   "metadata": {
    "ExecuteTime": {
     "end_time": "2016-11-22T09:28:08.176007",
     "start_time": "2016-11-22T09:28:08.166586"
    },
    "collapsed": false
   },
   "outputs": [
    {
     "data": {
      "text/plain": [
       "[6, 6, 6]"
      ]
     },
     "execution_count": 44,
     "metadata": {},
     "output_type": "execute_result"
    }
   ],
   "source": [
    "z_map(sum, [[1,1,1], [2,2,2], [3,3,3]])"
   ]
  },
  {
   "cell_type": "markdown",
   "metadata": {},
   "source": [
    "## Exercise #4\n",
    "\n",
    "Create a function that accepts an int. It should return all Fibonacci numbers in a list that are less than or equal to that value. **Bonus: Do it without creating a list in your function.**"
   ]
  },
  {
   "cell_type": "code",
   "execution_count": 59,
   "metadata": {
    "ExecuteTime": {
     "end_time": "2016-11-22T09:36:16.270850",
     "start_time": "2016-11-22T09:36:16.261866"
    },
    "collapsed": true
   },
   "outputs": [],
   "source": [
    "# 1, 1, 2, 3, 5, 8, 13, 21, 34\n",
    "\n",
    "def fib_(x):\n",
    "\n",
    "    if x == 1:\n",
    "        return 1\n",
    "    elif x == 2:\n",
    "        return 1\n",
    "    else:\n",
    "\n",
    "        return fib_(x-1)+fib_(x-2)"
   ]
  },
  {
   "cell_type": "code",
   "execution_count": 60,
   "metadata": {
    "ExecuteTime": {
     "end_time": "2016-11-22T09:36:16.551913",
     "start_time": "2016-11-22T09:36:16.543392"
    },
    "collapsed": false
   },
   "outputs": [
    {
     "data": {
      "text/plain": [
       "34"
      ]
     },
     "execution_count": 60,
     "metadata": {},
     "output_type": "execute_result"
    }
   ],
   "source": [
    "fib_(9)"
   ]
  },
  {
   "cell_type": "code",
   "execution_count": 90,
   "metadata": {
    "ExecuteTime": {
     "end_time": "2016-11-22T09:49:21.764454",
     "start_time": "2016-11-22T09:49:21.753491"
    },
    "collapsed": false
   },
   "outputs": [],
   "source": [
    "def ret_fib(x):\n",
    "\n",
    "    l = [1,1]\n",
    "    for i in range(x-2):\n",
    "        out = l[i] + l[i+1]\n",
    "        print out\n",
    "        if out <= x:\n",
    "            l.append(out)\n",
    "        else:\n",
    "            break\n",
    "    return l\n"
   ]
  },
  {
   "cell_type": "code",
   "execution_count": 92,
   "metadata": {
    "ExecuteTime": {
     "end_time": "2016-11-22T09:49:25.334400",
     "start_time": "2016-11-22T09:49:25.321967"
    },
    "collapsed": false
   },
   "outputs": [
    {
     "name": "stdout",
     "output_type": "stream",
     "text": [
      "2\n",
      "3\n",
      "5\n",
      "8\n",
      "13\n",
      "21\n",
      "34\n",
      "55\n",
      "89\n",
      "144\n"
     ]
    },
    {
     "data": {
      "text/plain": [
       "[1, 1, 2, 3, 5, 8, 13, 21, 34, 55, 89]"
      ]
     },
     "execution_count": 92,
     "metadata": {},
     "output_type": "execute_result"
    }
   ],
   "source": [
    "ret_fib(133)"
   ]
  },
  {
   "cell_type": "markdown",
   "metadata": {},
   "source": [
    "## Exercise #5\n",
    "\n",
    "Find the largest palindromic number that is possible from the product of all three digit numbers.\n",
    "For example, 111 * 111 = 12321. This number reads the same from right to left as it does from left tor right, so this qualifies as a palindrome. Find the largest possible that is the product of two three digit numbers."
   ]
  },
  {
   "cell_type": "code",
   "execution_count": null,
   "metadata": {
    "collapsed": false
   },
   "outputs": [],
   "source": [
    "\n",
    "# odd number len\n",
    "# [0: mid] = reverse[mid:-1]"
   ]
  },
  {
   "cell_type": "code",
   "execution_count": 105,
   "metadata": {
    "ExecuteTime": {
     "end_time": "2016-11-22T09:55:49.697894",
     "start_time": "2016-11-22T09:55:49.693481"
    },
    "collapsed": true
   },
   "outputs": [],
   "source": [
    "a = '12345'"
   ]
  },
  {
   "cell_type": "code",
   "execution_count": 94,
   "metadata": {
    "ExecuteTime": {
     "end_time": "2016-11-22T09:53:09.048851",
     "start_time": "2016-11-22T09:53:09.042675"
    },
    "collapsed": true
   },
   "outputs": [],
   "source": [
    "mid = len(a)/2"
   ]
  },
  {
   "cell_type": "code",
   "execution_count": 106,
   "metadata": {
    "ExecuteTime": {
     "end_time": "2016-11-22T09:55:51.696790",
     "start_time": "2016-11-22T09:55:51.687235"
    },
    "collapsed": false
   },
   "outputs": [
    {
     "data": {
      "text/plain": [
       "('12', '45')"
      ]
     },
     "execution_count": 106,
     "metadata": {},
     "output_type": "execute_result"
    }
   ],
   "source": [
    "a[:mid], a[mid+1:]"
   ]
  },
  {
   "cell_type": "code",
   "execution_count": 108,
   "metadata": {
    "ExecuteTime": {
     "end_time": "2016-11-22T09:55:59.232012",
     "start_time": "2016-11-22T09:55:59.223820"
    },
    "collapsed": false
   },
   "outputs": [
    {
     "data": {
      "text/plain": [
       "'54'"
      ]
     },
     "execution_count": 108,
     "metadata": {},
     "output_type": "execute_result"
    }
   ],
   "source": [
    "a[mid+1:][::-1]"
   ]
  },
  {
   "cell_type": "code",
   "execution_count": 112,
   "metadata": {
    "ExecuteTime": {
     "end_time": "2016-11-22T09:59:02.051051",
     "start_time": "2016-11-22T09:59:00.446660"
    },
    "collapsed": false
   },
   "outputs": [],
   "source": [
    "pali = []\n",
    "\n",
    "for x in range(1,1000):\n",
    "    for y in range(1,1000):\n",
    "        str_z = str(x*y)\n",
    "        \n",
    "        # check if odd\n",
    "        if len(str_z)%2 != 0:\n",
    "            mid = len(str_z)/2\n",
    "            if str_z[:mid] == str_z[mid+1:][::-1]:\n",
    "                pali.append([x,y, str_z])"
   ]
  },
  {
   "cell_type": "code",
   "execution_count": 114,
   "metadata": {
    "ExecuteTime": {
     "end_time": "2016-11-22T09:59:16.920618",
     "start_time": "2016-11-22T09:59:16.911668"
    },
    "collapsed": false
   },
   "outputs": [
    {
     "data": {
      "text/plain": [
       "3283"
      ]
     },
     "execution_count": 114,
     "metadata": {},
     "output_type": "execute_result"
    }
   ],
   "source": [
    "len(pali)"
   ]
  },
  {
   "cell_type": "code",
   "execution_count": 117,
   "metadata": {
    "ExecuteTime": {
     "end_time": "2016-11-22T10:00:21.015272",
     "start_time": "2016-11-22T10:00:21.004533"
    },
    "collapsed": false
   },
   "outputs": [
    {
     "data": {
      "text/plain": [
       "[999, 91, '90909']"
      ]
     },
     "execution_count": 117,
     "metadata": {},
     "output_type": "execute_result"
    }
   ],
   "source": [
    "pali[-1]"
   ]
  },
  {
   "cell_type": "code",
   "execution_count": null,
   "metadata": {
    "collapsed": true
   },
   "outputs": [],
   "source": []
  }
 ],
 "metadata": {
  "anaconda-cloud": {},
  "kernelspec": {
   "display_name": "Python [Root]",
   "language": "python",
   "name": "Python [Root]"
  },
  "language_info": {
   "codemirror_mode": {
    "name": "ipython",
    "version": 2
   },
   "file_extension": ".py",
   "mimetype": "text/x-python",
   "name": "python",
   "nbconvert_exporter": "python",
   "pygments_lexer": "ipython2",
   "version": "2.7.12"
  },
  "toc": {
   "nav_menu": {
    "height": "120px",
    "width": "252px"
   },
   "navigate_menu": true,
   "number_sections": true,
   "sideBar": true,
   "threshold": 4,
   "toc_cell": false,
   "toc_section_display": "block",
   "toc_window_display": false
  }
 },
 "nbformat": 4,
 "nbformat_minor": 0
}
