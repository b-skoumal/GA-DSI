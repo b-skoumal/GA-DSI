{
 "cells": [
  {
   "cell_type": "markdown",
   "metadata": {},
   "source": [
    "# ![](https://ga-dash.s3.amazonaws.com/production/assets/logo-9f88ae6c9c3871690e33280fcf557f33.png) [Naive Bayes Classifier]"
   ]
  },
  {
   "cell_type": "markdown",
   "metadata": {},
   "source": [
    "### LEARNING OBJECTIVES\n",
    "*After this lesson, you will be able to:*"
   ]
  },
  {
   "cell_type": "markdown",
   "metadata": {
    "collapsed": true
   },
   "source": [
    "- Explain Bayes' theorem\n",
    "- Explain the components of the Bayesian \"world view\": posterior, prior, likelihood\n",
    "- Describe Naive Bayes\n",
    "- Understand how Naive Bayes is used in Machine Learning"
   ]
  },
  {
   "cell_type": "markdown",
   "metadata": {},
   "source": [
    "### Introduction (5 mins)"
   ]
  },
  {
   "cell_type": "markdown",
   "metadata": {
    "collapsed": true
   },
   "source": [
    "**BAYESIAN PROBABILITY**\n",
    "\n",
    "Probability is a representation of our uncertainty given what we know and believe to be true. Given a number of observed positive occurences over a number of events *and our prior belief about the true probability of positive occurences,* what is the *distribution of the true probability*?\n",
    "\n",
    "### $$P\\left(\\;true\\;|\\;observed\\;\\right) = \\frac{P\\left(\\;observed\\;|\\;true\\;\\right)}{P(\\;observed\\;)} P\\left(\\;true\\;\\right)$$\n",
    "\n",
    "where:\n",
    "\n",
    "$P\\left(\\;true\\;|\\;observed\\;\\right)$ is the **posterior probability** or **conditional probability**. This is the probability of an occurence given what we observed.\n",
    "\n",
    "$P\\left(\\;observed\\;|\\;true\\;\\right)$ is the **likelihood,** which is the probability of what we observed  given our prior belief about the probability of occurence. \n",
    "\n",
    "${P(\\;observed\\;)}$ is the **marginal probability** of the observed data. \n",
    "\n",
    "$P\\left(\\;true\\;\\right)$ is the **prior probability** belief. It is what you thought the probability was before observing the events.\n",
    "\n",
    "---\n",
    "\n",
    "source: DSI2 W8D1 lecture notes"
   ]
  },
  {
   "cell_type": "markdown",
   "metadata": {},
   "source": [
    "### Generative versus Discriminative models (5 mins)"
   ]
  },
  {
   "cell_type": "markdown",
   "metadata": {
    "collapsed": true
   },
   "source": [
    "A generative algorithm models how the data was generated in order to categorize a signal. It asks the question: based on my generation assumptions, which category is most likely to generate this signal?\n",
    "\n",
    "$$P\\left(\\;X\\;|\\;y\\;\\right)$$\n",
    "\n",
    "\n",
    "A discriminative algorithm does not care about how the data was generated, it simply categorizes a given signal.\n",
    "\n",
    "\n",
    "$$P\\left(\\;y\\;|\\;X\\;\\right)$$\n",
    "\n",
    "\n",
    "source: http://stackoverflow.com/questions/879432/what-is-the-difference-between-a-generative-and-discriminative-algorithm"
   ]
  },
  {
   "cell_type": "markdown",
   "metadata": {},
   "source": [
    "### So how is this relevant to Machine Learning? (10 mins)"
   ]
  },
  {
   "cell_type": "markdown",
   "metadata": {
    "collapsed": true
   },
   "source": [
    "![Example](breast_cancer_example.png)\n",
    "\n",
    "source: https://betterexplained.com/articles/an-intuitive-and-short-explanation-of-bayes-theorem/"
   ]
  },
  {
   "cell_type": "markdown",
   "metadata": {},
   "source": [
    "Question:\n",
    "\n",
    "What is the probability of actually having cancer when test returns \"Positive\"?\n",
    "\n",
    "Ans: 0.078"
   ]
  },
  {
   "cell_type": "markdown",
   "metadata": {},
   "source": [
    "![](original_golf_data.png) "
   ]
  },
  {
   "cell_type": "markdown",
   "metadata": {},
   "source": [
    "![](transformed_golf_data.png)"
   ]
  },
  {
   "cell_type": "markdown",
   "metadata": {},
   "source": [
    "source: 5 Minutes With Ingo: Naïve Bayes\n",
    "https://www.youtube.com/watch?v=IlVINQDk4o8\n",
    "\n",
    "But how do we use it to make a prediction?"
   ]
  },
  {
   "cell_type": "markdown",
   "metadata": {},
   "source": [
    "Example:\n",
    "    \n",
    "    Should I play golf when it is \"sunny outlook\", \"cool temperature\", \"high humidity\", \"Windy\"?\n",
    "  "
   ]
  },
  {
   "cell_type": "markdown",
   "metadata": {},
   "source": [
    "$$likelihood:\\   P\\left(\\;play\\ golf\\;|\\;sunny, cool, high, true\\;\\right) = (3 / 9) * (3 / 9) * (3 / 9) * (3 / 9) * (9 / 14)$$\n",
    "   $$        = 0.0079  $$\n",
    "   \n",
    "   \n",
    "$$P\\left(\\;Don't\\ play\\ golf\\;|\\;sunny, cool, high, true\\;\\right) = (2 / 4) * (1 / 5) * (4 / 5) * (3 / 5) * (5 / 14)$$\n",
    "   $$        = 0.0171  $$"
   ]
  },
  {
   "cell_type": "code",
   "execution_count": 7,
   "metadata": {
    "ExecuteTime": {
     "end_time": "2016-12-02T00:09:06.744678",
     "start_time": "2016-12-02T00:09:06.738668"
    },
    "collapsed": false
   },
   "outputs": [],
   "source": [
    "play = (3. / 9) * (3. / 9) * (3. / 9) * (3. / 9) * (9. / 14)"
   ]
  },
  {
   "cell_type": "code",
   "execution_count": 8,
   "metadata": {
    "ExecuteTime": {
     "end_time": "2016-12-02T00:09:07.099963",
     "start_time": "2016-12-02T00:09:07.093182"
    },
    "collapsed": false
   },
   "outputs": [],
   "source": [
    "no_play = (2. / 4) * (1. / 5) * (4. / 5) * (3. / 5) * (5. / 14)"
   ]
  },
  {
   "cell_type": "code",
   "execution_count": 9,
   "metadata": {
    "ExecuteTime": {
     "end_time": "2016-12-02T00:09:07.456423",
     "start_time": "2016-12-02T00:09:07.447253"
    },
    "collapsed": false
   },
   "outputs": [
    {
     "data": {
      "text/plain": [
       "0.31645569620253156"
      ]
     },
     "execution_count": 9,
     "metadata": {},
     "output_type": "execute_result"
    }
   ],
   "source": [
    "play / (play + no_play)"
   ]
  },
  {
   "cell_type": "markdown",
   "metadata": {},
   "source": [
    "Hence, don't play golf (since lower than 0.5)"
   ]
  },
  {
   "cell_type": "markdown",
   "metadata": {},
   "source": [
    "### Why Naive?"
   ]
  },
  {
   "cell_type": "markdown",
   "metadata": {},
   "source": [
    "Ans: Assumes distributions of features are independent of one another, in most cases, this is not true, but NB still offers decent performance"
   ]
  },
  {
   "cell_type": "markdown",
   "metadata": {},
   "source": [
    "### Use cases:"
   ]
  },
  {
   "cell_type": "markdown",
   "metadata": {},
   "source": [
    "- Spam classification\n",
    "- Email foldering\n",
    "- E-commerce products binning"
   ]
  },
  {
   "cell_type": "code",
   "execution_count": null,
   "metadata": {
    "collapsed": true
   },
   "outputs": [],
   "source": []
  }
 ],
 "metadata": {
  "anaconda-cloud": {},
  "kernelspec": {
   "display_name": "Python [Root]",
   "language": "python",
   "name": "Python [Root]"
  },
  "language_info": {
   "codemirror_mode": {
    "name": "ipython",
    "version": 2
   },
   "file_extension": ".py",
   "mimetype": "text/x-python",
   "name": "python",
   "nbconvert_exporter": "python",
   "pygments_lexer": "ipython2",
   "version": "2.7.12"
  },
  "toc": {
   "nav_menu": {
    "height": "221px",
    "width": "252px"
   },
   "navigate_menu": true,
   "number_sections": true,
   "sideBar": true,
   "threshold": 4,
   "toc_cell": false,
   "toc_section_display": "block",
   "toc_window_display": false
  }
 },
 "nbformat": 4,
 "nbformat_minor": 0
}
