{
 "cells": [
  {
   "cell_type": "markdown",
   "metadata": {
    "slideshow": {
     "slide_type": "slide"
    }
   },
   "source": [
    "# ![](https://ga-dash.s3.amazonaws.com/production/assets/logo-9f88ae6c9c3871690e33280fcf557f33.png) Stats 101 - hypothesis testing\n",
    "Week 2 | Lesson 1.2\n",
    "\n"
   ]
  },
  {
   "cell_type": "markdown",
   "metadata": {
    "slideshow": {
     "slide_type": "slide"
    }
   },
   "source": [
    "### LEARNING OBJECTIVES\n",
    "*After this lesson, you will be able to:*\n",
    "- Define null vs alternative hypotheses \n",
    "- Explain significance levels\n",
    "- Explain ways of calculating p-values"
   ]
  },
  {
   "cell_type": "markdown",
   "metadata": {
    "slideshow": {
     "slide_type": "slide"
    }
   },
   "source": [
    "### The p-value\n",
    "\n",
    "$P(Data | H_0)$\n",
    "\n",
    "The **p-value** is the probability that, **GIVEN THE NULL HYPOTHESIS IS TRUE**, we would have the current set of data. \n",
    "\n"
   ]
  },
  {
   "cell_type": "markdown",
   "metadata": {
    "slideshow": {
     "slide_type": "slide"
    }
   },
   "source": [
    "### Multiple ways to think about hypothesis testing\n",
    "\n",
    "The p-value is $P(Data | H_0)$. If this probability is very low, below some *significance level* cut-off, then we \"reject\" the null hypothesis. Otherwise we fail to reject it.\n",
    "\n",
    "There is a rich body of inferential statistics that allows us to calculate this analytically using *parametric methods*, i.e. given certain assumptions. This is the traditional way of doing hypothesis tests.\n",
    "\n",
    "If we have a model of $H_0$, we can sometimes also *calculate this directly* with simulations."
   ]
  },
  {
   "cell_type": "markdown",
   "metadata": {
    "slideshow": {
     "slide_type": "slide"
    }
   },
   "source": [
    "So we have two broad strategies for testing hypotheses:\n",
    "\n",
    "Simulation-based:\n",
    "- Describe null and alternative hypotheses\n",
    "- Set significance level alpha\n",
    "- Define model\n",
    "- Run simulation\n",
    "- Calculate p-value\n",
    "- Compare p-value to alpha\n",
    "\n",
    "![](./assets/images/Hypothesistestingfigure.png)\n",
    "_Image from http://allendowney.blogspot.com/2011/05/there-is-only-one-test.html_"
   ]
  },
  {
   "cell_type": "markdown",
   "metadata": {
    "slideshow": {
     "slide_type": "slide"
    }
   },
   "source": [
    "Parametric methods:\n",
    "- Describe null and alternative hypotheses\n",
    "- Set significance level alpha\n",
    "- Define distribution\n",
    "- Calculate test statistic\n",
    "- Calculate p-value\n",
    "- Compare p-value to alpha"
   ]
  },
  {
   "cell_type": "markdown",
   "metadata": {
    "slideshow": {
     "slide_type": "slide"
    }
   },
   "source": [
    "### Guided practice: hypothesis testing for coin flips\n",
    "\n",
    "Let's say we want to test whether a coin is rigged to turn up more heads when flipping. What's our null hypothesis? How would we simulate this?\n",
    "\n",
    "```python\n",
    "%matplotlib inline\n",
    "import matplotlib.pyplot as plt\n",
    "import numpy as np\n",
    "trials = 100000.\n",
    "data = np.random.randint(2, size = (trials,30)) # as we increase the sample size, we approach a normal distribution\n",
    "N = np.sum(data, axis = 1) # sum up the number of heads in rows (experiments)\n",
    "plt.hist(N)\n",
    "```"
   ]
  },
  {
   "cell_type": "code",
   "execution_count": 3,
   "metadata": {
    "collapsed": false,
    "slideshow": {
     "slide_type": "slide"
    }
   },
   "outputs": [
    {
     "name": "stderr",
     "output_type": "stream",
     "text": [
      "/anaconda/lib/python2.7/site-packages/ipykernel/__main__.py:5: VisibleDeprecationWarning: using a non-integer number instead of an integer will result in an error in the future\n"
     ]
    },
    {
     "data": {
      "text/plain": [
       "(array([  1.70000000e+01,   2.49000000e+02,   4.71900000e+03,\n",
       "          1.30800000e+04,   2.46880000e+04,   3.91550000e+04,\n",
       "          1.31590000e+04,   4.66100000e+03,   2.51000000e+02,\n",
       "          2.10000000e+01]),\n",
       " array([  3. ,   5.4,   7.8,  10.2,  12.6,  15. ,  17.4,  19.8,  22.2,\n",
       "         24.6,  27. ]),\n",
       " <a list of 10 Patch objects>)"
      ]
     },
     "execution_count": 3,
     "metadata": {},
     "output_type": "execute_result"
    },
    {
     "data": {
      "image/png": "[encoded data removed]",
      "text/plain": [
       "<matplotlib.figure.Figure at 0x10e54f690>"
      ]
     },
     "metadata": {},
     "output_type": "display_data"
    }
   ],
   "source": [
    "%matplotlib inline\n",
    "import matplotlib.pyplot as plt\n",
    "import numpy as np\n",
    "trials = 100000.\n",
    "data = np.random.randint(2, size = (trials,30)) # as we increase the sample size, we approach a normal distribution\n",
    "N = np.sum(data, axis = 1) # sum up the number of heads in rows (experiments)\n",
    "plt.hist(N)"
   ]
  },
  {
   "cell_type": "markdown",
   "metadata": {
    "slideshow": {
     "slide_type": "slide"
    }
   },
   "source": [
    "Let's say we flipped our real-life coin 30 times, and saw 20 heads. What is the probability of this given $H_0$, which we model as a fair coin? We can use our simulation and simply count the proportion of times we observed a result at least as large as the one we're interested in.\n",
    "\n",
    "First, let's pick an $\\alpha$ (significance) level: at what point do we say a result is improbable enough that we won't believe it happened in a world where $H_0$ is true?\n",
    "\n",
    "$$\\alpha = ?$$\n"
   ]
  },
  {
   "cell_type": "code",
   "execution_count": 4,
   "metadata": {
    "collapsed": false,
    "slideshow": {
     "slide_type": "slide"
    }
   },
   "outputs": [
    {
     "name": "stdout",
     "output_type": "stream",
     "text": [
      "0.04933 0.05 False\n"
     ]
    }
   ],
   "source": [
    "alpha = .05\n",
    "pval = sum(N >= 20) / trials\n",
    "print pval, alpha, pval > alpha\n",
    "\n",
    "# This gives ~5% chance, just above our alpha level"
   ]
  },
  {
   "cell_type": "markdown",
   "metadata": {
    "slideshow": {
     "slide_type": "slide"
    }
   },
   "source": [
    "Do we reject or fail to reject the null hypothesis?"
   ]
  },
  {
   "cell_type": "markdown",
   "metadata": {
    "slideshow": {
     "slide_type": "slide"
    }
   },
   "source": [
    "## Demonstration: parametric methods for hypothesis testing\n",
    "\n",
    "More traditionally, we could define our assumptions about the model and its distribution, and pick an appropriate *test statistic*.\n",
    "\n",
    "Here, we could use a binomial proportions test statistic. For a largeish number of trials, this gives us a \"Z-score\" which lies on a normal distribution.\n",
    "\n",
    "$$ \\frac{\\hat{p} - p_0}{\\sqrt{p_0 (1 - p_0) / n}} $$\n"
   ]
  },
  {
   "cell_type": "code",
   "execution_count": 113,
   "metadata": {
    "collapsed": false,
    "slideshow": {
     "slide_type": "slide"
    }
   },
   "outputs": [
    {
     "data": {
      "text/plain": [
       "0.067889154861829004"
      ]
     },
     "execution_count": 113,
     "metadata": {},
     "output_type": "execute_result"
    }
   ],
   "source": [
    "import scipy.stats as st\n",
    "test_stat = (20./30 - 15./30) / np.sqrt(.5* (1-.5) / 30.)\n",
    "((1 - st.norm.cdf(test_stat))) *2 # two-tailed\n"
   ]
  },
  {
   "cell_type": "markdown",
   "metadata": {
    "slideshow": {
     "slide_type": "slide"
    }
   },
   "source": [
    "### Demo: More hypothesis testing with parametric method\n",
    "\n",
    "Say we are testing a new drug:\n",
    "\n",
    "- We randomly select 50 people to be in the placebo control condition and 50 people to recieve the treatment.\n",
    "- Our sample is selected from the broader, unknown population pool.\n",
    "- In a parallel world we could have ended up with any random sample from the population pool of 100 people.\n"
   ]
  },
  {
   "cell_type": "markdown",
   "metadata": {
    "slideshow": {
     "slide_type": "slide"
    }
   },
   "source": [
    "### The \"null hypothesis\"\n",
    "\n",
    "What is it?"
   ]
  },
  {
   "cell_type": "markdown",
   "metadata": {
    "slideshow": {
     "slide_type": "fragment"
    }
   },
   "source": [
    "The null hypothesis is, in this example, the hypothesis that there is no difference between placebo and treatment."
   ]
  },
  {
   "cell_type": "markdown",
   "metadata": {
    "slideshow": {
     "slide_type": "fragment"
    }
   },
   "source": [
    "**H0:** The measured parameter is equal to a specific value for the population."
   ]
  },
  {
   "cell_type": "markdown",
   "metadata": {
    "slideshow": {
     "slide_type": "fragment"
    }
   },
   "source": [
    "The **alternative hypothesis** is the other possible outcome of the experiment: the difference between the placebo and the treatment is real/not zero.\n",
    "\n",
    "**H1:** The measured parameter is different for the population than the value in the null hypothesis."
   ]
  },
  {
   "cell_type": "markdown",
   "metadata": {
    "slideshow": {
     "slide_type": "slide"
    }
   },
   "source": [
    "Say in our experiment we follow-up with the experimental and control groups:\n",
    "\n",
    "- 5 out of 50 patients in the control group indicate that their symptoms are better\n",
    "- 20 out of 50 patients in the experimental group indicate that their symptoms are better\n",
    "\n",
    "The **p-value** would be the **probability we have this data if the effect of the drug is in fact no better than placebo.**\n",
    "\n",
    "Let's visuailze this degree of difference, assuming observed differences over many trials are normally distributed."
   ]
  },
  {
   "cell_type": "code",
   "execution_count": 138,
   "metadata": {
    "collapsed": true,
    "slideshow": {
     "slide_type": "slide"
    }
   },
   "outputs": [],
   "source": [
    "import numpy as np\n",
    "import scipy.stats as stats\n",
    "import seaborn as sns\n",
    "import matplotlib.pyplot as plt\n",
    "%matplotlib inline\n",
    "sns.set(rc={\"figure.figsize\": (9, 7)})\n",
    "\n",
    "null_dist = np.random.normal(0, 5, 100)\n",
    "measured_diff = 15. "
   ]
  },
  {
   "cell_type": "code",
   "execution_count": 5,
   "metadata": {
    "collapsed": false,
    "slideshow": {
     "slide_type": "slide"
    }
   },
   "outputs": [
    {
     "ename": "NameError",
     "evalue": "name 'sns' is not defined",
     "output_type": "error",
     "traceback": [
      "\u001b[0;31m---------------------------------------------------------------------------\u001b[0m",
      "\u001b[0;31mNameError\u001b[0m                                 Traceback (most recent call last)",
      "\u001b[0;32m<ipython-input-5-19a68e6048c0>\u001b[0m in \u001b[0;36m<module>\u001b[0;34m()\u001b[0m\n\u001b[0;32m----> 1\u001b[0;31m \u001b[0max\u001b[0m \u001b[0;34m=\u001b[0m \u001b[0msns\u001b[0m\u001b[0;34m.\u001b[0m\u001b[0mdistplot\u001b[0m\u001b[0;34m(\u001b[0m\u001b[0mnull_dist\u001b[0m\u001b[0;34m)\u001b[0m\u001b[0;34m\u001b[0m\u001b[0m\n\u001b[0m\u001b[1;32m      2\u001b[0m \u001b[0max\u001b[0m\u001b[0;34m.\u001b[0m\u001b[0maxvline\u001b[0m\u001b[0;34m(\u001b[0m\u001b[0mmeasured_diff\u001b[0m\u001b[0;34m,\u001b[0m \u001b[0mcolor\u001b[0m\u001b[0;34m=\u001b[0m\u001b[0;34m'k'\u001b[0m\u001b[0;34m,\u001b[0m \u001b[0mlinestyle\u001b[0m\u001b[0;34m=\u001b[0m\u001b[0;34m'--'\u001b[0m\u001b[0;34m,\u001b[0m \u001b[0mlw\u001b[0m\u001b[0;34m=\u001b[0m\u001b[0;36m5\u001b[0m\u001b[0;34m)\u001b[0m\u001b[0;34m\u001b[0m\u001b[0m\n",
      "\u001b[0;31mNameError\u001b[0m: name 'sns' is not defined"
     ]
    }
   ],
   "source": [
    "ax = sns.distplot(null_dist)\n",
    "ax.axvline(measured_diff, color='k', linestyle='--', lw=5)"
   ]
  },
  {
   "cell_type": "markdown",
   "metadata": {
    "slideshow": {
     "slide_type": "slide"
    }
   },
   "source": [
    "### t-tests: calculating the p-value\n",
    "\n",
    "How do we calculate the **p-value**? For comparing two means (as is the case in this example: the mean difference in symptoms between conditions) we can use the **t-test**.\n",
    "\n",
    "The p-value is a conversion of the **t-statistic** calculated for our experiment."
   ]
  },
  {
   "cell_type": "markdown",
   "metadata": {
    "slideshow": {
     "slide_type": "slide"
    }
   },
   "source": [
    "<img src=\"http://sites.nicholas.duke.edu/statsreview/files/2013/09/tstat.jpg\">"
   ]
  },
  {
   "cell_type": "markdown",
   "metadata": {
    "slideshow": {
     "slide_type": "fragment"
    }
   },
   "source": [
    "- The numerator: the difference between **the mean of your sample** and the **hypothesized mean**. Recall that our hypothesized mean is the **null hypothesis H0**"
   ]
  },
  {
   "cell_type": "markdown",
   "metadata": {
    "slideshow": {
     "slide_type": "fragment"
    }
   },
   "source": [
    "- The denominator: **the standard deviation of your sample measurements** divided by the **square root of your sample size**. "
   ]
  },
  {
   "cell_type": "markdown",
   "metadata": {
    "slideshow": {
     "slide_type": "slide"
    }
   },
   "source": [
    "### But what is the t-statistic?\n",
    "<img src=\"http://sites.nicholas.duke.edu/statsreview/files/2013/09/tstat.jpg\">"
   ]
  },
  {
   "cell_type": "markdown",
   "metadata": {
    "slideshow": {
     "slide_type": "fragment"
    }
   },
   "source": [
    "The t-statistic measures the **signal to noise ratio** in our data."
   ]
  },
  {
   "cell_type": "markdown",
   "metadata": {
    "slideshow": {
     "slide_type": "fragment"
    }
   },
   "source": [
    "**The signal is our measured difference.** This is our measured mean minus the hypothesized mean **H0**."
   ]
  },
  {
   "cell_type": "markdown",
   "metadata": {
    "slideshow": {
     "slide_type": "fragment"
    }
   },
   "source": [
    "**The noise** is the **variation in our data**. This is how much our measurements vary (measured by the standard deviation), with a penalty for smaller sample sizes (the square root of the sample size)."
   ]
  },
  {
   "cell_type": "code",
   "execution_count": 140,
   "metadata": {
    "collapsed": false,
    "slideshow": {
     "slide_type": "slide"
    }
   },
   "outputs": [
    {
     "data": {
      "text/plain": [
       "<matplotlib.axes._subplots.AxesSubplot at 0x11e395c10>"
      ]
     },
     "execution_count": 140,
     "metadata": {},
     "output_type": "execute_result"
    },
    {
     "data": {
      "image/png": "[encoded data removed]",
      "text/plain": [
       "<matplotlib.figure.Figure at 0x11e3a0ad0>"
      ]
     },
     "metadata": {},
     "output_type": "display_data"
    }
   ],
   "source": [
    "control = np.random.normal(5, 5, 50)\n",
    "experimental = np.random.normal(20, 5, 50)\n",
    "ax = sns.distplot(control, bins=10)\n",
    "sns.distplot(experimental, color='darkred', bins=10, ax=ax)\n"
   ]
  },
  {
   "cell_type": "markdown",
   "metadata": {
    "slideshow": {
     "slide_type": "slide"
    }
   },
   "source": [
    "We set the standard deviation to 5. What if it was higher? "
   ]
  },
  {
   "cell_type": "code",
   "execution_count": 141,
   "metadata": {
    "collapsed": false,
    "slideshow": {
     "slide_type": "slide"
    }
   },
   "outputs": [
    {
     "data": {
      "text/plain": [
       "<matplotlib.axes._subplots.AxesSubplot at 0x11e627ad0>"
      ]
     },
     "execution_count": 141,
     "metadata": {},
     "output_type": "execute_result"
    },
    {
     "data": {
      "image/png": "[encoded data removed]",
      "text/plain": [
       "<matplotlib.figure.Figure at 0x11e314d50>"
      ]
     },
     "metadata": {},
     "output_type": "display_data"
    }
   ],
   "source": [
    "control = np.random.normal(5, 15, 50)\n",
    "experimental = np.random.normal(20, 15, 50)\n",
    "\n",
    "ax = sns.distplot(control, bins=10)\n",
    "sns.distplot(experimental, color='darkred', bins=10, ax=ax)"
   ]
  },
  {
   "cell_type": "markdown",
   "metadata": {
    "slideshow": {
     "slide_type": "slide"
    }
   },
   "source": [
    "The likelihood of seeing what we see under the null is in part determined by the underlying variation of the data.\n",
    "\n"
   ]
  },
  {
   "cell_type": "markdown",
   "metadata": {
    "slideshow": {
     "slide_type": "slide"
    }
   },
   "source": [
    "Now, let's calculate the test-statistic:\n",
    "\n",
    "(20 - 5) / (5 / np.sqrt(50))\n",
    "\n",
    "<img src=\"http://sites.nicholas.duke.edu/statsreview/files/2013/09/tstat.jpg\">"
   ]
  },
  {
   "cell_type": "code",
   "execution_count": 142,
   "metadata": {
    "collapsed": false,
    "slideshow": {
     "slide_type": "slide"
    }
   },
   "outputs": [
    {
     "name": "stdout",
     "output_type": "stream",
     "text": [
      "t-statistic = 21.213 pvalue = 0.0000\n"
     ]
    }
   ],
   "source": [
    "tt = (20 - 5) / (5 / np.sqrt(50))\n",
    "pval = st.t.sf(np.abs(tt), 50-1)*2  # two-sided pvalue = Prob(abs(t)>tt)\n",
    "print 't-statistic = %6.3f pvalue = %6.4f' % (tt, pval)\n"
   ]
  }
 ],
 "metadata": {
  "celltoolbar": "Slideshow",
  "kernelspec": {
   "display_name": "Python [Root]",
   "language": "python",
   "name": "Python [Root]"
  },
  "language_info": {
   "codemirror_mode": {
    "name": "ipython",
    "version": 2
   },
   "file_extension": ".py",
   "mimetype": "text/x-python",
   "name": "python",
   "nbconvert_exporter": "python",
   "pygments_lexer": "ipython2",
   "version": "2.7.12"
  }
 },
 "nbformat": 4,
 "nbformat_minor": 0
}
