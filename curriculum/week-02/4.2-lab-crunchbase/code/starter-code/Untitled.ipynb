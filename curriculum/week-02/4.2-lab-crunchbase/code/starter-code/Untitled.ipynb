{
 "cells": [
  {
   "cell_type": "markdown",
   "metadata": {},
   "source": [
    "---\n",
    "title: Crunchbase dataset\n",
    "type: lab\n",
    "duration: \"1:5\"\n",
    "---\n",
    "\n",
    "# ![](https://ga-dash.s3.amazonaws.com/production/assets/logo-9f88ae6c9c3871690e33280fcf557f33.png) Lab: Analyzing companies on Crunchbase\n",
    "\n",
    "## Introduction\n",
    "\n",
    "This lab draws on everything you've covered in Pandas and stats so far this week:\n",
    "- cleaning data\n",
    "- changing data types\n",
    "- subsetting using booleans, slicing, and indexing\n",
    "- pivot tables and value counts\n",
    "- hypothesis testing and evaluation\n",
    "\n",
    "We're going to use the following Crunchbase [dataset](https://raw.githubusercontent.com/suneel0101/lesson-plan/master/crunchbase_monthly_export.csv), which has information on 44,000 startups and how much funding they've received.\n",
    "\n",
    "## Minimum Requirements:\n",
    "- change the data types of each numeric column to int\n",
    "- find all the missing values in one column\n",
    "- replace all the missing values in a column with the median of that column\n",
    "- create a subset of US-based companies the data using booleans\n",
    "\n",
    "## Expected Requirements:\n",
    "- work through all the cells in the workbook not marked challenge\n",
    "- clean the data using .apply() and lambda functions whenever possible\n",
    "- create a hypothesis about the data and test it with a t-test\n",
    "\n",
    "## Challenge Requirements:\n",
    "- complete everything from the expected requirements\n",
    "- complete every cell marked challenge: run additional statistical tests, plot your results, continue to segment your analysis by new variables\n"
   ]
  },
  {
   "cell_type": "code",
   "execution_count": null,
   "metadata": {
    "collapsed": true
   },
   "outputs": [],
   "source": []
  }
 ],
 "metadata": {
  "anaconda-cloud": {},
  "kernelspec": {
   "display_name": "Python [Root]",
   "language": "python",
   "name": "Python [Root]"
  },
  "language_info": {
   "codemirror_mode": {
    "name": "ipython",
    "version": 2
   },
   "file_extension": ".py",
   "mimetype": "text/x-python",
   "name": "python",
   "nbconvert_exporter": "python",
   "pygments_lexer": "ipython2",
   "version": "2.7.12"
  }
 },
 "nbformat": 4,
 "nbformat_minor": 0
}
