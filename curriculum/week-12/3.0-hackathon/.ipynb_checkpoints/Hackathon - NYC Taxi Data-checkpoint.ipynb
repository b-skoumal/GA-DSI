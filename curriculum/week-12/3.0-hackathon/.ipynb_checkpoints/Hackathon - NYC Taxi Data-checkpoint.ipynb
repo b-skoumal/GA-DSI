{
 "cells": [
  {
   "cell_type": "markdown",
   "metadata": {},
   "source": [
    "# Hackathon with WDI\n",
    "\n",
    "## Building a front-end app with machine learning to predict taxi information"
   ]
  },
  {
   "cell_type": "code",
   "execution_count": 1,
   "metadata": {
    "ExecuteTime": {
     "end_time": "2016-12-07T13:15:45.966732",
     "start_time": "2016-12-07T13:15:42.268709"
    },
    "collapsed": false
   },
   "outputs": [],
   "source": [
    "import pickle\n",
    "import pandas as pd\n",
    "import numpy as np\n",
    "import matplotlib as plt\n",
    "\n",
    "import seaborn as sns\n",
    "\n",
    "plt.style.use('fivethirtyeight')\n",
    "plt.rcParams['figure.figsize'] = (10,6)\n",
    "\n",
    "%matplotlib inline"
   ]
  },
  {
   "cell_type": "code",
   "execution_count": 2,
   "metadata": {
    "ExecuteTime": {
     "end_time": "2016-12-07T13:16:57.759721",
     "start_time": "2016-12-07T13:15:45.970621"
    },
    "collapsed": true
   },
   "outputs": [],
   "source": [
    "# Loading in cleaned df from capstone project\n",
    "\n",
    "with open('/Users/peidacai/Desktop/taxi_df_dropoff_in_nyc_only.pkl', 'r') as f:\n",
    "    df = pickle.load(f)"
   ]
  },
  {
   "cell_type": "code",
   "execution_count": 3,
   "metadata": {
    "ExecuteTime": {
     "end_time": "2016-12-07T13:16:57.885287",
     "start_time": "2016-12-07T13:16:57.766192"
    },
    "collapsed": false
   },
   "outputs": [
    {
     "data": {
      "text/html": [
       "<div>\n",
       "<table border=\"1\" class=\"dataframe\">\n",
       "  <thead>\n",
       "    <tr style=\"text-align: right;\">\n",
       "      <th></th>\n",
       "      <th>tpep_pickup_datetime</th>\n",
       "      <th>tpep_dropoff_datetime</th>\n",
       "      <th>passenger_count</th>\n",
       "      <th>trip_distance</th>\n",
       "      <th>pickup_longitude</th>\n",
       "      <th>pickup_latitude</th>\n",
       "      <th>RatecodeID</th>\n",
       "      <th>dropoff_longitude</th>\n",
       "      <th>dropoff_latitude</th>\n",
       "      <th>payment_type</th>\n",
       "      <th>...</th>\n",
       "      <th>improvement_surcharge</th>\n",
       "      <th>total_amount</th>\n",
       "      <th>trip_month</th>\n",
       "      <th>day_of_week</th>\n",
       "      <th>pickup_hour</th>\n",
       "      <th>dropoff_hour</th>\n",
       "      <th>trip_duration</th>\n",
       "      <th>Avg_spd</th>\n",
       "      <th>dropoff_point</th>\n",
       "      <th>zipcode</th>\n",
       "    </tr>\n",
       "  </thead>\n",
       "  <tbody>\n",
       "    <tr>\n",
       "      <th>0</th>\n",
       "      <td>2015-07-01 00:00:20</td>\n",
       "      <td>2015-07-01 00:07:57</td>\n",
       "      <td>1</td>\n",
       "      <td>2.10</td>\n",
       "      <td>-73.983780</td>\n",
       "      <td>40.755219</td>\n",
       "      <td>1</td>\n",
       "      <td>-73.987389</td>\n",
       "      <td>40.733372</td>\n",
       "      <td>1</td>\n",
       "      <td>...</td>\n",
       "      <td>0.3</td>\n",
       "      <td>11.76</td>\n",
       "      <td>7</td>\n",
       "      <td>2</td>\n",
       "      <td>0</td>\n",
       "      <td>0</td>\n",
       "      <td>7.0</td>\n",
       "      <td>18.000000</td>\n",
       "      <td>[-73.9873886108, 40.7333717346]</td>\n",
       "      <td>10003</td>\n",
       "    </tr>\n",
       "    <tr>\n",
       "      <th>1</th>\n",
       "      <td>2015-07-01 00:00:42</td>\n",
       "      <td>2015-07-01 00:08:27</td>\n",
       "      <td>2</td>\n",
       "      <td>1.18</td>\n",
       "      <td>-74.003471</td>\n",
       "      <td>40.725307</td>\n",
       "      <td>1</td>\n",
       "      <td>-74.004333</td>\n",
       "      <td>40.737984</td>\n",
       "      <td>1</td>\n",
       "      <td>...</td>\n",
       "      <td>0.3</td>\n",
       "      <td>10.38</td>\n",
       "      <td>7</td>\n",
       "      <td>2</td>\n",
       "      <td>0</td>\n",
       "      <td>0</td>\n",
       "      <td>7.0</td>\n",
       "      <td>10.114286</td>\n",
       "      <td>[-74.0043334961, 40.7379837036]</td>\n",
       "      <td>10014</td>\n",
       "    </tr>\n",
       "    <tr>\n",
       "      <th>2</th>\n",
       "      <td>2015-07-01 00:01:06</td>\n",
       "      <td>2015-07-01 00:12:06</td>\n",
       "      <td>1</td>\n",
       "      <td>3.10</td>\n",
       "      <td>-74.003044</td>\n",
       "      <td>40.717903</td>\n",
       "      <td>1</td>\n",
       "      <td>-73.958641</td>\n",
       "      <td>40.712761</td>\n",
       "      <td>1</td>\n",
       "      <td>...</td>\n",
       "      <td>0.3</td>\n",
       "      <td>15.70</td>\n",
       "      <td>7</td>\n",
       "      <td>2</td>\n",
       "      <td>0</td>\n",
       "      <td>0</td>\n",
       "      <td>11.0</td>\n",
       "      <td>16.909091</td>\n",
       "      <td>[-73.9586410522, 40.7127609253]</td>\n",
       "      <td>11211</td>\n",
       "    </tr>\n",
       "    <tr>\n",
       "      <th>3</th>\n",
       "      <td>2015-07-01 00:01:29</td>\n",
       "      <td>2015-07-01 00:07:52</td>\n",
       "      <td>2</td>\n",
       "      <td>2.10</td>\n",
       "      <td>-73.982910</td>\n",
       "      <td>40.726765</td>\n",
       "      <td>1</td>\n",
       "      <td>-73.967339</td>\n",
       "      <td>40.752625</td>\n",
       "      <td>1</td>\n",
       "      <td>...</td>\n",
       "      <td>0.3</td>\n",
       "      <td>11.15</td>\n",
       "      <td>7</td>\n",
       "      <td>2</td>\n",
       "      <td>0</td>\n",
       "      <td>0</td>\n",
       "      <td>6.0</td>\n",
       "      <td>21.000000</td>\n",
       "      <td>[-73.967338562, 40.7526245117]</td>\n",
       "      <td>10017</td>\n",
       "    </tr>\n",
       "    <tr>\n",
       "      <th>4</th>\n",
       "      <td>2015-07-01 00:01:53</td>\n",
       "      <td>2015-07-01 00:08:35</td>\n",
       "      <td>1</td>\n",
       "      <td>1.24</td>\n",
       "      <td>-74.002365</td>\n",
       "      <td>40.739746</td>\n",
       "      <td>1</td>\n",
       "      <td>-74.010254</td>\n",
       "      <td>40.729797</td>\n",
       "      <td>2</td>\n",
       "      <td>...</td>\n",
       "      <td>0.3</td>\n",
       "      <td>8.30</td>\n",
       "      <td>7</td>\n",
       "      <td>2</td>\n",
       "      <td>0</td>\n",
       "      <td>0</td>\n",
       "      <td>6.0</td>\n",
       "      <td>12.400000</td>\n",
       "      <td>[-74.0102539062, 40.7297973633]</td>\n",
       "      <td>10014</td>\n",
       "    </tr>\n",
       "  </tbody>\n",
       "</table>\n",
       "<p>5 rows × 25 columns</p>\n",
       "</div>"
      ],
      "text/plain": [
       "  tpep_pickup_datetime tpep_dropoff_datetime  passenger_count  trip_distance  \\\n",
       "0  2015-07-01 00:00:20   2015-07-01 00:07:57                1           2.10   \n",
       "1  2015-07-01 00:00:42   2015-07-01 00:08:27                2           1.18   \n",
       "2  2015-07-01 00:01:06   2015-07-01 00:12:06                1           3.10   \n",
       "3  2015-07-01 00:01:29   2015-07-01 00:07:52                2           2.10   \n",
       "4  2015-07-01 00:01:53   2015-07-01 00:08:35                1           1.24   \n",
       "\n",
       "   pickup_longitude  pickup_latitude  RatecodeID  dropoff_longitude  \\\n",
       "0        -73.983780        40.755219           1         -73.987389   \n",
       "1        -74.003471        40.725307           1         -74.004333   \n",
       "2        -74.003044        40.717903           1         -73.958641   \n",
       "3        -73.982910        40.726765           1         -73.967339   \n",
       "4        -74.002365        40.739746           1         -74.010254   \n",
       "\n",
       "   dropoff_latitude  payment_type   ...     improvement_surcharge  \\\n",
       "0         40.733372             1   ...                       0.3   \n",
       "1         40.737984             1   ...                       0.3   \n",
       "2         40.712761             1   ...                       0.3   \n",
       "3         40.752625             1   ...                       0.3   \n",
       "4         40.729797             2   ...                       0.3   \n",
       "\n",
       "   total_amount  trip_month  day_of_week  pickup_hour  dropoff_hour  \\\n",
       "0         11.76           7            2            0             0   \n",
       "1         10.38           7            2            0             0   \n",
       "2         15.70           7            2            0             0   \n",
       "3         11.15           7            2            0             0   \n",
       "4          8.30           7            2            0             0   \n",
       "\n",
       "   trip_duration    Avg_spd                    dropoff_point  zipcode  \n",
       "0            7.0  18.000000  [-73.9873886108, 40.7333717346]    10003  \n",
       "1            7.0  10.114286  [-74.0043334961, 40.7379837036]    10014  \n",
       "2           11.0  16.909091  [-73.9586410522, 40.7127609253]    11211  \n",
       "3            6.0  21.000000   [-73.967338562, 40.7526245117]    10017  \n",
       "4            6.0  12.400000  [-74.0102539062, 40.7297973633]    10014  \n",
       "\n",
       "[5 rows x 25 columns]"
      ]
     },
     "execution_count": 3,
     "metadata": {},
     "output_type": "execute_result"
    }
   ],
   "source": [
    "df.head()"
   ]
  },
  {
   "cell_type": "code",
   "execution_count": 4,
   "metadata": {
    "ExecuteTime": {
     "end_time": "2016-12-07T13:16:57.900767",
     "start_time": "2016-12-07T13:16:57.889655"
    },
    "collapsed": false
   },
   "outputs": [
    {
     "data": {
      "text/plain": [
       "Index([u'tpep_pickup_datetime', u'tpep_dropoff_datetime', u'passenger_count',\n",
       "       u'trip_distance', u'pickup_longitude', u'pickup_latitude',\n",
       "       u'RatecodeID', u'dropoff_longitude', u'dropoff_latitude',\n",
       "       u'payment_type', u'fare_amount', u'extra', u'mta_tax', u'tip_amount',\n",
       "       u'tolls_amount', u'improvement_surcharge', u'total_amount',\n",
       "       u'trip_month', u'day_of_week', u'pickup_hour', u'dropoff_hour',\n",
       "       u'trip_duration', u'Avg_spd', u'dropoff_point', u'zipcode'],\n",
       "      dtype='object')"
      ]
     },
     "execution_count": 4,
     "metadata": {},
     "output_type": "execute_result"
    }
   ],
   "source": [
    "df.columns"
   ]
  },
  {
   "cell_type": "markdown",
   "metadata": {},
   "source": [
    "## Taxi drop off hour"
   ]
  },
  {
   "cell_type": "code",
   "execution_count": 5,
   "metadata": {
    "ExecuteTime": {
     "end_time": "2016-12-07T13:16:58.170166",
     "start_time": "2016-12-07T13:16:57.904629"
    },
    "collapsed": false
   },
   "outputs": [],
   "source": [
    "taxi_dropoff_hr = pd.pivot_table(df, values = ['total_amount', 'tip_amount', 'trip_distance', 'Avg_spd'], index = ['dropoff_hour'])"
   ]
  },
  {
   "cell_type": "code",
   "execution_count": 6,
   "metadata": {
    "ExecuteTime": {
     "end_time": "2016-12-07T13:16:58.183653",
     "start_time": "2016-12-07T13:16:58.173418"
    },
    "collapsed": false
   },
   "outputs": [],
   "source": [
    "taxi_dropoff_hr = taxi_dropoff_hr.applymap(lambda x: round(x, 2))"
   ]
  },
  {
   "cell_type": "code",
   "execution_count": 7,
   "metadata": {
    "ExecuteTime": {
     "end_time": "2016-12-07T13:16:58.410031",
     "start_time": "2016-12-07T13:16:58.187747"
    },
    "collapsed": false
   },
   "outputs": [
    {
     "data": {
      "text/html": [
       "<div>\n",
       "<table border=\"1\" class=\"dataframe\">\n",
       "  <thead>\n",
       "    <tr style=\"text-align: right;\">\n",
       "      <th></th>\n",
       "      <th>Avg_spd</th>\n",
       "      <th>tip_amount</th>\n",
       "      <th>total_amount</th>\n",
       "      <th>trip_distance</th>\n",
       "      <th>total_amount</th>\n",
       "    </tr>\n",
       "    <tr>\n",
       "      <th>dropoff_hour</th>\n",
       "      <th></th>\n",
       "      <th></th>\n",
       "      <th></th>\n",
       "      <th></th>\n",
       "      <th></th>\n",
       "    </tr>\n",
       "  </thead>\n",
       "  <tbody>\n",
       "    <tr>\n",
       "      <th>0</th>\n",
       "      <td>15.46</td>\n",
       "      <td>1.94</td>\n",
       "      <td>17.43</td>\n",
       "      <td>3.60</td>\n",
       "      <td>53383.0</td>\n",
       "    </tr>\n",
       "    <tr>\n",
       "      <th>1</th>\n",
       "      <td>16.24</td>\n",
       "      <td>1.83</td>\n",
       "      <td>16.85</td>\n",
       "      <td>3.55</td>\n",
       "      <td>39306.0</td>\n",
       "    </tr>\n",
       "    <tr>\n",
       "      <th>2</th>\n",
       "      <td>16.78</td>\n",
       "      <td>1.69</td>\n",
       "      <td>16.07</td>\n",
       "      <td>3.43</td>\n",
       "      <td>28362.0</td>\n",
       "    </tr>\n",
       "    <tr>\n",
       "      <th>3</th>\n",
       "      <td>17.54</td>\n",
       "      <td>1.61</td>\n",
       "      <td>16.20</td>\n",
       "      <td>3.55</td>\n",
       "      <td>20352.0</td>\n",
       "    </tr>\n",
       "    <tr>\n",
       "      <th>4</th>\n",
       "      <td>19.46</td>\n",
       "      <td>1.69</td>\n",
       "      <td>17.99</td>\n",
       "      <td>4.14</td>\n",
       "      <td>15607.0</td>\n",
       "    </tr>\n",
       "  </tbody>\n",
       "</table>\n",
       "</div>"
      ],
      "text/plain": [
       "              Avg_spd  tip_amount  total_amount  trip_distance  total_amount\n",
       "dropoff_hour                                                                \n",
       "0               15.46        1.94         17.43           3.60       53383.0\n",
       "1               16.24        1.83         16.85           3.55       39306.0\n",
       "2               16.78        1.69         16.07           3.43       28362.0\n",
       "3               17.54        1.61         16.20           3.55       20352.0\n",
       "4               19.46        1.69         17.99           4.14       15607.0"
      ]
     },
     "execution_count": 7,
     "metadata": {},
     "output_type": "execute_result"
    }
   ],
   "source": [
    "taxi_dropoff_hr = pd.concat([taxi_dropoff_hr, pd.pivot_table(df, values = 'total_amount', index = ['dropoff_hour'], aggfunc=len)], axis = 1)\n",
    "taxi_dropoff_hr.head()"
   ]
  },
  {
   "cell_type": "code",
   "execution_count": 8,
   "metadata": {
    "ExecuteTime": {
     "end_time": "2016-12-07T13:16:58.426710",
     "start_time": "2016-12-07T13:16:58.413473"
    },
    "collapsed": true
   },
   "outputs": [],
   "source": [
    "taxi_dropoff_hr.loc[:, 'total_amount'] = taxi_dropoff_hr['total_amount'].astype(int)"
   ]
  },
  {
   "cell_type": "code",
   "execution_count": 9,
   "metadata": {
    "ExecuteTime": {
     "end_time": "2016-12-07T13:16:58.437409",
     "start_time": "2016-12-07T13:16:58.431012"
    },
    "collapsed": true
   },
   "outputs": [],
   "source": [
    "taxi_dropoff_hr.columns = ['Avg_spd', 'tip_amount', 'total_amount', 'trip_distance', 'trip_count']"
   ]
  },
  {
   "cell_type": "code",
   "execution_count": 10,
   "metadata": {
    "ExecuteTime": {
     "end_time": "2016-12-07T13:16:58.448857",
     "start_time": "2016-12-07T13:16:58.441357"
    },
    "collapsed": true
   },
   "outputs": [],
   "source": [
    "taxi_dropoff_hr.to_json('/Users/peidacai/Desktop/taxi_dropoff_hr.json', orient = 'index')"
   ]
  },
  {
   "cell_type": "markdown",
   "metadata": {},
   "source": [
    "## Taxi pickup hour"
   ]
  },
  {
   "cell_type": "code",
   "execution_count": 11,
   "metadata": {
    "ExecuteTime": {
     "end_time": "2016-12-07T13:16:58.587586",
     "start_time": "2016-12-07T13:16:58.455305"
    },
    "collapsed": true
   },
   "outputs": [],
   "source": [
    "taxi_pickup_hr = pd.pivot_table(df, values = ['total_amount', 'tip_amount', 'trip_distance', 'Avg_spd'], index = ['pickup_hour'])"
   ]
  },
  {
   "cell_type": "code",
   "execution_count": 12,
   "metadata": {
    "ExecuteTime": {
     "end_time": "2016-12-07T13:16:58.628654",
     "start_time": "2016-12-07T13:16:58.590095"
    },
    "collapsed": false
   },
   "outputs": [
    {
     "data": {
      "text/html": [
       "<div>\n",
       "<table border=\"1\" class=\"dataframe\">\n",
       "  <thead>\n",
       "    <tr style=\"text-align: right;\">\n",
       "      <th></th>\n",
       "      <th>Avg_spd</th>\n",
       "      <th>tip_amount</th>\n",
       "      <th>total_amount</th>\n",
       "      <th>trip_distance</th>\n",
       "    </tr>\n",
       "    <tr>\n",
       "      <th>pickup_hour</th>\n",
       "      <th></th>\n",
       "      <th></th>\n",
       "      <th></th>\n",
       "      <th></th>\n",
       "    </tr>\n",
       "  </thead>\n",
       "  <tbody>\n",
       "    <tr>\n",
       "      <th>0</th>\n",
       "      <td>15.59</td>\n",
       "      <td>1.84</td>\n",
       "      <td>16.69</td>\n",
       "      <td>3.44</td>\n",
       "    </tr>\n",
       "    <tr>\n",
       "      <th>1</th>\n",
       "      <td>16.29</td>\n",
       "      <td>1.71</td>\n",
       "      <td>15.92</td>\n",
       "      <td>3.33</td>\n",
       "    </tr>\n",
       "    <tr>\n",
       "      <th>2</th>\n",
       "      <td>16.87</td>\n",
       "      <td>1.62</td>\n",
       "      <td>15.63</td>\n",
       "      <td>3.32</td>\n",
       "    </tr>\n",
       "    <tr>\n",
       "      <th>3</th>\n",
       "      <td>17.74</td>\n",
       "      <td>1.57</td>\n",
       "      <td>16.01</td>\n",
       "      <td>3.50</td>\n",
       "    </tr>\n",
       "    <tr>\n",
       "      <th>4</th>\n",
       "      <td>20.25</td>\n",
       "      <td>1.78</td>\n",
       "      <td>18.92</td>\n",
       "      <td>4.39</td>\n",
       "    </tr>\n",
       "  </tbody>\n",
       "</table>\n",
       "</div>"
      ],
      "text/plain": [
       "             Avg_spd  tip_amount  total_amount  trip_distance\n",
       "pickup_hour                                                  \n",
       "0              15.59        1.84         16.69           3.44\n",
       "1              16.29        1.71         15.92           3.33\n",
       "2              16.87        1.62         15.63           3.32\n",
       "3              17.74        1.57         16.01           3.50\n",
       "4              20.25        1.78         18.92           4.39"
      ]
     },
     "execution_count": 12,
     "metadata": {},
     "output_type": "execute_result"
    }
   ],
   "source": [
    "taxi_pickup_hr = taxi_pickup_hr[['Avg_spd', 'tip_amount', 'total_amount', 'trip_distance']].applymap(lambda x: round(x, 2))\n",
    "taxi_pickup_hr.head()"
   ]
  },
  {
   "cell_type": "code",
   "execution_count": 13,
   "metadata": {
    "ExecuteTime": {
     "end_time": "2016-12-07T13:16:58.761247",
     "start_time": "2016-12-07T13:16:58.632644"
    },
    "collapsed": false
   },
   "outputs": [
    {
     "data": {
      "text/html": [
       "<div>\n",
       "<table border=\"1\" class=\"dataframe\">\n",
       "  <thead>\n",
       "    <tr style=\"text-align: right;\">\n",
       "      <th></th>\n",
       "      <th>Avg_spd</th>\n",
       "      <th>tip_amount</th>\n",
       "      <th>total_amount</th>\n",
       "      <th>trip_distance</th>\n",
       "      <th>trip_count</th>\n",
       "    </tr>\n",
       "    <tr>\n",
       "      <th>pickup_hour</th>\n",
       "      <th></th>\n",
       "      <th></th>\n",
       "      <th></th>\n",
       "      <th></th>\n",
       "      <th></th>\n",
       "    </tr>\n",
       "  </thead>\n",
       "  <tbody>\n",
       "    <tr>\n",
       "      <th>0</th>\n",
       "      <td>15.59</td>\n",
       "      <td>1.84</td>\n",
       "      <td>16.69</td>\n",
       "      <td>3.44</td>\n",
       "      <td>49415.0</td>\n",
       "    </tr>\n",
       "    <tr>\n",
       "      <th>1</th>\n",
       "      <td>16.29</td>\n",
       "      <td>1.71</td>\n",
       "      <td>15.92</td>\n",
       "      <td>3.33</td>\n",
       "      <td>36264.0</td>\n",
       "    </tr>\n",
       "    <tr>\n",
       "      <th>2</th>\n",
       "      <td>16.87</td>\n",
       "      <td>1.62</td>\n",
       "      <td>15.63</td>\n",
       "      <td>3.32</td>\n",
       "      <td>26524.0</td>\n",
       "    </tr>\n",
       "    <tr>\n",
       "      <th>3</th>\n",
       "      <td>17.74</td>\n",
       "      <td>1.57</td>\n",
       "      <td>16.01</td>\n",
       "      <td>3.50</td>\n",
       "      <td>19222.0</td>\n",
       "    </tr>\n",
       "    <tr>\n",
       "      <th>4</th>\n",
       "      <td>20.25</td>\n",
       "      <td>1.78</td>\n",
       "      <td>18.92</td>\n",
       "      <td>4.39</td>\n",
       "      <td>14558.0</td>\n",
       "    </tr>\n",
       "  </tbody>\n",
       "</table>\n",
       "</div>"
      ],
      "text/plain": [
       "             Avg_spd  tip_amount  total_amount  trip_distance  trip_count\n",
       "pickup_hour                                                              \n",
       "0              15.59        1.84         16.69           3.44     49415.0\n",
       "1              16.29        1.71         15.92           3.33     36264.0\n",
       "2              16.87        1.62         15.63           3.32     26524.0\n",
       "3              17.74        1.57         16.01           3.50     19222.0\n",
       "4              20.25        1.78         18.92           4.39     14558.0"
      ]
     },
     "execution_count": 13,
     "metadata": {},
     "output_type": "execute_result"
    }
   ],
   "source": [
    "taxi_pickup_hr = pd.concat([taxi_pickup_hr, pd.pivot_table(df, values = 'total_amount', index = ['pickup_hour'], aggfunc=len)], axis = 1)\n",
    "taxi_pickup_hr.columns = ['Avg_spd', 'tip_amount', 'total_amount', 'trip_distance', 'trip_count']\n",
    "taxi_pickup_hr.head()"
   ]
  },
  {
   "cell_type": "code",
   "execution_count": 14,
   "metadata": {
    "ExecuteTime": {
     "end_time": "2016-12-07T13:16:58.771116",
     "start_time": "2016-12-07T13:16:58.764050"
    },
    "collapsed": false
   },
   "outputs": [],
   "source": [
    "taxi_pickup_hr.loc[:, 'trip_count'] = taxi_pickup_hr['trip_count'].astype(int)"
   ]
  },
  {
   "cell_type": "code",
   "execution_count": 15,
   "metadata": {
    "ExecuteTime": {
     "end_time": "2016-12-07T13:16:58.779381",
     "start_time": "2016-12-07T13:16:58.774749"
    },
    "collapsed": true
   },
   "outputs": [],
   "source": [
    "import json"
   ]
  },
  {
   "cell_type": "code",
   "execution_count": 16,
   "metadata": {
    "ExecuteTime": {
     "end_time": "2016-12-07T13:16:58.790908",
     "start_time": "2016-12-07T13:16:58.784103"
    },
    "collapsed": true
   },
   "outputs": [],
   "source": [
    "taxi_pickup_hr.to_json('/Users/peidacai/Desktop/taxi_pickup_hr.json', orient = 'index')"
   ]
  },
  {
   "cell_type": "markdown",
   "metadata": {},
   "source": [
    "## Taxi drop off by day"
   ]
  },
  {
   "cell_type": "code",
   "execution_count": 17,
   "metadata": {
    "ExecuteTime": {
     "end_time": "2016-12-07T13:16:59.026171",
     "start_time": "2016-12-07T13:16:58.795809"
    },
    "collapsed": true
   },
   "outputs": [],
   "source": [
    "taxi_dropoff_day = pd.pivot_table(df, values = ['total_amount', 'tip_amount', 'trip_distance', 'Avg_spd'], index = ['day_of_week'])\n",
    "taxi_dropoff_day = taxi_dropoff_day.applymap(lambda x: round(x, 2))\n",
    "taxi_dropoff_day = pd.concat([taxi_dropoff_day, pd.pivot_table(df, values = 'total_amount', index = ['day_of_week'], aggfunc=len)], axis = 1)\n",
    "taxi_dropoff_day.columns = ['Avg_spd', 'tip_amount', 'total_amount', 'trip_distance', 'trip_count']\n",
    "taxi_dropoff_day.to_json('/Users/peidacai/Desktop/taxi_dropoff_day.json', orient = 'index')"
   ]
  },
  {
   "cell_type": "markdown",
   "metadata": {},
   "source": [
    "# Predictive modeling"
   ]
  },
  {
   "cell_type": "code",
   "execution_count": 18,
   "metadata": {
    "ExecuteTime": {
     "end_time": "2016-12-07T13:16:59.280584",
     "start_time": "2016-12-07T13:16:59.029360"
    },
    "collapsed": true
   },
   "outputs": [],
   "source": [
    "from sklearn.preprocessing import Normalizer, MinMaxScaler, StandardScaler, RobustScaler\n",
    "from sklearn.feature_selection import SelectPercentile\n",
    "from sklearn.pipeline import make_pipeline"
   ]
  },
  {
   "cell_type": "code",
   "execution_count": 19,
   "metadata": {
    "ExecuteTime": {
     "end_time": "2016-12-07T13:16:59.384212",
     "start_time": "2016-12-07T13:16:59.283502"
    },
    "collapsed": false
   },
   "outputs": [
    {
     "data": {
      "text/html": [
       "<div>\n",
       "<table border=\"1\" class=\"dataframe\">\n",
       "  <thead>\n",
       "    <tr style=\"text-align: right;\">\n",
       "      <th></th>\n",
       "      <th>tpep_pickup_datetime</th>\n",
       "      <th>tpep_dropoff_datetime</th>\n",
       "      <th>passenger_count</th>\n",
       "      <th>trip_distance</th>\n",
       "      <th>pickup_longitude</th>\n",
       "      <th>pickup_latitude</th>\n",
       "      <th>RatecodeID</th>\n",
       "      <th>dropoff_longitude</th>\n",
       "      <th>dropoff_latitude</th>\n",
       "      <th>payment_type</th>\n",
       "      <th>...</th>\n",
       "      <th>improvement_surcharge</th>\n",
       "      <th>total_amount</th>\n",
       "      <th>trip_month</th>\n",
       "      <th>day_of_week</th>\n",
       "      <th>pickup_hour</th>\n",
       "      <th>dropoff_hour</th>\n",
       "      <th>trip_duration</th>\n",
       "      <th>Avg_spd</th>\n",
       "      <th>dropoff_point</th>\n",
       "      <th>zipcode</th>\n",
       "    </tr>\n",
       "  </thead>\n",
       "  <tbody>\n",
       "    <tr>\n",
       "      <th>0</th>\n",
       "      <td>2015-07-01 00:00:20</td>\n",
       "      <td>2015-07-01 00:07:57</td>\n",
       "      <td>1</td>\n",
       "      <td>2.10</td>\n",
       "      <td>-73.983780</td>\n",
       "      <td>40.755219</td>\n",
       "      <td>1</td>\n",
       "      <td>-73.987389</td>\n",
       "      <td>40.733372</td>\n",
       "      <td>1</td>\n",
       "      <td>...</td>\n",
       "      <td>0.3</td>\n",
       "      <td>11.76</td>\n",
       "      <td>7</td>\n",
       "      <td>2</td>\n",
       "      <td>0</td>\n",
       "      <td>0</td>\n",
       "      <td>7.0</td>\n",
       "      <td>18.000000</td>\n",
       "      <td>[-73.9873886108, 40.7333717346]</td>\n",
       "      <td>10003</td>\n",
       "    </tr>\n",
       "    <tr>\n",
       "      <th>1</th>\n",
       "      <td>2015-07-01 00:00:42</td>\n",
       "      <td>2015-07-01 00:08:27</td>\n",
       "      <td>2</td>\n",
       "      <td>1.18</td>\n",
       "      <td>-74.003471</td>\n",
       "      <td>40.725307</td>\n",
       "      <td>1</td>\n",
       "      <td>-74.004333</td>\n",
       "      <td>40.737984</td>\n",
       "      <td>1</td>\n",
       "      <td>...</td>\n",
       "      <td>0.3</td>\n",
       "      <td>10.38</td>\n",
       "      <td>7</td>\n",
       "      <td>2</td>\n",
       "      <td>0</td>\n",
       "      <td>0</td>\n",
       "      <td>7.0</td>\n",
       "      <td>10.114286</td>\n",
       "      <td>[-74.0043334961, 40.7379837036]</td>\n",
       "      <td>10014</td>\n",
       "    </tr>\n",
       "    <tr>\n",
       "      <th>2</th>\n",
       "      <td>2015-07-01 00:01:06</td>\n",
       "      <td>2015-07-01 00:12:06</td>\n",
       "      <td>1</td>\n",
       "      <td>3.10</td>\n",
       "      <td>-74.003044</td>\n",
       "      <td>40.717903</td>\n",
       "      <td>1</td>\n",
       "      <td>-73.958641</td>\n",
       "      <td>40.712761</td>\n",
       "      <td>1</td>\n",
       "      <td>...</td>\n",
       "      <td>0.3</td>\n",
       "      <td>15.70</td>\n",
       "      <td>7</td>\n",
       "      <td>2</td>\n",
       "      <td>0</td>\n",
       "      <td>0</td>\n",
       "      <td>11.0</td>\n",
       "      <td>16.909091</td>\n",
       "      <td>[-73.9586410522, 40.7127609253]</td>\n",
       "      <td>11211</td>\n",
       "    </tr>\n",
       "    <tr>\n",
       "      <th>3</th>\n",
       "      <td>2015-07-01 00:01:29</td>\n",
       "      <td>2015-07-01 00:07:52</td>\n",
       "      <td>2</td>\n",
       "      <td>2.10</td>\n",
       "      <td>-73.982910</td>\n",
       "      <td>40.726765</td>\n",
       "      <td>1</td>\n",
       "      <td>-73.967339</td>\n",
       "      <td>40.752625</td>\n",
       "      <td>1</td>\n",
       "      <td>...</td>\n",
       "      <td>0.3</td>\n",
       "      <td>11.15</td>\n",
       "      <td>7</td>\n",
       "      <td>2</td>\n",
       "      <td>0</td>\n",
       "      <td>0</td>\n",
       "      <td>6.0</td>\n",
       "      <td>21.000000</td>\n",
       "      <td>[-73.967338562, 40.7526245117]</td>\n",
       "      <td>10017</td>\n",
       "    </tr>\n",
       "    <tr>\n",
       "      <th>4</th>\n",
       "      <td>2015-07-01 00:01:53</td>\n",
       "      <td>2015-07-01 00:08:35</td>\n",
       "      <td>1</td>\n",
       "      <td>1.24</td>\n",
       "      <td>-74.002365</td>\n",
       "      <td>40.739746</td>\n",
       "      <td>1</td>\n",
       "      <td>-74.010254</td>\n",
       "      <td>40.729797</td>\n",
       "      <td>2</td>\n",
       "      <td>...</td>\n",
       "      <td>0.3</td>\n",
       "      <td>8.30</td>\n",
       "      <td>7</td>\n",
       "      <td>2</td>\n",
       "      <td>0</td>\n",
       "      <td>0</td>\n",
       "      <td>6.0</td>\n",
       "      <td>12.400000</td>\n",
       "      <td>[-74.0102539062, 40.7297973633]</td>\n",
       "      <td>10014</td>\n",
       "    </tr>\n",
       "  </tbody>\n",
       "</table>\n",
       "<p>5 rows × 25 columns</p>\n",
       "</div>"
      ],
      "text/plain": [
       "  tpep_pickup_datetime tpep_dropoff_datetime  passenger_count  trip_distance  \\\n",
       "0  2015-07-01 00:00:20   2015-07-01 00:07:57                1           2.10   \n",
       "1  2015-07-01 00:00:42   2015-07-01 00:08:27                2           1.18   \n",
       "2  2015-07-01 00:01:06   2015-07-01 00:12:06                1           3.10   \n",
       "3  2015-07-01 00:01:29   2015-07-01 00:07:52                2           2.10   \n",
       "4  2015-07-01 00:01:53   2015-07-01 00:08:35                1           1.24   \n",
       "\n",
       "   pickup_longitude  pickup_latitude  RatecodeID  dropoff_longitude  \\\n",
       "0        -73.983780        40.755219           1         -73.987389   \n",
       "1        -74.003471        40.725307           1         -74.004333   \n",
       "2        -74.003044        40.717903           1         -73.958641   \n",
       "3        -73.982910        40.726765           1         -73.967339   \n",
       "4        -74.002365        40.739746           1         -74.010254   \n",
       "\n",
       "   dropoff_latitude  payment_type   ...     improvement_surcharge  \\\n",
       "0         40.733372             1   ...                       0.3   \n",
       "1         40.737984             1   ...                       0.3   \n",
       "2         40.712761             1   ...                       0.3   \n",
       "3         40.752625             1   ...                       0.3   \n",
       "4         40.729797             2   ...                       0.3   \n",
       "\n",
       "   total_amount  trip_month  day_of_week  pickup_hour  dropoff_hour  \\\n",
       "0         11.76           7            2            0             0   \n",
       "1         10.38           7            2            0             0   \n",
       "2         15.70           7            2            0             0   \n",
       "3         11.15           7            2            0             0   \n",
       "4          8.30           7            2            0             0   \n",
       "\n",
       "   trip_duration    Avg_spd                    dropoff_point  zipcode  \n",
       "0            7.0  18.000000  [-73.9873886108, 40.7333717346]    10003  \n",
       "1            7.0  10.114286  [-74.0043334961, 40.7379837036]    10014  \n",
       "2           11.0  16.909091  [-73.9586410522, 40.7127609253]    11211  \n",
       "3            6.0  21.000000   [-73.967338562, 40.7526245117]    10017  \n",
       "4            6.0  12.400000  [-74.0102539062, 40.7297973633]    10014  \n",
       "\n",
       "[5 rows x 25 columns]"
      ]
     },
     "execution_count": 19,
     "metadata": {},
     "output_type": "execute_result"
    }
   ],
   "source": [
    "df.head()"
   ]
  },
  {
   "cell_type": "code",
   "execution_count": 93,
   "metadata": {
    "ExecuteTime": {
     "end_time": "2016-12-07T14:16:04.920659",
     "start_time": "2016-12-07T14:16:03.151599"
    },
    "collapsed": true
   },
   "outputs": [],
   "source": [
    "df1 = df[df['tip_amount'] >= 0.1]\n",
    "df1 = df[df['tip_amount'] <=  20]"
   ]
  },
  {
   "cell_type": "code",
   "execution_count": 95,
   "metadata": {
    "ExecuteTime": {
     "end_time": "2016-12-07T14:17:08.741709",
     "start_time": "2016-12-07T14:17:07.216039"
    },
    "collapsed": true
   },
   "outputs": [],
   "source": [
    "df1 = df1[df1['total_amount'] > 0]"
   ]
  },
  {
   "cell_type": "markdown",
   "metadata": {},
   "source": [
    "### Defining X and y"
   ]
  },
  {
   "cell_type": "code",
   "execution_count": 99,
   "metadata": {
    "ExecuteTime": {
     "end_time": "2016-12-07T14:17:55.703659",
     "start_time": "2016-12-07T14:17:55.398762"
    },
    "collapsed": true
   },
   "outputs": [],
   "source": [
    "zip_dum = pd.get_dummies(df1['zipcode'], prefix='Zip')"
   ]
  },
  {
   "cell_type": "code",
   "execution_count": 100,
   "metadata": {
    "ExecuteTime": {
     "end_time": "2016-12-07T14:17:56.023852",
     "start_time": "2016-12-07T14:17:55.951205"
    },
    "collapsed": false
   },
   "outputs": [
    {
     "data": {
      "text/html": [
       "<div>\n",
       "<table border=\"1\" class=\"dataframe\">\n",
       "  <thead>\n",
       "    <tr style=\"text-align: right;\">\n",
       "      <th></th>\n",
       "      <th>Zip_10001</th>\n",
       "      <th>Zip_10002</th>\n",
       "      <th>Zip_10003</th>\n",
       "      <th>Zip_10004</th>\n",
       "      <th>Zip_10005</th>\n",
       "      <th>Zip_10006</th>\n",
       "      <th>Zip_10007</th>\n",
       "      <th>Zip_10009</th>\n",
       "      <th>Zip_10010</th>\n",
       "      <th>Zip_10011</th>\n",
       "      <th>...</th>\n",
       "      <th>Zip_11429</th>\n",
       "      <th>Zip_11430</th>\n",
       "      <th>Zip_11432</th>\n",
       "      <th>Zip_11433</th>\n",
       "      <th>Zip_11434</th>\n",
       "      <th>Zip_11435</th>\n",
       "      <th>Zip_11436</th>\n",
       "      <th>Zip_11691</th>\n",
       "      <th>Zip_11694</th>\n",
       "      <th>Zip_11697</th>\n",
       "    </tr>\n",
       "  </thead>\n",
       "  <tbody>\n",
       "    <tr>\n",
       "      <th>0</th>\n",
       "      <td>0</td>\n",
       "      <td>0</td>\n",
       "      <td>1</td>\n",
       "      <td>0</td>\n",
       "      <td>0</td>\n",
       "      <td>0</td>\n",
       "      <td>0</td>\n",
       "      <td>0</td>\n",
       "      <td>0</td>\n",
       "      <td>0</td>\n",
       "      <td>...</td>\n",
       "      <td>0</td>\n",
       "      <td>0</td>\n",
       "      <td>0</td>\n",
       "      <td>0</td>\n",
       "      <td>0</td>\n",
       "      <td>0</td>\n",
       "      <td>0</td>\n",
       "      <td>0</td>\n",
       "      <td>0</td>\n",
       "      <td>0</td>\n",
       "    </tr>\n",
       "    <tr>\n",
       "      <th>1</th>\n",
       "      <td>0</td>\n",
       "      <td>0</td>\n",
       "      <td>0</td>\n",
       "      <td>0</td>\n",
       "      <td>0</td>\n",
       "      <td>0</td>\n",
       "      <td>0</td>\n",
       "      <td>0</td>\n",
       "      <td>0</td>\n",
       "      <td>0</td>\n",
       "      <td>...</td>\n",
       "      <td>0</td>\n",
       "      <td>0</td>\n",
       "      <td>0</td>\n",
       "      <td>0</td>\n",
       "      <td>0</td>\n",
       "      <td>0</td>\n",
       "      <td>0</td>\n",
       "      <td>0</td>\n",
       "      <td>0</td>\n",
       "      <td>0</td>\n",
       "    </tr>\n",
       "    <tr>\n",
       "      <th>2</th>\n",
       "      <td>0</td>\n",
       "      <td>0</td>\n",
       "      <td>0</td>\n",
       "      <td>0</td>\n",
       "      <td>0</td>\n",
       "      <td>0</td>\n",
       "      <td>0</td>\n",
       "      <td>0</td>\n",
       "      <td>0</td>\n",
       "      <td>0</td>\n",
       "      <td>...</td>\n",
       "      <td>0</td>\n",
       "      <td>0</td>\n",
       "      <td>0</td>\n",
       "      <td>0</td>\n",
       "      <td>0</td>\n",
       "      <td>0</td>\n",
       "      <td>0</td>\n",
       "      <td>0</td>\n",
       "      <td>0</td>\n",
       "      <td>0</td>\n",
       "    </tr>\n",
       "    <tr>\n",
       "      <th>3</th>\n",
       "      <td>0</td>\n",
       "      <td>0</td>\n",
       "      <td>0</td>\n",
       "      <td>0</td>\n",
       "      <td>0</td>\n",
       "      <td>0</td>\n",
       "      <td>0</td>\n",
       "      <td>0</td>\n",
       "      <td>0</td>\n",
       "      <td>0</td>\n",
       "      <td>...</td>\n",
       "      <td>0</td>\n",
       "      <td>0</td>\n",
       "      <td>0</td>\n",
       "      <td>0</td>\n",
       "      <td>0</td>\n",
       "      <td>0</td>\n",
       "      <td>0</td>\n",
       "      <td>0</td>\n",
       "      <td>0</td>\n",
       "      <td>0</td>\n",
       "    </tr>\n",
       "    <tr>\n",
       "      <th>4</th>\n",
       "      <td>0</td>\n",
       "      <td>0</td>\n",
       "      <td>0</td>\n",
       "      <td>0</td>\n",
       "      <td>0</td>\n",
       "      <td>0</td>\n",
       "      <td>0</td>\n",
       "      <td>0</td>\n",
       "      <td>0</td>\n",
       "      <td>0</td>\n",
       "      <td>...</td>\n",
       "      <td>0</td>\n",
       "      <td>0</td>\n",
       "      <td>0</td>\n",
       "      <td>0</td>\n",
       "      <td>0</td>\n",
       "      <td>0</td>\n",
       "      <td>0</td>\n",
       "      <td>0</td>\n",
       "      <td>0</td>\n",
       "      <td>0</td>\n",
       "    </tr>\n",
       "  </tbody>\n",
       "</table>\n",
       "<p>5 rows × 179 columns</p>\n",
       "</div>"
      ],
      "text/plain": [
       "   Zip_10001  Zip_10002  Zip_10003  Zip_10004  Zip_10005  Zip_10006  \\\n",
       "0          0          0          1          0          0          0   \n",
       "1          0          0          0          0          0          0   \n",
       "2          0          0          0          0          0          0   \n",
       "3          0          0          0          0          0          0   \n",
       "4          0          0          0          0          0          0   \n",
       "\n",
       "   Zip_10007  Zip_10009  Zip_10010  Zip_10011    ...      Zip_11429  \\\n",
       "0          0          0          0          0    ...              0   \n",
       "1          0          0          0          0    ...              0   \n",
       "2          0          0          0          0    ...              0   \n",
       "3          0          0          0          0    ...              0   \n",
       "4          0          0          0          0    ...              0   \n",
       "\n",
       "   Zip_11430  Zip_11432  Zip_11433  Zip_11434  Zip_11435  Zip_11436  \\\n",
       "0          0          0          0          0          0          0   \n",
       "1          0          0          0          0          0          0   \n",
       "2          0          0          0          0          0          0   \n",
       "3          0          0          0          0          0          0   \n",
       "4          0          0          0          0          0          0   \n",
       "\n",
       "   Zip_11691  Zip_11694  Zip_11697  \n",
       "0          0          0          0  \n",
       "1          0          0          0  \n",
       "2          0          0          0  \n",
       "3          0          0          0  \n",
       "4          0          0          0  \n",
       "\n",
       "[5 rows x 179 columns]"
      ]
     },
     "execution_count": 100,
     "metadata": {},
     "output_type": "execute_result"
    }
   ],
   "source": [
    "zip_dum.head()"
   ]
  },
  {
   "cell_type": "code",
   "execution_count": 101,
   "metadata": {
    "ExecuteTime": {
     "end_time": "2016-12-07T14:17:59.193959",
     "start_time": "2016-12-07T14:17:56.611215"
    },
    "collapsed": true
   },
   "outputs": [],
   "source": [
    "# Drop zipcode of 10001\n",
    "# Need to have a separate handler for zipcode with 10001\n",
    "\n",
    "del zip_dum['Zip_10001']"
   ]
  },
  {
   "cell_type": "code",
   "execution_count": 102,
   "metadata": {
    "ExecuteTime": {
     "end_time": "2016-12-07T14:17:59.323163",
     "start_time": "2016-12-07T14:17:59.196411"
    },
    "collapsed": true
   },
   "outputs": [],
   "source": [
    "# Hour 0 is dropped\n",
    "\n",
    "hour_dum = pd.get_dummies(df1['pickup_hour'], prefix='hour')"
   ]
  },
  {
   "cell_type": "code",
   "execution_count": 103,
   "metadata": {
    "ExecuteTime": {
     "end_time": "2016-12-07T14:17:59.394078",
     "start_time": "2016-12-07T14:17:59.325725"
    },
    "collapsed": false
   },
   "outputs": [
    {
     "data": {
      "text/html": [
       "<div>\n",
       "<table border=\"1\" class=\"dataframe\">\n",
       "  <thead>\n",
       "    <tr style=\"text-align: right;\">\n",
       "      <th></th>\n",
       "      <th>hour_0</th>\n",
       "      <th>hour_1</th>\n",
       "      <th>hour_2</th>\n",
       "      <th>hour_3</th>\n",
       "      <th>hour_4</th>\n",
       "      <th>hour_5</th>\n",
       "      <th>hour_6</th>\n",
       "      <th>hour_7</th>\n",
       "      <th>hour_8</th>\n",
       "      <th>hour_9</th>\n",
       "      <th>...</th>\n",
       "      <th>hour_14</th>\n",
       "      <th>hour_15</th>\n",
       "      <th>hour_16</th>\n",
       "      <th>hour_17</th>\n",
       "      <th>hour_18</th>\n",
       "      <th>hour_19</th>\n",
       "      <th>hour_20</th>\n",
       "      <th>hour_21</th>\n",
       "      <th>hour_22</th>\n",
       "      <th>hour_23</th>\n",
       "    </tr>\n",
       "  </thead>\n",
       "  <tbody>\n",
       "    <tr>\n",
       "      <th>0</th>\n",
       "      <td>1</td>\n",
       "      <td>0</td>\n",
       "      <td>0</td>\n",
       "      <td>0</td>\n",
       "      <td>0</td>\n",
       "      <td>0</td>\n",
       "      <td>0</td>\n",
       "      <td>0</td>\n",
       "      <td>0</td>\n",
       "      <td>0</td>\n",
       "      <td>...</td>\n",
       "      <td>0</td>\n",
       "      <td>0</td>\n",
       "      <td>0</td>\n",
       "      <td>0</td>\n",
       "      <td>0</td>\n",
       "      <td>0</td>\n",
       "      <td>0</td>\n",
       "      <td>0</td>\n",
       "      <td>0</td>\n",
       "      <td>0</td>\n",
       "    </tr>\n",
       "    <tr>\n",
       "      <th>1</th>\n",
       "      <td>1</td>\n",
       "      <td>0</td>\n",
       "      <td>0</td>\n",
       "      <td>0</td>\n",
       "      <td>0</td>\n",
       "      <td>0</td>\n",
       "      <td>0</td>\n",
       "      <td>0</td>\n",
       "      <td>0</td>\n",
       "      <td>0</td>\n",
       "      <td>...</td>\n",
       "      <td>0</td>\n",
       "      <td>0</td>\n",
       "      <td>0</td>\n",
       "      <td>0</td>\n",
       "      <td>0</td>\n",
       "      <td>0</td>\n",
       "      <td>0</td>\n",
       "      <td>0</td>\n",
       "      <td>0</td>\n",
       "      <td>0</td>\n",
       "    </tr>\n",
       "    <tr>\n",
       "      <th>2</th>\n",
       "      <td>1</td>\n",
       "      <td>0</td>\n",
       "      <td>0</td>\n",
       "      <td>0</td>\n",
       "      <td>0</td>\n",
       "      <td>0</td>\n",
       "      <td>0</td>\n",
       "      <td>0</td>\n",
       "      <td>0</td>\n",
       "      <td>0</td>\n",
       "      <td>...</td>\n",
       "      <td>0</td>\n",
       "      <td>0</td>\n",
       "      <td>0</td>\n",
       "      <td>0</td>\n",
       "      <td>0</td>\n",
       "      <td>0</td>\n",
       "      <td>0</td>\n",
       "      <td>0</td>\n",
       "      <td>0</td>\n",
       "      <td>0</td>\n",
       "    </tr>\n",
       "    <tr>\n",
       "      <th>3</th>\n",
       "      <td>1</td>\n",
       "      <td>0</td>\n",
       "      <td>0</td>\n",
       "      <td>0</td>\n",
       "      <td>0</td>\n",
       "      <td>0</td>\n",
       "      <td>0</td>\n",
       "      <td>0</td>\n",
       "      <td>0</td>\n",
       "      <td>0</td>\n",
       "      <td>...</td>\n",
       "      <td>0</td>\n",
       "      <td>0</td>\n",
       "      <td>0</td>\n",
       "      <td>0</td>\n",
       "      <td>0</td>\n",
       "      <td>0</td>\n",
       "      <td>0</td>\n",
       "      <td>0</td>\n",
       "      <td>0</td>\n",
       "      <td>0</td>\n",
       "    </tr>\n",
       "    <tr>\n",
       "      <th>4</th>\n",
       "      <td>1</td>\n",
       "      <td>0</td>\n",
       "      <td>0</td>\n",
       "      <td>0</td>\n",
       "      <td>0</td>\n",
       "      <td>0</td>\n",
       "      <td>0</td>\n",
       "      <td>0</td>\n",
       "      <td>0</td>\n",
       "      <td>0</td>\n",
       "      <td>...</td>\n",
       "      <td>0</td>\n",
       "      <td>0</td>\n",
       "      <td>0</td>\n",
       "      <td>0</td>\n",
       "      <td>0</td>\n",
       "      <td>0</td>\n",
       "      <td>0</td>\n",
       "      <td>0</td>\n",
       "      <td>0</td>\n",
       "      <td>0</td>\n",
       "    </tr>\n",
       "  </tbody>\n",
       "</table>\n",
       "<p>5 rows × 24 columns</p>\n",
       "</div>"
      ],
      "text/plain": [
       "   hour_0  hour_1  hour_2  hour_3  hour_4  hour_5  hour_6  hour_7  hour_8  \\\n",
       "0       1       0       0       0       0       0       0       0       0   \n",
       "1       1       0       0       0       0       0       0       0       0   \n",
       "2       1       0       0       0       0       0       0       0       0   \n",
       "3       1       0       0       0       0       0       0       0       0   \n",
       "4       1       0       0       0       0       0       0       0       0   \n",
       "\n",
       "   hour_9   ...     hour_14  hour_15  hour_16  hour_17  hour_18  hour_19  \\\n",
       "0       0   ...           0        0        0        0        0        0   \n",
       "1       0   ...           0        0        0        0        0        0   \n",
       "2       0   ...           0        0        0        0        0        0   \n",
       "3       0   ...           0        0        0        0        0        0   \n",
       "4       0   ...           0        0        0        0        0        0   \n",
       "\n",
       "   hour_20  hour_21  hour_22  hour_23  \n",
       "0        0        0        0        0  \n",
       "1        0        0        0        0  \n",
       "2        0        0        0        0  \n",
       "3        0        0        0        0  \n",
       "4        0        0        0        0  \n",
       "\n",
       "[5 rows x 24 columns]"
      ]
     },
     "execution_count": 103,
     "metadata": {},
     "output_type": "execute_result"
    }
   ],
   "source": [
    "hour_dum.head()"
   ]
  },
  {
   "cell_type": "code",
   "execution_count": 104,
   "metadata": {
    "ExecuteTime": {
     "end_time": "2016-12-07T14:17:59.511515",
     "start_time": "2016-12-07T14:17:59.397884"
    },
    "collapsed": true
   },
   "outputs": [],
   "source": [
    "del hour_dum['hour_0']"
   ]
  },
  {
   "cell_type": "code",
   "execution_count": 105,
   "metadata": {
    "ExecuteTime": {
     "end_time": "2016-12-07T14:17:59.603844",
     "start_time": "2016-12-07T14:17:59.514722"
    },
    "collapsed": true
   },
   "outputs": [],
   "source": [
    "# Sunday is dropped\n",
    "\n",
    "dow_dum = pd.get_dummies(df1['day_of_week'], prefix='dow')"
   ]
  },
  {
   "cell_type": "code",
   "execution_count": 106,
   "metadata": {
    "ExecuteTime": {
     "end_time": "2016-12-07T14:17:59.645152",
     "start_time": "2016-12-07T14:17:59.609168"
    },
    "collapsed": false
   },
   "outputs": [
    {
     "data": {
      "text/html": [
       "<div>\n",
       "<table border=\"1\" class=\"dataframe\">\n",
       "  <thead>\n",
       "    <tr style=\"text-align: right;\">\n",
       "      <th></th>\n",
       "      <th>dow_0</th>\n",
       "      <th>dow_1</th>\n",
       "      <th>dow_2</th>\n",
       "      <th>dow_3</th>\n",
       "      <th>dow_4</th>\n",
       "      <th>dow_5</th>\n",
       "      <th>dow_6</th>\n",
       "    </tr>\n",
       "  </thead>\n",
       "  <tbody>\n",
       "    <tr>\n",
       "      <th>0</th>\n",
       "      <td>0</td>\n",
       "      <td>0</td>\n",
       "      <td>1</td>\n",
       "      <td>0</td>\n",
       "      <td>0</td>\n",
       "      <td>0</td>\n",
       "      <td>0</td>\n",
       "    </tr>\n",
       "    <tr>\n",
       "      <th>1</th>\n",
       "      <td>0</td>\n",
       "      <td>0</td>\n",
       "      <td>1</td>\n",
       "      <td>0</td>\n",
       "      <td>0</td>\n",
       "      <td>0</td>\n",
       "      <td>0</td>\n",
       "    </tr>\n",
       "    <tr>\n",
       "      <th>2</th>\n",
       "      <td>0</td>\n",
       "      <td>0</td>\n",
       "      <td>1</td>\n",
       "      <td>0</td>\n",
       "      <td>0</td>\n",
       "      <td>0</td>\n",
       "      <td>0</td>\n",
       "    </tr>\n",
       "    <tr>\n",
       "      <th>3</th>\n",
       "      <td>0</td>\n",
       "      <td>0</td>\n",
       "      <td>1</td>\n",
       "      <td>0</td>\n",
       "      <td>0</td>\n",
       "      <td>0</td>\n",
       "      <td>0</td>\n",
       "    </tr>\n",
       "    <tr>\n",
       "      <th>4</th>\n",
       "      <td>0</td>\n",
       "      <td>0</td>\n",
       "      <td>1</td>\n",
       "      <td>0</td>\n",
       "      <td>0</td>\n",
       "      <td>0</td>\n",
       "      <td>0</td>\n",
       "    </tr>\n",
       "  </tbody>\n",
       "</table>\n",
       "</div>"
      ],
      "text/plain": [
       "   dow_0  dow_1  dow_2  dow_3  dow_4  dow_5  dow_6\n",
       "0      0      0      1      0      0      0      0\n",
       "1      0      0      1      0      0      0      0\n",
       "2      0      0      1      0      0      0      0\n",
       "3      0      0      1      0      0      0      0\n",
       "4      0      0      1      0      0      0      0"
      ]
     },
     "execution_count": 106,
     "metadata": {},
     "output_type": "execute_result"
    }
   ],
   "source": [
    "dow_dum.head()"
   ]
  },
  {
   "cell_type": "code",
   "execution_count": 107,
   "metadata": {
    "ExecuteTime": {
     "end_time": "2016-12-07T14:18:02.591047",
     "start_time": "2016-12-07T14:18:02.576267"
    },
    "collapsed": true
   },
   "outputs": [],
   "source": [
    "del dow_dum['dow_0']"
   ]
  },
  {
   "cell_type": "code",
   "execution_count": 108,
   "metadata": {
    "ExecuteTime": {
     "end_time": "2016-12-07T14:18:04.003760",
     "start_time": "2016-12-07T14:18:03.332239"
    },
    "collapsed": true
   },
   "outputs": [],
   "source": [
    "X = pd.concat([hour_dum, dow_dum, zip_dum], axis =1)\n",
    "y = df1['tip_amount']"
   ]
  },
  {
   "cell_type": "code",
   "execution_count": 109,
   "metadata": {
    "ExecuteTime": {
     "end_time": "2016-12-07T14:18:04.388115",
     "start_time": "2016-12-07T14:18:04.378119"
    },
    "collapsed": false
   },
   "outputs": [
    {
     "data": {
      "text/plain": [
       "(1288677, 207)"
      ]
     },
     "execution_count": 109,
     "metadata": {},
     "output_type": "execute_result"
    }
   ],
   "source": [
    "X.shape"
   ]
  },
  {
   "cell_type": "markdown",
   "metadata": {},
   "source": [
    "## Modeling"
   ]
  },
  {
   "cell_type": "code",
   "execution_count": 40,
   "metadata": {
    "ExecuteTime": {
     "end_time": "2016-12-07T13:26:13.681225",
     "start_time": "2016-12-07T13:26:13.674368"
    },
    "collapsed": true
   },
   "outputs": [],
   "source": [
    "from sklearn.linear_model import LinearRegression\n",
    "from sklearn.ensemble import RandomForestRegressor, ExtraTreesRegressor, GradientBoostingRegressor, AdaBoostRegressor\n",
    "from sklearn.neighbors import KNeighborsRegressor\n",
    "from sklearn.svm import SVR\n",
    "\n",
    "from sklearn.model_selection import cross_val_score"
   ]
  },
  {
   "cell_type": "code",
   "execution_count": 41,
   "metadata": {
    "ExecuteTime": {
     "end_time": "2016-12-07T13:26:13.817225",
     "start_time": "2016-12-07T13:26:13.811878"
    },
    "collapsed": true
   },
   "outputs": [],
   "source": [
    "# Function to return name of ML model and/or scaling method\n",
    "\n",
    "def return_name(algo):\n",
    "    return str(algo).split('(')[0]"
   ]
  },
  {
   "cell_type": "code",
   "execution_count": 42,
   "metadata": {
    "ExecuteTime": {
     "end_time": "2016-12-07T13:26:15.289895",
     "start_time": "2016-12-07T13:26:15.266453"
    },
    "collapsed": true
   },
   "outputs": [],
   "source": [
    "# Function to create a pipeline of scaler and model for classifiers\n",
    "# Conduct cross-validation of each model\n",
    "# Returns a dataframe of model, scaler and performance\n",
    "# Chosen performance metric was \"accuracy\"\n",
    "\n",
    "def models_pipeline(models, scales, X, y, folds):\n",
    "\n",
    "    model_list = []\n",
    "    scale_list = []\n",
    "    acc_list = []\n",
    "    std_list = []\n",
    "\n",
    "    for model in models:\n",
    "        for scale in scales:\n",
    "            clf = make_pipeline(scale, model)\n",
    "            model_list.append(return_name(model))\n",
    "            scale_list.append(return_name(scale))\n",
    "            scores = cross_val_score(clf, X, y, scoring = 'accuracy', cv = folds, n_jobs=-1)\n",
    "            acc_list.append(round(scores.mean(), 3))\n",
    "            std_list.append(round(scores.std(), 3))\n",
    "\n",
    "    df = pd.DataFrame([model_list, scale_list, acc_list, std_list])\n",
    "    df = df.T.sort_values(2, ascending = False)\n",
    "    df.columns = ['Model', 'Scaler', 'Accuracy', 'Stdev']\n",
    "    return df"
   ]
  },
  {
   "cell_type": "code",
   "execution_count": 43,
   "metadata": {
    "ExecuteTime": {
     "end_time": "2016-12-07T13:26:16.149728",
     "start_time": "2016-12-07T13:26:16.129638"
    },
    "collapsed": true
   },
   "outputs": [],
   "source": [
    "# Function to create a pipeline of scaler and model for regressors\n",
    "# Conduct cross-validation of each model\n",
    "# Returns a dataframe of model, scaler and performance\n",
    "# Chosen performance metric was \"MSE\", but returns \"RMSE\"\n",
    "\n",
    "def models_reg_pipeline(models, scales, X, y, folds):\n",
    "\n",
    "    model_list = []\n",
    "    scale_list = []\n",
    "    acc_list = []\n",
    "    std_list = []\n",
    "\n",
    "    for model in models:\n",
    "        for scale in scales:\n",
    "            clf = make_pipeline(scale, model)\n",
    "            model_list.append(return_name(model))\n",
    "            scale_list.append(return_name(scale))\n",
    "            scores = cross_val_score(clf, X, y, scoring = 'neg_mean_squared_error', cv = folds, n_jobs=-1)\n",
    "            acc_list.append((round(np.sqrt(abs(scores.mean())), 3)))\n",
    "            std_list.append(round(np.sqrt(abs(scores).std()), 3))\n",
    "\n",
    "    df = pd.DataFrame([model_list, scale_list, acc_list, std_list])\n",
    "    df = df.T.sort_values(2)\n",
    "    df.columns = ['Model', 'Scaler', 'RMSE', 'Stdev']\n",
    "    return df"
   ]
  },
  {
   "cell_type": "code",
   "execution_count": 44,
   "metadata": {
    "ExecuteTime": {
     "end_time": "2016-12-07T13:26:17.436760",
     "start_time": "2016-12-07T13:26:17.432705"
    },
    "collapsed": true
   },
   "outputs": [],
   "source": [
    "rand = 44"
   ]
  },
  {
   "cell_type": "code",
   "execution_count": null,
   "metadata": {
    "ExecuteTime": {
     "start_time": "2016-12-07T19:27:09.500Z"
    },
    "collapsed": false
   },
   "outputs": [],
   "source": [
    "# Regressors models\n",
    "\n",
    "rfr = RandomForestRegressor(random_state=rand)\n",
    "#etr = ExtraTreesRegressor(random_state=rand)\n",
    "#adar = AdaBoostRegressor(random_state=rand)\n",
    "gbr = GradientBoostingRegressor(random_state=rand)\n",
    "linr = LinearRegression()\n",
    "#knnr = KNeighborsRegressor()\n",
    "#svr = SVR()"
   ]
  },
  {
   "cell_type": "code",
   "execution_count": 110,
   "metadata": {
    "ExecuteTime": {
     "end_time": "2016-12-07T14:19:27.153305",
     "start_time": "2016-12-07T14:18:13.052886"
    },
    "collapsed": true
   },
   "outputs": [],
   "source": [
    "# List of different scaling methods\n",
    "score = cross_val_score(linr, X, y, cv =3, scoring = 'neg_mean_squared_error')"
   ]
  },
  {
   "cell_type": "code",
   "execution_count": 111,
   "metadata": {
    "ExecuteTime": {
     "end_time": "2016-12-07T14:19:27.185889",
     "start_time": "2016-12-07T14:19:27.159494"
    },
    "collapsed": false
   },
   "outputs": [
    {
     "data": {
      "text/plain": [
       "1.9077869017523725"
      ]
     },
     "execution_count": 111,
     "metadata": {},
     "output_type": "execute_result"
    }
   ],
   "source": [
    "np.sqrt(abs(score.mean()))"
   ]
  },
  {
   "cell_type": "code",
   "execution_count": null,
   "metadata": {
    "ExecuteTime": {
     "start_time": "2016-12-07T19:26:56.322Z"
    },
    "collapsed": true
   },
   "outputs": [],
   "source": [
    "# List of different scaling methods\n",
    "score = cross_val_score(rfr, X, y, cv =3, scoring = 'r2')\n",
    "score.mean()"
   ]
  },
  {
   "cell_type": "code",
   "execution_count": null,
   "metadata": {
    "ExecuteTime": {
     "start_time": "2016-12-07T19:27:20.640Z"
    },
    "collapsed": true
   },
   "outputs": [],
   "source": [
    "score = cross_val_score(gbr, X, y, cv =3, scoring = 'r2')\n",
    "score.mean()"
   ]
  },
  {
   "cell_type": "code",
   "execution_count": 113,
   "metadata": {
    "ExecuteTime": {
     "end_time": "2016-12-07T14:22:32.330164",
     "start_time": "2016-12-07T14:22:32.314078"
    },
    "collapsed": false
   },
   "outputs": [
    {
     "data": {
      "text/plain": [
       "0.0036607205090880557"
      ]
     },
     "execution_count": 113,
     "metadata": {},
     "output_type": "execute_result"
    }
   ],
   "source": [
    "score.mean()"
   ]
  },
  {
   "cell_type": "code",
   "execution_count": null,
   "metadata": {
    "collapsed": true
   },
   "outputs": [],
   "source": [
    "score = cross_val_score(linr, X, y, cv =3, scoring = 'r2')"
   ]
  },
  {
   "cell_type": "code",
   "execution_count": 64,
   "metadata": {
    "ExecuteTime": {
     "end_time": "2016-12-07T13:45:08.077550",
     "start_time": "2016-12-07T13:45:06.479086"
    },
    "collapsed": false
   },
   "outputs": [
    {
     "data": {
      "text/plain": [
       "<matplotlib.axes._subplots.AxesSubplot at 0x12ac45790>"
      ]
     },
     "execution_count": 64,
     "metadata": {},
     "output_type": "execute_result"
    },
    {
     "data": {
      "image/png": "[encoded data removed]",
      "text/plain": [
       "<matplotlib.figure.Figure at 0x1345cfb50>"
      ]
     },
     "metadata": {},
     "output_type": "display_data"
    }
   ],
   "source": [
    "df[df['tip_amount'] > 10]['tip_amount'].hist(bins = 200)"
   ]
  },
  {
   "cell_type": "code",
   "execution_count": 56,
   "metadata": {
    "ExecuteTime": {
     "end_time": "2016-12-07T13:35:35.748684",
     "start_time": "2016-12-07T13:35:35.565686"
    },
    "collapsed": false
   },
   "outputs": [
    {
     "data": {
      "text/plain": [
       "497352"
      ]
     },
     "execution_count": 56,
     "metadata": {},
     "output_type": "execute_result"
    }
   ],
   "source": [
    "len(df[df['tip_amount'] ==0])"
   ]
  },
  {
   "cell_type": "code",
   "execution_count": 58,
   "metadata": {
    "ExecuteTime": {
     "end_time": "2016-12-07T13:39:57.800127",
     "start_time": "2016-12-07T13:39:56.605869"
    },
    "collapsed": false
   },
   "outputs": [
    {
     "data": {
      "text/plain": [
       "<matplotlib.axes._subplots.AxesSubplot at 0x148ea9c50>"
      ]
     },
     "execution_count": 58,
     "metadata": {},
     "output_type": "execute_result"
    },
    {
     "data": {
      "image/png": "[encoded data removed]",
      "text/plain": [
       "<matplotlib.figure.Figure at 0x1296fc610>"
      ]
     },
     "metadata": {},
     "output_type": "display_data"
    }
   ],
   "source": [
    "df['trip_distance'].hist(bins = 200)"
   ]
  },
  {
   "cell_type": "code",
   "execution_count": 59,
   "metadata": {
    "ExecuteTime": {
     "end_time": "2016-12-07T13:40:40.984752",
     "start_time": "2016-12-07T13:40:40.506065"
    },
    "collapsed": true
   },
   "outputs": [],
   "source": [
    "df = df[df['trip_distance'] < 15]"
   ]
  },
  {
   "cell_type": "code",
   "execution_count": 60,
   "metadata": {
    "ExecuteTime": {
     "end_time": "2016-12-07T13:40:44.361415",
     "start_time": "2016-12-07T13:40:44.352030"
    },
    "collapsed": false
   },
   "outputs": [
    {
     "data": {
      "text/plain": [
       "(1289249, 25)"
      ]
     },
     "execution_count": 60,
     "metadata": {},
     "output_type": "execute_result"
    }
   ],
   "source": [
    "df.shape"
   ]
  },
  {
   "cell_type": "code",
   "execution_count": 63,
   "metadata": {
    "ExecuteTime": {
     "end_time": "2016-12-07T13:41:44.674025",
     "start_time": "2016-12-07T13:41:43.747324"
    },
    "collapsed": false
   },
   "outputs": [
    {
     "data": {
      "text/plain": [
       "<matplotlib.axes._subplots.AxesSubplot at 0x129b51150>"
      ]
     },
     "execution_count": 63,
     "metadata": {},
     "output_type": "execute_result"
    },
    {
     "data": {
      "image/png": "[encoded data removed]",
      "text/plain": [
       "<matplotlib.figure.Figure at 0x129b479d0>"
      ]
     },
     "metadata": {},
     "output_type": "display_data"
    }
   ],
   "source": [
    "df['Avg_spd'].hist(bins = 100)"
   ]
  },
  {
   "cell_type": "code",
   "execution_count": 68,
   "metadata": {
    "ExecuteTime": {
     "end_time": "2016-12-07T13:48:07.732809",
     "start_time": "2016-12-07T13:48:05.561897"
    },
    "collapsed": false
   },
   "outputs": [
    {
     "data": {
      "text/plain": [
       "(0, 50)"
      ]
     },
     "execution_count": 68,
     "metadata": {},
     "output_type": "execute_result"
    },
    {
     "data": {
      "image/png": "[encoded data removed]",
      "text/plain": [
       "<matplotlib.figure.Figure at 0x12d4155d0>"
      ]
     },
     "metadata": {},
     "output_type": "display_data"
    }
   ],
   "source": [
    "ax = df[df['trip_distance'] < 15]['tip_amount'].hist(bins = 300)\n",
    "ax.set_xlim(0,50)"
   ]
  },
  {
   "cell_type": "code",
   "execution_count": 72,
   "metadata": {
    "ExecuteTime": {
     "end_time": "2016-12-07T13:49:15.562807",
     "start_time": "2016-12-07T13:49:15.127537"
    },
    "collapsed": false
   },
   "outputs": [
    {
     "data": {
      "text/plain": [
       "count    1.289249e+06\n",
       "mean     1.466431e+01\n",
       "std      9.664150e+00\n",
       "min     -2.733000e+02\n",
       "25%      8.750000e+00\n",
       "50%      1.180000e+01\n",
       "75%      1.716000e+01\n",
       "max      8.248600e+02\n",
       "Name: total_amount, dtype: float64"
      ]
     },
     "execution_count": 72,
     "metadata": {},
     "output_type": "execute_result"
    }
   ],
   "source": [
    "df[df['trip_distance'] < 15]['total_amount'].describe()"
   ]
  },
  {
   "cell_type": "code",
   "execution_count": 97,
   "metadata": {
    "ExecuteTime": {
     "end_time": "2016-12-07T14:17:28.153747",
     "start_time": "2016-12-07T14:17:26.814413"
    },
    "collapsed": false
   },
   "outputs": [
    {
     "data": {
      "text/plain": [
       "<matplotlib.axes._subplots.AxesSubplot at 0x12db10650>"
      ]
     },
     "execution_count": 97,
     "metadata": {},
     "output_type": "execute_result"
    },
    {
     "data": {
      "image/png": "[encoded data removed]",
      "text/plain": [
       "<matplotlib.figure.Figure at 0x12a1224d0>"
      ]
     },
     "metadata": {},
     "output_type": "display_data"
    }
   ],
   "source": [
    "df1['tip_amount'].hist(bins = 200)"
   ]
  },
  {
   "cell_type": "code",
   "execution_count": 98,
   "metadata": {
    "ExecuteTime": {
     "end_time": "2016-12-07T14:17:41.127512",
     "start_time": "2016-12-07T14:17:40.998585"
    },
    "collapsed": false
   },
   "outputs": [
    {
     "data": {
      "text/plain": [
       "count    1.288677e+06\n",
       "mean     1.599457e+00\n",
       "std      1.911722e+00\n",
       "min      0.000000e+00\n",
       "25%      0.000000e+00\n",
       "50%      1.250000e+00\n",
       "75%      2.300000e+00\n",
       "max      2.000000e+01\n",
       "Name: tip_amount, dtype: float64"
      ]
     },
     "execution_count": 98,
     "metadata": {},
     "output_type": "execute_result"
    }
   ],
   "source": [
    "df1['tip_amount'].describe()"
   ]
  },
  {
   "cell_type": "code",
   "execution_count": null,
   "metadata": {
    "collapsed": true
   },
   "outputs": [],
   "source": []
  }
 ],
 "metadata": {
  "anaconda-cloud": {},
  "kernelspec": {
   "display_name": "Python [Root]",
   "language": "python",
   "name": "Python [Root]"
  },
  "language_info": {
   "codemirror_mode": {
    "name": "ipython",
    "version": 2
   },
   "file_extension": ".py",
   "mimetype": "text/x-python",
   "name": "python",
   "nbconvert_exporter": "python",
   "pygments_lexer": "ipython2",
   "version": "2.7.12"
  },
  "toc": {
   "nav_menu": {
    "height": "174px",
    "width": "252px"
   },
   "navigate_menu": true,
   "number_sections": true,
   "sideBar": true,
   "threshold": 4,
   "toc_cell": false,
   "toc_section_display": "block",
   "toc_window_display": false
  }
 },
 "nbformat": 4,
 "nbformat_minor": 0
}
