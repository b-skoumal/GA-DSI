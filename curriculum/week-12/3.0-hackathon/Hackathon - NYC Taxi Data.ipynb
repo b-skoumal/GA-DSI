{
 "cells": [
  {
   "cell_type": "markdown",
   "metadata": {},
   "source": [
    "# Hackathon with WDI\n",
    "\n",
    "## Building a front-end app with machine learning to predict taxi information"
   ]
  },
  {
   "cell_type": "code",
   "execution_count": 1,
   "metadata": {
    "ExecuteTime": {
     "end_time": "2016-12-07T14:39:25.834078",
     "start_time": "2016-12-07T14:39:22.806339"
    },
    "collapsed": false
   },
   "outputs": [],
   "source": [
    "import pickle\n",
    "import pandas as pd\n",
    "import numpy as np\n",
    "import matplotlib as plt\n",
    "\n",
    "import seaborn as sns\n",
    "\n",
    "plt.style.use('fivethirtyeight')\n",
    "plt.rcParams['figure.figsize'] = (10,6)\n",
    "\n",
    "%matplotlib inline"
   ]
  },
  {
   "cell_type": "code",
   "execution_count": 2,
   "metadata": {
    "ExecuteTime": {
     "end_time": "2016-12-07T14:40:37.435053",
     "start_time": "2016-12-07T14:39:26.380566"
    },
    "collapsed": true
   },
   "outputs": [],
   "source": [
    "# Loading in cleaned df from capstone project\n",
    "\n",
    "with open('/Users/peidacai/Desktop/taxi_df_dropoff_in_nyc_only.pkl', 'r') as f:\n",
    "    df = pickle.load(f)"
   ]
  },
  {
   "cell_type": "code",
   "execution_count": 3,
   "metadata": {
    "ExecuteTime": {
     "end_time": "2016-12-07T14:40:37.527777",
     "start_time": "2016-12-07T14:40:37.437856"
    },
    "collapsed": false
   },
   "outputs": [
    {
     "data": {
      "text/html": [
       "<div>\n",
       "<table border=\"1\" class=\"dataframe\">\n",
       "  <thead>\n",
       "    <tr style=\"text-align: right;\">\n",
       "      <th></th>\n",
       "      <th>tpep_pickup_datetime</th>\n",
       "      <th>tpep_dropoff_datetime</th>\n",
       "      <th>passenger_count</th>\n",
       "      <th>trip_distance</th>\n",
       "      <th>pickup_longitude</th>\n",
       "      <th>pickup_latitude</th>\n",
       "      <th>RatecodeID</th>\n",
       "      <th>dropoff_longitude</th>\n",
       "      <th>dropoff_latitude</th>\n",
       "      <th>payment_type</th>\n",
       "      <th>...</th>\n",
       "      <th>improvement_surcharge</th>\n",
       "      <th>total_amount</th>\n",
       "      <th>trip_month</th>\n",
       "      <th>day_of_week</th>\n",
       "      <th>pickup_hour</th>\n",
       "      <th>dropoff_hour</th>\n",
       "      <th>trip_duration</th>\n",
       "      <th>Avg_spd</th>\n",
       "      <th>dropoff_point</th>\n",
       "      <th>zipcode</th>\n",
       "    </tr>\n",
       "  </thead>\n",
       "  <tbody>\n",
       "    <tr>\n",
       "      <th>0</th>\n",
       "      <td>2015-07-01 00:00:20</td>\n",
       "      <td>2015-07-01 00:07:57</td>\n",
       "      <td>1</td>\n",
       "      <td>2.10</td>\n",
       "      <td>-73.983780</td>\n",
       "      <td>40.755219</td>\n",
       "      <td>1</td>\n",
       "      <td>-73.987389</td>\n",
       "      <td>40.733372</td>\n",
       "      <td>1</td>\n",
       "      <td>...</td>\n",
       "      <td>0.3</td>\n",
       "      <td>11.76</td>\n",
       "      <td>7</td>\n",
       "      <td>2</td>\n",
       "      <td>0</td>\n",
       "      <td>0</td>\n",
       "      <td>7.0</td>\n",
       "      <td>18.000000</td>\n",
       "      <td>[-73.9873886108, 40.7333717346]</td>\n",
       "      <td>10003</td>\n",
       "    </tr>\n",
       "    <tr>\n",
       "      <th>1</th>\n",
       "      <td>2015-07-01 00:00:42</td>\n",
       "      <td>2015-07-01 00:08:27</td>\n",
       "      <td>2</td>\n",
       "      <td>1.18</td>\n",
       "      <td>-74.003471</td>\n",
       "      <td>40.725307</td>\n",
       "      <td>1</td>\n",
       "      <td>-74.004333</td>\n",
       "      <td>40.737984</td>\n",
       "      <td>1</td>\n",
       "      <td>...</td>\n",
       "      <td>0.3</td>\n",
       "      <td>10.38</td>\n",
       "      <td>7</td>\n",
       "      <td>2</td>\n",
       "      <td>0</td>\n",
       "      <td>0</td>\n",
       "      <td>7.0</td>\n",
       "      <td>10.114286</td>\n",
       "      <td>[-74.0043334961, 40.7379837036]</td>\n",
       "      <td>10014</td>\n",
       "    </tr>\n",
       "    <tr>\n",
       "      <th>2</th>\n",
       "      <td>2015-07-01 00:01:06</td>\n",
       "      <td>2015-07-01 00:12:06</td>\n",
       "      <td>1</td>\n",
       "      <td>3.10</td>\n",
       "      <td>-74.003044</td>\n",
       "      <td>40.717903</td>\n",
       "      <td>1</td>\n",
       "      <td>-73.958641</td>\n",
       "      <td>40.712761</td>\n",
       "      <td>1</td>\n",
       "      <td>...</td>\n",
       "      <td>0.3</td>\n",
       "      <td>15.70</td>\n",
       "      <td>7</td>\n",
       "      <td>2</td>\n",
       "      <td>0</td>\n",
       "      <td>0</td>\n",
       "      <td>11.0</td>\n",
       "      <td>16.909091</td>\n",
       "      <td>[-73.9586410522, 40.7127609253]</td>\n",
       "      <td>11211</td>\n",
       "    </tr>\n",
       "    <tr>\n",
       "      <th>3</th>\n",
       "      <td>2015-07-01 00:01:29</td>\n",
       "      <td>2015-07-01 00:07:52</td>\n",
       "      <td>2</td>\n",
       "      <td>2.10</td>\n",
       "      <td>-73.982910</td>\n",
       "      <td>40.726765</td>\n",
       "      <td>1</td>\n",
       "      <td>-73.967339</td>\n",
       "      <td>40.752625</td>\n",
       "      <td>1</td>\n",
       "      <td>...</td>\n",
       "      <td>0.3</td>\n",
       "      <td>11.15</td>\n",
       "      <td>7</td>\n",
       "      <td>2</td>\n",
       "      <td>0</td>\n",
       "      <td>0</td>\n",
       "      <td>6.0</td>\n",
       "      <td>21.000000</td>\n",
       "      <td>[-73.967338562, 40.7526245117]</td>\n",
       "      <td>10017</td>\n",
       "    </tr>\n",
       "    <tr>\n",
       "      <th>4</th>\n",
       "      <td>2015-07-01 00:01:53</td>\n",
       "      <td>2015-07-01 00:08:35</td>\n",
       "      <td>1</td>\n",
       "      <td>1.24</td>\n",
       "      <td>-74.002365</td>\n",
       "      <td>40.739746</td>\n",
       "      <td>1</td>\n",
       "      <td>-74.010254</td>\n",
       "      <td>40.729797</td>\n",
       "      <td>2</td>\n",
       "      <td>...</td>\n",
       "      <td>0.3</td>\n",
       "      <td>8.30</td>\n",
       "      <td>7</td>\n",
       "      <td>2</td>\n",
       "      <td>0</td>\n",
       "      <td>0</td>\n",
       "      <td>6.0</td>\n",
       "      <td>12.400000</td>\n",
       "      <td>[-74.0102539062, 40.7297973633]</td>\n",
       "      <td>10014</td>\n",
       "    </tr>\n",
       "  </tbody>\n",
       "</table>\n",
       "<p>5 rows × 25 columns</p>\n",
       "</div>"
      ],
      "text/plain": [
       "  tpep_pickup_datetime tpep_dropoff_datetime  passenger_count  trip_distance  \\\n",
       "0  2015-07-01 00:00:20   2015-07-01 00:07:57                1           2.10   \n",
       "1  2015-07-01 00:00:42   2015-07-01 00:08:27                2           1.18   \n",
       "2  2015-07-01 00:01:06   2015-07-01 00:12:06                1           3.10   \n",
       "3  2015-07-01 00:01:29   2015-07-01 00:07:52                2           2.10   \n",
       "4  2015-07-01 00:01:53   2015-07-01 00:08:35                1           1.24   \n",
       "\n",
       "   pickup_longitude  pickup_latitude  RatecodeID  dropoff_longitude  \\\n",
       "0        -73.983780        40.755219           1         -73.987389   \n",
       "1        -74.003471        40.725307           1         -74.004333   \n",
       "2        -74.003044        40.717903           1         -73.958641   \n",
       "3        -73.982910        40.726765           1         -73.967339   \n",
       "4        -74.002365        40.739746           1         -74.010254   \n",
       "\n",
       "   dropoff_latitude  payment_type   ...     improvement_surcharge  \\\n",
       "0         40.733372             1   ...                       0.3   \n",
       "1         40.737984             1   ...                       0.3   \n",
       "2         40.712761             1   ...                       0.3   \n",
       "3         40.752625             1   ...                       0.3   \n",
       "4         40.729797             2   ...                       0.3   \n",
       "\n",
       "   total_amount  trip_month  day_of_week  pickup_hour  dropoff_hour  \\\n",
       "0         11.76           7            2            0             0   \n",
       "1         10.38           7            2            0             0   \n",
       "2         15.70           7            2            0             0   \n",
       "3         11.15           7            2            0             0   \n",
       "4          8.30           7            2            0             0   \n",
       "\n",
       "   trip_duration    Avg_spd                    dropoff_point  zipcode  \n",
       "0            7.0  18.000000  [-73.9873886108, 40.7333717346]    10003  \n",
       "1            7.0  10.114286  [-74.0043334961, 40.7379837036]    10014  \n",
       "2           11.0  16.909091  [-73.9586410522, 40.7127609253]    11211  \n",
       "3            6.0  21.000000   [-73.967338562, 40.7526245117]    10017  \n",
       "4            6.0  12.400000  [-74.0102539062, 40.7297973633]    10014  \n",
       "\n",
       "[5 rows x 25 columns]"
      ]
     },
     "execution_count": 3,
     "metadata": {},
     "output_type": "execute_result"
    }
   ],
   "source": [
    "df.head()"
   ]
  },
  {
   "cell_type": "code",
   "execution_count": 4,
   "metadata": {
    "ExecuteTime": {
     "end_time": "2016-12-07T14:40:37.540109",
     "start_time": "2016-12-07T14:40:37.531093"
    },
    "collapsed": false
   },
   "outputs": [
    {
     "data": {
      "text/plain": [
       "Index([u'tpep_pickup_datetime', u'tpep_dropoff_datetime', u'passenger_count',\n",
       "       u'trip_distance', u'pickup_longitude', u'pickup_latitude',\n",
       "       u'RatecodeID', u'dropoff_longitude', u'dropoff_latitude',\n",
       "       u'payment_type', u'fare_amount', u'extra', u'mta_tax', u'tip_amount',\n",
       "       u'tolls_amount', u'improvement_surcharge', u'total_amount',\n",
       "       u'trip_month', u'day_of_week', u'pickup_hour', u'dropoff_hour',\n",
       "       u'trip_duration', u'Avg_spd', u'dropoff_point', u'zipcode'],\n",
       "      dtype='object')"
      ]
     },
     "execution_count": 4,
     "metadata": {},
     "output_type": "execute_result"
    }
   ],
   "source": [
    "df.columns"
   ]
  },
  {
   "cell_type": "code",
   "execution_count": 60,
   "metadata": {
    "ExecuteTime": {
     "end_time": "2016-12-07T15:17:03.262556",
     "start_time": "2016-12-07T15:17:02.134914"
    },
    "collapsed": false
   },
   "outputs": [
    {
     "name": "stderr",
     "output_type": "stream",
     "text": [
      "/anaconda/lib/python2.7/site-packages/ipykernel/__main__.py:2: SettingWithCopyWarning: \n",
      "A value is trying to be set on a copy of a slice from a DataFrame.\n",
      "Try using .loc[row_indexer,col_indexer] = value instead\n",
      "\n",
      "See the caveats in the documentation: http://pandas.pydata.org/pandas-docs/stable/indexing.html#indexing-view-versus-copy\n",
      "  from ipykernel import kernelapp as app\n"
     ]
    },
    {
     "data": {
      "text/html": [
       "<div>\n",
       "<table border=\"1\" class=\"dataframe\">\n",
       "  <thead>\n",
       "    <tr style=\"text-align: right;\">\n",
       "      <th></th>\n",
       "      <th>tpep_pickup_datetime</th>\n",
       "      <th>tpep_dropoff_datetime</th>\n",
       "      <th>passenger_count</th>\n",
       "      <th>trip_distance</th>\n",
       "      <th>pickup_longitude</th>\n",
       "      <th>pickup_latitude</th>\n",
       "      <th>RatecodeID</th>\n",
       "      <th>dropoff_longitude</th>\n",
       "      <th>dropoff_latitude</th>\n",
       "      <th>payment_type</th>\n",
       "      <th>...</th>\n",
       "      <th>total_amount</th>\n",
       "      <th>trip_month</th>\n",
       "      <th>day_of_week</th>\n",
       "      <th>pickup_hour</th>\n",
       "      <th>dropoff_hour</th>\n",
       "      <th>trip_duration</th>\n",
       "      <th>Avg_spd</th>\n",
       "      <th>dropoff_point</th>\n",
       "      <th>zipcode</th>\n",
       "      <th>tip_percent</th>\n",
       "    </tr>\n",
       "  </thead>\n",
       "  <tbody>\n",
       "    <tr>\n",
       "      <th>0</th>\n",
       "      <td>2015-07-01 00:00:20</td>\n",
       "      <td>2015-07-01 00:07:57</td>\n",
       "      <td>1</td>\n",
       "      <td>2.10</td>\n",
       "      <td>-73.983780</td>\n",
       "      <td>40.755219</td>\n",
       "      <td>1</td>\n",
       "      <td>-73.987389</td>\n",
       "      <td>40.733372</td>\n",
       "      <td>1</td>\n",
       "      <td>...</td>\n",
       "      <td>11.76</td>\n",
       "      <td>7</td>\n",
       "      <td>2</td>\n",
       "      <td>0</td>\n",
       "      <td>0</td>\n",
       "      <td>7.0</td>\n",
       "      <td>18.000000</td>\n",
       "      <td>[-73.9873886108, 40.7333717346]</td>\n",
       "      <td>10003</td>\n",
       "      <td>20.000000</td>\n",
       "    </tr>\n",
       "    <tr>\n",
       "      <th>1</th>\n",
       "      <td>2015-07-01 00:00:42</td>\n",
       "      <td>2015-07-01 00:08:27</td>\n",
       "      <td>2</td>\n",
       "      <td>1.18</td>\n",
       "      <td>-74.003471</td>\n",
       "      <td>40.725307</td>\n",
       "      <td>1</td>\n",
       "      <td>-74.004333</td>\n",
       "      <td>40.737984</td>\n",
       "      <td>1</td>\n",
       "      <td>...</td>\n",
       "      <td>10.38</td>\n",
       "      <td>7</td>\n",
       "      <td>2</td>\n",
       "      <td>0</td>\n",
       "      <td>0</td>\n",
       "      <td>7.0</td>\n",
       "      <td>10.114286</td>\n",
       "      <td>[-74.0043334961, 40.7379837036]</td>\n",
       "      <td>10014</td>\n",
       "      <td>25.060241</td>\n",
       "    </tr>\n",
       "    <tr>\n",
       "      <th>2</th>\n",
       "      <td>2015-07-01 00:01:06</td>\n",
       "      <td>2015-07-01 00:12:06</td>\n",
       "      <td>1</td>\n",
       "      <td>3.10</td>\n",
       "      <td>-74.003044</td>\n",
       "      <td>40.717903</td>\n",
       "      <td>1</td>\n",
       "      <td>-73.958641</td>\n",
       "      <td>40.712761</td>\n",
       "      <td>1</td>\n",
       "      <td>...</td>\n",
       "      <td>15.70</td>\n",
       "      <td>7</td>\n",
       "      <td>2</td>\n",
       "      <td>0</td>\n",
       "      <td>0</td>\n",
       "      <td>11.0</td>\n",
       "      <td>16.909091</td>\n",
       "      <td>[-73.9586410522, 40.7127609253]</td>\n",
       "      <td>11211</td>\n",
       "      <td>18.045113</td>\n",
       "    </tr>\n",
       "    <tr>\n",
       "      <th>3</th>\n",
       "      <td>2015-07-01 00:01:29</td>\n",
       "      <td>2015-07-01 00:07:52</td>\n",
       "      <td>2</td>\n",
       "      <td>2.10</td>\n",
       "      <td>-73.982910</td>\n",
       "      <td>40.726765</td>\n",
       "      <td>1</td>\n",
       "      <td>-73.967339</td>\n",
       "      <td>40.752625</td>\n",
       "      <td>1</td>\n",
       "      <td>...</td>\n",
       "      <td>11.15</td>\n",
       "      <td>7</td>\n",
       "      <td>2</td>\n",
       "      <td>0</td>\n",
       "      <td>0</td>\n",
       "      <td>6.0</td>\n",
       "      <td>21.000000</td>\n",
       "      <td>[-73.967338562, 40.7526245117]</td>\n",
       "      <td>10017</td>\n",
       "      <td>19.892473</td>\n",
       "    </tr>\n",
       "    <tr>\n",
       "      <th>5</th>\n",
       "      <td>2015-07-01 00:03:28</td>\n",
       "      <td>2015-07-01 00:06:54</td>\n",
       "      <td>1</td>\n",
       "      <td>0.46</td>\n",
       "      <td>-73.971519</td>\n",
       "      <td>40.762791</td>\n",
       "      <td>1</td>\n",
       "      <td>-73.973671</td>\n",
       "      <td>40.757149</td>\n",
       "      <td>1</td>\n",
       "      <td>...</td>\n",
       "      <td>6.96</td>\n",
       "      <td>7</td>\n",
       "      <td>2</td>\n",
       "      <td>0</td>\n",
       "      <td>0</td>\n",
       "      <td>3.0</td>\n",
       "      <td>9.200000</td>\n",
       "      <td>[-73.9736709595, 40.7571487427]</td>\n",
       "      <td>10022</td>\n",
       "      <td>20.000000</td>\n",
       "    </tr>\n",
       "  </tbody>\n",
       "</table>\n",
       "<p>5 rows × 26 columns</p>\n",
       "</div>"
      ],
      "text/plain": [
       "  tpep_pickup_datetime tpep_dropoff_datetime  passenger_count  trip_distance  \\\n",
       "0  2015-07-01 00:00:20   2015-07-01 00:07:57                1           2.10   \n",
       "1  2015-07-01 00:00:42   2015-07-01 00:08:27                2           1.18   \n",
       "2  2015-07-01 00:01:06   2015-07-01 00:12:06                1           3.10   \n",
       "3  2015-07-01 00:01:29   2015-07-01 00:07:52                2           2.10   \n",
       "5  2015-07-01 00:03:28   2015-07-01 00:06:54                1           0.46   \n",
       "\n",
       "   pickup_longitude  pickup_latitude  RatecodeID  dropoff_longitude  \\\n",
       "0        -73.983780        40.755219           1         -73.987389   \n",
       "1        -74.003471        40.725307           1         -74.004333   \n",
       "2        -74.003044        40.717903           1         -73.958641   \n",
       "3        -73.982910        40.726765           1         -73.967339   \n",
       "5        -73.971519        40.762791           1         -73.973671   \n",
       "\n",
       "   dropoff_latitude  payment_type     ...       total_amount  trip_month  \\\n",
       "0         40.733372             1     ...              11.76           7   \n",
       "1         40.737984             1     ...              10.38           7   \n",
       "2         40.712761             1     ...              15.70           7   \n",
       "3         40.752625             1     ...              11.15           7   \n",
       "5         40.757149             1     ...               6.96           7   \n",
       "\n",
       "   day_of_week  pickup_hour  dropoff_hour  trip_duration    Avg_spd  \\\n",
       "0            2            0             0            7.0  18.000000   \n",
       "1            2            0             0            7.0  10.114286   \n",
       "2            2            0             0           11.0  16.909091   \n",
       "3            2            0             0            6.0  21.000000   \n",
       "5            2            0             0            3.0   9.200000   \n",
       "\n",
       "                     dropoff_point  zipcode  tip_percent  \n",
       "0  [-73.9873886108, 40.7333717346]    10003    20.000000  \n",
       "1  [-74.0043334961, 40.7379837036]    10014    25.060241  \n",
       "2  [-73.9586410522, 40.7127609253]    11211    18.045113  \n",
       "3   [-73.967338562, 40.7526245117]    10017    19.892473  \n",
       "5  [-73.9736709595, 40.7571487427]    10022    20.000000  \n",
       "\n",
       "[5 rows x 26 columns]"
      ]
     },
     "execution_count": 60,
     "metadata": {},
     "output_type": "execute_result"
    }
   ],
   "source": [
    "credit_pay = df[df['payment_type'] == 1]\n",
    "credit_pay['tip_percent'] = 100*(credit_pay['tip_amount'] / \\\n",
    "(credit_pay['total_amount']- credit_pay['tip_amount']))\n",
    "credit_pay.head()"
   ]
  },
  {
   "cell_type": "code",
   "execution_count": 61,
   "metadata": {
    "ExecuteTime": {
     "end_time": "2016-12-07T15:17:03.572639",
     "start_time": "2016-12-07T15:17:03.266254"
    },
    "collapsed": true
   },
   "outputs": [],
   "source": [
    "df1 = credit_pay.copy()"
   ]
  },
  {
   "cell_type": "markdown",
   "metadata": {},
   "source": [
    "## Taxi drop off hour"
   ]
  },
  {
   "cell_type": "code",
   "execution_count": 62,
   "metadata": {
    "ExecuteTime": {
     "end_time": "2016-12-07T15:17:07.791143",
     "start_time": "2016-12-07T15:17:07.726504"
    },
    "collapsed": false
   },
   "outputs": [
    {
     "data": {
      "text/html": [
       "<div>\n",
       "<table border=\"1\" class=\"dataframe\">\n",
       "  <thead>\n",
       "    <tr style=\"text-align: right;\">\n",
       "      <th></th>\n",
       "      <th>tpep_pickup_datetime</th>\n",
       "      <th>tpep_dropoff_datetime</th>\n",
       "      <th>passenger_count</th>\n",
       "      <th>trip_distance</th>\n",
       "      <th>pickup_longitude</th>\n",
       "      <th>pickup_latitude</th>\n",
       "      <th>RatecodeID</th>\n",
       "      <th>dropoff_longitude</th>\n",
       "      <th>dropoff_latitude</th>\n",
       "      <th>payment_type</th>\n",
       "      <th>...</th>\n",
       "      <th>total_amount</th>\n",
       "      <th>trip_month</th>\n",
       "      <th>day_of_week</th>\n",
       "      <th>pickup_hour</th>\n",
       "      <th>dropoff_hour</th>\n",
       "      <th>trip_duration</th>\n",
       "      <th>Avg_spd</th>\n",
       "      <th>dropoff_point</th>\n",
       "      <th>zipcode</th>\n",
       "      <th>tip_percent</th>\n",
       "    </tr>\n",
       "  </thead>\n",
       "  <tbody>\n",
       "    <tr>\n",
       "      <th>0</th>\n",
       "      <td>2015-07-01 00:00:20</td>\n",
       "      <td>2015-07-01 00:07:57</td>\n",
       "      <td>1</td>\n",
       "      <td>2.1</td>\n",
       "      <td>-73.98378</td>\n",
       "      <td>40.755219</td>\n",
       "      <td>1</td>\n",
       "      <td>-73.987389</td>\n",
       "      <td>40.733372</td>\n",
       "      <td>1</td>\n",
       "      <td>...</td>\n",
       "      <td>11.76</td>\n",
       "      <td>7</td>\n",
       "      <td>2</td>\n",
       "      <td>0</td>\n",
       "      <td>0</td>\n",
       "      <td>7.0</td>\n",
       "      <td>18.0</td>\n",
       "      <td>[-73.9873886108, 40.7333717346]</td>\n",
       "      <td>10003</td>\n",
       "      <td>20.0</td>\n",
       "    </tr>\n",
       "  </tbody>\n",
       "</table>\n",
       "<p>1 rows × 26 columns</p>\n",
       "</div>"
      ],
      "text/plain": [
       "  tpep_pickup_datetime tpep_dropoff_datetime  passenger_count  trip_distance  \\\n",
       "0  2015-07-01 00:00:20   2015-07-01 00:07:57                1            2.1   \n",
       "\n",
       "   pickup_longitude  pickup_latitude  RatecodeID  dropoff_longitude  \\\n",
       "0         -73.98378        40.755219           1         -73.987389   \n",
       "\n",
       "   dropoff_latitude  payment_type     ...       total_amount  trip_month  \\\n",
       "0         40.733372             1     ...              11.76           7   \n",
       "\n",
       "   day_of_week  pickup_hour  dropoff_hour  trip_duration  Avg_spd  \\\n",
       "0            2            0             0            7.0     18.0   \n",
       "\n",
       "                     dropoff_point  zipcode  tip_percent  \n",
       "0  [-73.9873886108, 40.7333717346]    10003         20.0  \n",
       "\n",
       "[1 rows x 26 columns]"
      ]
     },
     "execution_count": 62,
     "metadata": {},
     "output_type": "execute_result"
    }
   ],
   "source": [
    "df1.head(1)"
   ]
  },
  {
   "cell_type": "code",
   "execution_count": 108,
   "metadata": {
    "ExecuteTime": {
     "end_time": "2016-12-07T16:11:04.364947",
     "start_time": "2016-12-07T16:11:03.858008"
    },
    "collapsed": false
   },
   "outputs": [
    {
     "data": {
      "text/html": [
       "<div>\n",
       "<table border=\"1\" class=\"dataframe\">\n",
       "  <thead>\n",
       "    <tr style=\"text-align: right;\">\n",
       "      <th></th>\n",
       "      <th>total_amount</th>\n",
       "      <th>tip_amount</th>\n",
       "      <th>trip_distance</th>\n",
       "      <th>Avg_spd</th>\n",
       "      <th>tip_percent</th>\n",
       "    </tr>\n",
       "  </thead>\n",
       "  <tbody>\n",
       "    <tr>\n",
       "      <th>count</th>\n",
       "      <td>804493.000000</td>\n",
       "      <td>804493.000000</td>\n",
       "      <td>804493.000000</td>\n",
       "      <td>804493.000000</td>\n",
       "      <td>804493.000000</td>\n",
       "    </tr>\n",
       "    <tr>\n",
       "      <th>mean</th>\n",
       "      <td>16.034631</td>\n",
       "      <td>2.562024</td>\n",
       "      <td>2.674841</td>\n",
       "      <td>12.377427</td>\n",
       "      <td>19.334584</td>\n",
       "    </tr>\n",
       "    <tr>\n",
       "      <th>std</th>\n",
       "      <td>10.123903</td>\n",
       "      <td>1.840682</td>\n",
       "      <td>2.532208</td>\n",
       "      <td>6.116262</td>\n",
       "      <td>7.129225</td>\n",
       "    </tr>\n",
       "    <tr>\n",
       "      <th>min</th>\n",
       "      <td>3.900000</td>\n",
       "      <td>0.100000</td>\n",
       "      <td>0.010000</td>\n",
       "      <td>0.005357</td>\n",
       "      <td>0.159134</td>\n",
       "    </tr>\n",
       "    <tr>\n",
       "      <th>25%</th>\n",
       "      <td>9.360000</td>\n",
       "      <td>1.450000</td>\n",
       "      <td>1.100000</td>\n",
       "      <td>8.181818</td>\n",
       "      <td>17.241379</td>\n",
       "    </tr>\n",
       "    <tr>\n",
       "      <th>50%</th>\n",
       "      <td>12.950000</td>\n",
       "      <td>2.000000</td>\n",
       "      <td>1.800000</td>\n",
       "      <td>11.142857</td>\n",
       "      <td>20.000000</td>\n",
       "    </tr>\n",
       "    <tr>\n",
       "      <th>75%</th>\n",
       "      <td>18.590000</td>\n",
       "      <td>3.000000</td>\n",
       "      <td>3.170000</td>\n",
       "      <td>15.000000</td>\n",
       "      <td>20.000000</td>\n",
       "    </tr>\n",
       "    <tr>\n",
       "      <th>max</th>\n",
       "      <td>210.300000</td>\n",
       "      <td>20.000000</td>\n",
       "      <td>14.990000</td>\n",
       "      <td>63.000000</td>\n",
       "      <td>2000.000000</td>\n",
       "    </tr>\n",
       "  </tbody>\n",
       "</table>\n",
       "</div>"
      ],
      "text/plain": [
       "        total_amount     tip_amount  trip_distance        Avg_spd  \\\n",
       "count  804493.000000  804493.000000  804493.000000  804493.000000   \n",
       "mean       16.034631       2.562024       2.674841      12.377427   \n",
       "std        10.123903       1.840682       2.532208       6.116262   \n",
       "min         3.900000       0.100000       0.010000       0.005357   \n",
       "25%         9.360000       1.450000       1.100000       8.181818   \n",
       "50%        12.950000       2.000000       1.800000      11.142857   \n",
       "75%        18.590000       3.000000       3.170000      15.000000   \n",
       "max       210.300000      20.000000      14.990000      63.000000   \n",
       "\n",
       "         tip_percent  \n",
       "count  804493.000000  \n",
       "mean       19.334584  \n",
       "std         7.129225  \n",
       "min         0.159134  \n",
       "25%        17.241379  \n",
       "50%        20.000000  \n",
       "75%        20.000000  \n",
       "max      2000.000000  "
      ]
     },
     "execution_count": 108,
     "metadata": {},
     "output_type": "execute_result"
    }
   ],
   "source": [
    "df1[['total_amount', 'tip_amount', 'trip_distance', 'Avg_spd', 'tip_percent']].describe()"
   ]
  },
  {
   "cell_type": "code",
   "execution_count": 109,
   "metadata": {
    "ExecuteTime": {
     "end_time": "2016-12-07T16:11:06.204673",
     "start_time": "2016-12-07T16:11:05.632068"
    },
    "collapsed": false
   },
   "outputs": [],
   "source": [
    "taxi_dropoff_hr = pd.pivot_table(df, values = ['total_amount', 'tip_amount', 'trip_distance', 'Avg_spd'], index = ['dropoff_hour'])"
   ]
  },
  {
   "cell_type": "code",
   "execution_count": 110,
   "metadata": {
    "ExecuteTime": {
     "end_time": "2016-12-07T16:11:06.622607",
     "start_time": "2016-12-07T16:11:06.611168"
    },
    "collapsed": false
   },
   "outputs": [],
   "source": [
    "taxi_dropoff_hr = taxi_dropoff_hr.applymap(lambda x: round(x, 2))"
   ]
  },
  {
   "cell_type": "code",
   "execution_count": 111,
   "metadata": {
    "ExecuteTime": {
     "end_time": "2016-12-07T16:11:07.605160",
     "start_time": "2016-12-07T16:11:07.353957"
    },
    "collapsed": false
   },
   "outputs": [
    {
     "data": {
      "text/html": [
       "<div>\n",
       "<table border=\"1\" class=\"dataframe\">\n",
       "  <thead>\n",
       "    <tr style=\"text-align: right;\">\n",
       "      <th></th>\n",
       "      <th>Avg_spd</th>\n",
       "      <th>tip_amount</th>\n",
       "      <th>total_amount</th>\n",
       "      <th>trip_distance</th>\n",
       "      <th>total_amount</th>\n",
       "    </tr>\n",
       "    <tr>\n",
       "      <th>dropoff_hour</th>\n",
       "      <th></th>\n",
       "      <th></th>\n",
       "      <th></th>\n",
       "      <th></th>\n",
       "      <th></th>\n",
       "    </tr>\n",
       "  </thead>\n",
       "  <tbody>\n",
       "    <tr>\n",
       "      <th>0</th>\n",
       "      <td>15.46</td>\n",
       "      <td>1.94</td>\n",
       "      <td>17.43</td>\n",
       "      <td>3.60</td>\n",
       "      <td>53383.0</td>\n",
       "    </tr>\n",
       "    <tr>\n",
       "      <th>1</th>\n",
       "      <td>16.24</td>\n",
       "      <td>1.83</td>\n",
       "      <td>16.85</td>\n",
       "      <td>3.55</td>\n",
       "      <td>39306.0</td>\n",
       "    </tr>\n",
       "    <tr>\n",
       "      <th>2</th>\n",
       "      <td>16.78</td>\n",
       "      <td>1.69</td>\n",
       "      <td>16.07</td>\n",
       "      <td>3.43</td>\n",
       "      <td>28362.0</td>\n",
       "    </tr>\n",
       "    <tr>\n",
       "      <th>3</th>\n",
       "      <td>17.54</td>\n",
       "      <td>1.61</td>\n",
       "      <td>16.20</td>\n",
       "      <td>3.55</td>\n",
       "      <td>20352.0</td>\n",
       "    </tr>\n",
       "    <tr>\n",
       "      <th>4</th>\n",
       "      <td>19.46</td>\n",
       "      <td>1.69</td>\n",
       "      <td>17.99</td>\n",
       "      <td>4.14</td>\n",
       "      <td>15607.0</td>\n",
       "    </tr>\n",
       "  </tbody>\n",
       "</table>\n",
       "</div>"
      ],
      "text/plain": [
       "              Avg_spd  tip_amount  total_amount  trip_distance  total_amount\n",
       "dropoff_hour                                                                \n",
       "0               15.46        1.94         17.43           3.60       53383.0\n",
       "1               16.24        1.83         16.85           3.55       39306.0\n",
       "2               16.78        1.69         16.07           3.43       28362.0\n",
       "3               17.54        1.61         16.20           3.55       20352.0\n",
       "4               19.46        1.69         17.99           4.14       15607.0"
      ]
     },
     "execution_count": 111,
     "metadata": {},
     "output_type": "execute_result"
    }
   ],
   "source": [
    "taxi_dropoff_hr = pd.concat([taxi_dropoff_hr, pd.pivot_table(df, values = 'total_amount', index = ['dropoff_hour'], aggfunc=len)], axis = 1)\n",
    "taxi_dropoff_hr.head()"
   ]
  },
  {
   "cell_type": "code",
   "execution_count": 112,
   "metadata": {
    "ExecuteTime": {
     "end_time": "2016-12-07T16:11:10.075071",
     "start_time": "2016-12-07T16:11:10.063954"
    },
    "collapsed": true
   },
   "outputs": [],
   "source": [
    "taxi_dropoff_hr.loc[:, 'total_amount'] = taxi_dropoff_hr['total_amount'].astype(int)"
   ]
  },
  {
   "cell_type": "code",
   "execution_count": 113,
   "metadata": {
    "ExecuteTime": {
     "end_time": "2016-12-07T16:11:10.739207",
     "start_time": "2016-12-07T16:11:10.732933"
    },
    "collapsed": true
   },
   "outputs": [],
   "source": [
    "taxi_dropoff_hr.columns = ['Avg_spd', 'tip_amount', 'total_amount', 'trip_distance', 'trip_count']"
   ]
  },
  {
   "cell_type": "code",
   "execution_count": 10,
   "metadata": {
    "ExecuteTime": {
     "end_time": "2016-12-07T13:16:58.448857",
     "start_time": "2016-12-07T13:16:58.441357"
    },
    "collapsed": true
   },
   "outputs": [],
   "source": [
    "taxi_dropoff_hr.to_json('/Users/peidacai/Desktop/taxi_dropoff_hr.json', orient = 'index')"
   ]
  },
  {
   "cell_type": "markdown",
   "metadata": {},
   "source": [
    "## Taxi pickup hour"
   ]
  },
  {
   "cell_type": "code",
   "execution_count": 11,
   "metadata": {
    "ExecuteTime": {
     "end_time": "2016-12-07T13:16:58.587586",
     "start_time": "2016-12-07T13:16:58.455305"
    },
    "collapsed": true
   },
   "outputs": [],
   "source": [
    "taxi_pickup_hr = pd.pivot_table(df, values = ['total_amount', 'tip_amount', 'trip_distance', 'Avg_spd'], index = ['pickup_hour'])"
   ]
  },
  {
   "cell_type": "code",
   "execution_count": 12,
   "metadata": {
    "ExecuteTime": {
     "end_time": "2016-12-07T13:16:58.628654",
     "start_time": "2016-12-07T13:16:58.590095"
    },
    "collapsed": false
   },
   "outputs": [
    {
     "data": {
      "text/html": [
       "<div>\n",
       "<table border=\"1\" class=\"dataframe\">\n",
       "  <thead>\n",
       "    <tr style=\"text-align: right;\">\n",
       "      <th></th>\n",
       "      <th>Avg_spd</th>\n",
       "      <th>tip_amount</th>\n",
       "      <th>total_amount</th>\n",
       "      <th>trip_distance</th>\n",
       "    </tr>\n",
       "    <tr>\n",
       "      <th>pickup_hour</th>\n",
       "      <th></th>\n",
       "      <th></th>\n",
       "      <th></th>\n",
       "      <th></th>\n",
       "    </tr>\n",
       "  </thead>\n",
       "  <tbody>\n",
       "    <tr>\n",
       "      <th>0</th>\n",
       "      <td>15.59</td>\n",
       "      <td>1.84</td>\n",
       "      <td>16.69</td>\n",
       "      <td>3.44</td>\n",
       "    </tr>\n",
       "    <tr>\n",
       "      <th>1</th>\n",
       "      <td>16.29</td>\n",
       "      <td>1.71</td>\n",
       "      <td>15.92</td>\n",
       "      <td>3.33</td>\n",
       "    </tr>\n",
       "    <tr>\n",
       "      <th>2</th>\n",
       "      <td>16.87</td>\n",
       "      <td>1.62</td>\n",
       "      <td>15.63</td>\n",
       "      <td>3.32</td>\n",
       "    </tr>\n",
       "    <tr>\n",
       "      <th>3</th>\n",
       "      <td>17.74</td>\n",
       "      <td>1.57</td>\n",
       "      <td>16.01</td>\n",
       "      <td>3.50</td>\n",
       "    </tr>\n",
       "    <tr>\n",
       "      <th>4</th>\n",
       "      <td>20.25</td>\n",
       "      <td>1.78</td>\n",
       "      <td>18.92</td>\n",
       "      <td>4.39</td>\n",
       "    </tr>\n",
       "  </tbody>\n",
       "</table>\n",
       "</div>"
      ],
      "text/plain": [
       "             Avg_spd  tip_amount  total_amount  trip_distance\n",
       "pickup_hour                                                  \n",
       "0              15.59        1.84         16.69           3.44\n",
       "1              16.29        1.71         15.92           3.33\n",
       "2              16.87        1.62         15.63           3.32\n",
       "3              17.74        1.57         16.01           3.50\n",
       "4              20.25        1.78         18.92           4.39"
      ]
     },
     "execution_count": 12,
     "metadata": {},
     "output_type": "execute_result"
    }
   ],
   "source": [
    "taxi_pickup_hr = taxi_pickup_hr[['Avg_spd', 'tip_amount', 'total_amount', 'trip_distance']].applymap(lambda x: round(x, 2))\n",
    "taxi_pickup_hr.head()"
   ]
  },
  {
   "cell_type": "code",
   "execution_count": 13,
   "metadata": {
    "ExecuteTime": {
     "end_time": "2016-12-07T13:16:58.761247",
     "start_time": "2016-12-07T13:16:58.632644"
    },
    "collapsed": false
   },
   "outputs": [
    {
     "data": {
      "text/html": [
       "<div>\n",
       "<table border=\"1\" class=\"dataframe\">\n",
       "  <thead>\n",
       "    <tr style=\"text-align: right;\">\n",
       "      <th></th>\n",
       "      <th>Avg_spd</th>\n",
       "      <th>tip_amount</th>\n",
       "      <th>total_amount</th>\n",
       "      <th>trip_distance</th>\n",
       "      <th>trip_count</th>\n",
       "    </tr>\n",
       "    <tr>\n",
       "      <th>pickup_hour</th>\n",
       "      <th></th>\n",
       "      <th></th>\n",
       "      <th></th>\n",
       "      <th></th>\n",
       "      <th></th>\n",
       "    </tr>\n",
       "  </thead>\n",
       "  <tbody>\n",
       "    <tr>\n",
       "      <th>0</th>\n",
       "      <td>15.59</td>\n",
       "      <td>1.84</td>\n",
       "      <td>16.69</td>\n",
       "      <td>3.44</td>\n",
       "      <td>49415.0</td>\n",
       "    </tr>\n",
       "    <tr>\n",
       "      <th>1</th>\n",
       "      <td>16.29</td>\n",
       "      <td>1.71</td>\n",
       "      <td>15.92</td>\n",
       "      <td>3.33</td>\n",
       "      <td>36264.0</td>\n",
       "    </tr>\n",
       "    <tr>\n",
       "      <th>2</th>\n",
       "      <td>16.87</td>\n",
       "      <td>1.62</td>\n",
       "      <td>15.63</td>\n",
       "      <td>3.32</td>\n",
       "      <td>26524.0</td>\n",
       "    </tr>\n",
       "    <tr>\n",
       "      <th>3</th>\n",
       "      <td>17.74</td>\n",
       "      <td>1.57</td>\n",
       "      <td>16.01</td>\n",
       "      <td>3.50</td>\n",
       "      <td>19222.0</td>\n",
       "    </tr>\n",
       "    <tr>\n",
       "      <th>4</th>\n",
       "      <td>20.25</td>\n",
       "      <td>1.78</td>\n",
       "      <td>18.92</td>\n",
       "      <td>4.39</td>\n",
       "      <td>14558.0</td>\n",
       "    </tr>\n",
       "  </tbody>\n",
       "</table>\n",
       "</div>"
      ],
      "text/plain": [
       "             Avg_spd  tip_amount  total_amount  trip_distance  trip_count\n",
       "pickup_hour                                                              \n",
       "0              15.59        1.84         16.69           3.44     49415.0\n",
       "1              16.29        1.71         15.92           3.33     36264.0\n",
       "2              16.87        1.62         15.63           3.32     26524.0\n",
       "3              17.74        1.57         16.01           3.50     19222.0\n",
       "4              20.25        1.78         18.92           4.39     14558.0"
      ]
     },
     "execution_count": 13,
     "metadata": {},
     "output_type": "execute_result"
    }
   ],
   "source": [
    "taxi_pickup_hr = pd.concat([taxi_pickup_hr, pd.pivot_table(df, values = 'total_amount', index = ['pickup_hour'], aggfunc=len)], axis = 1)\n",
    "taxi_pickup_hr.columns = ['Avg_spd', 'tip_amount', 'total_amount', 'trip_distance', 'trip_count']\n",
    "taxi_pickup_hr.head()"
   ]
  },
  {
   "cell_type": "code",
   "execution_count": 14,
   "metadata": {
    "ExecuteTime": {
     "end_time": "2016-12-07T13:16:58.771116",
     "start_time": "2016-12-07T13:16:58.764050"
    },
    "collapsed": false
   },
   "outputs": [],
   "source": [
    "taxi_pickup_hr.loc[:, 'trip_count'] = taxi_pickup_hr['trip_count'].astype(int)"
   ]
  },
  {
   "cell_type": "code",
   "execution_count": 15,
   "metadata": {
    "ExecuteTime": {
     "end_time": "2016-12-07T13:16:58.779381",
     "start_time": "2016-12-07T13:16:58.774749"
    },
    "collapsed": true
   },
   "outputs": [],
   "source": [
    "import json"
   ]
  },
  {
   "cell_type": "code",
   "execution_count": 16,
   "metadata": {
    "ExecuteTime": {
     "end_time": "2016-12-07T13:16:58.790908",
     "start_time": "2016-12-07T13:16:58.784103"
    },
    "collapsed": true
   },
   "outputs": [],
   "source": [
    "taxi_pickup_hr.to_json('/Users/peidacai/Desktop/taxi_pickup_hr.json', orient = 'index')"
   ]
  },
  {
   "cell_type": "markdown",
   "metadata": {},
   "source": [
    "## Taxi drop off by day"
   ]
  },
  {
   "cell_type": "code",
   "execution_count": 17,
   "metadata": {
    "ExecuteTime": {
     "end_time": "2016-12-07T13:16:59.026171",
     "start_time": "2016-12-07T13:16:58.795809"
    },
    "collapsed": true
   },
   "outputs": [],
   "source": [
    "taxi_dropoff_day = pd.pivot_table(df, values = ['total_amount', 'tip_amount', 'trip_distance', 'Avg_spd'], index = ['day_of_week'])\n",
    "taxi_dropoff_day = taxi_dropoff_day.applymap(lambda x: round(x, 2))\n",
    "taxi_dropoff_day = pd.concat([taxi_dropoff_day, pd.pivot_table(df, values = 'total_amount', index = ['day_of_week'], aggfunc=len)], axis = 1)\n",
    "taxi_dropoff_day.columns = ['Avg_spd', 'tip_amount', 'total_amount', 'trip_distance', 'trip_count']\n",
    "taxi_dropoff_day.to_json('/Users/peidacai/Desktop/taxi_dropoff_day.json', orient = 'index')"
   ]
  },
  {
   "cell_type": "markdown",
   "metadata": {},
   "source": [
    "# Predictive modeling"
   ]
  },
  {
   "cell_type": "code",
   "execution_count": 6,
   "metadata": {
    "ExecuteTime": {
     "end_time": "2016-12-07T14:43:31.662777",
     "start_time": "2016-12-07T14:43:31.421648"
    },
    "collapsed": true
   },
   "outputs": [],
   "source": [
    "from sklearn.preprocessing import Normalizer, MinMaxScaler, StandardScaler, RobustScaler\n",
    "from sklearn.feature_selection import SelectPercentile\n",
    "from sklearn.pipeline import make_pipeline"
   ]
  },
  {
   "cell_type": "code",
   "execution_count": 7,
   "metadata": {
    "ExecuteTime": {
     "end_time": "2016-12-07T14:43:32.209788",
     "start_time": "2016-12-07T14:43:32.102034"
    },
    "collapsed": false
   },
   "outputs": [
    {
     "data": {
      "text/html": [
       "<div>\n",
       "<table border=\"1\" class=\"dataframe\">\n",
       "  <thead>\n",
       "    <tr style=\"text-align: right;\">\n",
       "      <th></th>\n",
       "      <th>tpep_pickup_datetime</th>\n",
       "      <th>tpep_dropoff_datetime</th>\n",
       "      <th>passenger_count</th>\n",
       "      <th>trip_distance</th>\n",
       "      <th>pickup_longitude</th>\n",
       "      <th>pickup_latitude</th>\n",
       "      <th>RatecodeID</th>\n",
       "      <th>dropoff_longitude</th>\n",
       "      <th>dropoff_latitude</th>\n",
       "      <th>payment_type</th>\n",
       "      <th>...</th>\n",
       "      <th>improvement_surcharge</th>\n",
       "      <th>total_amount</th>\n",
       "      <th>trip_month</th>\n",
       "      <th>day_of_week</th>\n",
       "      <th>pickup_hour</th>\n",
       "      <th>dropoff_hour</th>\n",
       "      <th>trip_duration</th>\n",
       "      <th>Avg_spd</th>\n",
       "      <th>dropoff_point</th>\n",
       "      <th>zipcode</th>\n",
       "    </tr>\n",
       "  </thead>\n",
       "  <tbody>\n",
       "    <tr>\n",
       "      <th>0</th>\n",
       "      <td>2015-07-01 00:00:20</td>\n",
       "      <td>2015-07-01 00:07:57</td>\n",
       "      <td>1</td>\n",
       "      <td>2.10</td>\n",
       "      <td>-73.983780</td>\n",
       "      <td>40.755219</td>\n",
       "      <td>1</td>\n",
       "      <td>-73.987389</td>\n",
       "      <td>40.733372</td>\n",
       "      <td>1</td>\n",
       "      <td>...</td>\n",
       "      <td>0.3</td>\n",
       "      <td>11.76</td>\n",
       "      <td>7</td>\n",
       "      <td>2</td>\n",
       "      <td>0</td>\n",
       "      <td>0</td>\n",
       "      <td>7.0</td>\n",
       "      <td>18.000000</td>\n",
       "      <td>[-73.9873886108, 40.7333717346]</td>\n",
       "      <td>10003</td>\n",
       "    </tr>\n",
       "    <tr>\n",
       "      <th>1</th>\n",
       "      <td>2015-07-01 00:00:42</td>\n",
       "      <td>2015-07-01 00:08:27</td>\n",
       "      <td>2</td>\n",
       "      <td>1.18</td>\n",
       "      <td>-74.003471</td>\n",
       "      <td>40.725307</td>\n",
       "      <td>1</td>\n",
       "      <td>-74.004333</td>\n",
       "      <td>40.737984</td>\n",
       "      <td>1</td>\n",
       "      <td>...</td>\n",
       "      <td>0.3</td>\n",
       "      <td>10.38</td>\n",
       "      <td>7</td>\n",
       "      <td>2</td>\n",
       "      <td>0</td>\n",
       "      <td>0</td>\n",
       "      <td>7.0</td>\n",
       "      <td>10.114286</td>\n",
       "      <td>[-74.0043334961, 40.7379837036]</td>\n",
       "      <td>10014</td>\n",
       "    </tr>\n",
       "    <tr>\n",
       "      <th>2</th>\n",
       "      <td>2015-07-01 00:01:06</td>\n",
       "      <td>2015-07-01 00:12:06</td>\n",
       "      <td>1</td>\n",
       "      <td>3.10</td>\n",
       "      <td>-74.003044</td>\n",
       "      <td>40.717903</td>\n",
       "      <td>1</td>\n",
       "      <td>-73.958641</td>\n",
       "      <td>40.712761</td>\n",
       "      <td>1</td>\n",
       "      <td>...</td>\n",
       "      <td>0.3</td>\n",
       "      <td>15.70</td>\n",
       "      <td>7</td>\n",
       "      <td>2</td>\n",
       "      <td>0</td>\n",
       "      <td>0</td>\n",
       "      <td>11.0</td>\n",
       "      <td>16.909091</td>\n",
       "      <td>[-73.9586410522, 40.7127609253]</td>\n",
       "      <td>11211</td>\n",
       "    </tr>\n",
       "    <tr>\n",
       "      <th>3</th>\n",
       "      <td>2015-07-01 00:01:29</td>\n",
       "      <td>2015-07-01 00:07:52</td>\n",
       "      <td>2</td>\n",
       "      <td>2.10</td>\n",
       "      <td>-73.982910</td>\n",
       "      <td>40.726765</td>\n",
       "      <td>1</td>\n",
       "      <td>-73.967339</td>\n",
       "      <td>40.752625</td>\n",
       "      <td>1</td>\n",
       "      <td>...</td>\n",
       "      <td>0.3</td>\n",
       "      <td>11.15</td>\n",
       "      <td>7</td>\n",
       "      <td>2</td>\n",
       "      <td>0</td>\n",
       "      <td>0</td>\n",
       "      <td>6.0</td>\n",
       "      <td>21.000000</td>\n",
       "      <td>[-73.967338562, 40.7526245117]</td>\n",
       "      <td>10017</td>\n",
       "    </tr>\n",
       "    <tr>\n",
       "      <th>4</th>\n",
       "      <td>2015-07-01 00:01:53</td>\n",
       "      <td>2015-07-01 00:08:35</td>\n",
       "      <td>1</td>\n",
       "      <td>1.24</td>\n",
       "      <td>-74.002365</td>\n",
       "      <td>40.739746</td>\n",
       "      <td>1</td>\n",
       "      <td>-74.010254</td>\n",
       "      <td>40.729797</td>\n",
       "      <td>2</td>\n",
       "      <td>...</td>\n",
       "      <td>0.3</td>\n",
       "      <td>8.30</td>\n",
       "      <td>7</td>\n",
       "      <td>2</td>\n",
       "      <td>0</td>\n",
       "      <td>0</td>\n",
       "      <td>6.0</td>\n",
       "      <td>12.400000</td>\n",
       "      <td>[-74.0102539062, 40.7297973633]</td>\n",
       "      <td>10014</td>\n",
       "    </tr>\n",
       "  </tbody>\n",
       "</table>\n",
       "<p>5 rows × 25 columns</p>\n",
       "</div>"
      ],
      "text/plain": [
       "  tpep_pickup_datetime tpep_dropoff_datetime  passenger_count  trip_distance  \\\n",
       "0  2015-07-01 00:00:20   2015-07-01 00:07:57                1           2.10   \n",
       "1  2015-07-01 00:00:42   2015-07-01 00:08:27                2           1.18   \n",
       "2  2015-07-01 00:01:06   2015-07-01 00:12:06                1           3.10   \n",
       "3  2015-07-01 00:01:29   2015-07-01 00:07:52                2           2.10   \n",
       "4  2015-07-01 00:01:53   2015-07-01 00:08:35                1           1.24   \n",
       "\n",
       "   pickup_longitude  pickup_latitude  RatecodeID  dropoff_longitude  \\\n",
       "0        -73.983780        40.755219           1         -73.987389   \n",
       "1        -74.003471        40.725307           1         -74.004333   \n",
       "2        -74.003044        40.717903           1         -73.958641   \n",
       "3        -73.982910        40.726765           1         -73.967339   \n",
       "4        -74.002365        40.739746           1         -74.010254   \n",
       "\n",
       "   dropoff_latitude  payment_type   ...     improvement_surcharge  \\\n",
       "0         40.733372             1   ...                       0.3   \n",
       "1         40.737984             1   ...                       0.3   \n",
       "2         40.712761             1   ...                       0.3   \n",
       "3         40.752625             1   ...                       0.3   \n",
       "4         40.729797             2   ...                       0.3   \n",
       "\n",
       "   total_amount  trip_month  day_of_week  pickup_hour  dropoff_hour  \\\n",
       "0         11.76           7            2            0             0   \n",
       "1         10.38           7            2            0             0   \n",
       "2         15.70           7            2            0             0   \n",
       "3         11.15           7            2            0             0   \n",
       "4          8.30           7            2            0             0   \n",
       "\n",
       "   trip_duration    Avg_spd                    dropoff_point  zipcode  \n",
       "0            7.0  18.000000  [-73.9873886108, 40.7333717346]    10003  \n",
       "1            7.0  10.114286  [-74.0043334961, 40.7379837036]    10014  \n",
       "2           11.0  16.909091  [-73.9586410522, 40.7127609253]    11211  \n",
       "3            6.0  21.000000   [-73.967338562, 40.7526245117]    10017  \n",
       "4            6.0  12.400000  [-74.0102539062, 40.7297973633]    10014  \n",
       "\n",
       "[5 rows x 25 columns]"
      ]
     },
     "execution_count": 7,
     "metadata": {},
     "output_type": "execute_result"
    }
   ],
   "source": [
    "df.head()"
   ]
  },
  {
   "cell_type": "code",
   "execution_count": 63,
   "metadata": {
    "ExecuteTime": {
     "end_time": "2016-12-07T15:17:38.368337",
     "start_time": "2016-12-07T15:17:36.555415"
    },
    "collapsed": true
   },
   "outputs": [],
   "source": [
    "df1 = df1[df1['tip_amount'] >= 0.1]\n",
    "df1 = df1[df1['tip_amount'] <=  20]"
   ]
  },
  {
   "cell_type": "code",
   "execution_count": 64,
   "metadata": {
    "ExecuteTime": {
     "end_time": "2016-12-07T15:17:49.589645",
     "start_time": "2016-12-07T15:17:49.335035"
    },
    "collapsed": true
   },
   "outputs": [],
   "source": [
    "df1 = df1[df1['total_amount'] > 0]"
   ]
  },
  {
   "cell_type": "code",
   "execution_count": 65,
   "metadata": {
    "ExecuteTime": {
     "end_time": "2016-12-07T15:17:51.043385",
     "start_time": "2016-12-07T15:17:50.851865"
    },
    "collapsed": true
   },
   "outputs": [],
   "source": [
    "df1 = df1[df1['trip_distance'] < 15]"
   ]
  },
  {
   "cell_type": "code",
   "execution_count": null,
   "metadata": {
    "collapsed": true
   },
   "outputs": [],
   "source": []
  },
  {
   "cell_type": "markdown",
   "metadata": {},
   "source": [
    "### Defining X and y"
   ]
  },
  {
   "cell_type": "code",
   "execution_count": 67,
   "metadata": {
    "ExecuteTime": {
     "end_time": "2016-12-07T15:21:58.479807",
     "start_time": "2016-12-07T15:21:58.209957"
    },
    "collapsed": true
   },
   "outputs": [],
   "source": [
    "zip_dum = pd.get_dummies(df1['zipcode'], prefix='Zip')"
   ]
  },
  {
   "cell_type": "code",
   "execution_count": 68,
   "metadata": {
    "ExecuteTime": {
     "end_time": "2016-12-07T15:21:59.122729",
     "start_time": "2016-12-07T15:21:59.021828"
    },
    "collapsed": false
   },
   "outputs": [
    {
     "data": {
      "text/html": [
       "<div>\n",
       "<table border=\"1\" class=\"dataframe\">\n",
       "  <thead>\n",
       "    <tr style=\"text-align: right;\">\n",
       "      <th></th>\n",
       "      <th>Zip_10001</th>\n",
       "      <th>Zip_10002</th>\n",
       "      <th>Zip_10003</th>\n",
       "      <th>Zip_10004</th>\n",
       "      <th>Zip_10005</th>\n",
       "      <th>Zip_10006</th>\n",
       "      <th>Zip_10007</th>\n",
       "      <th>Zip_10009</th>\n",
       "      <th>Zip_10010</th>\n",
       "      <th>Zip_10011</th>\n",
       "      <th>...</th>\n",
       "      <th>Zip_11429</th>\n",
       "      <th>Zip_11430</th>\n",
       "      <th>Zip_11432</th>\n",
       "      <th>Zip_11433</th>\n",
       "      <th>Zip_11434</th>\n",
       "      <th>Zip_11435</th>\n",
       "      <th>Zip_11436</th>\n",
       "      <th>Zip_11691</th>\n",
       "      <th>Zip_11694</th>\n",
       "      <th>Zip_11697</th>\n",
       "    </tr>\n",
       "  </thead>\n",
       "  <tbody>\n",
       "    <tr>\n",
       "      <th>0</th>\n",
       "      <td>0</td>\n",
       "      <td>0</td>\n",
       "      <td>1</td>\n",
       "      <td>0</td>\n",
       "      <td>0</td>\n",
       "      <td>0</td>\n",
       "      <td>0</td>\n",
       "      <td>0</td>\n",
       "      <td>0</td>\n",
       "      <td>0</td>\n",
       "      <td>...</td>\n",
       "      <td>0</td>\n",
       "      <td>0</td>\n",
       "      <td>0</td>\n",
       "      <td>0</td>\n",
       "      <td>0</td>\n",
       "      <td>0</td>\n",
       "      <td>0</td>\n",
       "      <td>0</td>\n",
       "      <td>0</td>\n",
       "      <td>0</td>\n",
       "    </tr>\n",
       "    <tr>\n",
       "      <th>1</th>\n",
       "      <td>0</td>\n",
       "      <td>0</td>\n",
       "      <td>0</td>\n",
       "      <td>0</td>\n",
       "      <td>0</td>\n",
       "      <td>0</td>\n",
       "      <td>0</td>\n",
       "      <td>0</td>\n",
       "      <td>0</td>\n",
       "      <td>0</td>\n",
       "      <td>...</td>\n",
       "      <td>0</td>\n",
       "      <td>0</td>\n",
       "      <td>0</td>\n",
       "      <td>0</td>\n",
       "      <td>0</td>\n",
       "      <td>0</td>\n",
       "      <td>0</td>\n",
       "      <td>0</td>\n",
       "      <td>0</td>\n",
       "      <td>0</td>\n",
       "    </tr>\n",
       "    <tr>\n",
       "      <th>2</th>\n",
       "      <td>0</td>\n",
       "      <td>0</td>\n",
       "      <td>0</td>\n",
       "      <td>0</td>\n",
       "      <td>0</td>\n",
       "      <td>0</td>\n",
       "      <td>0</td>\n",
       "      <td>0</td>\n",
       "      <td>0</td>\n",
       "      <td>0</td>\n",
       "      <td>...</td>\n",
       "      <td>0</td>\n",
       "      <td>0</td>\n",
       "      <td>0</td>\n",
       "      <td>0</td>\n",
       "      <td>0</td>\n",
       "      <td>0</td>\n",
       "      <td>0</td>\n",
       "      <td>0</td>\n",
       "      <td>0</td>\n",
       "      <td>0</td>\n",
       "    </tr>\n",
       "    <tr>\n",
       "      <th>3</th>\n",
       "      <td>0</td>\n",
       "      <td>0</td>\n",
       "      <td>0</td>\n",
       "      <td>0</td>\n",
       "      <td>0</td>\n",
       "      <td>0</td>\n",
       "      <td>0</td>\n",
       "      <td>0</td>\n",
       "      <td>0</td>\n",
       "      <td>0</td>\n",
       "      <td>...</td>\n",
       "      <td>0</td>\n",
       "      <td>0</td>\n",
       "      <td>0</td>\n",
       "      <td>0</td>\n",
       "      <td>0</td>\n",
       "      <td>0</td>\n",
       "      <td>0</td>\n",
       "      <td>0</td>\n",
       "      <td>0</td>\n",
       "      <td>0</td>\n",
       "    </tr>\n",
       "    <tr>\n",
       "      <th>5</th>\n",
       "      <td>0</td>\n",
       "      <td>0</td>\n",
       "      <td>0</td>\n",
       "      <td>0</td>\n",
       "      <td>0</td>\n",
       "      <td>0</td>\n",
       "      <td>0</td>\n",
       "      <td>0</td>\n",
       "      <td>0</td>\n",
       "      <td>0</td>\n",
       "      <td>...</td>\n",
       "      <td>0</td>\n",
       "      <td>0</td>\n",
       "      <td>0</td>\n",
       "      <td>0</td>\n",
       "      <td>0</td>\n",
       "      <td>0</td>\n",
       "      <td>0</td>\n",
       "      <td>0</td>\n",
       "      <td>0</td>\n",
       "      <td>0</td>\n",
       "    </tr>\n",
       "  </tbody>\n",
       "</table>\n",
       "<p>5 rows × 179 columns</p>\n",
       "</div>"
      ],
      "text/plain": [
       "   Zip_10001  Zip_10002  Zip_10003  Zip_10004  Zip_10005  Zip_10006  \\\n",
       "0          0          0          1          0          0          0   \n",
       "1          0          0          0          0          0          0   \n",
       "2          0          0          0          0          0          0   \n",
       "3          0          0          0          0          0          0   \n",
       "5          0          0          0          0          0          0   \n",
       "\n",
       "   Zip_10007  Zip_10009  Zip_10010  Zip_10011    ...      Zip_11429  \\\n",
       "0          0          0          0          0    ...              0   \n",
       "1          0          0          0          0    ...              0   \n",
       "2          0          0          0          0    ...              0   \n",
       "3          0          0          0          0    ...              0   \n",
       "5          0          0          0          0    ...              0   \n",
       "\n",
       "   Zip_11430  Zip_11432  Zip_11433  Zip_11434  Zip_11435  Zip_11436  \\\n",
       "0          0          0          0          0          0          0   \n",
       "1          0          0          0          0          0          0   \n",
       "2          0          0          0          0          0          0   \n",
       "3          0          0          0          0          0          0   \n",
       "5          0          0          0          0          0          0   \n",
       "\n",
       "   Zip_11691  Zip_11694  Zip_11697  \n",
       "0          0          0          0  \n",
       "1          0          0          0  \n",
       "2          0          0          0  \n",
       "3          0          0          0  \n",
       "5          0          0          0  \n",
       "\n",
       "[5 rows x 179 columns]"
      ]
     },
     "execution_count": 68,
     "metadata": {},
     "output_type": "execute_result"
    }
   ],
   "source": [
    "zip_dum.head()"
   ]
  },
  {
   "cell_type": "code",
   "execution_count": 69,
   "metadata": {
    "ExecuteTime": {
     "end_time": "2016-12-07T15:22:01.202456",
     "start_time": "2016-12-07T15:21:59.598237"
    },
    "collapsed": true
   },
   "outputs": [],
   "source": [
    "# Drop zipcode of 10001\n",
    "# Need to have a separate handler for zipcode with 10001\n",
    "\n",
    "del zip_dum['Zip_10001']"
   ]
  },
  {
   "cell_type": "code",
   "execution_count": 95,
   "metadata": {
    "ExecuteTime": {
     "end_time": "2016-12-07T15:53:04.469150",
     "start_time": "2016-12-07T15:53:04.456980"
    },
    "collapsed": true
   },
   "outputs": [],
   "source": [
    "X_zip_dum = zip_dum.iloc[0,:]\n",
    "\n",
    "with open('/Users/peidacai/Desktop/X_zip_dum.pkl', 'w') as f:\n",
    "    pickle.dump(X_zip_dum, f)"
   ]
  },
  {
   "cell_type": "code",
   "execution_count": 70,
   "metadata": {
    "ExecuteTime": {
     "end_time": "2016-12-07T15:22:01.265981",
     "start_time": "2016-12-07T15:22:01.206378"
    },
    "collapsed": true
   },
   "outputs": [],
   "source": [
    "# Hour 0 is dropped\n",
    "\n",
    "hour_dum = pd.get_dummies(df1['pickup_hour'], prefix='hour')"
   ]
  },
  {
   "cell_type": "code",
   "execution_count": 93,
   "metadata": {
    "ExecuteTime": {
     "end_time": "2016-12-07T15:51:47.832308",
     "start_time": "2016-12-07T15:51:47.826655"
    },
    "collapsed": false
   },
   "outputs": [],
   "source": [
    "X_hour_dum = hour_dum.iloc[0,:]"
   ]
  },
  {
   "cell_type": "code",
   "execution_count": 94,
   "metadata": {
    "ExecuteTime": {
     "end_time": "2016-12-07T15:52:18.971873",
     "start_time": "2016-12-07T15:52:18.962311"
    },
    "collapsed": true
   },
   "outputs": [],
   "source": [
    "with open('/Users/peidacai/Desktop/X_hour_dum.pkl', 'w') as f:\n",
    "    pickle.dump(X_hour_dum, f)"
   ]
  },
  {
   "cell_type": "code",
   "execution_count": 71,
   "metadata": {
    "ExecuteTime": {
     "end_time": "2016-12-07T15:22:01.349584",
     "start_time": "2016-12-07T15:22:01.270569"
    },
    "collapsed": false
   },
   "outputs": [
    {
     "data": {
      "text/html": [
       "<div>\n",
       "<table border=\"1\" class=\"dataframe\">\n",
       "  <thead>\n",
       "    <tr style=\"text-align: right;\">\n",
       "      <th></th>\n",
       "      <th>hour_0</th>\n",
       "      <th>hour_1</th>\n",
       "      <th>hour_2</th>\n",
       "      <th>hour_3</th>\n",
       "      <th>hour_4</th>\n",
       "      <th>hour_5</th>\n",
       "      <th>hour_6</th>\n",
       "      <th>hour_7</th>\n",
       "      <th>hour_8</th>\n",
       "      <th>hour_9</th>\n",
       "      <th>...</th>\n",
       "      <th>hour_14</th>\n",
       "      <th>hour_15</th>\n",
       "      <th>hour_16</th>\n",
       "      <th>hour_17</th>\n",
       "      <th>hour_18</th>\n",
       "      <th>hour_19</th>\n",
       "      <th>hour_20</th>\n",
       "      <th>hour_21</th>\n",
       "      <th>hour_22</th>\n",
       "      <th>hour_23</th>\n",
       "    </tr>\n",
       "  </thead>\n",
       "  <tbody>\n",
       "    <tr>\n",
       "      <th>0</th>\n",
       "      <td>1</td>\n",
       "      <td>0</td>\n",
       "      <td>0</td>\n",
       "      <td>0</td>\n",
       "      <td>0</td>\n",
       "      <td>0</td>\n",
       "      <td>0</td>\n",
       "      <td>0</td>\n",
       "      <td>0</td>\n",
       "      <td>0</td>\n",
       "      <td>...</td>\n",
       "      <td>0</td>\n",
       "      <td>0</td>\n",
       "      <td>0</td>\n",
       "      <td>0</td>\n",
       "      <td>0</td>\n",
       "      <td>0</td>\n",
       "      <td>0</td>\n",
       "      <td>0</td>\n",
       "      <td>0</td>\n",
       "      <td>0</td>\n",
       "    </tr>\n",
       "    <tr>\n",
       "      <th>1</th>\n",
       "      <td>1</td>\n",
       "      <td>0</td>\n",
       "      <td>0</td>\n",
       "      <td>0</td>\n",
       "      <td>0</td>\n",
       "      <td>0</td>\n",
       "      <td>0</td>\n",
       "      <td>0</td>\n",
       "      <td>0</td>\n",
       "      <td>0</td>\n",
       "      <td>...</td>\n",
       "      <td>0</td>\n",
       "      <td>0</td>\n",
       "      <td>0</td>\n",
       "      <td>0</td>\n",
       "      <td>0</td>\n",
       "      <td>0</td>\n",
       "      <td>0</td>\n",
       "      <td>0</td>\n",
       "      <td>0</td>\n",
       "      <td>0</td>\n",
       "    </tr>\n",
       "    <tr>\n",
       "      <th>2</th>\n",
       "      <td>1</td>\n",
       "      <td>0</td>\n",
       "      <td>0</td>\n",
       "      <td>0</td>\n",
       "      <td>0</td>\n",
       "      <td>0</td>\n",
       "      <td>0</td>\n",
       "      <td>0</td>\n",
       "      <td>0</td>\n",
       "      <td>0</td>\n",
       "      <td>...</td>\n",
       "      <td>0</td>\n",
       "      <td>0</td>\n",
       "      <td>0</td>\n",
       "      <td>0</td>\n",
       "      <td>0</td>\n",
       "      <td>0</td>\n",
       "      <td>0</td>\n",
       "      <td>0</td>\n",
       "      <td>0</td>\n",
       "      <td>0</td>\n",
       "    </tr>\n",
       "    <tr>\n",
       "      <th>3</th>\n",
       "      <td>1</td>\n",
       "      <td>0</td>\n",
       "      <td>0</td>\n",
       "      <td>0</td>\n",
       "      <td>0</td>\n",
       "      <td>0</td>\n",
       "      <td>0</td>\n",
       "      <td>0</td>\n",
       "      <td>0</td>\n",
       "      <td>0</td>\n",
       "      <td>...</td>\n",
       "      <td>0</td>\n",
       "      <td>0</td>\n",
       "      <td>0</td>\n",
       "      <td>0</td>\n",
       "      <td>0</td>\n",
       "      <td>0</td>\n",
       "      <td>0</td>\n",
       "      <td>0</td>\n",
       "      <td>0</td>\n",
       "      <td>0</td>\n",
       "    </tr>\n",
       "    <tr>\n",
       "      <th>5</th>\n",
       "      <td>1</td>\n",
       "      <td>0</td>\n",
       "      <td>0</td>\n",
       "      <td>0</td>\n",
       "      <td>0</td>\n",
       "      <td>0</td>\n",
       "      <td>0</td>\n",
       "      <td>0</td>\n",
       "      <td>0</td>\n",
       "      <td>0</td>\n",
       "      <td>...</td>\n",
       "      <td>0</td>\n",
       "      <td>0</td>\n",
       "      <td>0</td>\n",
       "      <td>0</td>\n",
       "      <td>0</td>\n",
       "      <td>0</td>\n",
       "      <td>0</td>\n",
       "      <td>0</td>\n",
       "      <td>0</td>\n",
       "      <td>0</td>\n",
       "    </tr>\n",
       "  </tbody>\n",
       "</table>\n",
       "<p>5 rows × 24 columns</p>\n",
       "</div>"
      ],
      "text/plain": [
       "   hour_0  hour_1  hour_2  hour_3  hour_4  hour_5  hour_6  hour_7  hour_8  \\\n",
       "0       1       0       0       0       0       0       0       0       0   \n",
       "1       1       0       0       0       0       0       0       0       0   \n",
       "2       1       0       0       0       0       0       0       0       0   \n",
       "3       1       0       0       0       0       0       0       0       0   \n",
       "5       1       0       0       0       0       0       0       0       0   \n",
       "\n",
       "   hour_9   ...     hour_14  hour_15  hour_16  hour_17  hour_18  hour_19  \\\n",
       "0       0   ...           0        0        0        0        0        0   \n",
       "1       0   ...           0        0        0        0        0        0   \n",
       "2       0   ...           0        0        0        0        0        0   \n",
       "3       0   ...           0        0        0        0        0        0   \n",
       "5       0   ...           0        0        0        0        0        0   \n",
       "\n",
       "   hour_20  hour_21  hour_22  hour_23  \n",
       "0        0        0        0        0  \n",
       "1        0        0        0        0  \n",
       "2        0        0        0        0  \n",
       "3        0        0        0        0  \n",
       "5        0        0        0        0  \n",
       "\n",
       "[5 rows x 24 columns]"
      ]
     },
     "execution_count": 71,
     "metadata": {},
     "output_type": "execute_result"
    }
   ],
   "source": [
    "hour_dum.head()"
   ]
  },
  {
   "cell_type": "code",
   "execution_count": 72,
   "metadata": {
    "ExecuteTime": {
     "end_time": "2016-12-07T15:22:01.448369",
     "start_time": "2016-12-07T15:22:01.355241"
    },
    "collapsed": true
   },
   "outputs": [],
   "source": [
    "del hour_dum['hour_0']"
   ]
  },
  {
   "cell_type": "code",
   "execution_count": 73,
   "metadata": {
    "ExecuteTime": {
     "end_time": "2016-12-07T15:22:01.598607",
     "start_time": "2016-12-07T15:22:01.558156"
    },
    "collapsed": true
   },
   "outputs": [],
   "source": [
    "# Sunday is dropped\n",
    "\n",
    "dow_dum = pd.get_dummies(df1['day_of_week'], prefix='dow')"
   ]
  },
  {
   "cell_type": "code",
   "execution_count": 74,
   "metadata": {
    "ExecuteTime": {
     "end_time": "2016-12-07T15:22:02.238885",
     "start_time": "2016-12-07T15:22:02.212916"
    },
    "collapsed": false
   },
   "outputs": [
    {
     "data": {
      "text/html": [
       "<div>\n",
       "<table border=\"1\" class=\"dataframe\">\n",
       "  <thead>\n",
       "    <tr style=\"text-align: right;\">\n",
       "      <th></th>\n",
       "      <th>dow_0</th>\n",
       "      <th>dow_1</th>\n",
       "      <th>dow_2</th>\n",
       "      <th>dow_3</th>\n",
       "      <th>dow_4</th>\n",
       "      <th>dow_5</th>\n",
       "      <th>dow_6</th>\n",
       "    </tr>\n",
       "  </thead>\n",
       "  <tbody>\n",
       "    <tr>\n",
       "      <th>0</th>\n",
       "      <td>0</td>\n",
       "      <td>0</td>\n",
       "      <td>1</td>\n",
       "      <td>0</td>\n",
       "      <td>0</td>\n",
       "      <td>0</td>\n",
       "      <td>0</td>\n",
       "    </tr>\n",
       "    <tr>\n",
       "      <th>1</th>\n",
       "      <td>0</td>\n",
       "      <td>0</td>\n",
       "      <td>1</td>\n",
       "      <td>0</td>\n",
       "      <td>0</td>\n",
       "      <td>0</td>\n",
       "      <td>0</td>\n",
       "    </tr>\n",
       "    <tr>\n",
       "      <th>2</th>\n",
       "      <td>0</td>\n",
       "      <td>0</td>\n",
       "      <td>1</td>\n",
       "      <td>0</td>\n",
       "      <td>0</td>\n",
       "      <td>0</td>\n",
       "      <td>0</td>\n",
       "    </tr>\n",
       "    <tr>\n",
       "      <th>3</th>\n",
       "      <td>0</td>\n",
       "      <td>0</td>\n",
       "      <td>1</td>\n",
       "      <td>0</td>\n",
       "      <td>0</td>\n",
       "      <td>0</td>\n",
       "      <td>0</td>\n",
       "    </tr>\n",
       "    <tr>\n",
       "      <th>5</th>\n",
       "      <td>0</td>\n",
       "      <td>0</td>\n",
       "      <td>1</td>\n",
       "      <td>0</td>\n",
       "      <td>0</td>\n",
       "      <td>0</td>\n",
       "      <td>0</td>\n",
       "    </tr>\n",
       "  </tbody>\n",
       "</table>\n",
       "</div>"
      ],
      "text/plain": [
       "   dow_0  dow_1  dow_2  dow_3  dow_4  dow_5  dow_6\n",
       "0      0      0      1      0      0      0      0\n",
       "1      0      0      1      0      0      0      0\n",
       "2      0      0      1      0      0      0      0\n",
       "3      0      0      1      0      0      0      0\n",
       "5      0      0      1      0      0      0      0"
      ]
     },
     "execution_count": 74,
     "metadata": {},
     "output_type": "execute_result"
    }
   ],
   "source": [
    "dow_dum.head()"
   ]
  },
  {
   "cell_type": "code",
   "execution_count": 75,
   "metadata": {
    "ExecuteTime": {
     "end_time": "2016-12-07T15:22:02.750612",
     "start_time": "2016-12-07T15:22:02.738652"
    },
    "collapsed": true
   },
   "outputs": [],
   "source": [
    "del dow_dum['dow_0']"
   ]
  },
  {
   "cell_type": "code",
   "execution_count": 96,
   "metadata": {
    "ExecuteTime": {
     "end_time": "2016-12-07T15:53:33.308916",
     "start_time": "2016-12-07T15:53:33.298382"
    },
    "collapsed": true
   },
   "outputs": [],
   "source": [
    "X_dow_dum = dow_dum.iloc[0,:]\n",
    "\n",
    "with open('/Users/peidacai/Desktop/X_dow_dum.pkl', 'w') as f:\n",
    "    pickle.dump(X_dow_dum, f)"
   ]
  },
  {
   "cell_type": "code",
   "execution_count": 101,
   "metadata": {
    "ExecuteTime": {
     "end_time": "2016-12-07T15:56:50.362140",
     "start_time": "2016-12-07T15:56:50.092154"
    },
    "collapsed": true
   },
   "outputs": [],
   "source": [
    "X = pd.concat([hour_dum, dow_dum, zip_dum], axis =1)\n",
    "y = df1['tip_percent']"
   ]
  },
  {
   "cell_type": "code",
   "execution_count": 102,
   "metadata": {
    "ExecuteTime": {
     "end_time": "2016-12-07T15:56:50.966695",
     "start_time": "2016-12-07T15:56:50.958091"
    },
    "collapsed": false
   },
   "outputs": [
    {
     "data": {
      "text/plain": [
       "(804493, 207)"
      ]
     },
     "execution_count": 102,
     "metadata": {},
     "output_type": "execute_result"
    }
   ],
   "source": [
    "X.shape"
   ]
  },
  {
   "cell_type": "code",
   "execution_count": 34,
   "metadata": {
    "ExecuteTime": {
     "end_time": "2016-12-07T14:47:15.283345",
     "start_time": "2016-12-07T14:46:16.888825"
    },
    "collapsed": true
   },
   "outputs": [],
   "source": [
    "with open('/Users/peidacai/Desktop/X.pkl', 'w') as f:\n",
    "    pickle.dump(X, f)"
   ]
  },
  {
   "cell_type": "markdown",
   "metadata": {},
   "source": [
    "## Modeling"
   ]
  },
  {
   "cell_type": "code",
   "execution_count": 41,
   "metadata": {
    "ExecuteTime": {
     "end_time": "2016-12-07T14:55:23.737835",
     "start_time": "2016-12-07T14:55:23.729955"
    },
    "collapsed": true
   },
   "outputs": [],
   "source": [
    "from sklearn.linear_model import LinearRegression\n",
    "from sklearn.ensemble import RandomForestRegressor, ExtraTreesRegressor, GradientBoostingRegressor, AdaBoostRegressor\n",
    "from sklearn.neighbors import KNeighborsRegressor\n",
    "from sklearn.svm import SVR\n",
    "\n",
    "from sklearn.model_selection import cross_val_score, train_test_split"
   ]
  },
  {
   "cell_type": "code",
   "execution_count": 39,
   "metadata": {
    "ExecuteTime": {
     "end_time": "2016-12-07T14:50:10.084288",
     "start_time": "2016-12-07T14:50:10.079343"
    },
    "collapsed": true
   },
   "outputs": [],
   "source": [
    "rand = 44"
   ]
  },
  {
   "cell_type": "code",
   "execution_count": 42,
   "metadata": {
    "ExecuteTime": {
     "end_time": "2016-12-07T14:56:01.651902",
     "start_time": "2016-12-07T14:56:01.643590"
    },
    "collapsed": false
   },
   "outputs": [],
   "source": [
    "# Regressors models\n",
    "\n",
    "rfr = RandomForestRegressor(random_state=rand)\n",
    "#etr = ExtraTreesRegressor(random_state=rand)\n",
    "#adar = AdaBoostRegressor(random_state=rand)\n",
    "gbr = GradientBoostingRegressor(random_state=rand)\n",
    "linr = LinearRegression()\n",
    "#knnr = KNeighborsRegressor()\n",
    "#svr = SVR()"
   ]
  },
  {
   "cell_type": "code",
   "execution_count": 153,
   "metadata": {
    "ExecuteTime": {
     "end_time": "2016-12-07T16:48:59.956657",
     "start_time": "2016-12-07T16:35:48.588499"
    },
    "collapsed": false
   },
   "outputs": [],
   "source": [
    "# List of different scaling methods\n",
    "score = cross_val_score(gbr, X, y, cv =3, scoring = 'neg_mean_squared_error')"
   ]
  },
  {
   "cell_type": "code",
   "execution_count": 154,
   "metadata": {
    "ExecuteTime": {
     "end_time": "2016-12-07T16:48:59.977079",
     "start_time": "2016-12-07T16:48:59.964280"
    },
    "collapsed": false
   },
   "outputs": [
    {
     "data": {
      "text/plain": [
       "7.1289422991295703"
      ]
     },
     "execution_count": 154,
     "metadata": {},
     "output_type": "execute_result"
    }
   ],
   "source": [
    "np.sqrt(abs(score.mean()))"
   ]
  },
  {
   "cell_type": "code",
   "execution_count": 155,
   "metadata": {
    "ExecuteTime": {
     "end_time": "2016-12-07T17:02:47.576825",
     "start_time": "2016-12-07T16:50:27.700149"
    },
    "collapsed": true
   },
   "outputs": [],
   "source": [
    "# List of different scaling methods\n",
    "score = cross_val_score(rfr, X, y, cv =3, scoring = 'neg_mean_squared_error')"
   ]
  },
  {
   "cell_type": "code",
   "execution_count": 156,
   "metadata": {
    "ExecuteTime": {
     "end_time": "2016-12-07T17:02:47.589689",
     "start_time": "2016-12-07T17:02:47.579590"
    },
    "collapsed": false
   },
   "outputs": [
    {
     "data": {
      "text/plain": [
       "7.2316324829686618"
      ]
     },
     "execution_count": 156,
     "metadata": {},
     "output_type": "execute_result"
    }
   ],
   "source": [
    "np.sqrt(abs(score.mean()))"
   ]
  },
  {
   "cell_type": "code",
   "execution_count": 157,
   "metadata": {
    "ExecuteTime": {
     "end_time": "2016-12-07T17:04:49.931075",
     "start_time": "2016-12-07T17:04:07.609378"
    },
    "collapsed": true
   },
   "outputs": [],
   "source": [
    "# List of different scaling methods\n",
    "score = cross_val_score(linr, X, y, cv =3, scoring = 'neg_mean_squared_error')"
   ]
  },
  {
   "cell_type": "code",
   "execution_count": 158,
   "metadata": {
    "ExecuteTime": {
     "end_time": "2016-12-07T17:04:49.953699",
     "start_time": "2016-12-07T17:04:49.937342"
    },
    "collapsed": false
   },
   "outputs": [
    {
     "data": {
      "text/plain": [
       "7.1279707385945681"
      ]
     },
     "execution_count": 158,
     "metadata": {},
     "output_type": "execute_result"
    }
   ],
   "source": [
    "np.sqrt(abs(score.mean()))"
   ]
  },
  {
   "cell_type": "code",
   "execution_count": 159,
   "metadata": {
    "ExecuteTime": {
     "end_time": "2016-12-07T17:05:52.793021",
     "start_time": "2016-12-07T17:05:52.697426"
    },
    "collapsed": false
   },
   "outputs": [
    {
     "data": {
      "text/plain": [
       "0          20.000000\n",
       "1          25.060241\n",
       "2          18.045113\n",
       "3          19.892473\n",
       "5          20.000000\n",
       "7          25.000000\n",
       "8          20.000000\n",
       "10         14.563107\n",
       "13         20.000000\n",
       "14         20.000000\n",
       "15         30.000000\n",
       "16          8.474576\n",
       "21         19.907407\n",
       "22         20.000000\n",
       "23         29.787234\n",
       "24          4.694836\n",
       "25         16.853933\n",
       "26         25.000000\n",
       "28         20.000000\n",
       "29         19.918699\n",
       "30         20.000000\n",
       "31         30.000000\n",
       "32         19.942197\n",
       "33         20.000000\n",
       "34         12.781955\n",
       "35         19.879518\n",
       "36          7.246377\n",
       "38         52.083333\n",
       "39          2.040816\n",
       "42         12.970169\n",
       "             ...    \n",
       "1330693    19.907407\n",
       "1330694    12.048193\n",
       "1330695    20.000000\n",
       "1330699    20.000000\n",
       "1330701    15.822785\n",
       "1330704    19.927536\n",
       "1330705    19.871795\n",
       "1330706    20.000000\n",
       "1330708    20.000000\n",
       "1330709    13.793103\n",
       "1330711    25.000000\n",
       "1330712    20.000000\n",
       "1330713    19.927536\n",
       "1330714    10.000000\n",
       "1330715    13.698630\n",
       "1330717    18.072289\n",
       "1330718    20.005356\n",
       "1330719    25.000000\n",
       "1330720    20.000000\n",
       "1330721    15.873016\n",
       "1330722    20.000000\n",
       "1330723    20.000000\n",
       "1330724    13.071895\n",
       "1330725     4.926108\n",
       "1330727    20.000000\n",
       "1330729    20.000000\n",
       "1330730     5.434783\n",
       "1330731    15.037594\n",
       "1330732    24.846626\n",
       "1330738    15.606936\n",
       "Name: tip_percent, dtype: float64"
      ]
     },
     "execution_count": 159,
     "metadata": {},
     "output_type": "execute_result"
    }
   ],
   "source": []
  },
  {
   "cell_type": "code",
   "execution_count": 160,
   "metadata": {
    "ExecuteTime": {
     "end_time": "2016-12-07T17:07:31.848766",
     "start_time": "2016-12-07T17:07:31.844203"
    },
    "collapsed": false
   },
   "outputs": [],
   "source": [
    "clf = linr"
   ]
  },
  {
   "cell_type": "code",
   "execution_count": 161,
   "metadata": {
    "ExecuteTime": {
     "end_time": "2016-12-07T17:07:51.885072",
     "start_time": "2016-12-07T17:07:32.463776"
    },
    "collapsed": false
   },
   "outputs": [
    {
     "data": {
      "text/plain": [
       "LinearRegression(copy_X=True, fit_intercept=True, n_jobs=1, normalize=False)"
      ]
     },
     "execution_count": 161,
     "metadata": {},
     "output_type": "execute_result"
    }
   ],
   "source": [
    "clf.fit(X,y)"
   ]
  },
  {
   "cell_type": "code",
   "execution_count": 164,
   "metadata": {
    "ExecuteTime": {
     "end_time": "2016-12-07T17:08:14.385762",
     "start_time": "2016-12-07T17:08:14.379803"
    },
    "collapsed": false
   },
   "outputs": [],
   "source": [
    "X_test = X.head(1)"
   ]
  },
  {
   "cell_type": "code",
   "execution_count": 167,
   "metadata": {
    "ExecuteTime": {
     "end_time": "2016-12-07T17:09:15.141945",
     "start_time": "2016-12-07T17:09:15.131529"
    },
    "collapsed": false
   },
   "outputs": [
    {
     "data": {
      "text/plain": [
       "array([ 19.38008345])"
      ]
     },
     "execution_count": 167,
     "metadata": {},
     "output_type": "execute_result"
    }
   ],
   "source": [
    "clf.predict(X_test)"
   ]
  },
  {
   "cell_type": "code",
   "execution_count": 171,
   "metadata": {
    "ExecuteTime": {
     "end_time": "2016-12-07T17:26:07.965953",
     "start_time": "2016-12-07T17:26:07.579004"
    },
    "collapsed": false
   },
   "outputs": [
    {
     "ename": "KeyError",
     "evalue": "0",
     "output_type": "error",
     "traceback": [
      "\u001b[0;31m---------------------------------------------------------------------------\u001b[0m",
      "\u001b[0;31mKeyError\u001b[0m                                  Traceback (most recent call last)",
      "\u001b[0;32m<ipython-input-171-cab46bb83587>\u001b[0m in \u001b[0;36m<module>\u001b[0;34m()\u001b[0m\n\u001b[0;32m----> 1\u001b[0;31m \u001b[0mX_test\u001b[0m\u001b[0;34m[\u001b[0m\u001b[0;36m0\u001b[0m\u001b[0;34m]\u001b[0m\u001b[0;34m\u001b[0m\u001b[0m\n\u001b[0m",
      "\u001b[0;32m//anaconda/lib/python2.7/site-packages/pandas/core/frame.pyc\u001b[0m in \u001b[0;36m__getitem__\u001b[0;34m(self, key)\u001b[0m\n\u001b[1;32m   2057\u001b[0m             \u001b[0;32mreturn\u001b[0m \u001b[0mself\u001b[0m\u001b[0;34m.\u001b[0m\u001b[0m_getitem_multilevel\u001b[0m\u001b[0;34m(\u001b[0m\u001b[0mkey\u001b[0m\u001b[0;34m)\u001b[0m\u001b[0;34m\u001b[0m\u001b[0m\n\u001b[1;32m   2058\u001b[0m         \u001b[0;32melse\u001b[0m\u001b[0;34m:\u001b[0m\u001b[0;34m\u001b[0m\u001b[0m\n\u001b[0;32m-> 2059\u001b[0;31m             \u001b[0;32mreturn\u001b[0m \u001b[0mself\u001b[0m\u001b[0;34m.\u001b[0m\u001b[0m_getitem_column\u001b[0m\u001b[0;34m(\u001b[0m\u001b[0mkey\u001b[0m\u001b[0;34m)\u001b[0m\u001b[0;34m\u001b[0m\u001b[0m\n\u001b[0m\u001b[1;32m   2060\u001b[0m \u001b[0;34m\u001b[0m\u001b[0m\n\u001b[1;32m   2061\u001b[0m     \u001b[0;32mdef\u001b[0m \u001b[0m_getitem_column\u001b[0m\u001b[0;34m(\u001b[0m\u001b[0mself\u001b[0m\u001b[0;34m,\u001b[0m \u001b[0mkey\u001b[0m\u001b[0;34m)\u001b[0m\u001b[0;34m:\u001b[0m\u001b[0;34m\u001b[0m\u001b[0m\n",
      "\u001b[0;32m//anaconda/lib/python2.7/site-packages/pandas/core/frame.pyc\u001b[0m in \u001b[0;36m_getitem_column\u001b[0;34m(self, key)\u001b[0m\n\u001b[1;32m   2064\u001b[0m         \u001b[0;31m# get column\u001b[0m\u001b[0;34m\u001b[0m\u001b[0;34m\u001b[0m\u001b[0m\n\u001b[1;32m   2065\u001b[0m         \u001b[0;32mif\u001b[0m \u001b[0mself\u001b[0m\u001b[0;34m.\u001b[0m\u001b[0mcolumns\u001b[0m\u001b[0;34m.\u001b[0m\u001b[0mis_unique\u001b[0m\u001b[0;34m:\u001b[0m\u001b[0;34m\u001b[0m\u001b[0m\n\u001b[0;32m-> 2066\u001b[0;31m             \u001b[0;32mreturn\u001b[0m \u001b[0mself\u001b[0m\u001b[0;34m.\u001b[0m\u001b[0m_get_item_cache\u001b[0m\u001b[0;34m(\u001b[0m\u001b[0mkey\u001b[0m\u001b[0;34m)\u001b[0m\u001b[0;34m\u001b[0m\u001b[0m\n\u001b[0m\u001b[1;32m   2067\u001b[0m \u001b[0;34m\u001b[0m\u001b[0m\n\u001b[1;32m   2068\u001b[0m         \u001b[0;31m# duplicate columns & possible reduce dimensionality\u001b[0m\u001b[0;34m\u001b[0m\u001b[0;34m\u001b[0m\u001b[0m\n",
      "\u001b[0;32m//anaconda/lib/python2.7/site-packages/pandas/core/generic.pyc\u001b[0m in \u001b[0;36m_get_item_cache\u001b[0;34m(self, item)\u001b[0m\n\u001b[1;32m   1384\u001b[0m         \u001b[0mres\u001b[0m \u001b[0;34m=\u001b[0m \u001b[0mcache\u001b[0m\u001b[0;34m.\u001b[0m\u001b[0mget\u001b[0m\u001b[0;34m(\u001b[0m\u001b[0mitem\u001b[0m\u001b[0;34m)\u001b[0m\u001b[0;34m\u001b[0m\u001b[0m\n\u001b[1;32m   1385\u001b[0m         \u001b[0;32mif\u001b[0m \u001b[0mres\u001b[0m \u001b[0;32mis\u001b[0m \u001b[0mNone\u001b[0m\u001b[0;34m:\u001b[0m\u001b[0;34m\u001b[0m\u001b[0m\n\u001b[0;32m-> 1386\u001b[0;31m             \u001b[0mvalues\u001b[0m \u001b[0;34m=\u001b[0m \u001b[0mself\u001b[0m\u001b[0;34m.\u001b[0m\u001b[0m_data\u001b[0m\u001b[0;34m.\u001b[0m\u001b[0mget\u001b[0m\u001b[0;34m(\u001b[0m\u001b[0mitem\u001b[0m\u001b[0;34m)\u001b[0m\u001b[0;34m\u001b[0m\u001b[0m\n\u001b[0m\u001b[1;32m   1387\u001b[0m             \u001b[0mres\u001b[0m \u001b[0;34m=\u001b[0m \u001b[0mself\u001b[0m\u001b[0;34m.\u001b[0m\u001b[0m_box_item_values\u001b[0m\u001b[0;34m(\u001b[0m\u001b[0mitem\u001b[0m\u001b[0;34m,\u001b[0m \u001b[0mvalues\u001b[0m\u001b[0;34m)\u001b[0m\u001b[0;34m\u001b[0m\u001b[0m\n\u001b[1;32m   1388\u001b[0m             \u001b[0mcache\u001b[0m\u001b[0;34m[\u001b[0m\u001b[0mitem\u001b[0m\u001b[0;34m]\u001b[0m \u001b[0;34m=\u001b[0m \u001b[0mres\u001b[0m\u001b[0;34m\u001b[0m\u001b[0m\n",
      "\u001b[0;32m//anaconda/lib/python2.7/site-packages/pandas/core/internals.pyc\u001b[0m in \u001b[0;36mget\u001b[0;34m(self, item, fastpath)\u001b[0m\n\u001b[1;32m   3539\u001b[0m \u001b[0;34m\u001b[0m\u001b[0m\n\u001b[1;32m   3540\u001b[0m             \u001b[0;32mif\u001b[0m \u001b[0;32mnot\u001b[0m \u001b[0misnull\u001b[0m\u001b[0;34m(\u001b[0m\u001b[0mitem\u001b[0m\u001b[0;34m)\u001b[0m\u001b[0;34m:\u001b[0m\u001b[0;34m\u001b[0m\u001b[0m\n\u001b[0;32m-> 3541\u001b[0;31m                 \u001b[0mloc\u001b[0m \u001b[0;34m=\u001b[0m \u001b[0mself\u001b[0m\u001b[0;34m.\u001b[0m\u001b[0mitems\u001b[0m\u001b[0;34m.\u001b[0m\u001b[0mget_loc\u001b[0m\u001b[0;34m(\u001b[0m\u001b[0mitem\u001b[0m\u001b[0;34m)\u001b[0m\u001b[0;34m\u001b[0m\u001b[0m\n\u001b[0m\u001b[1;32m   3542\u001b[0m             \u001b[0;32melse\u001b[0m\u001b[0;34m:\u001b[0m\u001b[0;34m\u001b[0m\u001b[0m\n\u001b[1;32m   3543\u001b[0m                 \u001b[0mindexer\u001b[0m \u001b[0;34m=\u001b[0m \u001b[0mnp\u001b[0m\u001b[0;34m.\u001b[0m\u001b[0marange\u001b[0m\u001b[0;34m(\u001b[0m\u001b[0mlen\u001b[0m\u001b[0;34m(\u001b[0m\u001b[0mself\u001b[0m\u001b[0;34m.\u001b[0m\u001b[0mitems\u001b[0m\u001b[0;34m)\u001b[0m\u001b[0;34m)\u001b[0m\u001b[0;34m[\u001b[0m\u001b[0misnull\u001b[0m\u001b[0;34m(\u001b[0m\u001b[0mself\u001b[0m\u001b[0;34m.\u001b[0m\u001b[0mitems\u001b[0m\u001b[0;34m)\u001b[0m\u001b[0;34m]\u001b[0m\u001b[0;34m\u001b[0m\u001b[0m\n",
      "\u001b[0;32m//anaconda/lib/python2.7/site-packages/pandas/indexes/base.pyc\u001b[0m in \u001b[0;36mget_loc\u001b[0;34m(self, key, method, tolerance)\u001b[0m\n\u001b[1;32m   2134\u001b[0m                 \u001b[0;32mreturn\u001b[0m \u001b[0mself\u001b[0m\u001b[0;34m.\u001b[0m\u001b[0m_engine\u001b[0m\u001b[0;34m.\u001b[0m\u001b[0mget_loc\u001b[0m\u001b[0;34m(\u001b[0m\u001b[0mkey\u001b[0m\u001b[0;34m)\u001b[0m\u001b[0;34m\u001b[0m\u001b[0m\n\u001b[1;32m   2135\u001b[0m             \u001b[0;32mexcept\u001b[0m \u001b[0mKeyError\u001b[0m\u001b[0;34m:\u001b[0m\u001b[0;34m\u001b[0m\u001b[0m\n\u001b[0;32m-> 2136\u001b[0;31m                 \u001b[0;32mreturn\u001b[0m \u001b[0mself\u001b[0m\u001b[0;34m.\u001b[0m\u001b[0m_engine\u001b[0m\u001b[0;34m.\u001b[0m\u001b[0mget_loc\u001b[0m\u001b[0;34m(\u001b[0m\u001b[0mself\u001b[0m\u001b[0;34m.\u001b[0m\u001b[0m_maybe_cast_indexer\u001b[0m\u001b[0;34m(\u001b[0m\u001b[0mkey\u001b[0m\u001b[0;34m)\u001b[0m\u001b[0;34m)\u001b[0m\u001b[0;34m\u001b[0m\u001b[0m\n\u001b[0m\u001b[1;32m   2137\u001b[0m \u001b[0;34m\u001b[0m\u001b[0m\n\u001b[1;32m   2138\u001b[0m         \u001b[0mindexer\u001b[0m \u001b[0;34m=\u001b[0m \u001b[0mself\u001b[0m\u001b[0;34m.\u001b[0m\u001b[0mget_indexer\u001b[0m\u001b[0;34m(\u001b[0m\u001b[0;34m[\u001b[0m\u001b[0mkey\u001b[0m\u001b[0;34m]\u001b[0m\u001b[0;34m,\u001b[0m \u001b[0mmethod\u001b[0m\u001b[0;34m=\u001b[0m\u001b[0mmethod\u001b[0m\u001b[0;34m,\u001b[0m \u001b[0mtolerance\u001b[0m\u001b[0;34m=\u001b[0m\u001b[0mtolerance\u001b[0m\u001b[0;34m)\u001b[0m\u001b[0;34m\u001b[0m\u001b[0m\n",
      "\u001b[0;32mpandas/index.pyx\u001b[0m in \u001b[0;36mpandas.index.IndexEngine.get_loc (pandas/index.c:4443)\u001b[0;34m()\u001b[0m\n",
      "\u001b[0;32mpandas/index.pyx\u001b[0m in \u001b[0;36mpandas.index.IndexEngine.get_loc (pandas/index.c:4289)\u001b[0;34m()\u001b[0m\n",
      "\u001b[0;32mpandas/src/hashtable_class_helper.pxi\u001b[0m in \u001b[0;36mpandas.hashtable.PyObjectHashTable.get_item (pandas/hashtable.c:13733)\u001b[0;34m()\u001b[0m\n",
      "\u001b[0;32mpandas/src/hashtable_class_helper.pxi\u001b[0m in \u001b[0;36mpandas.hashtable.PyObjectHashTable.get_item (pandas/hashtable.c:13687)\u001b[0;34m()\u001b[0m\n",
      "\u001b[0;31mKeyError\u001b[0m: 0"
     ]
    }
   ],
   "source": [
    "X_test"
   ]
  },
  {
   "cell_type": "code",
   "execution_count": 152,
   "metadata": {
    "ExecuteTime": {
     "end_time": "2016-12-07T16:35:07.832057",
     "start_time": "2016-12-07T16:35:07.775367"
    },
    "collapsed": true
   },
   "outputs": [],
   "source": [
    "with open('/Users/peidacai/Desktop/tips_model.pkl', 'w') as f:\n",
    "    pickle.dump(clf, f)"
   ]
  },
  {
   "cell_type": "code",
   "execution_count": 172,
   "metadata": {
    "ExecuteTime": {
     "end_time": "2016-12-07T19:16:09.177826",
     "start_time": "2016-12-07T19:16:09.152284"
    },
    "collapsed": true
   },
   "outputs": [],
   "source": [
    "y = df1['Avg_spd']"
   ]
  },
  {
   "cell_type": "code",
   "execution_count": 174,
   "metadata": {
    "ExecuteTime": {
     "end_time": "2016-12-07T19:16:45.135334",
     "start_time": "2016-12-07T19:16:21.083088"
    },
    "collapsed": false
   },
   "outputs": [
    {
     "data": {
      "text/plain": [
       "LinearRegression(copy_X=True, fit_intercept=True, n_jobs=1, normalize=False)"
      ]
     },
     "execution_count": 174,
     "metadata": {},
     "output_type": "execute_result"
    }
   ],
   "source": [
    "clf.fit(X,y)"
   ]
  },
  {
   "cell_type": "code",
   "execution_count": 175,
   "metadata": {
    "ExecuteTime": {
     "end_time": "2016-12-07T19:16:45.237367",
     "start_time": "2016-12-07T19:16:45.142686"
    },
    "collapsed": true
   },
   "outputs": [],
   "source": [
    "with open('/Users/peidacai/Desktop/spd_model.pkl', 'w') as f:\n",
    "    pickle.dump(clf, f)"
   ]
  },
  {
   "cell_type": "code",
   "execution_count": 50,
   "metadata": {
    "ExecuteTime": {
     "end_time": "2016-12-07T15:06:42.129232",
     "start_time": "2016-12-07T15:06:42.116195"
    },
    "collapsed": true
   },
   "outputs": [],
   "source": [
    "y = df1['total_amount']"
   ]
  },
  {
   "cell_type": "code",
   "execution_count": 51,
   "metadata": {
    "ExecuteTime": {
     "end_time": "2016-12-07T15:07:24.724565",
     "start_time": "2016-12-07T15:06:48.182392"
    },
    "collapsed": false
   },
   "outputs": [
    {
     "data": {
      "text/plain": [
       "LinearRegression(copy_X=True, fit_intercept=True, n_jobs=1, normalize=False)"
      ]
     },
     "execution_count": 51,
     "metadata": {},
     "output_type": "execute_result"
    }
   ],
   "source": [
    "clf.fit(X,y)"
   ]
  },
  {
   "cell_type": "code",
   "execution_count": 52,
   "metadata": {
    "ExecuteTime": {
     "end_time": "2016-12-07T15:07:24.745003",
     "start_time": "2016-12-07T15:07:24.729868"
    },
    "collapsed": true
   },
   "outputs": [],
   "source": [
    "with open('/Users/peidacai/Desktop/fare.pkl', 'w') as f:\n",
    "    pickle.dump(clf, f)"
   ]
  },
  {
   "cell_type": "markdown",
   "metadata": {},
   "source": [
    "## Restricted df1 to only required columns"
   ]
  },
  {
   "cell_type": "code",
   "execution_count": 114,
   "metadata": {
    "ExecuteTime": {
     "end_time": "2016-12-07T16:12:31.110225",
     "start_time": "2016-12-07T16:12:31.077820"
    },
    "collapsed": false
   },
   "outputs": [],
   "source": [
    "df2 = df1[['Avg_spd', 'tip_percent', 'total_amount', 'trip_distance', 'zipcode', 'pickup_hour', 'day_of_week']]"
   ]
  },
  {
   "cell_type": "code",
   "execution_count": 115,
   "metadata": {
    "ExecuteTime": {
     "end_time": "2016-12-07T16:13:31.714161",
     "start_time": "2016-12-07T16:13:31.704673"
    },
    "collapsed": false
   },
   "outputs": [
    {
     "data": {
      "text/plain": [
       "12.377427093820938"
      ]
     },
     "execution_count": 115,
     "metadata": {},
     "output_type": "execute_result"
    }
   ],
   "source": [
    "df2['Avg_spd'].mean()"
   ]
  },
  {
   "cell_type": "code",
   "execution_count": 176,
   "metadata": {
    "ExecuteTime": {
     "end_time": "2016-12-07T19:17:55.028868",
     "start_time": "2016-12-07T19:17:55.016253"
    },
    "collapsed": false
   },
   "outputs": [
    {
     "data": {
      "text/plain": [
       "(804493, 7)"
      ]
     },
     "execution_count": 176,
     "metadata": {},
     "output_type": "execute_result"
    }
   ],
   "source": [
    "df2.shape"
   ]
  },
  {
   "cell_type": "code",
   "execution_count": 177,
   "metadata": {
    "ExecuteTime": {
     "end_time": "2016-12-07T19:19:29.500343",
     "start_time": "2016-12-07T19:19:20.985296"
    },
    "collapsed": true
   },
   "outputs": [],
   "source": [
    "with open('/Users/peidacai/Desktop/small_df.pkl', 'w') as f:\n",
    "    pickle.dump(df2,f)"
   ]
  },
  {
   "cell_type": "code",
   "execution_count": 119,
   "metadata": {
    "ExecuteTime": {
     "end_time": "2016-12-07T16:17:45.999333",
     "start_time": "2016-12-07T16:17:45.994532"
    },
    "collapsed": true
   },
   "outputs": [],
   "source": [
    "d['Avg_spd'] = 12"
   ]
  },
  {
   "cell_type": "code",
   "execution_count": 120,
   "metadata": {
    "ExecuteTime": {
     "end_time": "2016-12-07T16:17:48.810086",
     "start_time": "2016-12-07T16:17:48.802149"
    },
    "collapsed": false
   },
   "outputs": [
    {
     "data": {
      "text/plain": [
       "{'Avg_spd': 12}"
      ]
     },
     "execution_count": 120,
     "metadata": {},
     "output_type": "execute_result"
    }
   ],
   "source": [
    "d"
   ]
  },
  {
   "cell_type": "code",
   "execution_count": 128,
   "metadata": {
    "ExecuteTime": {
     "end_time": "2016-12-07T16:21:25.767740",
     "start_time": "2016-12-07T16:21:25.727361"
    },
    "collapsed": false
   },
   "outputs": [
    {
     "data": {
      "text/html": [
       "<div>\n",
       "<table border=\"1\" class=\"dataframe\">\n",
       "  <thead>\n",
       "    <tr style=\"text-align: right;\">\n",
       "      <th></th>\n",
       "      <th>Avg_spd</th>\n",
       "      <th>tip_percent</th>\n",
       "      <th>total_amount</th>\n",
       "      <th>trip_distance</th>\n",
       "      <th>zipcode</th>\n",
       "      <th>pickup_hour</th>\n",
       "      <th>day_of_week</th>\n",
       "    </tr>\n",
       "  </thead>\n",
       "  <tbody>\n",
       "    <tr>\n",
       "      <th>0</th>\n",
       "      <td>18.000000</td>\n",
       "      <td>20.000000</td>\n",
       "      <td>11.76</td>\n",
       "      <td>2.10</td>\n",
       "      <td>10003</td>\n",
       "      <td>0</td>\n",
       "      <td>2</td>\n",
       "    </tr>\n",
       "    <tr>\n",
       "      <th>1</th>\n",
       "      <td>10.114286</td>\n",
       "      <td>25.060241</td>\n",
       "      <td>10.38</td>\n",
       "      <td>1.18</td>\n",
       "      <td>10014</td>\n",
       "      <td>0</td>\n",
       "      <td>2</td>\n",
       "    </tr>\n",
       "    <tr>\n",
       "      <th>2</th>\n",
       "      <td>16.909091</td>\n",
       "      <td>18.045113</td>\n",
       "      <td>15.70</td>\n",
       "      <td>3.10</td>\n",
       "      <td>11211</td>\n",
       "      <td>0</td>\n",
       "      <td>2</td>\n",
       "    </tr>\n",
       "    <tr>\n",
       "      <th>3</th>\n",
       "      <td>21.000000</td>\n",
       "      <td>19.892473</td>\n",
       "      <td>11.15</td>\n",
       "      <td>2.10</td>\n",
       "      <td>10017</td>\n",
       "      <td>0</td>\n",
       "      <td>2</td>\n",
       "    </tr>\n",
       "    <tr>\n",
       "      <th>5</th>\n",
       "      <td>9.200000</td>\n",
       "      <td>20.000000</td>\n",
       "      <td>6.96</td>\n",
       "      <td>0.46</td>\n",
       "      <td>10022</td>\n",
       "      <td>0</td>\n",
       "      <td>2</td>\n",
       "    </tr>\n",
       "  </tbody>\n",
       "</table>\n",
       "</div>"
      ],
      "text/plain": [
       "     Avg_spd  tip_percent  total_amount  trip_distance  zipcode  pickup_hour  \\\n",
       "0  18.000000    20.000000         11.76           2.10    10003            0   \n",
       "1  10.114286    25.060241         10.38           1.18    10014            0   \n",
       "2  16.909091    18.045113         15.70           3.10    11211            0   \n",
       "3  21.000000    19.892473         11.15           2.10    10017            0   \n",
       "5   9.200000    20.000000          6.96           0.46    10022            0   \n",
       "\n",
       "   day_of_week  \n",
       "0            2  \n",
       "1            2  \n",
       "2            2  \n",
       "3            2  \n",
       "5            2  "
      ]
     },
     "execution_count": 128,
     "metadata": {},
     "output_type": "execute_result"
    }
   ],
   "source": [
    "df2.head()"
   ]
  },
  {
   "cell_type": "code",
   "execution_count": 178,
   "metadata": {
    "ExecuteTime": {
     "end_time": "2016-12-07T19:27:32.282759",
     "start_time": "2016-12-07T19:27:32.252985"
    },
    "collapsed": false
   },
   "outputs": [
    {
     "data": {
      "text/plain": [
       "179"
      ]
     },
     "execution_count": 178,
     "metadata": {},
     "output_type": "execute_result"
    }
   ],
   "source": [
    "df2['zipcode'].nunique()"
   ]
  },
  {
   "cell_type": "code",
   "execution_count": 181,
   "metadata": {
    "ExecuteTime": {
     "end_time": "2016-12-07T19:31:22.530264",
     "start_time": "2016-12-07T19:31:21.883987"
    },
    "collapsed": false
   },
   "outputs": [
    {
     "data": {
      "text/html": [
       "<div>\n",
       "<table border=\"1\" class=\"dataframe\">\n",
       "  <thead>\n",
       "    <tr style=\"text-align: right;\">\n",
       "      <th></th>\n",
       "      <th></th>\n",
       "      <th></th>\n",
       "      <th></th>\n",
       "      <th>day_of_week</th>\n",
       "      <th>pickup_hour</th>\n",
       "      <th>zipcode</th>\n",
       "    </tr>\n",
       "    <tr>\n",
       "      <th>Avg_spd</th>\n",
       "      <th>tip_percent</th>\n",
       "      <th>total_amount</th>\n",
       "      <th>trip_distance</th>\n",
       "      <th></th>\n",
       "      <th></th>\n",
       "      <th></th>\n",
       "    </tr>\n",
       "  </thead>\n",
       "  <tbody>\n",
       "    <tr>\n",
       "      <th>0.005357</th>\n",
       "      <th>20.000000</th>\n",
       "      <th>63.36</th>\n",
       "      <th>0.01</th>\n",
       "      <td>6.0</td>\n",
       "      <td>14.0</td>\n",
       "      <td>10017.0</td>\n",
       "    </tr>\n",
       "    <tr>\n",
       "      <th>0.010909</th>\n",
       "      <th>30.000000</th>\n",
       "      <th>11.70</th>\n",
       "      <th>0.01</th>\n",
       "      <td>2.0</td>\n",
       "      <td>5.0</td>\n",
       "      <td>11377.0</td>\n",
       "    </tr>\n",
       "    <tr>\n",
       "      <th>0.012371</th>\n",
       "      <th>13.636364</th>\n",
       "      <th>60.00</th>\n",
       "      <th>0.02</th>\n",
       "      <td>4.0</td>\n",
       "      <td>13.0</td>\n",
       "      <td>10011.0</td>\n",
       "    </tr>\n",
       "    <tr>\n",
       "      <th>0.015385</th>\n",
       "      <th>30.000000</th>\n",
       "      <th>30.29</th>\n",
       "      <th>0.01</th>\n",
       "      <td>4.0</td>\n",
       "      <td>23.0</td>\n",
       "      <td>10019.0</td>\n",
       "    </tr>\n",
       "    <tr>\n",
       "      <th>0.066667</th>\n",
       "      <th>20.000000</th>\n",
       "      <th>9.96</th>\n",
       "      <th>0.01</th>\n",
       "      <td>4.0</td>\n",
       "      <td>20.0</td>\n",
       "      <td>10010.0</td>\n",
       "    </tr>\n",
       "    <tr>\n",
       "      <th>0.085714</th>\n",
       "      <th>20.000000</th>\n",
       "      <th>8.16</th>\n",
       "      <th>0.01</th>\n",
       "      <td>3.0</td>\n",
       "      <td>12.0</td>\n",
       "      <td>10019.0</td>\n",
       "    </tr>\n",
       "    <tr>\n",
       "      <th rowspan=\"2\" valign=\"top\">0.100000</th>\n",
       "      <th>20.000000</th>\n",
       "      <th>8.16</th>\n",
       "      <th>0.01</th>\n",
       "      <td>4.0</td>\n",
       "      <td>20.0</td>\n",
       "      <td>10017.0</td>\n",
       "    </tr>\n",
       "    <tr>\n",
       "      <th>25.040650</th>\n",
       "      <th>15.38</th>\n",
       "      <th>0.03</th>\n",
       "      <td>4.0</td>\n",
       "      <td>9.0</td>\n",
       "      <td>10023.0</td>\n",
       "    </tr>\n",
       "    <tr>\n",
       "      <th>0.120000</th>\n",
       "      <th>17.241379</th>\n",
       "      <th>6.80</th>\n",
       "      <th>0.01</th>\n",
       "      <td>4.0</td>\n",
       "      <td>15.0</td>\n",
       "      <td>11211.0</td>\n",
       "    </tr>\n",
       "    <tr>\n",
       "      <th>0.127273</th>\n",
       "      <th>14.184397</th>\n",
       "      <th>80.50</th>\n",
       "      <th>0.07</th>\n",
       "      <td>2.0</td>\n",
       "      <td>12.0</td>\n",
       "      <td>10065.0</td>\n",
       "    </tr>\n",
       "    <tr>\n",
       "      <th rowspan=\"2\" valign=\"top\">0.150000</th>\n",
       "      <th rowspan=\"2\" valign=\"top\">20.000000</th>\n",
       "      <th>7.56</th>\n",
       "      <th>0.01</th>\n",
       "      <td>1.0</td>\n",
       "      <td>18.0</td>\n",
       "      <td>11371.0</td>\n",
       "    </tr>\n",
       "    <tr>\n",
       "      <th>78.36</th>\n",
       "      <th>0.01</th>\n",
       "      <td>2.0</td>\n",
       "      <td>16.0</td>\n",
       "      <td>10280.0</td>\n",
       "    </tr>\n",
       "    <tr>\n",
       "      <th>0.171429</th>\n",
       "      <th>19.953052</th>\n",
       "      <th>25.55</th>\n",
       "      <th>0.10</th>\n",
       "      <td>6.0</td>\n",
       "      <td>0.0</td>\n",
       "      <td>10028.0</td>\n",
       "    </tr>\n",
       "    <tr>\n",
       "      <th>0.182609</th>\n",
       "      <th>20.000000</th>\n",
       "      <th>17.76</th>\n",
       "      <th>0.07</th>\n",
       "      <td>3.0</td>\n",
       "      <td>12.0</td>\n",
       "      <td>10003.0</td>\n",
       "    </tr>\n",
       "    <tr>\n",
       "      <th>0.189474</th>\n",
       "      <th>7.812500</th>\n",
       "      <th>13.80</th>\n",
       "      <th>0.06</th>\n",
       "      <td>5.0</td>\n",
       "      <td>23.0</td>\n",
       "      <td>10021.0</td>\n",
       "    </tr>\n",
       "    <tr>\n",
       "      <th rowspan=\"5\" valign=\"top\">0.200000</th>\n",
       "      <th>15.873016</th>\n",
       "      <th>7.30</th>\n",
       "      <th>0.02</th>\n",
       "      <td>5.0</td>\n",
       "      <td>13.0</td>\n",
       "      <td>10024.0</td>\n",
       "    </tr>\n",
       "    <tr>\n",
       "      <th rowspan=\"3\" valign=\"top\">20.000000</th>\n",
       "      <th>6.96</th>\n",
       "      <th>0.01</th>\n",
       "      <td>3.0</td>\n",
       "      <td>18.0</td>\n",
       "      <td>10036.0</td>\n",
       "    </tr>\n",
       "    <tr>\n",
       "      <th>7.56</th>\n",
       "      <th>0.02</th>\n",
       "      <td>6.0</td>\n",
       "      <td>12.0</td>\n",
       "      <td>10036.0</td>\n",
       "    </tr>\n",
       "    <tr>\n",
       "      <th>12.96</th>\n",
       "      <th>0.05</th>\n",
       "      <td>1.0</td>\n",
       "      <td>11.0</td>\n",
       "      <td>10017.0</td>\n",
       "    </tr>\n",
       "    <tr>\n",
       "      <th>30.000000</th>\n",
       "      <th>8.84</th>\n",
       "      <th>0.02</th>\n",
       "      <td>4.0</td>\n",
       "      <td>1.0</td>\n",
       "      <td>10023.0</td>\n",
       "    </tr>\n",
       "    <tr>\n",
       "      <th>0.214286</th>\n",
       "      <th>20.000000</th>\n",
       "      <th>12.36</th>\n",
       "      <th>0.05</th>\n",
       "      <td>2.0</td>\n",
       "      <td>9.0</td>\n",
       "      <td>10025.0</td>\n",
       "    </tr>\n",
       "    <tr>\n",
       "      <th>0.225000</th>\n",
       "      <th>20.000000</th>\n",
       "      <th>9.36</th>\n",
       "      <th>0.03</th>\n",
       "      <td>3.0</td>\n",
       "      <td>22.0</td>\n",
       "      <td>10003.0</td>\n",
       "    </tr>\n",
       "    <tr>\n",
       "      <th rowspan=\"2\" valign=\"top\">0.260870</th>\n",
       "      <th>19.918699</th>\n",
       "      <th>14.75</th>\n",
       "      <th>0.10</th>\n",
       "      <td>1.0</td>\n",
       "      <td>22.0</td>\n",
       "      <td>10023.0</td>\n",
       "    </tr>\n",
       "    <tr>\n",
       "      <th>19.932432</th>\n",
       "      <th>17.75</th>\n",
       "      <th>0.10</th>\n",
       "      <td>1.0</td>\n",
       "      <td>14.0</td>\n",
       "      <td>10014.0</td>\n",
       "    </tr>\n",
       "    <tr>\n",
       "      <th>0.272727</th>\n",
       "      <th>20.000000</th>\n",
       "      <th>10.56</th>\n",
       "      <th>0.05</th>\n",
       "      <td>0.0</td>\n",
       "      <td>14.0</td>\n",
       "      <td>10019.0</td>\n",
       "    </tr>\n",
       "    <tr>\n",
       "      <th>0.292941</th>\n",
       "      <th>10.000000</th>\n",
       "      <th>8.03</th>\n",
       "      <th>0.83</th>\n",
       "      <td>3.0</td>\n",
       "      <td>21.0</td>\n",
       "      <td>10023.0</td>\n",
       "    </tr>\n",
       "    <tr>\n",
       "      <th rowspan=\"4\" valign=\"top\">0.300000</th>\n",
       "      <th>7.518797</th>\n",
       "      <th>14.30</th>\n",
       "      <th>0.09</th>\n",
       "      <td>2.0</td>\n",
       "      <td>18.0</td>\n",
       "      <td>10036.0</td>\n",
       "    </tr>\n",
       "    <tr>\n",
       "      <th>13.698630</th>\n",
       "      <th>8.30</th>\n",
       "      <th>0.03</th>\n",
       "      <td>3.0</td>\n",
       "      <td>17.0</td>\n",
       "      <td>10013.0</td>\n",
       "    </tr>\n",
       "    <tr>\n",
       "      <th>20.000000</th>\n",
       "      <th>13.56</th>\n",
       "      <th>0.08</th>\n",
       "      <td>0.0</td>\n",
       "      <td>12.0</td>\n",
       "      <td>10454.0</td>\n",
       "    </tr>\n",
       "    <tr>\n",
       "      <th>30.000000</th>\n",
       "      <th>6.89</th>\n",
       "      <th>0.01</th>\n",
       "      <td>2.0</td>\n",
       "      <td>18.0</td>\n",
       "      <td>10010.0</td>\n",
       "    </tr>\n",
       "    <tr>\n",
       "      <th>...</th>\n",
       "      <th>...</th>\n",
       "      <th>...</th>\n",
       "      <th>...</th>\n",
       "      <td>...</td>\n",
       "      <td>...</td>\n",
       "      <td>...</td>\n",
       "    </tr>\n",
       "    <tr>\n",
       "      <th rowspan=\"4\" valign=\"top\">55.200000</th>\n",
       "      <th>19.934641</th>\n",
       "      <th>18.35</th>\n",
       "      <th>4.60</th>\n",
       "      <td>6.0</td>\n",
       "      <td>4.0</td>\n",
       "      <td>10038.0</td>\n",
       "    </tr>\n",
       "    <tr>\n",
       "      <th rowspan=\"3\" valign=\"top\">20.000000</th>\n",
       "      <th>6.36</th>\n",
       "      <th>0.92</th>\n",
       "      <td>5.0</td>\n",
       "      <td>14.0</td>\n",
       "      <td>10694.0</td>\n",
       "    </tr>\n",
       "    <tr>\n",
       "      <th>6.96</th>\n",
       "      <th>0.92</th>\n",
       "      <td>0.0</td>\n",
       "      <td>20.0</td>\n",
       "      <td>10016.0</td>\n",
       "    </tr>\n",
       "    <tr>\n",
       "      <th>7.56</th>\n",
       "      <th>0.92</th>\n",
       "      <td>1.0</td>\n",
       "      <td>19.0</td>\n",
       "      <td>10036.0</td>\n",
       "    </tr>\n",
       "    <tr>\n",
       "      <th>55.500000</th>\n",
       "      <th>19.811321</th>\n",
       "      <th>6.35</th>\n",
       "      <th>3.70</th>\n",
       "      <td>6.0</td>\n",
       "      <td>19.0</td>\n",
       "      <td>10011.0</td>\n",
       "    </tr>\n",
       "    <tr>\n",
       "      <th rowspan=\"4\" valign=\"top\">55.800000</th>\n",
       "      <th>15.000000</th>\n",
       "      <th>60.72</th>\n",
       "      <th>0.93</th>\n",
       "      <td>1.0</td>\n",
       "      <td>18.0</td>\n",
       "      <td>10003.0</td>\n",
       "    </tr>\n",
       "    <tr>\n",
       "      <th rowspan=\"2\" valign=\"top\">20.000000</th>\n",
       "      <th>6.36</th>\n",
       "      <th>0.93</th>\n",
       "      <td>0.0</td>\n",
       "      <td>6.0</td>\n",
       "      <td>10010.0</td>\n",
       "    </tr>\n",
       "    <tr>\n",
       "      <th>6.96</th>\n",
       "      <th>0.93</th>\n",
       "      <td>2.0</td>\n",
       "      <td>21.0</td>\n",
       "      <td>10018.0</td>\n",
       "    </tr>\n",
       "    <tr>\n",
       "      <th>25.000000</th>\n",
       "      <th>7.25</th>\n",
       "      <th>0.93</th>\n",
       "      <td>0.0</td>\n",
       "      <td>1.0</td>\n",
       "      <td>10007.0</td>\n",
       "    </tr>\n",
       "    <tr>\n",
       "      <th rowspan=\"3\" valign=\"top\">56.400000</th>\n",
       "      <th>12.068966</th>\n",
       "      <th>6.50</th>\n",
       "      <th>0.94</th>\n",
       "      <td>5.0</td>\n",
       "      <td>4.0</td>\n",
       "      <td>10003.0</td>\n",
       "    </tr>\n",
       "    <tr>\n",
       "      <th>24.905660</th>\n",
       "      <th>6.62</th>\n",
       "      <th>0.94</th>\n",
       "      <td>5.0</td>\n",
       "      <td>7.0</td>\n",
       "      <td>10019.0</td>\n",
       "    </tr>\n",
       "    <tr>\n",
       "      <th>30.000000</th>\n",
       "      <th>6.89</th>\n",
       "      <th>0.94</th>\n",
       "      <td>5.0</td>\n",
       "      <td>14.0</td>\n",
       "      <td>10023.0</td>\n",
       "    </tr>\n",
       "    <tr>\n",
       "      <th>56.600000</th>\n",
       "      <th>20.000000</th>\n",
       "      <th>63.36</th>\n",
       "      <th>2.83</th>\n",
       "      <td>5.0</td>\n",
       "      <td>7.0</td>\n",
       "      <td>10012.0</td>\n",
       "    </tr>\n",
       "    <tr>\n",
       "      <th rowspan=\"2\" valign=\"top\">57.000000</th>\n",
       "      <th>19.791667</th>\n",
       "      <th>5.75</th>\n",
       "      <th>1.90</th>\n",
       "      <td>5.0</td>\n",
       "      <td>22.0</td>\n",
       "      <td>10034.0</td>\n",
       "    </tr>\n",
       "    <tr>\n",
       "      <th>30.000000</th>\n",
       "      <th>6.89</th>\n",
       "      <th>0.95</th>\n",
       "      <td>6.0</td>\n",
       "      <td>6.0</td>\n",
       "      <td>10003.0</td>\n",
       "    </tr>\n",
       "    <tr>\n",
       "      <th rowspan=\"2\" valign=\"top\">57.200000</th>\n",
       "      <th>8.570449</th>\n",
       "      <th>63.34</th>\n",
       "      <th>2.86</th>\n",
       "      <td>4.0</td>\n",
       "      <td>7.0</td>\n",
       "      <td>10028.0</td>\n",
       "    </tr>\n",
       "    <tr>\n",
       "      <th>20.003428</th>\n",
       "      <th>70.01</th>\n",
       "      <th>2.86</th>\n",
       "      <td>0.0</td>\n",
       "      <td>16.0</td>\n",
       "      <td>10019.0</td>\n",
       "    </tr>\n",
       "    <tr>\n",
       "      <th rowspan=\"2\" valign=\"top\">57.600000</th>\n",
       "      <th>7.625826</th>\n",
       "      <th>42.34</th>\n",
       "      <th>9.60</th>\n",
       "      <td>4.0</td>\n",
       "      <td>8.0</td>\n",
       "      <td>10001.0</td>\n",
       "    </tr>\n",
       "    <tr>\n",
       "      <th>20.000000</th>\n",
       "      <th>6.36</th>\n",
       "      <th>0.96</th>\n",
       "      <td>6.0</td>\n",
       "      <td>9.0</td>\n",
       "      <td>10036.0</td>\n",
       "    </tr>\n",
       "    <tr>\n",
       "      <th>58.000000</th>\n",
       "      <th>11.363636</th>\n",
       "      <th>58.80</th>\n",
       "      <th>2.90</th>\n",
       "      <td>4.0</td>\n",
       "      <td>11.0</td>\n",
       "      <td>10016.0</td>\n",
       "    </tr>\n",
       "    <tr>\n",
       "      <th>58.600000</th>\n",
       "      <th>20.000000</th>\n",
       "      <th>17.16</th>\n",
       "      <th>2.93</th>\n",
       "      <td>3.0</td>\n",
       "      <td>23.0</td>\n",
       "      <td>10019.0</td>\n",
       "    </tr>\n",
       "    <tr>\n",
       "      <th>59.700000</th>\n",
       "      <th>20.003428</th>\n",
       "      <th>70.01</th>\n",
       "      <th>3.98</th>\n",
       "      <td>6.0</td>\n",
       "      <td>10.0</td>\n",
       "      <td>10038.0</td>\n",
       "    </tr>\n",
       "    <tr>\n",
       "      <th rowspan=\"5\" valign=\"top\">60.000000</th>\n",
       "      <th>9.955157</th>\n",
       "      <th>24.52</th>\n",
       "      <th>6.00</th>\n",
       "      <td>1.0</td>\n",
       "      <td>23.0</td>\n",
       "      <td>10007.0</td>\n",
       "    </tr>\n",
       "    <tr>\n",
       "      <th>19.827586</th>\n",
       "      <th>6.95</th>\n",
       "      <th>1.00</th>\n",
       "      <td>5.0</td>\n",
       "      <td>5.0</td>\n",
       "      <td>10017.0</td>\n",
       "    </tr>\n",
       "    <tr>\n",
       "      <th>24.603175</th>\n",
       "      <th>7.85</th>\n",
       "      <th>1.00</th>\n",
       "      <td>3.0</td>\n",
       "      <td>5.0</td>\n",
       "      <td>10001.0</td>\n",
       "    </tr>\n",
       "    <tr>\n",
       "      <th>25.000000</th>\n",
       "      <th>7.25</th>\n",
       "      <th>1.00</th>\n",
       "      <td>6.0</td>\n",
       "      <td>8.0</td>\n",
       "      <td>10017.0</td>\n",
       "    </tr>\n",
       "    <tr>\n",
       "      <th>29.365079</th>\n",
       "      <th>8.15</th>\n",
       "      <th>1.00</th>\n",
       "      <td>6.0</td>\n",
       "      <td>23.0</td>\n",
       "      <td>10016.0</td>\n",
       "    </tr>\n",
       "    <tr>\n",
       "      <th rowspan=\"2\" valign=\"top\">61.200000</th>\n",
       "      <th>9.469697</th>\n",
       "      <th>57.80</th>\n",
       "      <th>1.02</th>\n",
       "      <td>4.0</td>\n",
       "      <td>5.0</td>\n",
       "      <td>10001.0</td>\n",
       "    </tr>\n",
       "    <tr>\n",
       "      <th>20.000000</th>\n",
       "      <th>7.56</th>\n",
       "      <th>1.02</th>\n",
       "      <td>5.5</td>\n",
       "      <td>3.5</td>\n",
       "      <td>10128.0</td>\n",
       "    </tr>\n",
       "    <tr>\n",
       "      <th>63.000000</th>\n",
       "      <th>30.000000</th>\n",
       "      <th>7.54</th>\n",
       "      <th>1.05</th>\n",
       "      <td>6.0</td>\n",
       "      <td>7.0</td>\n",
       "      <td>10022.0</td>\n",
       "    </tr>\n",
       "  </tbody>\n",
       "</table>\n",
       "<p>268769 rows × 3 columns</p>\n",
       "</div>"
      ],
      "text/plain": [
       "                                                  day_of_week  pickup_hour  \\\n",
       "Avg_spd   tip_percent total_amount trip_distance                             \n",
       "0.005357  20.000000   63.36        0.01                   6.0         14.0   \n",
       "0.010909  30.000000   11.70        0.01                   2.0          5.0   \n",
       "0.012371  13.636364   60.00        0.02                   4.0         13.0   \n",
       "0.015385  30.000000   30.29        0.01                   4.0         23.0   \n",
       "0.066667  20.000000   9.96         0.01                   4.0         20.0   \n",
       "0.085714  20.000000   8.16         0.01                   3.0         12.0   \n",
       "0.100000  20.000000   8.16         0.01                   4.0         20.0   \n",
       "          25.040650   15.38        0.03                   4.0          9.0   \n",
       "0.120000  17.241379   6.80         0.01                   4.0         15.0   \n",
       "0.127273  14.184397   80.50        0.07                   2.0         12.0   \n",
       "0.150000  20.000000   7.56         0.01                   1.0         18.0   \n",
       "                      78.36        0.01                   2.0         16.0   \n",
       "0.171429  19.953052   25.55        0.10                   6.0          0.0   \n",
       "0.182609  20.000000   17.76        0.07                   3.0         12.0   \n",
       "0.189474  7.812500    13.80        0.06                   5.0         23.0   \n",
       "0.200000  15.873016   7.30         0.02                   5.0         13.0   \n",
       "          20.000000   6.96         0.01                   3.0         18.0   \n",
       "                      7.56         0.02                   6.0         12.0   \n",
       "                      12.96        0.05                   1.0         11.0   \n",
       "          30.000000   8.84         0.02                   4.0          1.0   \n",
       "0.214286  20.000000   12.36        0.05                   2.0          9.0   \n",
       "0.225000  20.000000   9.36         0.03                   3.0         22.0   \n",
       "0.260870  19.918699   14.75        0.10                   1.0         22.0   \n",
       "          19.932432   17.75        0.10                   1.0         14.0   \n",
       "0.272727  20.000000   10.56        0.05                   0.0         14.0   \n",
       "0.292941  10.000000   8.03         0.83                   3.0         21.0   \n",
       "0.300000  7.518797    14.30        0.09                   2.0         18.0   \n",
       "          13.698630   8.30         0.03                   3.0         17.0   \n",
       "          20.000000   13.56        0.08                   0.0         12.0   \n",
       "          30.000000   6.89         0.01                   2.0         18.0   \n",
       "...                                                       ...          ...   \n",
       "55.200000 19.934641   18.35        4.60                   6.0          4.0   \n",
       "          20.000000   6.36         0.92                   5.0         14.0   \n",
       "                      6.96         0.92                   0.0         20.0   \n",
       "                      7.56         0.92                   1.0         19.0   \n",
       "55.500000 19.811321   6.35         3.70                   6.0         19.0   \n",
       "55.800000 15.000000   60.72        0.93                   1.0         18.0   \n",
       "          20.000000   6.36         0.93                   0.0          6.0   \n",
       "                      6.96         0.93                   2.0         21.0   \n",
       "          25.000000   7.25         0.93                   0.0          1.0   \n",
       "56.400000 12.068966   6.50         0.94                   5.0          4.0   \n",
       "          24.905660   6.62         0.94                   5.0          7.0   \n",
       "          30.000000   6.89         0.94                   5.0         14.0   \n",
       "56.600000 20.000000   63.36        2.83                   5.0          7.0   \n",
       "57.000000 19.791667   5.75         1.90                   5.0         22.0   \n",
       "          30.000000   6.89         0.95                   6.0          6.0   \n",
       "57.200000 8.570449    63.34        2.86                   4.0          7.0   \n",
       "          20.003428   70.01        2.86                   0.0         16.0   \n",
       "57.600000 7.625826    42.34        9.60                   4.0          8.0   \n",
       "          20.000000   6.36         0.96                   6.0          9.0   \n",
       "58.000000 11.363636   58.80        2.90                   4.0         11.0   \n",
       "58.600000 20.000000   17.16        2.93                   3.0         23.0   \n",
       "59.700000 20.003428   70.01        3.98                   6.0         10.0   \n",
       "60.000000 9.955157    24.52        6.00                   1.0         23.0   \n",
       "          19.827586   6.95         1.00                   5.0          5.0   \n",
       "          24.603175   7.85         1.00                   3.0          5.0   \n",
       "          25.000000   7.25         1.00                   6.0          8.0   \n",
       "          29.365079   8.15         1.00                   6.0         23.0   \n",
       "61.200000 9.469697    57.80        1.02                   4.0          5.0   \n",
       "          20.000000   7.56         1.02                   5.5          3.5   \n",
       "63.000000 30.000000   7.54         1.05                   6.0          7.0   \n",
       "\n",
       "                                                  zipcode  \n",
       "Avg_spd   tip_percent total_amount trip_distance           \n",
       "0.005357  20.000000   63.36        0.01           10017.0  \n",
       "0.010909  30.000000   11.70        0.01           11377.0  \n",
       "0.012371  13.636364   60.00        0.02           10011.0  \n",
       "0.015385  30.000000   30.29        0.01           10019.0  \n",
       "0.066667  20.000000   9.96         0.01           10010.0  \n",
       "0.085714  20.000000   8.16         0.01           10019.0  \n",
       "0.100000  20.000000   8.16         0.01           10017.0  \n",
       "          25.040650   15.38        0.03           10023.0  \n",
       "0.120000  17.241379   6.80         0.01           11211.0  \n",
       "0.127273  14.184397   80.50        0.07           10065.0  \n",
       "0.150000  20.000000   7.56         0.01           11371.0  \n",
       "                      78.36        0.01           10280.0  \n",
       "0.171429  19.953052   25.55        0.10           10028.0  \n",
       "0.182609  20.000000   17.76        0.07           10003.0  \n",
       "0.189474  7.812500    13.80        0.06           10021.0  \n",
       "0.200000  15.873016   7.30         0.02           10024.0  \n",
       "          20.000000   6.96         0.01           10036.0  \n",
       "                      7.56         0.02           10036.0  \n",
       "                      12.96        0.05           10017.0  \n",
       "          30.000000   8.84         0.02           10023.0  \n",
       "0.214286  20.000000   12.36        0.05           10025.0  \n",
       "0.225000  20.000000   9.36         0.03           10003.0  \n",
       "0.260870  19.918699   14.75        0.10           10023.0  \n",
       "          19.932432   17.75        0.10           10014.0  \n",
       "0.272727  20.000000   10.56        0.05           10019.0  \n",
       "0.292941  10.000000   8.03         0.83           10023.0  \n",
       "0.300000  7.518797    14.30        0.09           10036.0  \n",
       "          13.698630   8.30         0.03           10013.0  \n",
       "          20.000000   13.56        0.08           10454.0  \n",
       "          30.000000   6.89         0.01           10010.0  \n",
       "...                                                   ...  \n",
       "55.200000 19.934641   18.35        4.60           10038.0  \n",
       "          20.000000   6.36         0.92           10694.0  \n",
       "                      6.96         0.92           10016.0  \n",
       "                      7.56         0.92           10036.0  \n",
       "55.500000 19.811321   6.35         3.70           10011.0  \n",
       "55.800000 15.000000   60.72        0.93           10003.0  \n",
       "          20.000000   6.36         0.93           10010.0  \n",
       "                      6.96         0.93           10018.0  \n",
       "          25.000000   7.25         0.93           10007.0  \n",
       "56.400000 12.068966   6.50         0.94           10003.0  \n",
       "          24.905660   6.62         0.94           10019.0  \n",
       "          30.000000   6.89         0.94           10023.0  \n",
       "56.600000 20.000000   63.36        2.83           10012.0  \n",
       "57.000000 19.791667   5.75         1.90           10034.0  \n",
       "          30.000000   6.89         0.95           10003.0  \n",
       "57.200000 8.570449    63.34        2.86           10028.0  \n",
       "          20.003428   70.01        2.86           10019.0  \n",
       "57.600000 7.625826    42.34        9.60           10001.0  \n",
       "          20.000000   6.36         0.96           10036.0  \n",
       "58.000000 11.363636   58.80        2.90           10016.0  \n",
       "58.600000 20.000000   17.16        2.93           10019.0  \n",
       "59.700000 20.003428   70.01        3.98           10038.0  \n",
       "60.000000 9.955157    24.52        6.00           10007.0  \n",
       "          19.827586   6.95         1.00           10017.0  \n",
       "          24.603175   7.85         1.00           10001.0  \n",
       "          25.000000   7.25         1.00           10017.0  \n",
       "          29.365079   8.15         1.00           10016.0  \n",
       "61.200000 9.469697    57.80        1.02           10001.0  \n",
       "          20.000000   7.56         1.02           10128.0  \n",
       "63.000000 30.000000   7.54         1.05           10022.0  \n",
       "\n",
       "[268769 rows x 3 columns]"
      ]
     },
     "execution_count": 181,
     "metadata": {},
     "output_type": "execute_result"
    }
   ],
   "source": [
    "pd.pivot_table(df2, values = ['zipcode', 'pickup_hour', 'day_of_week'], index = ['Avg_spd', 'tip_percent', 'total_amount', 'trip_distance'])"
   ]
  },
  {
   "cell_type": "code",
   "execution_count": null,
   "metadata": {
    "collapsed": true
   },
   "outputs": [],
   "source": []
  },
  {
   "cell_type": "code",
   "execution_count": null,
   "metadata": {
    "collapsed": false
   },
   "outputs": [],
   "source": []
  },
  {
   "cell_type": "code",
   "execution_count": 148,
   "metadata": {
    "ExecuteTime": {
     "end_time": "2016-12-07T16:26:40.025092",
     "start_time": "2016-12-07T16:26:40.010893"
    },
    "collapsed": false
   },
   "outputs": [
    {
     "data": {
      "text/plain": [
       "(804493, 7)"
      ]
     },
     "execution_count": 148,
     "metadata": {},
     "output_type": "execute_result"
    }
   ],
   "source": [
    "pd.pivot_table()"
   ]
  },
  {
   "cell_type": "code",
   "execution_count": 185,
   "metadata": {
    "ExecuteTime": {
     "end_time": "2016-12-07T19:45:41.130631",
     "start_time": "2016-12-07T19:45:41.111618"
    },
    "collapsed": true
   },
   "outputs": [],
   "source": [
    "# function to return mean features from dataframe based on user input\n",
    "\n",
    "def mean_features(zipp, dow, hour):\n",
    "    \n",
    "    # spit out mean speed, mean trip distance, mean fare, mean tips percent\n",
    "    # Filtering to subset dataframe\n",
    "    dfo = df2[df2['zipcode'] == int(zipp)]\n",
    "    dfo = dfo[dfo['pickup_hour'] == int(hour)]\n",
    "    dfo = dfo[dfo['day_of_week'] == int(dow)]\n",
    "    \n",
    "    outdict = {}\n",
    "    \n",
    "    outdict['Avg_spd'] = round(dfo['Avg_spd'].mean(), 2)\n",
    "    outdict['tip_amount'] = round(dfo['tip_percent'].mean(), 2)\n",
    "    outdict['total_amount'] = round(dfo['total_amount'].mean(), 2)\n",
    "    outdict['trip_distance'] = round(dfo['trip_distance'].mean(),2)\n",
    "    outlist = []\n",
    "    outlist.append(outdict)\n",
    "        \n",
    "    return outlist"
   ]
  },
  {
   "cell_type": "code",
   "execution_count": 184,
   "metadata": {
    "ExecuteTime": {
     "end_time": "2016-12-07T19:38:26.116188",
     "start_time": "2016-12-07T19:38:26.107324"
    },
    "collapsed": false
   },
   "outputs": [
    {
     "data": {
      "text/plain": [
       "[{'a': '1'}, {'b': '1'}]"
      ]
     },
     "execution_count": 184,
     "metadata": {},
     "output_type": "execute_result"
    }
   ],
   "source": [
    "[{'a':'1'}] + [{'b':'1'}]"
   ]
  },
  {
   "cell_type": "code",
   "execution_count": 141,
   "metadata": {
    "ExecuteTime": {
     "end_time": "2016-12-07T16:23:33.719743",
     "start_time": "2016-12-07T16:23:33.715300"
    },
    "collapsed": true
   },
   "outputs": [],
   "source": [
    "import pprint as pprint"
   ]
  },
  {
   "cell_type": "code",
   "execution_count": 186,
   "metadata": {
    "ExecuteTime": {
     "end_time": "2016-12-07T19:45:44.881982",
     "start_time": "2016-12-07T19:45:44.863346"
    },
    "collapsed": false
   },
   "outputs": [
    {
     "name": "stdout",
     "output_type": "stream",
     "text": [
      "[{'Avg_spd': 19.09,\n",
      "  'tip_amount': 20.78,\n",
      "  'total_amount': 13.24,\n",
      "  'trip_distance': 2.17}]\n"
     ]
    }
   ],
   "source": [
    "pprint.pprint(mean_features('10004', '2', '4'))"
   ]
  },
  {
   "cell_type": "code",
   "execution_count": 146,
   "metadata": {
    "ExecuteTime": {
     "end_time": "2016-12-07T16:24:13.355655",
     "start_time": "2016-12-07T16:24:13.340608"
    },
    "collapsed": false
   },
   "outputs": [
    {
     "name": "stdout",
     "output_type": "stream",
     "text": [
      "[{'Avg_spd': 20.53,\n",
      "  'tip_amount': 23.15,\n",
      "  'total_amount': 17.41,\n",
      "  'trip_distance': 3.68}]\n"
     ]
    }
   ],
   "source": [
    "pprint.pprint(mean_features('11206', '2', '4'))"
   ]
  },
  {
   "cell_type": "code",
   "execution_count": 145,
   "metadata": {
    "ExecuteTime": {
     "end_time": "2016-12-07T16:23:54.287894",
     "start_time": "2016-12-07T16:23:54.272916"
    },
    "collapsed": false
   },
   "outputs": [
    {
     "data": {
      "text/plain": [
       "[{'Avg_spd': 19.09,\n",
       "  'tip_amount': 20.78,\n",
       "  'total_amount': 13.24,\n",
       "  'trip_distance': 2.17}]"
      ]
     },
     "execution_count": 145,
     "metadata": {},
     "output_type": "execute_result"
    }
   ],
   "source": [
    "mean_features('10004', '2', '4')"
   ]
  },
  {
   "cell_type": "code",
   "execution_count": 136,
   "metadata": {
    "ExecuteTime": {
     "end_time": "2016-12-07T16:22:49.893574",
     "start_time": "2016-12-07T16:22:49.885507"
    },
    "collapsed": false
   },
   "outputs": [
    {
     "data": {
      "text/plain": [
       "'trip_distance'"
      ]
     },
     "execution_count": 136,
     "metadata": {},
     "output_type": "execute_result"
    }
   ],
   "source": [
    "a[0]"
   ]
  },
  {
   "cell_type": "code",
   "execution_count": null,
   "metadata": {
    "collapsed": true
   },
   "outputs": [],
   "source": []
  }
 ],
 "metadata": {
  "anaconda-cloud": {},
  "kernelspec": {
   "display_name": "Python [Root]",
   "language": "python",
   "name": "Python [Root]"
  },
  "language_info": {
   "codemirror_mode": {
    "name": "ipython",
    "version": 2
   },
   "file_extension": ".py",
   "mimetype": "text/x-python",
   "name": "python",
   "nbconvert_exporter": "python",
   "pygments_lexer": "ipython2",
   "version": "2.7.12"
  },
  "toc": {
   "nav_menu": {
    "height": "174px",
    "width": "252px"
   },
   "navigate_menu": true,
   "number_sections": true,
   "sideBar": true,
   "threshold": 4,
   "toc_cell": false,
   "toc_section_display": "block",
   "toc_window_display": false
  }
 },
 "nbformat": 4,
 "nbformat_minor": 0
}
