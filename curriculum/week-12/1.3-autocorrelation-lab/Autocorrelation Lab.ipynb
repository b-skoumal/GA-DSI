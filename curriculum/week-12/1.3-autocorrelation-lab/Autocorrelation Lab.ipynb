{
 "cells": [
  {
   "cell_type": "code",
   "execution_count": 1,
   "metadata": {
    "ExecuteTime": {
     "end_time": "2016-12-06T10:22:46.148130",
     "start_time": "2016-12-06T10:22:41.974401"
    },
    "collapsed": false
   },
   "outputs": [],
   "source": [
    "import pandas as pd\n",
    "import numpy as np\n",
    "\n",
    "import matplotlib.pyplot as plt\n",
    "import seaborn as sns\n",
    "\n",
    "import datetime as datetime\n",
    "\n",
    "import pandas_datareader.data as web\n",
    "\n",
    "from matplotlib.finance import candlestick2_ohlc as cdl\n",
    "\n",
    "\n",
    "plt.style.use('ggplot')\n",
    "\n",
    "%matplotlib inline\n",
    "\n",
    "plt.rcParams['figure.figsize'] = (10.0, 6.0)"
   ]
  },
  {
   "cell_type": "code",
   "execution_count": 2,
   "metadata": {
    "ExecuteTime": {
     "end_time": "2016-12-06T10:22:46.158286",
     "start_time": "2016-12-06T10:22:46.151521"
    },
    "collapsed": true
   },
   "outputs": [],
   "source": [
    "# Amazon AMZN\n",
    "# Facebook FB\n",
    "# Google GOOGL\n",
    "# Microsoft MSFT\n",
    "# Apple AAPL"
   ]
  },
  {
   "cell_type": "code",
   "execution_count": 3,
   "metadata": {
    "ExecuteTime": {
     "end_time": "2016-12-06T10:22:46.169998",
     "start_time": "2016-12-06T10:22:46.163282"
    },
    "collapsed": true
   },
   "outputs": [],
   "source": [
    "start = datetime.datetime(2000, 12, 05)\n",
    "end = datetime.datetime(2016, 12, 04)"
   ]
  },
  {
   "cell_type": "code",
   "execution_count": 4,
   "metadata": {
    "ExecuteTime": {
     "end_time": "2016-12-06T10:22:50.928585",
     "start_time": "2016-12-06T10:22:46.174334"
    },
    "collapsed": true
   },
   "outputs": [],
   "source": [
    "fb = web.DataReader('FB', 'yahoo', start, end)\n",
    "az = web.DataReader('AMZN', 'yahoo', start, end)\n",
    "gg = web.DataReader('GOOGL', 'yahoo', start, end)\n",
    "ms = web.DataReader('MSFT', 'yahoo', start, end)\n",
    "ap = web.DataReader('AAPL', 'yahoo', start, end)"
   ]
  },
  {
   "cell_type": "code",
   "execution_count": 5,
   "metadata": {
    "ExecuteTime": {
     "end_time": "2016-12-06T10:22:50.936070",
     "start_time": "2016-12-06T10:22:50.931157"
    },
    "collapsed": false
   },
   "outputs": [],
   "source": [
    "stock_list = [fb,az, gg, ms, ap]"
   ]
  },
  {
   "cell_type": "code",
   "execution_count": 6,
   "metadata": {
    "ExecuteTime": {
     "end_time": "2016-12-06T10:22:50.982926",
     "start_time": "2016-12-06T10:22:50.940884"
    },
    "collapsed": false
   },
   "outputs": [
    {
     "data": {
      "text/html": [
       "<div>\n",
       "<table border=\"1\" class=\"dataframe\">\n",
       "  <thead>\n",
       "    <tr style=\"text-align: right;\">\n",
       "      <th></th>\n",
       "      <th>Open</th>\n",
       "      <th>High</th>\n",
       "      <th>Low</th>\n",
       "      <th>Close</th>\n",
       "      <th>Volume</th>\n",
       "      <th>Adj Close</th>\n",
       "    </tr>\n",
       "    <tr>\n",
       "      <th>Date</th>\n",
       "      <th></th>\n",
       "      <th></th>\n",
       "      <th></th>\n",
       "      <th></th>\n",
       "      <th></th>\n",
       "      <th></th>\n",
       "    </tr>\n",
       "  </thead>\n",
       "  <tbody>\n",
       "    <tr>\n",
       "      <th>2012-05-18</th>\n",
       "      <td>42.049999</td>\n",
       "      <td>45.000000</td>\n",
       "      <td>38.000000</td>\n",
       "      <td>38.230000</td>\n",
       "      <td>573576400</td>\n",
       "      <td>38.230000</td>\n",
       "    </tr>\n",
       "    <tr>\n",
       "      <th>2012-05-21</th>\n",
       "      <td>36.529999</td>\n",
       "      <td>36.660000</td>\n",
       "      <td>33.000000</td>\n",
       "      <td>34.029999</td>\n",
       "      <td>168192700</td>\n",
       "      <td>34.029999</td>\n",
       "    </tr>\n",
       "    <tr>\n",
       "      <th>2012-05-22</th>\n",
       "      <td>32.610001</td>\n",
       "      <td>33.590000</td>\n",
       "      <td>30.940001</td>\n",
       "      <td>31.000000</td>\n",
       "      <td>101786600</td>\n",
       "      <td>31.000000</td>\n",
       "    </tr>\n",
       "    <tr>\n",
       "      <th>2012-05-23</th>\n",
       "      <td>31.370001</td>\n",
       "      <td>32.500000</td>\n",
       "      <td>31.360001</td>\n",
       "      <td>32.000000</td>\n",
       "      <td>73600000</td>\n",
       "      <td>32.000000</td>\n",
       "    </tr>\n",
       "    <tr>\n",
       "      <th>2012-05-24</th>\n",
       "      <td>32.950001</td>\n",
       "      <td>33.209999</td>\n",
       "      <td>31.770000</td>\n",
       "      <td>33.029999</td>\n",
       "      <td>50237200</td>\n",
       "      <td>33.029999</td>\n",
       "    </tr>\n",
       "  </tbody>\n",
       "</table>\n",
       "</div>"
      ],
      "text/plain": [
       "                 Open       High        Low      Close     Volume  Adj Close\n",
       "Date                                                                        \n",
       "2012-05-18  42.049999  45.000000  38.000000  38.230000  573576400  38.230000\n",
       "2012-05-21  36.529999  36.660000  33.000000  34.029999  168192700  34.029999\n",
       "2012-05-22  32.610001  33.590000  30.940001  31.000000  101786600  31.000000\n",
       "2012-05-23  31.370001  32.500000  31.360001  32.000000   73600000  32.000000\n",
       "2012-05-24  32.950001  33.209999  31.770000  33.029999   50237200  33.029999"
      ]
     },
     "execution_count": 6,
     "metadata": {},
     "output_type": "execute_result"
    }
   ],
   "source": [
    "fb.head()"
   ]
  },
  {
   "cell_type": "code",
   "execution_count": 7,
   "metadata": {
    "ExecuteTime": {
     "end_time": "2016-12-06T10:22:51.034059",
     "start_time": "2016-12-06T10:22:50.987143"
    },
    "collapsed": false
   },
   "outputs": [
    {
     "name": "stderr",
     "output_type": "stream",
     "text": [
      "/anaconda/lib/python2.7/site-packages/ipykernel/__main__.py:1: FutureWarning: how in .resample() is deprecated\n",
      "the new syntax is .resample(...).mean()\n",
      "  if __name__ == '__main__':\n"
     ]
    }
   ],
   "source": [
    "fb_week = fb.resample('W', how = 'mean')"
   ]
  },
  {
   "cell_type": "code",
   "execution_count": 8,
   "metadata": {
    "ExecuteTime": {
     "end_time": "2016-12-06T10:22:51.482522",
     "start_time": "2016-12-06T10:22:51.041121"
    },
    "collapsed": false
   },
   "outputs": [
    {
     "ename": "NameError",
     "evalue": "name 'quotes_historical_yahoo_ohlc' is not defined",
     "output_type": "error",
     "traceback": [
      "\u001b[0;31m---------------------------------------------------------------------------\u001b[0m",
      "\u001b[0;31mNameError\u001b[0m                                 Traceback (most recent call last)",
      "\u001b[0;32m<ipython-input-8-08a86657b289>\u001b[0m in \u001b[0;36m<module>\u001b[0;34m()\u001b[0m\n\u001b[0;32m----> 1\u001b[0;31m \u001b[0mquotes\u001b[0m \u001b[0;34m=\u001b[0m \u001b[0mquotes_historical_yahoo_ohlc\u001b[0m\u001b[0;34m(\u001b[0m\u001b[0;34m'FB'\u001b[0m\u001b[0;34m,\u001b[0m \u001b[0mstart\u001b[0m\u001b[0;34m,\u001b[0m \u001b[0mend\u001b[0m\u001b[0;34m)\u001b[0m\u001b[0;34m\u001b[0m\u001b[0m\n\u001b[0m",
      "\u001b[0;31mNameError\u001b[0m: name 'quotes_historical_yahoo_ohlc' is not defined"
     ]
    }
   ],
   "source": [
    "quotes = quotes_historical_yahoo_ohlc('FB', start, end)"
   ]
  },
  {
   "cell_type": "code",
   "execution_count": null,
   "metadata": {
    "ExecuteTime": {
     "end_time": "2016-12-06T10:22:51.483433",
     "start_time": "2016-12-06T15:22:42.028Z"
    },
    "collapsed": false
   },
   "outputs": [],
   "source": [
    "from matplotlib.dates import DateFormatter, WeekdayLocator,\\\n",
    "    DayLocator, MONDAY\n",
    "from matplotlib.finance import quotes_historical_yahoo_ohlc, candlestick_ohlc\n",
    "\n",
    "date1 = (2004, 2, 1)\n",
    "date2 = (2004, 12, 12)\n",
    "# (Year, month, day) tuples suffice as args for quotes_historical_yahoo\n",
    "\n",
    "\n",
    "mondays = WeekdayLocator(MONDAY)        # major ticks on the mondays\n",
    "alldays = DayLocator()              # minor ticks on the days\n",
    "weekFormatter = DateFormatter('%b %d')  # e.g., Jan 12\n",
    "dayFormatter = DateFormatter('%d')      # e.g., 12\n",
    "\n",
    "quotes = quotes_historical_yahoo_ohlc('INTC', date1, date2)\n",
    "if len(quotes) == 0:\n",
    "    raise SystemExit\n",
    "\n",
    "fig, ax = plt.subplots()\n",
    "fig.subplots_adjust(bottom=0.2)\n",
    "ax.xaxis.set_major_locator(mondays)\n",
    "ax.xaxis.set_minor_locator(alldays)\n",
    "ax.xaxis.set_major_formatter(weekFormatter)\n",
    "#ax.xaxis.set_minor_formatter(dayFormatter)\n",
    "\n",
    "#plot_day_summary(ax, quotes, ticksize=3)\n",
    "candlestick_ohlc(ax, quotes, width=0.6)\n",
    "\n",
    "ax.xaxis_date()\n",
    "ax.autoscale_view()\n",
    "plt.setp(plt.gca().get_xticklabels(), rotation=45, horizontalalignment='right')\n",
    "\n",
    "plt.show()"
   ]
  },
  {
   "cell_type": "code",
   "execution_count": null,
   "metadata": {
    "ExecuteTime": {
     "end_time": "2016-12-06T10:22:51.484051",
     "start_time": "2016-12-06T15:22:42.035Z"
    },
    "collapsed": false
   },
   "outputs": [],
   "source": [
    "candlestick_ohlc(ax, fb_week.values, width=0.6);"
   ]
  },
  {
   "cell_type": "code",
   "execution_count": null,
   "metadata": {
    "ExecuteTime": {
     "end_time": "2016-12-06T10:22:51.484816",
     "start_time": "2016-12-06T15:22:42.039Z"
    },
    "collapsed": true
   },
   "outputs": [],
   "source": [
    "# Function to plot closing prices for all stocks in list\n",
    "\n",
    "def plot_trend(df, price):\n",
    "\n",
    "    # Add linear trend\n",
    "    line_coef = np.polyfit(np.arange(0, len(df)), df[price], 1)\n",
    "    polynomial = np.poly1d(line_coef)\n",
    "    \n",
    "    # Plotting both linear trend and daily prices\n",
    "    plt.plot(df.index, df[price], df.index, polynomial(np.arange(0, len(df))))\n",
    "    "
   ]
  },
  {
   "cell_type": "code",
   "execution_count": null,
   "metadata": {
    "ExecuteTime": {
     "end_time": "2016-12-06T10:22:51.485418",
     "start_time": "2016-12-06T15:22:42.044Z"
    },
    "collapsed": false
   },
   "outputs": [],
   "source": [
    "plot_trend(fb, 'Close')"
   ]
  },
  {
   "cell_type": "code",
   "execution_count": null,
   "metadata": {
    "ExecuteTime": {
     "end_time": "2016-12-06T10:22:51.486001",
     "start_time": "2016-12-06T15:22:42.049Z"
    },
    "collapsed": false
   },
   "outputs": [],
   "source": [
    "plot_trend(az, 'Close')"
   ]
  },
  {
   "cell_type": "code",
   "execution_count": null,
   "metadata": {
    "ExecuteTime": {
     "end_time": "2016-12-06T10:22:51.486589",
     "start_time": "2016-12-06T15:22:42.053Z"
    },
    "collapsed": false
   },
   "outputs": [],
   "source": [
    "plot_trend(ap, \"Close\")"
   ]
  },
  {
   "cell_type": "code",
   "execution_count": null,
   "metadata": {
    "ExecuteTime": {
     "end_time": "2016-12-06T10:22:51.487186",
     "start_time": "2016-12-06T15:22:42.057Z"
    },
    "collapsed": false
   },
   "outputs": [],
   "source": [
    "plot_trend(ms, 'Close')"
   ]
  },
  {
   "cell_type": "code",
   "execution_count": null,
   "metadata": {
    "ExecuteTime": {
     "end_time": "2016-12-06T10:22:51.487743",
     "start_time": "2016-12-06T15:22:42.065Z"
    },
    "collapsed": false
   },
   "outputs": [],
   "source": [
    "plot_trend(gg, 'Close')"
   ]
  },
  {
   "cell_type": "code",
   "execution_count": null,
   "metadata": {
    "collapsed": true
   },
   "outputs": [],
   "source": []
  }
 ],
 "metadata": {
  "anaconda-cloud": {},
  "kernelspec": {
   "display_name": "Python [Root]",
   "language": "python",
   "name": "Python [Root]"
  },
  "language_info": {
   "codemirror_mode": {
    "name": "ipython",
    "version": 2
   },
   "file_extension": ".py",
   "mimetype": "text/x-python",
   "name": "python",
   "nbconvert_exporter": "python",
   "pygments_lexer": "ipython2",
   "version": "2.7.12"
  },
  "toc": {
   "nav_menu": {
    "height": "12px",
    "width": "252px"
   },
   "navigate_menu": true,
   "number_sections": true,
   "sideBar": true,
   "threshold": 4,
   "toc_cell": false,
   "toc_section_display": "block",
   "toc_window_display": false
  }
 },
 "nbformat": 4,
 "nbformat_minor": 0
}
