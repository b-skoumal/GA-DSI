{
 "cells": [
  {
   "cell_type": "markdown",
   "metadata": {},
   "source": [
    "Name: Peida\n",
    "\n",
    "People you worked with (if any):"
   ]
  },
  {
   "cell_type": "markdown",
   "metadata": {},
   "source": [
    "### Review Problem 3\n",
    "\n",
    "For this problem, you will be writing a function that will iterate through two lists.\n",
    "\n",
    "Define a function that:\n",
    "\n",
    "- Accepts two arguments that are lists of numbers (either float or integer):\n",
    "- Print both of the lists.\n",
    "- Construct a **while loop** that:\n",
    "    - Prints the current iteration number, starting at 1.\n",
    "        ```python\n",
    "        Iteration: 1\n",
    "        ```\n",
    "    - Iterate through each element of both lists **at the same time** using a for loop, assigning the number from list 1 to variable value1 and the number from list 2 to value2:\n",
    "        - If ```list1 == [1, 2]``` and ```list2 == [3, 4]```, there will be two iterations through the for loop.\n",
    "        - Iteration 1 will have ```value1 == 1``` and ```value2 == 3```\n",
    "        - Iteration 2 will have ```value2 == 2``` and ```value2 == 4```\n",
    "        - Multiply ```value1``` and ```value2``` together and assign it to variable ```multiplied```.\n",
    "        - Print ```multiplied```.\n",
    "        - If ```multiplied``` is greater than 300, **break out of the for loop and while loop.**\n",
    "    - Otherwise, **multiply each element of list 1 and list 2 by 2** before continuing through the while loop\n",
    "- Print \"Function complete.\"\n",
    "\n",
    "Notes/Hints:\n",
    "\n",
    "- To break out of a for loop or while loop at any time, use the **break** command.\n",
    "    - ex: \n",
    "        ```python\n",
    "        for i in my_list: \n",
    "            if i > 10: \n",
    "                break\n",
    "        ```\n",
    "- The **zip()** function will join lists/tuples **element by element**.\n",
    "    - ex:\n",
    "        ```python\n",
    "        zip([1,2], [3,4]) == [(1, 3), (2, 4)]\n",
    "        ```\n",
    "    - In a for loop, you can assign multiple variables at a time:\n",
    "        ```python\n",
    "        for value1, value2 in zip(list1, list2):\n",
    "        ```\n",
    "- ```while True``` can just keep running a loop until the ```break``` condition is met. Be careful!\n",
    "- To break out of **both** the for loop and the while loop, you will need to define some kind of flag variable outside of the for loop and inside the while loop that can keep track of whether the for loop was broken."
   ]
  },
  {
   "cell_type": "code",
   "execution_count": 1,
   "metadata": {
    "collapsed": true
   },
   "outputs": [],
   "source": [
    "list1 = [1.5,3.5,5.5,7.5]\n",
    "list2 = [0,4,8,12]"
   ]
  },
  {
   "cell_type": "code",
   "execution_count": 5,
   "metadata": {
    "collapsed": false
   },
   "outputs": [
    {
     "name": "stdout",
     "output_type": "stream",
     "text": [
      "1.5 0\n",
      "3.5 4\n",
      "5.5 8\n",
      "7.5 12\n"
     ]
    }
   ],
   "source": [
    "for i,j in zip(list1, list2):\n",
    "\n",
    "    \n",
    "    print i, j\n",
    "    \n",
    "    #value1 = list1[i]\n",
    "    #value2 = list2[j]\n",
    "    \n",
    "    #print value1, value2"
   ]
  },
  {
   "cell_type": "code",
   "execution_count": 13,
   "metadata": {
    "collapsed": true
   },
   "outputs": [],
   "source": [
    "def two_list(list_a, list_b):\n",
    "    \n",
    "    # Printing the input\n",
    "    print \"First input list:\"\n",
    "    print\n",
    "    print list_a\n",
    "    print\n",
    "    print \"Second input list:\"\n",
    "    print list_b\n",
    "    print\n",
    "    \n",
    "    flag = 0\n",
    "    count = 1\n",
    "    \n",
    "    while flag == 0:\n",
    "        \n",
    "        for i in range(len(list_a)):\n",
    "    \n",
    "            value1 = list_a[i]\n",
    "            value2 = list_b[i]\n",
    "            \n",
    "            multiplied = value1 * value2\n",
    "            \n",
    "            if multiplied > 300:\n",
    "                flag = 1\n",
    "                break\n",
    "                \n",
    "            else:\n",
    "                print \"Iteration:\", count\n",
    "                print \"Multiplied:\", multiplied\n",
    "                print\n",
    "                count += 1\n",
    "                \n",
    "        list_a = [i * 2 for i in list_a]\n",
    "        list_b = [i * 2 for i in list_b]\n",
    "            \n",
    "    \n",
    "    print \"Function complete.\"\n",
    "    \n",
    "    return"
   ]
  },
  {
   "cell_type": "code",
   "execution_count": 14,
   "metadata": {
    "collapsed": false
   },
   "outputs": [
    {
     "name": "stdout",
     "output_type": "stream",
     "text": [
      "First input list:\n",
      "\n",
      "[1.5, 3.5, 5.5, 7.5]\n",
      "\n",
      "Second input list:\n",
      "[0, 4, 8, 12]\n",
      "\n",
      "Iteration: 1\n",
      "Multiplied: 0.0\n",
      "\n",
      "Iteration: 2\n",
      "Multiplied: 14.0\n",
      "\n",
      "Iteration: 3\n",
      "Multiplied: 44.0\n",
      "\n",
      "Iteration: 4\n",
      "Multiplied: 90.0\n",
      "\n",
      "Iteration: 5\n",
      "Multiplied: 0.0\n",
      "\n",
      "Iteration: 6\n",
      "Multiplied: 56.0\n",
      "\n",
      "Iteration: 7\n",
      "Multiplied: 176.0\n",
      "\n",
      "Function complete.\n"
     ]
    }
   ],
   "source": [
    "two_list(list1, list2)"
   ]
  },
  {
   "cell_type": "code",
   "execution_count": null,
   "metadata": {
    "collapsed": true
   },
   "outputs": [],
   "source": []
  }
 ],
 "metadata": {
  "anaconda-cloud": {},
  "kernelspec": {
   "display_name": "Python [Root]",
   "language": "python",
   "name": "Python [Root]"
  },
  "language_info": {
   "codemirror_mode": {
    "name": "ipython",
    "version": 2
   },
   "file_extension": ".py",
   "mimetype": "text/x-python",
   "name": "python",
   "nbconvert_exporter": "python",
   "pygments_lexer": "ipython2",
   "version": "2.7.12"
  }
 },
 "nbformat": 4,
 "nbformat_minor": 0
}
