{
 "cells": [
  {
   "cell_type": "markdown",
   "metadata": {},
   "source": [
    "# PCA and DBSCAN codealong\n",
    "\n",
    "---\n",
    "\n",
    "In this detailed codealong/lab we are going to practice and look more extensively at PCA (primarily). If time permits, we will also look at a popular unsupervized learning clustering algorithm called \"Density Based Clustering of Applications with Noise\" (DBSCAN).\n",
    "\n",
    "PCA is one of the more difficult concepts/algorithms in this class to understand well in such a short amount of time, but considering how often people use it to simplify their data, reduce noise in their data, and find unmeasured \"latent variables\", it is important to spend the time to understand what's going on.\n",
    "\n",
    "Hopefully this will help with that!\n",
    "\n",
    "---\n",
    "\n",
    "### How does DBSCAN work?\n",
    "\n",
    "DBSCAN, in a nutshell, groups datapoints together based on \"density\", or in other words how close they are together. Nearby points get assigned to a common cluster, whereas outlier points get assigned to their own clusters. DBSCAN is very effective and attractive for its simplicity and minimal pre-specified conditions; for these reasons it is the most popular clustering algorithm.\n",
    "\n",
    "There are only two parameters that need to be specified for DBSCAN:\n",
    "\n",
    "    eps : a minimum distance between points that can define a \"connection\"\n",
    "    \n",
    "    min_samples : minimum number of points that a point needs to have \n",
    "                  as neighbors to define it as a \"core sample\"\n",
    "    \n",
    "**Core samples** are by design the points that lie internally within a cluster. Non-core samples do not meet the minimum required neighboring points, but are still connected to a cluster defined by a core sample or samples. Hence these points lie on the edges of a cluster.\n",
    "\n",
    "The DBSCAN algorithm proceeds iteratively through the points, determining via the distance measure and minimum samples specified whether points are core samples, edge samples, or outliers (which are not assigned to any cluster).\n",
    "\n",
    "---\n",
    "\n",
    "### Dataset\n",
    "\n",
    "The dataset we are using for this lab is a subset of the [much more detailed speed dating dataset](https://www.kaggle.com/annavictoria/speed-dating-experiment). In particular, this contains no information on the actual speed dating itself (successes with or opinions of other individuals). It also contains no \"follow-up\" information where individuals are re-asked the same questions about themselves. All it contains are things that an individual enjoys doing, their ratings of themselves on how desireable they are, and how they think others rate them on desireability.\n",
    "\n",
    "Specifically, the columns in the data are outlined below:\n",
    "\n",
    "    subject_id                   :   unique individual identifier\n",
    "    like_sports                  :   enjoyment of participating in sports\n",
    "    like_tvsports                :   enjoyment of watching sports on tv\n",
    "    like_exercise                :   enjoyment of exercise\n",
    "    like_food                    :   enjoyment of food\n",
    "    like_museums                 :   enjoyment of museums\n",
    "    like_art                     :   enjoyment of art\n",
    "    like_hiking                  :   enjoyment of hiking\n",
    "    like_gaming                  :   enjoyment of pl aying games\n",
    "    like_clubbing                :   enjoyment of going clubbing/partying\n",
    "    like_reading                 :   enjoyment of reading\n",
    "    like_tv                      :   enjoyment of tv in general\n",
    "    like_theater                 :   enjoyment of the theater (plays, musicals, etc.)\n",
    "    like_movies                  :   enjoyment of movies\n",
    "    like_concerts                :   enjoyment of concerts\n",
    "    like_music                   :   enjoyment of music\n",
    "    like_shopping                :   enjoyment of shopping\n",
    "    like_yoga                    :   enjoyment of yoga\n",
    "    subjective_attractiveness    :   how attractive they rate themselves\n",
    "    subjective_sincerity         :   how sincere they rate themselves\n",
    "    subjective_intelligence      :   how intelligent they rate themselves\n",
    "    subjective_fun               :   how fun they rate themselves\n",
    "    subjective_ambition          :   how ambitious they rate themselves\n",
    "    objective_attractiveness     :   percieved rating others would give them on how attractive they are\n",
    "    objective_sincerity          :   percieved rating others would give them on how sincere they are\n",
    "    objective_intelligence       :   percieved rating others would give them on how intelligent they are\n",
    "    objective_fun                :   percieved rating others would give them on how fun they are\n",
    "    objective_ambition           :   percieved rating others would give them on how ambitious they are\n",
    "    \n",
    "There are 551 subjects total.\n",
    "\n",
    "---"
   ]
  },
  {
   "cell_type": "code",
   "execution_count": 2,
   "metadata": {
    "ExecuteTime": {
     "end_time": "2016-11-04T11:47:17.125092",
     "start_time": "2016-11-04T11:47:17.116665"
    },
    "collapsed": true
   },
   "outputs": [],
   "source": [
    "import numpy as np\n",
    "import pandas as pd\n",
    "\n",
    "from sklearn.cluster import DBSCAN\n",
    "from sklearn.preprocessing import StandardScaler"
   ]
  },
  {
   "cell_type": "code",
   "execution_count": 24,
   "metadata": {
    "ExecuteTime": {
     "end_time": "2016-11-04T12:15:13.749100",
     "start_time": "2016-11-04T12:15:13.711753"
    },
    "collapsed": true
   },
   "outputs": [],
   "source": [
    "df = pd.read_csv('../../datasets/speed_dating_user_attributes.csv')"
   ]
  },
  {
   "cell_type": "code",
   "execution_count": 25,
   "metadata": {
    "ExecuteTime": {
     "end_time": "2016-11-04T12:15:14.301100",
     "start_time": "2016-11-04T12:15:14.114842"
    },
    "collapsed": false
   },
   "outputs": [
    {
     "data": {
      "text/html": [
       "<div>\n",
       "<table border=\"1\" class=\"dataframe\">\n",
       "  <thead>\n",
       "    <tr style=\"text-align: right;\">\n",
       "      <th></th>\n",
       "      <th>subject_id</th>\n",
       "      <th>wave</th>\n",
       "      <th>like_sports</th>\n",
       "      <th>like_tvsports</th>\n",
       "      <th>like_exercise</th>\n",
       "      <th>like_food</th>\n",
       "      <th>like_museums</th>\n",
       "      <th>like_art</th>\n",
       "      <th>like_hiking</th>\n",
       "      <th>like_gaming</th>\n",
       "      <th>...</th>\n",
       "      <th>subjective_attractiveness</th>\n",
       "      <th>subjective_sincerity</th>\n",
       "      <th>subjective_intelligence</th>\n",
       "      <th>subjective_fun</th>\n",
       "      <th>subjective_ambition</th>\n",
       "      <th>objective_attractiveness</th>\n",
       "      <th>objective_sincerity</th>\n",
       "      <th>objective_intelligence</th>\n",
       "      <th>objective_fun</th>\n",
       "      <th>objective_ambition</th>\n",
       "    </tr>\n",
       "  </thead>\n",
       "  <tbody>\n",
       "    <tr>\n",
       "      <th>0</th>\n",
       "      <td>1</td>\n",
       "      <td>1</td>\n",
       "      <td>9.0</td>\n",
       "      <td>2.0</td>\n",
       "      <td>8.0</td>\n",
       "      <td>9.0</td>\n",
       "      <td>1.0</td>\n",
       "      <td>1.0</td>\n",
       "      <td>5.0</td>\n",
       "      <td>1.0</td>\n",
       "      <td>...</td>\n",
       "      <td>6.0</td>\n",
       "      <td>8.0</td>\n",
       "      <td>8.0</td>\n",
       "      <td>8.0</td>\n",
       "      <td>7.0</td>\n",
       "      <td>NaN</td>\n",
       "      <td>NaN</td>\n",
       "      <td>NaN</td>\n",
       "      <td>NaN</td>\n",
       "      <td>NaN</td>\n",
       "    </tr>\n",
       "    <tr>\n",
       "      <th>1</th>\n",
       "      <td>2</td>\n",
       "      <td>1</td>\n",
       "      <td>3.0</td>\n",
       "      <td>2.0</td>\n",
       "      <td>7.0</td>\n",
       "      <td>10.0</td>\n",
       "      <td>8.0</td>\n",
       "      <td>6.0</td>\n",
       "      <td>3.0</td>\n",
       "      <td>5.0</td>\n",
       "      <td>...</td>\n",
       "      <td>7.0</td>\n",
       "      <td>5.0</td>\n",
       "      <td>8.0</td>\n",
       "      <td>10.0</td>\n",
       "      <td>3.0</td>\n",
       "      <td>NaN</td>\n",
       "      <td>NaN</td>\n",
       "      <td>NaN</td>\n",
       "      <td>NaN</td>\n",
       "      <td>NaN</td>\n",
       "    </tr>\n",
       "    <tr>\n",
       "      <th>2</th>\n",
       "      <td>3</td>\n",
       "      <td>1</td>\n",
       "      <td>3.0</td>\n",
       "      <td>8.0</td>\n",
       "      <td>7.0</td>\n",
       "      <td>8.0</td>\n",
       "      <td>5.0</td>\n",
       "      <td>5.0</td>\n",
       "      <td>8.0</td>\n",
       "      <td>4.0</td>\n",
       "      <td>...</td>\n",
       "      <td>8.0</td>\n",
       "      <td>9.0</td>\n",
       "      <td>9.0</td>\n",
       "      <td>8.0</td>\n",
       "      <td>8.0</td>\n",
       "      <td>NaN</td>\n",
       "      <td>NaN</td>\n",
       "      <td>NaN</td>\n",
       "      <td>NaN</td>\n",
       "      <td>NaN</td>\n",
       "    </tr>\n",
       "    <tr>\n",
       "      <th>3</th>\n",
       "      <td>4</td>\n",
       "      <td>1</td>\n",
       "      <td>1.0</td>\n",
       "      <td>1.0</td>\n",
       "      <td>6.0</td>\n",
       "      <td>7.0</td>\n",
       "      <td>6.0</td>\n",
       "      <td>7.0</td>\n",
       "      <td>7.0</td>\n",
       "      <td>5.0</td>\n",
       "      <td>...</td>\n",
       "      <td>7.0</td>\n",
       "      <td>8.0</td>\n",
       "      <td>7.0</td>\n",
       "      <td>9.0</td>\n",
       "      <td>8.0</td>\n",
       "      <td>NaN</td>\n",
       "      <td>NaN</td>\n",
       "      <td>NaN</td>\n",
       "      <td>NaN</td>\n",
       "      <td>NaN</td>\n",
       "    </tr>\n",
       "    <tr>\n",
       "      <th>4</th>\n",
       "      <td>5</td>\n",
       "      <td>1</td>\n",
       "      <td>7.0</td>\n",
       "      <td>4.0</td>\n",
       "      <td>7.0</td>\n",
       "      <td>7.0</td>\n",
       "      <td>6.0</td>\n",
       "      <td>8.0</td>\n",
       "      <td>6.0</td>\n",
       "      <td>6.0</td>\n",
       "      <td>...</td>\n",
       "      <td>6.0</td>\n",
       "      <td>3.0</td>\n",
       "      <td>10.0</td>\n",
       "      <td>6.0</td>\n",
       "      <td>8.0</td>\n",
       "      <td>NaN</td>\n",
       "      <td>NaN</td>\n",
       "      <td>NaN</td>\n",
       "      <td>NaN</td>\n",
       "      <td>NaN</td>\n",
       "    </tr>\n",
       "  </tbody>\n",
       "</table>\n",
       "<p>5 rows × 29 columns</p>\n",
       "</div>"
      ],
      "text/plain": [
       "   subject_id  wave  like_sports  like_tvsports  like_exercise  like_food  \\\n",
       "0           1     1          9.0            2.0            8.0        9.0   \n",
       "1           2     1          3.0            2.0            7.0       10.0   \n",
       "2           3     1          3.0            8.0            7.0        8.0   \n",
       "3           4     1          1.0            1.0            6.0        7.0   \n",
       "4           5     1          7.0            4.0            7.0        7.0   \n",
       "\n",
       "   like_museums  like_art  like_hiking  like_gaming         ...          \\\n",
       "0           1.0       1.0          5.0          1.0         ...           \n",
       "1           8.0       6.0          3.0          5.0         ...           \n",
       "2           5.0       5.0          8.0          4.0         ...           \n",
       "3           6.0       7.0          7.0          5.0         ...           \n",
       "4           6.0       8.0          6.0          6.0         ...           \n",
       "\n",
       "   subjective_attractiveness  subjective_sincerity  subjective_intelligence  \\\n",
       "0                        6.0                   8.0                      8.0   \n",
       "1                        7.0                   5.0                      8.0   \n",
       "2                        8.0                   9.0                      9.0   \n",
       "3                        7.0                   8.0                      7.0   \n",
       "4                        6.0                   3.0                     10.0   \n",
       "\n",
       "   subjective_fun  subjective_ambition  objective_attractiveness  \\\n",
       "0             8.0                  7.0                       NaN   \n",
       "1            10.0                  3.0                       NaN   \n",
       "2             8.0                  8.0                       NaN   \n",
       "3             9.0                  8.0                       NaN   \n",
       "4             6.0                  8.0                       NaN   \n",
       "\n",
       "   objective_sincerity  objective_intelligence  objective_fun  \\\n",
       "0                  NaN                     NaN            NaN   \n",
       "1                  NaN                     NaN            NaN   \n",
       "2                  NaN                     NaN            NaN   \n",
       "3                  NaN                     NaN            NaN   \n",
       "4                  NaN                     NaN            NaN   \n",
       "\n",
       "   objective_ambition  \n",
       "0                 NaN  \n",
       "1                 NaN  \n",
       "2                 NaN  \n",
       "3                 NaN  \n",
       "4                 NaN  \n",
       "\n",
       "[5 rows x 29 columns]"
      ]
     },
     "execution_count": 25,
     "metadata": {},
     "output_type": "execute_result"
    }
   ],
   "source": [
    "df.head()"
   ]
  },
  {
   "cell_type": "code",
   "execution_count": 26,
   "metadata": {
    "ExecuteTime": {
     "end_time": "2016-11-04T12:15:14.928718",
     "start_time": "2016-11-04T12:15:14.919957"
    },
    "collapsed": false
   },
   "outputs": [
    {
     "data": {
      "text/plain": [
       "(551, 29)"
      ]
     },
     "execution_count": 26,
     "metadata": {},
     "output_type": "execute_result"
    }
   ],
   "source": [
    "df.shape"
   ]
  },
  {
   "cell_type": "code",
   "execution_count": 27,
   "metadata": {
    "ExecuteTime": {
     "end_time": "2016-11-04T12:15:15.756073",
     "start_time": "2016-11-04T12:15:15.741746"
    },
    "collapsed": false
   },
   "outputs": [
    {
     "data": {
      "text/plain": [
       "array([ nan,   9.,   6.,   8.,   7.,   3.,   5.,  10.,   4.,   2.])"
      ]
     },
     "execution_count": 27,
     "metadata": {},
     "output_type": "execute_result"
    }
   ],
   "source": [
    "df['objective_attractiveness'].unique()"
   ]
  },
  {
   "cell_type": "code",
   "execution_count": 28,
   "metadata": {
    "ExecuteTime": {
     "end_time": "2016-11-04T12:15:16.056416",
     "start_time": "2016-11-04T12:15:16.050386"
    },
    "collapsed": true
   },
   "outputs": [],
   "source": [
    "from sklearn.preprocessing import Imputer"
   ]
  },
  {
   "cell_type": "code",
   "execution_count": 29,
   "metadata": {
    "ExecuteTime": {
     "end_time": "2016-11-04T12:15:16.627130",
     "start_time": "2016-11-04T12:15:16.510027"
    },
    "collapsed": false
   },
   "outputs": [
    {
     "data": {
      "text/html": [
       "<div>\n",
       "<table border=\"1\" class=\"dataframe\">\n",
       "  <thead>\n",
       "    <tr style=\"text-align: right;\">\n",
       "      <th></th>\n",
       "      <th>subject_id</th>\n",
       "      <th>wave</th>\n",
       "      <th>like_sports</th>\n",
       "      <th>like_tvsports</th>\n",
       "      <th>like_exercise</th>\n",
       "      <th>like_food</th>\n",
       "      <th>like_museums</th>\n",
       "      <th>like_art</th>\n",
       "      <th>like_hiking</th>\n",
       "      <th>like_gaming</th>\n",
       "      <th>...</th>\n",
       "      <th>subjective_attractiveness</th>\n",
       "      <th>subjective_sincerity</th>\n",
       "      <th>subjective_intelligence</th>\n",
       "      <th>subjective_fun</th>\n",
       "      <th>subjective_ambition</th>\n",
       "      <th>objective_attractiveness</th>\n",
       "      <th>objective_sincerity</th>\n",
       "      <th>objective_intelligence</th>\n",
       "      <th>objective_fun</th>\n",
       "      <th>objective_ambition</th>\n",
       "    </tr>\n",
       "  </thead>\n",
       "  <tbody>\n",
       "    <tr>\n",
       "      <th>0</th>\n",
       "      <td>1.0</td>\n",
       "      <td>1.0</td>\n",
       "      <td>9.0</td>\n",
       "      <td>2.0</td>\n",
       "      <td>8.0</td>\n",
       "      <td>9.0</td>\n",
       "      <td>1.0</td>\n",
       "      <td>1.0</td>\n",
       "      <td>5.0</td>\n",
       "      <td>1.0</td>\n",
       "      <td>...</td>\n",
       "      <td>6.0</td>\n",
       "      <td>8.0</td>\n",
       "      <td>8.0</td>\n",
       "      <td>8.0</td>\n",
       "      <td>7.0</td>\n",
       "      <td>7.0</td>\n",
       "      <td>8.0</td>\n",
       "      <td>8.0</td>\n",
       "      <td>8.0</td>\n",
       "      <td>8.0</td>\n",
       "    </tr>\n",
       "    <tr>\n",
       "      <th>1</th>\n",
       "      <td>2.0</td>\n",
       "      <td>1.0</td>\n",
       "      <td>3.0</td>\n",
       "      <td>2.0</td>\n",
       "      <td>7.0</td>\n",
       "      <td>10.0</td>\n",
       "      <td>8.0</td>\n",
       "      <td>6.0</td>\n",
       "      <td>3.0</td>\n",
       "      <td>5.0</td>\n",
       "      <td>...</td>\n",
       "      <td>7.0</td>\n",
       "      <td>5.0</td>\n",
       "      <td>8.0</td>\n",
       "      <td>10.0</td>\n",
       "      <td>3.0</td>\n",
       "      <td>7.0</td>\n",
       "      <td>8.0</td>\n",
       "      <td>8.0</td>\n",
       "      <td>8.0</td>\n",
       "      <td>8.0</td>\n",
       "    </tr>\n",
       "    <tr>\n",
       "      <th>2</th>\n",
       "      <td>3.0</td>\n",
       "      <td>1.0</td>\n",
       "      <td>3.0</td>\n",
       "      <td>8.0</td>\n",
       "      <td>7.0</td>\n",
       "      <td>8.0</td>\n",
       "      <td>5.0</td>\n",
       "      <td>5.0</td>\n",
       "      <td>8.0</td>\n",
       "      <td>4.0</td>\n",
       "      <td>...</td>\n",
       "      <td>8.0</td>\n",
       "      <td>9.0</td>\n",
       "      <td>9.0</td>\n",
       "      <td>8.0</td>\n",
       "      <td>8.0</td>\n",
       "      <td>7.0</td>\n",
       "      <td>8.0</td>\n",
       "      <td>8.0</td>\n",
       "      <td>8.0</td>\n",
       "      <td>8.0</td>\n",
       "    </tr>\n",
       "    <tr>\n",
       "      <th>3</th>\n",
       "      <td>4.0</td>\n",
       "      <td>1.0</td>\n",
       "      <td>1.0</td>\n",
       "      <td>1.0</td>\n",
       "      <td>6.0</td>\n",
       "      <td>7.0</td>\n",
       "      <td>6.0</td>\n",
       "      <td>7.0</td>\n",
       "      <td>7.0</td>\n",
       "      <td>5.0</td>\n",
       "      <td>...</td>\n",
       "      <td>7.0</td>\n",
       "      <td>8.0</td>\n",
       "      <td>7.0</td>\n",
       "      <td>9.0</td>\n",
       "      <td>8.0</td>\n",
       "      <td>7.0</td>\n",
       "      <td>8.0</td>\n",
       "      <td>8.0</td>\n",
       "      <td>8.0</td>\n",
       "      <td>8.0</td>\n",
       "    </tr>\n",
       "    <tr>\n",
       "      <th>4</th>\n",
       "      <td>5.0</td>\n",
       "      <td>1.0</td>\n",
       "      <td>7.0</td>\n",
       "      <td>4.0</td>\n",
       "      <td>7.0</td>\n",
       "      <td>7.0</td>\n",
       "      <td>6.0</td>\n",
       "      <td>8.0</td>\n",
       "      <td>6.0</td>\n",
       "      <td>6.0</td>\n",
       "      <td>...</td>\n",
       "      <td>6.0</td>\n",
       "      <td>3.0</td>\n",
       "      <td>10.0</td>\n",
       "      <td>6.0</td>\n",
       "      <td>8.0</td>\n",
       "      <td>7.0</td>\n",
       "      <td>8.0</td>\n",
       "      <td>8.0</td>\n",
       "      <td>8.0</td>\n",
       "      <td>8.0</td>\n",
       "    </tr>\n",
       "  </tbody>\n",
       "</table>\n",
       "<p>5 rows × 29 columns</p>\n",
       "</div>"
      ],
      "text/plain": [
       "   subject_id  wave  like_sports  like_tvsports  like_exercise  like_food  \\\n",
       "0         1.0   1.0          9.0            2.0            8.0        9.0   \n",
       "1         2.0   1.0          3.0            2.0            7.0       10.0   \n",
       "2         3.0   1.0          3.0            8.0            7.0        8.0   \n",
       "3         4.0   1.0          1.0            1.0            6.0        7.0   \n",
       "4         5.0   1.0          7.0            4.0            7.0        7.0   \n",
       "\n",
       "   like_museums  like_art  like_hiking  like_gaming         ...          \\\n",
       "0           1.0       1.0          5.0          1.0         ...           \n",
       "1           8.0       6.0          3.0          5.0         ...           \n",
       "2           5.0       5.0          8.0          4.0         ...           \n",
       "3           6.0       7.0          7.0          5.0         ...           \n",
       "4           6.0       8.0          6.0          6.0         ...           \n",
       "\n",
       "   subjective_attractiveness  subjective_sincerity  subjective_intelligence  \\\n",
       "0                        6.0                   8.0                      8.0   \n",
       "1                        7.0                   5.0                      8.0   \n",
       "2                        8.0                   9.0                      9.0   \n",
       "3                        7.0                   8.0                      7.0   \n",
       "4                        6.0                   3.0                     10.0   \n",
       "\n",
       "   subjective_fun  subjective_ambition  objective_attractiveness  \\\n",
       "0             8.0                  7.0                       7.0   \n",
       "1            10.0                  3.0                       7.0   \n",
       "2             8.0                  8.0                       7.0   \n",
       "3             9.0                  8.0                       7.0   \n",
       "4             6.0                  8.0                       7.0   \n",
       "\n",
       "   objective_sincerity  objective_intelligence  objective_fun  \\\n",
       "0                  8.0                     8.0            8.0   \n",
       "1                  8.0                     8.0            8.0   \n",
       "2                  8.0                     8.0            8.0   \n",
       "3                  8.0                     8.0            8.0   \n",
       "4                  8.0                     8.0            8.0   \n",
       "\n",
       "   objective_ambition  \n",
       "0                 8.0  \n",
       "1                 8.0  \n",
       "2                 8.0  \n",
       "3                 8.0  \n",
       "4                 8.0  \n",
       "\n",
       "[5 rows x 29 columns]"
      ]
     },
     "execution_count": 29,
     "metadata": {},
     "output_type": "execute_result"
    }
   ],
   "source": [
    "# Changing all NaN values to medians\n",
    "\n",
    "col = df.columns\n",
    "impute = Imputer(strategy='median')\n",
    "df = pd.DataFrame(impute.fit_transform(df), columns = col)\n",
    "df.head()"
   ]
  },
  {
   "cell_type": "code",
   "execution_count": 66,
   "metadata": {
    "ExecuteTime": {
     "end_time": "2016-11-04T12:53:54.004934",
     "start_time": "2016-11-04T12:53:53.928238"
    },
    "collapsed": false
   },
   "outputs": [
    {
     "data": {
      "text/plain": [
       "DBSCAN(algorithm='auto', eps=0.9, leaf_size=30, metric='euclidean',\n",
       "    min_samples=30, n_jobs=1, p=None)"
      ]
     },
     "execution_count": 66,
     "metadata": {},
     "output_type": "execute_result"
    }
   ],
   "source": [
    "from sklearn.cluster import DBSCAN\n",
    "from sklearn.preprocessing import StandardScaler\n",
    "\n",
    "db = DBSCAN(eps=0.9, min_samples=30)\n",
    "\n",
    "X = StandardScaler().fit_transform(df)\n",
    "\n",
    "db.fit(X)"
   ]
  },
  {
   "cell_type": "code",
   "execution_count": 67,
   "metadata": {
    "ExecuteTime": {
     "end_time": "2016-11-04T12:53:54.306235",
     "start_time": "2016-11-04T12:53:54.295012"
    },
    "collapsed": false
   },
   "outputs": [
    {
     "name": "stdout",
     "output_type": "stream",
     "text": [
      "[[-1.73070723 -1.67820677  0.99411778 ..., -0.14541839  0.25237277\n",
      "   0.16351203]\n",
      " [-1.72443173 -1.67820677 -1.30256523 ..., -0.14541839  0.25237277\n",
      "   0.16351203]\n",
      " [-1.71815622 -1.67820677 -1.30256523 ..., -0.14541839  0.25237277\n",
      "   0.16351203]\n",
      " ..., \n",
      " [ 1.71454581  1.65041789 -0.53700422 ..., -1.13462248 -0.46813187\n",
      "  -0.55724899]\n",
      " [ 1.72082132  1.65041789 -0.15422372 ...,  0.84378571 -4.07065503\n",
      "  -2.71953206]\n",
      " [ 1.72709682  1.65041789  0.61133728 ...,  1.8329898  -1.90914113\n",
      "   0.88427305]]\n"
     ]
    }
   ],
   "source": [
    "print X"
   ]
  },
  {
   "cell_type": "code",
   "execution_count": 68,
   "metadata": {
    "ExecuteTime": {
     "end_time": "2016-11-04T12:53:55.005595",
     "start_time": "2016-11-04T12:53:54.980205"
    },
    "collapsed": false
   },
   "outputs": [
    {
     "name": "stdout",
     "output_type": "stream",
     "text": [
      "[-1 -1 -1 -1 -1 -1 -1 -1 -1 -1 -1 -1 -1 -1 -1 -1 -1 -1 -1 -1 -1 -1 -1 -1 -1\n",
      " -1 -1 -1 -1 -1 -1 -1 -1 -1 -1 -1 -1 -1 -1 -1 -1 -1 -1 -1 -1 -1 -1 -1 -1 -1\n",
      " -1 -1 -1 -1 -1 -1 -1 -1 -1 -1 -1 -1 -1 -1 -1 -1 -1 -1 -1 -1 -1 -1 -1 -1 -1\n",
      " -1 -1 -1 -1 -1 -1 -1 -1 -1 -1 -1 -1 -1 -1 -1 -1 -1 -1 -1 -1 -1 -1 -1 -1 -1\n",
      " -1 -1 -1 -1 -1 -1 -1 -1 -1 -1 -1 -1 -1 -1 -1 -1 -1 -1 -1 -1 -1 -1 -1 -1 -1\n",
      " -1 -1 -1 -1 -1 -1 -1 -1 -1 -1 -1 -1 -1 -1 -1 -1 -1 -1 -1 -1 -1 -1 -1 -1 -1\n",
      " -1 -1 -1 -1 -1 -1 -1 -1 -1 -1 -1 -1 -1 -1 -1 -1 -1 -1 -1 -1 -1 -1 -1 -1 -1\n",
      " -1 -1 -1 -1 -1 -1 -1 -1 -1 -1 -1 -1 -1 -1 -1 -1 -1 -1 -1 -1 -1 -1 -1 -1 -1\n",
      " -1 -1 -1 -1 -1 -1 -1 -1 -1 -1 -1 -1 -1 -1 -1 -1 -1 -1 -1 -1 -1 -1 -1 -1 -1\n",
      " -1 -1 -1 -1 -1 -1 -1 -1 -1 -1 -1 -1 -1 -1 -1 -1 -1 -1 -1 -1 -1 -1 -1 -1 -1\n",
      " -1 -1 -1 -1 -1 -1 -1 -1 -1 -1 -1 -1 -1 -1 -1 -1 -1 -1 -1 -1 -1 -1 -1 -1 -1\n",
      " -1 -1 -1 -1 -1 -1 -1 -1 -1 -1 -1 -1 -1 -1 -1 -1 -1 -1 -1 -1 -1 -1 -1 -1 -1\n",
      " -1 -1 -1 -1 -1 -1 -1 -1 -1 -1 -1 -1 -1 -1 -1 -1 -1 -1 -1 -1 -1 -1 -1 -1 -1\n",
      " -1 -1 -1 -1 -1 -1 -1 -1 -1 -1 -1 -1 -1 -1 -1 -1 -1 -1 -1 -1 -1 -1 -1 -1 -1\n",
      " -1 -1 -1 -1 -1 -1 -1 -1 -1 -1 -1 -1 -1 -1 -1 -1 -1 -1 -1 -1 -1 -1 -1 -1 -1\n",
      " -1 -1 -1 -1 -1 -1 -1 -1 -1 -1 -1 -1 -1 -1 -1 -1 -1 -1 -1 -1 -1 -1 -1 -1 -1\n",
      " -1 -1 -1 -1 -1 -1 -1 -1 -1 -1 -1 -1 -1 -1 -1 -1 -1 -1 -1 -1 -1 -1 -1 -1 -1\n",
      " -1 -1 -1 -1 -1 -1 -1 -1 -1 -1 -1 -1 -1 -1 -1 -1 -1 -1 -1 -1 -1 -1 -1 -1 -1\n",
      " -1 -1 -1 -1 -1 -1 -1 -1 -1 -1 -1 -1 -1 -1 -1 -1 -1 -1 -1 -1 -1 -1 -1 -1 -1\n",
      " -1 -1 -1 -1 -1 -1 -1 -1 -1 -1 -1 -1 -1 -1 -1 -1 -1 -1 -1 -1 -1 -1 -1 -1 -1\n",
      " -1 -1 -1 -1 -1 -1 -1 -1 -1 -1 -1 -1 -1 -1 -1 -1 -1 -1 -1 -1 -1 -1 -1 -1 -1\n",
      " -1 -1 -1 -1 -1 -1 -1 -1 -1 -1 -1 -1 -1 -1 -1 -1 -1 -1 -1 -1 -1 -1 -1 -1 -1\n",
      " -1]\n"
     ]
    }
   ],
   "source": [
    "core_samples = db.core_sample_indices_\n",
    "labels = db.labels_\n",
    "print labels"
   ]
  },
  {
   "cell_type": "code",
   "execution_count": 43,
   "metadata": {
    "ExecuteTime": {
     "end_time": "2016-11-04T12:49:03.426666",
     "start_time": "2016-11-04T12:49:03.355775"
    },
    "collapsed": false
   },
   "outputs": [
    {
     "ename": "ValueError",
     "evalue": "Number of labels is 1. Valid values are 2 to n_samples - 1 (inclusive)",
     "output_type": "error",
     "traceback": [
      "\u001b[0;31m---------------------------------------------------------------------------\u001b[0m",
      "\u001b[0;31mValueError\u001b[0m                                Traceback (most recent call last)",
      "\u001b[0;32m<ipython-input-43-6c66e372348e>\u001b[0m in \u001b[0;36m<module>\u001b[0;34m()\u001b[0m\n\u001b[1;32m      2\u001b[0m \u001b[0;34m\u001b[0m\u001b[0m\n\u001b[1;32m      3\u001b[0m print(\"Silhouette Coefficient: %0.3f\"\n\u001b[0;32m----> 4\u001b[0;31m       % silhouette_score(X, labels))\n\u001b[0m",
      "\u001b[0;32m//anaconda/lib/python2.7/site-packages/sklearn/metrics/cluster/unsupervised.pyc\u001b[0m in \u001b[0;36msilhouette_score\u001b[0;34m(X, labels, metric, sample_size, random_state, **kwds)\u001b[0m\n\u001b[1;32m     98\u001b[0m         \u001b[0;32melse\u001b[0m\u001b[0;34m:\u001b[0m\u001b[0;34m\u001b[0m\u001b[0m\n\u001b[1;32m     99\u001b[0m             \u001b[0mX\u001b[0m\u001b[0;34m,\u001b[0m \u001b[0mlabels\u001b[0m \u001b[0;34m=\u001b[0m \u001b[0mX\u001b[0m\u001b[0;34m[\u001b[0m\u001b[0mindices\u001b[0m\u001b[0;34m]\u001b[0m\u001b[0;34m,\u001b[0m \u001b[0mlabels\u001b[0m\u001b[0;34m[\u001b[0m\u001b[0mindices\u001b[0m\u001b[0;34m]\u001b[0m\u001b[0;34m\u001b[0m\u001b[0m\n\u001b[0;32m--> 100\u001b[0;31m     \u001b[0;32mreturn\u001b[0m \u001b[0mnp\u001b[0m\u001b[0;34m.\u001b[0m\u001b[0mmean\u001b[0m\u001b[0;34m(\u001b[0m\u001b[0msilhouette_samples\u001b[0m\u001b[0;34m(\u001b[0m\u001b[0mX\u001b[0m\u001b[0;34m,\u001b[0m \u001b[0mlabels\u001b[0m\u001b[0;34m,\u001b[0m \u001b[0mmetric\u001b[0m\u001b[0;34m=\u001b[0m\u001b[0mmetric\u001b[0m\u001b[0;34m,\u001b[0m \u001b[0;34m**\u001b[0m\u001b[0mkwds\u001b[0m\u001b[0;34m)\u001b[0m\u001b[0;34m)\u001b[0m\u001b[0;34m\u001b[0m\u001b[0m\n\u001b[0m\u001b[1;32m    101\u001b[0m \u001b[0;34m\u001b[0m\u001b[0m\n\u001b[1;32m    102\u001b[0m \u001b[0;34m\u001b[0m\u001b[0m\n",
      "\u001b[0;32m//anaconda/lib/python2.7/site-packages/sklearn/metrics/cluster/unsupervised.pyc\u001b[0m in \u001b[0;36msilhouette_samples\u001b[0;34m(X, labels, metric, **kwds)\u001b[0m\n\u001b[1;32m    164\u001b[0m     \u001b[0mle\u001b[0m \u001b[0;34m=\u001b[0m \u001b[0mLabelEncoder\u001b[0m\u001b[0;34m(\u001b[0m\u001b[0;34m)\u001b[0m\u001b[0;34m\u001b[0m\u001b[0m\n\u001b[1;32m    165\u001b[0m     \u001b[0mlabels\u001b[0m \u001b[0;34m=\u001b[0m \u001b[0mle\u001b[0m\u001b[0;34m.\u001b[0m\u001b[0mfit_transform\u001b[0m\u001b[0;34m(\u001b[0m\u001b[0mlabels\u001b[0m\u001b[0;34m)\u001b[0m\u001b[0;34m\u001b[0m\u001b[0m\n\u001b[0;32m--> 166\u001b[0;31m     \u001b[0mcheck_number_of_labels\u001b[0m\u001b[0;34m(\u001b[0m\u001b[0mlen\u001b[0m\u001b[0;34m(\u001b[0m\u001b[0mle\u001b[0m\u001b[0;34m.\u001b[0m\u001b[0mclasses_\u001b[0m\u001b[0;34m)\u001b[0m\u001b[0;34m,\u001b[0m \u001b[0mX\u001b[0m\u001b[0;34m.\u001b[0m\u001b[0mshape\u001b[0m\u001b[0;34m[\u001b[0m\u001b[0;36m0\u001b[0m\u001b[0;34m]\u001b[0m\u001b[0;34m)\u001b[0m\u001b[0;34m\u001b[0m\u001b[0m\n\u001b[0m\u001b[1;32m    167\u001b[0m \u001b[0;34m\u001b[0m\u001b[0m\n\u001b[1;32m    168\u001b[0m     \u001b[0mdistances\u001b[0m \u001b[0;34m=\u001b[0m \u001b[0mpairwise_distances\u001b[0m\u001b[0;34m(\u001b[0m\u001b[0mX\u001b[0m\u001b[0;34m,\u001b[0m \u001b[0mmetric\u001b[0m\u001b[0;34m=\u001b[0m\u001b[0mmetric\u001b[0m\u001b[0;34m,\u001b[0m \u001b[0;34m**\u001b[0m\u001b[0mkwds\u001b[0m\u001b[0;34m)\u001b[0m\u001b[0;34m\u001b[0m\u001b[0m\n",
      "\u001b[0;32m//anaconda/lib/python2.7/site-packages/sklearn/metrics/cluster/unsupervised.pyc\u001b[0m in \u001b[0;36mcheck_number_of_labels\u001b[0;34m(n_labels, n_samples)\u001b[0m\n\u001b[1;32m     18\u001b[0m     \u001b[0;32mif\u001b[0m \u001b[0;32mnot\u001b[0m \u001b[0;36m1\u001b[0m \u001b[0;34m<\u001b[0m \u001b[0mn_labels\u001b[0m \u001b[0;34m<\u001b[0m \u001b[0mn_samples\u001b[0m\u001b[0;34m:\u001b[0m\u001b[0;34m\u001b[0m\u001b[0m\n\u001b[1;32m     19\u001b[0m         raise ValueError(\"Number of labels is %d. Valid values are 2 \"\n\u001b[0;32m---> 20\u001b[0;31m                          \"to n_samples - 1 (inclusive)\" % n_labels)\n\u001b[0m\u001b[1;32m     21\u001b[0m \u001b[0;34m\u001b[0m\u001b[0m\n\u001b[1;32m     22\u001b[0m \u001b[0;34m\u001b[0m\u001b[0m\n",
      "\u001b[0;31mValueError\u001b[0m: Number of labels is 1. Valid values are 2 to n_samples - 1 (inclusive)"
     ]
    }
   ],
   "source": [
    "from sklearn.metrics import silhouette_score\n",
    "\n",
    "print(\"Silhouette Coefficient: %0.3f\"\n",
    "      % silhouette_score(X, labels))"
   ]
  },
  {
   "cell_type": "code",
   "execution_count": 72,
   "metadata": {
    "ExecuteTime": {
     "end_time": "2016-11-04T13:15:24.964515",
     "start_time": "2016-11-04T13:15:24.943300"
    },
    "collapsed": false
   },
   "outputs": [
    {
     "data": {
      "text/plain": [
       "subject_id                   float64\n",
       "wave                         float64\n",
       "like_sports                  float64\n",
       "like_tvsports                float64\n",
       "like_exercise                float64\n",
       "like_food                    float64\n",
       "like_museums                 float64\n",
       "like_art                     float64\n",
       "like_hiking                  float64\n",
       "like_gaming                  float64\n",
       "like_clubbing                float64\n",
       "like_reading                 float64\n",
       "like_tv                      float64\n",
       "like_theater                 float64\n",
       "like_movies                  float64\n",
       "like_concerts                float64\n",
       "like_music                   float64\n",
       "like_shopping                float64\n",
       "like_yoga                    float64\n",
       "subjective_attractiveness    float64\n",
       "subjective_sincerity         float64\n",
       "subjective_intelligence      float64\n",
       "subjective_fun               float64\n",
       "subjective_ambition          float64\n",
       "objective_attractiveness     float64\n",
       "objective_sincerity          float64\n",
       "objective_intelligence       float64\n",
       "objective_fun                float64\n",
       "objective_ambition           float64\n",
       "dtype: object"
      ]
     },
     "execution_count": 72,
     "metadata": {},
     "output_type": "execute_result"
    }
   ],
   "source": [
    "df.dtypes"
   ]
  },
  {
   "cell_type": "code",
   "execution_count": 83,
   "metadata": {
    "ExecuteTime": {
     "end_time": "2016-11-04T13:26:15.112335",
     "start_time": "2016-11-04T13:26:15.104779"
    },
    "collapsed": false
   },
   "outputs": [
    {
     "data": {
      "text/plain": [
       "'_id'"
      ]
     },
     "execution_count": 83,
     "metadata": {},
     "output_type": "execute_result"
    }
   ],
   "source": [
    "x = 'subject_id'\n",
    "x[-3:]"
   ]
  },
  {
   "cell_type": "code",
   "execution_count": 90,
   "metadata": {
    "ExecuteTime": {
     "end_time": "2016-11-04T13:26:56.407441",
     "start_time": "2016-11-04T13:26:56.399734"
    },
    "collapsed": false
   },
   "outputs": [],
   "source": [
    "subj_list = [x for x in df.columns if (('subj' in x) and (x[-3:] != '_id'))]\n",
    "obj_list = [x for x in df.columns if x[0] == 'o']\n",
    "like_list = [x for x in df.columns if 'like' in x]"
   ]
  },
  {
   "cell_type": "code",
   "execution_count": 98,
   "metadata": {
    "ExecuteTime": {
     "end_time": "2016-11-04T13:28:38.036571",
     "start_time": "2016-11-04T13:28:38.029107"
    },
    "collapsed": false
   },
   "outputs": [],
   "source": [
    "sub_standard = StandardScaler().fit_transform(df[subj_list])"
   ]
  },
  {
   "cell_type": "code",
   "execution_count": 99,
   "metadata": {
    "ExecuteTime": {
     "end_time": "2016-11-04T13:29:49.245586",
     "start_time": "2016-11-04T13:29:49.233653"
    },
    "collapsed": true
   },
   "outputs": [],
   "source": [
    "obj_standard = StandardScaler().fit_transform(df[obj_list])\n",
    "like_standard = StandardScaler().fit_transform(df[like_list])"
   ]
  },
  {
   "cell_type": "code",
   "execution_count": 100,
   "metadata": {
    "ExecuteTime": {
     "end_time": "2016-11-04T13:29:56.373416",
     "start_time": "2016-11-04T13:29:56.275499"
    },
    "collapsed": false
   },
   "outputs": [
    {
     "data": {
      "text/plain": [
       "PCA(copy=True, iterated_power='auto', n_components=None, random_state=None,\n",
       "  svd_solver='auto', tol=0.0, whiten=False)"
      ]
     },
     "execution_count": 100,
     "metadata": {},
     "output_type": "execute_result"
    }
   ],
   "source": [
    "from sklearn.decomposition import PCA\n",
    "\n",
    "pca = PCA()\n",
    "pca.fit(sub_standard)"
   ]
  },
  {
   "cell_type": "code",
   "execution_count": 101,
   "metadata": {
    "ExecuteTime": {
     "end_time": "2016-11-04T13:32:13.977708",
     "start_time": "2016-11-04T13:32:13.954159"
    },
    "collapsed": false
   },
   "outputs": [
    {
     "name": "stdout",
     "output_type": "stream",
     "text": [
      "('The information (explained variance) contained in each principal component: ', array([ 0.43093117,  0.17771361,  0.1472401 ,  0.14454555,  0.09956957]))\n",
      "[[-0.50226223 -0.31548092 -0.46678014 -0.48386605 -0.44293836]\n",
      " [ 0.21520117 -0.90627866 -0.10583025  0.27853298  0.20872658]\n",
      " [-0.40233845 -0.14490503  0.42131786 -0.47995234  0.63973691]\n",
      " [ 0.34979236 -0.22449684  0.64816115 -0.3593041  -0.52728944]\n",
      " [-0.64590261 -0.08794591  0.41628674  0.57344514 -0.27007657]]\n"
     ]
    }
   ],
   "source": [
    "print(\"The information (explained variance) contained in each principal component: \", pca.explained_variance_ratio_)\n",
    "print(pca.components_)"
   ]
  },
  {
   "cell_type": "code",
   "execution_count": 102,
   "metadata": {
    "ExecuteTime": {
     "end_time": "2016-11-04T13:32:50.425839",
     "start_time": "2016-11-04T13:32:50.406485"
    },
    "collapsed": false
   },
   "outputs": [
    {
     "name": "stdout",
     "output_type": "stream",
     "text": [
      "('The information (explained variance) contained in each principal component: ', array([ 0.45677934,  0.18837747,  0.14350009,  0.12440376,  0.08693934]))\n",
      "[[-0.44441374 -0.38535047 -0.48425962 -0.43061549 -0.48380199]\n",
      " [-0.44800261  0.622034    0.41206787 -0.48866426 -0.06143838]\n",
      " [-0.00264133 -0.57790748  0.36394753 -0.49396673  0.53810319]\n",
      " [-0.72433758 -0.00767019 -0.20758188  0.41517172  0.50972389]\n",
      " [-0.2777016  -0.36130711  0.64818566  0.39925789 -0.46128893]]\n"
     ]
    }
   ],
   "source": [
    "pca = PCA()\n",
    "pca.fit(obj_standard)\n",
    "print(\"The information (explained variance) contained in each principal component: \", pca.explained_variance_ratio_)\n",
    "print(pca.components_)"
   ]
  },
  {
   "cell_type": "code",
   "execution_count": 103,
   "metadata": {
    "ExecuteTime": {
     "end_time": "2016-11-04T13:33:00.537204",
     "start_time": "2016-11-04T13:33:00.477836"
    },
    "collapsed": false
   },
   "outputs": [
    {
     "name": "stdout",
     "output_type": "stream",
     "text": [
      "('The information (explained variance) contained in each principal component: ', array([ 0.23222315,  0.12227591,  0.09897686,  0.07410494,  0.06508082,\n",
      "        0.059612  ,  0.05665896,  0.04718946,  0.04397325,  0.04171317,\n",
      "        0.03349372,  0.02985333,  0.0259053 ,  0.02508021,  0.01898246,\n",
      "        0.01758949,  0.00728696]))\n",
      "[[ 0.11119041  0.043285    0.01374125 -0.2716203  -0.39588287 -0.39456449\n",
      "  -0.08724977 -0.00852673 -0.10694796 -0.17137261 -0.13126497 -0.38427033\n",
      "  -0.30834179 -0.32919044 -0.26995016 -0.24607328 -0.22167613]\n",
      " [ 0.47337083  0.50720676  0.33593843  0.08280048 -0.11916853 -0.11090991\n",
      "   0.11819994  0.3710932   0.21431877 -0.21055602  0.24502036 -0.07150713\n",
      "   0.0582877   0.11130953  0.12328159  0.17896408  0.04836226]\n",
      " [-0.32616646 -0.01586391 -0.25219266  0.07062075 -0.21749909 -0.21976452\n",
      "  -0.47763116  0.07737794  0.09791859 -0.13267064  0.47682628  0.05947868\n",
      "   0.22550643 -0.08108141 -0.01127378  0.36349851 -0.21743507]\n",
      " [ 0.04570789 -0.06713625  0.40354717  0.34294857  0.13934942  0.0858452\n",
      "  -0.03674201 -0.1328211  -0.0059039   0.15221644  0.1294998   0.06098299\n",
      "  -0.13528705 -0.49301581 -0.50546298  0.29093437  0.14820177]\n",
      " [ 0.13827548  0.26736327  0.21287028 -0.29395185  0.05526651  0.00809433\n",
      "  -0.15333401 -0.25439915 -0.64750067  0.30330061  0.32287237  0.08379801\n",
      "   0.19702685  0.02530547  0.072163   -0.09529165 -0.10030042]\n",
      " [-0.1378198   0.0382271  -0.28019163 -0.14257458  0.04410746  0.01793335\n",
      "   0.4209884   0.59872372 -0.07765497  0.30455709  0.24464196  0.11122052\n",
      "   0.08465732 -0.13747797 -0.34075438 -0.16160582 -0.05864369]\n",
      " [-0.16168378 -0.25094892  0.05186505 -0.11212097 -0.25956637 -0.19256964\n",
      "   0.31874692 -0.02473106 -0.33961541 -0.31637901  0.16879633 -0.0142888\n",
      "   0.02155889  0.07048026  0.0356179   0.19317188  0.63309239]\n",
      " [-0.0649973  -0.31852162  0.31644322  0.17246123 -0.26222417 -0.31304817\n",
      "  -0.03389663  0.21476993  0.03969344  0.63284173 -0.06775268 -0.16076415\n",
      "  -0.03870886  0.11039811  0.31615799  0.0641988  -0.01187937]\n",
      " [-0.03486261  0.14960142 -0.27482229  0.22086773  0.18807938  0.16590125\n",
      "  -0.09068226  0.21004134 -0.39974888  0.02051845  0.02501064 -0.3183593\n",
      "  -0.58957646  0.10200677  0.14768527  0.30743838 -0.01797281]\n",
      " [ 0.07778948 -0.20466964  0.04737854  0.49599502 -0.04705015 -0.08666135\n",
      "   0.36821367 -0.03450494 -0.35198277 -0.27578703 -0.05821918  0.00566839\n",
      "   0.25293635  0.03869451  0.01207384  0.00854476 -0.53688242]\n",
      " [ 0.18193139  0.29334739 -0.49004257  0.31149977 -0.14718541 -0.23343602\n",
      "   0.23595003 -0.45805867  0.12837332  0.31731341  0.08546277 -0.1664451\n",
      "   0.0966705   0.01804215 -0.06918344  0.00465647  0.18808047]\n",
      " [-0.01266158 -0.19274808  0.07640963 -0.39303105  0.09325577  0.13496543\n",
      "   0.42811432 -0.29304591  0.27514436  0.04368464  0.3483875  -0.22640922\n",
      "  -0.17957016 -0.0358155   0.15042797  0.30798358 -0.32411038]\n",
      " [-0.46056972  0.35206164  0.20608332  0.10897118 -0.12941343 -0.19978899\n",
      "   0.18268035 -0.15897603  0.06100032 -0.01558692  0.05322296  0.46521675\n",
      "  -0.44420389  0.19792634 -0.01410935 -0.12889653 -0.13321223]\n",
      " [-0.30764424  0.05469186  0.14847476  0.27089443  0.10565658  0.16856438\n",
      "  -0.00310703 -0.0119728   0.08099984 -0.11579802  0.38260903 -0.40508336\n",
      "   0.05094965 -0.21346847  0.2537107  -0.55523817  0.12621197]\n",
      " [ 0.47535737 -0.42404269 -0.13400752  0.11515408 -0.03898546 -0.02148139\n",
      "  -0.14425769 -0.01590553  0.04437014 -0.03876127  0.43648827  0.30881686\n",
      "  -0.35430513  0.16283558 -0.03001754 -0.31185123  0.01998239]\n",
      " [-0.11515044 -0.04729609  0.16565233  0.01535877  0.01102154  0.07607912\n",
      "  -0.09165752 -0.04081319  0.04442538  0.01360092  0.09236442 -0.36857623\n",
      "   0.07499453  0.68355982 -0.56470493 -0.04528544 -0.02217423]\n",
      " [ 0.00909019  0.04764945 -0.01384621  0.0515975  -0.72368169  0.67717216\n",
      "   0.00957091 -0.01801507 -0.0265628   0.07602919 -0.02130418  0.04939324\n",
      "  -0.01361771 -0.02975405 -0.00552681  0.01842245 -0.03576524]]\n"
     ]
    }
   ],
   "source": [
    "pca = PCA()\n",
    "pca.fit(like_standard)\n",
    "print(\"The information (explained variance) contained in each principal component: \", pca.explained_variance_ratio_)\n",
    "print(pca.components_)"
   ]
  },
  {
   "cell_type": "code",
   "execution_count": null,
   "metadata": {
    "collapsed": true
   },
   "outputs": [],
   "source": []
  }
 ],
 "metadata": {
  "kernelspec": {
   "display_name": "Python [Root]",
   "language": "python",
   "name": "Python [Root]"
  },
  "language_info": {
   "codemirror_mode": {
    "name": "ipython",
    "version": 2
   },
   "file_extension": ".py",
   "mimetype": "text/x-python",
   "name": "python",
   "nbconvert_exporter": "python",
   "pygments_lexer": "ipython2",
   "version": "2.7.12"
  }
 },
 "nbformat": 4,
 "nbformat_minor": 0
}
