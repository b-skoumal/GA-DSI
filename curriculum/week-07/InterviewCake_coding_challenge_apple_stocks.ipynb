{
 "cells": [
  {
   "cell_type": "code",
   "execution_count": 52,
   "metadata": {
    "ExecuteTime": {
     "end_time": "2016-11-02T21:21:52.911430",
     "start_time": "2016-11-02T21:21:52.895014"
    },
    "collapsed": false
   },
   "outputs": [
    {
     "name": "stdout",
     "output_type": "stream",
     "text": [
      "[[0, 12],\n",
      " [1, 6],\n",
      " [2, 16],\n",
      " [3, 10],\n",
      " [4, 7],\n",
      " [5, 5],\n",
      " [6, 8],\n",
      " [7, 11],\n",
      " [8, 3],\n",
      " [9, 2]]\n",
      "\n",
      "None\n"
     ]
    }
   ],
   "source": [
    "import pprint as pprint\n",
    "\n",
    "a = [12, 6, 16, 10, 7, 5, 8, 11, 3, 2]\n",
    "a_l = []\n",
    "\n",
    "for n, price in enumerate(a):\n",
    "    a_l.append([n, price])\n",
    "\n",
    "pprint.pprint(a_l)\n",
    "print\n",
    "print a_l.sort()"
   ]
  },
  {
   "cell_type": "code",
   "execution_count": 63,
   "metadata": {
    "ExecuteTime": {
     "end_time": "2016-11-02T21:38:20.884105",
     "start_time": "2016-11-02T21:38:20.873640"
    },
    "collapsed": false
   },
   "outputs": [
    {
     "name": "stdout",
     "output_type": "stream",
     "text": [
      "[4, 10, 0, 1, 4, 6, 3, 0, 0]\n",
      "9 10\n"
     ]
    }
   ],
   "source": [
    "profit = []\n",
    "\n",
    "\n",
    "\n",
    "\n",
    "for i in a:\n",
    "    if i == a[-1]:\n",
    "        pass\n",
    "    else:\n",
    "        profit.append(max(a[a.index(i):]) - (i))\n",
    "        \n",
    "print profit\n",
    "print len(profit), len(a)"
   ]
  },
  {
   "cell_type": "code",
   "execution_count": 64,
   "metadata": {
    "ExecuteTime": {
     "end_time": "2016-11-02T21:38:53.599327",
     "start_time": "2016-11-02T21:38:53.592954"
    },
    "collapsed": false
   },
   "outputs": [
    {
     "name": "stdout",
     "output_type": "stream",
     "text": [
      "[12, 6, 16, 10, 7, 5, 8, 11, 3, 2]\n"
     ]
    }
   ],
   "source": [
    "print a"
   ]
  },
  {
   "cell_type": "code",
   "execution_count": 33,
   "metadata": {
    "ExecuteTime": {
     "end_time": "2016-11-02T16:29:14.979245",
     "start_time": "2016-11-02T16:29:14.958498"
    },
    "collapsed": false
   },
   "outputs": [
    {
     "name": "stdout",
     "output_type": "stream",
     "text": [
      "0\n"
     ]
    }
   ],
   "source": [
    "current_min = min(a)\n",
    "current_min_index = a.index(current_min)\n",
    "\n",
    "new_list = []\n",
    "for i in range(current_min_index, len(a)):\n",
    "    new_list.append(a[i])\n",
    "    profit = max(new_list) - current_min\n",
    "\n",
    "print profit"
   ]
  },
  {
   "cell_type": "code",
   "execution_count": null,
   "metadata": {
    "collapsed": true
   },
   "outputs": [],
   "source": [
    "b_l = a_l\n",
    "\n",
    "while a_l[0]"
   ]
  },
  {
   "cell_type": "code",
   "execution_count": 22,
   "metadata": {
    "ExecuteTime": {
     "end_time": "2016-11-02T10:06:46.122390",
     "start_time": "2016-11-02T10:06:46.109163"
    },
    "collapsed": false
   },
   "outputs": [
    {
     "data": {
      "text/plain": [
       "[[2, 16],\n",
       " [0, 12],\n",
       " [7, 11],\n",
       " [3, 10],\n",
       " [6, 8],\n",
       " [4, 7],\n",
       " [1, 6],\n",
       " [5, 5],\n",
       " [8, 3],\n",
       " [9, 2]]"
      ]
     },
     "execution_count": 22,
     "metadata": {},
     "output_type": "execute_result"
    }
   ],
   "source": [
    "sorted(a_l, key=lambda x: x[1], reverse=True)"
   ]
  },
  {
   "cell_type": "code",
   "execution_count": null,
   "metadata": {
    "collapsed": true
   },
   "outputs": [],
   "source": [
    "stock_prices_yesterday = [10, 7, 5, 8, 11, 9, 4]\n",
    "\n",
    "def get_max_profit(s_list):\n",
    "    # write the body of your function here\n",
    "    \n",
    "    sn_list = []\n",
    "    \n",
    "    for n, price in enumerate s_list:\n",
    "        sn_list.append([n, price])\n",
    "    min_ind = s_list.index(min(s_list))\n",
    "    max_ind = s_list.index(max(s_list))\n",
    "    \n",
    "    # if max occurred after min, there is profit to be made\n",
    "    if max_ind > min_ind:\n",
    "        return max(s_list) - min(s_list)\n",
    "    \n",
    "    # \n",
    "    else:\n",
    "        \n",
    "    \n",
    "    \n",
    "    return 'running with %s' % arg\n",
    "\n",
    "# run your function through some test cases here\n",
    "# remember: debugging is half the battle!\n",
    "print stock_prices_yesterday('test input')\n"
   ]
  },
  {
   "cell_type": "code",
   "execution_count": 75,
   "metadata": {
    "ExecuteTime": {
     "end_time": "2016-11-03T09:57:09.822968",
     "start_time": "2016-11-03T09:57:09.810723"
    },
    "collapsed": false
   },
   "outputs": [],
   "source": [
    "def twoSum(nums, target):\n",
    "    \n",
    "        \n",
    "        \"\"\"\n",
    "        :type nums: List[int]\n",
    "        :type target: int\n",
    "        :rtype: List[int]\n",
    "        \"\"\"\n",
    "\n",
    "        if len(nums) <= 1:\n",
    "\n",
    "            return False\n",
    "        else:\n",
    "            for i in range(len(nums)):\n",
    "                difference = target - nums[i]\n",
    "                if difference in nums and (i != nums.index(difference)):\n",
    "                    return [i, nums.index(difference)]\n",
    "                else:\n",
    "                    pass"
   ]
  },
  {
   "cell_type": "code",
   "execution_count": 76,
   "metadata": {
    "ExecuteTime": {
     "end_time": "2016-11-03T09:57:10.331970",
     "start_time": "2016-11-03T09:57:10.323485"
    },
    "collapsed": false
   },
   "outputs": [
    {
     "data": {
      "text/plain": [
       "[1, 2]"
      ]
     },
     "execution_count": 76,
     "metadata": {},
     "output_type": "execute_result"
    }
   ],
   "source": [
    "a = [3,2,4]\n",
    "twoSum(a, 6)"
   ]
  },
  {
   "cell_type": "code",
   "execution_count": null,
   "metadata": {
    "collapsed": true
   },
   "outputs": [],
   "source": []
  }
 ],
 "metadata": {
  "kernelspec": {
   "display_name": "Python [Root]",
   "language": "python",
   "name": "Python [Root]"
  },
  "language_info": {
   "codemirror_mode": {
    "name": "ipython",
    "version": 2
   },
   "file_extension": ".py",
   "mimetype": "text/x-python",
   "name": "python",
   "nbconvert_exporter": "python",
   "pygments_lexer": "ipython2",
   "version": "2.7.12"
  }
 },
 "nbformat": 4,
 "nbformat_minor": 0
}
