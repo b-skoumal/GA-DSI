{
 "cells": [
  {
   "cell_type": "code",
   "execution_count": 29,
   "metadata": {
    "ExecuteTime": {
     "end_time": "2016-11-02T10:14:05.865668",
     "start_time": "2016-11-02T10:14:05.851858"
    },
    "collapsed": false
   },
   "outputs": [
    {
     "name": "stdout",
     "output_type": "stream",
     "text": [
      "[[0, 12],\n",
      " [1, 6],\n",
      " [2, 16],\n",
      " [3, 10],\n",
      " [4, 7],\n",
      " [5, 5],\n",
      " [6, 8],\n",
      " [7, 11],\n",
      " [8, 3],\n",
      " [9, 2]]\n",
      "\n",
      "None\n"
     ]
    }
   ],
   "source": [
    "import pprint as pprint\n",
    "\n",
    "a = [12, 6, 16, 10, 7, 5,8, 11,3, 2]\n",
    "a_l = []\n",
    "for n, price in enumerate(a):\n",
    "    a_l.append([n, price])\n",
    "\n",
    "pprint.pprint(a_l)\n",
    "print\n",
    "print a_l.sort()"
   ]
  },
  {
   "cell_type": "code",
   "execution_count": 32,
   "metadata": {
    "ExecuteTime": {
     "end_time": "2016-11-02T10:22:35.938014",
     "start_time": "2016-11-02T10:22:35.927771"
    },
    "collapsed": false
   },
   "outputs": [
    {
     "name": "stdout",
     "output_type": "stream",
     "text": [
      "0\n"
     ]
    }
   ],
   "source": [
    "current_min = min(a)\n",
    "current_min_index = a.index(current_min)\n",
    "\n",
    "new_list = []\n",
    "for i in range(current_min_index, len(a)):\n",
    "    new_list.append(a[i])\n",
    "    profit = max(new_list) - current_min\n",
    "\n",
    "print profit"
   ]
  },
  {
   "cell_type": "code",
   "execution_count": null,
   "metadata": {
    "collapsed": true
   },
   "outputs": [],
   "source": [
    "b_l = a_l\n",
    "\n",
    "while a_l[0]"
   ]
  },
  {
   "cell_type": "code",
   "execution_count": 22,
   "metadata": {
    "ExecuteTime": {
     "end_time": "2016-11-02T10:06:46.122390",
     "start_time": "2016-11-02T10:06:46.109163"
    },
    "collapsed": false
   },
   "outputs": [
    {
     "data": {
      "text/plain": [
       "[[2, 16],\n",
       " [0, 12],\n",
       " [7, 11],\n",
       " [3, 10],\n",
       " [6, 8],\n",
       " [4, 7],\n",
       " [1, 6],\n",
       " [5, 5],\n",
       " [8, 3],\n",
       " [9, 2]]"
      ]
     },
     "execution_count": 22,
     "metadata": {},
     "output_type": "execute_result"
    }
   ],
   "source": [
    "sorted(a_l, key=lambda x: x[1], reverse=True)"
   ]
  },
  {
   "cell_type": "code",
   "execution_count": null,
   "metadata": {
    "collapsed": true
   },
   "outputs": [],
   "source": [
    "stock_prices_yesterday = [10, 7, 5, 8, 11, 9, 4]\n",
    "\n",
    "def get_max_profit(s_list):\n",
    "    # write the body of your function here\n",
    "    \n",
    "    sn_list = []\n",
    "    \n",
    "    for n, price in enumerate s_list:\n",
    "        sn_list.append([n, price])\n",
    "    min_ind = s_list.index(min(s_list))\n",
    "    max_ind = s_list.index(max(s_list))\n",
    "    \n",
    "    # if max occurred after min, there is profit to be made\n",
    "    if max_ind > min_ind:\n",
    "        return max(s_list) - min(s_list)\n",
    "    \n",
    "    # \n",
    "    else:\n",
    "        \n",
    "    \n",
    "    \n",
    "    return 'running with %s' % arg\n",
    "\n",
    "# run your function through some test cases here\n",
    "# remember: debugging is half the battle!\n",
    "print stock_prices_yesterday('test input')\n"
   ]
  }
 ],
 "metadata": {
  "kernelspec": {
   "display_name": "Python [Root]",
   "language": "python",
   "name": "Python [Root]"
  },
  "language_info": {
   "codemirror_mode": {
    "name": "ipython",
    "version": 2
   },
   "file_extension": ".py",
   "mimetype": "text/x-python",
   "name": "python",
   "nbconvert_exporter": "python",
   "pygments_lexer": "ipython2",
   "version": "2.7.12"
  }
 },
 "nbformat": 4,
 "nbformat_minor": 0
}
