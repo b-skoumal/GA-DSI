{
 "cells": [
  {
   "cell_type": "code",
   "execution_count": 1,
   "metadata": {
    "ExecuteTime": {
     "end_time": "2016-11-04T13:57:47.352646",
     "start_time": "2016-11-04T13:57:47.087668"
    },
    "collapsed": true
   },
   "outputs": [],
   "source": [
    "import re\n",
    "import requests\n",
    "from bs4 import BeautifulSoup"
   ]
  },
  {
   "cell_type": "markdown",
   "metadata": {},
   "source": [
    "## Function to get property address"
   ]
  },
  {
   "cell_type": "code",
   "execution_count": 18,
   "metadata": {
    "ExecuteTime": {
     "end_time": "2016-11-04T14:37:26.216696",
     "start_time": "2016-11-04T14:37:26.208056"
    },
    "collapsed": true
   },
   "outputs": [],
   "source": [
    "def get_street_address(result):\n",
    "    \n",
    "    street_address = []\n",
    "    \n",
    "    for d in result.findAll(class_ = \"street-address\"):\n",
    "        \n",
    "        street_address.append((d.text).strip())\n",
    "\n",
    "    return street_address"
   ]
  },
  {
   "cell_type": "markdown",
   "metadata": {},
   "source": [
    "## Function to get property prices"
   ]
  },
  {
   "cell_type": "code",
   "execution_count": 18,
   "metadata": {
    "ExecuteTime": {
     "end_time": "2016-11-04T14:37:26.216696",
     "start_time": "2016-11-04T14:37:26.208056"
    },
    "collapsed": true
   },
   "outputs": [],
   "source": [
    "def get_street_address(result):\n",
    "    \n",
    "    street_address = []\n",
    "    \n",
    "    for d in result.findAll(class_ = \"street-address\"):\n",
    "        \n",
    "        street_address.append((d.text).strip())\n",
    "\n",
    "    return street_address"
   ]
  },
  {
   "cell_type": "markdown",
   "metadata": {},
   "source": [
    "## Combining all parameters of each property"
   ]
  },
  {
   "cell_type": "code",
   "execution_count": 19,
   "metadata": {
    "ExecuteTime": {
     "end_time": "2016-11-04T14:37:29.844068",
     "start_time": "2016-11-04T14:37:27.287072"
    },
    "collapsed": false
   },
   "outputs": [],
   "source": [
    "url = 'http://www.loopnet.com/for-lease/new-york-ny/retail/'\n",
    "\n",
    "results = []\n",
    "\n",
    "r = requests.get(url)\n",
    "\n",
    "page = r.content\n",
    "soup = BeautifulSoup(page, 'lxml')\n",
    "\n",
    "results.append(get_street_address(soup))\n",
    "#results.append(get_location(soup))\n",
    "#results.append(get_company(soup))\n",
    "#results.append(get_salary(soup))\n",
    "#results.append(get_review(soup))\n",
    "#results.append(get_rating(soup))\n",
    "#results.append(get_summary(soup))"
   ]
  },
  {
   "cell_type": "code",
   "execution_count": 21,
   "metadata": {
    "ExecuteTime": {
     "end_time": "2016-11-04T14:37:35.871519",
     "start_time": "2016-11-04T14:37:35.865639"
    },
    "collapsed": false
   },
   "outputs": [
    {
     "name": "stdout",
     "output_type": "stream",
     "text": [
      "[u'134 West 37th Street', u'517 Columbus Avenue', u'143 Orchard St', u'76 Wooster St', u'117 East 15th Street', u'250 Hudson St', u'485 Madison Ave', u'315 Madison Ave', u'315 Hudson St', u'261 Fifth Ave', u'100 Broad St', u'382 Lafayette Street', u'155 West 18th Street', u'142-144 west 26 street', u'110 Madison Ave', u'172 Madison Ave', u'223 E 5th St', u'119 W 23rd St', u'1 E 125th Street', u'530 Seventh Avenue']\n"
     ]
    }
   ],
   "source": [
    "print results[0]"
   ]
  },
  {
   "cell_type": "code",
   "execution_count": null,
   "metadata": {
    "collapsed": true
   },
   "outputs": [],
   "source": [
    "url_template = \"http://www.indeed.com/jobs?q=data+scientist+%2420%2C000&l={&start={\"\n",
    "url_list = url_template.split('{')\n",
    "max_results_per_city = 300\n",
    "\n",
    "results = []\n",
    "\n",
    "for city in set(cities_list):\n",
    "    \n",
    "    for start in range(0, max_results_per_city, 10):\n",
    "        \n",
    "        url = url_list[0] + city + url_list[1] + str(start)\n",
    "        \n",
    "        r = requests.get(url)\n",
    "        if str(r) == \"<Response [200]>\":\n",
    "            \n",
    "            page = r.content\n",
    "            soup = BeautifulSoup(page, 'lxml')\n",
    "            \n",
    "            results.append(get_job(soup))\n",
    "            results.append(get_location(soup))\n",
    "            results.append(get_company(soup))\n",
    "            results.append(get_salary(soup))\n",
    "            results.append(get_review(soup))\n",
    "            results.append(get_rating(soup))\n",
    "            results.append(get_summary(soup))\n",
    "            \n",
    "        else:\n",
    "            print \"This url is not responding favorably.\"\n",
    "            print \"url =\", url\n",
    "            print \"response =\", r\n",
    "            \n",
    "        # Grab the results from the request (as above)\n",
    "        # Append to the full set of results"
   ]
  },
  {
   "cell_type": "code",
   "execution_count": null,
   "metadata": {
    "collapsed": true
   },
   "outputs": [],
   "source": []
  },
  {
   "cell_type": "code",
   "execution_count": null,
   "metadata": {
    "collapsed": true
   },
   "outputs": [],
   "source": []
  },
  {
   "cell_type": "markdown",
   "metadata": {},
   "source": [
    "## Resources and references"
   ]
  },
  {
   "cell_type": "markdown",
   "metadata": {},
   "source": [
    "1. Source for property listings - http://www.loopnet.com/"
   ]
  },
  {
   "cell_type": "code",
   "execution_count": null,
   "metadata": {
    "collapsed": true
   },
   "outputs": [],
   "source": []
  }
 ],
 "metadata": {
  "kernelspec": {
   "display_name": "Python [Root]",
   "language": "python",
   "name": "Python [Root]"
  },
  "language_info": {
   "codemirror_mode": {
    "name": "ipython",
    "version": 2
   },
   "file_extension": ".py",
   "mimetype": "text/x-python",
   "name": "python",
   "nbconvert_exporter": "python",
   "pygments_lexer": "ipython2",
   "version": "2.7.12"
  }
 },
 "nbformat": 4,
 "nbformat_minor": 0
}
