{
 "cells": [
  {
   "cell_type": "code",
   "execution_count": 1,
   "metadata": {
    "ExecuteTime": {
     "end_time": "2016-11-02T11:07:53.642937",
     "start_time": "2016-11-02T11:07:50.084799"
    },
    "collapsed": true
   },
   "outputs": [],
   "source": [
    "import pandas as pd\n",
    "import numpy as np\n",
    "import os\n",
    "from matplotlib import pyplot as plt\n",
    "import numpy as np\n",
    "import math\n",
    "from sklearn.preprocessing import StandardScaler\n",
    "from sklearn.decomposition import PCA \n",
    "\n",
    "votes_file = '../assets/datasets/votes.csv'\n",
    "airport_file = '../assets/datasets/Airport_operations.csv'"
   ]
  },
  {
   "cell_type": "markdown",
   "metadata": {},
   "source": [
    "# Case #1: Congressional Voting Data"
   ]
  },
  {
   "cell_type": "markdown",
   "metadata": {},
   "source": [
    "After you've downloaded the data from the repository, go ahead and load it with Pandas"
   ]
  },
  {
   "cell_type": "code",
   "execution_count": 2,
   "metadata": {
    "ExecuteTime": {
     "end_time": "2016-11-02T11:57:12.286650",
     "start_time": "2016-11-02T11:57:12.232183"
    },
    "collapsed": false
   },
   "outputs": [],
   "source": [
    "vote = pd.read_csv(votes_file)\n",
    "ap = pd.read_csv(airport_file)"
   ]
  },
  {
   "cell_type": "code",
   "execution_count": 3,
   "metadata": {
    "ExecuteTime": {
     "end_time": "2016-11-02T11:57:25.241111",
     "start_time": "2016-11-02T11:57:25.131835"
    },
    "collapsed": false
   },
   "outputs": [
    {
     "data": {
      "text/html": [
       "<div>\n",
       "<table border=\"1\" class=\"dataframe\">\n",
       "  <thead>\n",
       "    <tr style=\"text-align: right;\">\n",
       "      <th></th>\n",
       "      <th>Unnamed: 0</th>\n",
       "      <th>Class</th>\n",
       "      <th>V1</th>\n",
       "      <th>V2</th>\n",
       "      <th>V3</th>\n",
       "      <th>V4</th>\n",
       "      <th>V5</th>\n",
       "      <th>V6</th>\n",
       "      <th>V7</th>\n",
       "      <th>V8</th>\n",
       "      <th>V9</th>\n",
       "      <th>V10</th>\n",
       "      <th>V11</th>\n",
       "      <th>V12</th>\n",
       "      <th>V13</th>\n",
       "      <th>V14</th>\n",
       "      <th>V15</th>\n",
       "      <th>V16</th>\n",
       "    </tr>\n",
       "  </thead>\n",
       "  <tbody>\n",
       "    <tr>\n",
       "      <th>0</th>\n",
       "      <td>1</td>\n",
       "      <td>republican</td>\n",
       "      <td>n</td>\n",
       "      <td>y</td>\n",
       "      <td>n</td>\n",
       "      <td>y</td>\n",
       "      <td>y</td>\n",
       "      <td>y</td>\n",
       "      <td>n</td>\n",
       "      <td>n</td>\n",
       "      <td>n</td>\n",
       "      <td>y</td>\n",
       "      <td>NaN</td>\n",
       "      <td>y</td>\n",
       "      <td>y</td>\n",
       "      <td>y</td>\n",
       "      <td>n</td>\n",
       "      <td>y</td>\n",
       "    </tr>\n",
       "    <tr>\n",
       "      <th>1</th>\n",
       "      <td>2</td>\n",
       "      <td>republican</td>\n",
       "      <td>n</td>\n",
       "      <td>y</td>\n",
       "      <td>n</td>\n",
       "      <td>y</td>\n",
       "      <td>y</td>\n",
       "      <td>y</td>\n",
       "      <td>n</td>\n",
       "      <td>n</td>\n",
       "      <td>n</td>\n",
       "      <td>n</td>\n",
       "      <td>n</td>\n",
       "      <td>y</td>\n",
       "      <td>y</td>\n",
       "      <td>y</td>\n",
       "      <td>n</td>\n",
       "      <td>NaN</td>\n",
       "    </tr>\n",
       "    <tr>\n",
       "      <th>2</th>\n",
       "      <td>3</td>\n",
       "      <td>democrat</td>\n",
       "      <td>NaN</td>\n",
       "      <td>y</td>\n",
       "      <td>y</td>\n",
       "      <td>NaN</td>\n",
       "      <td>y</td>\n",
       "      <td>y</td>\n",
       "      <td>n</td>\n",
       "      <td>n</td>\n",
       "      <td>n</td>\n",
       "      <td>n</td>\n",
       "      <td>y</td>\n",
       "      <td>n</td>\n",
       "      <td>y</td>\n",
       "      <td>y</td>\n",
       "      <td>n</td>\n",
       "      <td>n</td>\n",
       "    </tr>\n",
       "    <tr>\n",
       "      <th>3</th>\n",
       "      <td>4</td>\n",
       "      <td>democrat</td>\n",
       "      <td>n</td>\n",
       "      <td>y</td>\n",
       "      <td>y</td>\n",
       "      <td>n</td>\n",
       "      <td>NaN</td>\n",
       "      <td>y</td>\n",
       "      <td>n</td>\n",
       "      <td>n</td>\n",
       "      <td>n</td>\n",
       "      <td>n</td>\n",
       "      <td>y</td>\n",
       "      <td>n</td>\n",
       "      <td>y</td>\n",
       "      <td>n</td>\n",
       "      <td>n</td>\n",
       "      <td>y</td>\n",
       "    </tr>\n",
       "    <tr>\n",
       "      <th>4</th>\n",
       "      <td>5</td>\n",
       "      <td>democrat</td>\n",
       "      <td>y</td>\n",
       "      <td>y</td>\n",
       "      <td>y</td>\n",
       "      <td>n</td>\n",
       "      <td>y</td>\n",
       "      <td>y</td>\n",
       "      <td>n</td>\n",
       "      <td>n</td>\n",
       "      <td>n</td>\n",
       "      <td>n</td>\n",
       "      <td>y</td>\n",
       "      <td>NaN</td>\n",
       "      <td>y</td>\n",
       "      <td>y</td>\n",
       "      <td>y</td>\n",
       "      <td>y</td>\n",
       "    </tr>\n",
       "  </tbody>\n",
       "</table>\n",
       "</div>"
      ],
      "text/plain": [
       "   Unnamed: 0       Class   V1 V2 V3   V4   V5 V6 V7 V8 V9 V10  V11  V12 V13  \\\n",
       "0           1  republican    n  y  n    y    y  y  n  n  n   y  NaN    y   y   \n",
       "1           2  republican    n  y  n    y    y  y  n  n  n   n    n    y   y   \n",
       "2           3    democrat  NaN  y  y  NaN    y  y  n  n  n   n    y    n   y   \n",
       "3           4    democrat    n  y  y    n  NaN  y  n  n  n   n    y    n   y   \n",
       "4           5    democrat    y  y  y    n    y  y  n  n  n   n    y  NaN   y   \n",
       "\n",
       "  V14 V15  V16  \n",
       "0   y   n    y  \n",
       "1   y   n  NaN  \n",
       "2   y   n    n  \n",
       "3   n   n    y  \n",
       "4   y   y    y  "
      ]
     },
     "execution_count": 3,
     "metadata": {},
     "output_type": "execute_result"
    }
   ],
   "source": [
    "vote.head()"
   ]
  },
  {
   "cell_type": "code",
   "execution_count": 4,
   "metadata": {
    "ExecuteTime": {
     "end_time": "2016-11-02T11:58:11.587107",
     "start_time": "2016-11-02T11:58:11.579431"
    },
    "collapsed": false
   },
   "outputs": [
    {
     "data": {
      "text/plain": [
       "435"
      ]
     },
     "execution_count": 4,
     "metadata": {},
     "output_type": "execute_result"
    }
   ],
   "source": [
    "len(vote)"
   ]
  },
  {
   "cell_type": "code",
   "execution_count": 5,
   "metadata": {
    "ExecuteTime": {
     "end_time": "2016-11-02T11:58:28.201446",
     "start_time": "2016-11-02T11:58:28.180032"
    },
    "collapsed": false
   },
   "outputs": [
    {
     "data": {
      "text/plain": [
       "232"
      ]
     },
     "execution_count": 5,
     "metadata": {},
     "output_type": "execute_result"
    }
   ],
   "source": [
    "vote = vote.dropna()\n",
    "len(vote)"
   ]
  },
  {
   "cell_type": "code",
   "execution_count": 6,
   "metadata": {
    "ExecuteTime": {
     "end_time": "2016-11-02T11:58:44.095319",
     "start_time": "2016-11-02T11:58:44.029328"
    },
    "collapsed": false
   },
   "outputs": [
    {
     "data": {
      "text/html": [
       "<div>\n",
       "<table border=\"1\" class=\"dataframe\">\n",
       "  <thead>\n",
       "    <tr style=\"text-align: right;\">\n",
       "      <th></th>\n",
       "      <th>Unnamed: 0</th>\n",
       "      <th>Class</th>\n",
       "      <th>V1</th>\n",
       "      <th>V2</th>\n",
       "      <th>V3</th>\n",
       "      <th>V4</th>\n",
       "      <th>V5</th>\n",
       "      <th>V6</th>\n",
       "      <th>V7</th>\n",
       "      <th>V8</th>\n",
       "      <th>V9</th>\n",
       "      <th>V10</th>\n",
       "      <th>V11</th>\n",
       "      <th>V12</th>\n",
       "      <th>V13</th>\n",
       "      <th>V14</th>\n",
       "      <th>V15</th>\n",
       "      <th>V16</th>\n",
       "    </tr>\n",
       "  </thead>\n",
       "  <tbody>\n",
       "    <tr>\n",
       "      <th>5</th>\n",
       "      <td>6</td>\n",
       "      <td>democrat</td>\n",
       "      <td>n</td>\n",
       "      <td>y</td>\n",
       "      <td>y</td>\n",
       "      <td>n</td>\n",
       "      <td>y</td>\n",
       "      <td>y</td>\n",
       "      <td>n</td>\n",
       "      <td>n</td>\n",
       "      <td>n</td>\n",
       "      <td>n</td>\n",
       "      <td>n</td>\n",
       "      <td>n</td>\n",
       "      <td>y</td>\n",
       "      <td>y</td>\n",
       "      <td>y</td>\n",
       "      <td>y</td>\n",
       "    </tr>\n",
       "    <tr>\n",
       "      <th>8</th>\n",
       "      <td>9</td>\n",
       "      <td>republican</td>\n",
       "      <td>n</td>\n",
       "      <td>y</td>\n",
       "      <td>n</td>\n",
       "      <td>y</td>\n",
       "      <td>y</td>\n",
       "      <td>y</td>\n",
       "      <td>n</td>\n",
       "      <td>n</td>\n",
       "      <td>n</td>\n",
       "      <td>n</td>\n",
       "      <td>n</td>\n",
       "      <td>y</td>\n",
       "      <td>y</td>\n",
       "      <td>y</td>\n",
       "      <td>n</td>\n",
       "      <td>y</td>\n",
       "    </tr>\n",
       "    <tr>\n",
       "      <th>19</th>\n",
       "      <td>20</td>\n",
       "      <td>democrat</td>\n",
       "      <td>y</td>\n",
       "      <td>y</td>\n",
       "      <td>y</td>\n",
       "      <td>n</td>\n",
       "      <td>n</td>\n",
       "      <td>n</td>\n",
       "      <td>y</td>\n",
       "      <td>y</td>\n",
       "      <td>y</td>\n",
       "      <td>n</td>\n",
       "      <td>y</td>\n",
       "      <td>n</td>\n",
       "      <td>n</td>\n",
       "      <td>n</td>\n",
       "      <td>y</td>\n",
       "      <td>y</td>\n",
       "    </tr>\n",
       "    <tr>\n",
       "      <th>23</th>\n",
       "      <td>24</td>\n",
       "      <td>democrat</td>\n",
       "      <td>y</td>\n",
       "      <td>y</td>\n",
       "      <td>y</td>\n",
       "      <td>n</td>\n",
       "      <td>n</td>\n",
       "      <td>n</td>\n",
       "      <td>y</td>\n",
       "      <td>y</td>\n",
       "      <td>y</td>\n",
       "      <td>n</td>\n",
       "      <td>n</td>\n",
       "      <td>n</td>\n",
       "      <td>n</td>\n",
       "      <td>n</td>\n",
       "      <td>y</td>\n",
       "      <td>y</td>\n",
       "    </tr>\n",
       "    <tr>\n",
       "      <th>25</th>\n",
       "      <td>26</td>\n",
       "      <td>democrat</td>\n",
       "      <td>y</td>\n",
       "      <td>n</td>\n",
       "      <td>y</td>\n",
       "      <td>n</td>\n",
       "      <td>n</td>\n",
       "      <td>n</td>\n",
       "      <td>y</td>\n",
       "      <td>y</td>\n",
       "      <td>y</td>\n",
       "      <td>y</td>\n",
       "      <td>n</td>\n",
       "      <td>n</td>\n",
       "      <td>n</td>\n",
       "      <td>n</td>\n",
       "      <td>y</td>\n",
       "      <td>y</td>\n",
       "    </tr>\n",
       "  </tbody>\n",
       "</table>\n",
       "</div>"
      ],
      "text/plain": [
       "    Unnamed: 0       Class V1 V2 V3 V4 V5 V6 V7 V8 V9 V10 V11 V12 V13 V14 V15  \\\n",
       "5            6    democrat  n  y  y  n  y  y  n  n  n   n   n   n   y   y   y   \n",
       "8            9  republican  n  y  n  y  y  y  n  n  n   n   n   y   y   y   n   \n",
       "19          20    democrat  y  y  y  n  n  n  y  y  y   n   y   n   n   n   y   \n",
       "23          24    democrat  y  y  y  n  n  n  y  y  y   n   n   n   n   n   y   \n",
       "25          26    democrat  y  n  y  n  n  n  y  y  y   y   n   n   n   n   y   \n",
       "\n",
       "   V16  \n",
       "5    y  \n",
       "8    y  \n",
       "19   y  \n",
       "23   y  \n",
       "25   y  "
      ]
     },
     "execution_count": 6,
     "metadata": {},
     "output_type": "execute_result"
    }
   ],
   "source": [
    "vote.head()"
   ]
  },
  {
   "cell_type": "markdown",
   "metadata": {},
   "source": [
    "Next, let's define the x and y variables: "
   ]
  },
  {
   "cell_type": "code",
   "execution_count": 8,
   "metadata": {
    "ExecuteTime": {
     "end_time": "2016-11-02T12:00:41.890150",
     "start_time": "2016-11-02T12:00:41.825655"
    },
    "collapsed": false
   },
   "outputs": [
    {
     "data": {
      "text/html": [
       "<div>\n",
       "<table border=\"1\" class=\"dataframe\">\n",
       "  <thead>\n",
       "    <tr style=\"text-align: right;\">\n",
       "      <th></th>\n",
       "      <th>V1</th>\n",
       "      <th>V2</th>\n",
       "      <th>V3</th>\n",
       "      <th>V4</th>\n",
       "      <th>V5</th>\n",
       "      <th>V6</th>\n",
       "      <th>V7</th>\n",
       "      <th>V8</th>\n",
       "      <th>V9</th>\n",
       "      <th>V10</th>\n",
       "      <th>V11</th>\n",
       "      <th>V12</th>\n",
       "      <th>V13</th>\n",
       "      <th>V14</th>\n",
       "      <th>V15</th>\n",
       "      <th>V16</th>\n",
       "    </tr>\n",
       "  </thead>\n",
       "  <tbody>\n",
       "    <tr>\n",
       "      <th>5</th>\n",
       "      <td>n</td>\n",
       "      <td>y</td>\n",
       "      <td>y</td>\n",
       "      <td>n</td>\n",
       "      <td>y</td>\n",
       "      <td>y</td>\n",
       "      <td>n</td>\n",
       "      <td>n</td>\n",
       "      <td>n</td>\n",
       "      <td>n</td>\n",
       "      <td>n</td>\n",
       "      <td>n</td>\n",
       "      <td>y</td>\n",
       "      <td>y</td>\n",
       "      <td>y</td>\n",
       "      <td>y</td>\n",
       "    </tr>\n",
       "    <tr>\n",
       "      <th>8</th>\n",
       "      <td>n</td>\n",
       "      <td>y</td>\n",
       "      <td>n</td>\n",
       "      <td>y</td>\n",
       "      <td>y</td>\n",
       "      <td>y</td>\n",
       "      <td>n</td>\n",
       "      <td>n</td>\n",
       "      <td>n</td>\n",
       "      <td>n</td>\n",
       "      <td>n</td>\n",
       "      <td>y</td>\n",
       "      <td>y</td>\n",
       "      <td>y</td>\n",
       "      <td>n</td>\n",
       "      <td>y</td>\n",
       "    </tr>\n",
       "    <tr>\n",
       "      <th>19</th>\n",
       "      <td>y</td>\n",
       "      <td>y</td>\n",
       "      <td>y</td>\n",
       "      <td>n</td>\n",
       "      <td>n</td>\n",
       "      <td>n</td>\n",
       "      <td>y</td>\n",
       "      <td>y</td>\n",
       "      <td>y</td>\n",
       "      <td>n</td>\n",
       "      <td>y</td>\n",
       "      <td>n</td>\n",
       "      <td>n</td>\n",
       "      <td>n</td>\n",
       "      <td>y</td>\n",
       "      <td>y</td>\n",
       "    </tr>\n",
       "    <tr>\n",
       "      <th>23</th>\n",
       "      <td>y</td>\n",
       "      <td>y</td>\n",
       "      <td>y</td>\n",
       "      <td>n</td>\n",
       "      <td>n</td>\n",
       "      <td>n</td>\n",
       "      <td>y</td>\n",
       "      <td>y</td>\n",
       "      <td>y</td>\n",
       "      <td>n</td>\n",
       "      <td>n</td>\n",
       "      <td>n</td>\n",
       "      <td>n</td>\n",
       "      <td>n</td>\n",
       "      <td>y</td>\n",
       "      <td>y</td>\n",
       "    </tr>\n",
       "    <tr>\n",
       "      <th>25</th>\n",
       "      <td>y</td>\n",
       "      <td>n</td>\n",
       "      <td>y</td>\n",
       "      <td>n</td>\n",
       "      <td>n</td>\n",
       "      <td>n</td>\n",
       "      <td>y</td>\n",
       "      <td>y</td>\n",
       "      <td>y</td>\n",
       "      <td>y</td>\n",
       "      <td>n</td>\n",
       "      <td>n</td>\n",
       "      <td>n</td>\n",
       "      <td>n</td>\n",
       "      <td>y</td>\n",
       "      <td>y</td>\n",
       "    </tr>\n",
       "  </tbody>\n",
       "</table>\n",
       "</div>"
      ],
      "text/plain": [
       "   V1 V2 V3 V4 V5 V6 V7 V8 V9 V10 V11 V12 V13 V14 V15 V16\n",
       "5   n  y  y  n  y  y  n  n  n   n   n   n   y   y   y   y\n",
       "8   n  y  n  y  y  y  n  n  n   n   n   y   y   y   n   y\n",
       "19  y  y  y  n  n  n  y  y  y   n   y   n   n   n   y   y\n",
       "23  y  y  y  n  n  n  y  y  y   n   n   n   n   n   y   y\n",
       "25  y  n  y  n  n  n  y  y  y   y   n   n   n   n   y   y"
      ]
     },
     "execution_count": 8,
     "metadata": {},
     "output_type": "execute_result"
    }
   ],
   "source": [
    "X = vote.iloc[:, 2:]\n",
    "X.head()"
   ]
  },
  {
   "cell_type": "code",
   "execution_count": 9,
   "metadata": {
    "ExecuteTime": {
     "end_time": "2016-11-02T12:00:56.931556",
     "start_time": "2016-11-02T12:00:56.925505"
    },
    "collapsed": true
   },
   "outputs": [],
   "source": [
    "y = vote['Class']"
   ]
  },
  {
   "cell_type": "markdown",
   "metadata": {},
   "source": [
    "Next, create the covariance matrix from the standardized x-values and decompose these values to find the eigenvalues and eigenvectors"
   ]
  },
  {
   "cell_type": "code",
   "execution_count": 11,
   "metadata": {
    "ExecuteTime": {
     "end_time": "2016-11-02T12:03:50.595475",
     "start_time": "2016-11-02T12:03:50.569314"
    },
    "collapsed": true
   },
   "outputs": [],
   "source": [
    "X = X.applymap(lambda x: 1 if x == 'y' else 0)"
   ]
  },
  {
   "cell_type": "code",
   "execution_count": 14,
   "metadata": {
    "ExecuteTime": {
     "end_time": "2016-11-02T12:06:04.070309",
     "start_time": "2016-11-02T12:06:04.064615"
    },
    "collapsed": false
   },
   "outputs": [],
   "source": [
    "X_s = StandardScaler().fit_transform(X)\n",
    "X_s = pd.DataFrame(X_s, columns= X.columns)"
   ]
  },
  {
   "cell_type": "code",
   "execution_count": 24,
   "metadata": {
    "ExecuteTime": {
     "end_time": "2016-11-02T12:11:49.056262",
     "start_time": "2016-11-02T12:11:49.051113"
    },
    "collapsed": false
   },
   "outputs": [],
   "source": [
    "X_s_corr = np.cov(X_s.values.T)"
   ]
  },
  {
   "cell_type": "markdown",
   "metadata": {},
   "source": [
    "Now, let's check the eigenvalues: "
   ]
  },
  {
   "cell_type": "code",
   "execution_count": null,
   "metadata": {
    "collapsed": true
   },
   "outputs": [],
   "source": []
  },
  {
   "cell_type": "code",
   "execution_count": 25,
   "metadata": {
    "ExecuteTime": {
     "end_time": "2016-11-02T12:11:52.459457",
     "start_time": "2016-11-02T12:11:52.450358"
    },
    "collapsed": false
   },
   "outputs": [
    {
     "name": "stdout",
     "output_type": "stream",
     "text": [
      "[ 7.72441821  1.38414615  1.0518882   0.9697194   0.80765992  0.72917396\n",
      "  0.10499427  0.17814579  0.20187395  0.27597898  0.32292795  0.35727403\n",
      "  0.37876783  0.49242232  0.54322922  0.54664388]\n"
     ]
    }
   ],
   "source": [
    "eig_val, eig_vec = np.linalg.eig(X_s_corr)\n",
    "print eig_val\n"
   ]
  },
  {
   "cell_type": "markdown",
   "metadata": {},
   "source": [
    "And the eigenvectors: "
   ]
  },
  {
   "cell_type": "code",
   "execution_count": 26,
   "metadata": {
    "ExecuteTime": {
     "end_time": "2016-11-02T12:11:54.824827",
     "start_time": "2016-11-02T12:11:54.800782"
    },
    "collapsed": false
   },
   "outputs": [
    {
     "name": "stdout",
     "output_type": "stream",
     "text": [
      "[[  1.84608588e-01   1.79544628e-01   3.96877507e-02  -5.18236597e-01\n",
      "   -4.58868451e-01   4.65381884e-01   1.79916607e-02  -8.13810996e-02\n",
      "   -5.44744281e-03  -1.59364099e-01   1.69450750e-01   8.32207705e-02\n",
      "   -6.61375184e-02  -2.92779341e-01   2.76730743e-01   4.13800644e-02]\n",
      " [ -4.74282209e-02   6.48573848e-01  -1.18761132e-01  -3.73350711e-01\n",
      "    9.30132071e-02  -4.61402638e-01  -1.75377517e-02  -6.80041937e-02\n",
      "    1.26056140e-01  -4.14475796e-02  -5.17595157e-04  -1.22653581e-01\n",
      "    2.05367759e-01   6.86284905e-02   2.86201962e-02  -3.41722769e-01]\n",
      " [  2.86321599e-01   4.73091554e-02  -1.88931793e-01  -8.32651252e-02\n",
      "    1.59714378e-01  -5.04457911e-02   1.35255869e-01  -1.33880242e-01\n",
      "    9.43254701e-02  -2.12382774e-01  -7.55148372e-01   9.54559997e-02\n",
      "    6.08936441e-02  -1.21667214e-01   9.24259191e-02   3.85310015e-01]\n",
      " [ -3.04936211e-01  -1.42532176e-01   4.73997626e-02  -1.28224416e-01\n",
      "   -1.50912081e-02   2.83604055e-02   3.15904889e-01   5.49808623e-02\n",
      "   -6.28745988e-01  -3.64766546e-01  -2.61602570e-01  -9.29292702e-02\n",
      "   -3.62152588e-02  -8.16902586e-02  -1.01465092e-01  -3.74741891e-01]\n",
      " [ -3.29910006e-01   1.71351434e-02  -6.74782933e-02  -8.36075624e-02\n",
      "    5.26156289e-02   1.93480889e-01  -8.28521759e-01  -8.28399385e-02\n",
      "   -1.52466445e-01   6.27365971e-02  -2.92520450e-01  -1.07358630e-01\n",
      "   -4.69445359e-02   3.73187319e-02   1.30644392e-01  -2.94582715e-02]\n",
      " [ -2.59728206e-01   1.12308513e-01  -2.97961005e-01   1.47971050e-01\n",
      "    2.49912021e-01   6.10080739e-02   8.27703608e-02  -1.52299249e-01\n",
      "   -2.26954066e-01  -2.44508552e-01   3.76328848e-01  -2.15774159e-01\n",
      "    3.56510175e-01  -1.01650533e-01   2.82445848e-01   4.43108796e-01]\n",
      " [  2.72182340e-01  -1.69498990e-01  -4.75401821e-03  -1.12897535e-01\n",
      "    2.10302308e-01   1.57913183e-01   3.39625608e-04  -1.07452559e-01\n",
      "    1.53954930e-02   3.18489418e-01  -2.38875791e-02  -5.95916368e-01\n",
      "    2.34336249e-01  -4.50981150e-01  -2.50639273e-01  -1.58844657e-01]\n",
      " [  3.18644561e-01  -3.22791426e-02  -3.06631323e-02   3.01100165e-02\n",
      "    7.41899665e-02  -1.69370196e-01  -3.36815220e-01   6.78051665e-01\n",
      "   -5.10740291e-02  -4.30666349e-01   1.32854677e-01   3.29334965e-02\n",
      "    8.33651644e-02  -2.55389946e-01  -9.45969656e-02   1.57635967e-02]\n",
      " [  3.08101386e-01  -9.33135891e-02  -2.29168157e-02   4.28389950e-02\n",
      "    9.74190965e-03  -2.38461278e-01  -2.56180263e-01  -6.37290258e-01\n",
      "   -2.48334915e-01  -2.14545954e-01   2.19457956e-01   3.05896762e-01\n",
      "   -4.53184959e-02  -1.27613024e-01  -3.08467514e-01  -4.85179056e-02]\n",
      " [  2.19086701e-02  -4.19640809e-01  -7.13486738e-01  -8.02427578e-02\n",
      "   -4.07936616e-01  -2.53986504e-01  -7.35805015e-03   3.40075563e-03\n",
      "    9.38554369e-02   1.91732795e-02   1.55291115e-02  -1.53336612e-01\n",
      "   -2.82932323e-02   9.77735947e-02   1.27741030e-01  -1.31622800e-01]\n",
      " [  8.07853701e-02   4.92987285e-01  -4.34040883e-01   4.46734848e-01\n",
      "   -1.50435926e-01   3.97073293e-01   3.32925563e-02   4.18454357e-02\n",
      "   -4.80288486e-02  -2.42613149e-02  -6.13661959e-02  -2.09923443e-02\n",
      "   -1.44967951e-01   6.81130923e-04  -3.68243994e-01  -1.24877806e-01]\n",
      " [ -3.07651765e-01  -8.52118925e-02   6.91484796e-02   4.51701177e-02\n",
      "    9.81333228e-02   2.02476283e-02   9.63168198e-03  -1.77843949e-01\n",
      "    5.72971135e-01  -5.11075372e-01   4.44810326e-02  -2.49926669e-01\n",
      "   -3.75737991e-01  -1.94197233e-01  -1.09102252e-01  -6.91039395e-02]\n",
      " [ -2.70682719e-01   1.05906200e-01  -1.80910940e-01  -8.43881653e-02\n",
      "    1.03501496e-01  -2.57916137e-01   6.47577001e-02   1.18928578e-01\n",
      "   -1.27717953e-01   3.68057665e-01   4.36657869e-02   2.23694723e-01\n",
      "   -4.53490581e-01  -5.81312143e-01  -1.89997279e-02   1.80085805e-01]\n",
      " [ -2.78416270e-01  -1.50697983e-01  -1.40999331e-01   2.11699285e-02\n",
      "    9.31247089e-02   1.96560575e-01   1.92721305e-02   1.03980038e-02\n",
      "    2.89969819e-01   2.03150764e-02  -4.59126610e-02   5.41182069e-01\n",
      "    5.34256207e-01  -2.75091310e-01  -6.75705125e-02  -2.94118710e-01]\n",
      " [  2.28031212e-01   4.60575409e-02   7.16858914e-02   4.58989624e-01\n",
      "    7.73457364e-02  -5.39480269e-02   1.57633281e-03  -1.01169367e-01\n",
      "   -2.50723263e-02   4.65697437e-03  -4.94393577e-02  -3.73467237e-03\n",
      "   -1.11736916e-01  -2.31991624e-01   6.80898813e-01  -4.21785132e-01]\n",
      " [  1.93447207e-01  -1.03599132e-01  -3.02608418e-01  -3.13049398e-01\n",
      "    6.44950222e-01   2.91343897e-01   5.55314486e-02   4.93030133e-02\n",
      "   -1.25245234e-02  -3.11750783e-03   1.63040997e-01   1.51911605e-01\n",
      "   -2.97735203e-01   2.77098715e-01   8.73163463e-02  -1.81760436e-01]]\n"
     ]
    }
   ],
   "source": [
    "print eig_vec"
   ]
  },
  {
   "cell_type": "markdown",
   "metadata": {},
   "source": [
    "To find the principal componants, find the eigenpairs, and sort them from highest to lowest. "
   ]
  },
  {
   "cell_type": "code",
   "execution_count": 27,
   "metadata": {
    "ExecuteTime": {
     "end_time": "2016-11-02T12:11:57.801458",
     "start_time": "2016-11-02T12:11:57.750120"
    },
    "collapsed": false
   },
   "outputs": [
    {
     "data": {
      "text/plain": [
       "[[7.7244182114100282,\n",
       "  array([ 0.18460859,  0.17954463,  0.03968775, -0.5182366 , -0.45886845,\n",
       "          0.46538188,  0.01799166, -0.0813811 , -0.00544744, -0.1593641 ,\n",
       "          0.16945075,  0.08322077, -0.06613752, -0.29277934,  0.27673074,\n",
       "          0.04138006])],\n",
       " [1.3841461523614766,\n",
       "  array([ -4.74282209e-02,   6.48573848e-01,  -1.18761132e-01,\n",
       "          -3.73350711e-01,   9.30132071e-02,  -4.61402638e-01,\n",
       "          -1.75377517e-02,  -6.80041937e-02,   1.26056140e-01,\n",
       "          -4.14475796e-02,  -5.17595157e-04,  -1.22653581e-01,\n",
       "           2.05367759e-01,   6.86284905e-02,   2.86201962e-02,\n",
       "          -3.41722769e-01])],\n",
       " [1.0518881973423055,\n",
       "  array([ 0.2863216 ,  0.04730916, -0.18893179, -0.08326513,  0.15971438,\n",
       "         -0.05044579,  0.13525587, -0.13388024,  0.09432547, -0.21238277,\n",
       "         -0.75514837,  0.095456  ,  0.06089364, -0.12166721,  0.09242592,\n",
       "          0.38531001])],\n",
       " [0.96971939993210199,\n",
       "  array([-0.30493621, -0.14253218,  0.04739976, -0.12822442, -0.01509121,\n",
       "          0.02836041,  0.31590489,  0.05498086, -0.62874599, -0.36476655,\n",
       "         -0.26160257, -0.09292927, -0.03621526, -0.08169026, -0.10146509,\n",
       "         -0.37474189])],\n",
       " [0.80765991960778394,\n",
       "  array([-0.32991001,  0.01713514, -0.06747829, -0.08360756,  0.05261563,\n",
       "          0.19348089, -0.82852176, -0.08283994, -0.15246644,  0.0627366 ,\n",
       "         -0.29252045, -0.10735863, -0.04694454,  0.03731873,  0.13064439,\n",
       "         -0.02945827])],\n",
       " [0.72917396011633329,\n",
       "  array([-0.25972821,  0.11230851, -0.29796101,  0.14797105,  0.24991202,\n",
       "          0.06100807,  0.08277036, -0.15229925, -0.22695407, -0.24450855,\n",
       "          0.37632885, -0.21577416,  0.35651018, -0.10165053,  0.28244585,\n",
       "          0.4431088 ])],\n",
       " [0.54664388123216401,\n",
       "  array([ 0.19344721, -0.10359913, -0.30260842, -0.3130494 ,  0.64495022,\n",
       "          0.2913439 ,  0.05553145,  0.04930301, -0.01252452, -0.00311751,\n",
       "          0.163041  ,  0.1519116 , -0.2977352 ,  0.27709872,  0.08731635,\n",
       "         -0.18176044])],\n",
       " [0.54322921586559436,\n",
       "  array([ 0.22803121,  0.04605754,  0.07168589,  0.45898962,  0.07734574,\n",
       "         -0.05394803,  0.00157633, -0.10116937, -0.02507233,  0.00465697,\n",
       "         -0.04943936, -0.00373467, -0.11173692, -0.23199162,  0.68089881,\n",
       "         -0.42178513])],\n",
       " [0.49242232289842974,\n",
       "  array([-0.27841627, -0.15069798, -0.14099933,  0.02116993,  0.09312471,\n",
       "          0.19656057,  0.01927213,  0.010398  ,  0.28996982,  0.02031508,\n",
       "         -0.04591266,  0.54118207,  0.53425621, -0.27509131, -0.06757051,\n",
       "         -0.29411871])],\n",
       " [0.37876783150903709,\n",
       "  array([-0.27068272,  0.1059062 , -0.18091094, -0.08438817,  0.1035015 ,\n",
       "         -0.25791614,  0.0647577 ,  0.11892858, -0.12771795,  0.36805766,\n",
       "          0.04366579,  0.22369472, -0.45349058, -0.58131214, -0.01899973,\n",
       "          0.1800858 ])],\n",
       " [0.35727403059470203,\n",
       "  array([-0.30765177, -0.08521189,  0.06914848,  0.04517012,  0.09813332,\n",
       "          0.02024763,  0.00963168, -0.17784395,  0.57297113, -0.51107537,\n",
       "          0.04448103, -0.24992667, -0.37573799, -0.19419723, -0.10910225,\n",
       "         -0.06910394])],\n",
       " [0.32292794814216907,\n",
       "  array([ 0.08078537,  0.49298729, -0.43404088,  0.44673485, -0.15043593,\n",
       "          0.39707329,  0.03329256,  0.04184544, -0.04802885, -0.02426131,\n",
       "         -0.0613662 , -0.02099234, -0.14496795,  0.00068113, -0.36824399,\n",
       "         -0.12487781])],\n",
       " [0.27597897940357219,\n",
       "  array([ 0.02190867, -0.41964081, -0.71348674, -0.08024276, -0.40793662,\n",
       "         -0.2539865 , -0.00735805,  0.00340076,  0.09385544,  0.01917328,\n",
       "          0.01552911, -0.15333661, -0.02829323,  0.09777359,  0.12774103,\n",
       "         -0.1316228 ])],\n",
       " [0.201873953600615,\n",
       "  array([ 0.30810139, -0.09331359, -0.02291682,  0.042839  ,  0.00974191,\n",
       "         -0.23846128, -0.25618026, -0.63729026, -0.24833491, -0.21454595,\n",
       "          0.21945796,  0.30589676, -0.0453185 , -0.12761302, -0.30846751,\n",
       "         -0.04851791])],\n",
       " [0.17814579469654254,\n",
       "  array([ 0.31864456, -0.03227914, -0.03066313,  0.03011002,  0.07418997,\n",
       "         -0.1693702 , -0.33681522,  0.67805167, -0.05107403, -0.43066635,\n",
       "          0.13285468,  0.0329335 ,  0.08336516, -0.25538995, -0.09459697,\n",
       "          0.0157636 ])],\n",
       " [0.10499427055121174,\n",
       "  array([  2.72182340e-01,  -1.69498990e-01,  -4.75401821e-03,\n",
       "          -1.12897535e-01,   2.10302308e-01,   1.57913183e-01,\n",
       "           3.39625608e-04,  -1.07452559e-01,   1.53954930e-02,\n",
       "           3.18489418e-01,  -2.38875791e-02,  -5.95916368e-01,\n",
       "           2.34336249e-01,  -4.50981150e-01,  -2.50639273e-01,\n",
       "          -1.58844657e-01])]]"
      ]
     },
     "execution_count": 27,
     "metadata": {},
     "output_type": "execute_result"
    }
   ],
   "source": [
    "eig_pairs = []\n",
    "\n",
    "for i in range(len(eig_val)):\n",
    "    eig_pairs.append([eig_val[i], eig_vec[i]])\n",
    "    \n",
    "eig_pairs.sort(key = lambda x: x[0], reverse=True)\n",
    "eig_pairs"
   ]
  },
  {
   "cell_type": "markdown",
   "metadata": {
    "collapsed": true
   },
   "source": [
    "Now, calculate the explained variance. Recall the methods we learned in lesson 2.2!"
   ]
  },
  {
   "cell_type": "code",
   "execution_count": 28,
   "metadata": {
    "ExecuteTime": {
     "end_time": "2016-11-02T12:14:37.257335",
     "start_time": "2016-11-02T12:14:37.247443"
    },
    "collapsed": false
   },
   "outputs": [
    {
     "data": {
      "text/plain": [
       "[48.06952065828979,\n",
       " 8.6136250322063894,\n",
       " 6.5459637280730769,\n",
       " 6.0346223433274684,\n",
       " 5.0261164178178381,\n",
       " 4.5376935556808471,\n",
       " 0.65338568150134479,\n",
       " 1.1086120305738507,\n",
       " 1.2562737953055516,\n",
       " 1.7174338427323597,\n",
       " 2.0096001083200719,\n",
       " 2.2233378520306086,\n",
       " 2.357095072160226,\n",
       " 3.0643738305371042,\n",
       " 3.3805481914049662,\n",
       " 3.4017978600385219]"
      ]
     },
     "execution_count": 28,
     "metadata": {},
     "output_type": "execute_result"
    }
   ],
   "source": [
    "sum_val = sum(eig_val)\n",
    "\n",
    "var_exp = [(x / sum_val) * 100 for x in eig_val]\n",
    "var_exp"
   ]
  },
  {
   "cell_type": "markdown",
   "metadata": {},
   "source": [
    "Now, calculate the explained variance and the Cumulative explained variance"
   ]
  },
  {
   "cell_type": "code",
   "execution_count": 29,
   "metadata": {
    "ExecuteTime": {
     "end_time": "2016-11-02T12:15:05.504818",
     "start_time": "2016-11-02T12:15:05.496372"
    },
    "collapsed": false
   },
   "outputs": [
    {
     "data": {
      "text/plain": [
       "array([  48.06952066,   56.68314569,   63.22910942,   69.26373176,\n",
       "         74.28984818,   78.82754174,   79.48092742,   80.58953945,\n",
       "         81.84581324,   83.56324709,   85.57284719,   87.79618505,\n",
       "         90.15328012,   93.21765395,   96.59820214,  100.        ])"
      ]
     },
     "execution_count": 29,
     "metadata": {},
     "output_type": "execute_result"
    }
   ],
   "source": [
    "cum_var_exp = np.cumsum(var_exp)\n",
    "cum_var_exp"
   ]
  },
  {
   "cell_type": "markdown",
   "metadata": {},
   "source": [
    "Now, conduct a PCA using scikit learn\n",
    "\n",
    "http://scikit-learn.org/stable/modules/generated/sklearn.decomposition.PCA.html"
   ]
  },
  {
   "cell_type": "code",
   "execution_count": null,
   "metadata": {
    "collapsed": true
   },
   "outputs": [],
   "source": []
  },
  {
   "cell_type": "markdown",
   "metadata": {},
   "source": [
    "# Case #2: Airport Delays"
   ]
  },
  {
   "cell_type": "code",
   "execution_count": 34,
   "metadata": {
    "collapsed": true
   },
   "outputs": [],
   "source": []
  },
  {
   "cell_type": "markdown",
   "metadata": {},
   "source": [
    "First, let's define the x and y variables: Airport is going to be our target variable"
   ]
  },
  {
   "cell_type": "code",
   "execution_count": 36,
   "metadata": {
    "collapsed": true
   },
   "outputs": [],
   "source": []
  },
  {
   "cell_type": "markdown",
   "metadata": {},
   "source": [
    "Then, standardize the x variable for analysis"
   ]
  },
  {
   "cell_type": "code",
   "execution_count": 37,
   "metadata": {
    "collapsed": false
   },
   "outputs": [],
   "source": []
  },
  {
   "cell_type": "markdown",
   "metadata": {},
   "source": [
    "Next, create the covariance matrix from the standardized x-values and decompose these values to find the eigenvalues and eigenvectors"
   ]
  },
  {
   "cell_type": "code",
   "execution_count": 38,
   "metadata": {
    "collapsed": false
   },
   "outputs": [],
   "source": []
  },
  {
   "cell_type": "markdown",
   "metadata": {},
   "source": [
    "Then, check your eigenvalues and eigenvectors:"
   ]
  },
  {
   "cell_type": "code",
   "execution_count": null,
   "metadata": {
    "collapsed": true
   },
   "outputs": [],
   "source": []
  },
  {
   "cell_type": "markdown",
   "metadata": {},
   "source": [
    "To find the principal components, find the eigenpairs, and sort them from highest to lowest. "
   ]
  },
  {
   "cell_type": "code",
   "execution_count": null,
   "metadata": {
    "collapsed": true
   },
   "outputs": [],
   "source": []
  },
  {
   "cell_type": "markdown",
   "metadata": {},
   "source": [
    "Next, Calculate the explained variance"
   ]
  },
  {
   "cell_type": "code",
   "execution_count": 41,
   "metadata": {
    "collapsed": false
   },
   "outputs": [],
   "source": []
  },
  {
   "cell_type": "markdown",
   "metadata": {},
   "source": [
    "Finally, conduct the PCA - use the results above to guide your selection of n components"
   ]
  },
  {
   "cell_type": "code",
   "execution_count": null,
   "metadata": {
    "collapsed": true
   },
   "outputs": [],
   "source": []
  },
  {
   "cell_type": "markdown",
   "metadata": {
    "collapsed": false
   },
   "source": [
    "**Bonus**: build and contrast classification models to predict the target classes for each problem, using both the original (or n-best) features and the principal components. If you arrive at <= 3-dimensional feature space, try plotting your data!"
   ]
  }
 ],
 "metadata": {
  "anaconda-cloud": {},
  "kernelspec": {
   "display_name": "Python [Root]",
   "language": "python",
   "name": "Python [Root]"
  },
  "language_info": {
   "codemirror_mode": {
    "name": "ipython",
    "version": 2
   },
   "file_extension": ".py",
   "mimetype": "text/x-python",
   "name": "python",
   "nbconvert_exporter": "python",
   "pygments_lexer": "ipython2",
   "version": "2.7.12"
  }
 },
 "nbformat": 4,
 "nbformat_minor": 0
}
