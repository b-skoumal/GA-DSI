{
 "cells": [
  {
   "cell_type": "code",
   "execution_count": 1,
   "metadata": {
    "ExecuteTime": {
     "end_time": "2016-11-10T00:54:20.610897",
     "start_time": "2016-11-10T00:54:17.373806"
    },
    "collapsed": true
   },
   "outputs": [],
   "source": [
    "%matplotlib inline\n",
    "import pandas as pd\n",
    "import matplotlib.pyplot as plt\n",
    "import seaborn as sns\n",
    "plt.style.use('fivethirtyeight')\n"
   ]
  },
  {
   "cell_type": "code",
   "execution_count": 26,
   "metadata": {
    "ExecuteTime": {
     "end_time": "2016-11-10T01:19:25.250589",
     "start_time": "2016-11-10T01:19:16.257777"
    },
    "collapsed": false
   },
   "outputs": [
    {
     "data": {
      "text/html": [
       "<div>\n",
       "<table border=\"1\" class=\"dataframe\">\n",
       "  <thead>\n",
       "    <tr style=\"text-align: right;\">\n",
       "      <th></th>\n",
       "      <th>Unnamed: 0</th>\n",
       "      <th>amt.pledged</th>\n",
       "      <th>blurb</th>\n",
       "      <th>category</th>\n",
       "      <th>currency</th>\n",
       "      <th>goal</th>\n",
       "      <th>location</th>\n",
       "      <th>num.backers</th>\n",
       "      <th>num.backers.tier</th>\n",
       "      <th>pledge.tier</th>\n",
       "      <th>title</th>\n",
       "      <th>url</th>\n",
       "    </tr>\n",
       "  </thead>\n",
       "  <tbody>\n",
       "    <tr>\n",
       "      <th>0</th>\n",
       "      <td>0</td>\n",
       "      <td>8782571.0</td>\n",
       "      <td>\\nThis is a card game for people who are into ...</td>\n",
       "      <td>Tabletop Games</td>\n",
       "      <td>usd</td>\n",
       "      <td>10000.0</td>\n",
       "      <td>Los Angeles, CA</td>\n",
       "      <td>219382</td>\n",
       "      <td>[15505, 202934, 200, 5]</td>\n",
       "      <td>[20.0, 35.0, 100.0, 500.0]</td>\n",
       "      <td>Exploding Kittens</td>\n",
       "      <td>/projects/elanlee/exploding-kittens</td>\n",
       "    </tr>\n",
       "    <tr>\n",
       "      <th>1</th>\n",
       "      <td>1</td>\n",
       "      <td>6465690.0</td>\n",
       "      <td>\\nAn unusually addicting, high-quality desk to...</td>\n",
       "      <td>Product Design</td>\n",
       "      <td>usd</td>\n",
       "      <td>15000.0</td>\n",
       "      <td>Denver, CO</td>\n",
       "      <td>154926</td>\n",
       "      <td>[788, 250, 43073, 21796, 41727, 21627, 12215, ...</td>\n",
       "      <td>[1.0, 14.0, 19.0, 19.0, 35.0, 35.0, 79.0, 79.0...</td>\n",
       "      <td>Fidget Cube: A Vinyl Desk Toy</td>\n",
       "      <td>/projects/antsylabs/fidget-cube-a-vinyl-desk-toy</td>\n",
       "    </tr>\n",
       "    <tr>\n",
       "      <th>2</th>\n",
       "      <td>2</td>\n",
       "      <td>5408916.0</td>\n",
       "      <td>\\nBring Reading Rainbow’s library of interacti...</td>\n",
       "      <td>Web</td>\n",
       "      <td>usd</td>\n",
       "      <td>1000000.0</td>\n",
       "      <td>Los Angeles, CA</td>\n",
       "      <td>105857</td>\n",
       "      <td>[19639, 14343, 9136, 2259, 5666, 24512, 4957, ...</td>\n",
       "      <td>[5.0, 10.0, 25.0, 30.0, 35.0, 50.0, 75.0, 100....</td>\n",
       "      <td>Bring Reading Rainbow Back for Every Child, Ev...</td>\n",
       "      <td>/projects/readingrainbow/bring-reading-rainbow...</td>\n",
       "    </tr>\n",
       "    <tr>\n",
       "      <th>3</th>\n",
       "      <td>3</td>\n",
       "      <td>5702153.0</td>\n",
       "      <td>\\nUPDATED: This is it. We're making a Veronica...</td>\n",
       "      <td>Narrative Film</td>\n",
       "      <td>usd</td>\n",
       "      <td>2000000.0</td>\n",
       "      <td>San Diego, CA</td>\n",
       "      <td>91585</td>\n",
       "      <td>[5938, 8423, 11509, 22997, 23227, 1865, 7260, ...</td>\n",
       "      <td>[1.0, 10.0, 25.0, 35.0, 50.0, 75.0, 100.0, 150...</td>\n",
       "      <td>The Veronica Mars Movie Project</td>\n",
       "      <td>/projects/559914737/the-veronica-mars-movie-pr...</td>\n",
       "    </tr>\n",
       "    <tr>\n",
       "      <th>4</th>\n",
       "      <td>4</td>\n",
       "      <td>3336371.0</td>\n",
       "      <td>\\nAn adventure game from Tim Schafer, Double F...</td>\n",
       "      <td>Video Games</td>\n",
       "      <td>usd</td>\n",
       "      <td>400000.0</td>\n",
       "      <td>San Francisco, CA</td>\n",
       "      <td>87142</td>\n",
       "      <td>[47946, 24636, 1090, 11530, 900, 148, 100, 10, 4]</td>\n",
       "      <td>[15.0, 30.0, 60.0, 100.0, 250.0, 500.0, 1000.0...</td>\n",
       "      <td>Double Fine Adventure</td>\n",
       "      <td>/projects/doublefine/double-fine-adventure</td>\n",
       "    </tr>\n",
       "  </tbody>\n",
       "</table>\n",
       "</div>"
      ],
      "text/plain": [
       "   Unnamed: 0  amt.pledged                                              blurb  \\\n",
       "0           0    8782571.0  \\nThis is a card game for people who are into ...   \n",
       "1           1    6465690.0  \\nAn unusually addicting, high-quality desk to...   \n",
       "2           2    5408916.0  \\nBring Reading Rainbow’s library of interacti...   \n",
       "3           3    5702153.0  \\nUPDATED: This is it. We're making a Veronica...   \n",
       "4           4    3336371.0  \\nAn adventure game from Tim Schafer, Double F...   \n",
       "\n",
       "         category currency       goal           location  num.backers  \\\n",
       "0  Tabletop Games      usd    10000.0    Los Angeles, CA       219382   \n",
       "1  Product Design      usd    15000.0         Denver, CO       154926   \n",
       "2             Web      usd  1000000.0    Los Angeles, CA       105857   \n",
       "3  Narrative Film      usd  2000000.0      San Diego, CA        91585   \n",
       "4     Video Games      usd   400000.0  San Francisco, CA        87142   \n",
       "\n",
       "                                    num.backers.tier  \\\n",
       "0                            [15505, 202934, 200, 5]   \n",
       "1  [788, 250, 43073, 21796, 41727, 21627, 12215, ...   \n",
       "2  [19639, 14343, 9136, 2259, 5666, 24512, 4957, ...   \n",
       "3  [5938, 8423, 11509, 22997, 23227, 1865, 7260, ...   \n",
       "4  [47946, 24636, 1090, 11530, 900, 148, 100, 10, 4]   \n",
       "\n",
       "                                         pledge.tier  \\\n",
       "0                         [20.0, 35.0, 100.0, 500.0]   \n",
       "1  [1.0, 14.0, 19.0, 19.0, 35.0, 35.0, 79.0, 79.0...   \n",
       "2  [5.0, 10.0, 25.0, 30.0, 35.0, 50.0, 75.0, 100....   \n",
       "3  [1.0, 10.0, 25.0, 35.0, 50.0, 75.0, 100.0, 150...   \n",
       "4  [15.0, 30.0, 60.0, 100.0, 250.0, 500.0, 1000.0...   \n",
       "\n",
       "                                               title  \\\n",
       "0                                  Exploding Kittens   \n",
       "1                      Fidget Cube: A Vinyl Desk Toy   \n",
       "2  Bring Reading Rainbow Back for Every Child, Ev...   \n",
       "3                    The Veronica Mars Movie Project   \n",
       "4                              Double Fine Adventure   \n",
       "\n",
       "                                                 url  \n",
       "0                /projects/elanlee/exploding-kittens  \n",
       "1   /projects/antsylabs/fidget-cube-a-vinyl-desk-toy  \n",
       "2  /projects/readingrainbow/bring-reading-rainbow...  \n",
       "3  /projects/559914737/the-veronica-mars-movie-pr...  \n",
       "4         /projects/doublefine/double-fine-adventure  "
      ]
     },
     "execution_count": 26,
     "metadata": {},
     "output_type": "execute_result"
    }
   ],
   "source": [
    "df = pd.read_csv('https://raw.githubusercontent.com/socathie/paperplane/master/data/most_backed.csv')\n",
    "df.head()"
   ]
  },
  {
   "cell_type": "code",
   "execution_count": 27,
   "metadata": {
    "ExecuteTime": {
     "end_time": "2016-11-10T01:19:28.121233",
     "start_time": "2016-11-10T01:19:28.109844"
    },
    "collapsed": false
   },
   "outputs": [
    {
     "data": {
      "text/plain": [
       "115"
      ]
     },
     "execution_count": 27,
     "metadata": {},
     "output_type": "execute_result"
    }
   ],
   "source": [
    "df['category'].nunique()"
   ]
  },
  {
   "cell_type": "code",
   "execution_count": 28,
   "metadata": {
    "ExecuteTime": {
     "end_time": "2016-11-10T01:19:28.532195",
     "start_time": "2016-11-10T01:19:28.518245"
    },
    "collapsed": false
   },
   "outputs": [
    {
     "data": {
      "text/plain": [
       "array(['Tabletop Games', 'Product Design', 'Web', 'Narrative Film',\n",
       "       'Video Games', 'Technology', 'Gaming Hardware', 'Television',\n",
       "       'Hardware', 'Music', 'Space Exploration', 'Radio &amp; Podcasts',\n",
       "       'Flight', 'Sound', 'Animation', 'Games', 'Action', 'Gadgets',\n",
       "       'Documentary', '3D Printing', 'DIY Electronics', 'Publishing',\n",
       "       'Fashion', 'Comics', 'Typography', \"Children's Books\", 'Apparel',\n",
       "       'Food', 'Crafts', 'Camera Equipment', 'Comedy', 'Design',\n",
       "       'Graphic Design', 'Apps', 'Hip-Hop', 'World Music',\n",
       "       'Film &amp; Video', 'Drinks', 'Wearables', 'Accessories',\n",
       "       'Footwear', 'Science Fiction', 'Art Books', 'Nonfiction', 'Robots',\n",
       "       'Art', 'Software', 'Chiptune', 'Webseries', 'Webcomics', 'Rock',\n",
       "       'Playing Cards', 'Cookbooks', 'Fantasy', 'Photography',\n",
       "       'Anthologies', 'Faith', 'Mixed Media', 'Metal', 'Small Batch',\n",
       "       'Classical Music', 'Architecture', 'Pop', 'Dance',\n",
       "       'Electronic Music', 'Graphic Novels', 'Musical', 'Theater',\n",
       "       'Photobooks', 'Drama', 'Shorts', 'Ready-to-wear', 'Indie Rock',\n",
       "       'Civic Design', 'Childrenswear', 'Print', 'Horror', 'Periodicals',\n",
       "       'Sculpture', 'Comic Books', 'People', 'Puzzles', 'Public Art',\n",
       "       'Illustration', 'Mobile Games', 'Restaurants', 'Literary Journals',\n",
       "       'Movie Theaters', 'Thrillers', 'Country &amp; Folk', 'Fiction',\n",
       "       'Journalism', 'Audio', 'Poetry', 'Vegan', 'Fabrication Tools',\n",
       "       'Conceptual Art', 'Digital Art', 'Food Trucks', 'Spaces',\n",
       "       'Interactive Design', 'Family', 'Music Videos', 'Painting',\n",
       "       'Academic', 'Romance', 'Stationery', 'Jazz', 'Photo', 'Young Adult',\n",
       "       'Installations', 'Video', 'Calendars', 'Zines', 'Jewelry'], dtype=object)"
      ]
     },
     "execution_count": 28,
     "metadata": {},
     "output_type": "execute_result"
    }
   ],
   "source": [
    "df['category'].unique()"
   ]
  },
  {
   "cell_type": "code",
   "execution_count": 29,
   "metadata": {
    "ExecuteTime": {
     "end_time": "2016-11-10T01:19:32.686768",
     "start_time": "2016-11-10T01:19:32.677706"
    },
    "collapsed": false
   },
   "outputs": [],
   "source": [
    "from fuzzywuzzy import fuzz\n",
    "from fuzzywuzzy import process\n"
   ]
  },
  {
   "cell_type": "code",
   "execution_count": 30,
   "metadata": {
    "ExecuteTime": {
     "end_time": "2016-11-10T01:19:33.149461",
     "start_time": "2016-11-10T01:19:33.142626"
    },
    "collapsed": true
   },
   "outputs": [],
   "source": [
    "import string\n",
    "\n",
    "def normalize_string(s):\n",
    "    for p in string.punctuation:\n",
    "        s = s.replace(p, ' ')\n",
    "    s = s.lower().strip()\n",
    "    return s"
   ]
  },
  {
   "cell_type": "code",
   "execution_count": 31,
   "metadata": {
    "ExecuteTime": {
     "end_time": "2016-11-10T01:19:33.887963",
     "start_time": "2016-11-10T01:19:33.688548"
    },
    "collapsed": false
   },
   "outputs": [
    {
     "data": {
      "text/html": [
       "<div>\n",
       "<table border=\"1\" class=\"dataframe\">\n",
       "  <thead>\n",
       "    <tr style=\"text-align: right;\">\n",
       "      <th></th>\n",
       "      <th>Unnamed: 0</th>\n",
       "      <th>amt.pledged</th>\n",
       "      <th>blurb</th>\n",
       "      <th>category</th>\n",
       "      <th>currency</th>\n",
       "      <th>goal</th>\n",
       "      <th>location</th>\n",
       "      <th>num.backers</th>\n",
       "      <th>num.backers.tier</th>\n",
       "      <th>pledge.tier</th>\n",
       "      <th>title</th>\n",
       "      <th>url</th>\n",
       "      <th>norm_blurb</th>\n",
       "    </tr>\n",
       "  </thead>\n",
       "  <tbody>\n",
       "    <tr>\n",
       "      <th>0</th>\n",
       "      <td>0</td>\n",
       "      <td>8782571.0</td>\n",
       "      <td>\\nThis is a card game for people who are into ...</td>\n",
       "      <td>Tabletop Games</td>\n",
       "      <td>usd</td>\n",
       "      <td>10000.0</td>\n",
       "      <td>Los Angeles, CA</td>\n",
       "      <td>219382</td>\n",
       "      <td>[15505, 202934, 200, 5]</td>\n",
       "      <td>[20.0, 35.0, 100.0, 500.0]</td>\n",
       "      <td>Exploding Kittens</td>\n",
       "      <td>/projects/elanlee/exploding-kittens</td>\n",
       "      <td>this is a card game for people who are into ki...</td>\n",
       "    </tr>\n",
       "    <tr>\n",
       "      <th>1</th>\n",
       "      <td>1</td>\n",
       "      <td>6465690.0</td>\n",
       "      <td>\\nAn unusually addicting, high-quality desk to...</td>\n",
       "      <td>Product Design</td>\n",
       "      <td>usd</td>\n",
       "      <td>15000.0</td>\n",
       "      <td>Denver, CO</td>\n",
       "      <td>154926</td>\n",
       "      <td>[788, 250, 43073, 21796, 41727, 21627, 12215, ...</td>\n",
       "      <td>[1.0, 14.0, 19.0, 19.0, 35.0, 35.0, 79.0, 79.0...</td>\n",
       "      <td>Fidget Cube: A Vinyl Desk Toy</td>\n",
       "      <td>/projects/antsylabs/fidget-cube-a-vinyl-desk-toy</td>\n",
       "      <td>an unusually addicting  high quality desk toy ...</td>\n",
       "    </tr>\n",
       "    <tr>\n",
       "      <th>2</th>\n",
       "      <td>2</td>\n",
       "      <td>5408916.0</td>\n",
       "      <td>\\nBring Reading Rainbow’s library of interacti...</td>\n",
       "      <td>Web</td>\n",
       "      <td>usd</td>\n",
       "      <td>1000000.0</td>\n",
       "      <td>Los Angeles, CA</td>\n",
       "      <td>105857</td>\n",
       "      <td>[19639, 14343, 9136, 2259, 5666, 24512, 4957, ...</td>\n",
       "      <td>[5.0, 10.0, 25.0, 30.0, 35.0, 50.0, 75.0, 100....</td>\n",
       "      <td>Bring Reading Rainbow Back for Every Child, Ev...</td>\n",
       "      <td>/projects/readingrainbow/bring-reading-rainbow...</td>\n",
       "      <td>bring reading rainbow’s library of interactive...</td>\n",
       "    </tr>\n",
       "    <tr>\n",
       "      <th>3</th>\n",
       "      <td>3</td>\n",
       "      <td>5702153.0</td>\n",
       "      <td>\\nUPDATED: This is it. We're making a Veronica...</td>\n",
       "      <td>Narrative Film</td>\n",
       "      <td>usd</td>\n",
       "      <td>2000000.0</td>\n",
       "      <td>San Diego, CA</td>\n",
       "      <td>91585</td>\n",
       "      <td>[5938, 8423, 11509, 22997, 23227, 1865, 7260, ...</td>\n",
       "      <td>[1.0, 10.0, 25.0, 35.0, 50.0, 75.0, 100.0, 150...</td>\n",
       "      <td>The Veronica Mars Movie Project</td>\n",
       "      <td>/projects/559914737/the-veronica-mars-movie-pr...</td>\n",
       "      <td>updated  this is it  we re making a veronica m...</td>\n",
       "    </tr>\n",
       "    <tr>\n",
       "      <th>4</th>\n",
       "      <td>4</td>\n",
       "      <td>3336371.0</td>\n",
       "      <td>\\nAn adventure game from Tim Schafer, Double F...</td>\n",
       "      <td>Video Games</td>\n",
       "      <td>usd</td>\n",
       "      <td>400000.0</td>\n",
       "      <td>San Francisco, CA</td>\n",
       "      <td>87142</td>\n",
       "      <td>[47946, 24636, 1090, 11530, 900, 148, 100, 10, 4]</td>\n",
       "      <td>[15.0, 30.0, 60.0, 100.0, 250.0, 500.0, 1000.0...</td>\n",
       "      <td>Double Fine Adventure</td>\n",
       "      <td>/projects/doublefine/double-fine-adventure</td>\n",
       "      <td>an adventure game from tim schafer  double fin...</td>\n",
       "    </tr>\n",
       "  </tbody>\n",
       "</table>\n",
       "</div>"
      ],
      "text/plain": [
       "   Unnamed: 0  amt.pledged                                              blurb  \\\n",
       "0           0    8782571.0  \\nThis is a card game for people who are into ...   \n",
       "1           1    6465690.0  \\nAn unusually addicting, high-quality desk to...   \n",
       "2           2    5408916.0  \\nBring Reading Rainbow’s library of interacti...   \n",
       "3           3    5702153.0  \\nUPDATED: This is it. We're making a Veronica...   \n",
       "4           4    3336371.0  \\nAn adventure game from Tim Schafer, Double F...   \n",
       "\n",
       "         category currency       goal           location  num.backers  \\\n",
       "0  Tabletop Games      usd    10000.0    Los Angeles, CA       219382   \n",
       "1  Product Design      usd    15000.0         Denver, CO       154926   \n",
       "2             Web      usd  1000000.0    Los Angeles, CA       105857   \n",
       "3  Narrative Film      usd  2000000.0      San Diego, CA        91585   \n",
       "4     Video Games      usd   400000.0  San Francisco, CA        87142   \n",
       "\n",
       "                                    num.backers.tier  \\\n",
       "0                            [15505, 202934, 200, 5]   \n",
       "1  [788, 250, 43073, 21796, 41727, 21627, 12215, ...   \n",
       "2  [19639, 14343, 9136, 2259, 5666, 24512, 4957, ...   \n",
       "3  [5938, 8423, 11509, 22997, 23227, 1865, 7260, ...   \n",
       "4  [47946, 24636, 1090, 11530, 900, 148, 100, 10, 4]   \n",
       "\n",
       "                                         pledge.tier  \\\n",
       "0                         [20.0, 35.0, 100.0, 500.0]   \n",
       "1  [1.0, 14.0, 19.0, 19.0, 35.0, 35.0, 79.0, 79.0...   \n",
       "2  [5.0, 10.0, 25.0, 30.0, 35.0, 50.0, 75.0, 100....   \n",
       "3  [1.0, 10.0, 25.0, 35.0, 50.0, 75.0, 100.0, 150...   \n",
       "4  [15.0, 30.0, 60.0, 100.0, 250.0, 500.0, 1000.0...   \n",
       "\n",
       "                                               title  \\\n",
       "0                                  Exploding Kittens   \n",
       "1                      Fidget Cube: A Vinyl Desk Toy   \n",
       "2  Bring Reading Rainbow Back for Every Child, Ev...   \n",
       "3                    The Veronica Mars Movie Project   \n",
       "4                              Double Fine Adventure   \n",
       "\n",
       "                                                 url  \\\n",
       "0                /projects/elanlee/exploding-kittens   \n",
       "1   /projects/antsylabs/fidget-cube-a-vinyl-desk-toy   \n",
       "2  /projects/readingrainbow/bring-reading-rainbow...   \n",
       "3  /projects/559914737/the-veronica-mars-movie-pr...   \n",
       "4         /projects/doublefine/double-fine-adventure   \n",
       "\n",
       "                                          norm_blurb  \n",
       "0  this is a card game for people who are into ki...  \n",
       "1  an unusually addicting  high quality desk toy ...  \n",
       "2  bring reading rainbow’s library of interactive...  \n",
       "3  updated  this is it  we re making a veronica m...  \n",
       "4  an adventure game from tim schafer  double fin...  "
      ]
     },
     "execution_count": 31,
     "metadata": {},
     "output_type": "execute_result"
    }
   ],
   "source": [
    "# Normalizing blurb by removing punctuations, changing to lower case and stripping empty spaces\n",
    "\n",
    "df['norm_blurb'] = df['blurb'].apply(normalize_string)\n",
    "df.head()"
   ]
  },
  {
   "cell_type": "code",
   "execution_count": 62,
   "metadata": {
    "ExecuteTime": {
     "end_time": "2016-11-10T02:42:42.211677",
     "start_time": "2016-11-10T02:42:42.192973"
    },
    "collapsed": false
   },
   "outputs": [
    {
     "data": {
      "text/plain": [
       "Product Design    769\n",
       "Tabletop Games    745\n",
       "Video Games       528\n",
       "Hardware          182\n",
       "Technology        151\n",
       "Documentary       124\n",
       "Gadgets           121\n",
       "Design             99\n",
       "Comics             79\n",
       "Wearables          64\n",
       "Name: category, dtype: int64"
      ]
     },
     "execution_count": 62,
     "metadata": {},
     "output_type": "execute_result"
    }
   ],
   "source": [
    "cat_count = df['category'].value_counts()\n",
    "cat_count.head(10)\n"
   ]
  },
  {
   "cell_type": "code",
   "execution_count": 83,
   "metadata": {
    "ExecuteTime": {
     "end_time": "2016-11-10T03:09:30.273350",
     "start_time": "2016-11-10T03:09:30.265900"
    },
    "collapsed": false
   },
   "outputs": [],
   "source": [
    "# Copying a new df\n",
    "\n",
    "df1 = df.copy()"
   ]
  },
  {
   "cell_type": "code",
   "execution_count": 84,
   "metadata": {
    "ExecuteTime": {
     "end_time": "2016-11-10T03:09:31.113885",
     "start_time": "2016-11-10T03:09:30.816330"
    },
    "collapsed": true
   },
   "outputs": [],
   "source": [
    "# Add a column of category count, number of entries in same category\n",
    "\n",
    "df1['category_count'] = df1['category'].apply(lambda x : cat_count.loc[x])"
   ]
  },
  {
   "cell_type": "code",
   "execution_count": 85,
   "metadata": {
    "ExecuteTime": {
     "end_time": "2016-11-10T03:09:31.339389",
     "start_time": "2016-11-10T03:09:31.282474"
    },
    "collapsed": false
   },
   "outputs": [
    {
     "data": {
      "text/html": [
       "<div>\n",
       "<table border=\"1\" class=\"dataframe\">\n",
       "  <thead>\n",
       "    <tr style=\"text-align: right;\">\n",
       "      <th></th>\n",
       "      <th>Unnamed: 0</th>\n",
       "      <th>amt.pledged</th>\n",
       "      <th>blurb</th>\n",
       "      <th>category</th>\n",
       "      <th>currency</th>\n",
       "      <th>goal</th>\n",
       "      <th>location</th>\n",
       "      <th>num.backers</th>\n",
       "      <th>num.backers.tier</th>\n",
       "      <th>pledge.tier</th>\n",
       "      <th>title</th>\n",
       "      <th>url</th>\n",
       "      <th>norm_blurb</th>\n",
       "      <th>category_count</th>\n",
       "    </tr>\n",
       "  </thead>\n",
       "  <tbody>\n",
       "    <tr>\n",
       "      <th>0</th>\n",
       "      <td>0</td>\n",
       "      <td>8782571.0</td>\n",
       "      <td>\\nThis is a card game for people who are into ...</td>\n",
       "      <td>Tabletop Games</td>\n",
       "      <td>usd</td>\n",
       "      <td>10000.0</td>\n",
       "      <td>Los Angeles, CA</td>\n",
       "      <td>219382</td>\n",
       "      <td>[15505, 202934, 200, 5]</td>\n",
       "      <td>[20.0, 35.0, 100.0, 500.0]</td>\n",
       "      <td>Exploding Kittens</td>\n",
       "      <td>/projects/elanlee/exploding-kittens</td>\n",
       "      <td>this is a card game for people who are into ki...</td>\n",
       "      <td>745</td>\n",
       "    </tr>\n",
       "    <tr>\n",
       "      <th>1</th>\n",
       "      <td>1</td>\n",
       "      <td>6465690.0</td>\n",
       "      <td>\\nAn unusually addicting, high-quality desk to...</td>\n",
       "      <td>Product Design</td>\n",
       "      <td>usd</td>\n",
       "      <td>15000.0</td>\n",
       "      <td>Denver, CO</td>\n",
       "      <td>154926</td>\n",
       "      <td>[788, 250, 43073, 21796, 41727, 21627, 12215, ...</td>\n",
       "      <td>[1.0, 14.0, 19.0, 19.0, 35.0, 35.0, 79.0, 79.0...</td>\n",
       "      <td>Fidget Cube: A Vinyl Desk Toy</td>\n",
       "      <td>/projects/antsylabs/fidget-cube-a-vinyl-desk-toy</td>\n",
       "      <td>an unusually addicting  high quality desk toy ...</td>\n",
       "      <td>769</td>\n",
       "    </tr>\n",
       "  </tbody>\n",
       "</table>\n",
       "</div>"
      ],
      "text/plain": [
       "   Unnamed: 0  amt.pledged                                              blurb  \\\n",
       "0           0    8782571.0  \\nThis is a card game for people who are into ...   \n",
       "1           1    6465690.0  \\nAn unusually addicting, high-quality desk to...   \n",
       "\n",
       "         category currency     goal         location  num.backers  \\\n",
       "0  Tabletop Games      usd  10000.0  Los Angeles, CA       219382   \n",
       "1  Product Design      usd  15000.0       Denver, CO       154926   \n",
       "\n",
       "                                    num.backers.tier  \\\n",
       "0                            [15505, 202934, 200, 5]   \n",
       "1  [788, 250, 43073, 21796, 41727, 21627, 12215, ...   \n",
       "\n",
       "                                         pledge.tier  \\\n",
       "0                         [20.0, 35.0, 100.0, 500.0]   \n",
       "1  [1.0, 14.0, 19.0, 19.0, 35.0, 35.0, 79.0, 79.0...   \n",
       "\n",
       "                           title  \\\n",
       "0              Exploding Kittens   \n",
       "1  Fidget Cube: A Vinyl Desk Toy   \n",
       "\n",
       "                                                url  \\\n",
       "0               /projects/elanlee/exploding-kittens   \n",
       "1  /projects/antsylabs/fidget-cube-a-vinyl-desk-toy   \n",
       "\n",
       "                                          norm_blurb  category_count  \n",
       "0  this is a card game for people who are into ki...             745  \n",
       "1  an unusually addicting  high quality desk toy ...             769  "
      ]
     },
     "execution_count": 85,
     "metadata": {},
     "output_type": "execute_result"
    }
   ],
   "source": [
    "df1.head(2)"
   ]
  },
  {
   "cell_type": "code",
   "execution_count": 86,
   "metadata": {
    "ExecuteTime": {
     "end_time": "2016-11-10T03:09:35.343700",
     "start_time": "2016-11-10T03:09:35.336458"
    },
    "collapsed": true
   },
   "outputs": [],
   "source": [
    "# initializing a new column \"new_category\"\n",
    "\n",
    "df1['new_category'] = df1['category']"
   ]
  },
  {
   "cell_type": "code",
   "execution_count": 87,
   "metadata": {
    "ExecuteTime": {
     "end_time": "2016-11-10T03:09:36.286013",
     "start_time": "2016-11-10T03:09:36.280173"
    },
    "collapsed": false
   },
   "outputs": [],
   "source": [
    "import numpy as np\n",
    "\n",
    "df1['fuzzratio'] = np.nan"
   ]
  },
  {
   "cell_type": "code",
   "execution_count": 88,
   "metadata": {
    "ExecuteTime": {
     "end_time": "2016-11-10T03:09:37.198246",
     "start_time": "2016-11-10T03:09:37.146043"
    },
    "collapsed": false
   },
   "outputs": [
    {
     "data": {
      "text/html": [
       "<div>\n",
       "<table border=\"1\" class=\"dataframe\">\n",
       "  <thead>\n",
       "    <tr style=\"text-align: right;\">\n",
       "      <th></th>\n",
       "      <th>Unnamed: 0</th>\n",
       "      <th>amt.pledged</th>\n",
       "      <th>blurb</th>\n",
       "      <th>category</th>\n",
       "      <th>currency</th>\n",
       "      <th>goal</th>\n",
       "      <th>location</th>\n",
       "      <th>num.backers</th>\n",
       "      <th>num.backers.tier</th>\n",
       "      <th>pledge.tier</th>\n",
       "      <th>title</th>\n",
       "      <th>url</th>\n",
       "      <th>norm_blurb</th>\n",
       "      <th>category_count</th>\n",
       "      <th>new_category</th>\n",
       "      <th>fuzzratio</th>\n",
       "    </tr>\n",
       "  </thead>\n",
       "  <tbody>\n",
       "    <tr>\n",
       "      <th>0</th>\n",
       "      <td>0</td>\n",
       "      <td>8782571.0</td>\n",
       "      <td>\\nThis is a card game for people who are into ...</td>\n",
       "      <td>Tabletop Games</td>\n",
       "      <td>usd</td>\n",
       "      <td>10000.0</td>\n",
       "      <td>Los Angeles, CA</td>\n",
       "      <td>219382</td>\n",
       "      <td>[15505, 202934, 200, 5]</td>\n",
       "      <td>[20.0, 35.0, 100.0, 500.0]</td>\n",
       "      <td>Exploding Kittens</td>\n",
       "      <td>/projects/elanlee/exploding-kittens</td>\n",
       "      <td>this is a card game for people who are into ki...</td>\n",
       "      <td>745</td>\n",
       "      <td>Tabletop Games</td>\n",
       "      <td>NaN</td>\n",
       "    </tr>\n",
       "  </tbody>\n",
       "</table>\n",
       "</div>"
      ],
      "text/plain": [
       "   Unnamed: 0  amt.pledged                                              blurb  \\\n",
       "0           0    8782571.0  \\nThis is a card game for people who are into ...   \n",
       "\n",
       "         category currency     goal         location  num.backers  \\\n",
       "0  Tabletop Games      usd  10000.0  Los Angeles, CA       219382   \n",
       "\n",
       "          num.backers.tier                 pledge.tier              title  \\\n",
       "0  [15505, 202934, 200, 5]  [20.0, 35.0, 100.0, 500.0]  Exploding Kittens   \n",
       "\n",
       "                                   url  \\\n",
       "0  /projects/elanlee/exploding-kittens   \n",
       "\n",
       "                                          norm_blurb  category_count  \\\n",
       "0  this is a card game for people who are into ki...             745   \n",
       "\n",
       "     new_category  fuzzratio  \n",
       "0  Tabletop Games        NaN  "
      ]
     },
     "execution_count": 88,
     "metadata": {},
     "output_type": "execute_result"
    }
   ],
   "source": [
    "df1.head(1)"
   ]
  },
  {
   "cell_type": "code",
   "execution_count": 115,
   "metadata": {
    "ExecuteTime": {
     "end_time": "2016-11-10T03:34:18.476641",
     "start_time": "2016-11-10T03:31:54.654308"
    },
    "collapsed": false
   },
   "outputs": [],
   "source": [
    "# Brute force method to compare similarities based on normalized blurb\n",
    "# Use fuzz ratio metric to return \"how similar\" the current blurb is with all other blurbs\n",
    "\n",
    "# k is the threshold cut off, i.e. top k categories\n",
    "k = 10\n",
    "\n",
    "top_k_list = list(df1['new_category'].value_counts().head(k).index)\n",
    "top_10_df = df[df['category'].isin(top_k_list)]\n",
    "top_10_df.reset_index(inplace = True, drop = True)\n",
    "\n",
    "for i in range(len(df1['category_count'])):\n",
    "    \n",
    "    # Only change the category if current entry not within top threshold categories\n",
    "    \n",
    "    if df1.loc[i, 'category'] not in top_k_list:\n",
    "        \n",
    "        # Initializing empty list to contain the fuzz_ratios compared to other blurb\n",
    "        fuzz_list = []\n",
    "        \n",
    "        # Get current blurb as basis for comparison\n",
    "        ownblurb = df1.loc[i,'norm_blurb']\n",
    "        \n",
    "        # Loop through all other blurbs to compare\n",
    "        for j in top_10_df['norm_blurb']:\n",
    "            \n",
    "            fuzz_ratio = fuzz.ratio(ownblurb, j)\n",
    "            fuzz_list.append(fuzz_ratio)\n",
    "        \n",
    "        # Update the new_category with the category of the entry with the highest fuzz ratio\n",
    "        df1.loc[i, 'new_category'] = top_10_df.loc[fuzz_list.index(max(fuzz_list)),'category']\n",
    "        df1.loc[i, 'fuzzratio'] = max(fuzz_list)\n"
   ]
  },
  {
   "cell_type": "code",
   "execution_count": 117,
   "metadata": {
    "ExecuteTime": {
     "end_time": "2016-11-10T03:34:18.509908",
     "start_time": "2016-11-10T03:34:18.490947"
    },
    "collapsed": false
   },
   "outputs": [
    {
     "data": {
      "text/plain": [
       "Product Design       1080\n",
       "Tabletop Games       1050\n",
       "Video Games           720\n",
       "Hardware              269\n",
       "Technology            216\n",
       "Documentary           187\n",
       "Gadgets               161\n",
       "Design                157\n",
       "Comics                155\n",
       "Space Exploration       5\n",
       "Name: new_category, dtype: int64"
      ]
     },
     "execution_count": 117,
     "metadata": {},
     "output_type": "execute_result"
    }
   ],
   "source": [
    "df1['new_category'].value_counts()"
   ]
  },
  {
   "cell_type": "code",
   "execution_count": 118,
   "metadata": {
    "ExecuteTime": {
     "end_time": "2016-11-10T03:34:18.524233",
     "start_time": "2016-11-10T03:34:18.514197"
    },
    "collapsed": false
   },
   "outputs": [
    {
     "data": {
      "text/plain": [
       "10"
      ]
     },
     "execution_count": 118,
     "metadata": {},
     "output_type": "execute_result"
    }
   ],
   "source": [
    "df1['new_category'].nunique()"
   ]
  },
  {
   "cell_type": "code",
   "execution_count": 122,
   "metadata": {
    "ExecuteTime": {
     "end_time": "2016-11-10T03:35:33.472065",
     "start_time": "2016-11-10T03:35:32.134131"
    },
    "collapsed": false
   },
   "outputs": [
    {
     "data": {
      "text/plain": [
       "<matplotlib.axes._subplots.AxesSubplot at 0x118518350>"
      ]
     },
     "execution_count": 122,
     "metadata": {},
     "output_type": "execute_result"
    },
    {
     "data": {
      "image/png": "[encoded data removed]",
      "text/plain": [
       "<matplotlib.figure.Figure at 0x1184ead50>"
      ]
     },
     "metadata": {},
     "output_type": "display_data"
    }
   ],
   "source": [
    "df1['fuzzratio'].hist(bins = 200)"
   ]
  },
  {
   "cell_type": "code",
   "execution_count": 123,
   "metadata": {
    "ExecuteTime": {
     "end_time": "2016-11-10T03:35:58.556603",
     "start_time": "2016-11-10T03:35:58.356042"
    },
    "collapsed": true
   },
   "outputs": [],
   "source": [
    "df1.to_csv('df_10_category.csv')"
   ]
  },
  {
   "cell_type": "code",
   "execution_count": 125,
   "metadata": {
    "ExecuteTime": {
     "end_time": "2016-11-10T09:52:07.023887",
     "start_time": "2016-11-10T09:52:06.994824"
    },
    "collapsed": false
   },
   "outputs": [
    {
     "data": {
      "text/plain": [
       "array(['usd', 'gbp', 'cad', 'aud', 'eur', 'sek', 'nzd', 'dkk', 'chf'], dtype=object)"
      ]
     },
     "execution_count": 125,
     "metadata": {},
     "output_type": "execute_result"
    }
   ],
   "source": [
    "df['currency'].unique()"
   ]
  },
  {
   "cell_type": "code",
   "execution_count": 129,
   "metadata": {
    "ExecuteTime": {
     "end_time": "2016-11-10T09:58:46.037070",
     "start_time": "2016-11-10T09:58:46.030388"
    },
    "collapsed": false
   },
   "outputs": [],
   "source": [
    "a = df['currency'].unique()"
   ]
  },
  {
   "cell_type": "code",
   "execution_count": 132,
   "metadata": {
    "ExecuteTime": {
     "end_time": "2016-11-10T13:16:05.860174",
     "start_time": "2016-11-10T13:16:05.485342"
    },
    "collapsed": false
   },
   "outputs": [
    {
     "data": {
      "text/html": [
       "<div>\n",
       "<table border=\"1\" class=\"dataframe\">\n",
       "  <thead>\n",
       "    <tr style=\"text-align: right;\">\n",
       "      <th></th>\n",
       "      <th>Unnamed: 0</th>\n",
       "      <th>amt_pledged</th>\n",
       "      <th>blurb</th>\n",
       "      <th>category</th>\n",
       "      <th>new_category</th>\n",
       "      <th>currency</th>\n",
       "      <th>goal</th>\n",
       "      <th>location</th>\n",
       "      <th>num_backers</th>\n",
       "      <th>num_backers_tier</th>\n",
       "      <th>...</th>\n",
       "      <th>avg_tier_amount</th>\n",
       "      <th>median_tier_amount</th>\n",
       "      <th>avg_num_backers_tier</th>\n",
       "      <th>median_num_backers_tier</th>\n",
       "      <th>num_backers_bin</th>\n",
       "      <th>tier_backer_ratio</th>\n",
       "      <th>num_tiers</th>\n",
       "      <th>num_tiers_with_backers</th>\n",
       "      <th>project_updated</th>\n",
       "      <th>unique_words_ratio</th>\n",
       "    </tr>\n",
       "  </thead>\n",
       "  <tbody>\n",
       "    <tr>\n",
       "      <th>0</th>\n",
       "      <td>0</td>\n",
       "      <td>8782571.0</td>\n",
       "      <td>this is a card game for people who are into ki...</td>\n",
       "      <td>Tabletop Games</td>\n",
       "      <td>Tabletop Games</td>\n",
       "      <td>usd</td>\n",
       "      <td>10000.0</td>\n",
       "      <td>Los Angeles, CA</td>\n",
       "      <td>219382</td>\n",
       "      <td>[15505, 202934, 200, 5]</td>\n",
       "      <td>...</td>\n",
       "      <td>163.75</td>\n",
       "      <td>67.5</td>\n",
       "      <td>54661.00</td>\n",
       "      <td>7852.5</td>\n",
       "      <td>1</td>\n",
       "      <td>[7.091436307422111, 92.81480397358263, 0.09147...</td>\n",
       "      <td>4</td>\n",
       "      <td>4</td>\n",
       "      <td>0</td>\n",
       "      <td>0.894737</td>\n",
       "    </tr>\n",
       "    <tr>\n",
       "      <th>1</th>\n",
       "      <td>1</td>\n",
       "      <td>6465690.0</td>\n",
       "      <td>an unusually addicting highquality desk toy de...</td>\n",
       "      <td>Product Design</td>\n",
       "      <td>Product Design</td>\n",
       "      <td>usd</td>\n",
       "      <td>15000.0</td>\n",
       "      <td>Denver, CO</td>\n",
       "      <td>154926</td>\n",
       "      <td>[788, 250, 43073, 21796, 41727, 21627, 12215, ...</td>\n",
       "      <td>...</td>\n",
       "      <td>186.42</td>\n",
       "      <td>57.0</td>\n",
       "      <td>12894.17</td>\n",
       "      <td>5449.0</td>\n",
       "      <td>1</td>\n",
       "      <td>[0.50927421960835, 0.1615717701803141, 27.8375...</td>\n",
       "      <td>12</td>\n",
       "      <td>12</td>\n",
       "      <td>0</td>\n",
       "      <td>0.904762</td>\n",
       "    </tr>\n",
       "    <tr>\n",
       "      <th>2</th>\n",
       "      <td>2</td>\n",
       "      <td>5408916.0</td>\n",
       "      <td>bring reading rainbow’s library of interactive...</td>\n",
       "      <td>Web</td>\n",
       "      <td>Documentary</td>\n",
       "      <td>usd</td>\n",
       "      <td>1000000.0</td>\n",
       "      <td>Los Angeles, CA</td>\n",
       "      <td>105857</td>\n",
       "      <td>[19639, 14343, 9136, 2259, 5666, 24512, 4957, ...</td>\n",
       "      <td>...</td>\n",
       "      <td>1277.34</td>\n",
       "      <td>475.0</td>\n",
       "      <td>1448.44</td>\n",
       "      <td>17.0</td>\n",
       "      <td>1</td>\n",
       "      <td>[21.18554476806904, 15.472491909385115, 9.8554...</td>\n",
       "      <td>64</td>\n",
       "      <td>64</td>\n",
       "      <td>0</td>\n",
       "      <td>0.909091</td>\n",
       "    </tr>\n",
       "    <tr>\n",
       "      <th>3</th>\n",
       "      <td>3</td>\n",
       "      <td>5702153.0</td>\n",
       "      <td>updated this is it were making a veronica mars...</td>\n",
       "      <td>Narrative Film</td>\n",
       "      <td>Documentary</td>\n",
       "      <td>usd</td>\n",
       "      <td>2000000.0</td>\n",
       "      <td>San Diego, CA</td>\n",
       "      <td>91585</td>\n",
       "      <td>[5938, 8423, 11509, 22997, 23227, 1865, 7260, ...</td>\n",
       "      <td>...</td>\n",
       "      <td>1498.31</td>\n",
       "      <td>425.0</td>\n",
       "      <td>2758.59</td>\n",
       "      <td>100.0</td>\n",
       "      <td>1</td>\n",
       "      <td>[6.726706315491363, 9.541772868875672, 13.0376...</td>\n",
       "      <td>32</td>\n",
       "      <td>32</td>\n",
       "      <td>1</td>\n",
       "      <td>0.880000</td>\n",
       "    </tr>\n",
       "    <tr>\n",
       "      <th>4</th>\n",
       "      <td>4</td>\n",
       "      <td>3336371.0</td>\n",
       "      <td>an adventure game from tim schafer double fine...</td>\n",
       "      <td>Video Games</td>\n",
       "      <td>Video Games</td>\n",
       "      <td>usd</td>\n",
       "      <td>400000.0</td>\n",
       "      <td>San Francisco, CA</td>\n",
       "      <td>87142</td>\n",
       "      <td>[47946, 24636, 1090, 11530, 900, 148, 100, 10, 4]</td>\n",
       "      <td>...</td>\n",
       "      <td>1883.89</td>\n",
       "      <td>250.0</td>\n",
       "      <td>9596.00</td>\n",
       "      <td>900.0</td>\n",
       "      <td>1</td>\n",
       "      <td>[55.516187300263994, 28.52577462831735, 1.2620...</td>\n",
       "      <td>9</td>\n",
       "      <td>9</td>\n",
       "      <td>0</td>\n",
       "      <td>1.000000</td>\n",
       "    </tr>\n",
       "  </tbody>\n",
       "</table>\n",
       "<p>5 rows × 45 columns</p>\n",
       "</div>"
      ],
      "text/plain": [
       "   Unnamed: 0  amt_pledged                                              blurb  \\\n",
       "0           0    8782571.0  this is a card game for people who are into ki...   \n",
       "1           1    6465690.0  an unusually addicting highquality desk toy de...   \n",
       "2           2    5408916.0  bring reading rainbow’s library of interactive...   \n",
       "3           3    5702153.0  updated this is it were making a veronica mars...   \n",
       "4           4    3336371.0  an adventure game from tim schafer double fine...   \n",
       "\n",
       "         category    new_category currency       goal           location  \\\n",
       "0  Tabletop Games  Tabletop Games      usd    10000.0    Los Angeles, CA   \n",
       "1  Product Design  Product Design      usd    15000.0         Denver, CO   \n",
       "2             Web     Documentary      usd  1000000.0    Los Angeles, CA   \n",
       "3  Narrative Film     Documentary      usd  2000000.0      San Diego, CA   \n",
       "4     Video Games     Video Games      usd   400000.0  San Francisco, CA   \n",
       "\n",
       "   num_backers                                   num_backers_tier  \\\n",
       "0       219382                            [15505, 202934, 200, 5]   \n",
       "1       154926  [788, 250, 43073, 21796, 41727, 21627, 12215, ...   \n",
       "2       105857  [19639, 14343, 9136, 2259, 5666, 24512, 4957, ...   \n",
       "3        91585  [5938, 8423, 11509, 22997, 23227, 1865, 7260, ...   \n",
       "4        87142  [47946, 24636, 1090, 11530, 900, 148, 100, 10, 4]   \n",
       "\n",
       "         ...         avg_tier_amount median_tier_amount avg_num_backers_tier  \\\n",
       "0        ...                  163.75               67.5             54661.00   \n",
       "1        ...                  186.42               57.0             12894.17   \n",
       "2        ...                 1277.34              475.0              1448.44   \n",
       "3        ...                 1498.31              425.0              2758.59   \n",
       "4        ...                 1883.89              250.0              9596.00   \n",
       "\n",
       "   median_num_backers_tier  num_backers_bin  \\\n",
       "0                   7852.5                1   \n",
       "1                   5449.0                1   \n",
       "2                     17.0                1   \n",
       "3                    100.0                1   \n",
       "4                    900.0                1   \n",
       "\n",
       "                                   tier_backer_ratio  num_tiers  \\\n",
       "0  [7.091436307422111, 92.81480397358263, 0.09147...          4   \n",
       "1  [0.50927421960835, 0.1615717701803141, 27.8375...         12   \n",
       "2  [21.18554476806904, 15.472491909385115, 9.8554...         64   \n",
       "3  [6.726706315491363, 9.541772868875672, 13.0376...         32   \n",
       "4  [55.516187300263994, 28.52577462831735, 1.2620...          9   \n",
       "\n",
       "  num_tiers_with_backers  project_updated unique_words_ratio  \n",
       "0                      4                0           0.894737  \n",
       "1                     12                0           0.904762  \n",
       "2                     64                0           0.909091  \n",
       "3                     32                1           0.880000  \n",
       "4                      9                0           1.000000  \n",
       "\n",
       "[5 rows x 45 columns]"
      ]
     },
     "execution_count": 132,
     "metadata": {},
     "output_type": "execute_result"
    }
   ],
   "source": [
    "ks = pd.read_csv('all_data.csv', sep = '|')\n",
    "ks.head()"
   ]
  },
  {
   "cell_type": "code",
   "execution_count": 139,
   "metadata": {
    "ExecuteTime": {
     "end_time": "2016-11-10T13:59:50.323759",
     "start_time": "2016-11-10T13:59:50.309320"
    },
    "collapsed": false
   },
   "outputs": [
    {
     "data": {
      "text/html": [
       "<div>\n",
       "<table border=\"1\" class=\"dataframe\">\n",
       "  <thead>\n",
       "    <tr style=\"text-align: right;\">\n",
       "      <th></th>\n",
       "      <th>new_category</th>\n",
       "    </tr>\n",
       "  </thead>\n",
       "  <tbody>\n",
       "    <tr>\n",
       "      <th>Tabletop Games</th>\n",
       "      <td>787</td>\n",
       "    </tr>\n",
       "    <tr>\n",
       "      <th>Product Design</th>\n",
       "      <td>774</td>\n",
       "    </tr>\n",
       "    <tr>\n",
       "      <th>Documentary</th>\n",
       "      <td>659</td>\n",
       "    </tr>\n",
       "    <tr>\n",
       "      <th>Video Games</th>\n",
       "      <td>568</td>\n",
       "    </tr>\n",
       "    <tr>\n",
       "      <th>Comics</th>\n",
       "      <td>268</td>\n",
       "    </tr>\n",
       "  </tbody>\n",
       "</table>\n",
       "</div>"
      ],
      "text/plain": [
       "                new_category\n",
       "Tabletop Games           787\n",
       "Product Design           774\n",
       "Documentary              659\n",
       "Video Games              568\n",
       "Comics                   268"
      ]
     },
     "execution_count": 139,
     "metadata": {},
     "output_type": "execute_result"
    }
   ],
   "source": [
    "ks_cat.head()"
   ]
  },
  {
   "cell_type": "code",
   "execution_count": 239,
   "metadata": {
    "ExecuteTime": {
     "end_time": "2016-11-10T15:01:48.971280",
     "start_time": "2016-11-10T15:01:48.068148"
    },
    "collapsed": false
   },
   "outputs": [
    {
     "data": {
      "image/png": "[encoded data removed]",
      "text/plain": [
       "<matplotlib.figure.Figure at 0x13cdb82d0>"
      ]
     },
     "metadata": {},
     "output_type": "display_data"
    }
   ],
   "source": [
    "import matplotlib.pyplot as plt\n",
    "\n",
    "ks_cat = pd.DataFrame(ks.new_category.value_counts())\n",
    "\n",
    "ax = ks_cat.sort_values('new_category', ascending = True).plot(kind = 'barh', legend=False, \\\n",
    "                                                          color = 'limegreen', \\\n",
    "                                                         figsize = (12,5))\n",
    "\n",
    "\n",
    "ax.tick_params(axis = 'both', labelsize = 15)\n",
    "ax.set_title('Kickstarter Categories count', y = 1.01)\n",
    "plt.tight_layout()\n",
    "plt.savefig('catcount.png')"
   ]
  },
  {
   "cell_type": "code",
   "execution_count": 177,
   "metadata": {
    "ExecuteTime": {
     "end_time": "2016-11-10T14:23:19.013931",
     "start_time": "2016-11-10T14:23:18.908486"
    },
    "collapsed": false
   },
   "outputs": [
    {
     "data": {
      "text/html": [
       "<div>\n",
       "<table border=\"1\" class=\"dataframe\">\n",
       "  <thead>\n",
       "    <tr style=\"text-align: right;\">\n",
       "      <th></th>\n",
       "      <th>Unnamed: 0</th>\n",
       "      <th>amt_pledged</th>\n",
       "      <th>blurb</th>\n",
       "      <th>category</th>\n",
       "      <th>new_category</th>\n",
       "      <th>currency</th>\n",
       "      <th>goal</th>\n",
       "      <th>location</th>\n",
       "      <th>num_backers</th>\n",
       "      <th>num_backers_tier</th>\n",
       "      <th>...</th>\n",
       "      <th>avg_tier_amount</th>\n",
       "      <th>median_tier_amount</th>\n",
       "      <th>avg_num_backers_tier</th>\n",
       "      <th>median_num_backers_tier</th>\n",
       "      <th>num_backers_bin</th>\n",
       "      <th>tier_backer_ratio</th>\n",
       "      <th>num_tiers</th>\n",
       "      <th>num_tiers_with_backers</th>\n",
       "      <th>project_updated</th>\n",
       "      <th>unique_words_ratio</th>\n",
       "    </tr>\n",
       "  </thead>\n",
       "  <tbody>\n",
       "    <tr>\n",
       "      <th>0</th>\n",
       "      <td>0</td>\n",
       "      <td>8782571.0</td>\n",
       "      <td>this is a card game for people who are into ki...</td>\n",
       "      <td>Tabletop Games</td>\n",
       "      <td>Tabletop Games</td>\n",
       "      <td>usd</td>\n",
       "      <td>10000.0</td>\n",
       "      <td>Los Angeles, CA</td>\n",
       "      <td>219382</td>\n",
       "      <td>[15505, 202934, 200, 5]</td>\n",
       "      <td>...</td>\n",
       "      <td>163.75</td>\n",
       "      <td>67.5</td>\n",
       "      <td>54661.0</td>\n",
       "      <td>7852.5</td>\n",
       "      <td>1</td>\n",
       "      <td>[7.091436307422111, 92.81480397358263, 0.09147...</td>\n",
       "      <td>4</td>\n",
       "      <td>4</td>\n",
       "      <td>0</td>\n",
       "      <td>0.894737</td>\n",
       "    </tr>\n",
       "  </tbody>\n",
       "</table>\n",
       "<p>1 rows × 45 columns</p>\n",
       "</div>"
      ],
      "text/plain": [
       "   Unnamed: 0  amt_pledged                                              blurb  \\\n",
       "0           0    8782571.0  this is a card game for people who are into ki...   \n",
       "\n",
       "         category    new_category currency     goal         location  \\\n",
       "0  Tabletop Games  Tabletop Games      usd  10000.0  Los Angeles, CA   \n",
       "\n",
       "   num_backers         num_backers_tier        ...         avg_tier_amount  \\\n",
       "0       219382  [15505, 202934, 200, 5]        ...                  163.75   \n",
       "\n",
       "  median_tier_amount avg_num_backers_tier  median_num_backers_tier  \\\n",
       "0               67.5              54661.0                   7852.5   \n",
       "\n",
       "   num_backers_bin                                  tier_backer_ratio  \\\n",
       "0                1  [7.091436307422111, 92.81480397358263, 0.09147...   \n",
       "\n",
       "   num_tiers num_tiers_with_backers  project_updated unique_words_ratio  \n",
       "0          4                      4                0           0.894737  \n",
       "\n",
       "[1 rows x 45 columns]"
      ]
     },
     "execution_count": 177,
     "metadata": {},
     "output_type": "execute_result"
    }
   ],
   "source": [
    "ks.head(1)"
   ]
  },
  {
   "cell_type": "code",
   "execution_count": null,
   "metadata": {
    "collapsed": true
   },
   "outputs": [],
   "source": [
    "pd.pivot_table(df, index = [\"County\"],\\\n",
    "               values = [\"State Bottle Retail\", \"Sale (Dollars)\", 'Bottles Sold'],\\\n",
    "               aggfunc = [np.sum]).sort_values([('sum', 'Bottles Sold')], ascending = False)"
   ]
  },
  {
   "cell_type": "code",
   "execution_count": 200,
   "metadata": {
    "ExecuteTime": {
     "end_time": "2016-11-10T14:34:54.298884",
     "start_time": "2016-11-10T14:34:54.280991"
    },
    "collapsed": false
   },
   "outputs": [
    {
     "data": {
      "text/plain": [
       "['Comics',\n",
       " 'Design',\n",
       " 'Documentary',\n",
       " 'Gadgets',\n",
       " 'Hardware',\n",
       " 'Product Design',\n",
       " 'Tabletop Games',\n",
       " 'Technology',\n",
       " 'Video Games',\n",
       " 'Wearables']"
      ]
     },
     "execution_count": 200,
     "metadata": {},
     "output_type": "execute_result"
    }
   ],
   "source": [
    "cat_performance = pd.pivot_table(ks, index = ['new_category'], values = ['amt_pledged', 'goal'])\n",
    "col = list(cat_performance.index)\n",
    "col"
   ]
  },
  {
   "cell_type": "code",
   "execution_count": 225,
   "metadata": {
    "ExecuteTime": {
     "end_time": "2016-11-10T14:54:04.882984",
     "start_time": "2016-11-10T14:54:04.863951"
    },
    "collapsed": false
   },
   "outputs": [],
   "source": [
    "cat_performance1 = pd.pivot_table(ks, index = ['new_category'], values = ['amt_pledged', 'goal'])\n",
    "\n",
    "cat_performance1.reset_index(inplace = True, drop = True)\n",
    "cat_performance1 = cat_performance1.applymap(lambda x: round(x, 2))"
   ]
  },
  {
   "cell_type": "code",
   "execution_count": 226,
   "metadata": {
    "ExecuteTime": {
     "end_time": "2016-11-10T14:54:05.756789",
     "start_time": "2016-11-10T14:54:05.719506"
    },
    "collapsed": false
   },
   "outputs": [
    {
     "data": {
      "text/html": [
       "<div>\n",
       "<table border=\"1\" class=\"dataframe\">\n",
       "  <thead>\n",
       "    <tr style=\"text-align: right;\">\n",
       "      <th></th>\n",
       "      <th>amt_pledged</th>\n",
       "      <th>goal</th>\n",
       "    </tr>\n",
       "  </thead>\n",
       "  <tbody>\n",
       "    <tr>\n",
       "      <th>Comics</th>\n",
       "      <td>128828.61</td>\n",
       "      <td>55342.86</td>\n",
       "    </tr>\n",
       "    <tr>\n",
       "      <th>Design</th>\n",
       "      <td>174152.19</td>\n",
       "      <td>41998.95</td>\n",
       "    </tr>\n",
       "    <tr>\n",
       "      <th>Documentary</th>\n",
       "      <td>134619.28</td>\n",
       "      <td>84554.75</td>\n",
       "    </tr>\n",
       "    <tr>\n",
       "      <th>Gadgets</th>\n",
       "      <td>229261.88</td>\n",
       "      <td>53164.46</td>\n",
       "    </tr>\n",
       "    <tr>\n",
       "      <th>Hardware</th>\n",
       "      <td>314750.04</td>\n",
       "      <td>70731.13</td>\n",
       "    </tr>\n",
       "    <tr>\n",
       "      <th>Product Design</th>\n",
       "      <td>321704.64</td>\n",
       "      <td>39314.42</td>\n",
       "    </tr>\n",
       "    <tr>\n",
       "      <th>Tabletop Games</th>\n",
       "      <td>243823.27</td>\n",
       "      <td>26669.62</td>\n",
       "    </tr>\n",
       "    <tr>\n",
       "      <th>Technology</th>\n",
       "      <td>362232.37</td>\n",
       "      <td>66255.58</td>\n",
       "    </tr>\n",
       "    <tr>\n",
       "      <th>Video Games</th>\n",
       "      <td>140013.57</td>\n",
       "      <td>120693.45</td>\n",
       "    </tr>\n",
       "    <tr>\n",
       "      <th>Wearables</th>\n",
       "      <td>286490.57</td>\n",
       "      <td>58723.02</td>\n",
       "    </tr>\n",
       "  </tbody>\n",
       "</table>\n",
       "</div>"
      ],
      "text/plain": [
       "                amt_pledged       goal\n",
       "Comics            128828.61   55342.86\n",
       "Design            174152.19   41998.95\n",
       "Documentary       134619.28   84554.75\n",
       "Gadgets           229261.88   53164.46\n",
       "Hardware          314750.04   70731.13\n",
       "Product Design    321704.64   39314.42\n",
       "Tabletop Games    243823.27   26669.62\n",
       "Technology        362232.37   66255.58\n",
       "Video Games       140013.57  120693.45\n",
       "Wearables         286490.57   58723.02"
      ]
     },
     "execution_count": 226,
     "metadata": {},
     "output_type": "execute_result"
    }
   ],
   "source": [
    "cat_performance = cat_performance1\n",
    "cat_performance.index = col\n",
    "cat_performance.sort_values('amt_pledged', ascending = False)\n",
    "cat_performance['amt_pledged'] = cat_performance['amt_pledged'] - cat_performance['goal']\n",
    "cat_performance"
   ]
  },
  {
   "cell_type": "code",
   "execution_count": 222,
   "metadata": {
    "ExecuteTime": {
     "end_time": "2016-11-10T14:51:13.598121",
     "start_time": "2016-11-10T14:51:13.567733"
    },
    "collapsed": false
   },
   "outputs": [
    {
     "data": {
      "text/html": [
       "<div>\n",
       "<table border=\"1\" class=\"dataframe\">\n",
       "  <thead>\n",
       "    <tr style=\"text-align: right;\">\n",
       "      <th></th>\n",
       "      <th>amt_pledged</th>\n",
       "      <th>goal</th>\n",
       "    </tr>\n",
       "  </thead>\n",
       "  <tbody>\n",
       "    <tr>\n",
       "      <th>Comics</th>\n",
       "      <td>128828.61</td>\n",
       "      <td>55342.86</td>\n",
       "    </tr>\n",
       "    <tr>\n",
       "      <th>Documentary</th>\n",
       "      <td>134619.28</td>\n",
       "      <td>84554.75</td>\n",
       "    </tr>\n",
       "    <tr>\n",
       "      <th>Video Games</th>\n",
       "      <td>140013.57</td>\n",
       "      <td>120693.45</td>\n",
       "    </tr>\n",
       "    <tr>\n",
       "      <th>Design</th>\n",
       "      <td>174152.19</td>\n",
       "      <td>41998.95</td>\n",
       "    </tr>\n",
       "    <tr>\n",
       "      <th>Gadgets</th>\n",
       "      <td>229261.88</td>\n",
       "      <td>53164.46</td>\n",
       "    </tr>\n",
       "    <tr>\n",
       "      <th>Tabletop Games</th>\n",
       "      <td>243823.27</td>\n",
       "      <td>26669.62</td>\n",
       "    </tr>\n",
       "    <tr>\n",
       "      <th>Wearables</th>\n",
       "      <td>286490.57</td>\n",
       "      <td>58723.02</td>\n",
       "    </tr>\n",
       "    <tr>\n",
       "      <th>Hardware</th>\n",
       "      <td>314750.04</td>\n",
       "      <td>70731.13</td>\n",
       "    </tr>\n",
       "    <tr>\n",
       "      <th>Product Design</th>\n",
       "      <td>321704.64</td>\n",
       "      <td>39314.42</td>\n",
       "    </tr>\n",
       "    <tr>\n",
       "      <th>Technology</th>\n",
       "      <td>362232.37</td>\n",
       "      <td>66255.58</td>\n",
       "    </tr>\n",
       "  </tbody>\n",
       "</table>\n",
       "</div>"
      ],
      "text/plain": [
       "                amt_pledged       goal\n",
       "Comics            128828.61   55342.86\n",
       "Documentary       134619.28   84554.75\n",
       "Video Games       140013.57  120693.45\n",
       "Design            174152.19   41998.95\n",
       "Gadgets           229261.88   53164.46\n",
       "Tabletop Games    243823.27   26669.62\n",
       "Wearables         286490.57   58723.02\n",
       "Hardware          314750.04   70731.13\n",
       "Product Design    321704.64   39314.42\n",
       "Technology        362232.37   66255.58"
      ]
     },
     "execution_count": 222,
     "metadata": {},
     "output_type": "execute_result"
    }
   ],
   "source": [
    "cat_performance.sort_values('amt_pledged', ascending = True, inplace = True)\n",
    "cat_performance"
   ]
  },
  {
   "cell_type": "code",
   "execution_count": 223,
   "metadata": {
    "ExecuteTime": {
     "end_time": "2016-11-10T14:51:15.633397",
     "start_time": "2016-11-10T14:51:14.740456"
    },
    "collapsed": false
   },
   "outputs": [
    {
     "data": {
      "image/png": "[encoded data removed]",
      "text/plain": [
       "<matplotlib.figure.Figure at 0x13032c550>"
      ]
     },
     "metadata": {},
     "output_type": "display_data"
    }
   ],
   "source": [
    "ax = cat_performance[['goal', 'amt_pledged']].plot.barh(stacked = True, color=['purple','limegreen'])\n",
    "ax.tick_params(axis = 'both', labelsize = 15)\n",
    "ax.set_title('Categories performance', y = 1.01)\n",
    "plt.tight_layout()\n",
    "plt.savefig('catperform.png')"
   ]
  },
  {
   "cell_type": "code",
   "execution_count": 237,
   "metadata": {
    "ExecuteTime": {
     "end_time": "2016-11-10T14:58:31.903566",
     "start_time": "2016-11-10T14:58:31.894864"
    },
    "collapsed": false
   },
   "outputs": [],
   "source": [
    "cat_performance1['pledged_goal_ratio'] = cat_performance1['amt_pledged'] / cat_performance1['goal']\n",
    "cp = cat_performance1['pledged_goal_ratio'].sort_values(ascending = True)"
   ]
  },
  {
   "cell_type": "code",
   "execution_count": 240,
   "metadata": {
    "ExecuteTime": {
     "end_time": "2016-11-10T15:14:15.534138",
     "start_time": "2016-11-10T15:14:14.536242"
    },
    "collapsed": false
   },
   "outputs": [
    {
     "data": {
      "image/png": "[encoded data removed]",
      "text/plain": [
       "<matplotlib.figure.Figure at 0x13d3884d0>"
      ]
     },
     "metadata": {},
     "output_type": "display_data"
    }
   ],
   "source": [
    "ax = cp.plot.barh(color='limegreen')\n",
    "ax.tick_params(axis = 'both', labelsize = 15)\n",
    "ax.set_title('Amount pledged to goal ratio', y = 1.01)\n",
    "ax.set_xlim(1,10)\n",
    "plt.tight_layout()\n",
    "plt.savefig('catpledgeratio.png')"
   ]
  },
  {
   "cell_type": "code",
   "execution_count": null,
   "metadata": {
    "collapsed": true
   },
   "outputs": [],
   "source": []
  }
 ],
 "metadata": {
  "anaconda-cloud": {},
  "kernelspec": {
   "display_name": "Python [Root]",
   "language": "python",
   "name": "Python [Root]"
  },
  "language_info": {
   "codemirror_mode": {
    "name": "ipython",
    "version": 2
   },
   "file_extension": ".py",
   "mimetype": "text/x-python",
   "name": "python",
   "nbconvert_exporter": "python",
   "pygments_lexer": "ipython2",
   "version": "2.7.12"
  },
  "toc": {
   "nav_menu": {
    "height": "12px",
    "width": "252px"
   },
   "navigate_menu": true,
   "number_sections": true,
   "sideBar": true,
   "threshold": 4,
   "toc_cell": false,
   "toc_section_display": "block",
   "toc_window_display": false
  }
 },
 "nbformat": 4,
 "nbformat_minor": 0
}
